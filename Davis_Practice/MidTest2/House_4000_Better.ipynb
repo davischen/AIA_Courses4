{
 "cells": [
  {
   "cell_type": "code",
   "execution_count": 1,
   "metadata": {},
   "outputs": [
    {
     "name": "stderr",
     "output_type": "stream",
     "text": [
      "/opt/conda/lib/python3.6/site-packages/sklearn/ensemble/weight_boosting.py:29: DeprecationWarning: numpy.core.umath_tests is an internal NumPy module and should not be imported. It will be removed in a future NumPy release.\n",
      "  from numpy.core.umath_tests import inner1d\n"
     ]
    }
   ],
   "source": [
    "# import libraries\n",
    "import numpy as np\n",
    "import pandas as pd\n",
    "import matplotlib.pyplot as plt\n",
    "import seaborn as sns\n",
    "from scipy.stats import skew\n",
    "from sklearn.linear_model import LinearRegression, RidgeCV, LassoCV, ElasticNetCV\n",
    "from sklearn.model_selection import cross_val_score\n",
    "from sklearn.metrics import mean_squared_error\n",
    "from sklearn import metrics\n",
    "from sklearn.ensemble import RandomForestClassifier\n",
    "%matplotlib inline\n",
    "\n",
    "#參考文章：https://www.kaggle.com/nishimoto/very-simple-linear-models-pls"
   ]
  },
  {
   "cell_type": "code",
   "execution_count": 2,
   "metadata": {},
   "outputs": [],
   "source": [
    "train = pd.read_csv(\"train.csv\")\n",
    "test = pd.read_csv(\"test.csv\")\n"
   ]
  },
  {
   "cell_type": "code",
   "execution_count": 3,
   "metadata": {},
   "outputs": [],
   "source": [
    "train = pd.read_csv('train.csv')\n",
    "test = pd.read_csv('test.csv')\n",
    "testID = test['building_id']\n",
    "\n",
    "#data = pd.concat([train.drop('SalePrice', axis=1), test], keys=['train', 'test'])\n",
    "#data.drop(['Id'], axis=1, inplace=True)\n",
    "#df_all = pd.concat([train.drop('SalePrice', axis=1), test], keys=['train', 'test'])\n",
    "#df_all.drop(['Id'], axis=1, inplace=True)"
   ]
  },
  {
   "cell_type": "code",
   "execution_count": null,
   "metadata": {},
   "outputs": [],
   "source": []
  },
  {
   "cell_type": "code",
   "execution_count": 4,
   "metadata": {},
   "outputs": [
    {
     "name": "stdout",
     "output_type": "stream",
     "text": [
      "train shape : (60000, 235)\n",
      " test shape : (10000, 234)\n"
     ]
    }
   ],
   "source": [
    "print(f\"train shape : {train.shape}\")\n",
    "print(f\" test shape : {test.shape}\")"
   ]
  },
  {
   "cell_type": "code",
   "execution_count": 5,
   "metadata": {},
   "outputs": [
    {
     "name": "stdout",
     "output_type": "stream",
     "text": [
      "<class 'pandas.core.frame.DataFrame'>\n",
      "RangeIndex: 60000 entries, 0 to 59999\n",
      "Columns: 235 entries, building_id to total_price\n",
      "dtypes: float64(37), int64(197), object(1)\n",
      "memory usage: 107.6+ MB\n"
     ]
    }
   ],
   "source": [
    "#瞭解資料型別\n",
    "train.info()"
   ]
  },
  {
   "cell_type": "code",
   "execution_count": 6,
   "metadata": {},
   "outputs": [],
   "source": [
    "#train.corr('kendall')"
   ]
  },
  {
   "cell_type": "code",
   "execution_count": 7,
   "metadata": {},
   "outputs": [
    {
     "name": "stdout",
     "output_type": "stream",
     "text": [
      "categorical features: (4, 1)\n"
     ]
    },
    {
     "data": {
      "text/html": [
       "<div>\n",
       "<style scoped>\n",
       "    .dataframe tbody tr th:only-of-type {\n",
       "        vertical-align: middle;\n",
       "    }\n",
       "\n",
       "    .dataframe tbody tr th {\n",
       "        vertical-align: top;\n",
       "    }\n",
       "\n",
       "    .dataframe thead th {\n",
       "        text-align: right;\n",
       "    }\n",
       "</style>\n",
       "<table border=\"1\" class=\"dataframe\">\n",
       "  <thead>\n",
       "    <tr style=\"text-align: right;\">\n",
       "      <th></th>\n",
       "      <th>building_id</th>\n",
       "    </tr>\n",
       "  </thead>\n",
       "  <tbody>\n",
       "    <tr>\n",
       "      <th>count</th>\n",
       "      <td>60000</td>\n",
       "    </tr>\n",
       "    <tr>\n",
       "      <th>unique</th>\n",
       "      <td>60000</td>\n",
       "    </tr>\n",
       "    <tr>\n",
       "      <th>top</th>\n",
       "      <td>QIA5BXhswvJpRGq0</td>\n",
       "    </tr>\n",
       "    <tr>\n",
       "      <th>freq</th>\n",
       "      <td>1</td>\n",
       "    </tr>\n",
       "  </tbody>\n",
       "</table>\n",
       "</div>"
      ],
      "text/plain": [
       "             building_id\n",
       "count              60000\n",
       "unique             60000\n",
       "top     QIA5BXhswvJpRGq0\n",
       "freq                   1"
      ]
     },
     "execution_count": 7,
     "metadata": {},
     "output_type": "execute_result"
    }
   ],
   "source": [
    "# 描述data物件型態的統計資訊（個數、種類、出現頻率最高的種類及其次數）\n",
    "print(f\"categorical features: {train.describe(include='O').shape}\")\n",
    "# 查詢非數值資訊\n",
    "train.describe(include=\"O\")"
   ]
  },
  {
   "cell_type": "code",
   "execution_count": 8,
   "metadata": {},
   "outputs": [
    {
     "data": {
      "text/html": [
       "<div>\n",
       "<style scoped>\n",
       "    .dataframe tbody tr th:only-of-type {\n",
       "        vertical-align: middle;\n",
       "    }\n",
       "\n",
       "    .dataframe tbody tr th {\n",
       "        vertical-align: top;\n",
       "    }\n",
       "\n",
       "    .dataframe thead th {\n",
       "        text-align: right;\n",
       "    }\n",
       "</style>\n",
       "<table border=\"1\" class=\"dataframe\">\n",
       "  <thead>\n",
       "    <tr style=\"text-align: right;\">\n",
       "      <th></th>\n",
       "      <th>building_material</th>\n",
       "      <th>city</th>\n",
       "      <th>txn_dt</th>\n",
       "      <th>total_floor</th>\n",
       "      <th>building_type</th>\n",
       "      <th>building_use</th>\n",
       "      <th>building_complete_dt</th>\n",
       "      <th>parking_way</th>\n",
       "      <th>parking_area</th>\n",
       "      <th>parking_price</th>\n",
       "      <th>...</th>\n",
       "      <th>XIV_500</th>\n",
       "      <th>XIV_index_500</th>\n",
       "      <th>XIV_1000</th>\n",
       "      <th>XIV_index_1000</th>\n",
       "      <th>XIV_5000</th>\n",
       "      <th>XIV_index_5000</th>\n",
       "      <th>XIV_10000</th>\n",
       "      <th>XIV_index_10000</th>\n",
       "      <th>XIV_MIN</th>\n",
       "      <th>total_price</th>\n",
       "    </tr>\n",
       "  </thead>\n",
       "  <tbody>\n",
       "    <tr>\n",
       "      <th>count</th>\n",
       "      <td>60000.000000</td>\n",
       "      <td>60000.000000</td>\n",
       "      <td>60000.000000</td>\n",
       "      <td>60000.000000</td>\n",
       "      <td>60000.000000</td>\n",
       "      <td>60000.000000</td>\n",
       "      <td>60000.000000</td>\n",
       "      <td>60000.000000</td>\n",
       "      <td>3103.000000</td>\n",
       "      <td>1.393500e+04</td>\n",
       "      <td>...</td>\n",
       "      <td>60000.000000</td>\n",
       "      <td>60000.000000</td>\n",
       "      <td>60000.000000</td>\n",
       "      <td>60000.000000</td>\n",
       "      <td>60000.000000</td>\n",
       "      <td>60000.0</td>\n",
       "      <td>60000.000000</td>\n",
       "      <td>60000.0</td>\n",
       "      <td>60000.000000</td>\n",
       "      <td>6.000000e+04</td>\n",
       "    </tr>\n",
       "    <tr>\n",
       "      <th>mean</th>\n",
       "      <td>7.267917</td>\n",
       "      <td>11.414533</td>\n",
       "      <td>19488.957917</td>\n",
       "      <td>7.638250</td>\n",
       "      <td>1.931817</td>\n",
       "      <td>2.319200</td>\n",
       "      <td>11050.437183</td>\n",
       "      <td>1.585700</td>\n",
       "      <td>7.211837</td>\n",
       "      <td>5.025058e+04</td>\n",
       "      <td>...</td>\n",
       "      <td>60.867700</td>\n",
       "      <td>0.995800</td>\n",
       "      <td>252.823100</td>\n",
       "      <td>0.999867</td>\n",
       "      <td>5276.668033</td>\n",
       "      <td>1.0</td>\n",
       "      <td>16474.836600</td>\n",
       "      <td>1.0</td>\n",
       "      <td>101.044751</td>\n",
       "      <td>1.293727e+07</td>\n",
       "    </tr>\n",
       "    <tr>\n",
       "      <th>std</th>\n",
       "      <td>2.170741</td>\n",
       "      <td>4.751677</td>\n",
       "      <td>727.331019</td>\n",
       "      <td>5.070314</td>\n",
       "      <td>1.589972</td>\n",
       "      <td>1.399528</td>\n",
       "      <td>4344.018090</td>\n",
       "      <td>0.778952</td>\n",
       "      <td>20.453902</td>\n",
       "      <td>3.973488e+04</td>\n",
       "      <td>...</td>\n",
       "      <td>88.512972</td>\n",
       "      <td>0.064672</td>\n",
       "      <td>322.694074</td>\n",
       "      <td>0.011546</td>\n",
       "      <td>3856.219059</td>\n",
       "      <td>0.0</td>\n",
       "      <td>8998.020659</td>\n",
       "      <td>0.0</td>\n",
       "      <td>80.216061</td>\n",
       "      <td>5.522463e+07</td>\n",
       "    </tr>\n",
       "    <tr>\n",
       "      <th>min</th>\n",
       "      <td>1.000000</td>\n",
       "      <td>3.000000</td>\n",
       "      <td>18112.000000</td>\n",
       "      <td>1.000000</td>\n",
       "      <td>0.000000</td>\n",
       "      <td>0.000000</td>\n",
       "      <td>123.000000</td>\n",
       "      <td>0.000000</td>\n",
       "      <td>0.000000</td>\n",
       "      <td>0.000000e+00</td>\n",
       "      <td>...</td>\n",
       "      <td>0.000000</td>\n",
       "      <td>0.000000</td>\n",
       "      <td>0.000000</td>\n",
       "      <td>0.000000</td>\n",
       "      <td>19.000000</td>\n",
       "      <td>1.0</td>\n",
       "      <td>30.000000</td>\n",
       "      <td>1.0</td>\n",
       "      <td>0.064766</td>\n",
       "      <td>2.261495e+05</td>\n",
       "    </tr>\n",
       "    <tr>\n",
       "      <th>25%</th>\n",
       "      <td>8.000000</td>\n",
       "      <td>7.000000</td>\n",
       "      <td>18892.750000</td>\n",
       "      <td>4.000000</td>\n",
       "      <td>0.000000</td>\n",
       "      <td>2.000000</td>\n",
       "      <td>7186.000000</td>\n",
       "      <td>2.000000</td>\n",
       "      <td>3.738412</td>\n",
       "      <td>2.827238e+04</td>\n",
       "      <td>...</td>\n",
       "      <td>20.000000</td>\n",
       "      <td>1.000000</td>\n",
       "      <td>88.000000</td>\n",
       "      <td>1.000000</td>\n",
       "      <td>2672.000000</td>\n",
       "      <td>1.0</td>\n",
       "      <td>8859.000000</td>\n",
       "      <td>1.0</td>\n",
       "      <td>49.182384</td>\n",
       "      <td>2.433114e+06</td>\n",
       "    </tr>\n",
       "    <tr>\n",
       "      <th>50%</th>\n",
       "      <td>8.000000</td>\n",
       "      <td>12.000000</td>\n",
       "      <td>19527.000000</td>\n",
       "      <td>5.000000</td>\n",
       "      <td>1.000000</td>\n",
       "      <td>2.000000</td>\n",
       "      <td>11507.000000</td>\n",
       "      <td>2.000000</td>\n",
       "      <td>5.758023</td>\n",
       "      <td>4.379195e+04</td>\n",
       "      <td>...</td>\n",
       "      <td>36.000000</td>\n",
       "      <td>1.000000</td>\n",
       "      <td>154.000000</td>\n",
       "      <td>1.000000</td>\n",
       "      <td>3942.000000</td>\n",
       "      <td>1.0</td>\n",
       "      <td>14344.000000</td>\n",
       "      <td>1.0</td>\n",
       "      <td>83.216237</td>\n",
       "      <td>5.240482e+06</td>\n",
       "    </tr>\n",
       "    <tr>\n",
       "      <th>75%</th>\n",
       "      <td>8.000000</td>\n",
       "      <td>13.000000</td>\n",
       "      <td>20125.000000</td>\n",
       "      <td>12.000000</td>\n",
       "      <td>4.000000</td>\n",
       "      <td>2.000000</td>\n",
       "      <td>14519.000000</td>\n",
       "      <td>2.000000</td>\n",
       "      <td>7.180619</td>\n",
       "      <td>6.148857e+04</td>\n",
       "      <td>...</td>\n",
       "      <td>64.000000</td>\n",
       "      <td>1.000000</td>\n",
       "      <td>275.000000</td>\n",
       "      <td>1.000000</td>\n",
       "      <td>6647.000000</td>\n",
       "      <td>1.0</td>\n",
       "      <td>23459.250000</td>\n",
       "      <td>1.0</td>\n",
       "      <td>130.779416</td>\n",
       "      <td>1.123932e+07</td>\n",
       "    </tr>\n",
       "    <tr>\n",
       "      <th>max</th>\n",
       "      <td>11.000000</td>\n",
       "      <td>21.000000</td>\n",
       "      <td>20665.000000</td>\n",
       "      <td>29.000000</td>\n",
       "      <td>4.000000</td>\n",
       "      <td>10.000000</td>\n",
       "      <td>20577.000000</td>\n",
       "      <td>2.000000</td>\n",
       "      <td>967.370868</td>\n",
       "      <td>1.020404e+06</td>\n",
       "      <td>...</td>\n",
       "      <td>1681.000000</td>\n",
       "      <td>1.000000</td>\n",
       "      <td>3463.000000</td>\n",
       "      <td>1.000000</td>\n",
       "      <td>18268.000000</td>\n",
       "      <td>1.0</td>\n",
       "      <td>32908.000000</td>\n",
       "      <td>1.0</td>\n",
       "      <td>1106.382478</td>\n",
       "      <td>5.088279e+09</td>\n",
       "    </tr>\n",
       "  </tbody>\n",
       "</table>\n",
       "<p>8 rows × 234 columns</p>\n",
       "</div>"
      ],
      "text/plain": [
       "       building_material          city        txn_dt   total_floor  \\\n",
       "count       60000.000000  60000.000000  60000.000000  60000.000000   \n",
       "mean            7.267917     11.414533  19488.957917      7.638250   \n",
       "std             2.170741      4.751677    727.331019      5.070314   \n",
       "min             1.000000      3.000000  18112.000000      1.000000   \n",
       "25%             8.000000      7.000000  18892.750000      4.000000   \n",
       "50%             8.000000     12.000000  19527.000000      5.000000   \n",
       "75%             8.000000     13.000000  20125.000000     12.000000   \n",
       "max            11.000000     21.000000  20665.000000     29.000000   \n",
       "\n",
       "       building_type  building_use  building_complete_dt   parking_way  \\\n",
       "count   60000.000000  60000.000000          60000.000000  60000.000000   \n",
       "mean        1.931817      2.319200          11050.437183      1.585700   \n",
       "std         1.589972      1.399528           4344.018090      0.778952   \n",
       "min         0.000000      0.000000            123.000000      0.000000   \n",
       "25%         0.000000      2.000000           7186.000000      2.000000   \n",
       "50%         1.000000      2.000000          11507.000000      2.000000   \n",
       "75%         4.000000      2.000000          14519.000000      2.000000   \n",
       "max         4.000000     10.000000          20577.000000      2.000000   \n",
       "\n",
       "       parking_area  parking_price      ...            XIV_500  XIV_index_500  \\\n",
       "count   3103.000000   1.393500e+04      ...       60000.000000   60000.000000   \n",
       "mean       7.211837   5.025058e+04      ...          60.867700       0.995800   \n",
       "std       20.453902   3.973488e+04      ...          88.512972       0.064672   \n",
       "min        0.000000   0.000000e+00      ...           0.000000       0.000000   \n",
       "25%        3.738412   2.827238e+04      ...          20.000000       1.000000   \n",
       "50%        5.758023   4.379195e+04      ...          36.000000       1.000000   \n",
       "75%        7.180619   6.148857e+04      ...          64.000000       1.000000   \n",
       "max      967.370868   1.020404e+06      ...        1681.000000       1.000000   \n",
       "\n",
       "           XIV_1000  XIV_index_1000      XIV_5000  XIV_index_5000  \\\n",
       "count  60000.000000    60000.000000  60000.000000         60000.0   \n",
       "mean     252.823100        0.999867   5276.668033             1.0   \n",
       "std      322.694074        0.011546   3856.219059             0.0   \n",
       "min        0.000000        0.000000     19.000000             1.0   \n",
       "25%       88.000000        1.000000   2672.000000             1.0   \n",
       "50%      154.000000        1.000000   3942.000000             1.0   \n",
       "75%      275.000000        1.000000   6647.000000             1.0   \n",
       "max     3463.000000        1.000000  18268.000000             1.0   \n",
       "\n",
       "          XIV_10000  XIV_index_10000       XIV_MIN   total_price  \n",
       "count  60000.000000          60000.0  60000.000000  6.000000e+04  \n",
       "mean   16474.836600              1.0    101.044751  1.293727e+07  \n",
       "std     8998.020659              0.0     80.216061  5.522463e+07  \n",
       "min       30.000000              1.0      0.064766  2.261495e+05  \n",
       "25%     8859.000000              1.0     49.182384  2.433114e+06  \n",
       "50%    14344.000000              1.0     83.216237  5.240482e+06  \n",
       "75%    23459.250000              1.0    130.779416  1.123932e+07  \n",
       "max    32908.000000              1.0   1106.382478  5.088279e+09  \n",
       "\n",
       "[8 rows x 234 columns]"
      ]
     },
     "execution_count": 8,
     "metadata": {},
     "output_type": "execute_result"
    }
   ],
   "source": [
    "# 瞭解資料的分佈情況\n",
    "train.describe()"
   ]
  },
  {
   "cell_type": "code",
   "execution_count": 9,
   "metadata": {},
   "outputs": [],
   "source": [
    "#train.max(axis = 0) "
   ]
  },
  {
   "cell_type": "markdown",
   "metadata": {},
   "source": [
    "## EDA (Drop Outlier)"
   ]
  },
  {
   "cell_type": "code",
   "execution_count": 10,
   "metadata": {},
   "outputs": [],
   "source": [
    "# 描述data數值型態的統計資訊（個數、平均、標準差、最小值、\n",
    "#                           第一四分位數、第二四分位數、第三四分位數\n",
    "#                           、最大值）\n",
    "#print(f\"numerical feature: {train['Utilities'].describe().shape}\")\n",
    "      \n"
   ]
  },
  {
   "cell_type": "code",
   "execution_count": 11,
   "metadata": {},
   "outputs": [],
   "source": [
    "## EDA (Drop Outlier)"
   ]
  },
  {
   "cell_type": "code",
   "execution_count": null,
   "metadata": {},
   "outputs": [],
   "source": []
  },
  {
   "cell_type": "code",
   "execution_count": 12,
   "metadata": {},
   "outputs": [
    {
     "name": "stdout",
     "output_type": "stream",
     "text": [
      "2088     7.438093e+08\n",
      "2138     4.357039e+09\n",
      "2317     3.378167e+09\n",
      "5672     1.145063e+09\n",
      "8340     8.386713e+08\n",
      "9491     2.038068e+09\n",
      "11066    5.198605e+08\n",
      "11262    1.190981e+09\n",
      "11327    1.065516e+09\n",
      "12693    1.783530e+09\n",
      "12700    6.528219e+08\n",
      "13096    7.206928e+08\n",
      "13592    7.115146e+08\n",
      "14009    6.751965e+08\n",
      "14944    6.307002e+08\n",
      "16817    5.658819e+08\n",
      "16846    7.907659e+08\n",
      "17899    7.577955e+08\n",
      "19035    1.083906e+09\n",
      "21239    5.658819e+08\n",
      "22447    7.280174e+08\n",
      "23135    6.978210e+08\n",
      "23374    1.226498e+09\n",
      "23716    6.528219e+08\n",
      "24635    1.039427e+09\n",
      "24667    7.789370e+08\n",
      "25263    5.075368e+08\n",
      "25536    1.309777e+09\n",
      "26627    1.172001e+09\n",
      "27497    1.783530e+09\n",
      "             ...     \n",
      "37480    1.973377e+09\n",
      "39024    1.118336e+09\n",
      "39191    1.909385e+09\n",
      "41331    1.613896e+09\n",
      "41914    9.372557e+08\n",
      "42961    1.078641e+09\n",
      "43646    6.978210e+08\n",
      "45316    1.091819e+09\n",
      "45607    7.839925e+08\n",
      "45951    1.091819e+09\n",
      "46934    2.169519e+09\n",
      "47172    1.400595e+09\n",
      "48767    1.423615e+09\n",
      "49179    8.875563e+08\n",
      "50076    2.038068e+09\n",
      "51324    6.978210e+08\n",
      "51349    1.091819e+09\n",
      "51906    1.065516e+09\n",
      "52175    6.528219e+08\n",
      "52733    1.091819e+09\n",
      "53345    5.658819e+08\n",
      "53844    5.448018e+08\n",
      "53966    1.721746e+09\n",
      "54016    7.671678e+08\n",
      "56602    7.907659e+08\n",
      "57037    5.448018e+08\n",
      "58278    1.039427e+09\n",
      "58335    5.574178e+08\n",
      "58858    3.378167e+09\n",
      "59398    1.091819e+09\n",
      "Name: total_price, Length: 71, dtype: float64\n"
     ]
    }
   ],
   "source": [
    "# drop掉離群值\n",
    "#https://www.kaggle.com/agehsbarg/top-10-0-10943-stacking-mice-and-brutal-force\n",
    "\n",
    "print( train[(train['total_price']>500000000) ].total_price )"
   ]
  },
  {
   "cell_type": "code",
   "execution_count": 13,
   "metadata": {},
   "outputs": [],
   "source": [
    "#print( train[(train['total_price']<1000000) ].total_price )"
   ]
  },
  {
   "cell_type": "code",
   "execution_count": 14,
   "metadata": {},
   "outputs": [
    {
     "name": "stderr",
     "output_type": "stream",
     "text": [
      "/opt/conda/lib/python3.6/site-packages/scipy/stats/stats.py:1713: FutureWarning: Using a non-tuple sequence for multidimensional indexing is deprecated; use `arr[tuple(seq)]` instead of `arr[seq]`. In the future this will be interpreted as an array index, `arr[np.array(seq)]`, which will result either in an error or a different result.\n",
      "  return np.add.reduce(sorted[indexer] * weights, axis=axis) / sumval\n"
     ]
    },
    {
     "data": {
      "text/plain": [
       "<matplotlib.axes._subplots.AxesSubplot at 0x7f2f108416a0>"
      ]
     },
     "execution_count": 14,
     "metadata": {},
     "output_type": "execute_result"
    },
    {
     "data": {
      "image/png": "[encoded data removed]",
      "text/plain": [
       "<Figure size 432x288 with 1 Axes>"
      ]
     },
     "metadata": {
      "needs_background": "light"
     },
     "output_type": "display_data"
    }
   ],
   "source": [
    "#價錢的分佈\n",
    "#價錢的分佈\n",
    "sns.distplot(train[(train['total_price']<300000000)].total_price )"
   ]
  },
  {
   "cell_type": "code",
   "execution_count": 15,
   "metadata": {},
   "outputs": [
    {
     "name": "stderr",
     "output_type": "stream",
     "text": [
      "/opt/conda/lib/python3.6/site-packages/scipy/stats/stats.py:1713: FutureWarning: Using a non-tuple sequence for multidimensional indexing is deprecated; use `arr[tuple(seq)]` instead of `arr[seq]`. In the future this will be interpreted as an array index, `arr[np.array(seq)]`, which will result either in an error or a different result.\n",
      "  return np.add.reduce(sorted[indexer] * weights, axis=axis) / sumval\n"
     ]
    },
    {
     "data": {
      "text/plain": [
       "<matplotlib.axes._subplots.AxesSubplot at 0x7f2f106a29b0>"
      ]
     },
     "execution_count": 15,
     "metadata": {},
     "output_type": "execute_result"
    },
    {
     "data": {
      "image/png": "[encoded data removed]",
      "text/plain": [
       "<Figure size 432x288 with 1 Axes>"
      ]
     },
     "metadata": {
      "needs_background": "light"
     },
     "output_type": "display_data"
    }
   ],
   "source": [
    "# 一些右偏分佈的 feature，可透過取 log 將其轉為常態分佈\n",
    "sns.distplot(np.log(train[(train['total_price']<300000000)].total_price))"
   ]
  },
  {
   "cell_type": "code",
   "execution_count": 16,
   "metadata": {},
   "outputs": [],
   "source": [
    "train = train.drop( labels = train[  (train['total_price']>300000000) ].index, axis = 0 )"
   ]
  },
  {
   "cell_type": "code",
   "execution_count": 17,
   "metadata": {},
   "outputs": [
    {
     "name": "stderr",
     "output_type": "stream",
     "text": [
      "/opt/conda/lib/python3.6/site-packages/scipy/stats/stats.py:1713: FutureWarning: Using a non-tuple sequence for multidimensional indexing is deprecated; use `arr[tuple(seq)]` instead of `arr[seq]`. In the future this will be interpreted as an array index, `arr[np.array(seq)]`, which will result either in an error or a different result.\n",
      "  return np.add.reduce(sorted[indexer] * weights, axis=axis) / sumval\n"
     ]
    },
    {
     "data": {
      "text/plain": [
       "<matplotlib.axes._subplots.AxesSubplot at 0x7f2f10311ef0>"
      ]
     },
     "execution_count": 17,
     "metadata": {},
     "output_type": "execute_result"
    },
    {
     "data": {
      "image/png": "[encoded data removed]",
      "text/plain": [
       "<Figure size 432x288 with 1 Axes>"
      ]
     },
     "metadata": {
      "needs_background": "light"
     },
     "output_type": "display_data"
    }
   ],
   "source": [
    "#價錢的分佈\n",
    "sns.distplot(train.total_price)"
   ]
  },
  {
   "cell_type": "code",
   "execution_count": 18,
   "metadata": {},
   "outputs": [
    {
     "data": {
      "text/html": [
       "<div>\n",
       "<style scoped>\n",
       "    .dataframe tbody tr th:only-of-type {\n",
       "        vertical-align: middle;\n",
       "    }\n",
       "\n",
       "    .dataframe tbody tr th {\n",
       "        vertical-align: top;\n",
       "    }\n",
       "\n",
       "    .dataframe thead th {\n",
       "        text-align: right;\n",
       "    }\n",
       "</style>\n",
       "<table border=\"1\" class=\"dataframe\">\n",
       "  <thead>\n",
       "    <tr style=\"text-align: right;\">\n",
       "      <th></th>\n",
       "      <th>building_material</th>\n",
       "      <th>city</th>\n",
       "      <th>txn_dt</th>\n",
       "      <th>total_floor</th>\n",
       "      <th>building_type</th>\n",
       "      <th>building_use</th>\n",
       "      <th>building_complete_dt</th>\n",
       "      <th>parking_way</th>\n",
       "      <th>parking_area</th>\n",
       "      <th>parking_price</th>\n",
       "      <th>...</th>\n",
       "      <th>XIV_500</th>\n",
       "      <th>XIV_index_500</th>\n",
       "      <th>XIV_1000</th>\n",
       "      <th>XIV_index_1000</th>\n",
       "      <th>XIV_5000</th>\n",
       "      <th>XIV_index_5000</th>\n",
       "      <th>XIV_10000</th>\n",
       "      <th>XIV_index_10000</th>\n",
       "      <th>XIV_MIN</th>\n",
       "      <th>total_price</th>\n",
       "    </tr>\n",
       "  </thead>\n",
       "  <tbody>\n",
       "    <tr>\n",
       "      <th>count</th>\n",
       "      <td>59847.000000</td>\n",
       "      <td>59847.000000</td>\n",
       "      <td>59847.000000</td>\n",
       "      <td>59847.000000</td>\n",
       "      <td>59847.000000</td>\n",
       "      <td>59847.000000</td>\n",
       "      <td>59847.000000</td>\n",
       "      <td>59847.000000</td>\n",
       "      <td>3085.000000</td>\n",
       "      <td>1.384600e+04</td>\n",
       "      <td>...</td>\n",
       "      <td>59847.000000</td>\n",
       "      <td>59847.000000</td>\n",
       "      <td>59847.000000</td>\n",
       "      <td>59847.000000</td>\n",
       "      <td>59847.000000</td>\n",
       "      <td>59847.0</td>\n",
       "      <td>59847.000000</td>\n",
       "      <td>59847.0</td>\n",
       "      <td>59847.000000</td>\n",
       "      <td>5.984700e+04</td>\n",
       "    </tr>\n",
       "    <tr>\n",
       "      <th>mean</th>\n",
       "      <td>7.265744</td>\n",
       "      <td>11.412669</td>\n",
       "      <td>19489.376978</td>\n",
       "      <td>7.634351</td>\n",
       "      <td>1.932461</td>\n",
       "      <td>2.317526</td>\n",
       "      <td>11042.889986</td>\n",
       "      <td>1.587598</td>\n",
       "      <td>6.924312</td>\n",
       "      <td>4.937139e+04</td>\n",
       "      <td>...</td>\n",
       "      <td>60.858740</td>\n",
       "      <td>0.995789</td>\n",
       "      <td>252.914432</td>\n",
       "      <td>0.999866</td>\n",
       "      <td>5277.282320</td>\n",
       "      <td>1.0</td>\n",
       "      <td>16468.340936</td>\n",
       "      <td>1.0</td>\n",
       "      <td>100.982139</td>\n",
       "      <td>1.103881e+07</td>\n",
       "    </tr>\n",
       "    <tr>\n",
       "      <th>std</th>\n",
       "      <td>2.170534</td>\n",
       "      <td>4.755442</td>\n",
       "      <td>727.369160</td>\n",
       "      <td>5.066581</td>\n",
       "      <td>1.589276</td>\n",
       "      <td>1.396659</td>\n",
       "      <td>4339.281581</td>\n",
       "      <td>0.777449</td>\n",
       "      <td>18.225413</td>\n",
       "      <td>3.793973e+04</td>\n",
       "      <td>...</td>\n",
       "      <td>88.466835</td>\n",
       "      <td>0.064754</td>\n",
       "      <td>322.831190</td>\n",
       "      <td>0.011561</td>\n",
       "      <td>3857.038739</td>\n",
       "      <td>0.0</td>\n",
       "      <td>9001.966762</td>\n",
       "      <td>0.0</td>\n",
       "      <td>80.172003</td>\n",
       "      <td>2.018355e+07</td>\n",
       "    </tr>\n",
       "    <tr>\n",
       "      <th>min</th>\n",
       "      <td>1.000000</td>\n",
       "      <td>3.000000</td>\n",
       "      <td>18112.000000</td>\n",
       "      <td>1.000000</td>\n",
       "      <td>0.000000</td>\n",
       "      <td>0.000000</td>\n",
       "      <td>123.000000</td>\n",
       "      <td>0.000000</td>\n",
       "      <td>0.000000</td>\n",
       "      <td>0.000000e+00</td>\n",
       "      <td>...</td>\n",
       "      <td>0.000000</td>\n",
       "      <td>0.000000</td>\n",
       "      <td>0.000000</td>\n",
       "      <td>0.000000</td>\n",
       "      <td>19.000000</td>\n",
       "      <td>1.0</td>\n",
       "      <td>30.000000</td>\n",
       "      <td>1.0</td>\n",
       "      <td>0.064766</td>\n",
       "      <td>2.261495e+05</td>\n",
       "    </tr>\n",
       "    <tr>\n",
       "      <th>25%</th>\n",
       "      <td>8.000000</td>\n",
       "      <td>7.000000</td>\n",
       "      <td>18893.000000</td>\n",
       "      <td>4.000000</td>\n",
       "      <td>0.000000</td>\n",
       "      <td>2.000000</td>\n",
       "      <td>7186.000000</td>\n",
       "      <td>2.000000</td>\n",
       "      <td>3.738412</td>\n",
       "      <td>2.827238e+04</td>\n",
       "      <td>...</td>\n",
       "      <td>20.000000</td>\n",
       "      <td>1.000000</td>\n",
       "      <td>88.000000</td>\n",
       "      <td>1.000000</td>\n",
       "      <td>2671.000000</td>\n",
       "      <td>1.0</td>\n",
       "      <td>8849.500000</td>\n",
       "      <td>1.0</td>\n",
       "      <td>49.180358</td>\n",
       "      <td>2.432763e+06</td>\n",
       "    </tr>\n",
       "    <tr>\n",
       "      <th>50%</th>\n",
       "      <td>8.000000</td>\n",
       "      <td>12.000000</td>\n",
       "      <td>19528.000000</td>\n",
       "      <td>5.000000</td>\n",
       "      <td>1.000000</td>\n",
       "      <td>2.000000</td>\n",
       "      <td>11507.000000</td>\n",
       "      <td>2.000000</td>\n",
       "      <td>5.758023</td>\n",
       "      <td>4.379195e+04</td>\n",
       "      <td>...</td>\n",
       "      <td>36.000000</td>\n",
       "      <td>1.000000</td>\n",
       "      <td>154.000000</td>\n",
       "      <td>1.000000</td>\n",
       "      <td>3943.000000</td>\n",
       "      <td>1.0</td>\n",
       "      <td>14334.000000</td>\n",
       "      <td>1.0</td>\n",
       "      <td>83.190655</td>\n",
       "      <td>5.240482e+06</td>\n",
       "    </tr>\n",
       "    <tr>\n",
       "      <th>75%</th>\n",
       "      <td>8.000000</td>\n",
       "      <td>13.000000</td>\n",
       "      <td>20125.000000</td>\n",
       "      <td>12.000000</td>\n",
       "      <td>4.000000</td>\n",
       "      <td>2.000000</td>\n",
       "      <td>14460.000000</td>\n",
       "      <td>2.000000</td>\n",
       "      <td>7.180619</td>\n",
       "      <td>6.148857e+04</td>\n",
       "      <td>...</td>\n",
       "      <td>64.000000</td>\n",
       "      <td>1.000000</td>\n",
       "      <td>275.000000</td>\n",
       "      <td>1.000000</td>\n",
       "      <td>6649.000000</td>\n",
       "      <td>1.0</td>\n",
       "      <td>23460.000000</td>\n",
       "      <td>1.0</td>\n",
       "      <td>130.698101</td>\n",
       "      <td>1.106841e+07</td>\n",
       "    </tr>\n",
       "    <tr>\n",
       "      <th>max</th>\n",
       "      <td>11.000000</td>\n",
       "      <td>21.000000</td>\n",
       "      <td>20665.000000</td>\n",
       "      <td>29.000000</td>\n",
       "      <td>4.000000</td>\n",
       "      <td>10.000000</td>\n",
       "      <td>20577.000000</td>\n",
       "      <td>2.000000</td>\n",
       "      <td>967.370868</td>\n",
       "      <td>1.020404e+06</td>\n",
       "      <td>...</td>\n",
       "      <td>1681.000000</td>\n",
       "      <td>1.000000</td>\n",
       "      <td>3463.000000</td>\n",
       "      <td>1.000000</td>\n",
       "      <td>18268.000000</td>\n",
       "      <td>1.0</td>\n",
       "      <td>32908.000000</td>\n",
       "      <td>1.0</td>\n",
       "      <td>1106.382478</td>\n",
       "      <td>2.966421e+08</td>\n",
       "    </tr>\n",
       "  </tbody>\n",
       "</table>\n",
       "<p>8 rows × 234 columns</p>\n",
       "</div>"
      ],
      "text/plain": [
       "       building_material          city        txn_dt   total_floor  \\\n",
       "count       59847.000000  59847.000000  59847.000000  59847.000000   \n",
       "mean            7.265744     11.412669  19489.376978      7.634351   \n",
       "std             2.170534      4.755442    727.369160      5.066581   \n",
       "min             1.000000      3.000000  18112.000000      1.000000   \n",
       "25%             8.000000      7.000000  18893.000000      4.000000   \n",
       "50%             8.000000     12.000000  19528.000000      5.000000   \n",
       "75%             8.000000     13.000000  20125.000000     12.000000   \n",
       "max            11.000000     21.000000  20665.000000     29.000000   \n",
       "\n",
       "       building_type  building_use  building_complete_dt   parking_way  \\\n",
       "count   59847.000000  59847.000000          59847.000000  59847.000000   \n",
       "mean        1.932461      2.317526          11042.889986      1.587598   \n",
       "std         1.589276      1.396659           4339.281581      0.777449   \n",
       "min         0.000000      0.000000            123.000000      0.000000   \n",
       "25%         0.000000      2.000000           7186.000000      2.000000   \n",
       "50%         1.000000      2.000000          11507.000000      2.000000   \n",
       "75%         4.000000      2.000000          14460.000000      2.000000   \n",
       "max         4.000000     10.000000          20577.000000      2.000000   \n",
       "\n",
       "       parking_area  parking_price      ...            XIV_500  XIV_index_500  \\\n",
       "count   3085.000000   1.384600e+04      ...       59847.000000   59847.000000   \n",
       "mean       6.924312   4.937139e+04      ...          60.858740       0.995789   \n",
       "std       18.225413   3.793973e+04      ...          88.466835       0.064754   \n",
       "min        0.000000   0.000000e+00      ...           0.000000       0.000000   \n",
       "25%        3.738412   2.827238e+04      ...          20.000000       1.000000   \n",
       "50%        5.758023   4.379195e+04      ...          36.000000       1.000000   \n",
       "75%        7.180619   6.148857e+04      ...          64.000000       1.000000   \n",
       "max      967.370868   1.020404e+06      ...        1681.000000       1.000000   \n",
       "\n",
       "           XIV_1000  XIV_index_1000      XIV_5000  XIV_index_5000  \\\n",
       "count  59847.000000    59847.000000  59847.000000         59847.0   \n",
       "mean     252.914432        0.999866   5277.282320             1.0   \n",
       "std      322.831190        0.011561   3857.038739             0.0   \n",
       "min        0.000000        0.000000     19.000000             1.0   \n",
       "25%       88.000000        1.000000   2671.000000             1.0   \n",
       "50%      154.000000        1.000000   3943.000000             1.0   \n",
       "75%      275.000000        1.000000   6649.000000             1.0   \n",
       "max     3463.000000        1.000000  18268.000000             1.0   \n",
       "\n",
       "          XIV_10000  XIV_index_10000       XIV_MIN   total_price  \n",
       "count  59847.000000          59847.0  59847.000000  5.984700e+04  \n",
       "mean   16468.340936              1.0    100.982139  1.103881e+07  \n",
       "std     9001.966762              0.0     80.172003  2.018355e+07  \n",
       "min       30.000000              1.0      0.064766  2.261495e+05  \n",
       "25%     8849.500000              1.0     49.180358  2.432763e+06  \n",
       "50%    14334.000000              1.0     83.190655  5.240482e+06  \n",
       "75%    23460.000000              1.0    130.698101  1.106841e+07  \n",
       "max    32908.000000              1.0   1106.382478  2.966421e+08  \n",
       "\n",
       "[8 rows x 234 columns]"
      ]
     },
     "execution_count": 18,
     "metadata": {},
     "output_type": "execute_result"
    }
   ],
   "source": [
    "train.describe()"
   ]
  },
  {
   "cell_type": "code",
   "execution_count": 19,
   "metadata": {},
   "outputs": [
    {
     "data": {
      "text/plain": [
       "Text(0,0.5,'total_price')"
      ]
     },
     "execution_count": 19,
     "metadata": {},
     "output_type": "execute_result"
    },
    {
     "data": {
      "image/png": "[encoded data removed]",
      "text/plain": [
       "<Figure size 432x288 with 1 Axes>"
      ]
     },
     "metadata": {
      "needs_background": "light"
     },
     "output_type": "display_data"
    }
   ],
   "source": [
    "#價錢的分佈\n",
    "#building_complete_dt>=1600\n",
    "#parking_price >800000\n",
    "#building_area>800\n",
    "#parking_area>800\n",
    "#land_area >=3000\n",
    "#town_population remove\n",
    "#village_income_median remove\n",
    "#town_area remove\n",
    "\n",
    "plt.plot(train.village_income_median, train.total_price, '.' )\n",
    "plt.xlabel('building_use')\n",
    "plt.ylabel('total_price')\n",
    "#print( df_train[ df_train.XIV_5000 > 4000 ].total_price ) #中刮號放條件"
   ]
  },
  {
   "cell_type": "code",
   "execution_count": 20,
   "metadata": {},
   "outputs": [
    {
     "name": "stdout",
     "output_type": "stream",
     "text": [
      "7814     3698.578703\n",
      "10670    5533.304995\n",
      "11170    1348.177475\n",
      "13332    2610.666519\n",
      "14007    2039.700590\n",
      "16838    1247.345561\n",
      "23399    1006.214497\n",
      "29570    1071.162596\n",
      "36482    1420.064267\n",
      "37526    1106.832494\n",
      "44123    1213.194703\n",
      "59506    1213.194703\n",
      "Name: land_area, dtype: float64\n"
     ]
    },
    {
     "data": {
      "text/plain": [
       "Text(0,0.5,'total_price')"
      ]
     },
     "execution_count": 20,
     "metadata": {},
     "output_type": "execute_result"
    },
    {
     "data": {
      "image/png": "[encoded data removed]",
      "text/plain": [
       "<Figure size 432x288 with 1 Axes>"
      ]
     },
     "metadata": {
      "needs_background": "light"
     },
     "output_type": "display_data"
    }
   ],
   "source": [
    "print( train[(train['land_area']>1000) ].land_area )\n",
    "#太過於分散了，要drop欄位\n",
    "#train = train.drop( labels = train[  (train['land_area']>1000) ].index, axis = 0 )\n",
    "#sns.distplot(train.land_area)\n",
    "plt.plot(train.land_area, train.total_price, '.' )\n",
    "plt.xlabel('land_area')\n",
    "plt.ylabel('total_price')"
   ]
  },
  {
   "cell_type": "code",
   "execution_count": 21,
   "metadata": {},
   "outputs": [
    {
     "name": "stdout",
     "output_type": "stream",
     "text": [
      "1351     3.269609e+05\n",
      "8795     9.702438e+05\n",
      "51731    3.837894e+05\n",
      "55472    1.020404e+06\n",
      "Name: parking_price, dtype: float64\n"
     ]
    },
    {
     "data": {
      "text/plain": [
       "Text(0,0.5,'total_price')"
      ]
     },
     "execution_count": 21,
     "metadata": {},
     "output_type": "execute_result"
    },
    {
     "data": {
      "image/png": "[encoded data removed]",
      "text/plain": [
       "<Figure size 432x288 with 1 Axes>"
      ]
     },
     "metadata": {
      "needs_background": "light"
     },
     "output_type": "display_data"
    }
   ],
   "source": [
    "train['parking_price'] = train['parking_price'].fillna(train['parking_price'].mode()[0])\n",
    "print( train[(train['parking_price']>300000) ].parking_price )\n",
    "#df_all['parking_price'] = df_all['parking_price'].apply(int)\n",
    "train = train.drop( labels = train[  (train['parking_price']>300000) ].index, axis = 0 )\n",
    "#sns.distplot(train.parking_price)\n",
    "plt.plot(train.parking_price, train.total_price, '.' )\n",
    "plt.xlabel('parking_price')\n",
    "plt.ylabel('total_price')"
   ]
  },
  {
   "cell_type": "code",
   "execution_count": 22,
   "metadata": {},
   "outputs": [
    {
     "name": "stdout",
     "output_type": "stream",
     "text": [
      "4339      90.209853\n",
      "30232     61.822600\n",
      "38617    967.370868\n",
      "38992     83.497319\n",
      "47253     84.609760\n",
      "Name: parking_area, dtype: float64\n"
     ]
    },
    {
     "data": {
      "text/plain": [
       "Text(0,0.5,'total_price')"
      ]
     },
     "execution_count": 22,
     "metadata": {},
     "output_type": "execute_result"
    },
    {
     "data": {
      "image/png": "[encoded data removed]",
      "text/plain": [
       "<Figure size 432x288 with 1 Axes>"
      ]
     },
     "metadata": {
      "needs_background": "light"
     },
     "output_type": "display_data"
    }
   ],
   "source": [
    "train['parking_area'] = train['parking_area'].fillna(train['parking_area'].mode()[0])\n",
    "print( train[(train['parking_area']>50) ].parking_area )\n",
    "train = train.drop( labels = train[  (train['parking_area']>800) ].index, axis = 0 )\n",
    "#sns.distplot(train.parking_area)\n",
    "plt.plot(train.parking_area, train.total_price, '.' )\n",
    "plt.xlabel('parking_price')\n",
    "plt.ylabel('total_price')"
   ]
  },
  {
   "cell_type": "code",
   "execution_count": 23,
   "metadata": {},
   "outputs": [
    {
     "name": "stdout",
     "output_type": "stream",
     "text": [
      "18748    566.505953\n",
      "21231    693.750804\n",
      "23605    913.610349\n",
      "26014    693.750804\n",
      "26767    589.808827\n",
      "29104    913.610349\n",
      "37526    715.297021\n",
      "44963    718.903165\n",
      "51410    416.941144\n",
      "57691    418.845282\n",
      "Name: building_area, dtype: float64\n"
     ]
    },
    {
     "data": {
      "text/plain": [
       "Text(0,0.5,'total_price')"
      ]
     },
     "execution_count": 23,
     "metadata": {},
     "output_type": "execute_result"
    },
    {
     "data": {
      "image/png": "[encoded data removed]",
      "text/plain": [
       "<Figure size 432x288 with 1 Axes>"
      ]
     },
     "metadata": {
      "needs_background": "light"
     },
     "output_type": "display_data"
    }
   ],
   "source": [
    "train['building_area'] = train['building_area'].fillna(train['building_area'].mode()[0])\n",
    "print( train[(train['building_area']>400) ].building_area )\n",
    "#train = train.drop( labels = train[  (train['building_area']>400) ].index, axis = 0 )\n",
    "#sns.distplot(train.building_area)\n",
    "plt.plot(train.building_area, train.total_price, '.' )\n",
    "plt.xlabel('building_area')\n",
    "plt.ylabel('total_price')"
   ]
  },
  {
   "cell_type": "code",
   "execution_count": null,
   "metadata": {},
   "outputs": [],
   "source": []
  },
  {
   "cell_type": "code",
   "execution_count": 24,
   "metadata": {},
   "outputs": [],
   "source": [
    "#train = train.drop([ 'parking_area'], axis=1, inplace=True)"
   ]
  },
  {
   "cell_type": "code",
   "execution_count": 25,
   "metadata": {},
   "outputs": [
    {
     "data": {
      "text/plain": [
       "Index(['building_material', 'city', 'txn_dt', 'total_floor', 'building_type',\n",
       "       'building_use', 'building_complete_dt', 'parking_way', 'parking_area',\n",
       "       'parking_price',\n",
       "       ...\n",
       "       'XIV_500', 'XIV_index_500', 'XIV_1000', 'XIV_index_1000', 'XIV_5000',\n",
       "       'XIV_index_5000', 'XIV_10000', 'XIV_index_10000', 'XIV_MIN',\n",
       "       'total_price'],\n",
       "      dtype='object', length=234)"
      ]
     },
     "execution_count": 25,
     "metadata": {},
     "output_type": "execute_result"
    }
   ],
   "source": [
    "#取得數值型態的欄位\n",
    "#取得數值型態欄位\n",
    "numeric_data = train._get_numeric_data()\n",
    "numeric_data.columns"
   ]
  },
  {
   "cell_type": "markdown",
   "metadata": {},
   "source": [
    "## sketch pics\n"
   ]
  },
  {
   "cell_type": "code",
   "execution_count": 26,
   "metadata": {},
   "outputs": [],
   "source": [
    "# drop掉每個欄位的NA值並劃出其分布\n",
    "#for i in numeric_data:\n",
    "#    temp = train[i].dropna()\n",
    "#    print(f\"there are {train[i].shape[0] - temp.shape[0]} NaN in {i}\")\n",
    "#    sns.distplot(temp) \n",
    "    #plt.show()"
   ]
  },
  {
   "cell_type": "markdown",
   "metadata": {},
   "source": [
    "## Drop Null Feature(s)"
   ]
  },
  {
   "cell_type": "code",
   "execution_count": 27,
   "metadata": {},
   "outputs": [],
   "source": [
    "#df_all = pd.concat( [ train.drop( [ 'Id', 'SalePrice' ], axis = 1 ),\n",
    "#                      test.drop( [ 'Id' ], axis = 1 ) ],\n",
    "#                      axis = 0, ignore_index = False )\n",
    "df_all = pd.concat([train.drop('total_price', axis=1), test], keys=['train', 'test'])\n",
    "trainID=df_all['building_id']\n",
    "df_all.drop(['building_id'], axis=1, inplace=True)"
   ]
  },
  {
   "cell_type": "code",
   "execution_count": 28,
   "metadata": {},
   "outputs": [],
   "source": [
    "# check null status\n",
    "#print( df_all.shape )\n",
    "#df_na = df_all.select_dtypes( exclude = [ 'object' ] ).isnull().sum()\n",
    "#print( df_na[ df_na > 100 ].sort_values(ascending=False) )"
   ]
  },
  {
   "cell_type": "code",
   "execution_count": 29,
   "metadata": {},
   "outputs": [],
   "source": [
    "# drop掉大多為Null的欄位\n",
    "#df_all = df_all.drop(['parking_area'], axis = 1) # for 486 null values (train + test)\n",
    "#print( df_all.shape )"
   ]
  },
  {
   "cell_type": "code",
   "execution_count": null,
   "metadata": {},
   "outputs": [],
   "source": []
  },
  {
   "cell_type": "code",
   "execution_count": 30,
   "metadata": {},
   "outputs": [
    {
     "name": "stdout",
     "output_type": "stream",
     "text": [
      "(69842, 232)\n"
     ]
    }
   ],
   "source": [
    "# drop掉大多為Null的欄位\n",
    "df_all = df_all.drop(['land_area'], axis = 1) #\n",
    "print(df_all.shape)"
   ]
  },
  {
   "cell_type": "code",
   "execution_count": null,
   "metadata": {},
   "outputs": [],
   "source": []
  },
  {
   "cell_type": "code",
   "execution_count": 31,
   "metadata": {},
   "outputs": [],
   "source": [
    "df_all[\"parking_area\"] = df_all[\"parking_area\"].fillna(df_all['parking_area'].mode()[0])\n",
    "df_all['parking_price'] = df_all['parking_price'].fillna(df_all['parking_price'].mode()[0])\n",
    "df_all['txn_floor'] = df_all['txn_floor'].fillna(df_all['txn_floor'].mode()[0])    \n",
    "df_all['village_income_median'] = df_all['village_income_median'].fillna(df_all['village_income_median'].mode()[0])\n",
    "#df_all[\"parking_price\"] = df_all.groupby(\"city\")[\"parking_price\"].transform(lambda x: x.fillna(x.mean()))\n",
    "#df_all[\"txn_floor\"] = df_all.groupby(\"city\")[\"txn_floor\"].transform(lambda x: x.fillna(x.mean()))\n",
    "\n",
    "\n",
    "#df_all[\"LotFrontage\"] = df_all.groupby(\"BldgType\")[\"LotFrontage\"].transform(lambda x: x.fillna(x.median()))\n",
    "#df_all['LotFrontage'] = df_all['LotFrontage'].apply(lambda x: np.exp(4.2) if x <= 0.0 else x)\n",
    "#df_all['MasVnrArea'] = df_all['MasVnrArea'].apply(lambda x: np.exp(4) if x <= 0.0 else x)\n",
    "#df_all['BsmtFinSF1'] = df_all['BsmtFinSF1'].apply(lambda x: np.exp(6.5) if x <= 0.0 else x)"
   ]
  },
  {
   "cell_type": "code",
   "execution_count": null,
   "metadata": {},
   "outputs": [],
   "source": []
  },
  {
   "cell_type": "code",
   "execution_count": 32,
   "metadata": {},
   "outputs": [],
   "source": [
    "# Working with ordinal predictors\n",
    "def QualToInt(x):\n",
    "    if(x=='Ex'):\n",
    "        r = 0\n",
    "    elif(x=='Gd'):\n",
    "        r = 1\n",
    "    elif(x=='TA'):\n",
    "        r = 2\n",
    "    elif(x=='Fa'):\n",
    "        r = 3\n",
    "    elif(x=='missing'):\n",
    "        r = 4\n",
    "    else:\n",
    "        r = 5\n",
    "    return r\n",
    "\n",
    "#df_all['ExterQual'] = df_all['ExterQual'].apply(QualToInt)"
   ]
  },
  {
   "cell_type": "code",
   "execution_count": null,
   "metadata": {},
   "outputs": [],
   "source": []
  },
  {
   "cell_type": "code",
   "execution_count": 33,
   "metadata": {},
   "outputs": [
    {
     "data": {
      "text/plain": [
       "<matplotlib.axes._subplots.AxesSubplot at 0x7f2f10844240>"
      ]
     },
     "execution_count": 33,
     "metadata": {},
     "output_type": "execute_result"
    },
    {
     "data": {
      "image/png": "[encoded data removed]",
      "text/plain": [
       "<Figure size 1080x720 with 2 Axes>"
      ]
     },
     "metadata": {
      "needs_background": "light"
     },
     "output_type": "display_data"
    }
   ],
   "source": [
    "## Numerical to Categorical\n",
    "# 嘗試不同的顏色\"Spectral\"：\n",
    "corr_matrix=df_all.corr().abs()\n",
    "plt.subplots(figsize=(15,10))\n",
    "sns.heatmap(corr_matrix,cmap='Spectral')"
   ]
  },
  {
   "cell_type": "markdown",
   "metadata": {},
   "source": [
    "## Numerical to Categorical"
   ]
  },
  {
   "cell_type": "code",
   "execution_count": 34,
   "metadata": {},
   "outputs": [],
   "source": [
    "# df_train[['OverallCond', 'SalePrice']].groupby(['OverallCond']).agg({'SalePrice':'median', 'OverallCond':'count'}).sort_values(by='SalePrice', ascending=False)\n",
    "#train[['MSSubClass', 'SalePrice']].groupby(['MSSubClass']).agg({'SalePrice':'median', 'MSSubClass':'count'}).sort_values(by='SalePrice', ascending=False)"
   ]
  },
  {
   "cell_type": "code",
   "execution_count": 35,
   "metadata": {},
   "outputs": [],
   "source": [
    "# It helps to transform some numerical features to categorical\n",
    "#df_all.YearBuilt = df_all.YearBuilt.astype ( str )"
   ]
  },
  {
   "cell_type": "code",
   "execution_count": 36,
   "metadata": {},
   "outputs": [
    {
     "name": "stdout",
     "output_type": "stream",
     "text": [
      "building_material          -2.506154\n",
      "city                        0.723041\n",
      "txn_dt                     -0.158835\n",
      "total_floor                 1.104377\n",
      "building_type               0.116042\n",
      "building_use                3.588161\n",
      "building_complete_dt       -0.029503\n",
      "parking_way                -1.450268\n",
      "parking_area               24.405453\n",
      "parking_price               5.508892\n",
      "txn_floor                   1.808458\n",
      "building_area              93.701945\n",
      "town                        0.296150\n",
      "lat                        -1.215272\n",
      "lon                        -0.759728\n",
      "village_income_median       2.853060\n",
      "town_population             0.644780\n",
      "town_area                   1.987137\n",
      "town_population_density     0.769914\n",
      "doc_rate                    1.502617\n",
      "master_rate                 1.441976\n",
      "bachelor_rate               1.226864\n",
      "jobschool_rate             -0.015749\n",
      "highschool_rate            -1.105088\n",
      "junior_rate                -1.145332\n",
      "elementary_rate             0.850556\n",
      "born_rate                   0.473417\n",
      "death_rate                  1.545690\n",
      "marriage_rate               0.012145\n",
      "divorce_rate               -0.268481\n",
      "                             ...    \n",
      "XII_index_10000             0.000000\n",
      "XII_MIN                     7.831107\n",
      "XIII_10                    27.446741\n",
      "XIII_50                    18.473192\n",
      "XIII_index_50               3.673991\n",
      "XIII_100                   16.421934\n",
      "XIII_250                   12.108825\n",
      "XIII_500                    6.457035\n",
      "XIII_index_500             -0.904511\n",
      "XIII_1000                   2.454816\n",
      "XIII_index_1000            -2.023389\n",
      "XIII_5000                   1.091294\n",
      "XIII_index_5000            -7.404987\n",
      "XIII_10000                  0.497026\n",
      "XIII_index_10000          -13.464217\n",
      "XIII_MIN                    7.562013\n",
      "XIV_10                      8.701054\n",
      "XIV_50                      9.758186\n",
      "XIV_index_50                1.120473\n",
      "XIV_100                     9.843095\n",
      "XIV_250                     7.419519\n",
      "XIV_500                     5.110574\n",
      "XIV_index_500             -15.185176\n",
      "XIV_1000                    3.654072\n",
      "XIV_index_1000            -83.553576\n",
      "XIV_5000                    1.188270\n",
      "XIV_index_5000              0.000000\n",
      "XIV_10000                   0.292898\n",
      "XIV_index_10000             0.000000\n",
      "XIV_MIN                     2.704162\n",
      "Length: 232, dtype: float64\n"
     ]
    }
   ],
   "source": [
    "# handle skewness\n",
    "train.total_price = np.log( train.total_price )\n",
    "# exclude object型態的欄位\n",
    "num_feats = df_all.select_dtypes( exclude = [ 'object' ] ).columns\n",
    "# na drop should be done series by series\n",
    "# apply function>>幫助我們算出偏差系數\n",
    "skewed_feats = df_all[ num_feats ].apply( func = lambda s: skew(s.dropna()), axis = 0 )\n",
    "print(skewed_feats)\n",
    "# 選出dataframe大於0.75的人\n",
    "skewed_feats = skewed_feats[ skewed_feats > 0.75 ].index\n",
    "# print(skewed_feats)\n",
    "# 把大於0.75的要作正規化，變成常態分配\n",
    "# np.log1p是log(1+x), 若直接取log會有log0的問題\n",
    "df_all[ skewed_feats ] = np.log1p( df_all[ skewed_feats ] )\n",
    "\n"
   ]
  },
  {
   "cell_type": "code",
   "execution_count": 37,
   "metadata": {},
   "outputs": [],
   "source": [
    "#df_all.describe(include = \"O\")"
   ]
  },
  {
   "cell_type": "markdown",
   "metadata": {},
   "source": [
    "## One-Hot Encoding"
   ]
  },
  {
   "cell_type": "code",
   "execution_count": 38,
   "metadata": {},
   "outputs": [
    {
     "data": {
      "text/html": [
       "<div>\n",
       "<style scoped>\n",
       "    .dataframe tbody tr th:only-of-type {\n",
       "        vertical-align: middle;\n",
       "    }\n",
       "\n",
       "    .dataframe tbody tr th {\n",
       "        vertical-align: top;\n",
       "    }\n",
       "\n",
       "    .dataframe thead th {\n",
       "        text-align: right;\n",
       "    }\n",
       "</style>\n",
       "<table border=\"1\" class=\"dataframe\">\n",
       "  <thead>\n",
       "    <tr style=\"text-align: right;\">\n",
       "      <th></th>\n",
       "      <th></th>\n",
       "      <th>building_material</th>\n",
       "      <th>city</th>\n",
       "      <th>txn_dt</th>\n",
       "      <th>total_floor</th>\n",
       "      <th>building_type</th>\n",
       "      <th>building_use</th>\n",
       "      <th>building_complete_dt</th>\n",
       "      <th>parking_way</th>\n",
       "      <th>parking_area</th>\n",
       "      <th>parking_price</th>\n",
       "      <th>...</th>\n",
       "      <th>XIV_250</th>\n",
       "      <th>XIV_500</th>\n",
       "      <th>XIV_index_500</th>\n",
       "      <th>XIV_1000</th>\n",
       "      <th>XIV_index_1000</th>\n",
       "      <th>XIV_5000</th>\n",
       "      <th>XIV_index_5000</th>\n",
       "      <th>XIV_10000</th>\n",
       "      <th>XIV_index_10000</th>\n",
       "      <th>XIV_MIN</th>\n",
       "    </tr>\n",
       "  </thead>\n",
       "  <tbody>\n",
       "    <tr>\n",
       "      <th rowspan=\"5\" valign=\"top\">train</th>\n",
       "      <th>0</th>\n",
       "      <td>8</td>\n",
       "      <td>21</td>\n",
       "      <td>18674</td>\n",
       "      <td>1.609438</td>\n",
       "      <td>3</td>\n",
       "      <td>1.098612</td>\n",
       "      <td>6271</td>\n",
       "      <td>2</td>\n",
       "      <td>2.009889</td>\n",
       "      <td>10.409924</td>\n",
       "      <td>...</td>\n",
       "      <td>3.091042</td>\n",
       "      <td>4.077537</td>\n",
       "      <td>1</td>\n",
       "      <td>5.062595</td>\n",
       "      <td>1</td>\n",
       "      <td>7.817625</td>\n",
       "      <td>1</td>\n",
       "      <td>6011</td>\n",
       "      <td>1</td>\n",
       "      <td>3.568682</td>\n",
       "    </tr>\n",
       "    <tr>\n",
       "      <th>1</th>\n",
       "      <td>8</td>\n",
       "      <td>7</td>\n",
       "      <td>18800</td>\n",
       "      <td>1.791759</td>\n",
       "      <td>1</td>\n",
       "      <td>1.098612</td>\n",
       "      <td>7885</td>\n",
       "      <td>2</td>\n",
       "      <td>2.009889</td>\n",
       "      <td>10.409924</td>\n",
       "      <td>...</td>\n",
       "      <td>2.079442</td>\n",
       "      <td>3.367296</td>\n",
       "      <td>1</td>\n",
       "      <td>4.753590</td>\n",
       "      <td>1</td>\n",
       "      <td>9.672375</td>\n",
       "      <td>1</td>\n",
       "      <td>32221</td>\n",
       "      <td>1</td>\n",
       "      <td>3.715365</td>\n",
       "    </tr>\n",
       "    <tr>\n",
       "      <th>2</th>\n",
       "      <td>8</td>\n",
       "      <td>7</td>\n",
       "      <td>19289</td>\n",
       "      <td>1.609438</td>\n",
       "      <td>1</td>\n",
       "      <td>1.098612</td>\n",
       "      <td>6028</td>\n",
       "      <td>2</td>\n",
       "      <td>2.009889</td>\n",
       "      <td>10.409924</td>\n",
       "      <td>...</td>\n",
       "      <td>3.332205</td>\n",
       "      <td>4.369448</td>\n",
       "      <td>1</td>\n",
       "      <td>5.361292</td>\n",
       "      <td>1</td>\n",
       "      <td>9.665294</td>\n",
       "      <td>1</td>\n",
       "      <td>32228</td>\n",
       "      <td>1</td>\n",
       "      <td>4.015700</td>\n",
       "    </tr>\n",
       "    <tr>\n",
       "      <th>3</th>\n",
       "      <td>8</td>\n",
       "      <td>21</td>\n",
       "      <td>20385</td>\n",
       "      <td>3.218876</td>\n",
       "      <td>0</td>\n",
       "      <td>1.098612</td>\n",
       "      <td>18325</td>\n",
       "      <td>0</td>\n",
       "      <td>2.009889</td>\n",
       "      <td>11.303930</td>\n",
       "      <td>...</td>\n",
       "      <td>1.098612</td>\n",
       "      <td>3.044522</td>\n",
       "      <td>1</td>\n",
       "      <td>4.836282</td>\n",
       "      <td>1</td>\n",
       "      <td>7.851272</td>\n",
       "      <td>1</td>\n",
       "      <td>7271</td>\n",
       "      <td>1</td>\n",
       "      <td>4.611440</td>\n",
       "    </tr>\n",
       "    <tr>\n",
       "      <th>4</th>\n",
       "      <td>1</td>\n",
       "      <td>21</td>\n",
       "      <td>20657</td>\n",
       "      <td>1.098612</td>\n",
       "      <td>4</td>\n",
       "      <td>1.098612</td>\n",
       "      <td>6880</td>\n",
       "      <td>2</td>\n",
       "      <td>2.009889</td>\n",
       "      <td>10.409924</td>\n",
       "      <td>...</td>\n",
       "      <td>1.098612</td>\n",
       "      <td>2.944439</td>\n",
       "      <td>1</td>\n",
       "      <td>3.871201</td>\n",
       "      <td>1</td>\n",
       "      <td>7.858641</td>\n",
       "      <td>1</td>\n",
       "      <td>7442</td>\n",
       "      <td>1</td>\n",
       "      <td>4.829363</td>\n",
       "    </tr>\n",
       "  </tbody>\n",
       "</table>\n",
       "<p>5 rows × 232 columns</p>\n",
       "</div>"
      ],
      "text/plain": [
       "         building_material  city  txn_dt  total_floor  building_type  \\\n",
       "train 0                  8    21   18674     1.609438              3   \n",
       "      1                  8     7   18800     1.791759              1   \n",
       "      2                  8     7   19289     1.609438              1   \n",
       "      3                  8    21   20385     3.218876              0   \n",
       "      4                  1    21   20657     1.098612              4   \n",
       "\n",
       "         building_use  building_complete_dt  parking_way  parking_area  \\\n",
       "train 0      1.098612                  6271            2      2.009889   \n",
       "      1      1.098612                  7885            2      2.009889   \n",
       "      2      1.098612                  6028            2      2.009889   \n",
       "      3      1.098612                 18325            0      2.009889   \n",
       "      4      1.098612                  6880            2      2.009889   \n",
       "\n",
       "         parking_price    ...      XIV_250   XIV_500  XIV_index_500  XIV_1000  \\\n",
       "train 0      10.409924    ...     3.091042  4.077537              1  5.062595   \n",
       "      1      10.409924    ...     2.079442  3.367296              1  4.753590   \n",
       "      2      10.409924    ...     3.332205  4.369448              1  5.361292   \n",
       "      3      11.303930    ...     1.098612  3.044522              1  4.836282   \n",
       "      4      10.409924    ...     1.098612  2.944439              1  3.871201   \n",
       "\n",
       "         XIV_index_1000  XIV_5000  XIV_index_5000  XIV_10000  XIV_index_10000  \\\n",
       "train 0               1  7.817625               1       6011                1   \n",
       "      1               1  9.672375               1      32221                1   \n",
       "      2               1  9.665294               1      32228                1   \n",
       "      3               1  7.851272               1       7271                1   \n",
       "      4               1  7.858641               1       7442                1   \n",
       "\n",
       "          XIV_MIN  \n",
       "train 0  3.568682  \n",
       "      1  3.715365  \n",
       "      2  4.015700  \n",
       "      3  4.611440  \n",
       "      4  4.829363  \n",
       "\n",
       "[5 rows x 232 columns]"
      ]
     },
     "execution_count": 38,
     "metadata": {},
     "output_type": "execute_result"
    }
   ],
   "source": [
    "df_all_dum = pd.get_dummies(df_all); df_all_dum.head()"
   ]
  },
  {
   "cell_type": "code",
   "execution_count": 39,
   "metadata": {},
   "outputs": [
    {
     "data": {
      "text/html": [
       "<div>\n",
       "<style scoped>\n",
       "    .dataframe tbody tr th:only-of-type {\n",
       "        vertical-align: middle;\n",
       "    }\n",
       "\n",
       "    .dataframe tbody tr th {\n",
       "        vertical-align: top;\n",
       "    }\n",
       "\n",
       "    .dataframe thead th {\n",
       "        text-align: right;\n",
       "    }\n",
       "</style>\n",
       "<table border=\"1\" class=\"dataframe\">\n",
       "  <thead>\n",
       "    <tr style=\"text-align: right;\">\n",
       "      <th></th>\n",
       "      <th></th>\n",
       "      <th>building_material</th>\n",
       "      <th>city</th>\n",
       "      <th>txn_dt</th>\n",
       "      <th>total_floor</th>\n",
       "      <th>building_type</th>\n",
       "      <th>building_use</th>\n",
       "      <th>building_complete_dt</th>\n",
       "      <th>parking_way</th>\n",
       "      <th>parking_area</th>\n",
       "      <th>parking_price</th>\n",
       "      <th>...</th>\n",
       "      <th>XIV_250</th>\n",
       "      <th>XIV_500</th>\n",
       "      <th>XIV_index_500</th>\n",
       "      <th>XIV_1000</th>\n",
       "      <th>XIV_index_1000</th>\n",
       "      <th>XIV_5000</th>\n",
       "      <th>XIV_index_5000</th>\n",
       "      <th>XIV_10000</th>\n",
       "      <th>XIV_index_10000</th>\n",
       "      <th>XIV_MIN</th>\n",
       "    </tr>\n",
       "  </thead>\n",
       "  <tbody>\n",
       "    <tr>\n",
       "      <th rowspan=\"5\" valign=\"top\">train</th>\n",
       "      <th>0</th>\n",
       "      <td>8</td>\n",
       "      <td>21</td>\n",
       "      <td>18674</td>\n",
       "      <td>1.609438</td>\n",
       "      <td>3</td>\n",
       "      <td>1.098612</td>\n",
       "      <td>6271</td>\n",
       "      <td>2</td>\n",
       "      <td>2.009889</td>\n",
       "      <td>10.409924</td>\n",
       "      <td>...</td>\n",
       "      <td>3.091042</td>\n",
       "      <td>4.077537</td>\n",
       "      <td>1</td>\n",
       "      <td>5.062595</td>\n",
       "      <td>1</td>\n",
       "      <td>7.817625</td>\n",
       "      <td>1</td>\n",
       "      <td>6011</td>\n",
       "      <td>1</td>\n",
       "      <td>3.568682</td>\n",
       "    </tr>\n",
       "    <tr>\n",
       "      <th>1</th>\n",
       "      <td>8</td>\n",
       "      <td>7</td>\n",
       "      <td>18800</td>\n",
       "      <td>1.791759</td>\n",
       "      <td>1</td>\n",
       "      <td>1.098612</td>\n",
       "      <td>7885</td>\n",
       "      <td>2</td>\n",
       "      <td>2.009889</td>\n",
       "      <td>10.409924</td>\n",
       "      <td>...</td>\n",
       "      <td>2.079442</td>\n",
       "      <td>3.367296</td>\n",
       "      <td>1</td>\n",
       "      <td>4.753590</td>\n",
       "      <td>1</td>\n",
       "      <td>9.672375</td>\n",
       "      <td>1</td>\n",
       "      <td>32221</td>\n",
       "      <td>1</td>\n",
       "      <td>3.715365</td>\n",
       "    </tr>\n",
       "    <tr>\n",
       "      <th>2</th>\n",
       "      <td>8</td>\n",
       "      <td>7</td>\n",
       "      <td>19289</td>\n",
       "      <td>1.609438</td>\n",
       "      <td>1</td>\n",
       "      <td>1.098612</td>\n",
       "      <td>6028</td>\n",
       "      <td>2</td>\n",
       "      <td>2.009889</td>\n",
       "      <td>10.409924</td>\n",
       "      <td>...</td>\n",
       "      <td>3.332205</td>\n",
       "      <td>4.369448</td>\n",
       "      <td>1</td>\n",
       "      <td>5.361292</td>\n",
       "      <td>1</td>\n",
       "      <td>9.665294</td>\n",
       "      <td>1</td>\n",
       "      <td>32228</td>\n",
       "      <td>1</td>\n",
       "      <td>4.015700</td>\n",
       "    </tr>\n",
       "    <tr>\n",
       "      <th>3</th>\n",
       "      <td>8</td>\n",
       "      <td>21</td>\n",
       "      <td>20385</td>\n",
       "      <td>3.218876</td>\n",
       "      <td>0</td>\n",
       "      <td>1.098612</td>\n",
       "      <td>18325</td>\n",
       "      <td>0</td>\n",
       "      <td>2.009889</td>\n",
       "      <td>11.303930</td>\n",
       "      <td>...</td>\n",
       "      <td>1.098612</td>\n",
       "      <td>3.044522</td>\n",
       "      <td>1</td>\n",
       "      <td>4.836282</td>\n",
       "      <td>1</td>\n",
       "      <td>7.851272</td>\n",
       "      <td>1</td>\n",
       "      <td>7271</td>\n",
       "      <td>1</td>\n",
       "      <td>4.611440</td>\n",
       "    </tr>\n",
       "    <tr>\n",
       "      <th>4</th>\n",
       "      <td>1</td>\n",
       "      <td>21</td>\n",
       "      <td>20657</td>\n",
       "      <td>1.098612</td>\n",
       "      <td>4</td>\n",
       "      <td>1.098612</td>\n",
       "      <td>6880</td>\n",
       "      <td>2</td>\n",
       "      <td>2.009889</td>\n",
       "      <td>10.409924</td>\n",
       "      <td>...</td>\n",
       "      <td>1.098612</td>\n",
       "      <td>2.944439</td>\n",
       "      <td>1</td>\n",
       "      <td>3.871201</td>\n",
       "      <td>1</td>\n",
       "      <td>7.858641</td>\n",
       "      <td>1</td>\n",
       "      <td>7442</td>\n",
       "      <td>1</td>\n",
       "      <td>4.829363</td>\n",
       "    </tr>\n",
       "  </tbody>\n",
       "</table>\n",
       "<p>5 rows × 232 columns</p>\n",
       "</div>"
      ],
      "text/plain": [
       "         building_material  city  txn_dt  total_floor  building_type  \\\n",
       "train 0                  8    21   18674     1.609438              3   \n",
       "      1                  8     7   18800     1.791759              1   \n",
       "      2                  8     7   19289     1.609438              1   \n",
       "      3                  8    21   20385     3.218876              0   \n",
       "      4                  1    21   20657     1.098612              4   \n",
       "\n",
       "         building_use  building_complete_dt  parking_way  parking_area  \\\n",
       "train 0      1.098612                  6271            2      2.009889   \n",
       "      1      1.098612                  7885            2      2.009889   \n",
       "      2      1.098612                  6028            2      2.009889   \n",
       "      3      1.098612                 18325            0      2.009889   \n",
       "      4      1.098612                  6880            2      2.009889   \n",
       "\n",
       "         parking_price    ...      XIV_250   XIV_500  XIV_index_500  XIV_1000  \\\n",
       "train 0      10.409924    ...     3.091042  4.077537              1  5.062595   \n",
       "      1      10.409924    ...     2.079442  3.367296              1  4.753590   \n",
       "      2      10.409924    ...     3.332205  4.369448              1  5.361292   \n",
       "      3      11.303930    ...     1.098612  3.044522              1  4.836282   \n",
       "      4      10.409924    ...     1.098612  2.944439              1  3.871201   \n",
       "\n",
       "         XIV_index_1000  XIV_5000  XIV_index_5000  XIV_10000  XIV_index_10000  \\\n",
       "train 0               1  7.817625               1       6011                1   \n",
       "      1               1  9.672375               1      32221                1   \n",
       "      2               1  9.665294               1      32228                1   \n",
       "      3               1  7.851272               1       7271                1   \n",
       "      4               1  7.858641               1       7442                1   \n",
       "\n",
       "          XIV_MIN  \n",
       "train 0  3.568682  \n",
       "      1  3.715365  \n",
       "      2  4.015700  \n",
       "      3  4.611440  \n",
       "      4  4.829363  \n",
       "\n",
       "[5 rows x 232 columns]"
      ]
     },
     "execution_count": 39,
     "metadata": {},
     "output_type": "execute_result"
    }
   ],
   "source": [
    "# 將NA的值填平均值\n",
    "df_all_dum = df_all_dum.fillna( df_all_dum.mean() ); df_all_dum.head()"
   ]
  },
  {
   "cell_type": "code",
   "execution_count": null,
   "metadata": {},
   "outputs": [],
   "source": []
  },
  {
   "cell_type": "code",
   "execution_count": 40,
   "metadata": {},
   "outputs": [
    {
     "name": "stdout",
     "output_type": "stream",
     "text": [
      "Shape all_data: (69842, 232)\n"
     ]
    }
   ],
   "source": [
    "#from sklearn.preprocessing import LabelEncoder\n",
    "#cols = ('FireplaceQu', 'BsmtQual', 'BsmtCond', 'GarageQual', 'GarageCond', \n",
    "#        'ExterQual', 'ExterCond','HeatingQC', 'PoolQC', 'KitchenQual', 'BsmtFinType1', \n",
    "#        'BsmtFinType2', 'Functional', 'Fence', 'BsmtExposure', 'GarageFinish', 'LandSlope',\n",
    "#        'LotShape', 'PavedDrive', 'Street', 'Alley', 'CentralAir', 'MSSubClass', 'OverallCond', \n",
    "#        'YrSold', 'MoSold')\n",
    "# process columns, apply LabelEncoder to categorical features\n",
    "#for c in cols:\n",
    "#    lbl = LabelEncoder() \n",
    "#    lbl.fit(list(df_all[c].values)) \n",
    "#    df_all[c] = lbl.transform(list(df_all[c].values))\n",
    "\n",
    "# shape        \n",
    "print('Shape all_data: {}'.format(df_all.shape))"
   ]
  },
  {
   "cell_type": "code",
   "execution_count": null,
   "metadata": {},
   "outputs": [],
   "source": []
  },
  {
   "cell_type": "code",
   "execution_count": null,
   "metadata": {},
   "outputs": [],
   "source": []
  },
  {
   "cell_type": "code",
   "execution_count": null,
   "metadata": {},
   "outputs": [],
   "source": []
  },
  {
   "cell_type": "code",
   "execution_count": 41,
   "metadata": {},
   "outputs": [],
   "source": [
    "## Standardization"
   ]
  },
  {
   "cell_type": "markdown",
   "metadata": {},
   "source": [
    "## Standardization"
   ]
  },
  {
   "cell_type": "code",
   "execution_count": 42,
   "metadata": {},
   "outputs": [
    {
     "data": {
      "text/html": [
       "<div>\n",
       "<style scoped>\n",
       "    .dataframe tbody tr th:only-of-type {\n",
       "        vertical-align: middle;\n",
       "    }\n",
       "\n",
       "    .dataframe tbody tr th {\n",
       "        vertical-align: top;\n",
       "    }\n",
       "\n",
       "    .dataframe thead th {\n",
       "        text-align: right;\n",
       "    }\n",
       "</style>\n",
       "<table border=\"1\" class=\"dataframe\">\n",
       "  <thead>\n",
       "    <tr style=\"text-align: right;\">\n",
       "      <th></th>\n",
       "      <th></th>\n",
       "      <th>building_material</th>\n",
       "      <th>city</th>\n",
       "      <th>txn_dt</th>\n",
       "      <th>total_floor</th>\n",
       "      <th>building_type</th>\n",
       "      <th>building_use</th>\n",
       "      <th>building_complete_dt</th>\n",
       "      <th>parking_way</th>\n",
       "      <th>parking_area</th>\n",
       "      <th>parking_price</th>\n",
       "      <th>...</th>\n",
       "      <th>XIV_250</th>\n",
       "      <th>XIV_500</th>\n",
       "      <th>XIV_index_500</th>\n",
       "      <th>XIV_1000</th>\n",
       "      <th>XIV_index_1000</th>\n",
       "      <th>XIV_5000</th>\n",
       "      <th>XIV_index_5000</th>\n",
       "      <th>XIV_10000</th>\n",
       "      <th>XIV_index_10000</th>\n",
       "      <th>XIV_MIN</th>\n",
       "    </tr>\n",
       "  </thead>\n",
       "  <tbody>\n",
       "    <tr>\n",
       "      <th rowspan=\"5\" valign=\"top\">train</th>\n",
       "      <th>0</th>\n",
       "      <td>0.337999</td>\n",
       "      <td>2.015612</td>\n",
       "      <td>-1.120773</td>\n",
       "      <td>-0.690272</td>\n",
       "      <td>0.671591</td>\n",
       "      <td>-0.168208</td>\n",
       "      <td>-1.100642</td>\n",
       "      <td>0.529982</td>\n",
       "      <td>0.059588</td>\n",
       "      <td>-0.079928</td>\n",
       "      <td>...</td>\n",
       "      <td>0.873990</td>\n",
       "      <td>0.468302</td>\n",
       "      <td>0.065571</td>\n",
       "      <td>-0.009769</td>\n",
       "      <td>0.011967</td>\n",
       "      <td>-0.622073</td>\n",
       "      <td>0.0</td>\n",
       "      <td>-1.160310</td>\n",
       "      <td>0.0</td>\n",
       "      <td>-0.868259</td>\n",
       "    </tr>\n",
       "    <tr>\n",
       "      <th>1</th>\n",
       "      <td>0.337999</td>\n",
       "      <td>-0.927462</td>\n",
       "      <td>-0.947614</td>\n",
       "      <td>-0.364954</td>\n",
       "      <td>-0.587255</td>\n",
       "      <td>-0.168208</td>\n",
       "      <td>-0.728309</td>\n",
       "      <td>0.529982</td>\n",
       "      <td>0.059588</td>\n",
       "      <td>-0.079928</td>\n",
       "      <td>...</td>\n",
       "      <td>-0.139278</td>\n",
       "      <td>-0.253298</td>\n",
       "      <td>0.065571</td>\n",
       "      <td>-0.338334</td>\n",
       "      <td>0.011967</td>\n",
       "      <td>1.773411</td>\n",
       "      <td>0.0</td>\n",
       "      <td>1.753319</td>\n",
       "      <td>0.0</td>\n",
       "      <td>-0.700027</td>\n",
       "    </tr>\n",
       "    <tr>\n",
       "      <th>2</th>\n",
       "      <td>0.337999</td>\n",
       "      <td>-0.927462</td>\n",
       "      <td>-0.275592</td>\n",
       "      <td>-0.690272</td>\n",
       "      <td>-0.587255</td>\n",
       "      <td>-0.168208</td>\n",
       "      <td>-1.156699</td>\n",
       "      <td>0.529982</td>\n",
       "      <td>0.059588</td>\n",
       "      <td>-0.079928</td>\n",
       "      <td>...</td>\n",
       "      <td>1.115550</td>\n",
       "      <td>0.764881</td>\n",
       "      <td>0.065571</td>\n",
       "      <td>0.307836</td>\n",
       "      <td>0.011967</td>\n",
       "      <td>1.764265</td>\n",
       "      <td>0.0</td>\n",
       "      <td>1.754097</td>\n",
       "      <td>0.0</td>\n",
       "      <td>-0.355571</td>\n",
       "    </tr>\n",
       "    <tr>\n",
       "      <th>3</th>\n",
       "      <td>0.337999</td>\n",
       "      <td>2.015612</td>\n",
       "      <td>1.230616</td>\n",
       "      <td>2.181465</td>\n",
       "      <td>-1.216678</td>\n",
       "      <td>-0.168208</td>\n",
       "      <td>1.680087</td>\n",
       "      <td>-2.042739</td>\n",
       "      <td>0.059588</td>\n",
       "      <td>2.121522</td>\n",
       "      <td>...</td>\n",
       "      <td>-1.121725</td>\n",
       "      <td>-0.581234</td>\n",
       "      <td>0.065571</td>\n",
       "      <td>-0.250408</td>\n",
       "      <td>0.011967</td>\n",
       "      <td>-0.578617</td>\n",
       "      <td>0.0</td>\n",
       "      <td>-1.020242</td>\n",
       "      <td>0.0</td>\n",
       "      <td>0.327690</td>\n",
       "    </tr>\n",
       "    <tr>\n",
       "      <th>4</th>\n",
       "      <td>-2.885364</td>\n",
       "      <td>2.015612</td>\n",
       "      <td>1.604419</td>\n",
       "      <td>-1.601743</td>\n",
       "      <td>1.301014</td>\n",
       "      <td>-0.168208</td>\n",
       "      <td>-0.960152</td>\n",
       "      <td>0.529982</td>\n",
       "      <td>0.059588</td>\n",
       "      <td>-0.079928</td>\n",
       "      <td>...</td>\n",
       "      <td>-1.121725</td>\n",
       "      <td>-0.682918</td>\n",
       "      <td>0.065571</td>\n",
       "      <td>-1.276578</td>\n",
       "      <td>0.011967</td>\n",
       "      <td>-0.569100</td>\n",
       "      <td>0.0</td>\n",
       "      <td>-1.001233</td>\n",
       "      <td>0.0</td>\n",
       "      <td>0.577627</td>\n",
       "    </tr>\n",
       "  </tbody>\n",
       "</table>\n",
       "<p>5 rows × 232 columns</p>\n",
       "</div>"
      ],
      "text/plain": [
       "         building_material      city    txn_dt  total_floor  building_type  \\\n",
       "train 0           0.337999  2.015612 -1.120773    -0.690272       0.671591   \n",
       "      1           0.337999 -0.927462 -0.947614    -0.364954      -0.587255   \n",
       "      2           0.337999 -0.927462 -0.275592    -0.690272      -0.587255   \n",
       "      3           0.337999  2.015612  1.230616     2.181465      -1.216678   \n",
       "      4          -2.885364  2.015612  1.604419    -1.601743       1.301014   \n",
       "\n",
       "         building_use  building_complete_dt  parking_way  parking_area  \\\n",
       "train 0     -0.168208             -1.100642     0.529982      0.059588   \n",
       "      1     -0.168208             -0.728309     0.529982      0.059588   \n",
       "      2     -0.168208             -1.156699     0.529982      0.059588   \n",
       "      3     -0.168208              1.680087    -2.042739      0.059588   \n",
       "      4     -0.168208             -0.960152     0.529982      0.059588   \n",
       "\n",
       "         parking_price    ...      XIV_250   XIV_500  XIV_index_500  XIV_1000  \\\n",
       "train 0      -0.079928    ...     0.873990  0.468302       0.065571 -0.009769   \n",
       "      1      -0.079928    ...    -0.139278 -0.253298       0.065571 -0.338334   \n",
       "      2      -0.079928    ...     1.115550  0.764881       0.065571  0.307836   \n",
       "      3       2.121522    ...    -1.121725 -0.581234       0.065571 -0.250408   \n",
       "      4      -0.079928    ...    -1.121725 -0.682918       0.065571 -1.276578   \n",
       "\n",
       "         XIV_index_1000  XIV_5000  XIV_index_5000  XIV_10000  XIV_index_10000  \\\n",
       "train 0        0.011967 -0.622073             0.0  -1.160310              0.0   \n",
       "      1        0.011967  1.773411             0.0   1.753319              0.0   \n",
       "      2        0.011967  1.764265             0.0   1.754097              0.0   \n",
       "      3        0.011967 -0.578617             0.0  -1.020242              0.0   \n",
       "      4        0.011967 -0.569100             0.0  -1.001233              0.0   \n",
       "\n",
       "          XIV_MIN  \n",
       "train 0 -0.868259  \n",
       "      1 -0.700027  \n",
       "      2 -0.355571  \n",
       "      3  0.327690  \n",
       "      4  0.577627  \n",
       "\n",
       "[5 rows x 232 columns]"
      ]
     },
     "execution_count": 42,
     "metadata": {},
     "output_type": "execute_result"
    }
   ],
   "source": [
    "# normalization helps a bit\n",
    "from sklearn import preprocessing\n",
    "\n",
    "#num_feats = df_all_dum.select_dtypes( exclude = [ 'object' ] ).columns\n",
    "df_all_dum[ num_feats ] = preprocessing.scale( df_all_dum[ num_feats ] )\n",
    "df_all_dum[ num_feats ].head()"
   ]
  },
  {
   "cell_type": "code",
   "execution_count": null,
   "metadata": {},
   "outputs": [],
   "source": []
  },
  {
   "cell_type": "code",
   "execution_count": null,
   "metadata": {},
   "outputs": [],
   "source": []
  },
  {
   "cell_type": "code",
   "execution_count": 43,
   "metadata": {},
   "outputs": [
    {
     "data": {
      "text/plain": [
       "[]"
      ]
     },
     "execution_count": 43,
     "metadata": {},
     "output_type": "execute_result"
    }
   ],
   "source": [
    "np.any(np.isnan(df_all_dum))\n",
    "df_all_dum.columns[df_all_dum.isna().any()].tolist()"
   ]
  },
  {
   "cell_type": "code",
   "execution_count": null,
   "metadata": {},
   "outputs": [],
   "source": [
    "\n"
   ]
  },
  {
   "cell_type": "code",
   "execution_count": 44,
   "metadata": {},
   "outputs": [
    {
     "data": {
      "text/plain": [
       "Index([], dtype='object')"
      ]
     },
     "execution_count": 44,
     "metadata": {},
     "output_type": "execute_result"
    }
   ],
   "source": [
    "# 查詢是否有重複的欄位\n",
    "df_all_dum.columns[df_all_dum.columns.duplicated()]"
   ]
  },
  {
   "cell_type": "markdown",
   "metadata": {},
   "source": [
    "## Training Start"
   ]
  },
  {
   "cell_type": "code",
   "execution_count": 45,
   "metadata": {},
   "outputs": [],
   "source": [
    "# inputs\n",
    "from sklearn.model_selection import train_test_split\n",
    "from matplotlib import rcParams\n",
    "X = df_all_dum[:train.shape[0]]\n",
    "y = train.total_price\n",
    "#把train data與test分開\n",
    "X, X_val, y, y_val = train_test_split(X, y, test_size = 0.1, random_state = 40)\n",
    "\n",
    "X_test = df_all_dum[ train.shape[0]: ]"
   ]
  },
  {
   "cell_type": "code",
   "execution_count": 46,
   "metadata": {},
   "outputs": [],
   "source": [
    "from sklearn.linear_model import LassoCV\n",
    "from sklearn.model_selection import cross_val_score\n",
    "\n",
    "def rmse_cv(model):\n",
    "    rmse= np.sqrt(-cross_val_score(model, X, y, scoring = \"neg_mean_squared_error\", cv = 5))\n",
    "    return(rmse)"
   ]
  },
  {
   "cell_type": "code",
   "execution_count": null,
   "metadata": {},
   "outputs": [],
   "source": []
  },
  {
   "cell_type": "markdown",
   "metadata": {},
   "source": [
    "## XGBoost"
   ]
  },
  {
   "cell_type": "code",
   "execution_count": 47,
   "metadata": {},
   "outputs": [],
   "source": [
    "import xgboost as xgb\n",
    "from sklearn import metrics\n",
    "from xgboost import XGBRegressor\n",
    "from sklearn.model_selection import KFold"
   ]
  },
  {
   "cell_type": "code",
   "execution_count": null,
   "metadata": {},
   "outputs": [],
   "source": [
    "\n"
   ]
  },
  {
   "cell_type": "code",
   "execution_count": null,
   "metadata": {},
   "outputs": [],
   "source": [
    "#https://www.kaggle.com/pablocastilla/predict-house-prices-with-xgboost-regression\n",
    "#model_XGB = XGBRegressor(colsample_bytree=0.4,\n",
    "#                 gamma=0,                 \n",
    "#                 learning_rate=0.07,\n",
    "#                 max_depth=3,\n",
    "#                 min_child_weight=1.5,\n",
    "#                 n_estimators=10000,                                                                    \n",
    "#                 reg_alpha=0.75,\n",
    "#                 reg_lambda=0.45,\n",
    "#                 subsample=0.6,\n",
    "#                 seed=42) \n",
    "\n",
    "model_XGB = XGBRegressor(base_score=0.5,colsample_bytree=0.7, gamma=0.0468, \n",
    "                             learning_rate=0.01, max_depth=3, \n",
    "                             min_child_weight=1, n_estimators=10000,objective='reg:linear',\n",
    "                             reg_alpha=0.4640, reg_lambda=0.8571,\n",
    "                             subsample=0.5213, silent=1,\n",
    "                             random_state =7, nthread = -1)\n",
    "\n",
    "model_XGB.fit(X, y)\n",
    "y_pred = model_XGB.predict( X )\n",
    "print('RMSE:', np.sqrt(metrics.mean_squared_error(y, y_pred)))\n",
    "print('  R2:', metrics.r2_score(y, y_pred))\n",
    "\n",
    "val_preds = model_XGB.predict(X_val)\n",
    "print('RMSE:', np.sqrt(metrics.mean_squared_error( y_val, val_preds ) ) )\n",
    "print('  R2:', metrics.r2_score( y_val, val_preds ) )"
   ]
  },
  {
   "cell_type": "code",
   "execution_count": null,
   "metadata": {},
   "outputs": [],
   "source": [
    "y_answer_XGB = model_XGB.predict( X_test )\n",
    "y_answer_XGB = np.exp(y_answer_XGB)\n",
    "print(pd.DataFrame({'total_price': y_answer_XGB}, index=test.building_id).head())\n",
    "pd.DataFrame({'total_price': y_answer_XGB}, index=test.building_id).to_csv('submission_xgb_0514_3Level.csv')"
   ]
  },
  {
   "cell_type": "code",
   "execution_count": null,
   "metadata": {},
   "outputs": [],
   "source": [
    "def error(yhat,y_pred):\n",
    "    yhat = np.array(yhat)\n",
    "    y_pred = np.array(y_pred)\n",
    "    error_sum = ((yhat - y_pred)**1).sum()\n",
    "    print(error_sum)\n",
    "    return error_sum"
   ]
  },
  {
   "cell_type": "code",
   "execution_count": null,
   "metadata": {},
   "outputs": [],
   "source": [
    "print(error(y,y_pred))"
   ]
  },
  {
   "cell_type": "code",
   "execution_count": null,
   "metadata": {},
   "outputs": [],
   "source": [
    "import pickle\n",
    "#save model\n",
    "pickle.dump(model_XGB, open(\"./savemodel/xgb_0513_N1.dat\", \"wb\"))"
   ]
  },
  {
   "cell_type": "code",
   "execution_count": null,
   "metadata": {},
   "outputs": [],
   "source": [
    "#model_XGB = XGBRegressor(base_score=0.5,colsample_bytree=0.7, gamma=0.0468, \n",
    "#                             learning_rate=0.01, max_depth=3, \n",
    "#                             min_child_weight=1, n_estimators=10000,objective='reg:linear',\n",
    "#                             reg_alpha=0.4640, reg_lambda=0.8571,\n",
    "#                             subsample=0.5213, silent=1,\n",
    "#                             random_state =7, nthread = -1)\n",
    "\n",
    "#https://github.com/Cuongvn08/tensorflow_kaggle_house_price/blob/master/train.py\n",
    "model_xgb = xgb.XGBRegressor(colsample_bytree=0.4603, gamma=0.0468, \n",
    "                             learning_rate=0.05, max_depth=3, \n",
    "                             min_child_weight=1.7817, n_estimators=2200,\n",
    "                             reg_alpha=0.4640, reg_lambda=0.8571,\n",
    "                             subsample=0.5213, silent=1)\n",
    "#import lightgbm as lgb\n",
    "#model_lgb = lgb.LGBMRegressor(objective='regression',num_leaves=5,\n",
    "#                              learning_rate=0.05, n_estimators=720,\n",
    "#                              max_bin = 55, bagging_fraction = 0.8,\n",
    "#                              bagging_freq = 5, feature_fraction = 0.2319,\n",
    "#                              feature_fraction_seed=9, bagging_seed=9,\n",
    "#                              min_data_in_leaf =6, min_sum_hessian_in_leaf = 11)\n",
    "\n",
    "#model_XGB = XGBRegressor(base_score=0.5,colsample_bytree=0.7, gamma=0.0468, \n",
    "#                             learning_rate=0.01, max_depth=6, \n",
    "#                             min_child_weight=5, n_estimators=4000,objective='reg:linear',\n",
    "#                             reg_alpha=0.4640, reg_lambda=0.8571,\n",
    "#                             subsample=0.5213, silent=1,\n",
    "#                             random_state =7, nthread = -1)\n",
    "\n",
    "#model_XGB = XGBRegressor(base_score=0.5,colsample_bytree=0.7, gamma=0.0468, \n",
    "#                             learning_rate=0.01, max_depth=7, \n",
    "#                             min_child_weight=4, n_estimators=5000,objective='reg:linear',\n",
    "#                             reg_alpha=0.4640, reg_lambda=0.8571,\n",
    "#                             subsample=0.5213, silent=1,\n",
    "#                             random_state =7, nthread = -1)\n",
    "#colsample_bytree=0.4603, gamma=0.0468, \n",
    "#                             learning_rate=0.1, max_depth=7, \n",
    "#                             min_child_weight=1.7817, n_estimators=2200,\n",
    "#                             reg_alpha=0.4640, reg_lambda=0.8571,\n",
    "#                             subsample=0.5213, silent=1,\n",
    "#                             random_state =7, nthread = -1\n",
    "\n",
    "\n",
    "#colsample_bylevel=1,colsample_bytree=1, gamma=0, \n",
    "#                             learning_rate=0.1, max_delta_step=0,max_depth=7, \n",
    "#                             min_child_weight=1,missing=None, n_estimators=2200,nthread=-1,objective='reg:linear',\n",
    "#                             reg_alpha=0, reg_lambda=1,scale_pos_weight=1,seed=1850,\n",
    "#                              silent=True,subsample=1,\n",
    "#                             random_state =7\n",
    "#model_XGB = XGBRegressor()\n",
    "model_XGB.fit(X, y)\n",
    "y_pred = model_XGB.predict( X )\n",
    "print('RMSE:', np.sqrt(metrics.mean_squared_error(y, y_pred)))\n",
    "print('  R2:', metrics.r2_score(y, y_pred))"
   ]
  },
  {
   "cell_type": "code",
   "execution_count": null,
   "metadata": {},
   "outputs": [],
   "source": [
    "val_preds = model_XGB.predict(X_val)\n",
    "\n",
    "print('RMSE:', np.sqrt(metrics.mean_squared_error( y_val, val_preds ) ) )\n",
    "print('  R2:', metrics.r2_score( y_val, val_preds ) )\n"
   ]
  },
  {
   "cell_type": "code",
   "execution_count": null,
   "metadata": {},
   "outputs": [],
   "source": [
    "y_answer_XGB = model_XGB.predict( X_test )\n",
    "y_answer_XGB = np.exp(y_answer_XGB)\n",
    "print(pd.DataFrame({'total_price': y_answer_XGB}, index=test.building_id).head())"
   ]
  },
  {
   "cell_type": "code",
   "execution_count": null,
   "metadata": {},
   "outputs": [],
   "source": [
    "pd.DataFrame({'total_price': y_answer_XGB}, index=test.building_id).to_csv('submission_xgb_0513_2200.csv')"
   ]
  },
  {
   "cell_type": "code",
   "execution_count": null,
   "metadata": {},
   "outputs": [],
   "source": [
    "import pickle\n",
    "#save model\n",
    "pickle.dump(model_XGB, open(\"./savemodel/submission_xgb_0513_2200.dat\", \"wb\"))"
   ]
  },
  {
   "cell_type": "code",
   "execution_count": null,
   "metadata": {},
   "outputs": [],
   "source": []
  },
  {
   "cell_type": "code",
   "execution_count": null,
   "metadata": {},
   "outputs": [],
   "source": [
    "from sklearn.linear_model import LassoCV\n",
    "model_Lasso = LassoCV( alphas = [ 1, 0.1, 0.01, 0.001, 0.0005, 0.0004, 0.0003, 0.0002 ],\n",
    "                       max_iter = 2000 ).fit( X, y )\n",
    "print( rmse_cv( model_Lasso ), model_Lasso.alpha_ )"
   ]
  },
  {
   "cell_type": "code",
   "execution_count": null,
   "metadata": {},
   "outputs": [],
   "source": [
    "coef = pd.Series( model_Lasso.coef_, index = X.columns )\n",
    "print( sum(coef != 0), sum(coef == 0))"
   ]
  },
  {
   "cell_type": "code",
   "execution_count": null,
   "metadata": {},
   "outputs": [],
   "source": [
    "important_coef = pd.concat( [coef.sort_values().head(10), coef.sort_values().tail(10)] )\n",
    "rcParams['figure.figsize'] = (8.0, 10.0)\n",
    "important_coef.plot(kind = 'barh')\n",
    "plt.title('Coefficients in Model Lasso')"
   ]
  },
  {
   "cell_type": "code",
   "execution_count": null,
   "metadata": {},
   "outputs": [],
   "source": [
    "\n",
    "preds = model_Lasso.predict(X)\n",
    "print('RMSE:', np.sqrt(metrics.mean_squared_error(y, preds)))\n",
    "print('  R2:', metrics.r2_score( y, preds ) )"
   ]
  },
  {
   "cell_type": "code",
   "execution_count": null,
   "metadata": {},
   "outputs": [],
   "source": [
    "val_preds = model_Lasso.predict(X_val)\n",
    "print('RMSE:', np.sqrt(metrics.mean_squared_error( y_val, val_preds ) ) )\n",
    "print('  R2:', metrics.r2_score( y_val, val_preds ) )"
   ]
  },
  {
   "cell_type": "code",
   "execution_count": null,
   "metadata": {},
   "outputs": [],
   "source": [
    "y_answer_Lasso = model_Lasso.predict( X_test )\n",
    "y_answer_Lasso = np.exp(y_answer_Lasso)\n",
    "# print(pd.DataFrame(data=y_answer, columns=['SalePrice'], index=X_test.index).head())\n",
    "print(pd.DataFrame({'total_price': y_answer_Lasso}, index=test.building_id).head())"
   ]
  },
  {
   "cell_type": "code",
   "execution_count": null,
   "metadata": {},
   "outputs": [],
   "source": [
    "pd.DataFrame({'total_price': y_answer_Lasso}, index=test.building_id).to_csv('submission_0513_Lasso.csv')"
   ]
  },
  {
   "cell_type": "code",
   "execution_count": null,
   "metadata": {},
   "outputs": [],
   "source": [
    "import pickle\n",
    "#save model\n",
    "pickle.dump(model_Lasso, open(\"./savemodel/submission_0513_Lasso.dat\", \"wb\"))"
   ]
  },
  {
   "cell_type": "code",
   "execution_count": null,
   "metadata": {},
   "outputs": [],
   "source": [
    "# Lasso + XGB\n",
    "y_answer = y_answer_Lasso * 0.75 + y_answer_XGB * 0.25\n",
    "print(pd.DataFrame({'total_price': y_answer}, index=test.building_id).head())\n",
    "\n",
    "print('RMSE:', np.sqrt(metrics.mean_squared_error( y_val, val_preds ) ) )\n",
    "print('  R2:', metrics.r2_score( y_val, val_preds ) )\n",
    "pd.DataFrame({'total_price': y_answer}, index=test.building_id).to_csv('submission_LX.csv')"
   ]
  },
  {
   "cell_type": "code",
   "execution_count": null,
   "metadata": {},
   "outputs": [],
   "source": [
    "\n"
   ]
  },
  {
   "cell_type": "code",
   "execution_count": null,
   "metadata": {},
   "outputs": [],
   "source": [
    "#LassoCV"
   ]
  },
  {
   "cell_type": "code",
   "execution_count": null,
   "metadata": {},
   "outputs": [],
   "source": []
  },
  {
   "cell_type": "code",
   "execution_count": null,
   "metadata": {},
   "outputs": [],
   "source": [
    "\n",
    "kf = KFold(n_splits = 5, random_state = None, shuffle = True)\n",
    "pred_tmp = np.zeros((X_test.shape[0],1)).reshape(-1)\n",
    "# print(list(kf.split(X)))\n",
    "for train_index, val_index in kf.split(X):\n",
    "#     print('train_index:', train_index)\n",
    "#     print('val_index:', val_index)\n",
    "    X_train = pd.DataFrame(data = X.values[train_index], columns = X.columns, index = train_index)\n",
    "    X_val = pd.DataFrame(data = X.values[val_index], columns = X.columns, index = val_index)\n",
    "#     y_train = pd.DataFrame(data = y.values[train_index], columns = ['SalePrice_N'], index = train_index)\n",
    "    y_train = y.values[ train_index ]\n",
    "    y_val = pd.DataFrame(data = y.values[val_index], columns = ['SalePrice'], index = val_index)\n",
    "    model_XGB = XGBRegressor()\n",
    "#    model_XGB = XGBRegressor(colsample_bytree=0.4603, gamma=0.0468, \n",
    "#                             learning_rate=0.1, max_depth=5, \n",
    "#                             min_child_weight=1.7817, n_estimators=2200,\n",
    "#                             reg_alpha=0.4640, reg_lambda=0.8571,\n",
    "#                             subsample=0.5213, silent=1,\n",
    "#                             random_state =7, nthread = -1)\n",
    "    model_XGB.fit(X_train, y_train)\n",
    "    y_pred = model_XGB.predict(X_val)\n",
    "    y_ans = model_XGB.predict(X_test)\n",
    "#     print(y_ans.shape)\n",
    "    pred_tmp+=np.exp(y_ans)\n",
    "    print('RMSE:', np.sqrt(metrics.mean_squared_error(y_val, y_pred)))\n",
    "    print('  R2:', metrics.r2_score(y_val, y_pred))\n",
    "y_answer_XGB = pred_tmp/5"
   ]
  },
  {
   "cell_type": "code",
   "execution_count": null,
   "metadata": {},
   "outputs": [],
   "source": []
  },
  {
   "cell_type": "markdown",
   "metadata": {},
   "source": [
    "## Decision Tree"
   ]
  },
  {
   "cell_type": "markdown",
   "metadata": {},
   "source": []
  },
  {
   "cell_type": "code",
   "execution_count": 173,
   "metadata": {},
   "outputs": [],
   "source": [
    "#https://www.itread01.com/content/1545151168.html"
   ]
  },
  {
   "cell_type": "code",
   "execution_count": 174,
   "metadata": {},
   "outputs": [],
   "source": [
    "from sklearn.model_selection import GridSearchCV\n",
    "xgb1 = XGBRegressor()\n",
    "#parameters={'colsample_bytree':[0.4603], 'gamma':[0.0468], \n",
    "#                             'learning_rate':[0.1,0.05,0.01], 'max_depth':[6,7,8], \n",
    "#                             'min_child_weight':[4], 'n_estimators':[2200],\n",
    "#                             'reg_alpha':[0.4640], 'reg_lambda':[0.8571],\n",
    "#                             'subsample:':[0.5213], 'silent':[1],\n",
    "#                             'random_state' :[7], 'nthread' : [-1]}\n",
    "\n",
    "parameters = {'nthread':[4], #when use hyperthread, xgboost may become slower\n",
    "              'objective':['reg:linear'],\n",
    "              'learning_rate': [.01], #so called `eta` value\n",
    "              'max_depth': [7],\n",
    "              'min_child_weight': [4],\n",
    "              'silent': [1],\n",
    "              'subsample': [0.7],\n",
    "              'colsample_bytree': [0.7],\n",
    "              'n_estimators': [500]}\n",
    "\n",
    "#xgb_grid = GridSearchCV(xgb1,\n",
    "#                        parameters,\n",
    "#                        cv = 2,\n",
    "#                        n_jobs = 5,\n",
    "#                        verbose=True)\n",
    "\n",
    "#xgb_grid.fit(X,y)\n",
    "\n",
    "#print(xgb_grid.best_score_)\n",
    "#print(xgb_grid.best_params_)"
   ]
  },
  {
   "cell_type": "code",
   "execution_count": 175,
   "metadata": {},
   "outputs": [],
   "source": [
    "#val_preds = xgb_grid.predict(X_val)\n",
    "\n",
    "#print('RMSE:', np.sqrt(metrics.mean_squared_error( y_val, val_preds ) ) )\n",
    "#print('  R2:', metrics.r2_score( y_val, val_preds ) )"
   ]
  },
  {
   "cell_type": "code",
   "execution_count": 176,
   "metadata": {},
   "outputs": [],
   "source": [
    "#y_answer_XGB = xgb_grid.predict( X_test )\n",
    "#y_answer_XGB = np.exp(y_answer_XGB)\n",
    "#print(pd.DataFrame({'SalePrice': y_answer_XGB}, index=test.Id).head())"
   ]
  },
  {
   "cell_type": "code",
   "execution_count": 177,
   "metadata": {},
   "outputs": [],
   "source": [
    "#pd.DataFrame({'SalePrice': y_answer_XGB}, index=test.Id).to_csv('submission_xgb.csv')"
   ]
  },
  {
   "cell_type": "code",
   "execution_count": 177,
   "metadata": {},
   "outputs": [],
   "source": []
  },
  {
   "cell_type": "markdown",
   "metadata": {},
   "source": [
    "## SVR"
   ]
  },
  {
   "cell_type": "code",
   "execution_count": 94,
   "metadata": {},
   "outputs": [
    {
     "name": "stdout",
     "output_type": "stream",
     "text": [
      "[10786 10787 10788 ... 53925 53926 53927]\n",
      "predict\n",
      "RMSE: 0.2788542224952493\n",
      "  R2: 0.9415712301395708\n",
      "[    0     1     2 ... 53925 53926 53927]\n"
     ]
    },
    {
     "ename": "KeyboardInterrupt",
     "evalue": "",
     "output_type": "error",
     "traceback": [
      "\u001b[0;31m---------------------------------------------------------------------------\u001b[0m",
      "\u001b[0;31mKeyboardInterrupt\u001b[0m                         Traceback (most recent call last)",
      "\u001b[0;32m<ipython-input-94-4424350a7dc7>\u001b[0m in \u001b[0;36m<module>\u001b[0;34m()\u001b[0m\n\u001b[1;32m     13\u001b[0m     \u001b[0mprint\u001b[0m\u001b[0;34m(\u001b[0m\u001b[0mtrain_index\u001b[0m\u001b[0;34m)\u001b[0m\u001b[0;34m\u001b[0m\u001b[0m\n\u001b[1;32m     14\u001b[0m     \u001b[0mmodel_SVR\u001b[0m \u001b[0;34m=\u001b[0m \u001b[0mSVR\u001b[0m\u001b[0;34m(\u001b[0m\u001b[0mkernel\u001b[0m\u001b[0;34m=\u001b[0m\u001b[0;34m'rbf'\u001b[0m\u001b[0;34m,\u001b[0m \u001b[0mgamma\u001b[0m\u001b[0;34m=\u001b[0m\u001b[0;36m0.002\u001b[0m\u001b[0;34m)\u001b[0m\u001b[0;34m\u001b[0m\u001b[0m\n\u001b[0;32m---> 15\u001b[0;31m     \u001b[0mmodel_SVR\u001b[0m\u001b[0;34m.\u001b[0m\u001b[0mfit\u001b[0m\u001b[0;34m(\u001b[0m\u001b[0mX_train\u001b[0m\u001b[0;34m,\u001b[0m \u001b[0my_train\u001b[0m\u001b[0;34m)\u001b[0m\u001b[0;34m\u001b[0m\u001b[0m\n\u001b[0m\u001b[1;32m     16\u001b[0m     \u001b[0mprint\u001b[0m\u001b[0;34m(\u001b[0m\u001b[0;34m'predict'\u001b[0m\u001b[0;34m)\u001b[0m\u001b[0;34m\u001b[0m\u001b[0m\n\u001b[1;32m     17\u001b[0m     \u001b[0my_pred\u001b[0m \u001b[0;34m=\u001b[0m \u001b[0mmodel_SVR\u001b[0m\u001b[0;34m.\u001b[0m\u001b[0mpredict\u001b[0m\u001b[0;34m(\u001b[0m\u001b[0mX_val\u001b[0m\u001b[0;34m)\u001b[0m\u001b[0;34m\u001b[0m\u001b[0m\n",
      "\u001b[0;32m/opt/conda/lib/python3.6/site-packages/sklearn/svm/base.py\u001b[0m in \u001b[0;36mfit\u001b[0;34m(self, X, y, sample_weight)\u001b[0m\n\u001b[1;32m    185\u001b[0m \u001b[0;34m\u001b[0m\u001b[0m\n\u001b[1;32m    186\u001b[0m         \u001b[0mseed\u001b[0m \u001b[0;34m=\u001b[0m \u001b[0mrnd\u001b[0m\u001b[0;34m.\u001b[0m\u001b[0mrandint\u001b[0m\u001b[0;34m(\u001b[0m\u001b[0mnp\u001b[0m\u001b[0;34m.\u001b[0m\u001b[0miinfo\u001b[0m\u001b[0;34m(\u001b[0m\u001b[0;34m'i'\u001b[0m\u001b[0;34m)\u001b[0m\u001b[0;34m.\u001b[0m\u001b[0mmax\u001b[0m\u001b[0;34m)\u001b[0m\u001b[0;34m\u001b[0m\u001b[0m\n\u001b[0;32m--> 187\u001b[0;31m         \u001b[0mfit\u001b[0m\u001b[0;34m(\u001b[0m\u001b[0mX\u001b[0m\u001b[0;34m,\u001b[0m \u001b[0my\u001b[0m\u001b[0;34m,\u001b[0m \u001b[0msample_weight\u001b[0m\u001b[0;34m,\u001b[0m \u001b[0msolver_type\u001b[0m\u001b[0;34m,\u001b[0m \u001b[0mkernel\u001b[0m\u001b[0;34m,\u001b[0m \u001b[0mrandom_seed\u001b[0m\u001b[0;34m=\u001b[0m\u001b[0mseed\u001b[0m\u001b[0;34m)\u001b[0m\u001b[0;34m\u001b[0m\u001b[0m\n\u001b[0m\u001b[1;32m    188\u001b[0m         \u001b[0;31m# see comment on the other call to np.iinfo in this file\u001b[0m\u001b[0;34m\u001b[0m\u001b[0;34m\u001b[0m\u001b[0m\n\u001b[1;32m    189\u001b[0m \u001b[0;34m\u001b[0m\u001b[0m\n",
      "\u001b[0;32m/opt/conda/lib/python3.6/site-packages/sklearn/svm/base.py\u001b[0m in \u001b[0;36m_dense_fit\u001b[0;34m(self, X, y, sample_weight, solver_type, kernel, random_seed)\u001b[0m\n\u001b[1;32m    252\u001b[0m                 \u001b[0mcache_size\u001b[0m\u001b[0;34m=\u001b[0m\u001b[0mself\u001b[0m\u001b[0;34m.\u001b[0m\u001b[0mcache_size\u001b[0m\u001b[0;34m,\u001b[0m \u001b[0mcoef0\u001b[0m\u001b[0;34m=\u001b[0m\u001b[0mself\u001b[0m\u001b[0;34m.\u001b[0m\u001b[0mcoef0\u001b[0m\u001b[0;34m,\u001b[0m\u001b[0;34m\u001b[0m\u001b[0m\n\u001b[1;32m    253\u001b[0m                 \u001b[0mgamma\u001b[0m\u001b[0;34m=\u001b[0m\u001b[0mself\u001b[0m\u001b[0;34m.\u001b[0m\u001b[0m_gamma\u001b[0m\u001b[0;34m,\u001b[0m \u001b[0mepsilon\u001b[0m\u001b[0;34m=\u001b[0m\u001b[0mself\u001b[0m\u001b[0;34m.\u001b[0m\u001b[0mepsilon\u001b[0m\u001b[0;34m,\u001b[0m\u001b[0;34m\u001b[0m\u001b[0m\n\u001b[0;32m--> 254\u001b[0;31m                 max_iter=self.max_iter, random_seed=random_seed)\n\u001b[0m\u001b[1;32m    255\u001b[0m \u001b[0;34m\u001b[0m\u001b[0m\n\u001b[1;32m    256\u001b[0m         \u001b[0mself\u001b[0m\u001b[0;34m.\u001b[0m\u001b[0m_warn_from_fit_status\u001b[0m\u001b[0;34m(\u001b[0m\u001b[0;34m)\u001b[0m\u001b[0;34m\u001b[0m\u001b[0m\n",
      "\u001b[0;31mKeyboardInterrupt\u001b[0m: "
     ]
    }
   ],
   "source": [
    "# KFold Data Split\n",
    "\n",
    "from sklearn.svm import SVR\n",
    "from sklearn.model_selection import KFold\n",
    "kf = KFold(n_splits = 5, random_state = None, shuffle = False)\n",
    "pred_tmp = np.zeros((X_test.shape[0],1)).reshape(-1)\n",
    "for train_index, val_index in kf.split(X):\n",
    "    X_train = pd.DataFrame(data = X.values[train_index], columns = X.columns, index = train_index)\n",
    "    X_val = pd.DataFrame(data = X.values[val_index], columns = X.columns, index = val_index)\n",
    "#     y_train = pd.DataFrame(data = y.values[train_index], columns = ['SalePrice'], index = train_index)\n",
    "    y_train = y.values[ train_index ]\n",
    "    y_val = pd.DataFrame(data = y.values[val_index], columns = ['total_price'], index = val_index)\n",
    "    print(train_index)\n",
    "    model_SVR = SVR(kernel='rbf', gamma=0.002)\n",
    "    model_SVR.fit(X_train, y_train)\n",
    "    print('predict')\n",
    "    y_pred = model_SVR.predict(X_val)\n",
    "    y_ans = model_SVR.predict(X_test)\n",
    "    pred_tmp+=np.exp(y_ans)\n",
    "    print('RMSE:', np.sqrt(metrics.mean_squared_error(y_val, y_pred)))\n",
    "    print('  R2:', metrics.r2_score(y_val, y_pred))\n",
    "y_answer_SVR = pred_tmp/5"
   ]
  },
  {
   "cell_type": "code",
   "execution_count": null,
   "metadata": {},
   "outputs": [],
   "source": []
  },
  {
   "cell_type": "code",
   "execution_count": null,
   "metadata": {},
   "outputs": [],
   "source": [
    "model_SVR = SVR(kernel='rbf', gamma=0.002)\n",
    "model_SVR.fit(X, y)\n",
    "y_answer_SVR = model_SVR.predict( X_test )\n",
    "y_answer_SVR = np.exp(y_answer_SVR)\n",
    "# print(pd.DataFrame(data=y_answer, columns=['SalePrice'], index=X_test.index).head())\n",
    "print(pd.DataFrame({'total_price': y_answer_SVR}, index=test.building_id).head())"
   ]
  },
  {
   "cell_type": "code",
   "execution_count": null,
   "metadata": {},
   "outputs": [],
   "source": [
    "pd.DataFrame({'total_price': y_answer_SVR}, index=test.building_id).to_csv('submission_SVR.csv')"
   ]
  },
  {
   "cell_type": "code",
   "execution_count": null,
   "metadata": {},
   "outputs": [],
   "source": []
  },
  {
   "cell_type": "markdown",
   "metadata": {},
   "source": [
    "## LassoCV"
   ]
  },
  {
   "cell_type": "code",
   "execution_count": null,
   "metadata": {},
   "outputs": [],
   "source": [
    "from sklearn.linear_model import LassoCV\n",
    "model_Lasso = LassoCV( alphas = [ 1, 0.1, 0.01, 0.001, 0.0005, 0.0004, 0.0003, 0.0002 ],\n",
    "                       max_iter = 2000 ).fit( X, y )\n",
    "print( rmse_cv( model_Lasso ), model_Lasso.alpha_ )"
   ]
  },
  {
   "cell_type": "code",
   "execution_count": null,
   "metadata": {},
   "outputs": [],
   "source": [
    "coef = pd.Series( model_Lasso.coef_, index = X.columns )\n",
    "print( sum(coef != 0), sum(coef == 0))"
   ]
  },
  {
   "cell_type": "code",
   "execution_count": null,
   "metadata": {},
   "outputs": [],
   "source": [
    "important_coef = pd.concat( [coef.sort_values().head(10), coef.sort_values().tail(10)] )\n",
    "rcParams['figure.figsize'] = (8.0, 10.0)\n",
    "important_coef.plot(kind = 'barh')\n",
    "plt.title('Coefficients in Model Lasso')"
   ]
  },
  {
   "cell_type": "code",
   "execution_count": null,
   "metadata": {},
   "outputs": [],
   "source": [
    "\n",
    "preds = model_Lasso.predict(X)\n",
    "print('RMSE:', np.sqrt(metrics.mean_squared_error(y, preds)))\n",
    "print('  R2:', metrics.r2_score( y, preds ) )"
   ]
  },
  {
   "cell_type": "code",
   "execution_count": null,
   "metadata": {},
   "outputs": [],
   "source": [
    "val_preds = model_Lasso.predict(X_val)\n",
    "print('RMSE:', np.sqrt(metrics.mean_squared_error( y_val, val_preds ) ) )\n",
    "print('  R2:', metrics.r2_score( y_val, val_preds ) )"
   ]
  },
  {
   "cell_type": "code",
   "execution_count": null,
   "metadata": {},
   "outputs": [],
   "source": [
    "y_answer_Lasso = model_Lasso.predict( X_test )\n",
    "y_answer_Lasso = np.exp(y_answer_Lasso)\n",
    "# print(pd.DataFrame(data=y_answer, columns=['SalePrice'], index=X_test.index).head())\n",
    "print(pd.DataFrame({'total_price': y_answer_Lasso}, index=test.building_id).head())"
   ]
  },
  {
   "cell_type": "code",
   "execution_count": null,
   "metadata": {},
   "outputs": [],
   "source": [
    "pd.DataFrame({'total_price': y_answer_Lasso}, index=test.building_id).to_csv('submission_Lasso_drop.csv')"
   ]
  },
  {
   "cell_type": "code",
   "execution_count": 177,
   "metadata": {},
   "outputs": [],
   "source": []
  },
  {
   "cell_type": "code",
   "execution_count": 179,
   "metadata": {},
   "outputs": [
    {
     "name": "stdout",
     "output_type": "stream",
     "text": [
      "RMSE: 0.10138901729916881\n",
      "  R2: 0.934380883634592\n"
     ]
    }
   ],
   "source": [
    "y_pred = model_SVR.predict(X)\n",
    "print('RMSE:', np.sqrt(metrics.mean_squared_error(y, y_pred)))\n",
    "print('  R2:', metrics.r2_score(y, y_pred))"
   ]
  },
  {
   "cell_type": "code",
   "execution_count": 180,
   "metadata": {},
   "outputs": [
    {
     "name": "stdout",
     "output_type": "stream",
     "text": [
      "RMSE: 0.11178810224904052\n",
      "  R2: 0.9232328827938405\n"
     ]
    }
   ],
   "source": [
    "val_preds = model_SVR.predict(X_val)\n",
    "print('RMSE:', np.sqrt(metrics.mean_squared_error( y_val, val_preds ) ) )\n",
    "print('  R2:', metrics.r2_score( y_val, val_preds ) )"
   ]
  },
  {
   "cell_type": "code",
   "execution_count": 181,
   "metadata": {},
   "outputs": [
    {
     "name": "stdout",
     "output_type": "stream",
     "text": [
      "          SalePrice\n",
      "Id                 \n",
      "1461  119564.485424\n",
      "1462  156653.579860\n",
      "1463  171243.151646\n",
      "1464  190406.991972\n",
      "1465  193886.623344\n"
     ]
    }
   ],
   "source": [
    "model_SVR = SVR(kernel='rbf', gamma=0.002)\n",
    "model_SVR.fit(X, y)\n",
    "y_answer_SVR = model_SVR.predict( X_test )\n",
    "y_answer_SVR = np.exp(y_answer_SVR)\n",
    "# print(pd.DataFrame(data=y_answer, columns=['SalePrice'], index=X_test.index).head())\n",
    "print(pd.DataFrame({'SalePrice': y_answer_SVR}, index=test.Id).head())"
   ]
  },
  {
   "cell_type": "code",
   "execution_count": 182,
   "metadata": {},
   "outputs": [],
   "source": [
    "pd.DataFrame({'SalePrice': y_answer_SVR}, index=test.Id).to_csv('submission_SVR.csv')"
   ]
  },
  {
   "cell_type": "code",
   "execution_count": 185,
   "metadata": {},
   "outputs": [
    {
     "name": "stdout",
     "output_type": "stream",
     "text": [
      "RMSE: 0.6077254179680507\n",
      "  R2: -1.357563246168168\n"
     ]
    }
   ],
   "source": [
    "#RandomForestClassifier 效果不好\n",
    "clf = RandomForestClassifier()\n",
    "clf.fit(X, y.astype('int'))\n",
    "y_pred = clf.predict(X)\n",
    "print('RMSE:', np.sqrt(metrics.mean_squared_error(y, y_pred)))\n",
    "print('  R2:', metrics.r2_score(y, y_pred))"
   ]
  },
  {
   "cell_type": "code",
   "execution_count": 186,
   "metadata": {},
   "outputs": [
    {
     "name": "stdout",
     "output_type": "stream",
     "text": [
      "RMSE: 0.6026382665096865\n",
      "  R2: -1.2309892387712504\n"
     ]
    }
   ],
   "source": [
    "val_preds = clf.predict(X_val)\n",
    "print('RMSE:', np.sqrt(metrics.mean_squared_error( y_val, val_preds ) ) )\n",
    "print('  R2:', metrics.r2_score( y_val, val_preds ) )"
   ]
  },
  {
   "cell_type": "code",
   "execution_count": 187,
   "metadata": {},
   "outputs": [
    {
     "name": "stdout",
     "output_type": "stream",
     "text": [
      "          SalePrice\n",
      "Id                 \n",
      "1461   59874.141715\n",
      "1462   59874.141715\n",
      "1463  162754.791419\n",
      "1464  162754.791419\n",
      "1465  162754.791419\n"
     ]
    }
   ],
   "source": [
    "\n",
    "y_answer_rm = clf.predict( X_test )\n",
    "y_answer_rm = np.exp(y_answer_rm)\n",
    "# print(pd.DataFrame(data=y_answer, columns=['SalePrice'], index=X_test.index).head())\n",
    "print(pd.DataFrame({'SalePrice': y_answer_rm}, index=test.Id).head())"
   ]
  },
  {
   "cell_type": "markdown",
   "metadata": {},
   "source": [
    "## Blending"
   ]
  },
  {
   "cell_type": "code",
   "execution_count": 96,
   "metadata": {},
   "outputs": [
    {
     "name": "stdout",
     "output_type": "stream",
     "text": [
      "          SalePrice\n",
      "Id                 \n",
      "1461  116306.877254\n",
      "1462  156581.025459\n",
      "1463  176170.412685\n",
      "1464  191485.161847\n",
      "1465  195519.510106\n",
      "RMSE: 0.11178810224904052\n",
      "  R2: 0.9232328827938405\n"
     ]
    }
   ],
   "source": [
    "# Lasso + SVR\n",
    "y_answer = y_answer_Lasso * 0.75 + y_answer_SVR * 0.25\n",
    "print(pd.DataFrame({'SalePrice': y_answer}, index=test.Id).head())\n",
    "print('RMSE:', np.sqrt(metrics.mean_squared_error( y_val, val_preds ) ) )\n",
    "print('  R2:', metrics.r2_score( y_val, val_preds ) )\n",
    "pd.DataFrame({'SalePrice': y_answer}, index=test.Id).to_csv('submission_LS_Best.csv')"
   ]
  },
  {
   "cell_type": "code",
   "execution_count": 97,
   "metadata": {},
   "outputs": [
    {
     "name": "stdout",
     "output_type": "stream",
     "text": [
      "          SalePrice\n",
      "Id                 \n",
      "1461  116870.775429\n",
      "1462  158092.478150\n",
      "1463  177635.847430\n",
      "1464  190654.937292\n",
      "1465  196155.229270\n",
      "RMSE: 0.11178810224904052\n",
      "  R2: 0.9232328827938405\n"
     ]
    }
   ],
   "source": [
    "# Lasso + XGB\n",
    "y_answer = y_answer_Lasso * 0.75 + y_answer_XGB * 0.25\n",
    "print(pd.DataFrame({'SalePrice': y_answer}, index=test.Id).head())\n",
    "\n",
    "print('RMSE:', np.sqrt(metrics.mean_squared_error( y_val, val_preds ) ) )\n",
    "print('  R2:', metrics.r2_score( y_val, val_preds ) )\n",
    "pd.DataFrame({'SalePrice': y_answer}, index=test.Id).to_csv('submission_LX.csv')"
   ]
  },
  {
   "cell_type": "code",
   "execution_count": 98,
   "metadata": {},
   "outputs": [
    {
     "name": "stdout",
     "output_type": "stream",
     "text": [
      "          SalePrice\n",
      "Id                 \n",
      "1461  116978.523439\n",
      "1462  158034.920031\n",
      "1463  177380.137723\n",
      "1464  190645.017135\n",
      "1465  196064.483158\n",
      "RMSE: 0.11178810224904052\n"
     ]
    }
   ],
   "source": [
    "# Lasso + SVR + XGB\n",
    "y_answer = y_answer_Lasso * 0.72 + y_answer_SVR * 0.04 + y_answer_XGB * 0.24\n",
    "print(pd.DataFrame({'SalePrice': y_answer}, index=test.Id).head())\n",
    "print('RMSE:', np.sqrt(metrics.mean_squared_error( y_val, val_preds ) ) )\n",
    "#print('  R2:', metrics.r2_score( y_answer, val_preds ) )\n",
    "pd.DataFrame({'SalePrice': y_answer}, index=test.Id).to_csv('submission_LSX.csv')"
   ]
  },
  {
   "cell_type": "code",
   "execution_count": 99,
   "metadata": {},
   "outputs": [
    {
     "name": "stdout",
     "output_type": "stream",
     "text": [
      "          SalePrice\n",
      "Id                 \n",
      "1461  118868.523805\n",
      "1462  158636.603715\n",
      "1463  175386.958434\n",
      "1464  189779.212509\n",
      "1465  195459.976346\n"
     ]
    }
   ],
   "source": [
    "# Lasso + SVR + XGB -2\n",
    "y_answer = (y_answer_Lasso + y_answer_SVR + y_answer_XGB) /3\n",
    "print(pd.DataFrame({'SalePrice': y_answer}, index=test.Id).head())\n",
    "pd.DataFrame({'SalePrice': y_answer}, index=test.Id).to_csv('submission_LSX3.csv')"
   ]
  },
  {
   "cell_type": "code",
   "execution_count": 100,
   "metadata": {},
   "outputs": [
    {
     "name": "stdout",
     "output_type": "stream",
     "text": [
      "          SalePrice\n",
      "Id                 \n",
      "1461  121143.400315\n",
      "1462  160885.644271\n",
      "1463  175346.367369\n",
      "1464  188082.363217\n",
      "1465  195666.627628\n"
     ]
    }
   ],
   "source": [
    "# SVR + XGB\n",
    "y_answer = y_answer_SVR * 0.3 + y_answer_XGB * 0.7\n",
    "print(pd.DataFrame({'SalePrice': y_answer}, index=test.Id).head())\n",
    "\n",
    "pd.DataFrame({'SalePrice': y_answer}, index=test.Id).to_csv('submission_SX.csv')"
   ]
  },
  {
   "cell_type": "code",
   "execution_count": null,
   "metadata": {},
   "outputs": [],
   "source": []
  },
  {
   "cell_type": "code",
   "execution_count": null,
   "metadata": {},
   "outputs": [],
   "source": []
  },
  {
   "cell_type": "code",
   "execution_count": null,
   "metadata": {},
   "outputs": [],
   "source": []
  },
  {
   "cell_type": "code",
   "execution_count": null,
   "metadata": {},
   "outputs": [],
   "source": []
  },
  {
   "cell_type": "code",
   "execution_count": null,
   "metadata": {},
   "outputs": [],
   "source": []
  },
  {
   "cell_type": "code",
   "execution_count": null,
   "metadata": {},
   "outputs": [],
   "source": []
  },
  {
   "cell_type": "code",
   "execution_count": null,
   "metadata": {},
   "outputs": [],
   "source": []
  },
  {
   "cell_type": "code",
   "execution_count": null,
   "metadata": {},
   "outputs": [],
   "source": []
  },
  {
   "cell_type": "code",
   "execution_count": null,
   "metadata": {},
   "outputs": [],
   "source": []
  },
  {
   "cell_type": "code",
   "execution_count": null,
   "metadata": {},
   "outputs": [],
   "source": []
  },
  {
   "cell_type": "code",
   "execution_count": null,
   "metadata": {},
   "outputs": [],
   "source": []
  },
  {
   "cell_type": "code",
   "execution_count": null,
   "metadata": {},
   "outputs": [],
   "source": []
  },
  {
   "cell_type": "code",
   "execution_count": null,
   "metadata": {},
   "outputs": [],
   "source": []
  },
  {
   "cell_type": "code",
   "execution_count": null,
   "metadata": {},
   "outputs": [],
   "source": []
  },
  {
   "cell_type": "code",
   "execution_count": null,
   "metadata": {},
   "outputs": [],
   "source": []
  },
  {
   "cell_type": "code",
   "execution_count": null,
   "metadata": {},
   "outputs": [],
   "source": []
  },
  {
   "cell_type": "code",
   "execution_count": null,
   "metadata": {},
   "outputs": [],
   "source": []
  },
  {
   "cell_type": "code",
   "execution_count": null,
   "metadata": {},
   "outputs": [],
   "source": []
  },
  {
   "cell_type": "code",
   "execution_count": null,
   "metadata": {},
   "outputs": [],
   "source": []
  },
  {
   "cell_type": "code",
   "execution_count": null,
   "metadata": {},
   "outputs": [],
   "source": []
  },
  {
   "cell_type": "code",
   "execution_count": null,
   "metadata": {},
   "outputs": [],
   "source": []
  },
  {
   "cell_type": "code",
   "execution_count": null,
   "metadata": {},
   "outputs": [],
   "source": []
  },
  {
   "cell_type": "code",
   "execution_count": null,
   "metadata": {},
   "outputs": [],
   "source": []
  },
  {
   "cell_type": "code",
   "execution_count": null,
   "metadata": {},
   "outputs": [],
   "source": []
  },
  {
   "cell_type": "code",
   "execution_count": null,
   "metadata": {},
   "outputs": [],
   "source": []
  },
  {
   "cell_type": "code",
   "execution_count": null,
   "metadata": {},
   "outputs": [],
   "source": []
  },
  {
   "cell_type": "code",
   "execution_count": null,
   "metadata": {},
   "outputs": [],
   "source": []
  },
  {
   "cell_type": "code",
   "execution_count": null,
   "metadata": {},
   "outputs": [],
   "source": []
  },
  {
   "cell_type": "code",
   "execution_count": null,
   "metadata": {},
   "outputs": [],
   "source": []
  },
  {
   "cell_type": "code",
   "execution_count": null,
   "metadata": {},
   "outputs": [],
   "source": []
  },
  {
   "cell_type": "code",
   "execution_count": null,
   "metadata": {},
   "outputs": [],
   "source": []
  },
  {
   "cell_type": "code",
   "execution_count": null,
   "metadata": {},
   "outputs": [],
   "source": []
  },
  {
   "cell_type": "code",
   "execution_count": null,
   "metadata": {},
   "outputs": [],
   "source": []
  },
  {
   "cell_type": "code",
   "execution_count": null,
   "metadata": {},
   "outputs": [],
   "source": []
  },
  {
   "cell_type": "code",
   "execution_count": null,
   "metadata": {},
   "outputs": [],
   "source": []
  },
  {
   "cell_type": "code",
   "execution_count": null,
   "metadata": {},
   "outputs": [],
   "source": []
  },
  {
   "cell_type": "code",
   "execution_count": null,
   "metadata": {},
   "outputs": [],
   "source": []
  },
  {
   "cell_type": "code",
   "execution_count": null,
   "metadata": {},
   "outputs": [],
   "source": []
  }
 ],
 "metadata": {
  "kernelspec": {
   "display_name": "Python 3",
   "language": "python",
   "name": "python3"
  },
  "language_info": {
   "codemirror_mode": {
    "name": "ipython",
    "version": 3
   },
   "file_extension": ".py",
   "mimetype": "text/x-python",
   "name": "python",
   "nbconvert_exporter": "python",
   "pygments_lexer": "ipython3",
   "version": "3.6.6"
  }
 },
 "nbformat": 4,
 "nbformat_minor": 2
}
