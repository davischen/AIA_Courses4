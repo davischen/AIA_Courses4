{
 "cells": [
  {
   "cell_type": "code",
   "execution_count": 16,
   "metadata": {},
   "outputs": [],
   "source": [
    "# import libraries\n",
    "import numpy as np\n",
    "import pandas as pd\n",
    "import matplotlib.pyplot as plt\n",
    "import seaborn as sns\n",
    "from scipy.stats import skew\n",
    "from sklearn.linear_model import LinearRegression, RidgeCV, LassoCV, ElasticNetCV\n",
    "from sklearn.model_selection import cross_val_score\n",
    "from sklearn.metrics import mean_squared_error\n",
    "from sklearn import metrics\n",
    "from sklearn.ensemble import RandomForestClassifier\n",
    "%matplotlib inline\n",
    "\n",
    "#參考文章：https://www.kaggle.com/nishimoto/very-simple-linear-models-pls"
   ]
  },
  {
   "cell_type": "code",
   "execution_count": 17,
   "metadata": {},
   "outputs": [],
   "source": [
    "train = pd.read_csv(\"train.csv\")\n",
    "test = pd.read_csv(\"test.csv\")\n"
   ]
  },
  {
   "cell_type": "code",
   "execution_count": 18,
   "metadata": {},
   "outputs": [],
   "source": [
    "train = pd.read_csv('train.csv')\n",
    "test = pd.read_csv('test.csv')\n",
    "testID = test['building_id']\n",
    "\n",
    "#data = pd.concat([train.drop('SalePrice', axis=1), test], keys=['train', 'test'])\n",
    "#data.drop(['Id'], axis=1, inplace=True)\n",
    "#df_all = pd.concat([train.drop('SalePrice', axis=1), test], keys=['train', 'test'])\n",
    "#df_all.drop(['Id'], axis=1, inplace=True)"
   ]
  },
  {
   "cell_type": "code",
   "execution_count": null,
   "metadata": {},
   "outputs": [],
   "source": []
  },
  {
   "cell_type": "code",
   "execution_count": 19,
   "metadata": {},
   "outputs": [
    {
     "name": "stdout",
     "output_type": "stream",
     "text": [
      "train shape : (60000, 235)\n",
      " test shape : (10000, 234)\n"
     ]
    }
   ],
   "source": [
    "print(f\"train shape : {train.shape}\")\n",
    "print(f\" test shape : {test.shape}\")"
   ]
  },
  {
   "cell_type": "code",
   "execution_count": 20,
   "metadata": {},
   "outputs": [
    {
     "name": "stdout",
     "output_type": "stream",
     "text": [
      "<class 'pandas.core.frame.DataFrame'>\n",
      "RangeIndex: 60000 entries, 0 to 59999\n",
      "Columns: 235 entries, building_id to total_price\n",
      "dtypes: float64(37), int64(197), object(1)\n",
      "memory usage: 107.6+ MB\n"
     ]
    }
   ],
   "source": [
    "#瞭解資料型別\n",
    "train.info()"
   ]
  },
  {
   "cell_type": "code",
   "execution_count": 21,
   "metadata": {},
   "outputs": [],
   "source": [
    "#train.corr('kendall')"
   ]
  },
  {
   "cell_type": "code",
   "execution_count": 22,
   "metadata": {},
   "outputs": [
    {
     "name": "stdout",
     "output_type": "stream",
     "text": [
      "categorical features: (4, 1)\n"
     ]
    },
    {
     "data": {
      "text/html": [
       "<div>\n",
       "<style scoped>\n",
       "    .dataframe tbody tr th:only-of-type {\n",
       "        vertical-align: middle;\n",
       "    }\n",
       "\n",
       "    .dataframe tbody tr th {\n",
       "        vertical-align: top;\n",
       "    }\n",
       "\n",
       "    .dataframe thead th {\n",
       "        text-align: right;\n",
       "    }\n",
       "</style>\n",
       "<table border=\"1\" class=\"dataframe\">\n",
       "  <thead>\n",
       "    <tr style=\"text-align: right;\">\n",
       "      <th></th>\n",
       "      <th>building_id</th>\n",
       "    </tr>\n",
       "  </thead>\n",
       "  <tbody>\n",
       "    <tr>\n",
       "      <th>count</th>\n",
       "      <td>60000</td>\n",
       "    </tr>\n",
       "    <tr>\n",
       "      <th>unique</th>\n",
       "      <td>60000</td>\n",
       "    </tr>\n",
       "    <tr>\n",
       "      <th>top</th>\n",
       "      <td>MyXTG0f5mUzrD7iz</td>\n",
       "    </tr>\n",
       "    <tr>\n",
       "      <th>freq</th>\n",
       "      <td>1</td>\n",
       "    </tr>\n",
       "  </tbody>\n",
       "</table>\n",
       "</div>"
      ],
      "text/plain": [
       "             building_id\n",
       "count              60000\n",
       "unique             60000\n",
       "top     MyXTG0f5mUzrD7iz\n",
       "freq                   1"
      ]
     },
     "execution_count": 22,
     "metadata": {},
     "output_type": "execute_result"
    }
   ],
   "source": [
    "# 描述data物件型態的統計資訊（個數、種類、出現頻率最高的種類及其次數）\n",
    "print(f\"categorical features: {train.describe(include='O').shape}\")\n",
    "# 查詢非數值資訊\n",
    "train.describe(include=\"O\")"
   ]
  },
  {
   "cell_type": "code",
   "execution_count": 23,
   "metadata": {},
   "outputs": [
    {
     "data": {
      "text/html": [
       "<div>\n",
       "<style scoped>\n",
       "    .dataframe tbody tr th:only-of-type {\n",
       "        vertical-align: middle;\n",
       "    }\n",
       "\n",
       "    .dataframe tbody tr th {\n",
       "        vertical-align: top;\n",
       "    }\n",
       "\n",
       "    .dataframe thead th {\n",
       "        text-align: right;\n",
       "    }\n",
       "</style>\n",
       "<table border=\"1\" class=\"dataframe\">\n",
       "  <thead>\n",
       "    <tr style=\"text-align: right;\">\n",
       "      <th></th>\n",
       "      <th>building_material</th>\n",
       "      <th>city</th>\n",
       "      <th>txn_dt</th>\n",
       "      <th>total_floor</th>\n",
       "      <th>building_type</th>\n",
       "      <th>building_use</th>\n",
       "      <th>building_complete_dt</th>\n",
       "      <th>parking_way</th>\n",
       "      <th>parking_area</th>\n",
       "      <th>parking_price</th>\n",
       "      <th>...</th>\n",
       "      <th>XIV_500</th>\n",
       "      <th>XIV_index_500</th>\n",
       "      <th>XIV_1000</th>\n",
       "      <th>XIV_index_1000</th>\n",
       "      <th>XIV_5000</th>\n",
       "      <th>XIV_index_5000</th>\n",
       "      <th>XIV_10000</th>\n",
       "      <th>XIV_index_10000</th>\n",
       "      <th>XIV_MIN</th>\n",
       "      <th>total_price</th>\n",
       "    </tr>\n",
       "  </thead>\n",
       "  <tbody>\n",
       "    <tr>\n",
       "      <th>count</th>\n",
       "      <td>60000.000000</td>\n",
       "      <td>60000.000000</td>\n",
       "      <td>60000.000000</td>\n",
       "      <td>60000.000000</td>\n",
       "      <td>60000.000000</td>\n",
       "      <td>60000.000000</td>\n",
       "      <td>60000.000000</td>\n",
       "      <td>60000.000000</td>\n",
       "      <td>3103.000000</td>\n",
       "      <td>1.393500e+04</td>\n",
       "      <td>...</td>\n",
       "      <td>60000.000000</td>\n",
       "      <td>60000.000000</td>\n",
       "      <td>60000.000000</td>\n",
       "      <td>60000.000000</td>\n",
       "      <td>60000.000000</td>\n",
       "      <td>60000.0</td>\n",
       "      <td>60000.000000</td>\n",
       "      <td>60000.0</td>\n",
       "      <td>60000.000000</td>\n",
       "      <td>6.000000e+04</td>\n",
       "    </tr>\n",
       "    <tr>\n",
       "      <th>mean</th>\n",
       "      <td>7.267917</td>\n",
       "      <td>11.414533</td>\n",
       "      <td>19488.957917</td>\n",
       "      <td>7.638250</td>\n",
       "      <td>1.931817</td>\n",
       "      <td>2.319200</td>\n",
       "      <td>11050.437183</td>\n",
       "      <td>1.585700</td>\n",
       "      <td>7.211837</td>\n",
       "      <td>5.025058e+04</td>\n",
       "      <td>...</td>\n",
       "      <td>60.867700</td>\n",
       "      <td>0.995800</td>\n",
       "      <td>252.823100</td>\n",
       "      <td>0.999867</td>\n",
       "      <td>5276.668033</td>\n",
       "      <td>1.0</td>\n",
       "      <td>16474.836600</td>\n",
       "      <td>1.0</td>\n",
       "      <td>101.044751</td>\n",
       "      <td>1.293727e+07</td>\n",
       "    </tr>\n",
       "    <tr>\n",
       "      <th>std</th>\n",
       "      <td>2.170741</td>\n",
       "      <td>4.751677</td>\n",
       "      <td>727.331019</td>\n",
       "      <td>5.070314</td>\n",
       "      <td>1.589972</td>\n",
       "      <td>1.399528</td>\n",
       "      <td>4344.018090</td>\n",
       "      <td>0.778952</td>\n",
       "      <td>20.453902</td>\n",
       "      <td>3.973488e+04</td>\n",
       "      <td>...</td>\n",
       "      <td>88.512972</td>\n",
       "      <td>0.064672</td>\n",
       "      <td>322.694074</td>\n",
       "      <td>0.011546</td>\n",
       "      <td>3856.219059</td>\n",
       "      <td>0.0</td>\n",
       "      <td>8998.020659</td>\n",
       "      <td>0.0</td>\n",
       "      <td>80.216061</td>\n",
       "      <td>5.522463e+07</td>\n",
       "    </tr>\n",
       "    <tr>\n",
       "      <th>min</th>\n",
       "      <td>1.000000</td>\n",
       "      <td>3.000000</td>\n",
       "      <td>18112.000000</td>\n",
       "      <td>1.000000</td>\n",
       "      <td>0.000000</td>\n",
       "      <td>0.000000</td>\n",
       "      <td>123.000000</td>\n",
       "      <td>0.000000</td>\n",
       "      <td>0.000000</td>\n",
       "      <td>0.000000e+00</td>\n",
       "      <td>...</td>\n",
       "      <td>0.000000</td>\n",
       "      <td>0.000000</td>\n",
       "      <td>0.000000</td>\n",
       "      <td>0.000000</td>\n",
       "      <td>19.000000</td>\n",
       "      <td>1.0</td>\n",
       "      <td>30.000000</td>\n",
       "      <td>1.0</td>\n",
       "      <td>0.064766</td>\n",
       "      <td>2.261495e+05</td>\n",
       "    </tr>\n",
       "    <tr>\n",
       "      <th>25%</th>\n",
       "      <td>8.000000</td>\n",
       "      <td>7.000000</td>\n",
       "      <td>18892.750000</td>\n",
       "      <td>4.000000</td>\n",
       "      <td>0.000000</td>\n",
       "      <td>2.000000</td>\n",
       "      <td>7186.000000</td>\n",
       "      <td>2.000000</td>\n",
       "      <td>3.738412</td>\n",
       "      <td>2.827238e+04</td>\n",
       "      <td>...</td>\n",
       "      <td>20.000000</td>\n",
       "      <td>1.000000</td>\n",
       "      <td>88.000000</td>\n",
       "      <td>1.000000</td>\n",
       "      <td>2672.000000</td>\n",
       "      <td>1.0</td>\n",
       "      <td>8859.000000</td>\n",
       "      <td>1.0</td>\n",
       "      <td>49.182384</td>\n",
       "      <td>2.433114e+06</td>\n",
       "    </tr>\n",
       "    <tr>\n",
       "      <th>50%</th>\n",
       "      <td>8.000000</td>\n",
       "      <td>12.000000</td>\n",
       "      <td>19527.000000</td>\n",
       "      <td>5.000000</td>\n",
       "      <td>1.000000</td>\n",
       "      <td>2.000000</td>\n",
       "      <td>11507.000000</td>\n",
       "      <td>2.000000</td>\n",
       "      <td>5.758023</td>\n",
       "      <td>4.379195e+04</td>\n",
       "      <td>...</td>\n",
       "      <td>36.000000</td>\n",
       "      <td>1.000000</td>\n",
       "      <td>154.000000</td>\n",
       "      <td>1.000000</td>\n",
       "      <td>3942.000000</td>\n",
       "      <td>1.0</td>\n",
       "      <td>14344.000000</td>\n",
       "      <td>1.0</td>\n",
       "      <td>83.216237</td>\n",
       "      <td>5.240482e+06</td>\n",
       "    </tr>\n",
       "    <tr>\n",
       "      <th>75%</th>\n",
       "      <td>8.000000</td>\n",
       "      <td>13.000000</td>\n",
       "      <td>20125.000000</td>\n",
       "      <td>12.000000</td>\n",
       "      <td>4.000000</td>\n",
       "      <td>2.000000</td>\n",
       "      <td>14519.000000</td>\n",
       "      <td>2.000000</td>\n",
       "      <td>7.180619</td>\n",
       "      <td>6.148857e+04</td>\n",
       "      <td>...</td>\n",
       "      <td>64.000000</td>\n",
       "      <td>1.000000</td>\n",
       "      <td>275.000000</td>\n",
       "      <td>1.000000</td>\n",
       "      <td>6647.000000</td>\n",
       "      <td>1.0</td>\n",
       "      <td>23459.250000</td>\n",
       "      <td>1.0</td>\n",
       "      <td>130.779416</td>\n",
       "      <td>1.123932e+07</td>\n",
       "    </tr>\n",
       "    <tr>\n",
       "      <th>max</th>\n",
       "      <td>11.000000</td>\n",
       "      <td>21.000000</td>\n",
       "      <td>20665.000000</td>\n",
       "      <td>29.000000</td>\n",
       "      <td>4.000000</td>\n",
       "      <td>10.000000</td>\n",
       "      <td>20577.000000</td>\n",
       "      <td>2.000000</td>\n",
       "      <td>967.370868</td>\n",
       "      <td>1.020404e+06</td>\n",
       "      <td>...</td>\n",
       "      <td>1681.000000</td>\n",
       "      <td>1.000000</td>\n",
       "      <td>3463.000000</td>\n",
       "      <td>1.000000</td>\n",
       "      <td>18268.000000</td>\n",
       "      <td>1.0</td>\n",
       "      <td>32908.000000</td>\n",
       "      <td>1.0</td>\n",
       "      <td>1106.382478</td>\n",
       "      <td>5.088279e+09</td>\n",
       "    </tr>\n",
       "  </tbody>\n",
       "</table>\n",
       "<p>8 rows × 234 columns</p>\n",
       "</div>"
      ],
      "text/plain": [
       "       building_material          city        txn_dt   total_floor  \\\n",
       "count       60000.000000  60000.000000  60000.000000  60000.000000   \n",
       "mean            7.267917     11.414533  19488.957917      7.638250   \n",
       "std             2.170741      4.751677    727.331019      5.070314   \n",
       "min             1.000000      3.000000  18112.000000      1.000000   \n",
       "25%             8.000000      7.000000  18892.750000      4.000000   \n",
       "50%             8.000000     12.000000  19527.000000      5.000000   \n",
       "75%             8.000000     13.000000  20125.000000     12.000000   \n",
       "max            11.000000     21.000000  20665.000000     29.000000   \n",
       "\n",
       "       building_type  building_use  building_complete_dt   parking_way  \\\n",
       "count   60000.000000  60000.000000          60000.000000  60000.000000   \n",
       "mean        1.931817      2.319200          11050.437183      1.585700   \n",
       "std         1.589972      1.399528           4344.018090      0.778952   \n",
       "min         0.000000      0.000000            123.000000      0.000000   \n",
       "25%         0.000000      2.000000           7186.000000      2.000000   \n",
       "50%         1.000000      2.000000          11507.000000      2.000000   \n",
       "75%         4.000000      2.000000          14519.000000      2.000000   \n",
       "max         4.000000     10.000000          20577.000000      2.000000   \n",
       "\n",
       "       parking_area  parking_price      ...            XIV_500  XIV_index_500  \\\n",
       "count   3103.000000   1.393500e+04      ...       60000.000000   60000.000000   \n",
       "mean       7.211837   5.025058e+04      ...          60.867700       0.995800   \n",
       "std       20.453902   3.973488e+04      ...          88.512972       0.064672   \n",
       "min        0.000000   0.000000e+00      ...           0.000000       0.000000   \n",
       "25%        3.738412   2.827238e+04      ...          20.000000       1.000000   \n",
       "50%        5.758023   4.379195e+04      ...          36.000000       1.000000   \n",
       "75%        7.180619   6.148857e+04      ...          64.000000       1.000000   \n",
       "max      967.370868   1.020404e+06      ...        1681.000000       1.000000   \n",
       "\n",
       "           XIV_1000  XIV_index_1000      XIV_5000  XIV_index_5000  \\\n",
       "count  60000.000000    60000.000000  60000.000000         60000.0   \n",
       "mean     252.823100        0.999867   5276.668033             1.0   \n",
       "std      322.694074        0.011546   3856.219059             0.0   \n",
       "min        0.000000        0.000000     19.000000             1.0   \n",
       "25%       88.000000        1.000000   2672.000000             1.0   \n",
       "50%      154.000000        1.000000   3942.000000             1.0   \n",
       "75%      275.000000        1.000000   6647.000000             1.0   \n",
       "max     3463.000000        1.000000  18268.000000             1.0   \n",
       "\n",
       "          XIV_10000  XIV_index_10000       XIV_MIN   total_price  \n",
       "count  60000.000000          60000.0  60000.000000  6.000000e+04  \n",
       "mean   16474.836600              1.0    101.044751  1.293727e+07  \n",
       "std     8998.020659              0.0     80.216061  5.522463e+07  \n",
       "min       30.000000              1.0      0.064766  2.261495e+05  \n",
       "25%     8859.000000              1.0     49.182384  2.433114e+06  \n",
       "50%    14344.000000              1.0     83.216237  5.240482e+06  \n",
       "75%    23459.250000              1.0    130.779416  1.123932e+07  \n",
       "max    32908.000000              1.0   1106.382478  5.088279e+09  \n",
       "\n",
       "[8 rows x 234 columns]"
      ]
     },
     "execution_count": 23,
     "metadata": {},
     "output_type": "execute_result"
    }
   ],
   "source": [
    "# 瞭解資料的分佈情況\n",
    "train.describe()"
   ]
  },
  {
   "cell_type": "code",
   "execution_count": 24,
   "metadata": {},
   "outputs": [],
   "source": [
    "#train.max(axis = 0) "
   ]
  },
  {
   "cell_type": "markdown",
   "metadata": {},
   "source": [
    "## EDA (Drop Outlier)"
   ]
  },
  {
   "cell_type": "code",
   "execution_count": 25,
   "metadata": {},
   "outputs": [],
   "source": [
    "# 描述data數值型態的統計資訊（個數、平均、標準差、最小值、\n",
    "#                           第一四分位數、第二四分位數、第三四分位數\n",
    "#                           、最大值）\n",
    "#print(f\"numerical feature: {train['Utilities'].describe().shape}\")\n",
    "      \n"
   ]
  },
  {
   "cell_type": "code",
   "execution_count": 26,
   "metadata": {},
   "outputs": [],
   "source": [
    "## EDA (Drop Outlier)"
   ]
  },
  {
   "cell_type": "code",
   "execution_count": null,
   "metadata": {},
   "outputs": [],
   "source": []
  },
  {
   "cell_type": "code",
   "execution_count": 27,
   "metadata": {},
   "outputs": [
    {
     "name": "stdout",
     "output_type": "stream",
     "text": [
      "354      4.038301e+08\n",
      "860      3.142567e+08\n",
      "928      3.314969e+08\n",
      "2088     7.438093e+08\n",
      "2138     4.357039e+09\n",
      "2189     3.214321e+08\n",
      "2200     3.422027e+08\n",
      "2317     3.378167e+09\n",
      "2570     4.318196e+08\n",
      "3148     3.069626e+08\n",
      "3568     3.571982e+08\n",
      "3613     3.974023e+08\n",
      "3758     3.861433e+08\n",
      "4660     3.630001e+08\n",
      "4874     3.000692e+08\n",
      "5346     4.049680e+08\n",
      "5672     1.145063e+09\n",
      "7085     4.831871e+08\n",
      "7117     4.513482e+08\n",
      "8050     3.066859e+08\n",
      "8083     4.435022e+08\n",
      "8191     3.422027e+08\n",
      "8340     8.386713e+08\n",
      "8449     4.240891e+08\n",
      "8855     4.240891e+08\n",
      "8953     3.314969e+08\n",
      "9491     2.038068e+09\n",
      "9747     3.214321e+08\n",
      "9785     4.213560e+08\n",
      "10357    3.494027e+08\n",
      "             ...     \n",
      "50580    3.457965e+08\n",
      "51169    3.314969e+08\n",
      "51324    6.978210e+08\n",
      "51349    1.091819e+09\n",
      "51906    1.065516e+09\n",
      "51936    3.861433e+08\n",
      "52175    6.528219e+08\n",
      "52343    4.240891e+08\n",
      "52733    1.091819e+09\n",
      "53219    3.422027e+08\n",
      "53345    5.658819e+08\n",
      "53739    3.861433e+08\n",
      "53844    5.448018e+08\n",
      "53966    1.721746e+09\n",
      "54016    7.671678e+08\n",
      "55200    4.961240e+08\n",
      "55450    4.435022e+08\n",
      "56468    3.139081e+08\n",
      "56587    4.831871e+08\n",
      "56602    7.907659e+08\n",
      "56983    4.435022e+08\n",
      "57037    5.448018e+08\n",
      "57194    4.049680e+08\n",
      "57253    3.936373e+08\n",
      "58146    3.676199e+08\n",
      "58278    1.039427e+09\n",
      "58335    5.574178e+08\n",
      "58858    3.378167e+09\n",
      "59398    1.091819e+09\n",
      "59456    4.240891e+08\n",
      "Name: total_price, Length: 153, dtype: float64\n"
     ]
    }
   ],
   "source": [
    "# drop掉離群值\n",
    "#https://www.kaggle.com/agehsbarg/top-10-0-10943-stacking-mice-and-brutal-force\n",
    "\n",
    "print( train[(train['total_price']>300000000) ].total_price )"
   ]
  },
  {
   "cell_type": "code",
   "execution_count": 28,
   "metadata": {},
   "outputs": [],
   "source": [
    "#print( train[(train['total_price']<1000000) ].total_price )"
   ]
  },
  {
   "cell_type": "code",
   "execution_count": 29,
   "metadata": {},
   "outputs": [
    {
     "name": "stderr",
     "output_type": "stream",
     "text": [
      "/opt/conda/lib/python3.6/site-packages/scipy/stats/stats.py:1713: FutureWarning: Using a non-tuple sequence for multidimensional indexing is deprecated; use `arr[tuple(seq)]` instead of `arr[seq]`. In the future this will be interpreted as an array index, `arr[np.array(seq)]`, which will result either in an error or a different result.\n",
      "  return np.add.reduce(sorted[indexer] * weights, axis=axis) / sumval\n"
     ]
    },
    {
     "data": {
      "text/plain": [
       "<matplotlib.axes._subplots.AxesSubplot at 0x7f03aee956a0>"
      ]
     },
     "execution_count": 29,
     "metadata": {},
     "output_type": "execute_result"
    },
    {
     "data": {
      "image/png": "[encoded data removed]",
      "text/plain": [
       "<Figure size 432x288 with 1 Axes>"
      ]
     },
     "metadata": {
      "needs_background": "light"
     },
     "output_type": "display_data"
    }
   ],
   "source": [
    "#價錢的分佈\n",
    "#價錢的分佈\n",
    "sns.distplot(train[(train['total_price']<300000000)].total_price )"
   ]
  },
  {
   "cell_type": "code",
   "execution_count": 30,
   "metadata": {},
   "outputs": [
    {
     "name": "stderr",
     "output_type": "stream",
     "text": [
      "/opt/conda/lib/python3.6/site-packages/scipy/stats/stats.py:1713: FutureWarning: Using a non-tuple sequence for multidimensional indexing is deprecated; use `arr[tuple(seq)]` instead of `arr[seq]`. In the future this will be interpreted as an array index, `arr[np.array(seq)]`, which will result either in an error or a different result.\n",
      "  return np.add.reduce(sorted[indexer] * weights, axis=axis) / sumval\n"
     ]
    },
    {
     "data": {
      "text/plain": [
       "<matplotlib.axes._subplots.AxesSubplot at 0x7f03af63cf28>"
      ]
     },
     "execution_count": 30,
     "metadata": {},
     "output_type": "execute_result"
    },
    {
     "data": {
      "image/png": "[encoded data removed]",
      "text/plain": [
       "<Figure size 432x288 with 1 Axes>"
      ]
     },
     "metadata": {
      "needs_background": "light"
     },
     "output_type": "display_data"
    }
   ],
   "source": [
    "# 一些右偏分佈的 feature，可透過取 log 將其轉為常態分佈\n",
    "sns.distplot(np.log(train[(train['total_price']<300000000)].total_price))"
   ]
  },
  {
   "cell_type": "code",
   "execution_count": 31,
   "metadata": {},
   "outputs": [],
   "source": [
    "train = train.drop( labels = train[  (train['total_price']>300000000) ].index, axis = 0 )"
   ]
  },
  {
   "cell_type": "code",
   "execution_count": 32,
   "metadata": {},
   "outputs": [
    {
     "name": "stderr",
     "output_type": "stream",
     "text": [
      "/opt/conda/lib/python3.6/site-packages/scipy/stats/stats.py:1713: FutureWarning: Using a non-tuple sequence for multidimensional indexing is deprecated; use `arr[tuple(seq)]` instead of `arr[seq]`. In the future this will be interpreted as an array index, `arr[np.array(seq)]`, which will result either in an error or a different result.\n",
      "  return np.add.reduce(sorted[indexer] * weights, axis=axis) / sumval\n"
     ]
    },
    {
     "data": {
      "text/plain": [
       "<matplotlib.axes._subplots.AxesSubplot at 0x7f03aed19550>"
      ]
     },
     "execution_count": 32,
     "metadata": {},
     "output_type": "execute_result"
    },
    {
     "data": {
      "image/png": "[encoded data removed]",
      "text/plain": [
       "<Figure size 432x288 with 1 Axes>"
      ]
     },
     "metadata": {
      "needs_background": "light"
     },
     "output_type": "display_data"
    }
   ],
   "source": [
    "#價錢的分佈\n",
    "sns.distplot(train.total_price)"
   ]
  },
  {
   "cell_type": "code",
   "execution_count": 33,
   "metadata": {},
   "outputs": [
    {
     "data": {
      "text/plain": [
       "(59847, 235)"
      ]
     },
     "execution_count": 33,
     "metadata": {},
     "output_type": "execute_result"
    }
   ],
   "source": [
    "train.shape"
   ]
  },
  {
   "cell_type": "code",
   "execution_count": 34,
   "metadata": {},
   "outputs": [
    {
     "data": {
      "text/plain": [
       "Text(0,0.5,'total_price')"
      ]
     },
     "execution_count": 34,
     "metadata": {},
     "output_type": "execute_result"
    },
    {
     "data": {
      "image/png": "[encoded data removed]",
      "text/plain": [
       "<Figure size 432x288 with 1 Axes>"
      ]
     },
     "metadata": {
      "needs_background": "light"
     },
     "output_type": "display_data"
    }
   ],
   "source": [
    "#價錢的分佈\n",
    "#building_complete_dt>=1600\n",
    "#parking_price >800000\n",
    "#building_area>800\n",
    "#parking_area>800\n",
    "#land_area >=3000\n",
    "#town_population remove\n",
    "#village_income_median remove\n",
    "#town_area remove\n",
    "\n",
    "plt.plot(train.parking_way, train.total_price, '.' )\n",
    "plt.xlabel('building_use')\n",
    "plt.ylabel('total_price')\n",
    "#print( df_train[ df_train.XIV_5000 > 4000 ].total_price ) #中刮號放條件"
   ]
  },
  {
   "cell_type": "code",
   "execution_count": 35,
   "metadata": {},
   "outputs": [
    {
     "name": "stdout",
     "output_type": "stream",
     "text": [
      "7814     3698.578703\n",
      "10670    5533.304995\n",
      "11170    1348.177475\n",
      "13332    2610.666519\n",
      "14007    2039.700590\n",
      "16838    1247.345561\n",
      "23399    1006.214497\n",
      "29570    1071.162596\n",
      "36482    1420.064267\n",
      "37526    1106.832494\n",
      "44123    1213.194703\n",
      "59506    1213.194703\n",
      "Name: land_area, dtype: float64\n"
     ]
    },
    {
     "data": {
      "text/plain": [
       "(59835, 235)"
      ]
     },
     "execution_count": 35,
     "metadata": {},
     "output_type": "execute_result"
    },
    {
     "data": {
      "image/png": "[encoded data removed]",
      "text/plain": [
       "<Figure size 432x288 with 1 Axes>"
      ]
     },
     "metadata": {
      "needs_background": "light"
     },
     "output_type": "display_data"
    }
   ],
   "source": [
    "print( train[(train['land_area']>1000) ].land_area )\n",
    "#太過於分散了，要drop欄位\n",
    "train = train.drop( labels = train[  (train['land_area']>1000) ].index, axis = 0 )\n",
    "#sns.distplot(train.land_area)\n",
    "plt.plot(train.land_area, train.total_price, '.' )\n",
    "plt.xlabel('land_area')\n",
    "plt.ylabel('total_price')\n",
    "train.shape"
   ]
  },
  {
   "cell_type": "code",
   "execution_count": 36,
   "metadata": {},
   "outputs": [
    {
     "name": "stdout",
     "output_type": "stream",
     "text": [
      "1351     3.269609e+05\n",
      "8795     9.702438e+05\n",
      "51731    3.837894e+05\n",
      "55472    1.020404e+06\n",
      "Name: parking_price, dtype: float64\n"
     ]
    },
    {
     "data": {
      "text/plain": [
       "(59831, 235)"
      ]
     },
     "execution_count": 36,
     "metadata": {},
     "output_type": "execute_result"
    },
    {
     "data": {
      "image/png": "[encoded data removed]",
      "text/plain": [
       "<Figure size 432x288 with 1 Axes>"
      ]
     },
     "metadata": {
      "needs_background": "light"
     },
     "output_type": "display_data"
    }
   ],
   "source": [
    "#train['parking_price'] = train['parking_price'].fillna(train['parking_price'].mode()[0])\n",
    "\n",
    "print( train[(train['parking_price']>300000) ].parking_price )\n",
    "#df_all['parking_price'] = df_all['parking_price'].apply(int)\n",
    "train = train.drop( labels = train[  (train['parking_price']>300000) ].index, axis = 0 )\n",
    "#sns.distplot(train.parking_price)\n",
    "plt.plot(train.parking_price, train.total_price, '.' )\n",
    "plt.xlabel('parking_price')\n",
    "plt.ylabel('total_price')\n",
    "train.shape"
   ]
  },
  {
   "cell_type": "code",
   "execution_count": 37,
   "metadata": {},
   "outputs": [
    {
     "name": "stdout",
     "output_type": "stream",
     "text": [
      "4339      90.209853\n",
      "5264      47.384670\n",
      "7478      40.432080\n",
      "30232     61.822600\n",
      "32015     41.413400\n",
      "34198     44.381528\n",
      "38617    967.370868\n",
      "38992     83.497319\n",
      "43976     40.432080\n",
      "45886     40.432080\n",
      "47253     84.609760\n",
      "48351     40.432080\n",
      "57996     40.432080\n",
      "Name: parking_area, dtype: float64\n"
     ]
    },
    {
     "data": {
      "text/plain": [
       "(59818, 235)"
      ]
     },
     "execution_count": 37,
     "metadata": {},
     "output_type": "execute_result"
    },
    {
     "data": {
      "image/png": "[encoded data removed]",
      "text/plain": [
       "<Figure size 432x288 with 1 Axes>"
      ]
     },
     "metadata": {
      "needs_background": "light"
     },
     "output_type": "display_data"
    }
   ],
   "source": [
    "#train['parking_area'] = train['parking_area'].fillna(0)#train['parking_area'].mode()[0])\n",
    "print( train[(train['parking_area']>40) ].parking_area )\n",
    "train = train.drop( labels = train[  (train['parking_area']>40) ].index, axis = 0 )\n",
    "#sns.distplot(train.parking_area)\n",
    "plt.plot(train.parking_area, train.total_price, '.' )\n",
    "plt.xlabel('parking_price')\n",
    "plt.ylabel('total_price')\n",
    "train.shape"
   ]
  },
  {
   "cell_type": "code",
   "execution_count": 38,
   "metadata": {},
   "outputs": [
    {
     "name": "stdout",
     "output_type": "stream",
     "text": [
      "18493    384.889444\n",
      "18748    566.505953\n",
      "21231    693.750804\n",
      "23605    913.610349\n",
      "26014    693.750804\n",
      "26767    589.808827\n",
      "29104    913.610349\n",
      "35075    320.288104\n",
      "43567    384.889444\n",
      "44963    718.903165\n",
      "50098    320.288104\n",
      "51410    416.941144\n",
      "52777    384.889444\n",
      "54632    348.585199\n",
      "57691    418.845282\n",
      "Name: building_area, dtype: float64\n"
     ]
    },
    {
     "data": {
      "text/plain": [
       "Text(0,0.5,'total_price')"
      ]
     },
     "execution_count": 38,
     "metadata": {},
     "output_type": "execute_result"
    },
    {
     "data": {
      "image/png": "[encoded data removed]",
      "text/plain": [
       "<Figure size 432x288 with 1 Axes>"
      ]
     },
     "metadata": {
      "needs_background": "light"
     },
     "output_type": "display_data"
    }
   ],
   "source": [
    "#train['building_area'] = train['building_area'].fillna(train['building_area'].mode()[0])\n",
    "\n",
    "print( train[(train['building_area']>300) ].building_area )\n",
    "train = train.drop( labels = train[  (train['building_area']>300) ].index, axis = 0 )\n",
    "#sns.distplot(train.building_area)\n",
    "plt.plot(train.building_area, train.total_price, '.' )\n",
    "plt.xlabel('building_area')\n",
    "plt.ylabel('total_price')"
   ]
  },
  {
   "cell_type": "code",
   "execution_count": 39,
   "metadata": {},
   "outputs": [
    {
     "data": {
      "text/plain": [
       "(59803, 235)"
      ]
     },
     "execution_count": 39,
     "metadata": {},
     "output_type": "execute_result"
    }
   ],
   "source": [
    "train.shape"
   ]
  },
  {
   "cell_type": "code",
   "execution_count": 40,
   "metadata": {},
   "outputs": [],
   "source": [
    "#train = train.drop([ 'parking_area'], axis=1, inplace=True)"
   ]
  },
  {
   "cell_type": "code",
   "execution_count": 41,
   "metadata": {},
   "outputs": [
    {
     "data": {
      "text/plain": [
       "Index(['building_material', 'city', 'txn_dt', 'total_floor', 'building_type',\n",
       "       'building_use', 'building_complete_dt', 'parking_way', 'parking_area',\n",
       "       'parking_price',\n",
       "       ...\n",
       "       'XIV_500', 'XIV_index_500', 'XIV_1000', 'XIV_index_1000', 'XIV_5000',\n",
       "       'XIV_index_5000', 'XIV_10000', 'XIV_index_10000', 'XIV_MIN',\n",
       "       'total_price'],\n",
       "      dtype='object', length=234)"
      ]
     },
     "execution_count": 41,
     "metadata": {},
     "output_type": "execute_result"
    }
   ],
   "source": [
    "#取得數值型態的欄位\n",
    "#取得數值型態欄位\n",
    "numeric_data = train._get_numeric_data()\n",
    "numeric_data.columns"
   ]
  },
  {
   "cell_type": "markdown",
   "metadata": {},
   "source": [
    "## sketch pics\n"
   ]
  },
  {
   "cell_type": "code",
   "execution_count": 42,
   "metadata": {},
   "outputs": [],
   "source": [
    "# drop掉每個欄位的NA值並劃出其分布\n",
    "#for i in numeric_data:\n",
    "#    temp = train[i].dropna()\n",
    "#    print(f\"there are {train[i].shape[0] - temp.shape[0]} NaN in {i}\")\n",
    "#    sns.distplot(temp) \n",
    "    #plt.show()"
   ]
  },
  {
   "cell_type": "markdown",
   "metadata": {},
   "source": [
    "## Drop Null Feature(s)"
   ]
  },
  {
   "cell_type": "code",
   "execution_count": 43,
   "metadata": {},
   "outputs": [],
   "source": [
    "#df_all = pd.concat( [ train.drop( [ 'Id', 'SalePrice' ], axis = 1 ),\n",
    "#                      test.drop( [ 'Id' ], axis = 1 ) ],\n",
    "#                      axis = 0, ignore_index = False )\n",
    "df_all = pd.concat([train.drop('total_price', axis=1), test], keys=['train', 'test'])\n",
    "trainID=df_all['building_id']\n",
    "trainPrice=train['total_price']\n",
    "df_all.drop(['building_id'], axis=1, inplace=True)"
   ]
  },
  {
   "cell_type": "code",
   "execution_count": 44,
   "metadata": {},
   "outputs": [
    {
     "data": {
      "text/plain": [
       "(69803,)"
      ]
     },
     "execution_count": 44,
     "metadata": {},
     "output_type": "execute_result"
    }
   ],
   "source": [
    "trainID.shape"
   ]
  },
  {
   "cell_type": "code",
   "execution_count": 45,
   "metadata": {},
   "outputs": [],
   "source": [
    "# check null status\n",
    "#print( df_all.shape )\n",
    "#df_na = df_all.select_dtypes( exclude = [ 'object' ] ).isnull().sum()\n",
    "#print( df_na[ df_na > 100 ].sort_values(ascending=False) )"
   ]
  },
  {
   "cell_type": "code",
   "execution_count": 46,
   "metadata": {},
   "outputs": [],
   "source": [
    "# drop掉大多為Null的欄位\n",
    "#df_all = df_all.drop(['parking_area'], axis = 1) # for 486 null values (train + test)\n",
    "#print( df_all.shape )"
   ]
  },
  {
   "cell_type": "code",
   "execution_count": null,
   "metadata": {},
   "outputs": [],
   "source": []
  },
  {
   "cell_type": "code",
   "execution_count": 47,
   "metadata": {},
   "outputs": [
    {
     "name": "stdout",
     "output_type": "stream",
     "text": [
      "(69803, 233)\n"
     ]
    }
   ],
   "source": [
    "# drop掉大多為Null的欄位\n",
    "#df_all = df_all.drop(['land_area'], axis = 1) #\n",
    "print(df_all.shape)"
   ]
  },
  {
   "cell_type": "code",
   "execution_count": 48,
   "metadata": {},
   "outputs": [],
   "source": [
    "# drop掉大多為Null的欄位\n",
    "#df_all = df_all.drop(['parking_way'], axis = 1) #\n",
    "#print(df_all.shape)"
   ]
  },
  {
   "cell_type": "code",
   "execution_count": 49,
   "metadata": {},
   "outputs": [],
   "source": [
    "import math\n",
    "def QualToZero2(x):\n",
    "    #if(math.isnan(x)):\n",
    "    #    return 0\n",
    "    if(x==0):\n",
    "        return 1\n",
    "    if(x==1):\n",
    "        return 2\n",
    "    if(x==2):\n",
    "        return 0\n",
    "    return x\n",
    "\n",
    "df_all['parking_way'] = df_all['parking_way'].apply(QualToZero2)"
   ]
  },
  {
   "cell_type": "code",
   "execution_count": 50,
   "metadata": {},
   "outputs": [],
   "source": [
    "\n",
    "#df_all['parking_area'] = df_all['parking_area'].fillna(0)\n",
    "#df_all['parking_price'] = df_all['parking_price'].fillna(0)"
   ]
  },
  {
   "cell_type": "code",
   "execution_count": 51,
   "metadata": {},
   "outputs": [
    {
     "data": {
      "text/html": [
       "<div>\n",
       "<style scoped>\n",
       "    .dataframe tbody tr th:only-of-type {\n",
       "        vertical-align: middle;\n",
       "    }\n",
       "\n",
       "    .dataframe tbody tr th {\n",
       "        vertical-align: top;\n",
       "    }\n",
       "\n",
       "    .dataframe thead th {\n",
       "        text-align: right;\n",
       "    }\n",
       "</style>\n",
       "<table border=\"1\" class=\"dataframe\">\n",
       "  <thead>\n",
       "    <tr style=\"text-align: right;\">\n",
       "      <th></th>\n",
       "      <th></th>\n",
       "      <th>building_material</th>\n",
       "      <th>city</th>\n",
       "      <th>txn_dt</th>\n",
       "      <th>total_floor</th>\n",
       "      <th>building_type</th>\n",
       "      <th>building_use</th>\n",
       "      <th>building_complete_dt</th>\n",
       "      <th>parking_way</th>\n",
       "      <th>parking_area</th>\n",
       "      <th>parking_price</th>\n",
       "      <th>...</th>\n",
       "      <th>XIV_250</th>\n",
       "      <th>XIV_500</th>\n",
       "      <th>XIV_index_500</th>\n",
       "      <th>XIV_1000</th>\n",
       "      <th>XIV_index_1000</th>\n",
       "      <th>XIV_5000</th>\n",
       "      <th>XIV_index_5000</th>\n",
       "      <th>XIV_10000</th>\n",
       "      <th>XIV_index_10000</th>\n",
       "      <th>XIV_MIN</th>\n",
       "    </tr>\n",
       "  </thead>\n",
       "  <tbody>\n",
       "    <tr>\n",
       "      <th rowspan=\"5\" valign=\"top\">train</th>\n",
       "      <th>0</th>\n",
       "      <td>8</td>\n",
       "      <td>21</td>\n",
       "      <td>18674</td>\n",
       "      <td>4</td>\n",
       "      <td>3</td>\n",
       "      <td>2</td>\n",
       "      <td>6271</td>\n",
       "      <td>0</td>\n",
       "      <td>NaN</td>\n",
       "      <td>NaN</td>\n",
       "      <td>...</td>\n",
       "      <td>21</td>\n",
       "      <td>58</td>\n",
       "      <td>1</td>\n",
       "      <td>157</td>\n",
       "      <td>1</td>\n",
       "      <td>2483</td>\n",
       "      <td>1</td>\n",
       "      <td>6011</td>\n",
       "      <td>1</td>\n",
       "      <td>34.469803</td>\n",
       "    </tr>\n",
       "    <tr>\n",
       "      <th>1</th>\n",
       "      <td>8</td>\n",
       "      <td>7</td>\n",
       "      <td>18800</td>\n",
       "      <td>5</td>\n",
       "      <td>1</td>\n",
       "      <td>2</td>\n",
       "      <td>7885</td>\n",
       "      <td>0</td>\n",
       "      <td>NaN</td>\n",
       "      <td>NaN</td>\n",
       "      <td>...</td>\n",
       "      <td>7</td>\n",
       "      <td>28</td>\n",
       "      <td>1</td>\n",
       "      <td>115</td>\n",
       "      <td>1</td>\n",
       "      <td>15872</td>\n",
       "      <td>1</td>\n",
       "      <td>32221</td>\n",
       "      <td>1</td>\n",
       "      <td>40.073573</td>\n",
       "    </tr>\n",
       "    <tr>\n",
       "      <th>2</th>\n",
       "      <td>8</td>\n",
       "      <td>7</td>\n",
       "      <td>19289</td>\n",
       "      <td>4</td>\n",
       "      <td>1</td>\n",
       "      <td>2</td>\n",
       "      <td>6028</td>\n",
       "      <td>0</td>\n",
       "      <td>NaN</td>\n",
       "      <td>NaN</td>\n",
       "      <td>...</td>\n",
       "      <td>27</td>\n",
       "      <td>78</td>\n",
       "      <td>1</td>\n",
       "      <td>212</td>\n",
       "      <td>1</td>\n",
       "      <td>15760</td>\n",
       "      <td>1</td>\n",
       "      <td>32228</td>\n",
       "      <td>1</td>\n",
       "      <td>54.462081</td>\n",
       "    </tr>\n",
       "    <tr>\n",
       "      <th>3</th>\n",
       "      <td>8</td>\n",
       "      <td>21</td>\n",
       "      <td>20385</td>\n",
       "      <td>24</td>\n",
       "      <td>0</td>\n",
       "      <td>2</td>\n",
       "      <td>18325</td>\n",
       "      <td>1</td>\n",
       "      <td>NaN</td>\n",
       "      <td>81138.889762</td>\n",
       "      <td>...</td>\n",
       "      <td>2</td>\n",
       "      <td>20</td>\n",
       "      <td>1</td>\n",
       "      <td>125</td>\n",
       "      <td>1</td>\n",
       "      <td>2568</td>\n",
       "      <td>1</td>\n",
       "      <td>7271</td>\n",
       "      <td>1</td>\n",
       "      <td>99.628966</td>\n",
       "    </tr>\n",
       "    <tr>\n",
       "      <th>4</th>\n",
       "      <td>1</td>\n",
       "      <td>21</td>\n",
       "      <td>20657</td>\n",
       "      <td>2</td>\n",
       "      <td>4</td>\n",
       "      <td>2</td>\n",
       "      <td>6880</td>\n",
       "      <td>0</td>\n",
       "      <td>NaN</td>\n",
       "      <td>NaN</td>\n",
       "      <td>...</td>\n",
       "      <td>2</td>\n",
       "      <td>18</td>\n",
       "      <td>1</td>\n",
       "      <td>47</td>\n",
       "      <td>1</td>\n",
       "      <td>2587</td>\n",
       "      <td>1</td>\n",
       "      <td>7442</td>\n",
       "      <td>1</td>\n",
       "      <td>124.131236</td>\n",
       "    </tr>\n",
       "  </tbody>\n",
       "</table>\n",
       "<p>5 rows × 233 columns</p>\n",
       "</div>"
      ],
      "text/plain": [
       "         building_material  city  txn_dt  total_floor  building_type  \\\n",
       "train 0                  8    21   18674            4              3   \n",
       "      1                  8     7   18800            5              1   \n",
       "      2                  8     7   19289            4              1   \n",
       "      3                  8    21   20385           24              0   \n",
       "      4                  1    21   20657            2              4   \n",
       "\n",
       "         building_use  building_complete_dt  parking_way  parking_area  \\\n",
       "train 0             2                  6271            0           NaN   \n",
       "      1             2                  7885            0           NaN   \n",
       "      2             2                  6028            0           NaN   \n",
       "      3             2                 18325            1           NaN   \n",
       "      4             2                  6880            0           NaN   \n",
       "\n",
       "         parking_price     ...      XIV_250  XIV_500  XIV_index_500  XIV_1000  \\\n",
       "train 0            NaN     ...           21       58              1       157   \n",
       "      1            NaN     ...            7       28              1       115   \n",
       "      2            NaN     ...           27       78              1       212   \n",
       "      3   81138.889762     ...            2       20              1       125   \n",
       "      4            NaN     ...            2       18              1        47   \n",
       "\n",
       "         XIV_index_1000  XIV_5000  XIV_index_5000  XIV_10000  XIV_index_10000  \\\n",
       "train 0               1      2483               1       6011                1   \n",
       "      1               1     15872               1      32221                1   \n",
       "      2               1     15760               1      32228                1   \n",
       "      3               1      2568               1       7271                1   \n",
       "      4               1      2587               1       7442                1   \n",
       "\n",
       "            XIV_MIN  \n",
       "train 0   34.469803  \n",
       "      1   40.073573  \n",
       "      2   54.462081  \n",
       "      3   99.628966  \n",
       "      4  124.131236  \n",
       "\n",
       "[5 rows x 233 columns]"
      ]
     },
     "execution_count": 51,
     "metadata": {},
     "output_type": "execute_result"
    }
   ],
   "source": [
    "df_all.head()"
   ]
  },
  {
   "cell_type": "code",
   "execution_count": 52,
   "metadata": {},
   "outputs": [
    {
     "data": {
      "text/html": [
       "<div>\n",
       "<style scoped>\n",
       "    .dataframe tbody tr th:only-of-type {\n",
       "        vertical-align: middle;\n",
       "    }\n",
       "\n",
       "    .dataframe tbody tr th {\n",
       "        vertical-align: top;\n",
       "    }\n",
       "\n",
       "    .dataframe thead th {\n",
       "        text-align: right;\n",
       "    }\n",
       "</style>\n",
       "<table border=\"1\" class=\"dataframe\">\n",
       "  <thead>\n",
       "    <tr style=\"text-align: right;\">\n",
       "      <th></th>\n",
       "      <th></th>\n",
       "      <th></th>\n",
       "      <th></th>\n",
       "      <th>level_0</th>\n",
       "      <th>level_1</th>\n",
       "      <th>city</th>\n",
       "      <th>txn_dt</th>\n",
       "      <th>total_floor</th>\n",
       "      <th>building_complete_dt</th>\n",
       "      <th>parking_area</th>\n",
       "      <th>parking_price</th>\n",
       "      <th>txn_floor</th>\n",
       "      <th>land_area</th>\n",
       "      <th>...</th>\n",
       "      <th>XIV_250</th>\n",
       "      <th>XIV_500</th>\n",
       "      <th>XIV_index_500</th>\n",
       "      <th>XIV_1000</th>\n",
       "      <th>XIV_index_1000</th>\n",
       "      <th>XIV_5000</th>\n",
       "      <th>XIV_index_5000</th>\n",
       "      <th>XIV_10000</th>\n",
       "      <th>XIV_index_10000</th>\n",
       "      <th>XIV_MIN</th>\n",
       "    </tr>\n",
       "    <tr>\n",
       "      <th>parking_way</th>\n",
       "      <th>building_material</th>\n",
       "      <th>building_type</th>\n",
       "      <th>building_use</th>\n",
       "      <th></th>\n",
       "      <th></th>\n",
       "      <th></th>\n",
       "      <th></th>\n",
       "      <th></th>\n",
       "      <th></th>\n",
       "      <th></th>\n",
       "      <th></th>\n",
       "      <th></th>\n",
       "      <th></th>\n",
       "      <th></th>\n",
       "      <th></th>\n",
       "      <th></th>\n",
       "      <th></th>\n",
       "      <th></th>\n",
       "      <th></th>\n",
       "      <th></th>\n",
       "      <th></th>\n",
       "      <th></th>\n",
       "      <th></th>\n",
       "      <th></th>\n",
       "    </tr>\n",
       "  </thead>\n",
       "  <tbody>\n",
       "    <tr>\n",
       "      <th rowspan=\"3\" valign=\"top\">0</th>\n",
       "      <th rowspan=\"3\" valign=\"top\">8</th>\n",
       "      <th>3</th>\n",
       "      <th>2</th>\n",
       "      <td>train</td>\n",
       "      <td>0</td>\n",
       "      <td>21</td>\n",
       "      <td>18674</td>\n",
       "      <td>4</td>\n",
       "      <td>6271</td>\n",
       "      <td>1.000000</td>\n",
       "      <td>NaN</td>\n",
       "      <td>3.0</td>\n",
       "      <td>18.144460</td>\n",
       "      <td>...</td>\n",
       "      <td>21</td>\n",
       "      <td>58</td>\n",
       "      <td>1</td>\n",
       "      <td>157</td>\n",
       "      <td>1</td>\n",
       "      <td>2483</td>\n",
       "      <td>1</td>\n",
       "      <td>6011</td>\n",
       "      <td>1</td>\n",
       "      <td>34.469803</td>\n",
       "    </tr>\n",
       "    <tr>\n",
       "      <th rowspan=\"2\" valign=\"top\">1</th>\n",
       "      <th>2</th>\n",
       "      <td>train</td>\n",
       "      <td>1</td>\n",
       "      <td>7</td>\n",
       "      <td>18800</td>\n",
       "      <td>5</td>\n",
       "      <td>7885</td>\n",
       "      <td>1.000000</td>\n",
       "      <td>NaN</td>\n",
       "      <td>5.0</td>\n",
       "      <td>11.387227</td>\n",
       "      <td>...</td>\n",
       "      <td>7</td>\n",
       "      <td>28</td>\n",
       "      <td>1</td>\n",
       "      <td>115</td>\n",
       "      <td>1</td>\n",
       "      <td>15872</td>\n",
       "      <td>1</td>\n",
       "      <td>32221</td>\n",
       "      <td>1</td>\n",
       "      <td>40.073573</td>\n",
       "    </tr>\n",
       "    <tr>\n",
       "      <th>2</th>\n",
       "      <td>train</td>\n",
       "      <td>2</td>\n",
       "      <td>7</td>\n",
       "      <td>19289</td>\n",
       "      <td>4</td>\n",
       "      <td>6028</td>\n",
       "      <td>1.000000</td>\n",
       "      <td>NaN</td>\n",
       "      <td>1.0</td>\n",
       "      <td>21.426802</td>\n",
       "      <td>...</td>\n",
       "      <td>27</td>\n",
       "      <td>78</td>\n",
       "      <td>1</td>\n",
       "      <td>212</td>\n",
       "      <td>1</td>\n",
       "      <td>15760</td>\n",
       "      <td>1</td>\n",
       "      <td>32228</td>\n",
       "      <td>1</td>\n",
       "      <td>54.462081</td>\n",
       "    </tr>\n",
       "    <tr>\n",
       "      <th>1</th>\n",
       "      <th>8</th>\n",
       "      <th>0</th>\n",
       "      <th>2</th>\n",
       "      <td>train</td>\n",
       "      <td>3</td>\n",
       "      <td>21</td>\n",
       "      <td>20385</td>\n",
       "      <td>24</td>\n",
       "      <td>18325</td>\n",
       "      <td>7.256586</td>\n",
       "      <td>81138.889762</td>\n",
       "      <td>13.0</td>\n",
       "      <td>11.387227</td>\n",
       "      <td>...</td>\n",
       "      <td>2</td>\n",
       "      <td>20</td>\n",
       "      <td>1</td>\n",
       "      <td>125</td>\n",
       "      <td>1</td>\n",
       "      <td>2568</td>\n",
       "      <td>1</td>\n",
       "      <td>7271</td>\n",
       "      <td>1</td>\n",
       "      <td>99.628966</td>\n",
       "    </tr>\n",
       "    <tr>\n",
       "      <th>0</th>\n",
       "      <th>1</th>\n",
       "      <th>4</th>\n",
       "      <th>2</th>\n",
       "      <td>train</td>\n",
       "      <td>4</td>\n",
       "      <td>21</td>\n",
       "      <td>20657</td>\n",
       "      <td>2</td>\n",
       "      <td>6880</td>\n",
       "      <td>1.000000</td>\n",
       "      <td>NaN</td>\n",
       "      <td>NaN</td>\n",
       "      <td>61.306524</td>\n",
       "      <td>...</td>\n",
       "      <td>2</td>\n",
       "      <td>18</td>\n",
       "      <td>1</td>\n",
       "      <td>47</td>\n",
       "      <td>1</td>\n",
       "      <td>2587</td>\n",
       "      <td>1</td>\n",
       "      <td>7442</td>\n",
       "      <td>1</td>\n",
       "      <td>124.131236</td>\n",
       "    </tr>\n",
       "  </tbody>\n",
       "</table>\n",
       "<p>5 rows × 231 columns</p>\n",
       "</div>"
      ],
      "text/plain": [
       "                                                         level_0  level_1  \\\n",
       "parking_way building_material building_type building_use                    \n",
       "0           8                 3             2              train        0   \n",
       "                              1             2              train        1   \n",
       "                                            2              train        2   \n",
       "1           8                 0             2              train        3   \n",
       "0           1                 4             2              train        4   \n",
       "\n",
       "                                                          city  txn_dt  \\\n",
       "parking_way building_material building_type building_use                 \n",
       "0           8                 3             2               21   18674   \n",
       "                              1             2                7   18800   \n",
       "                                            2                7   19289   \n",
       "1           8                 0             2               21   20385   \n",
       "0           1                 4             2               21   20657   \n",
       "\n",
       "                                                          total_floor  \\\n",
       "parking_way building_material building_type building_use                \n",
       "0           8                 3             2                       4   \n",
       "                              1             2                       5   \n",
       "                                            2                       4   \n",
       "1           8                 0             2                      24   \n",
       "0           1                 4             2                       2   \n",
       "\n",
       "                                                          building_complete_dt  \\\n",
       "parking_way building_material building_type building_use                         \n",
       "0           8                 3             2                             6271   \n",
       "                              1             2                             7885   \n",
       "                                            2                             6028   \n",
       "1           8                 0             2                            18325   \n",
       "0           1                 4             2                             6880   \n",
       "\n",
       "                                                          parking_area  \\\n",
       "parking_way building_material building_type building_use                 \n",
       "0           8                 3             2                 1.000000   \n",
       "                              1             2                 1.000000   \n",
       "                                            2                 1.000000   \n",
       "1           8                 0             2                 7.256586   \n",
       "0           1                 4             2                 1.000000   \n",
       "\n",
       "                                                          parking_price  \\\n",
       "parking_way building_material building_type building_use                  \n",
       "0           8                 3             2                       NaN   \n",
       "                              1             2                       NaN   \n",
       "                                            2                       NaN   \n",
       "1           8                 0             2              81138.889762   \n",
       "0           1                 4             2                       NaN   \n",
       "\n",
       "                                                          txn_floor  \\\n",
       "parking_way building_material building_type building_use              \n",
       "0           8                 3             2                   3.0   \n",
       "                              1             2                   5.0   \n",
       "                                            2                   1.0   \n",
       "1           8                 0             2                  13.0   \n",
       "0           1                 4             2                   NaN   \n",
       "\n",
       "                                                          land_area  \\\n",
       "parking_way building_material building_type building_use              \n",
       "0           8                 3             2             18.144460   \n",
       "                              1             2             11.387227   \n",
       "                                            2             21.426802   \n",
       "1           8                 0             2             11.387227   \n",
       "0           1                 4             2             61.306524   \n",
       "\n",
       "                                                             ...      XIV_250  \\\n",
       "parking_way building_material building_type building_use     ...                \n",
       "0           8                 3             2                ...           21   \n",
       "                              1             2                ...            7   \n",
       "                                            2                ...           27   \n",
       "1           8                 0             2                ...            2   \n",
       "0           1                 4             2                ...            2   \n",
       "\n",
       "                                                          XIV_500  \\\n",
       "parking_way building_material building_type building_use            \n",
       "0           8                 3             2                  58   \n",
       "                              1             2                  28   \n",
       "                                            2                  78   \n",
       "1           8                 0             2                  20   \n",
       "0           1                 4             2                  18   \n",
       "\n",
       "                                                          XIV_index_500  \\\n",
       "parking_way building_material building_type building_use                  \n",
       "0           8                 3             2                         1   \n",
       "                              1             2                         1   \n",
       "                                            2                         1   \n",
       "1           8                 0             2                         1   \n",
       "0           1                 4             2                         1   \n",
       "\n",
       "                                                          XIV_1000  \\\n",
       "parking_way building_material building_type building_use             \n",
       "0           8                 3             2                  157   \n",
       "                              1             2                  115   \n",
       "                                            2                  212   \n",
       "1           8                 0             2                  125   \n",
       "0           1                 4             2                   47   \n",
       "\n",
       "                                                          XIV_index_1000  \\\n",
       "parking_way building_material building_type building_use                   \n",
       "0           8                 3             2                          1   \n",
       "                              1             2                          1   \n",
       "                                            2                          1   \n",
       "1           8                 0             2                          1   \n",
       "0           1                 4             2                          1   \n",
       "\n",
       "                                                          XIV_5000  \\\n",
       "parking_way building_material building_type building_use             \n",
       "0           8                 3             2                 2483   \n",
       "                              1             2                15872   \n",
       "                                            2                15760   \n",
       "1           8                 0             2                 2568   \n",
       "0           1                 4             2                 2587   \n",
       "\n",
       "                                                          XIV_index_5000  \\\n",
       "parking_way building_material building_type building_use                   \n",
       "0           8                 3             2                          1   \n",
       "                              1             2                          1   \n",
       "                                            2                          1   \n",
       "1           8                 0             2                          1   \n",
       "0           1                 4             2                          1   \n",
       "\n",
       "                                                          XIV_10000  \\\n",
       "parking_way building_material building_type building_use              \n",
       "0           8                 3             2                  6011   \n",
       "                              1             2                 32221   \n",
       "                                            2                 32228   \n",
       "1           8                 0             2                  7271   \n",
       "0           1                 4             2                  7442   \n",
       "\n",
       "                                                          XIV_index_10000  \\\n",
       "parking_way building_material building_type building_use                    \n",
       "0           8                 3             2                           1   \n",
       "                              1             2                           1   \n",
       "                                            2                           1   \n",
       "1           8                 0             2                           1   \n",
       "0           1                 4             2                           1   \n",
       "\n",
       "                                                             XIV_MIN  \n",
       "parking_way building_material building_type building_use              \n",
       "0           8                 3             2              34.469803  \n",
       "                              1             2              40.073573  \n",
       "                                            2              54.462081  \n",
       "1           8                 0             2              99.628966  \n",
       "0           1                 4             2             124.131236  \n",
       "\n",
       "[5 rows x 231 columns]"
      ]
     },
     "execution_count": 52,
     "metadata": {},
     "output_type": "execute_result"
    }
   ],
   "source": [
    "#df_all[\"parking_area\"] = df_all[(df_all['parking_way']==0)][\"parking_area\"].fillna(0)#df_all['parking_area'].mode()[0])\n",
    "df_all=df_all.reset_index()\n",
    "means = df_all.groupby(['parking_way','building_material','building_type','building_use'])['parking_area'].mean()\n",
    "means=means.fillna(1)\n",
    "means\n",
    "df_all = df_all.set_index(['parking_way','building_material','building_type','building_use'])\n",
    "df_all['parking_area'] = df_all['parking_area'].fillna(means)\n",
    "\n",
    "df_all.head()"
   ]
  },
  {
   "cell_type": "code",
   "execution_count": 53,
   "metadata": {},
   "outputs": [
    {
     "data": {
      "text/html": [
       "<div>\n",
       "<style scoped>\n",
       "    .dataframe tbody tr th:only-of-type {\n",
       "        vertical-align: middle;\n",
       "    }\n",
       "\n",
       "    .dataframe tbody tr th {\n",
       "        vertical-align: top;\n",
       "    }\n",
       "\n",
       "    .dataframe thead th {\n",
       "        text-align: right;\n",
       "    }\n",
       "</style>\n",
       "<table border=\"1\" class=\"dataframe\">\n",
       "  <thead>\n",
       "    <tr style=\"text-align: right;\">\n",
       "      <th></th>\n",
       "      <th>parking_way</th>\n",
       "      <th>building_material</th>\n",
       "      <th>building_type</th>\n",
       "      <th>total_floor</th>\n",
       "      <th>building_use</th>\n",
       "      <th>level_0</th>\n",
       "      <th>level_1</th>\n",
       "      <th>city</th>\n",
       "      <th>txn_dt</th>\n",
       "      <th>building_complete_dt</th>\n",
       "      <th>...</th>\n",
       "      <th>XIV_250</th>\n",
       "      <th>XIV_500</th>\n",
       "      <th>XIV_index_500</th>\n",
       "      <th>XIV_1000</th>\n",
       "      <th>XIV_index_1000</th>\n",
       "      <th>XIV_5000</th>\n",
       "      <th>XIV_index_5000</th>\n",
       "      <th>XIV_10000</th>\n",
       "      <th>XIV_index_10000</th>\n",
       "      <th>XIV_MIN</th>\n",
       "    </tr>\n",
       "  </thead>\n",
       "  <tbody>\n",
       "    <tr>\n",
       "      <th>0</th>\n",
       "      <td>0</td>\n",
       "      <td>8</td>\n",
       "      <td>3</td>\n",
       "      <td>4</td>\n",
       "      <td>2</td>\n",
       "      <td>train</td>\n",
       "      <td>0</td>\n",
       "      <td>21</td>\n",
       "      <td>18674</td>\n",
       "      <td>6271</td>\n",
       "      <td>...</td>\n",
       "      <td>21</td>\n",
       "      <td>58</td>\n",
       "      <td>1</td>\n",
       "      <td>157</td>\n",
       "      <td>1</td>\n",
       "      <td>2483</td>\n",
       "      <td>1</td>\n",
       "      <td>6011</td>\n",
       "      <td>1</td>\n",
       "      <td>34.469803</td>\n",
       "    </tr>\n",
       "    <tr>\n",
       "      <th>1</th>\n",
       "      <td>0</td>\n",
       "      <td>8</td>\n",
       "      <td>1</td>\n",
       "      <td>5</td>\n",
       "      <td>2</td>\n",
       "      <td>train</td>\n",
       "      <td>1</td>\n",
       "      <td>7</td>\n",
       "      <td>18800</td>\n",
       "      <td>7885</td>\n",
       "      <td>...</td>\n",
       "      <td>7</td>\n",
       "      <td>28</td>\n",
       "      <td>1</td>\n",
       "      <td>115</td>\n",
       "      <td>1</td>\n",
       "      <td>15872</td>\n",
       "      <td>1</td>\n",
       "      <td>32221</td>\n",
       "      <td>1</td>\n",
       "      <td>40.073573</td>\n",
       "    </tr>\n",
       "    <tr>\n",
       "      <th>2</th>\n",
       "      <td>0</td>\n",
       "      <td>8</td>\n",
       "      <td>1</td>\n",
       "      <td>4</td>\n",
       "      <td>2</td>\n",
       "      <td>train</td>\n",
       "      <td>2</td>\n",
       "      <td>7</td>\n",
       "      <td>19289</td>\n",
       "      <td>6028</td>\n",
       "      <td>...</td>\n",
       "      <td>27</td>\n",
       "      <td>78</td>\n",
       "      <td>1</td>\n",
       "      <td>212</td>\n",
       "      <td>1</td>\n",
       "      <td>15760</td>\n",
       "      <td>1</td>\n",
       "      <td>32228</td>\n",
       "      <td>1</td>\n",
       "      <td>54.462081</td>\n",
       "    </tr>\n",
       "    <tr>\n",
       "      <th>3</th>\n",
       "      <td>1</td>\n",
       "      <td>8</td>\n",
       "      <td>0</td>\n",
       "      <td>24</td>\n",
       "      <td>2</td>\n",
       "      <td>train</td>\n",
       "      <td>3</td>\n",
       "      <td>21</td>\n",
       "      <td>20385</td>\n",
       "      <td>18325</td>\n",
       "      <td>...</td>\n",
       "      <td>2</td>\n",
       "      <td>20</td>\n",
       "      <td>1</td>\n",
       "      <td>125</td>\n",
       "      <td>1</td>\n",
       "      <td>2568</td>\n",
       "      <td>1</td>\n",
       "      <td>7271</td>\n",
       "      <td>1</td>\n",
       "      <td>99.628966</td>\n",
       "    </tr>\n",
       "    <tr>\n",
       "      <th>4</th>\n",
       "      <td>0</td>\n",
       "      <td>1</td>\n",
       "      <td>4</td>\n",
       "      <td>2</td>\n",
       "      <td>2</td>\n",
       "      <td>train</td>\n",
       "      <td>4</td>\n",
       "      <td>21</td>\n",
       "      <td>20657</td>\n",
       "      <td>6880</td>\n",
       "      <td>...</td>\n",
       "      <td>2</td>\n",
       "      <td>18</td>\n",
       "      <td>1</td>\n",
       "      <td>47</td>\n",
       "      <td>1</td>\n",
       "      <td>2587</td>\n",
       "      <td>1</td>\n",
       "      <td>7442</td>\n",
       "      <td>1</td>\n",
       "      <td>124.131236</td>\n",
       "    </tr>\n",
       "  </tbody>\n",
       "</table>\n",
       "<p>5 rows × 235 columns</p>\n",
       "</div>"
      ],
      "text/plain": [
       "   parking_way  building_material  building_type  total_floor  building_use  \\\n",
       "0            0                  8              3            4             2   \n",
       "1            0                  8              1            5             2   \n",
       "2            0                  8              1            4             2   \n",
       "3            1                  8              0           24             2   \n",
       "4            0                  1              4            2             2   \n",
       "\n",
       "  level_0  level_1  city  txn_dt  building_complete_dt     ...      XIV_250  \\\n",
       "0   train        0    21   18674                  6271     ...           21   \n",
       "1   train        1     7   18800                  7885     ...            7   \n",
       "2   train        2     7   19289                  6028     ...           27   \n",
       "3   train        3    21   20385                 18325     ...            2   \n",
       "4   train        4    21   20657                  6880     ...            2   \n",
       "\n",
       "   XIV_500  XIV_index_500  XIV_1000  XIV_index_1000  XIV_5000  XIV_index_5000  \\\n",
       "0       58              1       157               1      2483               1   \n",
       "1       28              1       115               1     15872               1   \n",
       "2       78              1       212               1     15760               1   \n",
       "3       20              1       125               1      2568               1   \n",
       "4       18              1        47               1      2587               1   \n",
       "\n",
       "   XIV_10000  XIV_index_10000     XIV_MIN  \n",
       "0       6011                1   34.469803  \n",
       "1      32221                1   40.073573  \n",
       "2      32228                1   54.462081  \n",
       "3       7271                1   99.628966  \n",
       "4       7442                1  124.131236  \n",
       "\n",
       "[5 rows x 235 columns]"
      ]
     },
     "execution_count": 53,
     "metadata": {},
     "output_type": "execute_result"
    }
   ],
   "source": [
    "df_all=df_all.reset_index()\n",
    "means = df_all.groupby(['parking_way','building_material','building_type','total_floor'])['parking_price'].mean()\n",
    "means=means.fillna(1)\n",
    "means\n",
    "df_all = df_all.set_index(['parking_way','building_material','building_type','total_floor'])\n",
    "df_all['parking_price'] = df_all['parking_price'].fillna(means)\n",
    "df_all=df_all.reset_index()\n",
    "df_all.head()"
   ]
  },
  {
   "cell_type": "code",
   "execution_count": 54,
   "metadata": {},
   "outputs": [],
   "source": [
    "df_all=df_all.reset_index()\n",
    "means = df_all.groupby(['building_material','building_type','building_use'])['txn_floor'].median()\n",
    "means=means.fillna(1)\n",
    "means\n",
    "df_all = df_all.set_index(['building_material','building_type','building_use'])\n",
    "df_all['txn_floor'] = df_all['txn_floor'].fillna(means)\n",
    "df_all=df_all.reset_index()\n",
    "#df_all.head()\n",
    "\n",
    "#print( train[(train['txn_floor']>train['total_floor']) ] )"
   ]
  },
  {
   "cell_type": "code",
   "execution_count": 55,
   "metadata": {},
   "outputs": [
    {
     "data": {
      "text/html": [
       "<div>\n",
       "<style scoped>\n",
       "    .dataframe tbody tr th:only-of-type {\n",
       "        vertical-align: middle;\n",
       "    }\n",
       "\n",
       "    .dataframe tbody tr th {\n",
       "        vertical-align: top;\n",
       "    }\n",
       "\n",
       "    .dataframe thead th {\n",
       "        text-align: right;\n",
       "    }\n",
       "</style>\n",
       "<table border=\"1\" class=\"dataframe\">\n",
       "  <thead>\n",
       "    <tr style=\"text-align: right;\">\n",
       "      <th></th>\n",
       "      <th>city</th>\n",
       "      <th>town</th>\n",
       "      <th>building_material</th>\n",
       "      <th>building_type</th>\n",
       "      <th>building_use</th>\n",
       "      <th>index</th>\n",
       "      <th>parking_way</th>\n",
       "      <th>total_floor</th>\n",
       "      <th>level_0</th>\n",
       "      <th>level_1</th>\n",
       "      <th>...</th>\n",
       "      <th>XIV_250</th>\n",
       "      <th>XIV_500</th>\n",
       "      <th>XIV_index_500</th>\n",
       "      <th>XIV_1000</th>\n",
       "      <th>XIV_index_1000</th>\n",
       "      <th>XIV_5000</th>\n",
       "      <th>XIV_index_5000</th>\n",
       "      <th>XIV_10000</th>\n",
       "      <th>XIV_index_10000</th>\n",
       "      <th>XIV_MIN</th>\n",
       "    </tr>\n",
       "  </thead>\n",
       "  <tbody>\n",
       "    <tr>\n",
       "      <th>0</th>\n",
       "      <td>21</td>\n",
       "      <td>334</td>\n",
       "      <td>8</td>\n",
       "      <td>3</td>\n",
       "      <td>2</td>\n",
       "      <td>0</td>\n",
       "      <td>0</td>\n",
       "      <td>4</td>\n",
       "      <td>train</td>\n",
       "      <td>0</td>\n",
       "      <td>...</td>\n",
       "      <td>21</td>\n",
       "      <td>58</td>\n",
       "      <td>1</td>\n",
       "      <td>157</td>\n",
       "      <td>1</td>\n",
       "      <td>2483</td>\n",
       "      <td>1</td>\n",
       "      <td>6011</td>\n",
       "      <td>1</td>\n",
       "      <td>34.469803</td>\n",
       "    </tr>\n",
       "    <tr>\n",
       "      <th>1</th>\n",
       "      <td>7</td>\n",
       "      <td>180</td>\n",
       "      <td>8</td>\n",
       "      <td>1</td>\n",
       "      <td>2</td>\n",
       "      <td>1</td>\n",
       "      <td>0</td>\n",
       "      <td>5</td>\n",
       "      <td>train</td>\n",
       "      <td>1</td>\n",
       "      <td>...</td>\n",
       "      <td>7</td>\n",
       "      <td>28</td>\n",
       "      <td>1</td>\n",
       "      <td>115</td>\n",
       "      <td>1</td>\n",
       "      <td>15872</td>\n",
       "      <td>1</td>\n",
       "      <td>32221</td>\n",
       "      <td>1</td>\n",
       "      <td>40.073573</td>\n",
       "    </tr>\n",
       "    <tr>\n",
       "      <th>2</th>\n",
       "      <td>7</td>\n",
       "      <td>180</td>\n",
       "      <td>8</td>\n",
       "      <td>1</td>\n",
       "      <td>2</td>\n",
       "      <td>2</td>\n",
       "      <td>0</td>\n",
       "      <td>4</td>\n",
       "      <td>train</td>\n",
       "      <td>2</td>\n",
       "      <td>...</td>\n",
       "      <td>27</td>\n",
       "      <td>78</td>\n",
       "      <td>1</td>\n",
       "      <td>212</td>\n",
       "      <td>1</td>\n",
       "      <td>15760</td>\n",
       "      <td>1</td>\n",
       "      <td>32228</td>\n",
       "      <td>1</td>\n",
       "      <td>54.462081</td>\n",
       "    </tr>\n",
       "    <tr>\n",
       "      <th>3</th>\n",
       "      <td>21</td>\n",
       "      <td>343</td>\n",
       "      <td>8</td>\n",
       "      <td>0</td>\n",
       "      <td>2</td>\n",
       "      <td>3</td>\n",
       "      <td>1</td>\n",
       "      <td>24</td>\n",
       "      <td>train</td>\n",
       "      <td>3</td>\n",
       "      <td>...</td>\n",
       "      <td>2</td>\n",
       "      <td>20</td>\n",
       "      <td>1</td>\n",
       "      <td>125</td>\n",
       "      <td>1</td>\n",
       "      <td>2568</td>\n",
       "      <td>1</td>\n",
       "      <td>7271</td>\n",
       "      <td>1</td>\n",
       "      <td>99.628966</td>\n",
       "    </tr>\n",
       "    <tr>\n",
       "      <th>4</th>\n",
       "      <td>21</td>\n",
       "      <td>102</td>\n",
       "      <td>1</td>\n",
       "      <td>4</td>\n",
       "      <td>2</td>\n",
       "      <td>4</td>\n",
       "      <td>0</td>\n",
       "      <td>2</td>\n",
       "      <td>train</td>\n",
       "      <td>4</td>\n",
       "      <td>...</td>\n",
       "      <td>2</td>\n",
       "      <td>18</td>\n",
       "      <td>1</td>\n",
       "      <td>47</td>\n",
       "      <td>1</td>\n",
       "      <td>2587</td>\n",
       "      <td>1</td>\n",
       "      <td>7442</td>\n",
       "      <td>1</td>\n",
       "      <td>124.131236</td>\n",
       "    </tr>\n",
       "  </tbody>\n",
       "</table>\n",
       "<p>5 rows × 236 columns</p>\n",
       "</div>"
      ],
      "text/plain": [
       "   city  town  building_material  building_type  building_use  index  \\\n",
       "0    21   334                  8              3             2      0   \n",
       "1     7   180                  8              1             2      1   \n",
       "2     7   180                  8              1             2      2   \n",
       "3    21   343                  8              0             2      3   \n",
       "4    21   102                  1              4             2      4   \n",
       "\n",
       "   parking_way  total_floor level_0  level_1     ...      XIV_250  XIV_500  \\\n",
       "0            0            4   train        0     ...           21       58   \n",
       "1            0            5   train        1     ...            7       28   \n",
       "2            0            4   train        2     ...           27       78   \n",
       "3            1           24   train        3     ...            2       20   \n",
       "4            0            2   train        4     ...            2       18   \n",
       "\n",
       "   XIV_index_500  XIV_1000  XIV_index_1000  XIV_5000  XIV_index_5000  \\\n",
       "0              1       157               1      2483               1   \n",
       "1              1       115               1     15872               1   \n",
       "2              1       212               1     15760               1   \n",
       "3              1       125               1      2568               1   \n",
       "4              1        47               1      2587               1   \n",
       "\n",
       "   XIV_10000  XIV_index_10000     XIV_MIN  \n",
       "0       6011                1   34.469803  \n",
       "1      32221                1   40.073573  \n",
       "2      32228                1   54.462081  \n",
       "3       7271                1   99.628966  \n",
       "4       7442                1  124.131236  \n",
       "\n",
       "[5 rows x 236 columns]"
      ]
     },
     "execution_count": 55,
     "metadata": {},
     "output_type": "execute_result"
    }
   ],
   "source": [
    "#df_all=df_all.reset_index()\n",
    "means = df_all.groupby(['city','town','building_material'])['village_income_median'].median()\n",
    "#means\n",
    "means=means.fillna(1)\n",
    "df_all = df_all.set_index(['city','town','building_material'])\n",
    "df_all['village_income_median'] = df_all['village_income_median'].fillna(means)\n",
    "df_all=df_all.reset_index()\n",
    "df_all.head()"
   ]
  },
  {
   "cell_type": "code",
   "execution_count": 56,
   "metadata": {},
   "outputs": [],
   "source": [
    "#df_all[\"parking_area\"] = df_all[(df_all['building_area'].isna()) ].fillna(df_all['parking_area'].median()[0])\n",
    "#means = df_all.groupby(['parking_way'])['parking_area'].mean()\n",
    "#df_all[\"parking_area\"]  = df_all.groupby(\"parking_way\")[\"parking_area\"].transform(lambda x: x.fillna(x.mean()))\n",
    "#means = df_all.groupby(['parking_way'])['parking_price'].mean()\n",
    "#df_all['parking_price'] = df_all[(df_all['parking_way']==0)]['parking_price'].fillna(0)\n",
    "#df_all[\"parking_price\"]  = df_all.groupby(\"parking_way\")[\"parking_price\"].transform(lambda x: x.fillna(x.median()))\n",
    "#df_all[\"parking_area\"] = df_all[(df_all['parking_way']==0)][\"parking_area\"].fillna(0)#df_all['parking_area'].mode()[0])\n",
    "#df_all[\"parking_area\"] = df_all[(df_all['parking_way']==1)][\"parking_area\"].transform(lambda x: x.fillna(x.median()))#.fillna(df_all[(df_all['parking_way']==1)]['parking_area'].median())\n",
    "#df_all[\"parking_area\"] = df_all[(df_all['parking_way']==2)][\"parking_area\"].transform(lambda x: x.fillna(x.median()))\n",
    "\n",
    "\n",
    "\n",
    "#df_all['parking_price'] = df_all[(df_all['parking_way']==0)]['parking_price'].fillna(0)\n",
    "#df_all['parking_price'] = df_all[(df_all['parking_way']==1)]['parking_price'].transform(lambda x: x.fillna(x.median()))\n",
    "#df_all['parking_price'] = df_all[(df_all['parking_way']==2)]['parking_price'].transform(lambda x: x.fillna(x.median()))\n",
    "\n",
    "#df_all['building_area'] = df_all['building_area'].fillna(df_all['building_area'].mode()[0])\n",
    "\n",
    "#df_all['village_income_median'] = df_all.groupby(\"city\")[\"village_income_median\"].transform(lambda x: x.fillna(x.mode()))\n",
    "#df_all['village_income_median'] = df_all['village_income_median'].fillna(df_all['village_income_median'].mode()[0])\n",
    "#df_all['txn_floor'] = df_all.groupby(\"city\")[\"txn_floor\"].transform(lambda x: x.fillna(x.mode()))\n",
    "#\n",
    "#df_all[\"parking_price\"] = df_all.groupby(\"city\")[\"parking_price\"].transform(lambda x: x.fillna(x.mean()))\n",
    "#df_all[\"txn_floor\"] = df_all.groupby(\"city\")[\"txn_floor\"].transform(lambda x: x.fillna(x.mode()))\n",
    "#df_all['txn_floor'] = df_all['txn_floor'].fillna(df_all['txn_floor'].mode()[0])    \n",
    "\n",
    "#df_all[\"LotFrontage\"] = df_all.groupby(\"BldgType\")[\"LotFrontage\"].transform(lambda x: x.fillna(x.median()))\n",
    "#df_all['LotFrontage'] = df_all['LotFrontage'].apply(lambda x: np.exp(4.2) if x <= 0.0 else x)\n",
    "#df_all['MasVnrArea'] = df_all['MasVnrArea'].apply(lambda x: np.exp(4) if x <= 0.0 else x)\n",
    "#df_all['BsmtFinSF1'] = df_all['BsmtFinSF1'].apply(lambda x: np.exp(6.5) if x <= 0.0 else x)"
   ]
  },
  {
   "cell_type": "code",
   "execution_count": 57,
   "metadata": {},
   "outputs": [
    {
     "data": {
      "text/html": [
       "<div>\n",
       "<style scoped>\n",
       "    .dataframe tbody tr th:only-of-type {\n",
       "        vertical-align: middle;\n",
       "    }\n",
       "\n",
       "    .dataframe tbody tr th {\n",
       "        vertical-align: top;\n",
       "    }\n",
       "\n",
       "    .dataframe thead th {\n",
       "        text-align: right;\n",
       "    }\n",
       "</style>\n",
       "<table border=\"1\" class=\"dataframe\">\n",
       "  <thead>\n",
       "    <tr style=\"text-align: right;\">\n",
       "      <th></th>\n",
       "      <th>city</th>\n",
       "      <th>town</th>\n",
       "      <th>building_material</th>\n",
       "      <th>building_type</th>\n",
       "      <th>building_use</th>\n",
       "      <th>index</th>\n",
       "      <th>parking_way</th>\n",
       "      <th>total_floor</th>\n",
       "      <th>level_0</th>\n",
       "      <th>level_1</th>\n",
       "      <th>...</th>\n",
       "      <th>XIV_250</th>\n",
       "      <th>XIV_500</th>\n",
       "      <th>XIV_index_500</th>\n",
       "      <th>XIV_1000</th>\n",
       "      <th>XIV_index_1000</th>\n",
       "      <th>XIV_5000</th>\n",
       "      <th>XIV_index_5000</th>\n",
       "      <th>XIV_10000</th>\n",
       "      <th>XIV_index_10000</th>\n",
       "      <th>XIV_MIN</th>\n",
       "    </tr>\n",
       "  </thead>\n",
       "  <tbody>\n",
       "    <tr>\n",
       "      <th>0</th>\n",
       "      <td>21</td>\n",
       "      <td>334</td>\n",
       "      <td>8</td>\n",
       "      <td>3</td>\n",
       "      <td>2</td>\n",
       "      <td>0</td>\n",
       "      <td>0</td>\n",
       "      <td>4</td>\n",
       "      <td>train</td>\n",
       "      <td>0</td>\n",
       "      <td>...</td>\n",
       "      <td>21</td>\n",
       "      <td>58</td>\n",
       "      <td>1</td>\n",
       "      <td>157</td>\n",
       "      <td>1</td>\n",
       "      <td>2483</td>\n",
       "      <td>1</td>\n",
       "      <td>6011</td>\n",
       "      <td>1</td>\n",
       "      <td>34.469803</td>\n",
       "    </tr>\n",
       "    <tr>\n",
       "      <th>1</th>\n",
       "      <td>7</td>\n",
       "      <td>180</td>\n",
       "      <td>8</td>\n",
       "      <td>1</td>\n",
       "      <td>2</td>\n",
       "      <td>1</td>\n",
       "      <td>0</td>\n",
       "      <td>5</td>\n",
       "      <td>train</td>\n",
       "      <td>1</td>\n",
       "      <td>...</td>\n",
       "      <td>7</td>\n",
       "      <td>28</td>\n",
       "      <td>1</td>\n",
       "      <td>115</td>\n",
       "      <td>1</td>\n",
       "      <td>15872</td>\n",
       "      <td>1</td>\n",
       "      <td>32221</td>\n",
       "      <td>1</td>\n",
       "      <td>40.073573</td>\n",
       "    </tr>\n",
       "    <tr>\n",
       "      <th>2</th>\n",
       "      <td>7</td>\n",
       "      <td>180</td>\n",
       "      <td>8</td>\n",
       "      <td>1</td>\n",
       "      <td>2</td>\n",
       "      <td>2</td>\n",
       "      <td>0</td>\n",
       "      <td>4</td>\n",
       "      <td>train</td>\n",
       "      <td>2</td>\n",
       "      <td>...</td>\n",
       "      <td>27</td>\n",
       "      <td>78</td>\n",
       "      <td>1</td>\n",
       "      <td>212</td>\n",
       "      <td>1</td>\n",
       "      <td>15760</td>\n",
       "      <td>1</td>\n",
       "      <td>32228</td>\n",
       "      <td>1</td>\n",
       "      <td>54.462081</td>\n",
       "    </tr>\n",
       "    <tr>\n",
       "      <th>3</th>\n",
       "      <td>21</td>\n",
       "      <td>343</td>\n",
       "      <td>8</td>\n",
       "      <td>0</td>\n",
       "      <td>2</td>\n",
       "      <td>3</td>\n",
       "      <td>1</td>\n",
       "      <td>24</td>\n",
       "      <td>train</td>\n",
       "      <td>3</td>\n",
       "      <td>...</td>\n",
       "      <td>2</td>\n",
       "      <td>20</td>\n",
       "      <td>1</td>\n",
       "      <td>125</td>\n",
       "      <td>1</td>\n",
       "      <td>2568</td>\n",
       "      <td>1</td>\n",
       "      <td>7271</td>\n",
       "      <td>1</td>\n",
       "      <td>99.628966</td>\n",
       "    </tr>\n",
       "    <tr>\n",
       "      <th>4</th>\n",
       "      <td>21</td>\n",
       "      <td>102</td>\n",
       "      <td>1</td>\n",
       "      <td>4</td>\n",
       "      <td>2</td>\n",
       "      <td>4</td>\n",
       "      <td>0</td>\n",
       "      <td>2</td>\n",
       "      <td>train</td>\n",
       "      <td>4</td>\n",
       "      <td>...</td>\n",
       "      <td>2</td>\n",
       "      <td>18</td>\n",
       "      <td>1</td>\n",
       "      <td>47</td>\n",
       "      <td>1</td>\n",
       "      <td>2587</td>\n",
       "      <td>1</td>\n",
       "      <td>7442</td>\n",
       "      <td>1</td>\n",
       "      <td>124.131236</td>\n",
       "    </tr>\n",
       "  </tbody>\n",
       "</table>\n",
       "<p>5 rows × 236 columns</p>\n",
       "</div>"
      ],
      "text/plain": [
       "   city  town  building_material  building_type  building_use  index  \\\n",
       "0    21   334                  8              3             2      0   \n",
       "1     7   180                  8              1             2      1   \n",
       "2     7   180                  8              1             2      2   \n",
       "3    21   343                  8              0             2      3   \n",
       "4    21   102                  1              4             2      4   \n",
       "\n",
       "   parking_way  total_floor level_0  level_1     ...      XIV_250  XIV_500  \\\n",
       "0            0            4   train        0     ...           21       58   \n",
       "1            0            5   train        1     ...            7       28   \n",
       "2            0            4   train        2     ...           27       78   \n",
       "3            1           24   train        3     ...            2       20   \n",
       "4            0            2   train        4     ...            2       18   \n",
       "\n",
       "   XIV_index_500  XIV_1000  XIV_index_1000  XIV_5000  XIV_index_5000  \\\n",
       "0              1       157               1      2483               1   \n",
       "1              1       115               1     15872               1   \n",
       "2              1       212               1     15760               1   \n",
       "3              1       125               1      2568               1   \n",
       "4              1        47               1      2587               1   \n",
       "\n",
       "   XIV_10000  XIV_index_10000     XIV_MIN  \n",
       "0       6011                1   34.469803  \n",
       "1      32221                1   40.073573  \n",
       "2      32228                1   54.462081  \n",
       "3       7271                1   99.628966  \n",
       "4       7442                1  124.131236  \n",
       "\n",
       "[5 rows x 236 columns]"
      ]
     },
     "execution_count": 57,
     "metadata": {},
     "output_type": "execute_result"
    }
   ],
   "source": [
    "df_all.head()"
   ]
  },
  {
   "cell_type": "code",
   "execution_count": 58,
   "metadata": {},
   "outputs": [
    {
     "data": {
      "text/plain": [
       "Text(0,0.5,'total_price')"
      ]
     },
     "execution_count": 58,
     "metadata": {},
     "output_type": "execute_result"
    },
    {
     "data": {
      "image/png": "[encoded data removed]",
      "text/plain": [
       "<Figure size 432x288 with 1 Axes>"
      ]
     },
     "metadata": {
      "needs_background": "light"
     },
     "output_type": "display_data"
    }
   ],
   "source": [
    "plt.plot(train.parking_area, train.total_price, '.' )\n",
    "plt.xlabel('parking_area')\n",
    "plt.ylabel('total_price')"
   ]
  },
  {
   "cell_type": "code",
   "execution_count": 59,
   "metadata": {},
   "outputs": [
    {
     "data": {
      "text/plain": [
       "Text(0,0.5,'building_type')"
      ]
     },
     "execution_count": 59,
     "metadata": {},
     "output_type": "execute_result"
    },
    {
     "data": {
      "image/png": "[encoded data removed]",
      "text/plain": [
       "<Figure size 432x288 with 1 Axes>"
      ]
     },
     "metadata": {
      "needs_background": "light"
     },
     "output_type": "display_data"
    }
   ],
   "source": [
    "plt.plot(train.parking_price, train.total_price, '.' )\n",
    "plt.xlabel('parking_price')\n",
    "plt.ylabel('building_type')\n",
    "#'parking_way','building_material','building_type','total_floor'"
   ]
  },
  {
   "cell_type": "code",
   "execution_count": 60,
   "metadata": {},
   "outputs": [
    {
     "data": {
      "text/plain": [
       "Text(0,0.5,'total_price')"
      ]
     },
     "execution_count": 60,
     "metadata": {},
     "output_type": "execute_result"
    },
    {
     "data": {
      "image/png": "[encoded data removed]",
      "text/plain": [
       "<Figure size 432x288 with 1 Axes>"
      ]
     },
     "metadata": {
      "needs_background": "light"
     },
     "output_type": "display_data"
    }
   ],
   "source": [
    "plt.plot(train.village_income_median, train.total_price, '.' )\n",
    "plt.xlabel('village_income_median')\n",
    "plt.ylabel('total_price')"
   ]
  },
  {
   "cell_type": "code",
   "execution_count": 61,
   "metadata": {},
   "outputs": [
    {
     "data": {
      "text/plain": [
       "Text(0,0.5,'total_price')"
      ]
     },
     "execution_count": 61,
     "metadata": {},
     "output_type": "execute_result"
    },
    {
     "data": {
      "image/png": "[encoded data removed]",
      "text/plain": [
       "<Figure size 432x288 with 1 Axes>"
      ]
     },
     "metadata": {
      "needs_background": "light"
     },
     "output_type": "display_data"
    }
   ],
   "source": [
    "plt.plot(train.txn_floor, train.total_price, '.' )\n",
    "plt.xlabel('txn_floor')\n",
    "plt.ylabel('total_price')"
   ]
  },
  {
   "cell_type": "code",
   "execution_count": 62,
   "metadata": {},
   "outputs": [],
   "source": [
    "# Working with ordinal predictors\n",
    "def QualToInt(x):\n",
    "    if(x=='Ex'):\n",
    "        r = 0\n",
    "    elif(x=='Gd'):\n",
    "        r = 1\n",
    "    elif(x=='TA'):\n",
    "        r = 2\n",
    "    elif(x=='Fa'):\n",
    "        r = 3\n",
    "    elif(x=='missing'):\n",
    "        r = 4\n",
    "    else:\n",
    "        r = 5\n",
    "    return r\n",
    "\n",
    "\n",
    "\n",
    "#df_all['userfloor'] = (df_all['total_floor']-df_all['txn_floor'])#/df_all['total_floor']*100\n",
    "#df_all['userfloor'] = (1-(df_all['total_floor']-df_all['txn_floor'])/df_all['total_floor'])*100\n",
    "#df_all['userfloor3'] = (df_all['txn_floor'])/df_all['total_floor']*100\n",
    "#df_all['userarea'] = (df_all['land_area']-df_all['building_area'])*100#/df_all['land_area']*100\n",
    "#df_all['userarea'] = df_all['userarea'].fillna(0)\n",
    "df_all['useyear'] = (df_all['txn_dt']-df_all['building_complete_dt'])/365\n",
    "df_all['degree']=(df_all['doc_rate']+df_all['master_rate'])*100\n",
    "#df_all['buildprice']=(df_all['parking_price']/df_all['parking_area'])\n",
    "#df_all[df_all['userarea'].isnull()]\n",
    "#df_all['building_area']"
   ]
  },
  {
   "cell_type": "code",
   "execution_count": null,
   "metadata": {},
   "outputs": [],
   "source": []
  },
  {
   "cell_type": "code",
   "execution_count": 63,
   "metadata": {},
   "outputs": [
    {
     "data": {
      "text/plain": [
       "<matplotlib.axes._subplots.AxesSubplot at 0x7f03ae244eb8>"
      ]
     },
     "execution_count": 63,
     "metadata": {},
     "output_type": "execute_result"
    },
    {
     "data": {
      "image/png": "[encoded data removed]",
      "text/plain": [
       "<Figure size 1080x720 with 2 Axes>"
      ]
     },
     "metadata": {
      "needs_background": "light"
     },
     "output_type": "display_data"
    }
   ],
   "source": [
    "## Numerical to Categorical\n",
    "# 嘗試不同的顏色\"Spectral\"：\n",
    "corr_matrix=df_all.corr().abs()\n",
    "plt.subplots(figsize=(15,10))\n",
    "sns.heatmap(corr_matrix,cmap='Spectral')"
   ]
  },
  {
   "cell_type": "markdown",
   "metadata": {},
   "source": [
    "## Numerical to Categorical"
   ]
  },
  {
   "cell_type": "code",
   "execution_count": 64,
   "metadata": {},
   "outputs": [],
   "source": [
    "# df_train[['OverallCond', 'SalePrice']].groupby(['OverallCond']).agg({'SalePrice':'median', 'OverallCond':'count'}).sort_values(by='SalePrice', ascending=False)\n",
    "#train[['MSSubClass', 'SalePrice']].groupby(['MSSubClass']).agg({'SalePrice':'median', 'MSSubClass':'count'}).sort_values(by='SalePrice', ascending=False)"
   ]
  },
  {
   "cell_type": "code",
   "execution_count": 65,
   "metadata": {},
   "outputs": [],
   "source": [
    "# It helps to transform some numerical features to categorical\n",
    "#df_all.YearBuilt = df_all.YearBuilt.astype ( str )"
   ]
  },
  {
   "cell_type": "code",
   "execution_count": 66,
   "metadata": {},
   "outputs": [
    {
     "name": "stdout",
     "output_type": "stream",
     "text": [
      "city                         0.722985\n",
      "town                         0.296283\n",
      "building_material           -2.506124\n",
      "building_type                0.116337\n",
      "building_use                 3.594980\n",
      "index                        0.000000\n",
      "parking_way                  1.833060\n",
      "total_floor                  1.104158\n",
      "level_1                      0.214938\n",
      "txn_dt                      -0.158829\n",
      "building_complete_dt        -0.029036\n",
      "parking_area                 3.620356\n",
      "parking_price                3.513379\n",
      "txn_floor                    1.573786\n",
      "land_area                    9.353472\n",
      "building_area              120.268834\n",
      "lat                         -1.215566\n",
      "lon                         -0.760107\n",
      "village_income_median        2.704309\n",
      "town_population              0.644876\n",
      "town_area                    1.987735\n",
      "town_population_density      0.769879\n",
      "doc_rate                     1.502881\n",
      "master_rate                  1.442493\n",
      "bachelor_rate                1.227539\n",
      "jobschool_rate              -0.015703\n",
      "highschool_rate             -1.105385\n",
      "junior_rate                 -1.145378\n",
      "elementary_rate              0.850523\n",
      "born_rate                    0.474246\n",
      "                              ...    \n",
      "XIII_50                     18.469933\n",
      "XIII_index_50                3.673795\n",
      "XIII_100                    16.417961\n",
      "XIII_250                    12.108243\n",
      "XIII_500                     6.457889\n",
      "XIII_index_500              -0.905082\n",
      "XIII_1000                    2.454618\n",
      "XIII_index_1000             -2.025100\n",
      "XIII_5000                    1.091098\n",
      "XIII_index_5000             -7.419006\n",
      "XIII_10000                   0.496670\n",
      "XIII_index_10000           -13.496639\n",
      "XIII_MIN                     7.574350\n",
      "XIV_10                       8.707998\n",
      "XIV_50                       9.760559\n",
      "XIV_index_50                 1.120475\n",
      "XIV_100                      9.848397\n",
      "XIV_250                      7.422089\n",
      "XIV_500                      5.110381\n",
      "XIV_index_500              -15.180881\n",
      "XIV_1000                     3.653266\n",
      "XIV_index_1000             -83.530235\n",
      "XIV_5000                     1.188039\n",
      "XIV_index_5000               0.000000\n",
      "XIV_10000                    0.292719\n",
      "XIV_index_10000              0.000000\n",
      "XIV_MIN                      2.705603\n",
      "userfloor                    0.351090\n",
      "useyear                      0.032561\n",
      "degree                       1.457109\n",
      "Length: 238, dtype: float64\n"
     ]
    }
   ],
   "source": [
    "# handle skewness\n",
    "train.total_price = np.log( train.total_price )\n",
    "# exclude object型態的欄位\n",
    "num_feats = df_all.select_dtypes( exclude = [ 'object' ] ).columns\n",
    "# na drop should be done series by series\n",
    "# apply function>>幫助我們算出偏差系數\n",
    "skewed_feats = df_all[ num_feats ].apply( func = lambda s: skew(s.dropna()), axis = 0 )\n",
    "print(skewed_feats)\n",
    "# 選出dataframe大於0.75的人\n",
    "skewed_feats = skewed_feats[ skewed_feats > 0.75 ].index\n",
    "# print(skewed_feats)\n",
    "# 把大於0.75的要作正規化，變成常態分配\n",
    "# np.log1p是log(1+x), 若直接取log會有log0的問題\n",
    "df_all[ skewed_feats ] = np.log1p( df_all[ skewed_feats ] )\n",
    "\n"
   ]
  },
  {
   "cell_type": "code",
   "execution_count": 67,
   "metadata": {},
   "outputs": [],
   "source": [
    "#df_all.describe(include = \"O\")\n",
    "#df_all.corr()\n",
    "#df_all['userarea'].isnull()\n",
    "#df_all[df_all['userarea'].isnull()]\n",
    "#print(skewed_feats)"
   ]
  },
  {
   "cell_type": "markdown",
   "metadata": {},
   "source": [
    "## One-Hot Encoding"
   ]
  },
  {
   "cell_type": "code",
   "execution_count": 68,
   "metadata": {},
   "outputs": [
    {
     "data": {
      "text/html": [
       "<div>\n",
       "<style scoped>\n",
       "    .dataframe tbody tr th:only-of-type {\n",
       "        vertical-align: middle;\n",
       "    }\n",
       "\n",
       "    .dataframe tbody tr th {\n",
       "        vertical-align: top;\n",
       "    }\n",
       "\n",
       "    .dataframe thead th {\n",
       "        text-align: right;\n",
       "    }\n",
       "</style>\n",
       "<table border=\"1\" class=\"dataframe\">\n",
       "  <thead>\n",
       "    <tr style=\"text-align: right;\">\n",
       "      <th></th>\n",
       "      <th>city</th>\n",
       "      <th>town</th>\n",
       "      <th>building_material</th>\n",
       "      <th>building_type</th>\n",
       "      <th>building_use</th>\n",
       "      <th>index</th>\n",
       "      <th>parking_way</th>\n",
       "      <th>total_floor</th>\n",
       "      <th>level_1</th>\n",
       "      <th>txn_dt</th>\n",
       "      <th>...</th>\n",
       "      <th>XIV_5000</th>\n",
       "      <th>XIV_index_5000</th>\n",
       "      <th>XIV_10000</th>\n",
       "      <th>XIV_index_10000</th>\n",
       "      <th>XIV_MIN</th>\n",
       "      <th>userfloor</th>\n",
       "      <th>useyear</th>\n",
       "      <th>degree</th>\n",
       "      <th>level_0_test</th>\n",
       "      <th>level_0_train</th>\n",
       "    </tr>\n",
       "  </thead>\n",
       "  <tbody>\n",
       "    <tr>\n",
       "      <th>0</th>\n",
       "      <td>21</td>\n",
       "      <td>334</td>\n",
       "      <td>8</td>\n",
       "      <td>3</td>\n",
       "      <td>1.098612</td>\n",
       "      <td>0</td>\n",
       "      <td>0.000000</td>\n",
       "      <td>1.609438</td>\n",
       "      <td>0</td>\n",
       "      <td>18674</td>\n",
       "      <td>...</td>\n",
       "      <td>7.817625</td>\n",
       "      <td>1</td>\n",
       "      <td>6011</td>\n",
       "      <td>1</td>\n",
       "      <td>3.568682</td>\n",
       "      <td>75.000000</td>\n",
       "      <td>33.980822</td>\n",
       "      <td>1.822802</td>\n",
       "      <td>0</td>\n",
       "      <td>1</td>\n",
       "    </tr>\n",
       "    <tr>\n",
       "      <th>1</th>\n",
       "      <td>7</td>\n",
       "      <td>180</td>\n",
       "      <td>8</td>\n",
       "      <td>1</td>\n",
       "      <td>1.098612</td>\n",
       "      <td>1</td>\n",
       "      <td>0.000000</td>\n",
       "      <td>1.791759</td>\n",
       "      <td>1</td>\n",
       "      <td>18800</td>\n",
       "      <td>...</td>\n",
       "      <td>9.672375</td>\n",
       "      <td>1</td>\n",
       "      <td>32221</td>\n",
       "      <td>1</td>\n",
       "      <td>3.715365</td>\n",
       "      <td>100.000000</td>\n",
       "      <td>29.904110</td>\n",
       "      <td>1.829329</td>\n",
       "      <td>0</td>\n",
       "      <td>1</td>\n",
       "    </tr>\n",
       "    <tr>\n",
       "      <th>2</th>\n",
       "      <td>7</td>\n",
       "      <td>180</td>\n",
       "      <td>8</td>\n",
       "      <td>1</td>\n",
       "      <td>1.098612</td>\n",
       "      <td>2</td>\n",
       "      <td>0.000000</td>\n",
       "      <td>1.609438</td>\n",
       "      <td>2</td>\n",
       "      <td>19289</td>\n",
       "      <td>...</td>\n",
       "      <td>9.665294</td>\n",
       "      <td>1</td>\n",
       "      <td>32228</td>\n",
       "      <td>1</td>\n",
       "      <td>4.015700</td>\n",
       "      <td>25.000000</td>\n",
       "      <td>36.331507</td>\n",
       "      <td>1.829329</td>\n",
       "      <td>0</td>\n",
       "      <td>1</td>\n",
       "    </tr>\n",
       "    <tr>\n",
       "      <th>3</th>\n",
       "      <td>21</td>\n",
       "      <td>343</td>\n",
       "      <td>8</td>\n",
       "      <td>0</td>\n",
       "      <td>1.098612</td>\n",
       "      <td>3</td>\n",
       "      <td>0.693147</td>\n",
       "      <td>3.218876</td>\n",
       "      <td>3</td>\n",
       "      <td>20385</td>\n",
       "      <td>...</td>\n",
       "      <td>7.851272</td>\n",
       "      <td>1</td>\n",
       "      <td>7271</td>\n",
       "      <td>1</td>\n",
       "      <td>4.611440</td>\n",
       "      <td>54.166667</td>\n",
       "      <td>5.643836</td>\n",
       "      <td>1.822802</td>\n",
       "      <td>0</td>\n",
       "      <td>1</td>\n",
       "    </tr>\n",
       "    <tr>\n",
       "      <th>4</th>\n",
       "      <td>21</td>\n",
       "      <td>102</td>\n",
       "      <td>1</td>\n",
       "      <td>4</td>\n",
       "      <td>1.098612</td>\n",
       "      <td>4</td>\n",
       "      <td>0.000000</td>\n",
       "      <td>1.098612</td>\n",
       "      <td>4</td>\n",
       "      <td>20657</td>\n",
       "      <td>...</td>\n",
       "      <td>7.858641</td>\n",
       "      <td>1</td>\n",
       "      <td>7442</td>\n",
       "      <td>1</td>\n",
       "      <td>4.829363</td>\n",
       "      <td>50.000000</td>\n",
       "      <td>37.745205</td>\n",
       "      <td>1.822802</td>\n",
       "      <td>0</td>\n",
       "      <td>1</td>\n",
       "    </tr>\n",
       "  </tbody>\n",
       "</table>\n",
       "<p>5 rows × 240 columns</p>\n",
       "</div>"
      ],
      "text/plain": [
       "   city  town  building_material  building_type  building_use  index  \\\n",
       "0    21   334                  8              3      1.098612      0   \n",
       "1     7   180                  8              1      1.098612      1   \n",
       "2     7   180                  8              1      1.098612      2   \n",
       "3    21   343                  8              0      1.098612      3   \n",
       "4    21   102                  1              4      1.098612      4   \n",
       "\n",
       "   parking_way  total_floor  level_1  txn_dt      ...        XIV_5000  \\\n",
       "0     0.000000     1.609438        0   18674      ...        7.817625   \n",
       "1     0.000000     1.791759        1   18800      ...        9.672375   \n",
       "2     0.000000     1.609438        2   19289      ...        9.665294   \n",
       "3     0.693147     3.218876        3   20385      ...        7.851272   \n",
       "4     0.000000     1.098612        4   20657      ...        7.858641   \n",
       "\n",
       "   XIV_index_5000  XIV_10000  XIV_index_10000   XIV_MIN   userfloor  \\\n",
       "0               1       6011                1  3.568682   75.000000   \n",
       "1               1      32221                1  3.715365  100.000000   \n",
       "2               1      32228                1  4.015700   25.000000   \n",
       "3               1       7271                1  4.611440   54.166667   \n",
       "4               1       7442                1  4.829363   50.000000   \n",
       "\n",
       "     useyear    degree  level_0_test  level_0_train  \n",
       "0  33.980822  1.822802             0              1  \n",
       "1  29.904110  1.829329             0              1  \n",
       "2  36.331507  1.829329             0              1  \n",
       "3   5.643836  1.822802             0              1  \n",
       "4  37.745205  1.822802             0              1  \n",
       "\n",
       "[5 rows x 240 columns]"
      ]
     },
     "execution_count": 68,
     "metadata": {},
     "output_type": "execute_result"
    }
   ],
   "source": [
    "df_all_dum = pd.get_dummies(df_all); \n",
    "df_all_dum.head()"
   ]
  },
  {
   "cell_type": "code",
   "execution_count": 69,
   "metadata": {},
   "outputs": [],
   "source": [
    "# 將NA的值填平均值\n",
    "#df_all_dum = df_all_dum.fillna( df_all_dum.mean() ); df_all_dum.head()"
   ]
  },
  {
   "cell_type": "code",
   "execution_count": 70,
   "metadata": {},
   "outputs": [
    {
     "data": {
      "text/plain": [
       "(69803, 239)"
      ]
     },
     "execution_count": 70,
     "metadata": {},
     "output_type": "execute_result"
    }
   ],
   "source": [
    "df_all.shape"
   ]
  },
  {
   "cell_type": "code",
   "execution_count": 71,
   "metadata": {},
   "outputs": [
    {
     "name": "stdout",
     "output_type": "stream",
     "text": [
      "Shape all_data: (69803, 239)\n"
     ]
    }
   ],
   "source": [
    "#from sklearn.preprocessing import LabelEncoder\n",
    "#cols = ('FireplaceQu', 'BsmtQual', 'BsmtCond', 'GarageQual', 'GarageCond', \n",
    "#        'ExterQual', 'ExterCond','HeatingQC', 'PoolQC', 'KitchenQual', 'BsmtFinType1', \n",
    "#        'BsmtFinType2', 'Functional', 'Fence', 'BsmtExposure', 'GarageFinish', 'LandSlope',\n",
    "#        'LotShape', 'PavedDrive', 'Street', 'Alley', 'CentralAir', 'MSSubClass', 'OverallCond', \n",
    "#        'YrSold', 'MoSold')\n",
    "# process columns, apply LabelEncoder to categorical features\n",
    "#for c in cols:\n",
    "#    lbl = LabelEncoder() \n",
    "#    lbl.fit(list(df_all[c].values)) \n",
    "#    df_all[c] = lbl.transform(list(df_all[c].values))\n",
    "\n",
    "# shape        \n",
    "print('Shape all_data: {}'.format(df_all.shape))"
   ]
  },
  {
   "cell_type": "code",
   "execution_count": 72,
   "metadata": {},
   "outputs": [
    {
     "data": {
      "text/plain": [
       "[]"
      ]
     },
     "execution_count": 72,
     "metadata": {},
     "output_type": "execute_result"
    }
   ],
   "source": [
    "np.any(np.isnan(df_all_dum))\n",
    "df_all_dum.columns[df_all_dum.isna().any()].tolist()"
   ]
  },
  {
   "cell_type": "code",
   "execution_count": null,
   "metadata": {},
   "outputs": [],
   "source": []
  },
  {
   "cell_type": "code",
   "execution_count": null,
   "metadata": {},
   "outputs": [],
   "source": []
  },
  {
   "cell_type": "code",
   "execution_count": 73,
   "metadata": {},
   "outputs": [],
   "source": [
    "## Standardization"
   ]
  },
  {
   "cell_type": "markdown",
   "metadata": {},
   "source": [
    "## Standardization"
   ]
  },
  {
   "cell_type": "code",
   "execution_count": 74,
   "metadata": {},
   "outputs": [
    {
     "data": {
      "text/html": [
       "<div>\n",
       "<style scoped>\n",
       "    .dataframe tbody tr th:only-of-type {\n",
       "        vertical-align: middle;\n",
       "    }\n",
       "\n",
       "    .dataframe tbody tr th {\n",
       "        vertical-align: top;\n",
       "    }\n",
       "\n",
       "    .dataframe thead th {\n",
       "        text-align: right;\n",
       "    }\n",
       "</style>\n",
       "<table border=\"1\" class=\"dataframe\">\n",
       "  <thead>\n",
       "    <tr style=\"text-align: right;\">\n",
       "      <th></th>\n",
       "      <th>city</th>\n",
       "      <th>town</th>\n",
       "      <th>building_material</th>\n",
       "      <th>building_type</th>\n",
       "      <th>building_use</th>\n",
       "      <th>index</th>\n",
       "      <th>parking_way</th>\n",
       "      <th>total_floor</th>\n",
       "      <th>level_1</th>\n",
       "      <th>txn_dt</th>\n",
       "      <th>...</th>\n",
       "      <th>XIV_1000</th>\n",
       "      <th>XIV_index_1000</th>\n",
       "      <th>XIV_5000</th>\n",
       "      <th>XIV_index_5000</th>\n",
       "      <th>XIV_10000</th>\n",
       "      <th>XIV_index_10000</th>\n",
       "      <th>XIV_MIN</th>\n",
       "      <th>userfloor</th>\n",
       "      <th>useyear</th>\n",
       "      <th>degree</th>\n",
       "    </tr>\n",
       "  </thead>\n",
       "  <tbody>\n",
       "    <tr>\n",
       "      <th>0</th>\n",
       "      <td>2.015204</td>\n",
       "      <td>1.976945</td>\n",
       "      <td>0.338170</td>\n",
       "      <td>0.671797</td>\n",
       "      <td>-0.167508</td>\n",
       "      <td>-1.732026</td>\n",
       "      <td>-0.532367</td>\n",
       "      <td>-0.690519</td>\n",
       "      <td>-1.443577</td>\n",
       "      <td>-1.120926</td>\n",
       "      <td>...</td>\n",
       "      <td>-0.009957</td>\n",
       "      <td>0.01197</td>\n",
       "      <td>-0.622651</td>\n",
       "      <td>0.0</td>\n",
       "      <td>-1.160651</td>\n",
       "      <td>0.0</td>\n",
       "      <td>-0.868501</td>\n",
       "      <td>0.784283</td>\n",
       "      <td>0.898025</td>\n",
       "      <td>-0.405079</td>\n",
       "    </tr>\n",
       "    <tr>\n",
       "      <th>1</th>\n",
       "      <td>-0.927499</td>\n",
       "      <td>0.400016</td>\n",
       "      <td>0.338170</td>\n",
       "      <td>-0.587155</td>\n",
       "      <td>-0.167508</td>\n",
       "      <td>-1.731976</td>\n",
       "      <td>-0.532367</td>\n",
       "      <td>-0.365128</td>\n",
       "      <td>-1.443523</td>\n",
       "      <td>-0.947757</td>\n",
       "      <td>...</td>\n",
       "      <td>-0.338507</td>\n",
       "      <td>0.01197</td>\n",
       "      <td>1.773480</td>\n",
       "      <td>0.0</td>\n",
       "      <td>1.753053</td>\n",
       "      <td>0.0</td>\n",
       "      <td>-0.700229</td>\n",
       "      <td>1.695658</td>\n",
       "      <td>0.560095</td>\n",
       "      <td>-0.381053</td>\n",
       "    </tr>\n",
       "    <tr>\n",
       "      <th>2</th>\n",
       "      <td>-0.927499</td>\n",
       "      <td>0.400016</td>\n",
       "      <td>0.338170</td>\n",
       "      <td>-0.587155</td>\n",
       "      <td>-0.167508</td>\n",
       "      <td>-1.731927</td>\n",
       "      <td>-0.532367</td>\n",
       "      <td>-0.690519</td>\n",
       "      <td>-1.443468</td>\n",
       "      <td>-0.275695</td>\n",
       "      <td>...</td>\n",
       "      <td>0.307634</td>\n",
       "      <td>0.01197</td>\n",
       "      <td>1.764332</td>\n",
       "      <td>0.0</td>\n",
       "      <td>1.753832</td>\n",
       "      <td>0.0</td>\n",
       "      <td>-0.355692</td>\n",
       "      <td>-1.038467</td>\n",
       "      <td>1.092880</td>\n",
       "      <td>-0.381053</td>\n",
       "    </tr>\n",
       "    <tr>\n",
       "      <th>3</th>\n",
       "      <td>2.015204</td>\n",
       "      <td>2.069103</td>\n",
       "      <td>0.338170</td>\n",
       "      <td>-1.216631</td>\n",
       "      <td>-0.167508</td>\n",
       "      <td>-1.731877</td>\n",
       "      <td>1.514139</td>\n",
       "      <td>2.181857</td>\n",
       "      <td>-1.443413</td>\n",
       "      <td>1.230605</td>\n",
       "      <td>...</td>\n",
       "      <td>-0.250585</td>\n",
       "      <td>0.01197</td>\n",
       "      <td>-0.579183</td>\n",
       "      <td>0.0</td>\n",
       "      <td>-1.020580</td>\n",
       "      <td>0.0</td>\n",
       "      <td>0.327728</td>\n",
       "      <td>0.024804</td>\n",
       "      <td>-1.450907</td>\n",
       "      <td>-0.405079</td>\n",
       "    </tr>\n",
       "    <tr>\n",
       "      <th>4</th>\n",
       "      <td>2.015204</td>\n",
       "      <td>-0.398689</td>\n",
       "      <td>-2.885022</td>\n",
       "      <td>1.301273</td>\n",
       "      <td>-0.167508</td>\n",
       "      <td>-1.731827</td>\n",
       "      <td>-0.532367</td>\n",
       "      <td>-1.602193</td>\n",
       "      <td>-1.443359</td>\n",
       "      <td>1.604431</td>\n",
       "      <td>...</td>\n",
       "      <td>-1.276708</td>\n",
       "      <td>0.01197</td>\n",
       "      <td>-0.569664</td>\n",
       "      <td>0.0</td>\n",
       "      <td>-1.001570</td>\n",
       "      <td>0.0</td>\n",
       "      <td>0.577724</td>\n",
       "      <td>-0.127092</td>\n",
       "      <td>1.210065</td>\n",
       "      <td>-0.405079</td>\n",
       "    </tr>\n",
       "  </tbody>\n",
       "</table>\n",
       "<p>5 rows × 238 columns</p>\n",
       "</div>"
      ],
      "text/plain": [
       "       city      town  building_material  building_type  building_use  \\\n",
       "0  2.015204  1.976945           0.338170       0.671797     -0.167508   \n",
       "1 -0.927499  0.400016           0.338170      -0.587155     -0.167508   \n",
       "2 -0.927499  0.400016           0.338170      -0.587155     -0.167508   \n",
       "3  2.015204  2.069103           0.338170      -1.216631     -0.167508   \n",
       "4  2.015204 -0.398689          -2.885022       1.301273     -0.167508   \n",
       "\n",
       "      index  parking_way  total_floor   level_1    txn_dt    ...     XIV_1000  \\\n",
       "0 -1.732026    -0.532367    -0.690519 -1.443577 -1.120926    ...    -0.009957   \n",
       "1 -1.731976    -0.532367    -0.365128 -1.443523 -0.947757    ...    -0.338507   \n",
       "2 -1.731927    -0.532367    -0.690519 -1.443468 -0.275695    ...     0.307634   \n",
       "3 -1.731877     1.514139     2.181857 -1.443413  1.230605    ...    -0.250585   \n",
       "4 -1.731827    -0.532367    -1.602193 -1.443359  1.604431    ...    -1.276708   \n",
       "\n",
       "   XIV_index_1000  XIV_5000  XIV_index_5000  XIV_10000  XIV_index_10000  \\\n",
       "0         0.01197 -0.622651             0.0  -1.160651              0.0   \n",
       "1         0.01197  1.773480             0.0   1.753053              0.0   \n",
       "2         0.01197  1.764332             0.0   1.753832              0.0   \n",
       "3         0.01197 -0.579183             0.0  -1.020580              0.0   \n",
       "4         0.01197 -0.569664             0.0  -1.001570              0.0   \n",
       "\n",
       "    XIV_MIN  userfloor   useyear    degree  \n",
       "0 -0.868501   0.784283  0.898025 -0.405079  \n",
       "1 -0.700229   1.695658  0.560095 -0.381053  \n",
       "2 -0.355692  -1.038467  1.092880 -0.381053  \n",
       "3  0.327728   0.024804 -1.450907 -0.405079  \n",
       "4  0.577724  -0.127092  1.210065 -0.405079  \n",
       "\n",
       "[5 rows x 238 columns]"
      ]
     },
     "execution_count": 74,
     "metadata": {},
     "output_type": "execute_result"
    }
   ],
   "source": [
    "# normalization helps a bit\n",
    "from sklearn import preprocessing\n",
    "\n",
    "#num_feats = df_all_dum.select_dtypes( exclude = [ 'object' ] ).columns\n",
    "df_all_dum[ num_feats ] = preprocessing.scale( df_all_dum[ num_feats ] )\n",
    "df_all_dum[ num_feats ].head()"
   ]
  },
  {
   "cell_type": "code",
   "execution_count": null,
   "metadata": {},
   "outputs": [],
   "source": []
  },
  {
   "cell_type": "code",
   "execution_count": null,
   "metadata": {},
   "outputs": [],
   "source": []
  },
  {
   "cell_type": "code",
   "execution_count": 75,
   "metadata": {},
   "outputs": [
    {
     "data": {
      "text/plain": [
       "[]"
      ]
     },
     "execution_count": 75,
     "metadata": {},
     "output_type": "execute_result"
    }
   ],
   "source": [
    "np.any(np.isnan(df_all_dum))\n",
    "df_all_dum.columns[df_all_dum.isna().any()].tolist()"
   ]
  },
  {
   "cell_type": "code",
   "execution_count": null,
   "metadata": {},
   "outputs": [],
   "source": [
    "\n"
   ]
  },
  {
   "cell_type": "code",
   "execution_count": 76,
   "metadata": {},
   "outputs": [
    {
     "data": {
      "text/plain": [
       "Index([], dtype='object')"
      ]
     },
     "execution_count": 76,
     "metadata": {},
     "output_type": "execute_result"
    }
   ],
   "source": [
    "# 查詢是否有重複的欄位\n",
    "df_all_dum.columns[df_all_dum.columns.duplicated()]"
   ]
  },
  {
   "cell_type": "markdown",
   "metadata": {},
   "source": [
    "## Training Start"
   ]
  },
  {
   "cell_type": "code",
   "execution_count": 77,
   "metadata": {},
   "outputs": [],
   "source": [
    "# inputs\n",
    "from sklearn.model_selection import train_test_split\n",
    "from matplotlib import rcParams\n",
    "X = df_all_dum[:train.shape[0]]\n",
    "y = train.total_price\n",
    "#把train data與test分開\n",
    "X, X_val, y, y_val = train_test_split(X, y, test_size = 0.1, random_state = 40)\n",
    "\n",
    "X_test = df_all_dum[ train.shape[0]: ]"
   ]
  },
  {
   "cell_type": "code",
   "execution_count": 78,
   "metadata": {},
   "outputs": [],
   "source": [
    "from sklearn.linear_model import LassoCV\n",
    "from sklearn.model_selection import cross_val_score\n",
    "\n",
    "def rmse_cv(model):\n",
    "    rmse= np.sqrt(-cross_val_score(model, X, y, scoring = \"neg_mean_squared_error\", cv = 5))\n",
    "    return(rmse)"
   ]
  },
  {
   "cell_type": "code",
   "execution_count": null,
   "metadata": {},
   "outputs": [],
   "source": []
  },
  {
   "cell_type": "code",
   "execution_count": null,
   "metadata": {},
   "outputs": [],
   "source": []
  },
  {
   "cell_type": "code",
   "execution_count": 79,
   "metadata": {},
   "outputs": [],
   "source": [
    "def error(yhat,y_pred):\n",
    "    error_sum = ((yhat - y_pred)/y_pred*100)\n",
    "    mask = (error_sum>10).sum()+(error_sum<-10).sum()\n",
    "    print(mask)\n",
    "    return error_sum"
   ]
  },
  {
   "cell_type": "code",
   "execution_count": 80,
   "metadata": {},
   "outputs": [],
   "source": [
    "#y_answer_pred = y_pred_rf# * 0.5 + y_pred * 0.5\n",
    "#print(error(np.array(np.exp(y)),np.exp(y_answer_pred)))"
   ]
  },
  {
   "cell_type": "markdown",
   "metadata": {},
   "source": [
    "## XGBoost"
   ]
  },
  {
   "cell_type": "code",
   "execution_count": 81,
   "metadata": {},
   "outputs": [],
   "source": [
    "import xgboost as xgb\n",
    "from sklearn import metrics\n",
    "from xgboost import XGBRegressor\n",
    "from sklearn.model_selection import KFold"
   ]
  },
  {
   "cell_type": "code",
   "execution_count": null,
   "metadata": {},
   "outputs": [],
   "source": [
    "\n"
   ]
  },
  {
   "cell_type": "code",
   "execution_count": 82,
   "metadata": {},
   "outputs": [
    {
     "name": "stdout",
     "output_type": "stream",
     "text": [
      "RMSE: 0.06174650244275557\n",
      "  R2: 0.9970623950659947\n",
      "RMSE: 0.2056110877372389\n",
      "  R2: 0.9674026359521137\n"
     ]
    }
   ],
   "source": [
    "#https://www.kaggle.com/pablocastilla/predict-house-prices-with-xgboost-regression\n",
    "#model_XGB = XGBRegressor(colsample_bytree=0.4,\n",
    "#                 gamma=0,                 \n",
    "#                 learning_rate=0.07,\n",
    "#                 max_depth=3,\n",
    "#                 min_child_weight=1.5,\n",
    "#                 n_estimators=10000,                                                                    \n",
    "#                 reg_alpha=0.75,\n",
    "#                 reg_lambda=0.45,\n",
    "#                 subsample=0.6,\n",
    "#                 seed=42) \n",
    "\n",
    "#model_XGB = xgb.XGBRegressor(colsample_bytree=0.4603, gamma=0.0468, \n",
    "#                             learning_rate=0.05, max_depth=3, \n",
    "#                             min_child_weight=1.7817, n_estimators=2200,\n",
    "#                             reg_alpha=0.4640, reg_lambda=0.8571,\n",
    "#                             subsample=0.5213, silent=1)\n",
    "\n",
    "#model_XGB = XGBRegressor(base_score=0.5,colsample_bytree=0.7, gamma=0.0468, \n",
    "#                             learning_rate=0.01, max_depth=5, \n",
    "#                             min_child_weight=1.7817, n_estimators=4000,objective='reg:linear',\n",
    "#                             reg_alpha=0.4640, reg_lambda=0.8571,\n",
    "#                             subsample=0.5213, silent=1,\n",
    "#                             random_state =7, nthread = -1)\n",
    "\n",
    "model_XGB = XGBRegressor(base_score=0.5,colsample_bytree=0.7, gamma=0.0468, \n",
    "                             learning_rate=0.05, max_depth=9, \n",
    "                             min_child_weight=1.7817, n_estimators=8000,objective='reg:linear',\n",
    "                             reg_alpha=0.4640, reg_lambda=0.8571,\n",
    "                             subsample=0.5213, silent=1,\n",
    "                             random_state =7, nthread = -1)\n",
    "\n",
    "model_XGB.fit(X, y)\n",
    "y_pred = model_XGB.predict( X )\n",
    "print('RMSE:', np.sqrt(metrics.mean_squared_error(y, y_pred)))\n",
    "print('  R2:', metrics.r2_score(y, y_pred))\n",
    "\n",
    "val_preds = model_XGB.predict(X_val)\n",
    "print('RMSE:', np.sqrt(metrics.mean_squared_error( y_val, val_preds ) ) )\n",
    "print('  R2:', metrics.r2_score( y_val, val_preds ) )"
   ]
  },
  {
   "cell_type": "code",
   "execution_count": null,
   "metadata": {},
   "outputs": [],
   "source": []
  },
  {
   "cell_type": "code",
   "execution_count": 83,
   "metadata": {},
   "outputs": [],
   "source": [
    "import pickle\n",
    "#save model\n",
    "pickle.dump(model_XGB, open(\"./savemodel/xgb_0527_median.dat\", \"wb\"))"
   ]
  },
  {
   "cell_type": "code",
   "execution_count": 84,
   "metadata": {},
   "outputs": [
    {
     "data": {
      "text/plain": [
       "array([ 5838896.5, 73774080. ,  4809055. , ...,  2623592.2,  6391690.5,\n",
       "        6754950.5], dtype=float32)"
      ]
     },
     "execution_count": 84,
     "metadata": {},
     "output_type": "execute_result"
    }
   ],
   "source": [
    "np.exp(y_pred)"
   ]
  },
  {
   "cell_type": "code",
   "execution_count": 85,
   "metadata": {},
   "outputs": [
    {
     "data": {
      "text/plain": [
       "array([ 5328714.65890591, 76276179.91749465,  4553334.27287215, ...,\n",
       "        2636755.25984292,  7001229.73332825,  6730861.37805399])"
      ]
     },
     "execution_count": 85,
     "metadata": {},
     "output_type": "execute_result"
    }
   ],
   "source": [
    "np.array(np.exp(y))"
   ]
  },
  {
   "cell_type": "code",
   "execution_count": 86,
   "metadata": {},
   "outputs": [],
   "source": [
    "pd.DataFrame({'total_price': np.exp(y_pred)}).to_csv('submission_y_xgb_0527_median_2.csv')"
   ]
  },
  {
   "cell_type": "code",
   "execution_count": 87,
   "metadata": {},
   "outputs": [],
   "source": [
    "#pd.DataFrame({'total_price': np.array(np.exp(y))}).to_csv('submission_y_2.csv')"
   ]
  },
  {
   "cell_type": "code",
   "execution_count": null,
   "metadata": {},
   "outputs": [],
   "source": []
  },
  {
   "cell_type": "code",
   "execution_count": 88,
   "metadata": {},
   "outputs": [
    {
     "name": "stdout",
     "output_type": "stream",
     "text": [
      "5212\n",
      "[-8.73764145  3.39157048 -5.31748394 ...  0.50171706  9.53643224\n",
      " -0.35661434]\n"
     ]
    }
   ],
   "source": [
    "print(error(np.array(np.exp(y)),np.exp(y_pred)))"
   ]
  },
  {
   "cell_type": "code",
   "execution_count": 89,
   "metadata": {},
   "outputs": [
    {
     "name": "stdout",
     "output_type": "stream",
     "text": [
      "2748\n",
      "[7.31206008 4.25875905 6.52694289 ... 6.27098795 1.53114654 8.39405643]\n"
     ]
    }
   ],
   "source": [
    "print(error(np.array(np.exp(y_val)),np.exp(val_preds)))"
   ]
  },
  {
   "cell_type": "code",
   "execution_count": 90,
   "metadata": {},
   "outputs": [
    {
     "name": "stdout",
     "output_type": "stream",
     "text": [
      "                   total_price\n",
      "building_id                   \n",
      "X5gsdTWGS3W7JJQB  1.233300e+07\n",
      "BTshNOJyKHnT2YIT  3.895260e+06\n",
      "dhdymr0lV8N5kZOT  9.426975e+06\n",
      "VEwyGGMcD56w5BOc  5.827081e+06\n",
      "wmUeMoJZfsqaSX9b  8.944517e+05\n"
     ]
    }
   ],
   "source": [
    "y_answer_XGB = model_XGB.predict( X_test )\n",
    "y_answer_XGB = np.exp(y_answer_XGB)\n",
    "print(pd.DataFrame({'total_price': y_answer_XGB}, index=test.building_id).head())\n",
    "pd.DataFrame({'total_price': y_answer_XGB}, index=test.building_id).to_csv('submission_xgb_0527_median.csv')"
   ]
  },
  {
   "cell_type": "code",
   "execution_count": 91,
   "metadata": {},
   "outputs": [
    {
     "name": "stdout",
     "output_type": "stream",
     "text": [
      "                   total_price\n",
      "building_id                   \n",
      "X5gsdTWGS3W7JJQB  1.233300e+07\n",
      "BTshNOJyKHnT2YIT  3.895260e+06\n",
      "dhdymr0lV8N5kZOT  9.426975e+06\n",
      "VEwyGGMcD56w5BOc  5.827081e+06\n",
      "wmUeMoJZfsqaSX9b  8.944517e+05\n"
     ]
    }
   ],
   "source": [
    "y_answer_XGB = model_XGB.predict( X_test )\n",
    "y_answer_XGB = np.exp(y_answer_XGB)\n",
    "print(pd.DataFrame({'total_price': y_answer_XGB}, index=test.building_id).head())"
   ]
  },
  {
   "cell_type": "code",
   "execution_count": 92,
   "metadata": {},
   "outputs": [],
   "source": [
    "pd.DataFrame({'total_price': y_answer_XGB}, index=test.building_id).to_csv('submission_xgb_0527_4000.csv')"
   ]
  },
  {
   "cell_type": "code",
   "execution_count": null,
   "metadata": {},
   "outputs": [],
   "source": []
  },
  {
   "cell_type": "code",
   "execution_count": 93,
   "metadata": {},
   "outputs": [],
   "source": [
    "#model_XGB = XGBRegressor(base_score=0.5,colsample_bytree=0.7, gamma=0.0468, \n",
    "#                             learning_rate=0.01, max_depth=3, \n",
    "#                             min_child_weight=1, n_estimators=10000,objective='reg:linear',\n",
    "#                             reg_alpha=0.4640, reg_lambda=0.8571,\n",
    "#                             subsample=0.5213, silent=1,\n",
    "#                             random_state =7, nthread = -1)\n",
    "\n",
    "#https://github.com/Cuongvn08/tensorflow_kaggle_house_price/blob/master/train.py\n",
    "#model_xgb = xgb.XGBRegressor(colsample_bytree=0.4603, gamma=0.0468, \n",
    "#                             learning_rate=0.05, max_depth=3, \n",
    "#                             min_child_weight=1.7817, n_estimators=2200,\n",
    "#                             reg_alpha=0.4640, reg_lambda=0.8571,\n",
    "#                             subsample=0.5213, silent=1)\n",
    "#import lightgbm as lgb\n",
    "#model_lgb = lgb.LGBMRegressor(objective='regression',num_leaves=5,\n",
    "#                              learning_rate=0.05, n_estimators=720,\n",
    "#                              max_bin = 55, bagging_fraction = 0.8,\n",
    "#                              bagging_freq = 5, feature_fraction = 0.2319,\n",
    "#                              feature_fraction_seed=9, bagging_seed=9,\n",
    "#                              min_data_in_leaf =6, min_sum_hessian_in_leaf = 11)\n",
    "\n",
    "#model_XGB = XGBRegressor(base_score=0.5,colsample_bytree=0.7, gamma=0.0468, \n",
    "#                             learning_rate=0.01, max_depth=6, \n",
    "#                             min_child_weight=5, n_estimators=4000,objective='reg:linear',\n",
    "#                             reg_alpha=0.4640, reg_lambda=0.8571,\n",
    "#                             subsample=0.5213, silent=1,\n",
    "#                             random_state =7, nthread = -1)\n",
    "\n",
    "#model_XGB = XGBRegressor(base_score=0.5,colsample_bytree=0.7, gamma=0.0468, \n",
    "#                             learning_rate=0.01, max_depth=7, \n",
    "#                             min_child_weight=4, n_estimators=5000,objective='reg:linear',\n",
    "#                             reg_alpha=0.4640, reg_lambda=0.8571,\n",
    "#                             subsample=0.5213, silent=1,\n",
    "#                             random_state =7, nthread = -1)\n",
    "#colsample_bytree=0.4603, gamma=0.0468, \n",
    "#                             learning_rate=0.1, max_depth=7, \n",
    "#                             min_child_weight=1.7817, n_estimators=2200,\n",
    "#                             reg_alpha=0.4640, reg_lambda=0.8571,\n",
    "#                             subsample=0.5213, silent=1,\n",
    "#                             random_state =7, nthread = -1\n",
    "\n",
    "\n",
    "#colsample_bylevel=1,colsample_bytree=1, gamma=0, \n",
    "#                             learning_rate=0.1, max_delta_step=0,max_depth=7, \n",
    "#                             min_child_weight=1,missing=None, n_estimators=2200,nthread=-1,objective='reg:linear',\n",
    "#                             reg_alpha=0, reg_lambda=1,scale_pos_weight=1,seed=1850,\n",
    "#                              silent=True,subsample=1,\n",
    "#                             random_state =7\n",
    "#model_XGB = XGBRegressor()\n",
    "#model_XGB.fit(X, y)\n",
    "#y_pred = model_XGB.predict( X )\n",
    "#print('RMSE:', np.sqrt(metrics.mean_squared_error(y, y_pred)))\n",
    "#print('  R2:', metrics.r2_score(y, y_pred))"
   ]
  },
  {
   "cell_type": "code",
   "execution_count": null,
   "metadata": {},
   "outputs": [],
   "source": []
  },
  {
   "cell_type": "code",
   "execution_count": null,
   "metadata": {},
   "outputs": [],
   "source": [
    "\n",
    "kf = KFold(n_splits = 5, random_state = None, shuffle = True)\n",
    "pred_tmp = np.zeros((X_test.shape[0],1)).reshape(-1)\n",
    "# print(list(kf.split(X)))\n",
    "for train_index, val_index in kf.split(X):\n",
    "    print('train_index:', train_index)\n",
    "    print('val_index:', val_index)\n",
    "    X_train = pd.DataFrame(data = X.values[train_index], columns = X.columns, index = train_index)\n",
    "    X_val = pd.DataFrame(data = X.values[val_index], columns = X.columns, index = val_index)\n",
    "     y_train = pd.DataFrame(data = y.values[train_index], columns = ['total_price'], index = train_index)\n",
    "    y_train = y.values[ train_index ]\n",
    "    y_val = pd.DataFrame(data = y.values[val_index], columns = ['total_price'], index = val_index)\n",
    "    model_XGB = XGBRegressor()\n",
    "    model_XGB = XGBRegressor(colsample_bytree=0.4603, gamma=0.0468, \n",
    "                             learning_rate=0.05, max_depth=5, \n",
    "                             min_child_weight=1.7817, n_estimators=2200,\n",
    "                             reg_alpha=0.4640, reg_lambda=0.8571,\n",
    "                             subsample=0.5213, silent=1,\n",
    "                             random_state =7, nthread = -1)\n",
    "    model_XGB.fit(X_train, y_train)\n",
    "    y_pred = model_XGB.predict(X_val)\n",
    "    y_ans = model_XGB.predict(X_test)\n",
    "    pred_tmp+=np.exp(y_ans)\n",
    "    print('RMSE:', np.sqrt(metrics.mean_squared_error(y_val, y_pred)))\n",
    "    print('  R2:', metrics.r2_score(y_val, y_pred))\n",
    "y_answer_XGB = pred_tmp/5"
   ]
  },
  {
   "cell_type": "code",
   "execution_count": null,
   "metadata": {},
   "outputs": [],
   "source": [
    "val_preds = model_XGB.predict(X_val)\n",
    "\n",
    "print('RMSE:', np.sqrt(metrics.mean_squared_error( y_val, val_preds ) ) )\n",
    "print('  R2:', metrics.r2_score( y_val, val_preds ) )\n"
   ]
  },
  {
   "cell_type": "code",
   "execution_count": 95,
   "metadata": {},
   "outputs": [],
   "source": [
    "#y_answer_XGB = model_XGB.predict( X_test )\n",
    "#y_answer_XGB = np.exp(y_answer_XGB)\n",
    "#print(pd.DataFrame({'total_price': y_answer_XGB}, index=test.building_id).head())"
   ]
  },
  {
   "cell_type": "code",
   "execution_count": 96,
   "metadata": {},
   "outputs": [],
   "source": [
    "#pd.DataFrame({'total_price': y_answer_XGB}, index=test.building_id).to_csv('submission_xgb_0513_2200.csv')"
   ]
  },
  {
   "cell_type": "code",
   "execution_count": 97,
   "metadata": {},
   "outputs": [],
   "source": [
    "#import pickle\n",
    "#save model\n",
    "#pickle.dump(model_XGB, open(\"./savemodel/submission_xgb_0513_2200.dat\", \"wb\"))"
   ]
  },
  {
   "cell_type": "code",
   "execution_count": null,
   "metadata": {},
   "outputs": [],
   "source": [
    "lassoCV"
   ]
  },
  {
   "cell_type": "code",
   "execution_count": 98,
   "metadata": {},
   "outputs": [
    {
     "name": "stdout",
     "output_type": "stream",
     "text": [
      "[0.37450098 0.38518875 0.37922879 0.37373632 0.37442228] 5e-05\n"
     ]
    }
   ],
   "source": [
    "from sklearn.linear_model import LassoCV\n",
    "model_Lasso = LassoCV( alphas = [  0.00005],normalize=True, max_iter=1e5).fit( X, y )\n",
    "print( rmse_cv( model_Lasso ), model_Lasso.alpha_ )"
   ]
  },
  {
   "cell_type": "code",
   "execution_count": 99,
   "metadata": {},
   "outputs": [
    {
     "name": "stdout",
     "output_type": "stream",
     "text": [
      "50 190\n"
     ]
    }
   ],
   "source": [
    "coef = pd.Series( model_Lasso.coef_, index = X.columns )\n",
    "print( sum(coef != 0), sum(coef == 0))"
   ]
  },
  {
   "cell_type": "code",
   "execution_count": 100,
   "metadata": {},
   "outputs": [
    {
     "data": {
      "text/plain": [
       "Text(0.5,1,'Coefficients in Model Lasso')"
      ]
     },
     "execution_count": 100,
     "metadata": {},
     "output_type": "execute_result"
    },
    {
     "data": {
      "image/png": "[encoded data removed]",
      "text/plain": [
       "<Figure size 576x720 with 1 Axes>"
      ]
     },
     "metadata": {
      "needs_background": "light"
     },
     "output_type": "display_data"
    }
   ],
   "source": [
    "important_coef = pd.concat( [coef.sort_values().head(10), coef.sort_values().tail(10)] )\n",
    "rcParams['figure.figsize'] = (8.0, 10.0)\n",
    "important_coef.plot(kind = 'barh')\n",
    "plt.title('Coefficients in Model Lasso')"
   ]
  },
  {
   "cell_type": "code",
   "execution_count": 101,
   "metadata": {},
   "outputs": [
    {
     "name": "stdout",
     "output_type": "stream",
     "text": [
      "RMSE: 0.3785033148737848\n",
      "  R2: 0.8896155142910738\n"
     ]
    }
   ],
   "source": [
    "\n",
    "preds = model_Lasso.predict(X)\n",
    "print('RMSE:', np.sqrt(metrics.mean_squared_error(y, preds)))\n",
    "print('  R2:', metrics.r2_score( y, preds ) )"
   ]
  },
  {
   "cell_type": "code",
   "execution_count": 102,
   "metadata": {},
   "outputs": [
    {
     "name": "stdout",
     "output_type": "stream",
     "text": [
      "RMSE: 0.38505650817577974\n",
      "  R2: 0.8856757508255246\n"
     ]
    }
   ],
   "source": [
    "val_preds = model_Lasso.predict(X_val)\n",
    "print('RMSE:', np.sqrt(metrics.mean_squared_error( y_val, val_preds ) ) )\n",
    "print('  R2:', metrics.r2_score( y_val, val_preds ) )"
   ]
  },
  {
   "cell_type": "code",
   "execution_count": 103,
   "metadata": {},
   "outputs": [
    {
     "name": "stdout",
     "output_type": "stream",
     "text": [
      "                   total_price\n",
      "building_id                   \n",
      "X5gsdTWGS3W7JJQB  6.546974e+06\n",
      "BTshNOJyKHnT2YIT  3.319228e+06\n",
      "dhdymr0lV8N5kZOT  8.100359e+06\n",
      "VEwyGGMcD56w5BOc  4.790482e+06\n",
      "wmUeMoJZfsqaSX9b  1.667126e+06\n"
     ]
    }
   ],
   "source": [
    "y_answer_Lasso = model_Lasso.predict( X_test )\n",
    "y_answer_Lasso = np.exp(y_answer_Lasso)\n",
    "# print(pd.DataFrame(data=y_answer, columns=['SalePrice'], index=X_test.index).head())\n",
    "print(pd.DataFrame({'total_price': y_answer_Lasso}, index=test.building_id).head())"
   ]
  },
  {
   "cell_type": "code",
   "execution_count": 104,
   "metadata": {},
   "outputs": [],
   "source": [
    "pd.DataFrame({'total_price': y_answer_Lasso}, index=test.building_id).to_csv('submission_0523_Lasso.csv')"
   ]
  },
  {
   "cell_type": "code",
   "execution_count": 105,
   "metadata": {},
   "outputs": [],
   "source": [
    "import pickle\n",
    "#save model\n",
    "pickle.dump(model_Lasso, open(\"./savemodel/submission_0523_Lasso.dat\", \"wb\"))"
   ]
  },
  {
   "cell_type": "code",
   "execution_count": null,
   "metadata": {},
   "outputs": [],
   "source": []
  },
  {
   "cell_type": "code",
   "execution_count": null,
   "metadata": {},
   "outputs": [],
   "source": []
  },
  {
   "cell_type": "code",
   "execution_count": 106,
   "metadata": {},
   "outputs": [
    {
     "name": "stdout",
     "output_type": "stream",
     "text": [
      "31341\n",
      "[  0.87346301   2.75604677 -14.0266941  ...  -7.74167153  14.96007592\n",
      "  15.17242786]\n"
     ]
    }
   ],
   "source": [
    "y_answer_pred = preds * 0.5 + y_pred * 0.5\n",
    "print(error(np.array(np.exp(y)),np.exp(y_answer_pred)))"
   ]
  },
  {
   "cell_type": "code",
   "execution_count": 107,
   "metadata": {},
   "outputs": [
    {
     "data": {
      "text/plain": [
       "(53822,)"
      ]
     },
     "execution_count": 107,
     "metadata": {},
     "output_type": "execute_result"
    }
   ],
   "source": [
    "y.shape"
   ]
  },
  {
   "cell_type": "code",
   "execution_count": 108,
   "metadata": {},
   "outputs": [
    {
     "name": "stdout",
     "output_type": "stream",
     "text": [
      "                   total_price\n",
      "building_id                   \n",
      "X5gsdTWGS3W7JJQB  9.439988e+06\n",
      "BTshNOJyKHnT2YIT  3.607244e+06\n",
      "dhdymr0lV8N5kZOT  8.763667e+06\n",
      "VEwyGGMcD56w5BOc  5.308782e+06\n",
      "wmUeMoJZfsqaSX9b  1.280789e+06\n",
      "RMSE: 0.38505650817577974\n",
      "  R2: 0.8856757508255246\n"
     ]
    }
   ],
   "source": [
    "# Lasso + XGB\n",
    "y_answer = y_answer_Lasso * 0.5 + y_answer_XGB * 0.5\n",
    "print(pd.DataFrame({'total_price': y_answer}, index=test.building_id).head())\n",
    "\n",
    "print('RMSE:', np.sqrt(metrics.mean_squared_error( y_val, val_preds ) ) )\n",
    "print('  R2:', metrics.r2_score( y_val, val_preds ) )\n",
    "pd.DataFrame({'total_price': y_answer}, index=test.building_id).to_csv('submission_0514_LX.csv')"
   ]
  },
  {
   "cell_type": "code",
   "execution_count": null,
   "metadata": {},
   "outputs": [],
   "source": [
    "\n"
   ]
  },
  {
   "cell_type": "code",
   "execution_count": 109,
   "metadata": {},
   "outputs": [
    {
     "data": {
      "text/plain": [
       "[<matplotlib.lines.Line2D at 0x7f03ae5ccd30>]"
      ]
     },
     "execution_count": 109,
     "metadata": {},
     "output_type": "execute_result"
    },
    {
     "data": {
      "image/png": "[encoded data removed]",
      "text/plain": [
       "<Figure size 576x720 with 1 Axes>"
      ]
     },
     "metadata": {
      "needs_background": "light"
     },
     "output_type": "display_data"
    }
   ],
   "source": [
    "from sklearn.ensemble import RandomForestRegressor\n",
    "model_rf = RandomForestRegressor(n_estimators = 12,max_depth = 3,n_jobs = -1)\n",
    "estimators = np.arange(10, 200, 10)\n",
    "scores = []\n",
    "for n in estimators:\n",
    "    model_rf.set_params(n_estimators=n)\n",
    "    model_rf.fit(X, y)\n",
    "    scores.append(model_rf.score(X, y))\n",
    "plt.title(\"Effect of n_estimators\")\n",
    "plt.xlabel(\"n_estimator\")\n",
    "plt.ylabel(\"score\")\n",
    "plt.plot(estimators, scores)"
   ]
  },
  {
   "cell_type": "code",
   "execution_count": 110,
   "metadata": {},
   "outputs": [
    {
     "name": "stdout",
     "output_type": "stream",
     "text": [
      "RandomForest Score : 0.609320831345679\n"
     ]
    }
   ],
   "source": [
    "model_rf.fit(X,y)\n",
    "y_pred_rf = model_rf.predict(X)\n",
    "score_rf = np.sqrt(mean_squared_error(y, y_pred_rf))\n",
    "print(\"RandomForest Score :\",score_rf)\n",
    "\n",
    "#y_pred_rf_test = model_rf.predict(test_new)\n",
    "#y_pred_rf_test = np.exp(y_pred_rf_test)"
   ]
  },
  {
   "cell_type": "code",
   "execution_count": 111,
   "metadata": {},
   "outputs": [
    {
     "data": {
      "text/plain": [
       "(53822,)"
      ]
     },
     "execution_count": 111,
     "metadata": {},
     "output_type": "execute_result"
    }
   ],
   "source": [
    "y_pred_rf.shape"
   ]
  },
  {
   "cell_type": "code",
   "execution_count": 112,
   "metadata": {},
   "outputs": [],
   "source": [
    "#LassoCV"
   ]
  },
  {
   "cell_type": "code",
   "execution_count": null,
   "metadata": {},
   "outputs": [],
   "source": []
  },
  {
   "cell_type": "markdown",
   "metadata": {},
   "source": [
    "## Decision Tree"
   ]
  },
  {
   "cell_type": "markdown",
   "metadata": {},
   "source": []
  },
  {
   "cell_type": "code",
   "execution_count": 114,
   "metadata": {},
   "outputs": [],
   "source": [
    "#https://www.itread01.com/content/1545151168.html"
   ]
  },
  {
   "cell_type": "code",
   "execution_count": 115,
   "metadata": {},
   "outputs": [],
   "source": [
    "from sklearn.model_selection import GridSearchCV\n",
    "xgb1 = XGBRegressor()\n",
    "#parameters={'colsample_bytree':[0.4603], 'gamma':[0.0468], \n",
    "#                             'learning_rate':[0.1,0.05,0.01], 'max_depth':[6,7,8], \n",
    "#                             'min_child_weight':[4], 'n_estimators':[2200],\n",
    "#                             'reg_alpha':[0.4640], 'reg_lambda':[0.8571],\n",
    "#                             'subsample:':[0.5213], 'silent':[1],\n",
    "#                             'random_state' :[7], 'nthread' : [-1]}\n",
    "\n",
    "parameters = {'nthread':[4], #when use hyperthread, xgboost may become slower\n",
    "              'objective':['reg:linear'],\n",
    "              'learning_rate': [.01], #so called `eta` value\n",
    "              'max_depth': [7],\n",
    "              'min_child_weight': [4],\n",
    "              'silent': [1],\n",
    "              'subsample': [0.7],\n",
    "              'colsample_bytree': [0.7],\n",
    "              'n_estimators': [500]}\n",
    "\n",
    "#xgb_grid = GridSearchCV(xgb1,\n",
    "#                        parameters,\n",
    "#                        cv = 2,\n",
    "#                        n_jobs = 5,\n",
    "#                        verbose=True)\n",
    "\n",
    "#xgb_grid.fit(X,y)\n",
    "\n",
    "#print(xgb_grid.best_score_)\n",
    "#print(xgb_grid.best_params_)"
   ]
  },
  {
   "cell_type": "code",
   "execution_count": 116,
   "metadata": {},
   "outputs": [],
   "source": [
    "#val_preds = xgb_grid.predict(X_val)\n",
    "\n",
    "#print('RMSE:', np.sqrt(metrics.mean_squared_error( y_val, val_preds ) ) )\n",
    "#print('  R2:', metrics.r2_score( y_val, val_preds ) )"
   ]
  },
  {
   "cell_type": "code",
   "execution_count": 117,
   "metadata": {},
   "outputs": [],
   "source": [
    "#y_answer_XGB = xgb_grid.predict( X_test )\n",
    "#y_answer_XGB = np.exp(y_answer_XGB)\n",
    "#print(pd.DataFrame({'SalePrice': y_answer_XGB}, index=test.Id).head())"
   ]
  },
  {
   "cell_type": "code",
   "execution_count": 118,
   "metadata": {},
   "outputs": [],
   "source": [
    "#pd.DataFrame({'SalePrice': y_answer_XGB}, index=test.Id).to_csv('submission_xgb.csv')"
   ]
  },
  {
   "cell_type": "code",
   "execution_count": null,
   "metadata": {},
   "outputs": [],
   "source": []
  },
  {
   "cell_type": "markdown",
   "metadata": {},
   "source": [
    "## SVR"
   ]
  },
  {
   "cell_type": "code",
   "execution_count": 119,
   "metadata": {},
   "outputs": [
    {
     "name": "stdout",
     "output_type": "stream",
     "text": [
      "[10765 10766 10767 ... 53819 53820 53821]\n",
      "predict\n",
      "RMSE: 0.27110083554513104\n",
      "  R2: 0.9445476511422299\n",
      "[    0     1     2 ... 53819 53820 53821]\n",
      "predict\n",
      "RMSE: 0.27382988630190286\n",
      "  R2: 0.9416666859984171\n",
      "[    0     1     2 ... 53819 53820 53821]\n",
      "predict\n",
      "RMSE: 0.27250364951278444\n",
      "  R2: 0.9419647977730888\n",
      "[    0     1     2 ... 53819 53820 53821]\n",
      "predict\n",
      "RMSE: 0.26952291961005514\n",
      "  R2: 0.9433810535491294\n",
      "[    0     1     2 ... 43055 43056 43057]\n",
      "predict\n",
      "RMSE: 0.2720225085435497\n",
      "  R2: 0.9437593363245766\n"
     ]
    }
   ],
   "source": [
    "# KFold Data Split\n",
    "\n",
    "from sklearn.svm import SVR\n",
    "from sklearn.model_selection import KFold\n",
    "kf = KFold(n_splits = 5, random_state = None, shuffle = False)\n",
    "pred_tmp = np.zeros((X_test.shape[0],1)).reshape(-1)\n",
    "for train_index, val_index in kf.split(X):\n",
    "    X_train = pd.DataFrame(data = X.values[train_index], columns = X.columns, index = train_index)\n",
    "    X_val = pd.DataFrame(data = X.values[val_index], columns = X.columns, index = val_index)\n",
    "#     y_train = pd.DataFrame(data = y.values[train_index], columns = ['SalePrice'], index = train_index)\n",
    "    y_train = y.values[ train_index ]\n",
    "    y_val = pd.DataFrame(data = y.values[val_index], columns = ['total_price'], index = val_index)\n",
    "    print(train_index)\n",
    "    model_SVR = SVR(kernel='rbf', gamma=0.002)\n",
    "    model_SVR.fit(X_train, y_train)\n",
    "    print('predict')\n",
    "    y_pred = model_SVR.predict(X_val)\n",
    "    y_ans = model_SVR.predict(X_test)\n",
    "    pred_tmp+=np.exp(y_ans)\n",
    "    print('RMSE:', np.sqrt(metrics.mean_squared_error(y_val, y_pred)))\n",
    "    print('  R2:', metrics.r2_score(y_val, y_pred))\n",
    "y_answer_SVR = pred_tmp/5"
   ]
  },
  {
   "cell_type": "code",
   "execution_count": null,
   "metadata": {},
   "outputs": [],
   "source": []
  },
  {
   "cell_type": "code",
   "execution_count": 120,
   "metadata": {},
   "outputs": [
    {
     "name": "stdout",
     "output_type": "stream",
     "text": [
      "                   total_price\n",
      "building_id                   \n",
      "X5gsdTWGS3W7JJQB  9.768652e+06\n",
      "BTshNOJyKHnT2YIT  3.671750e+06\n",
      "dhdymr0lV8N5kZOT  1.143790e+07\n",
      "VEwyGGMcD56w5BOc  6.726694e+06\n",
      "wmUeMoJZfsqaSX9b  1.368275e+06\n"
     ]
    }
   ],
   "source": [
    "model_SVR = SVR(kernel='rbf', gamma=0.002)\n",
    "model_SVR.fit(X, y)\n",
    "y_answer_SVR = model_SVR.predict( X_test )\n",
    "y_answer_SVR = np.exp(y_answer_SVR)\n",
    "# print(pd.DataFrame(data=y_answer, columns=['SalePrice'], index=X_test.index).head())\n",
    "print(pd.DataFrame({'total_price': y_answer_SVR}, index=test.building_id).head())"
   ]
  },
  {
   "cell_type": "code",
   "execution_count": 121,
   "metadata": {},
   "outputs": [],
   "source": [
    "pd.DataFrame({'total_price': y_answer_SVR}, index=test.building_id).to_csv('submission_SVR.csv')"
   ]
  },
  {
   "cell_type": "code",
   "execution_count": null,
   "metadata": {},
   "outputs": [],
   "source": []
  },
  {
   "cell_type": "markdown",
   "metadata": {},
   "source": [
    "## LassoCV"
   ]
  },
  {
   "cell_type": "code",
   "execution_count": null,
   "metadata": {},
   "outputs": [
    {
     "name": "stderr",
     "output_type": "stream",
     "text": [
      "/opt/conda/lib/python3.6/site-packages/sklearn/linear_model/coordinate_descent.py:491: ConvergenceWarning: Objective did not converge. You might want to increase the number of iterations. Fitting data with very small alpha may cause precision problems.\n",
      "  ConvergenceWarning)\n",
      "/opt/conda/lib/python3.6/site-packages/sklearn/linear_model/coordinate_descent.py:491: ConvergenceWarning: Objective did not converge. You might want to increase the number of iterations. Fitting data with very small alpha may cause precision problems.\n",
      "  ConvergenceWarning)\n",
      "/opt/conda/lib/python3.6/site-packages/sklearn/linear_model/coordinate_descent.py:491: ConvergenceWarning: Objective did not converge. You might want to increase the number of iterations. Fitting data with very small alpha may cause precision problems.\n",
      "  ConvergenceWarning)\n",
      "/opt/conda/lib/python3.6/site-packages/sklearn/linear_model/coordinate_descent.py:491: ConvergenceWarning: Objective did not converge. You might want to increase the number of iterations. Fitting data with very small alpha may cause precision problems.\n",
      "  ConvergenceWarning)\n",
      "/opt/conda/lib/python3.6/site-packages/sklearn/linear_model/coordinate_descent.py:491: ConvergenceWarning: Objective did not converge. You might want to increase the number of iterations. Fitting data with very small alpha may cause precision problems.\n",
      "  ConvergenceWarning)\n",
      "/opt/conda/lib/python3.6/site-packages/sklearn/linear_model/coordinate_descent.py:491: ConvergenceWarning: Objective did not converge. You might want to increase the number of iterations. Fitting data with very small alpha may cause precision problems.\n",
      "  ConvergenceWarning)\n",
      "/opt/conda/lib/python3.6/site-packages/sklearn/linear_model/coordinate_descent.py:491: ConvergenceWarning: Objective did not converge. You might want to increase the number of iterations. Fitting data with very small alpha may cause precision problems.\n",
      "  ConvergenceWarning)\n",
      "/opt/conda/lib/python3.6/site-packages/sklearn/linear_model/coordinate_descent.py:491: ConvergenceWarning: Objective did not converge. You might want to increase the number of iterations. Fitting data with very small alpha may cause precision problems.\n",
      "  ConvergenceWarning)\n",
      "/opt/conda/lib/python3.6/site-packages/sklearn/linear_model/coordinate_descent.py:491: ConvergenceWarning: Objective did not converge. You might want to increase the number of iterations. Fitting data with very small alpha may cause precision problems.\n",
      "  ConvergenceWarning)\n",
      "/opt/conda/lib/python3.6/site-packages/sklearn/linear_model/coordinate_descent.py:491: ConvergenceWarning: Objective did not converge. You might want to increase the number of iterations. Fitting data with very small alpha may cause precision problems.\n",
      "  ConvergenceWarning)\n",
      "/opt/conda/lib/python3.6/site-packages/sklearn/linear_model/coordinate_descent.py:491: ConvergenceWarning: Objective did not converge. You might want to increase the number of iterations. Fitting data with very small alpha may cause precision problems.\n",
      "  ConvergenceWarning)\n",
      "/opt/conda/lib/python3.6/site-packages/sklearn/linear_model/coordinate_descent.py:491: ConvergenceWarning: Objective did not converge. You might want to increase the number of iterations. Fitting data with very small alpha may cause precision problems.\n",
      "  ConvergenceWarning)\n",
      "/opt/conda/lib/python3.6/site-packages/sklearn/linear_model/coordinate_descent.py:491: ConvergenceWarning: Objective did not converge. You might want to increase the number of iterations. Fitting data with very small alpha may cause precision problems.\n",
      "  ConvergenceWarning)\n",
      "/opt/conda/lib/python3.6/site-packages/sklearn/linear_model/coordinate_descent.py:491: ConvergenceWarning: Objective did not converge. You might want to increase the number of iterations. Fitting data with very small alpha may cause precision problems.\n",
      "  ConvergenceWarning)\n",
      "/opt/conda/lib/python3.6/site-packages/sklearn/linear_model/coordinate_descent.py:491: ConvergenceWarning: Objective did not converge. You might want to increase the number of iterations. Fitting data with very small alpha may cause precision problems.\n",
      "  ConvergenceWarning)\n",
      "/opt/conda/lib/python3.6/site-packages/sklearn/linear_model/coordinate_descent.py:491: ConvergenceWarning: Objective did not converge. You might want to increase the number of iterations. Fitting data with very small alpha may cause precision problems.\n",
      "  ConvergenceWarning)\n",
      "/opt/conda/lib/python3.6/site-packages/sklearn/linear_model/coordinate_descent.py:491: ConvergenceWarning: Objective did not converge. You might want to increase the number of iterations. Fitting data with very small alpha may cause precision problems.\n",
      "  ConvergenceWarning)\n",
      "/opt/conda/lib/python3.6/site-packages/sklearn/linear_model/coordinate_descent.py:491: ConvergenceWarning: Objective did not converge. You might want to increase the number of iterations. Fitting data with very small alpha may cause precision problems.\n",
      "  ConvergenceWarning)\n",
      "/opt/conda/lib/python3.6/site-packages/sklearn/linear_model/coordinate_descent.py:491: ConvergenceWarning: Objective did not converge. You might want to increase the number of iterations. Fitting data with very small alpha may cause precision problems.\n",
      "  ConvergenceWarning)\n",
      "/opt/conda/lib/python3.6/site-packages/sklearn/linear_model/coordinate_descent.py:491: ConvergenceWarning: Objective did not converge. You might want to increase the number of iterations. Fitting data with very small alpha may cause precision problems.\n",
      "  ConvergenceWarning)\n",
      "/opt/conda/lib/python3.6/site-packages/sklearn/linear_model/coordinate_descent.py:491: ConvergenceWarning: Objective did not converge. You might want to increase the number of iterations. Fitting data with very small alpha may cause precision problems.\n",
      "  ConvergenceWarning)\n",
      "/opt/conda/lib/python3.6/site-packages/sklearn/linear_model/coordinate_descent.py:491: ConvergenceWarning: Objective did not converge. You might want to increase the number of iterations. Fitting data with very small alpha may cause precision problems.\n",
      "  ConvergenceWarning)\n",
      "/opt/conda/lib/python3.6/site-packages/sklearn/linear_model/coordinate_descent.py:491: ConvergenceWarning: Objective did not converge. You might want to increase the number of iterations. Fitting data with very small alpha may cause precision problems.\n",
      "  ConvergenceWarning)\n",
      "/opt/conda/lib/python3.6/site-packages/sklearn/linear_model/coordinate_descent.py:491: ConvergenceWarning: Objective did not converge. You might want to increase the number of iterations. Fitting data with very small alpha may cause precision problems.\n",
      "  ConvergenceWarning)\n",
      "/opt/conda/lib/python3.6/site-packages/sklearn/linear_model/coordinate_descent.py:491: ConvergenceWarning: Objective did not converge. You might want to increase the number of iterations. Fitting data with very small alpha may cause precision problems.\n",
      "  ConvergenceWarning)\n",
      "/opt/conda/lib/python3.6/site-packages/sklearn/linear_model/coordinate_descent.py:491: ConvergenceWarning: Objective did not converge. You might want to increase the number of iterations. Fitting data with very small alpha may cause precision problems.\n",
      "  ConvergenceWarning)\n",
      "/opt/conda/lib/python3.6/site-packages/sklearn/linear_model/coordinate_descent.py:491: ConvergenceWarning: Objective did not converge. You might want to increase the number of iterations. Fitting data with very small alpha may cause precision problems.\n",
      "  ConvergenceWarning)\n",
      "/opt/conda/lib/python3.6/site-packages/sklearn/linear_model/coordinate_descent.py:491: ConvergenceWarning: Objective did not converge. You might want to increase the number of iterations. Fitting data with very small alpha may cause precision problems.\n",
      "  ConvergenceWarning)\n",
      "/opt/conda/lib/python3.6/site-packages/sklearn/linear_model/coordinate_descent.py:491: ConvergenceWarning: Objective did not converge. You might want to increase the number of iterations. Fitting data with very small alpha may cause precision problems.\n",
      "  ConvergenceWarning)\n",
      "/opt/conda/lib/python3.6/site-packages/sklearn/linear_model/coordinate_descent.py:491: ConvergenceWarning: Objective did not converge. You might want to increase the number of iterations. Fitting data with very small alpha may cause precision problems.\n",
      "  ConvergenceWarning)\n",
      "/opt/conda/lib/python3.6/site-packages/sklearn/linear_model/coordinate_descent.py:491: ConvergenceWarning: Objective did not converge. You might want to increase the number of iterations. Fitting data with very small alpha may cause precision problems.\n",
      "  ConvergenceWarning)\n",
      "/opt/conda/lib/python3.6/site-packages/sklearn/linear_model/coordinate_descent.py:491: ConvergenceWarning: Objective did not converge. You might want to increase the number of iterations. Fitting data with very small alpha may cause precision problems.\n",
      "  ConvergenceWarning)\n",
      "/opt/conda/lib/python3.6/site-packages/sklearn/linear_model/coordinate_descent.py:491: ConvergenceWarning: Objective did not converge. You might want to increase the number of iterations. Fitting data with very small alpha may cause precision problems.\n",
      "  ConvergenceWarning)\n",
      "/opt/conda/lib/python3.6/site-packages/sklearn/linear_model/coordinate_descent.py:491: ConvergenceWarning: Objective did not converge. You might want to increase the number of iterations. Fitting data with very small alpha may cause precision problems.\n",
      "  ConvergenceWarning)\n",
      "/opt/conda/lib/python3.6/site-packages/sklearn/linear_model/coordinate_descent.py:491: ConvergenceWarning: Objective did not converge. You might want to increase the number of iterations. Fitting data with very small alpha may cause precision problems.\n",
      "  ConvergenceWarning)\n",
      "/opt/conda/lib/python3.6/site-packages/sklearn/linear_model/coordinate_descent.py:491: ConvergenceWarning: Objective did not converge. You might want to increase the number of iterations. Fitting data with very small alpha may cause precision problems.\n",
      "  ConvergenceWarning)\n",
      "/opt/conda/lib/python3.6/site-packages/sklearn/linear_model/coordinate_descent.py:491: ConvergenceWarning: Objective did not converge. You might want to increase the number of iterations. Fitting data with very small alpha may cause precision problems.\n",
      "  ConvergenceWarning)\n",
      "/opt/conda/lib/python3.6/site-packages/sklearn/linear_model/coordinate_descent.py:491: ConvergenceWarning: Objective did not converge. You might want to increase the number of iterations. Fitting data with very small alpha may cause precision problems.\n",
      "  ConvergenceWarning)\n",
      "/opt/conda/lib/python3.6/site-packages/sklearn/linear_model/coordinate_descent.py:491: ConvergenceWarning: Objective did not converge. You might want to increase the number of iterations. Fitting data with very small alpha may cause precision problems.\n",
      "  ConvergenceWarning)\n",
      "/opt/conda/lib/python3.6/site-packages/sklearn/linear_model/coordinate_descent.py:491: ConvergenceWarning: Objective did not converge. You might want to increase the number of iterations. Fitting data with very small alpha may cause precision problems.\n",
      "  ConvergenceWarning)\n"
     ]
    }
   ],
   "source": [
    "from sklearn.linear_model import LassoCV\n",
    "model_Lasso = LassoCV( alphas = [ 1, 0.1, 0.01, 0.001, 0.0005, 0.0004, 0.0003, 0.0002 ],\n",
    "                       max_iter = 2000 ).fit( X, y )\n",
    "print( rmse_cv( model_Lasso ), model_Lasso.alpha_ )"
   ]
  },
  {
   "cell_type": "code",
   "execution_count": null,
   "metadata": {},
   "outputs": [],
   "source": [
    "coef = pd.Series( model_Lasso.coef_, index = X.columns )\n",
    "print( sum(coef != 0), sum(coef == 0))"
   ]
  },
  {
   "cell_type": "code",
   "execution_count": null,
   "metadata": {},
   "outputs": [],
   "source": [
    "important_coef = pd.concat( [coef.sort_values().head(10), coef.sort_values().tail(10)] )\n",
    "rcParams['figure.figsize'] = (8.0, 10.0)\n",
    "important_coef.plot(kind = 'barh')\n",
    "plt.title('Coefficients in Model Lasso')"
   ]
  },
  {
   "cell_type": "code",
   "execution_count": null,
   "metadata": {},
   "outputs": [],
   "source": [
    "\n",
    "preds = model_Lasso.predict(X)\n",
    "print('RMSE:', np.sqrt(metrics.mean_squared_error(y, preds)))\n",
    "print('  R2:', metrics.r2_score( y, preds ) )"
   ]
  },
  {
   "cell_type": "code",
   "execution_count": null,
   "metadata": {},
   "outputs": [],
   "source": [
    "val_preds = model_Lasso.predict(X_val)\n",
    "print('RMSE:', np.sqrt(metrics.mean_squared_error( y_val, val_preds ) ) )\n",
    "print('  R2:', metrics.r2_score( y_val, val_preds ) )"
   ]
  },
  {
   "cell_type": "code",
   "execution_count": null,
   "metadata": {},
   "outputs": [],
   "source": [
    "y_answer_Lasso = model_Lasso.predict( X_test )\n",
    "y_answer_Lasso = np.exp(y_answer_Lasso)\n",
    "# print(pd.DataFrame(data=y_answer, columns=['SalePrice'], index=X_test.index).head())\n",
    "print(pd.DataFrame({'total_price': y_answer_Lasso}, index=test.building_id).head())"
   ]
  },
  {
   "cell_type": "code",
   "execution_count": null,
   "metadata": {},
   "outputs": [],
   "source": [
    "pd.DataFrame({'total_price': y_answer_Lasso}, index=test.building_id).to_csv('submission_Lasso_drop.csv')"
   ]
  },
  {
   "cell_type": "code",
   "execution_count": null,
   "metadata": {},
   "outputs": [],
   "source": []
  },
  {
   "cell_type": "code",
   "execution_count": null,
   "metadata": {},
   "outputs": [],
   "source": [
    "y_pred = model_SVR.predict(X)\n",
    "print('RMSE:', np.sqrt(metrics.mean_squared_error(y, y_pred)))\n",
    "print('  R2:', metrics.r2_score(y, y_pred))"
   ]
  },
  {
   "cell_type": "code",
   "execution_count": null,
   "metadata": {},
   "outputs": [],
   "source": [
    "val_preds = model_SVR.predict(X_val)\n",
    "print('RMSE:', np.sqrt(metrics.mean_squared_error( y_val, val_preds ) ) )\n",
    "print('  R2:', metrics.r2_score( y_val, val_preds ) )"
   ]
  },
  {
   "cell_type": "code",
   "execution_count": null,
   "metadata": {},
   "outputs": [],
   "source": [
    "model_SVR = SVR(kernel='rbf', gamma=0.002)\n",
    "model_SVR.fit(X, y)\n",
    "y_answer_SVR = model_SVR.predict( X_test )\n",
    "y_answer_SVR = np.exp(y_answer_SVR)\n",
    "# print(pd.DataFrame(data=y_answer, columns=['SalePrice'], index=X_test.index).head())\n",
    "print(pd.DataFrame({'SalePrice': y_answer_SVR}, index=test.Id).head())"
   ]
  },
  {
   "cell_type": "code",
   "execution_count": null,
   "metadata": {},
   "outputs": [],
   "source": [
    "pd.DataFrame({'SalePrice': y_answer_SVR}, index=test.Id).to_csv('submission_SVR.csv')"
   ]
  },
  {
   "cell_type": "code",
   "execution_count": null,
   "metadata": {},
   "outputs": [],
   "source": [
    "#RandomForestClassifier 效果不好\n",
    "clf = RandomForestClassifier()\n",
    "clf.fit(X, y.astype('int'))\n",
    "y_pred = clf.predict(X)\n",
    "print('RMSE:', np.sqrt(metrics.mean_squared_error(y, y_pred)))\n",
    "print('  R2:', metrics.r2_score(y, y_pred))"
   ]
  },
  {
   "cell_type": "code",
   "execution_count": null,
   "metadata": {},
   "outputs": [],
   "source": [
    "val_preds = clf.predict(X_val)\n",
    "print('RMSE:', np.sqrt(metrics.mean_squared_error( y_val, val_preds ) ) )\n",
    "print('  R2:', metrics.r2_score( y_val, val_preds ) )"
   ]
  },
  {
   "cell_type": "code",
   "execution_count": null,
   "metadata": {},
   "outputs": [],
   "source": [
    "\n",
    "y_answer_rm = clf.predict( X_test )\n",
    "y_answer_rm = np.exp(y_answer_rm)\n",
    "# print(pd.DataFrame(data=y_answer, columns=['SalePrice'], index=X_test.index).head())\n",
    "print(pd.DataFrame({'SalePrice': y_answer_rm}, index=test.Id).head())"
   ]
  },
  {
   "cell_type": "markdown",
   "metadata": {},
   "source": [
    "## Blending"
   ]
  },
  {
   "cell_type": "code",
   "execution_count": null,
   "metadata": {},
   "outputs": [],
   "source": [
    "# Lasso + SVR\n",
    "y_answer = y_answer_Lasso * 0.75 + y_answer_SVR * 0.25\n",
    "print(pd.DataFrame({'SalePrice': y_answer}, index=test.Id).head())\n",
    "print('RMSE:', np.sqrt(metrics.mean_squared_error( y_val, val_preds ) ) )\n",
    "print('  R2:', metrics.r2_score( y_val, val_preds ) )\n",
    "pd.DataFrame({'SalePrice': y_answer}, index=test.Id).to_csv('submission_LS_Best.csv')"
   ]
  },
  {
   "cell_type": "code",
   "execution_count": null,
   "metadata": {},
   "outputs": [],
   "source": [
    "# Lasso + XGB\n",
    "y_answer = y_answer_Lasso * 0.75 + y_answer_XGB * 0.25\n",
    "print(pd.DataFrame({'SalePrice': y_answer}, index=test.Id).head())\n",
    "\n",
    "print('RMSE:', np.sqrt(metrics.mean_squared_error( y_val, val_preds ) ) )\n",
    "print('  R2:', metrics.r2_score( y_val, val_preds ) )\n",
    "pd.DataFrame({'SalePrice': y_answer}, index=test.Id).to_csv('submission_LX.csv')"
   ]
  },
  {
   "cell_type": "code",
   "execution_count": null,
   "metadata": {},
   "outputs": [],
   "source": [
    "# Lasso + SVR + XGB\n",
    "y_answer = y_answer_Lasso * 0.72 + y_answer_SVR * 0.04 + y_answer_XGB * 0.24\n",
    "print(pd.DataFrame({'SalePrice': y_answer}, index=test.Id).head())\n",
    "print('RMSE:', np.sqrt(metrics.mean_squared_error( y_val, val_preds ) ) )\n",
    "#print('  R2:', metrics.r2_score( y_answer, val_preds ) )\n",
    "pd.DataFrame({'SalePrice': y_answer}, index=test.Id).to_csv('submission_LSX.csv')"
   ]
  },
  {
   "cell_type": "code",
   "execution_count": null,
   "metadata": {},
   "outputs": [],
   "source": [
    "# Lasso + SVR + XGB -2\n",
    "y_answer = (y_answer_Lasso + y_answer_SVR + y_answer_XGB) /3\n",
    "print(pd.DataFrame({'SalePrice': y_answer}, index=test.Id).head())\n",
    "pd.DataFrame({'SalePrice': y_answer}, index=test.Id).to_csv('submission_LSX3.csv')"
   ]
  },
  {
   "cell_type": "code",
   "execution_count": null,
   "metadata": {},
   "outputs": [],
   "source": [
    "# SVR + XGB\n",
    "y_answer = y_answer_SVR * 0.3 + y_answer_XGB * 0.7\n",
    "print(pd.DataFrame({'SalePrice': y_answer}, index=test.Id).head())\n",
    "\n",
    "pd.DataFrame({'SalePrice': y_answer}, index=test.Id).to_csv('submission_SX.csv')"
   ]
  },
  {
   "cell_type": "code",
   "execution_count": null,
   "metadata": {},
   "outputs": [],
   "source": []
  },
  {
   "cell_type": "code",
   "execution_count": null,
   "metadata": {},
   "outputs": [],
   "source": []
  },
  {
   "cell_type": "code",
   "execution_count": null,
   "metadata": {},
   "outputs": [],
   "source": []
  },
  {
   "cell_type": "code",
   "execution_count": null,
   "metadata": {},
   "outputs": [],
   "source": []
  },
  {
   "cell_type": "code",
   "execution_count": null,
   "metadata": {},
   "outputs": [],
   "source": []
  },
  {
   "cell_type": "code",
   "execution_count": null,
   "metadata": {},
   "outputs": [],
   "source": []
  },
  {
   "cell_type": "code",
   "execution_count": null,
   "metadata": {},
   "outputs": [],
   "source": []
  },
  {
   "cell_type": "code",
   "execution_count": null,
   "metadata": {},
   "outputs": [],
   "source": []
  },
  {
   "cell_type": "code",
   "execution_count": null,
   "metadata": {},
   "outputs": [],
   "source": []
  },
  {
   "cell_type": "code",
   "execution_count": null,
   "metadata": {},
   "outputs": [],
   "source": []
  },
  {
   "cell_type": "code",
   "execution_count": null,
   "metadata": {},
   "outputs": [],
   "source": []
  },
  {
   "cell_type": "code",
   "execution_count": null,
   "metadata": {},
   "outputs": [],
   "source": []
  },
  {
   "cell_type": "code",
   "execution_count": null,
   "metadata": {},
   "outputs": [],
   "source": []
  },
  {
   "cell_type": "code",
   "execution_count": null,
   "metadata": {},
   "outputs": [],
   "source": []
  },
  {
   "cell_type": "code",
   "execution_count": null,
   "metadata": {},
   "outputs": [],
   "source": []
  },
  {
   "cell_type": "code",
   "execution_count": null,
   "metadata": {},
   "outputs": [],
   "source": []
  },
  {
   "cell_type": "code",
   "execution_count": null,
   "metadata": {},
   "outputs": [],
   "source": []
  },
  {
   "cell_type": "code",
   "execution_count": null,
   "metadata": {},
   "outputs": [],
   "source": []
  },
  {
   "cell_type": "code",
   "execution_count": null,
   "metadata": {},
   "outputs": [],
   "source": []
  },
  {
   "cell_type": "code",
   "execution_count": null,
   "metadata": {},
   "outputs": [],
   "source": []
  },
  {
   "cell_type": "code",
   "execution_count": null,
   "metadata": {},
   "outputs": [],
   "source": []
  },
  {
   "cell_type": "code",
   "execution_count": null,
   "metadata": {},
   "outputs": [],
   "source": []
  },
  {
   "cell_type": "code",
   "execution_count": null,
   "metadata": {},
   "outputs": [],
   "source": []
  },
  {
   "cell_type": "code",
   "execution_count": null,
   "metadata": {},
   "outputs": [],
   "source": []
  },
  {
   "cell_type": "code",
   "execution_count": null,
   "metadata": {},
   "outputs": [],
   "source": []
  },
  {
   "cell_type": "code",
   "execution_count": null,
   "metadata": {},
   "outputs": [],
   "source": []
  },
  {
   "cell_type": "code",
   "execution_count": null,
   "metadata": {},
   "outputs": [],
   "source": []
  },
  {
   "cell_type": "code",
   "execution_count": null,
   "metadata": {},
   "outputs": [],
   "source": []
  },
  {
   "cell_type": "code",
   "execution_count": null,
   "metadata": {},
   "outputs": [],
   "source": []
  },
  {
   "cell_type": "code",
   "execution_count": null,
   "metadata": {},
   "outputs": [],
   "source": []
  },
  {
   "cell_type": "code",
   "execution_count": null,
   "metadata": {},
   "outputs": [],
   "source": []
  },
  {
   "cell_type": "code",
   "execution_count": null,
   "metadata": {},
   "outputs": [],
   "source": []
  },
  {
   "cell_type": "code",
   "execution_count": null,
   "metadata": {},
   "outputs": [],
   "source": []
  },
  {
   "cell_type": "code",
   "execution_count": null,
   "metadata": {},
   "outputs": [],
   "source": []
  },
  {
   "cell_type": "code",
   "execution_count": null,
   "metadata": {},
   "outputs": [],
   "source": []
  },
  {
   "cell_type": "code",
   "execution_count": null,
   "metadata": {},
   "outputs": [],
   "source": []
  },
  {
   "cell_type": "code",
   "execution_count": null,
   "metadata": {},
   "outputs": [],
   "source": []
  },
  {
   "cell_type": "code",
   "execution_count": null,
   "metadata": {},
   "outputs": [],
   "source": []
  }
 ],
 "metadata": {
  "kernelspec": {
   "display_name": "Python 3",
   "language": "python",
   "name": "python3"
  },
  "language_info": {
   "codemirror_mode": {
    "name": "ipython",
    "version": 3
   },
   "file_extension": ".py",
   "mimetype": "text/x-python",
   "name": "python",
   "nbconvert_exporter": "python",
   "pygments_lexer": "ipython3",
   "version": "3.6.6"
  }
 },
 "nbformat": 4,
 "nbformat_minor": 2
}
