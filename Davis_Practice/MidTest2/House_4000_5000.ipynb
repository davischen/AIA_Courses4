{
 "cells": [
  {
   "cell_type": "code",
   "execution_count": 154,
   "metadata": {},
   "outputs": [],
   "source": [
    "# import libraries\n",
    "import numpy as np\n",
    "import pandas as pd\n",
    "import matplotlib.pyplot as plt\n",
    "import seaborn as sns\n",
    "from scipy.stats import skew\n",
    "from sklearn.linear_model import LinearRegression, RidgeCV, LassoCV, ElasticNetCV\n",
    "from sklearn.model_selection import cross_val_score\n",
    "from sklearn.metrics import mean_squared_error\n",
    "from sklearn import metrics\n",
    "from sklearn.ensemble import RandomForestClassifier\n",
    "%matplotlib inline\n",
    "\n",
    "#參考文章：https://www.kaggle.com/nishimoto/very-simple-linear-models-pls"
   ]
  },
  {
   "cell_type": "code",
   "execution_count": 155,
   "metadata": {},
   "outputs": [],
   "source": [
    "train = pd.read_csv(\"train.csv\")\n",
    "test = pd.read_csv(\"test.csv\")\n"
   ]
  },
  {
   "cell_type": "code",
   "execution_count": 156,
   "metadata": {},
   "outputs": [],
   "source": [
    "train = pd.read_csv('train.csv')\n",
    "test = pd.read_csv('test.csv')\n",
    "testID = test['building_id']\n",
    "\n",
    "#data = pd.concat([train.drop('SalePrice', axis=1), test], keys=['train', 'test'])\n",
    "#data.drop(['Id'], axis=1, inplace=True)\n",
    "#df_all = pd.concat([train.drop('SalePrice', axis=1), test], keys=['train', 'test'])\n",
    "#df_all.drop(['Id'], axis=1, inplace=True)"
   ]
  },
  {
   "cell_type": "code",
   "execution_count": null,
   "metadata": {},
   "outputs": [],
   "source": []
  },
  {
   "cell_type": "code",
   "execution_count": 157,
   "metadata": {},
   "outputs": [
    {
     "name": "stdout",
     "output_type": "stream",
     "text": [
      "train shape : (60000, 235)\n",
      " test shape : (10000, 234)\n"
     ]
    }
   ],
   "source": [
    "print(f\"train shape : {train.shape}\")\n",
    "print(f\" test shape : {test.shape}\")"
   ]
  },
  {
   "cell_type": "code",
   "execution_count": 158,
   "metadata": {},
   "outputs": [
    {
     "name": "stdout",
     "output_type": "stream",
     "text": [
      "<class 'pandas.core.frame.DataFrame'>\n",
      "RangeIndex: 60000 entries, 0 to 59999\n",
      "Columns: 235 entries, building_id to total_price\n",
      "dtypes: float64(37), int64(197), object(1)\n",
      "memory usage: 107.6+ MB\n"
     ]
    }
   ],
   "source": [
    "#瞭解資料型別\n",
    "train.info()"
   ]
  },
  {
   "cell_type": "code",
   "execution_count": 159,
   "metadata": {},
   "outputs": [],
   "source": [
    "#train.corr('kendall')"
   ]
  },
  {
   "cell_type": "code",
   "execution_count": 160,
   "metadata": {},
   "outputs": [
    {
     "name": "stdout",
     "output_type": "stream",
     "text": [
      "categorical features: (4, 1)\n"
     ]
    },
    {
     "data": {
      "text/html": [
       "<div>\n",
       "<style scoped>\n",
       "    .dataframe tbody tr th:only-of-type {\n",
       "        vertical-align: middle;\n",
       "    }\n",
       "\n",
       "    .dataframe tbody tr th {\n",
       "        vertical-align: top;\n",
       "    }\n",
       "\n",
       "    .dataframe thead th {\n",
       "        text-align: right;\n",
       "    }\n",
       "</style>\n",
       "<table border=\"1\" class=\"dataframe\">\n",
       "  <thead>\n",
       "    <tr style=\"text-align: right;\">\n",
       "      <th></th>\n",
       "      <th>building_id</th>\n",
       "    </tr>\n",
       "  </thead>\n",
       "  <tbody>\n",
       "    <tr>\n",
       "      <th>count</th>\n",
       "      <td>60000</td>\n",
       "    </tr>\n",
       "    <tr>\n",
       "      <th>unique</th>\n",
       "      <td>60000</td>\n",
       "    </tr>\n",
       "    <tr>\n",
       "      <th>top</th>\n",
       "      <td>jA9mV4uTNlna8D0p</td>\n",
       "    </tr>\n",
       "    <tr>\n",
       "      <th>freq</th>\n",
       "      <td>1</td>\n",
       "    </tr>\n",
       "  </tbody>\n",
       "</table>\n",
       "</div>"
      ],
      "text/plain": [
       "             building_id\n",
       "count              60000\n",
       "unique             60000\n",
       "top     jA9mV4uTNlna8D0p\n",
       "freq                   1"
      ]
     },
     "execution_count": 160,
     "metadata": {},
     "output_type": "execute_result"
    }
   ],
   "source": [
    "# 描述data物件型態的統計資訊（個數、種類、出現頻率最高的種類及其次數）\n",
    "print(f\"categorical features: {train.describe(include='O').shape}\")\n",
    "# 查詢非數值資訊\n",
    "train.describe(include=\"O\")"
   ]
  },
  {
   "cell_type": "code",
   "execution_count": 161,
   "metadata": {},
   "outputs": [
    {
     "data": {
      "text/html": [
       "<div>\n",
       "<style scoped>\n",
       "    .dataframe tbody tr th:only-of-type {\n",
       "        vertical-align: middle;\n",
       "    }\n",
       "\n",
       "    .dataframe tbody tr th {\n",
       "        vertical-align: top;\n",
       "    }\n",
       "\n",
       "    .dataframe thead th {\n",
       "        text-align: right;\n",
       "    }\n",
       "</style>\n",
       "<table border=\"1\" class=\"dataframe\">\n",
       "  <thead>\n",
       "    <tr style=\"text-align: right;\">\n",
       "      <th></th>\n",
       "      <th>building_material</th>\n",
       "      <th>city</th>\n",
       "      <th>txn_dt</th>\n",
       "      <th>total_floor</th>\n",
       "      <th>building_type</th>\n",
       "      <th>building_use</th>\n",
       "      <th>building_complete_dt</th>\n",
       "      <th>parking_way</th>\n",
       "      <th>parking_area</th>\n",
       "      <th>parking_price</th>\n",
       "      <th>...</th>\n",
       "      <th>XIV_500</th>\n",
       "      <th>XIV_index_500</th>\n",
       "      <th>XIV_1000</th>\n",
       "      <th>XIV_index_1000</th>\n",
       "      <th>XIV_5000</th>\n",
       "      <th>XIV_index_5000</th>\n",
       "      <th>XIV_10000</th>\n",
       "      <th>XIV_index_10000</th>\n",
       "      <th>XIV_MIN</th>\n",
       "      <th>total_price</th>\n",
       "    </tr>\n",
       "  </thead>\n",
       "  <tbody>\n",
       "    <tr>\n",
       "      <th>count</th>\n",
       "      <td>60000.000000</td>\n",
       "      <td>60000.000000</td>\n",
       "      <td>60000.000000</td>\n",
       "      <td>60000.000000</td>\n",
       "      <td>60000.000000</td>\n",
       "      <td>60000.000000</td>\n",
       "      <td>60000.000000</td>\n",
       "      <td>60000.000000</td>\n",
       "      <td>3103.000000</td>\n",
       "      <td>1.393500e+04</td>\n",
       "      <td>...</td>\n",
       "      <td>60000.000000</td>\n",
       "      <td>60000.000000</td>\n",
       "      <td>60000.000000</td>\n",
       "      <td>60000.000000</td>\n",
       "      <td>60000.000000</td>\n",
       "      <td>60000.0</td>\n",
       "      <td>60000.000000</td>\n",
       "      <td>60000.0</td>\n",
       "      <td>60000.000000</td>\n",
       "      <td>6.000000e+04</td>\n",
       "    </tr>\n",
       "    <tr>\n",
       "      <th>mean</th>\n",
       "      <td>7.267917</td>\n",
       "      <td>11.414533</td>\n",
       "      <td>19488.957917</td>\n",
       "      <td>7.638250</td>\n",
       "      <td>1.931817</td>\n",
       "      <td>2.319200</td>\n",
       "      <td>11050.437183</td>\n",
       "      <td>1.585700</td>\n",
       "      <td>7.211837</td>\n",
       "      <td>5.025058e+04</td>\n",
       "      <td>...</td>\n",
       "      <td>60.867700</td>\n",
       "      <td>0.995800</td>\n",
       "      <td>252.823100</td>\n",
       "      <td>0.999867</td>\n",
       "      <td>5276.668033</td>\n",
       "      <td>1.0</td>\n",
       "      <td>16474.836600</td>\n",
       "      <td>1.0</td>\n",
       "      <td>101.044751</td>\n",
       "      <td>1.293727e+07</td>\n",
       "    </tr>\n",
       "    <tr>\n",
       "      <th>std</th>\n",
       "      <td>2.170741</td>\n",
       "      <td>4.751677</td>\n",
       "      <td>727.331019</td>\n",
       "      <td>5.070314</td>\n",
       "      <td>1.589972</td>\n",
       "      <td>1.399528</td>\n",
       "      <td>4344.018090</td>\n",
       "      <td>0.778952</td>\n",
       "      <td>20.453902</td>\n",
       "      <td>3.973488e+04</td>\n",
       "      <td>...</td>\n",
       "      <td>88.512972</td>\n",
       "      <td>0.064672</td>\n",
       "      <td>322.694074</td>\n",
       "      <td>0.011546</td>\n",
       "      <td>3856.219059</td>\n",
       "      <td>0.0</td>\n",
       "      <td>8998.020659</td>\n",
       "      <td>0.0</td>\n",
       "      <td>80.216061</td>\n",
       "      <td>5.522463e+07</td>\n",
       "    </tr>\n",
       "    <tr>\n",
       "      <th>min</th>\n",
       "      <td>1.000000</td>\n",
       "      <td>3.000000</td>\n",
       "      <td>18112.000000</td>\n",
       "      <td>1.000000</td>\n",
       "      <td>0.000000</td>\n",
       "      <td>0.000000</td>\n",
       "      <td>123.000000</td>\n",
       "      <td>0.000000</td>\n",
       "      <td>0.000000</td>\n",
       "      <td>0.000000e+00</td>\n",
       "      <td>...</td>\n",
       "      <td>0.000000</td>\n",
       "      <td>0.000000</td>\n",
       "      <td>0.000000</td>\n",
       "      <td>0.000000</td>\n",
       "      <td>19.000000</td>\n",
       "      <td>1.0</td>\n",
       "      <td>30.000000</td>\n",
       "      <td>1.0</td>\n",
       "      <td>0.064766</td>\n",
       "      <td>2.261495e+05</td>\n",
       "    </tr>\n",
       "    <tr>\n",
       "      <th>25%</th>\n",
       "      <td>8.000000</td>\n",
       "      <td>7.000000</td>\n",
       "      <td>18892.750000</td>\n",
       "      <td>4.000000</td>\n",
       "      <td>0.000000</td>\n",
       "      <td>2.000000</td>\n",
       "      <td>7186.000000</td>\n",
       "      <td>2.000000</td>\n",
       "      <td>3.738412</td>\n",
       "      <td>2.827238e+04</td>\n",
       "      <td>...</td>\n",
       "      <td>20.000000</td>\n",
       "      <td>1.000000</td>\n",
       "      <td>88.000000</td>\n",
       "      <td>1.000000</td>\n",
       "      <td>2672.000000</td>\n",
       "      <td>1.0</td>\n",
       "      <td>8859.000000</td>\n",
       "      <td>1.0</td>\n",
       "      <td>49.182384</td>\n",
       "      <td>2.433114e+06</td>\n",
       "    </tr>\n",
       "    <tr>\n",
       "      <th>50%</th>\n",
       "      <td>8.000000</td>\n",
       "      <td>12.000000</td>\n",
       "      <td>19527.000000</td>\n",
       "      <td>5.000000</td>\n",
       "      <td>1.000000</td>\n",
       "      <td>2.000000</td>\n",
       "      <td>11507.000000</td>\n",
       "      <td>2.000000</td>\n",
       "      <td>5.758023</td>\n",
       "      <td>4.379195e+04</td>\n",
       "      <td>...</td>\n",
       "      <td>36.000000</td>\n",
       "      <td>1.000000</td>\n",
       "      <td>154.000000</td>\n",
       "      <td>1.000000</td>\n",
       "      <td>3942.000000</td>\n",
       "      <td>1.0</td>\n",
       "      <td>14344.000000</td>\n",
       "      <td>1.0</td>\n",
       "      <td>83.216237</td>\n",
       "      <td>5.240482e+06</td>\n",
       "    </tr>\n",
       "    <tr>\n",
       "      <th>75%</th>\n",
       "      <td>8.000000</td>\n",
       "      <td>13.000000</td>\n",
       "      <td>20125.000000</td>\n",
       "      <td>12.000000</td>\n",
       "      <td>4.000000</td>\n",
       "      <td>2.000000</td>\n",
       "      <td>14519.000000</td>\n",
       "      <td>2.000000</td>\n",
       "      <td>7.180619</td>\n",
       "      <td>6.148857e+04</td>\n",
       "      <td>...</td>\n",
       "      <td>64.000000</td>\n",
       "      <td>1.000000</td>\n",
       "      <td>275.000000</td>\n",
       "      <td>1.000000</td>\n",
       "      <td>6647.000000</td>\n",
       "      <td>1.0</td>\n",
       "      <td>23459.250000</td>\n",
       "      <td>1.0</td>\n",
       "      <td>130.779416</td>\n",
       "      <td>1.123932e+07</td>\n",
       "    </tr>\n",
       "    <tr>\n",
       "      <th>max</th>\n",
       "      <td>11.000000</td>\n",
       "      <td>21.000000</td>\n",
       "      <td>20665.000000</td>\n",
       "      <td>29.000000</td>\n",
       "      <td>4.000000</td>\n",
       "      <td>10.000000</td>\n",
       "      <td>20577.000000</td>\n",
       "      <td>2.000000</td>\n",
       "      <td>967.370868</td>\n",
       "      <td>1.020404e+06</td>\n",
       "      <td>...</td>\n",
       "      <td>1681.000000</td>\n",
       "      <td>1.000000</td>\n",
       "      <td>3463.000000</td>\n",
       "      <td>1.000000</td>\n",
       "      <td>18268.000000</td>\n",
       "      <td>1.0</td>\n",
       "      <td>32908.000000</td>\n",
       "      <td>1.0</td>\n",
       "      <td>1106.382478</td>\n",
       "      <td>5.088279e+09</td>\n",
       "    </tr>\n",
       "  </tbody>\n",
       "</table>\n",
       "<p>8 rows × 234 columns</p>\n",
       "</div>"
      ],
      "text/plain": [
       "       building_material          city        txn_dt   total_floor  \\\n",
       "count       60000.000000  60000.000000  60000.000000  60000.000000   \n",
       "mean            7.267917     11.414533  19488.957917      7.638250   \n",
       "std             2.170741      4.751677    727.331019      5.070314   \n",
       "min             1.000000      3.000000  18112.000000      1.000000   \n",
       "25%             8.000000      7.000000  18892.750000      4.000000   \n",
       "50%             8.000000     12.000000  19527.000000      5.000000   \n",
       "75%             8.000000     13.000000  20125.000000     12.000000   \n",
       "max            11.000000     21.000000  20665.000000     29.000000   \n",
       "\n",
       "       building_type  building_use  building_complete_dt   parking_way  \\\n",
       "count   60000.000000  60000.000000          60000.000000  60000.000000   \n",
       "mean        1.931817      2.319200          11050.437183      1.585700   \n",
       "std         1.589972      1.399528           4344.018090      0.778952   \n",
       "min         0.000000      0.000000            123.000000      0.000000   \n",
       "25%         0.000000      2.000000           7186.000000      2.000000   \n",
       "50%         1.000000      2.000000          11507.000000      2.000000   \n",
       "75%         4.000000      2.000000          14519.000000      2.000000   \n",
       "max         4.000000     10.000000          20577.000000      2.000000   \n",
       "\n",
       "       parking_area  parking_price      ...            XIV_500  XIV_index_500  \\\n",
       "count   3103.000000   1.393500e+04      ...       60000.000000   60000.000000   \n",
       "mean       7.211837   5.025058e+04      ...          60.867700       0.995800   \n",
       "std       20.453902   3.973488e+04      ...          88.512972       0.064672   \n",
       "min        0.000000   0.000000e+00      ...           0.000000       0.000000   \n",
       "25%        3.738412   2.827238e+04      ...          20.000000       1.000000   \n",
       "50%        5.758023   4.379195e+04      ...          36.000000       1.000000   \n",
       "75%        7.180619   6.148857e+04      ...          64.000000       1.000000   \n",
       "max      967.370868   1.020404e+06      ...        1681.000000       1.000000   \n",
       "\n",
       "           XIV_1000  XIV_index_1000      XIV_5000  XIV_index_5000  \\\n",
       "count  60000.000000    60000.000000  60000.000000         60000.0   \n",
       "mean     252.823100        0.999867   5276.668033             1.0   \n",
       "std      322.694074        0.011546   3856.219059             0.0   \n",
       "min        0.000000        0.000000     19.000000             1.0   \n",
       "25%       88.000000        1.000000   2672.000000             1.0   \n",
       "50%      154.000000        1.000000   3942.000000             1.0   \n",
       "75%      275.000000        1.000000   6647.000000             1.0   \n",
       "max     3463.000000        1.000000  18268.000000             1.0   \n",
       "\n",
       "          XIV_10000  XIV_index_10000       XIV_MIN   total_price  \n",
       "count  60000.000000          60000.0  60000.000000  6.000000e+04  \n",
       "mean   16474.836600              1.0    101.044751  1.293727e+07  \n",
       "std     8998.020659              0.0     80.216061  5.522463e+07  \n",
       "min       30.000000              1.0      0.064766  2.261495e+05  \n",
       "25%     8859.000000              1.0     49.182384  2.433114e+06  \n",
       "50%    14344.000000              1.0     83.216237  5.240482e+06  \n",
       "75%    23459.250000              1.0    130.779416  1.123932e+07  \n",
       "max    32908.000000              1.0   1106.382478  5.088279e+09  \n",
       "\n",
       "[8 rows x 234 columns]"
      ]
     },
     "execution_count": 161,
     "metadata": {},
     "output_type": "execute_result"
    }
   ],
   "source": [
    "# 瞭解資料的分佈情況\n",
    "train.describe()"
   ]
  },
  {
   "cell_type": "code",
   "execution_count": 162,
   "metadata": {},
   "outputs": [],
   "source": [
    "#train.max(axis = 0) "
   ]
  },
  {
   "cell_type": "markdown",
   "metadata": {},
   "source": [
    "## EDA (Drop Outlier)"
   ]
  },
  {
   "cell_type": "code",
   "execution_count": 163,
   "metadata": {},
   "outputs": [],
   "source": [
    "# 描述data數值型態的統計資訊（個數、平均、標準差、最小值、\n",
    "#                           第一四分位數、第二四分位數、第三四分位數\n",
    "#                           、最大值）\n",
    "#print(f\"numerical feature: {train['Utilities'].describe().shape}\")\n",
    "      \n"
   ]
  },
  {
   "cell_type": "code",
   "execution_count": 164,
   "metadata": {},
   "outputs": [],
   "source": [
    "## EDA (Drop Outlier)"
   ]
  },
  {
   "cell_type": "code",
   "execution_count": null,
   "metadata": {},
   "outputs": [],
   "source": []
  },
  {
   "cell_type": "code",
   "execution_count": 165,
   "metadata": {},
   "outputs": [
    {
     "name": "stdout",
     "output_type": "stream",
     "text": [
      "354      4.038301e+08\n",
      "860      3.142567e+08\n",
      "928      3.314969e+08\n",
      "2088     7.438093e+08\n",
      "2138     4.357039e+09\n",
      "2189     3.214321e+08\n",
      "2200     3.422027e+08\n",
      "2317     3.378167e+09\n",
      "2570     4.318196e+08\n",
      "3148     3.069626e+08\n",
      "3568     3.571982e+08\n",
      "3613     3.974023e+08\n",
      "3758     3.861433e+08\n",
      "4660     3.630001e+08\n",
      "4874     3.000692e+08\n",
      "5346     4.049680e+08\n",
      "5672     1.145063e+09\n",
      "7085     4.831871e+08\n",
      "7117     4.513482e+08\n",
      "8050     3.066859e+08\n",
      "8083     4.435022e+08\n",
      "8191     3.422027e+08\n",
      "8340     8.386713e+08\n",
      "8449     4.240891e+08\n",
      "8855     4.240891e+08\n",
      "8953     3.314969e+08\n",
      "9491     2.038068e+09\n",
      "9747     3.214321e+08\n",
      "9785     4.213560e+08\n",
      "10357    3.494027e+08\n",
      "             ...     \n",
      "50580    3.457965e+08\n",
      "51169    3.314969e+08\n",
      "51324    6.978210e+08\n",
      "51349    1.091819e+09\n",
      "51906    1.065516e+09\n",
      "51936    3.861433e+08\n",
      "52175    6.528219e+08\n",
      "52343    4.240891e+08\n",
      "52733    1.091819e+09\n",
      "53219    3.422027e+08\n",
      "53345    5.658819e+08\n",
      "53739    3.861433e+08\n",
      "53844    5.448018e+08\n",
      "53966    1.721746e+09\n",
      "54016    7.671678e+08\n",
      "55200    4.961240e+08\n",
      "55450    4.435022e+08\n",
      "56468    3.139081e+08\n",
      "56587    4.831871e+08\n",
      "56602    7.907659e+08\n",
      "56983    4.435022e+08\n",
      "57037    5.448018e+08\n",
      "57194    4.049680e+08\n",
      "57253    3.936373e+08\n",
      "58146    3.676199e+08\n",
      "58278    1.039427e+09\n",
      "58335    5.574178e+08\n",
      "58858    3.378167e+09\n",
      "59398    1.091819e+09\n",
      "59456    4.240891e+08\n",
      "Name: total_price, Length: 153, dtype: float64\n"
     ]
    }
   ],
   "source": [
    "# drop掉離群值\n",
    "#https://www.kaggle.com/agehsbarg/top-10-0-10943-stacking-mice-and-brutal-force\n",
    "\n",
    "print( train[(train['total_price']>300000000) ].total_price )"
   ]
  },
  {
   "cell_type": "code",
   "execution_count": 166,
   "metadata": {},
   "outputs": [],
   "source": [
    "#print( train[(train['total_price']<1000000) ].total_price )"
   ]
  },
  {
   "cell_type": "code",
   "execution_count": 167,
   "metadata": {},
   "outputs": [
    {
     "name": "stderr",
     "output_type": "stream",
     "text": [
      "/opt/conda/lib/python3.6/site-packages/scipy/stats/stats.py:1713: FutureWarning: Using a non-tuple sequence for multidimensional indexing is deprecated; use `arr[tuple(seq)]` instead of `arr[seq]`. In the future this will be interpreted as an array index, `arr[np.array(seq)]`, which will result either in an error or a different result.\n",
      "  return np.add.reduce(sorted[indexer] * weights, axis=axis) / sumval\n"
     ]
    },
    {
     "data": {
      "text/plain": [
       "<matplotlib.axes._subplots.AxesSubplot at 0x7f1c412ed9b0>"
      ]
     },
     "execution_count": 167,
     "metadata": {},
     "output_type": "execute_result"
    },
    {
     "data": {
      "image/png": "[encoded data removed]",
      "text/plain": [
       "<Figure size 432x288 with 1 Axes>"
      ]
     },
     "metadata": {
      "needs_background": "light"
     },
     "output_type": "display_data"
    }
   ],
   "source": [
    "#價錢的分佈\n",
    "#價錢的分佈\n",
    "sns.distplot(train[(train['total_price']<300000000)].total_price )"
   ]
  },
  {
   "cell_type": "code",
   "execution_count": 168,
   "metadata": {},
   "outputs": [
    {
     "name": "stderr",
     "output_type": "stream",
     "text": [
      "/opt/conda/lib/python3.6/site-packages/scipy/stats/stats.py:1713: FutureWarning: Using a non-tuple sequence for multidimensional indexing is deprecated; use `arr[tuple(seq)]` instead of `arr[seq]`. In the future this will be interpreted as an array index, `arr[np.array(seq)]`, which will result either in an error or a different result.\n",
      "  return np.add.reduce(sorted[indexer] * weights, axis=axis) / sumval\n"
     ]
    },
    {
     "data": {
      "text/plain": [
       "<matplotlib.axes._subplots.AxesSubplot at 0x7f1c40f23278>"
      ]
     },
     "execution_count": 168,
     "metadata": {},
     "output_type": "execute_result"
    },
    {
     "data": {
      "image/png": "[encoded data removed]",
      "text/plain": [
       "<Figure size 432x288 with 1 Axes>"
      ]
     },
     "metadata": {
      "needs_background": "light"
     },
     "output_type": "display_data"
    }
   ],
   "source": [
    "# 一些右偏分佈的 feature，可透過取 log 將其轉為常態分佈\n",
    "sns.distplot(np.log(train[(train['total_price']<300000000)].total_price))"
   ]
  },
  {
   "cell_type": "code",
   "execution_count": 169,
   "metadata": {},
   "outputs": [],
   "source": [
    "train = train.drop( labels = train[  (train['total_price']>300000000) ].index, axis = 0 )"
   ]
  },
  {
   "cell_type": "code",
   "execution_count": 170,
   "metadata": {},
   "outputs": [
    {
     "name": "stderr",
     "output_type": "stream",
     "text": [
      "/opt/conda/lib/python3.6/site-packages/scipy/stats/stats.py:1713: FutureWarning: Using a non-tuple sequence for multidimensional indexing is deprecated; use `arr[tuple(seq)]` instead of `arr[seq]`. In the future this will be interpreted as an array index, `arr[np.array(seq)]`, which will result either in an error or a different result.\n",
      "  return np.add.reduce(sorted[indexer] * weights, axis=axis) / sumval\n"
     ]
    },
    {
     "data": {
      "text/plain": [
       "<matplotlib.axes._subplots.AxesSubplot at 0x7f1c2cfc7a90>"
      ]
     },
     "execution_count": 170,
     "metadata": {},
     "output_type": "execute_result"
    },
    {
     "data": {
      "image/png": "[encoded data removed]",
      "text/plain": [
       "<Figure size 432x288 with 1 Axes>"
      ]
     },
     "metadata": {
      "needs_background": "light"
     },
     "output_type": "display_data"
    }
   ],
   "source": [
    "#價錢的分佈\n",
    "sns.distplot(train.total_price)"
   ]
  },
  {
   "cell_type": "code",
   "execution_count": 171,
   "metadata": {},
   "outputs": [
    {
     "data": {
      "text/plain": [
       "(59847, 235)"
      ]
     },
     "execution_count": 171,
     "metadata": {},
     "output_type": "execute_result"
    }
   ],
   "source": [
    "train.shape"
   ]
  },
  {
   "cell_type": "code",
   "execution_count": 172,
   "metadata": {},
   "outputs": [
    {
     "data": {
      "text/plain": [
       "Text(0,0.5,'total_price')"
      ]
     },
     "execution_count": 172,
     "metadata": {},
     "output_type": "execute_result"
    },
    {
     "data": {
      "image/png": "[encoded data removed]",
      "text/plain": [
       "<Figure size 432x288 with 1 Axes>"
      ]
     },
     "metadata": {
      "needs_background": "light"
     },
     "output_type": "display_data"
    }
   ],
   "source": [
    "#價錢的分佈\n",
    "#building_complete_dt>=1600\n",
    "#parking_price >800000\n",
    "#building_area>800\n",
    "#parking_area>800\n",
    "#land_area >=3000\n",
    "#town_population remove\n",
    "#village_income_median remove\n",
    "#town_area remove\n",
    "\n",
    "plt.plot(train.parking_way, train.total_price, '.' )\n",
    "plt.xlabel('building_use')\n",
    "plt.ylabel('total_price')\n",
    "#print( df_train[ df_train.XIV_5000 > 4000 ].total_price ) #中刮號放條件"
   ]
  },
  {
   "cell_type": "code",
   "execution_count": 173,
   "metadata": {},
   "outputs": [
    {
     "name": "stdout",
     "output_type": "stream",
     "text": [
      "7814     3698.578703\n",
      "10670    5533.304995\n",
      "11170    1348.177475\n",
      "13332    2610.666519\n",
      "14007    2039.700590\n",
      "16838    1247.345561\n",
      "23399    1006.214497\n",
      "29570    1071.162596\n",
      "36482    1420.064267\n",
      "37526    1106.832494\n",
      "44123    1213.194703\n",
      "59506    1213.194703\n",
      "Name: land_area, dtype: float64\n"
     ]
    },
    {
     "data": {
      "text/plain": [
       "(59835, 235)"
      ]
     },
     "execution_count": 173,
     "metadata": {},
     "output_type": "execute_result"
    },
    {
     "data": {
      "image/png": "[encoded data removed]",
      "text/plain": [
       "<Figure size 432x288 with 1 Axes>"
      ]
     },
     "metadata": {
      "needs_background": "light"
     },
     "output_type": "display_data"
    }
   ],
   "source": [
    "print( train[(train['land_area']>1000) ].land_area )\n",
    "#太過於分散了，要drop欄位\n",
    "train = train.drop( labels = train[  (train['land_area']>1000) ].index, axis = 0 )\n",
    "#sns.distplot(train.land_area)\n",
    "plt.plot(train.land_area, train.total_price, '.' )\n",
    "plt.xlabel('land_area')\n",
    "plt.ylabel('total_price')\n",
    "train.shape"
   ]
  },
  {
   "cell_type": "code",
   "execution_count": 174,
   "metadata": {},
   "outputs": [
    {
     "name": "stdout",
     "output_type": "stream",
     "text": [
      "1351     3.269609e+05\n",
      "8795     9.702438e+05\n",
      "51731    3.837894e+05\n",
      "55472    1.020404e+06\n",
      "Name: parking_price, dtype: float64\n"
     ]
    },
    {
     "data": {
      "text/plain": [
       "(59831, 235)"
      ]
     },
     "execution_count": 174,
     "metadata": {},
     "output_type": "execute_result"
    },
    {
     "data": {
      "image/png": "[encoded data removed]",
      "text/plain": [
       "<Figure size 432x288 with 1 Axes>"
      ]
     },
     "metadata": {
      "needs_background": "light"
     },
     "output_type": "display_data"
    }
   ],
   "source": [
    "#train['parking_price'] = train['parking_price'].fillna(train['parking_price'].mode()[0])\n",
    "\n",
    "print( train[(train['parking_price']>300000) ].parking_price )\n",
    "#df_all['parking_price'] = df_all['parking_price'].apply(int)\n",
    "train = train.drop( labels = train[  (train['parking_price']>300000) ].index, axis = 0 )\n",
    "#sns.distplot(train.parking_price)\n",
    "plt.plot(train.parking_price, train.total_price, '.' )\n",
    "plt.xlabel('parking_price')\n",
    "plt.ylabel('total_price')\n",
    "train.shape"
   ]
  },
  {
   "cell_type": "code",
   "execution_count": 175,
   "metadata": {},
   "outputs": [
    {
     "name": "stdout",
     "output_type": "stream",
     "text": [
      "4339      90.209853\n",
      "5264      47.384670\n",
      "7478      40.432080\n",
      "30232     61.822600\n",
      "32015     41.413400\n",
      "34198     44.381528\n",
      "38617    967.370868\n",
      "38992     83.497319\n",
      "43976     40.432080\n",
      "45886     40.432080\n",
      "47253     84.609760\n",
      "48351     40.432080\n",
      "57996     40.432080\n",
      "Name: parking_area, dtype: float64\n"
     ]
    },
    {
     "data": {
      "text/plain": [
       "(59818, 235)"
      ]
     },
     "execution_count": 175,
     "metadata": {},
     "output_type": "execute_result"
    },
    {
     "data": {
      "image/png": "[encoded data removed]",
      "text/plain": [
       "<Figure size 432x288 with 1 Axes>"
      ]
     },
     "metadata": {
      "needs_background": "light"
     },
     "output_type": "display_data"
    }
   ],
   "source": [
    "#train['parking_area'] = train['parking_area'].fillna(0)#train['parking_area'].mode()[0])\n",
    "print( train[(train['parking_area']>40) ].parking_area )\n",
    "train = train.drop( labels = train[  (train['parking_area']>40) ].index, axis = 0 )\n",
    "#sns.distplot(train.parking_area)\n",
    "plt.plot(train.parking_area, train.total_price, '.' )\n",
    "plt.xlabel('parking_price')\n",
    "plt.ylabel('total_price')\n",
    "train.shape"
   ]
  },
  {
   "cell_type": "code",
   "execution_count": 176,
   "metadata": {},
   "outputs": [
    {
     "name": "stdout",
     "output_type": "stream",
     "text": [
      "18493    384.889444\n",
      "18748    566.505953\n",
      "21231    693.750804\n",
      "23605    913.610349\n",
      "26014    693.750804\n",
      "26767    589.808827\n",
      "29104    913.610349\n",
      "35075    320.288104\n",
      "43567    384.889444\n",
      "44963    718.903165\n",
      "50098    320.288104\n",
      "51410    416.941144\n",
      "52777    384.889444\n",
      "54632    348.585199\n",
      "57691    418.845282\n",
      "Name: building_area, dtype: float64\n"
     ]
    },
    {
     "data": {
      "text/plain": [
       "Text(0,0.5,'total_price')"
      ]
     },
     "execution_count": 176,
     "metadata": {},
     "output_type": "execute_result"
    },
    {
     "data": {
      "image/png": "[encoded data removed]",
      "text/plain": [
       "<Figure size 432x288 with 1 Axes>"
      ]
     },
     "metadata": {
      "needs_background": "light"
     },
     "output_type": "display_data"
    }
   ],
   "source": [
    "#train['building_area'] = train['building_area'].fillna(train['building_area'].mode()[0])\n",
    "\n",
    "print( train[(train['building_area']>300) ].building_area )\n",
    "train = train.drop( labels = train[  (train['building_area']>300) ].index, axis = 0 )\n",
    "#sns.distplot(train.building_area)\n",
    "plt.plot(train.building_area, train.total_price, '.' )\n",
    "plt.xlabel('building_area')\n",
    "plt.ylabel('total_price')"
   ]
  },
  {
   "cell_type": "code",
   "execution_count": 177,
   "metadata": {},
   "outputs": [
    {
     "data": {
      "text/plain": [
       "(59803, 235)"
      ]
     },
     "execution_count": 177,
     "metadata": {},
     "output_type": "execute_result"
    }
   ],
   "source": [
    "train.shape"
   ]
  },
  {
   "cell_type": "code",
   "execution_count": 178,
   "metadata": {},
   "outputs": [],
   "source": [
    "#train = train.drop([ 'parking_area'], axis=1, inplace=True)"
   ]
  },
  {
   "cell_type": "code",
   "execution_count": 179,
   "metadata": {},
   "outputs": [
    {
     "data": {
      "text/plain": [
       "Index(['building_material', 'city', 'txn_dt', 'total_floor', 'building_type',\n",
       "       'building_use', 'building_complete_dt', 'parking_way', 'parking_area',\n",
       "       'parking_price',\n",
       "       ...\n",
       "       'XIV_500', 'XIV_index_500', 'XIV_1000', 'XIV_index_1000', 'XIV_5000',\n",
       "       'XIV_index_5000', 'XIV_10000', 'XIV_index_10000', 'XIV_MIN',\n",
       "       'total_price'],\n",
       "      dtype='object', length=234)"
      ]
     },
     "execution_count": 179,
     "metadata": {},
     "output_type": "execute_result"
    }
   ],
   "source": [
    "#取得數值型態的欄位\n",
    "#取得數值型態欄位\n",
    "numeric_data = train._get_numeric_data()\n",
    "numeric_data.columns"
   ]
  },
  {
   "cell_type": "markdown",
   "metadata": {},
   "source": [
    "## sketch pics\n"
   ]
  },
  {
   "cell_type": "code",
   "execution_count": 180,
   "metadata": {},
   "outputs": [],
   "source": [
    "# drop掉每個欄位的NA值並劃出其分布\n",
    "#for i in numeric_data:\n",
    "#    temp = train[i].dropna()\n",
    "#    print(f\"there are {train[i].shape[0] - temp.shape[0]} NaN in {i}\")\n",
    "#    sns.distplot(temp) \n",
    "    #plt.show()"
   ]
  },
  {
   "cell_type": "markdown",
   "metadata": {},
   "source": [
    "## Drop Null Feature(s)"
   ]
  },
  {
   "cell_type": "code",
   "execution_count": 181,
   "metadata": {},
   "outputs": [],
   "source": [
    "#df_all = pd.concat( [ train.drop( [ 'Id', 'SalePrice' ], axis = 1 ),\n",
    "#                      test.drop( [ 'Id' ], axis = 1 ) ],\n",
    "#                      axis = 0, ignore_index = False )\n",
    "df_all = pd.concat([train.drop('total_price', axis=1), test], keys=['train', 'test'])\n",
    "trainID=df_all['building_id']\n",
    "trainPrice=train['total_price']\n",
    "df_all.drop(['building_id'], axis=1, inplace=True)"
   ]
  },
  {
   "cell_type": "code",
   "execution_count": 182,
   "metadata": {},
   "outputs": [
    {
     "data": {
      "text/plain": [
       "(69803,)"
      ]
     },
     "execution_count": 182,
     "metadata": {},
     "output_type": "execute_result"
    }
   ],
   "source": [
    "trainID.shape"
   ]
  },
  {
   "cell_type": "code",
   "execution_count": 183,
   "metadata": {},
   "outputs": [],
   "source": [
    "# check null status\n",
    "#print( df_all.shape )\n",
    "#df_na = df_all.select_dtypes( exclude = [ 'object' ] ).isnull().sum()\n",
    "#print( df_na[ df_na > 100 ].sort_values(ascending=False) )"
   ]
  },
  {
   "cell_type": "code",
   "execution_count": 184,
   "metadata": {},
   "outputs": [],
   "source": [
    "# drop掉大多為Null的欄位\n",
    "#df_all = df_all.drop(['parking_area'], axis = 1) # for 486 null values (train + test)\n",
    "#print( df_all.shape )"
   ]
  },
  {
   "cell_type": "code",
   "execution_count": null,
   "metadata": {},
   "outputs": [],
   "source": []
  },
  {
   "cell_type": "code",
   "execution_count": 185,
   "metadata": {},
   "outputs": [
    {
     "name": "stdout",
     "output_type": "stream",
     "text": [
      "(69803, 232)\n"
     ]
    }
   ],
   "source": [
    "# drop掉大多為Null的欄位\n",
    "df_all = df_all.drop(['land_area'], axis = 1) #\n",
    "print(df_all.shape)"
   ]
  },
  {
   "cell_type": "code",
   "execution_count": 186,
   "metadata": {},
   "outputs": [],
   "source": [
    "# drop掉大多為Null的欄位\n",
    "#df_all = df_all.drop(['parking_way'], axis = 1) #\n",
    "#print(df_all.shape)"
   ]
  },
  {
   "cell_type": "code",
   "execution_count": 187,
   "metadata": {},
   "outputs": [],
   "source": [
    "import math\n",
    "def QualToZero(x):\n",
    "    #if(math.isnan(x)):\n",
    "    #    return 0\n",
    "    if(x==0):\n",
    "        return 1\n",
    "    if(x==1):\n",
    "        return 2\n",
    "    if(x==2):\n",
    "        return 0\n",
    "    return x\n",
    "\n",
    "df_all['parking_way'] = df_all['parking_way'].apply(QualToZero)"
   ]
  },
  {
   "cell_type": "code",
   "execution_count": 188,
   "metadata": {},
   "outputs": [],
   "source": [
    "df_all[\"parking_area\"] = df_all[(df_all['parking_way']==0)][\"parking_area\"].fillna(0)#df_all['parking_area'].mode()[0])\n",
    "\n"
   ]
  },
  {
   "cell_type": "code",
   "execution_count": 189,
   "metadata": {},
   "outputs": [
    {
     "name": "stderr",
     "output_type": "stream",
     "text": [
      "/opt/conda/lib/python3.6/site-packages/numpy/lib/nanfunctions.py:1019: RuntimeWarning: Mean of empty slice\n",
      "  return np.nanmean(a, axis, out=out, keepdims=keepdims)\n"
     ]
    }
   ],
   "source": [
    "\n",
    "#df_all[\"parking_area\"] = df_all[(df_all['building_area'].isna()) ].fillna(df_all['parking_area'].median()[0])\n",
    "\n",
    "#df_all[\"parking_area\"]  = df_all.groupby(\"city\")[\"parking_area\"].transform(lambda x: x.fillna(x.median()))\n",
    "#df_all[\"parking_price\"]  = df_all.groupby(\"city\")[\"parking_price\"].transform(lambda x: x.fillna(x.median()))\n",
    "df_all[\"parking_area\"] = df_all[(df_all['parking_way']==0)][\"parking_area\"].fillna(0)#df_all['parking_area'].mode()[0])\n",
    "df_all[\"parking_area\"] = df_all[(df_all['parking_way']==1)][\"parking_area\"].fillna(df_all[(df_all['parking_way']==1)]['parking_area'].median())\n",
    "df_all[\"parking_area\"] = df_all[(df_all['parking_way']==2)][\"parking_area\"].fillna(df_all[(df_all['parking_way']==2)]['parking_area'].median())\n",
    "\n",
    "\n",
    "\n",
    "df_all['parking_price'] = df_all[(df_all['parking_way']==0)]['parking_price'].fillna(0)\n",
    "df_all['parking_price'] = df_all[(df_all['parking_way']==1)]['parking_price'].fillna(df_all[(df_all['parking_way']==1)]['parking_price'].median())\n",
    "df_all['parking_price'] = df_all[(df_all['parking_way']==2)]['parking_price'].fillna(df_all[(df_all['parking_way']==1)]['parking_price'].median())\n",
    "\n",
    "#df_all['building_area'] = df_all['building_area'].fillna(df_all['building_area'].mode()[0])\n",
    "\n",
    "df_all['village_income_median'] = df_all.groupby(\"city\")[\"village_income_median\"].transform(lambda x: x.fillna(x.mode()))\n",
    "#df_all['village_income_median'] = df_all['village_income_median'].fillna(df_all['village_income_median'].mode()[0])\n",
    "#df_all['txn_floor'] = df_all.groupby(\"city\")[\"txn_floor\"].transform(lambda x: x.fillna(x.mode()))\n",
    "\n",
    "#\n",
    "#df_all[\"parking_price\"] = df_all.groupby(\"city\")[\"parking_price\"].transform(lambda x: x.fillna(x.mean()))\n",
    "df_all[\"txn_floor\"] = df_all.groupby(\"city\")[\"txn_floor\"].transform(lambda x: x.fillna(x.mode()))\n",
    "#df_all['txn_floor'] = df_all['txn_floor'].fillna(df_all['txn_floor'].mode()[0])    \n",
    "\n",
    "#df_all[\"LotFrontage\"] = df_all.groupby(\"BldgType\")[\"LotFrontage\"].transform(lambda x: x.fillna(x.median()))\n",
    "#df_all['LotFrontage'] = df_all['LotFrontage'].apply(lambda x: np.exp(4.2) if x <= 0.0 else x)\n",
    "#df_all['MasVnrArea'] = df_all['MasVnrArea'].apply(lambda x: np.exp(4) if x <= 0.0 else x)\n",
    "#df_all['BsmtFinSF1'] = df_all['BsmtFinSF1'].apply(lambda x: np.exp(6.5) if x <= 0.0 else x)"
   ]
  },
  {
   "cell_type": "code",
   "execution_count": 190,
   "metadata": {},
   "outputs": [
    {
     "data": {
      "text/plain": [
       "Text(0,0.5,'total_price')"
      ]
     },
     "execution_count": 190,
     "metadata": {},
     "output_type": "execute_result"
    },
    {
     "data": {
      "image/png": "[encoded data removed]",
      "text/plain": [
       "<Figure size 432x288 with 1 Axes>"
      ]
     },
     "metadata": {
      "needs_background": "light"
     },
     "output_type": "display_data"
    }
   ],
   "source": [
    "plt.plot(train.parking_area, train.total_price, '.' )\n",
    "plt.xlabel('parking_area')\n",
    "plt.ylabel('total_price')"
   ]
  },
  {
   "cell_type": "code",
   "execution_count": 191,
   "metadata": {},
   "outputs": [
    {
     "data": {
      "text/plain": [
       "Text(0,0.5,'total_price')"
      ]
     },
     "execution_count": 191,
     "metadata": {},
     "output_type": "execute_result"
    },
    {
     "data": {
      "image/png": "[encoded data removed]",
      "text/plain": [
       "<Figure size 432x288 with 1 Axes>"
      ]
     },
     "metadata": {
      "needs_background": "light"
     },
     "output_type": "display_data"
    }
   ],
   "source": [
    "plt.plot(train.parking_price, train.total_price, '.' )\n",
    "plt.xlabel('parking_price')\n",
    "plt.ylabel('total_price')"
   ]
  },
  {
   "cell_type": "code",
   "execution_count": 192,
   "metadata": {},
   "outputs": [
    {
     "data": {
      "text/plain": [
       "Text(0,0.5,'total_price')"
      ]
     },
     "execution_count": 192,
     "metadata": {},
     "output_type": "execute_result"
    },
    {
     "data": {
      "image/png": "[encoded data removed]",
      "text/plain": [
       "<Figure size 432x288 with 1 Axes>"
      ]
     },
     "metadata": {
      "needs_background": "light"
     },
     "output_type": "display_data"
    }
   ],
   "source": [
    "plt.plot(train.village_income_median, train.total_price, '.' )\n",
    "plt.xlabel('village_income_median')\n",
    "plt.ylabel('total_price')"
   ]
  },
  {
   "cell_type": "code",
   "execution_count": 193,
   "metadata": {},
   "outputs": [
    {
     "data": {
      "text/plain": [
       "Text(0,0.5,'total_price')"
      ]
     },
     "execution_count": 193,
     "metadata": {},
     "output_type": "execute_result"
    },
    {
     "data": {
      "image/png": "[encoded data removed]",
      "text/plain": [
       "<Figure size 432x288 with 1 Axes>"
      ]
     },
     "metadata": {
      "needs_background": "light"
     },
     "output_type": "display_data"
    }
   ],
   "source": [
    "plt.plot(train.txn_floor, train.total_price, '.' )\n",
    "plt.xlabel('txn_floor')\n",
    "plt.ylabel('total_price')"
   ]
  },
  {
   "cell_type": "code",
   "execution_count": 194,
   "metadata": {},
   "outputs": [],
   "source": [
    "# Working with ordinal predictors\n",
    "def QualToInt(x):\n",
    "    if(x=='Ex'):\n",
    "        r = 0\n",
    "    elif(x=='Gd'):\n",
    "        r = 1\n",
    "    elif(x=='TA'):\n",
    "        r = 2\n",
    "    elif(x=='Fa'):\n",
    "        r = 3\n",
    "    elif(x=='missing'):\n",
    "        r = 4\n",
    "    else:\n",
    "        r = 5\n",
    "    return r\n",
    "\n",
    "#df_all['ExterQual'] = df_all['ExterQual'].apply(QualToInt)"
   ]
  },
  {
   "cell_type": "code",
   "execution_count": null,
   "metadata": {},
   "outputs": [],
   "source": []
  },
  {
   "cell_type": "code",
   "execution_count": 195,
   "metadata": {},
   "outputs": [
    {
     "data": {
      "text/plain": [
       "<matplotlib.axes._subplots.AxesSubplot at 0x7f1c205a0f60>"
      ]
     },
     "execution_count": 195,
     "metadata": {},
     "output_type": "execute_result"
    },
    {
     "data": {
      "image/png": "[encoded data removed]",
      "text/plain": [
       "<Figure size 1080x720 with 2 Axes>"
      ]
     },
     "metadata": {
      "needs_background": "light"
     },
     "output_type": "display_data"
    }
   ],
   "source": [
    "## Numerical to Categorical\n",
    "# 嘗試不同的顏色\"Spectral\"：\n",
    "corr_matrix=df_all.corr().abs()\n",
    "plt.subplots(figsize=(15,10))\n",
    "sns.heatmap(corr_matrix,cmap='Spectral')"
   ]
  },
  {
   "cell_type": "markdown",
   "metadata": {},
   "source": [
    "## Numerical to Categorical"
   ]
  },
  {
   "cell_type": "code",
   "execution_count": 196,
   "metadata": {},
   "outputs": [],
   "source": [
    "# df_train[['OverallCond', 'SalePrice']].groupby(['OverallCond']).agg({'SalePrice':'median', 'OverallCond':'count'}).sort_values(by='SalePrice', ascending=False)\n",
    "#train[['MSSubClass', 'SalePrice']].groupby(['MSSubClass']).agg({'SalePrice':'median', 'MSSubClass':'count'}).sort_values(by='SalePrice', ascending=False)"
   ]
  },
  {
   "cell_type": "code",
   "execution_count": 197,
   "metadata": {},
   "outputs": [],
   "source": [
    "# It helps to transform some numerical features to categorical\n",
    "#df_all.YearBuilt = df_all.YearBuilt.astype ( str )"
   ]
  },
  {
   "cell_type": "code",
   "execution_count": 198,
   "metadata": {},
   "outputs": [
    {
     "name": "stdout",
     "output_type": "stream",
     "text": [
      "building_material           -2.506124\n",
      "city                         0.722985\n",
      "txn_dt                      -0.158829\n",
      "total_floor                  1.104158\n",
      "building_type                0.116337\n",
      "building_use                 3.594980\n",
      "building_complete_dt        -0.029036\n",
      "parking_way                  1.833060\n",
      "parking_area                      NaN\n",
      "parking_price                     NaN\n",
      "txn_floor                    1.353766\n",
      "building_area              120.268834\n",
      "town                         0.296283\n",
      "lat                         -1.215566\n",
      "lon                         -0.760107\n",
      "village_income_median        2.815278\n",
      "town_population              0.644876\n",
      "town_area                    1.987735\n",
      "town_population_density      0.769879\n",
      "doc_rate                     1.502881\n",
      "master_rate                  1.442493\n",
      "bachelor_rate                1.227539\n",
      "jobschool_rate              -0.015703\n",
      "highschool_rate             -1.105385\n",
      "junior_rate                 -1.145378\n",
      "elementary_rate              0.850523\n",
      "born_rate                    0.474246\n",
      "death_rate                   1.545431\n",
      "marriage_rate                0.012389\n",
      "divorce_rate                -0.268783\n",
      "                              ...    \n",
      "XII_index_10000              0.000000\n",
      "XII_MIN                      7.848590\n",
      "XIII_10                     27.439078\n",
      "XIII_50                     18.469933\n",
      "XIII_index_50                3.673795\n",
      "XIII_100                    16.417961\n",
      "XIII_250                    12.108243\n",
      "XIII_500                     6.457889\n",
      "XIII_index_500              -0.905082\n",
      "XIII_1000                    2.454618\n",
      "XIII_index_1000             -2.025100\n",
      "XIII_5000                    1.091098\n",
      "XIII_index_5000             -7.419006\n",
      "XIII_10000                   0.496670\n",
      "XIII_index_10000           -13.496639\n",
      "XIII_MIN                     7.574350\n",
      "XIV_10                       8.707998\n",
      "XIV_50                       9.760559\n",
      "XIV_index_50                 1.120475\n",
      "XIV_100                      9.848397\n",
      "XIV_250                      7.422089\n",
      "XIV_500                      5.110381\n",
      "XIV_index_500              -15.180881\n",
      "XIV_1000                     3.653266\n",
      "XIV_index_1000             -83.530235\n",
      "XIV_5000                     1.188039\n",
      "XIV_index_5000               0.000000\n",
      "XIV_10000                    0.292719\n",
      "XIV_index_10000              0.000000\n",
      "XIV_MIN                      2.705603\n",
      "Length: 232, dtype: float64\n"
     ]
    }
   ],
   "source": [
    "# handle skewness\n",
    "train.total_price = np.log( train.total_price )\n",
    "# exclude object型態的欄位\n",
    "num_feats = df_all.select_dtypes( exclude = [ 'object' ] ).columns\n",
    "# na drop should be done series by series\n",
    "# apply function>>幫助我們算出偏差系數\n",
    "skewed_feats = df_all[ num_feats ].apply( func = lambda s: skew(s.dropna()), axis = 0 )\n",
    "print(skewed_feats)\n",
    "# 選出dataframe大於0.75的人\n",
    "skewed_feats = skewed_feats[ skewed_feats > 0.75 ].index\n",
    "# print(skewed_feats)\n",
    "# 把大於0.75的要作正規化，變成常態分配\n",
    "# np.log1p是log(1+x), 若直接取log會有log0的問題\n",
    "df_all[ skewed_feats ] = np.log1p( df_all[ skewed_feats ] )\n",
    "\n"
   ]
  },
  {
   "cell_type": "code",
   "execution_count": 199,
   "metadata": {},
   "outputs": [
    {
     "data": {
      "text/plain": [
       "(69803, 232)"
      ]
     },
     "execution_count": 199,
     "metadata": {},
     "output_type": "execute_result"
    }
   ],
   "source": [
    "#df_all.describe(include = \"O\")\n",
    "df_all.shape"
   ]
  },
  {
   "cell_type": "markdown",
   "metadata": {},
   "source": [
    "## One-Hot Encoding"
   ]
  },
  {
   "cell_type": "code",
   "execution_count": 200,
   "metadata": {},
   "outputs": [
    {
     "data": {
      "text/html": [
       "<div>\n",
       "<style scoped>\n",
       "    .dataframe tbody tr th:only-of-type {\n",
       "        vertical-align: middle;\n",
       "    }\n",
       "\n",
       "    .dataframe tbody tr th {\n",
       "        vertical-align: top;\n",
       "    }\n",
       "\n",
       "    .dataframe thead th {\n",
       "        text-align: right;\n",
       "    }\n",
       "</style>\n",
       "<table border=\"1\" class=\"dataframe\">\n",
       "  <thead>\n",
       "    <tr style=\"text-align: right;\">\n",
       "      <th></th>\n",
       "      <th></th>\n",
       "      <th>building_material</th>\n",
       "      <th>city</th>\n",
       "      <th>txn_dt</th>\n",
       "      <th>total_floor</th>\n",
       "      <th>building_type</th>\n",
       "      <th>building_use</th>\n",
       "      <th>building_complete_dt</th>\n",
       "      <th>parking_way</th>\n",
       "      <th>parking_area</th>\n",
       "      <th>parking_price</th>\n",
       "      <th>...</th>\n",
       "      <th>XIV_250</th>\n",
       "      <th>XIV_500</th>\n",
       "      <th>XIV_index_500</th>\n",
       "      <th>XIV_1000</th>\n",
       "      <th>XIV_index_1000</th>\n",
       "      <th>XIV_5000</th>\n",
       "      <th>XIV_index_5000</th>\n",
       "      <th>XIV_10000</th>\n",
       "      <th>XIV_index_10000</th>\n",
       "      <th>XIV_MIN</th>\n",
       "    </tr>\n",
       "  </thead>\n",
       "  <tbody>\n",
       "    <tr>\n",
       "      <th rowspan=\"5\" valign=\"top\">train</th>\n",
       "      <th>0</th>\n",
       "      <td>8</td>\n",
       "      <td>21</td>\n",
       "      <td>18674</td>\n",
       "      <td>1.609438</td>\n",
       "      <td>3</td>\n",
       "      <td>1.098612</td>\n",
       "      <td>6271</td>\n",
       "      <td>0.000000</td>\n",
       "      <td>NaN</td>\n",
       "      <td>NaN</td>\n",
       "      <td>...</td>\n",
       "      <td>3.091042</td>\n",
       "      <td>4.077537</td>\n",
       "      <td>1</td>\n",
       "      <td>5.062595</td>\n",
       "      <td>1</td>\n",
       "      <td>7.817625</td>\n",
       "      <td>1</td>\n",
       "      <td>6011</td>\n",
       "      <td>1</td>\n",
       "      <td>3.568682</td>\n",
       "    </tr>\n",
       "    <tr>\n",
       "      <th>1</th>\n",
       "      <td>8</td>\n",
       "      <td>7</td>\n",
       "      <td>18800</td>\n",
       "      <td>1.791759</td>\n",
       "      <td>1</td>\n",
       "      <td>1.098612</td>\n",
       "      <td>7885</td>\n",
       "      <td>0.000000</td>\n",
       "      <td>NaN</td>\n",
       "      <td>NaN</td>\n",
       "      <td>...</td>\n",
       "      <td>2.079442</td>\n",
       "      <td>3.367296</td>\n",
       "      <td>1</td>\n",
       "      <td>4.753590</td>\n",
       "      <td>1</td>\n",
       "      <td>9.672375</td>\n",
       "      <td>1</td>\n",
       "      <td>32221</td>\n",
       "      <td>1</td>\n",
       "      <td>3.715365</td>\n",
       "    </tr>\n",
       "    <tr>\n",
       "      <th>2</th>\n",
       "      <td>8</td>\n",
       "      <td>7</td>\n",
       "      <td>19289</td>\n",
       "      <td>1.609438</td>\n",
       "      <td>1</td>\n",
       "      <td>1.098612</td>\n",
       "      <td>6028</td>\n",
       "      <td>0.000000</td>\n",
       "      <td>NaN</td>\n",
       "      <td>NaN</td>\n",
       "      <td>...</td>\n",
       "      <td>3.332205</td>\n",
       "      <td>4.369448</td>\n",
       "      <td>1</td>\n",
       "      <td>5.361292</td>\n",
       "      <td>1</td>\n",
       "      <td>9.665294</td>\n",
       "      <td>1</td>\n",
       "      <td>32228</td>\n",
       "      <td>1</td>\n",
       "      <td>4.015700</td>\n",
       "    </tr>\n",
       "    <tr>\n",
       "      <th>3</th>\n",
       "      <td>8</td>\n",
       "      <td>21</td>\n",
       "      <td>20385</td>\n",
       "      <td>3.218876</td>\n",
       "      <td>0</td>\n",
       "      <td>1.098612</td>\n",
       "      <td>18325</td>\n",
       "      <td>0.693147</td>\n",
       "      <td>NaN</td>\n",
       "      <td>NaN</td>\n",
       "      <td>...</td>\n",
       "      <td>1.098612</td>\n",
       "      <td>3.044522</td>\n",
       "      <td>1</td>\n",
       "      <td>4.836282</td>\n",
       "      <td>1</td>\n",
       "      <td>7.851272</td>\n",
       "      <td>1</td>\n",
       "      <td>7271</td>\n",
       "      <td>1</td>\n",
       "      <td>4.611440</td>\n",
       "    </tr>\n",
       "    <tr>\n",
       "      <th>4</th>\n",
       "      <td>1</td>\n",
       "      <td>21</td>\n",
       "      <td>20657</td>\n",
       "      <td>1.098612</td>\n",
       "      <td>4</td>\n",
       "      <td>1.098612</td>\n",
       "      <td>6880</td>\n",
       "      <td>0.000000</td>\n",
       "      <td>NaN</td>\n",
       "      <td>NaN</td>\n",
       "      <td>...</td>\n",
       "      <td>1.098612</td>\n",
       "      <td>2.944439</td>\n",
       "      <td>1</td>\n",
       "      <td>3.871201</td>\n",
       "      <td>1</td>\n",
       "      <td>7.858641</td>\n",
       "      <td>1</td>\n",
       "      <td>7442</td>\n",
       "      <td>1</td>\n",
       "      <td>4.829363</td>\n",
       "    </tr>\n",
       "  </tbody>\n",
       "</table>\n",
       "<p>5 rows × 232 columns</p>\n",
       "</div>"
      ],
      "text/plain": [
       "         building_material  city  txn_dt  total_floor  building_type  \\\n",
       "train 0                  8    21   18674     1.609438              3   \n",
       "      1                  8     7   18800     1.791759              1   \n",
       "      2                  8     7   19289     1.609438              1   \n",
       "      3                  8    21   20385     3.218876              0   \n",
       "      4                  1    21   20657     1.098612              4   \n",
       "\n",
       "         building_use  building_complete_dt  parking_way  parking_area  \\\n",
       "train 0      1.098612                  6271     0.000000           NaN   \n",
       "      1      1.098612                  7885     0.000000           NaN   \n",
       "      2      1.098612                  6028     0.000000           NaN   \n",
       "      3      1.098612                 18325     0.693147           NaN   \n",
       "      4      1.098612                  6880     0.000000           NaN   \n",
       "\n",
       "         parking_price    ...      XIV_250   XIV_500  XIV_index_500  XIV_1000  \\\n",
       "train 0            NaN    ...     3.091042  4.077537              1  5.062595   \n",
       "      1            NaN    ...     2.079442  3.367296              1  4.753590   \n",
       "      2            NaN    ...     3.332205  4.369448              1  5.361292   \n",
       "      3            NaN    ...     1.098612  3.044522              1  4.836282   \n",
       "      4            NaN    ...     1.098612  2.944439              1  3.871201   \n",
       "\n",
       "         XIV_index_1000  XIV_5000  XIV_index_5000  XIV_10000  XIV_index_10000  \\\n",
       "train 0               1  7.817625               1       6011                1   \n",
       "      1               1  9.672375               1      32221                1   \n",
       "      2               1  9.665294               1      32228                1   \n",
       "      3               1  7.851272               1       7271                1   \n",
       "      4               1  7.858641               1       7442                1   \n",
       "\n",
       "          XIV_MIN  \n",
       "train 0  3.568682  \n",
       "      1  3.715365  \n",
       "      2  4.015700  \n",
       "      3  4.611440  \n",
       "      4  4.829363  \n",
       "\n",
       "[5 rows x 232 columns]"
      ]
     },
     "execution_count": 200,
     "metadata": {},
     "output_type": "execute_result"
    }
   ],
   "source": [
    "df_all_dum = pd.get_dummies(df_all); df_all_dum.head()"
   ]
  },
  {
   "cell_type": "code",
   "execution_count": 201,
   "metadata": {},
   "outputs": [],
   "source": [
    "# 將NA的值填平均值\n",
    "#df_all_dum = df_all_dum.fillna( df_all_dum.mean() ); df_all_dum.head()"
   ]
  },
  {
   "cell_type": "code",
   "execution_count": 202,
   "metadata": {},
   "outputs": [
    {
     "data": {
      "text/plain": [
       "(69803, 232)"
      ]
     },
     "execution_count": 202,
     "metadata": {},
     "output_type": "execute_result"
    }
   ],
   "source": [
    "df_all.shape"
   ]
  },
  {
   "cell_type": "code",
   "execution_count": 203,
   "metadata": {},
   "outputs": [
    {
     "name": "stdout",
     "output_type": "stream",
     "text": [
      "Shape all_data: (69803, 232)\n"
     ]
    }
   ],
   "source": [
    "#from sklearn.preprocessing import LabelEncoder\n",
    "#cols = ('FireplaceQu', 'BsmtQual', 'BsmtCond', 'GarageQual', 'GarageCond', \n",
    "#        'ExterQual', 'ExterCond','HeatingQC', 'PoolQC', 'KitchenQual', 'BsmtFinType1', \n",
    "#        'BsmtFinType2', 'Functional', 'Fence', 'BsmtExposure', 'GarageFinish', 'LandSlope',\n",
    "#        'LotShape', 'PavedDrive', 'Street', 'Alley', 'CentralAir', 'MSSubClass', 'OverallCond', \n",
    "#        'YrSold', 'MoSold')\n",
    "# process columns, apply LabelEncoder to categorical features\n",
    "#for c in cols:\n",
    "#    lbl = LabelEncoder() \n",
    "#    lbl.fit(list(df_all[c].values)) \n",
    "#    df_all[c] = lbl.transform(list(df_all[c].values))\n",
    "\n",
    "# shape        \n",
    "print('Shape all_data: {}'.format(df_all.shape))"
   ]
  },
  {
   "cell_type": "code",
   "execution_count": 204,
   "metadata": {},
   "outputs": [
    {
     "data": {
      "text/plain": [
       "['parking_area', 'parking_price', 'txn_floor', 'village_income_median']"
      ]
     },
     "execution_count": 204,
     "metadata": {},
     "output_type": "execute_result"
    }
   ],
   "source": [
    "np.any(np.isnan(df_all_dum))\n",
    "df_all_dum.columns[df_all_dum.isna().any()].tolist()"
   ]
  },
  {
   "cell_type": "code",
   "execution_count": null,
   "metadata": {},
   "outputs": [],
   "source": []
  },
  {
   "cell_type": "code",
   "execution_count": null,
   "metadata": {},
   "outputs": [],
   "source": []
  },
  {
   "cell_type": "code",
   "execution_count": 205,
   "metadata": {},
   "outputs": [],
   "source": [
    "## Standardization"
   ]
  },
  {
   "cell_type": "markdown",
   "metadata": {},
   "source": [
    "## Standardization"
   ]
  },
  {
   "cell_type": "code",
   "execution_count": 206,
   "metadata": {},
   "outputs": [
    {
     "ename": "ValueError",
     "evalue": "Input contains NaN, infinity or a value too large for dtype('float64').",
     "output_type": "error",
     "traceback": [
      "\u001b[0;31m---------------------------------------------------------------------------\u001b[0m",
      "\u001b[0;31mValueError\u001b[0m                                Traceback (most recent call last)",
      "\u001b[0;32m<ipython-input-206-861fbb0def9d>\u001b[0m in \u001b[0;36m<module>\u001b[0;34m()\u001b[0m\n\u001b[1;32m      3\u001b[0m \u001b[0;34m\u001b[0m\u001b[0m\n\u001b[1;32m      4\u001b[0m \u001b[0;31m#num_feats = df_all_dum.select_dtypes( exclude = [ 'object' ] ).columns\u001b[0m\u001b[0;34m\u001b[0m\u001b[0;34m\u001b[0m\u001b[0m\n\u001b[0;32m----> 5\u001b[0;31m \u001b[0mdf_all_dum\u001b[0m\u001b[0;34m[\u001b[0m \u001b[0mnum_feats\u001b[0m \u001b[0;34m]\u001b[0m \u001b[0;34m=\u001b[0m \u001b[0mpreprocessing\u001b[0m\u001b[0;34m.\u001b[0m\u001b[0mscale\u001b[0m\u001b[0;34m(\u001b[0m \u001b[0mdf_all_dum\u001b[0m\u001b[0;34m[\u001b[0m \u001b[0mnum_feats\u001b[0m \u001b[0;34m]\u001b[0m \u001b[0;34m)\u001b[0m\u001b[0;34m\u001b[0m\u001b[0m\n\u001b[0m\u001b[1;32m      6\u001b[0m \u001b[0mdf_all_dum\u001b[0m\u001b[0;34m[\u001b[0m \u001b[0mnum_feats\u001b[0m \u001b[0;34m]\u001b[0m\u001b[0;34m.\u001b[0m\u001b[0mhead\u001b[0m\u001b[0;34m(\u001b[0m\u001b[0;34m)\u001b[0m\u001b[0;34m\u001b[0m\u001b[0m\n",
      "\u001b[0;32m/opt/conda/lib/python3.6/site-packages/sklearn/preprocessing/data.py\u001b[0m in \u001b[0;36mscale\u001b[0;34m(X, axis, with_mean, with_std, copy)\u001b[0m\n\u001b[1;32m    131\u001b[0m     X = check_array(X, accept_sparse='csc', copy=copy, ensure_2d=False,\n\u001b[1;32m    132\u001b[0m                     \u001b[0mwarn_on_dtype\u001b[0m\u001b[0;34m=\u001b[0m\u001b[0;32mTrue\u001b[0m\u001b[0;34m,\u001b[0m \u001b[0mestimator\u001b[0m\u001b[0;34m=\u001b[0m\u001b[0;34m'the scale function'\u001b[0m\u001b[0;34m,\u001b[0m\u001b[0;34m\u001b[0m\u001b[0m\n\u001b[0;32m--> 133\u001b[0;31m                     dtype=FLOAT_DTYPES)\n\u001b[0m\u001b[1;32m    134\u001b[0m     \u001b[0;32mif\u001b[0m \u001b[0msparse\u001b[0m\u001b[0;34m.\u001b[0m\u001b[0missparse\u001b[0m\u001b[0;34m(\u001b[0m\u001b[0mX\u001b[0m\u001b[0;34m)\u001b[0m\u001b[0;34m:\u001b[0m\u001b[0;34m\u001b[0m\u001b[0m\n\u001b[1;32m    135\u001b[0m         \u001b[0;32mif\u001b[0m \u001b[0mwith_mean\u001b[0m\u001b[0;34m:\u001b[0m\u001b[0;34m\u001b[0m\u001b[0m\n",
      "\u001b[0;32m/opt/conda/lib/python3.6/site-packages/sklearn/utils/validation.py\u001b[0m in \u001b[0;36mcheck_array\u001b[0;34m(array, accept_sparse, dtype, order, copy, force_all_finite, ensure_2d, allow_nd, ensure_min_samples, ensure_min_features, warn_on_dtype, estimator)\u001b[0m\n\u001b[1;32m    451\u001b[0m                              % (array.ndim, estimator_name))\n\u001b[1;32m    452\u001b[0m         \u001b[0;32mif\u001b[0m \u001b[0mforce_all_finite\u001b[0m\u001b[0;34m:\u001b[0m\u001b[0;34m\u001b[0m\u001b[0m\n\u001b[0;32m--> 453\u001b[0;31m             \u001b[0m_assert_all_finite\u001b[0m\u001b[0;34m(\u001b[0m\u001b[0marray\u001b[0m\u001b[0;34m)\u001b[0m\u001b[0;34m\u001b[0m\u001b[0m\n\u001b[0m\u001b[1;32m    454\u001b[0m \u001b[0;34m\u001b[0m\u001b[0m\n\u001b[1;32m    455\u001b[0m     \u001b[0mshape_repr\u001b[0m \u001b[0;34m=\u001b[0m \u001b[0m_shape_repr\u001b[0m\u001b[0;34m(\u001b[0m\u001b[0marray\u001b[0m\u001b[0;34m.\u001b[0m\u001b[0mshape\u001b[0m\u001b[0;34m)\u001b[0m\u001b[0;34m\u001b[0m\u001b[0m\n",
      "\u001b[0;32m/opt/conda/lib/python3.6/site-packages/sklearn/utils/validation.py\u001b[0m in \u001b[0;36m_assert_all_finite\u001b[0;34m(X)\u001b[0m\n\u001b[1;32m     42\u001b[0m             and not np.isfinite(X).all()):\n\u001b[1;32m     43\u001b[0m         raise ValueError(\"Input contains NaN, infinity\"\n\u001b[0;32m---> 44\u001b[0;31m                          \" or a value too large for %r.\" % X.dtype)\n\u001b[0m\u001b[1;32m     45\u001b[0m \u001b[0;34m\u001b[0m\u001b[0m\n\u001b[1;32m     46\u001b[0m \u001b[0;34m\u001b[0m\u001b[0m\n",
      "\u001b[0;31mValueError\u001b[0m: Input contains NaN, infinity or a value too large for dtype('float64')."
     ]
    }
   ],
   "source": [
    "# normalization helps a bit\n",
    "from sklearn import preprocessing\n",
    "\n",
    "#num_feats = df_all_dum.select_dtypes( exclude = [ 'object' ] ).columns\n",
    "df_all_dum[ num_feats ] = preprocessing.scale( df_all_dum[ num_feats ] )\n",
    "df_all_dum[ num_feats ].head()"
   ]
  },
  {
   "cell_type": "code",
   "execution_count": null,
   "metadata": {},
   "outputs": [],
   "source": []
  },
  {
   "cell_type": "code",
   "execution_count": null,
   "metadata": {},
   "outputs": [],
   "source": []
  },
  {
   "cell_type": "code",
   "execution_count": null,
   "metadata": {},
   "outputs": [],
   "source": [
    "np.any(np.isnan(df_all_dum))\n",
    "df_all_dum.columns[df_all_dum.isna().any()].tolist()"
   ]
  },
  {
   "cell_type": "code",
   "execution_count": null,
   "metadata": {},
   "outputs": [],
   "source": [
    "\n"
   ]
  },
  {
   "cell_type": "code",
   "execution_count": null,
   "metadata": {},
   "outputs": [],
   "source": [
    "# 查詢是否有重複的欄位\n",
    "df_all_dum.columns[df_all_dum.columns.duplicated()]"
   ]
  },
  {
   "cell_type": "markdown",
   "metadata": {},
   "source": [
    "## Training Start"
   ]
  },
  {
   "cell_type": "code",
   "execution_count": null,
   "metadata": {},
   "outputs": [],
   "source": [
    "# inputs\n",
    "from sklearn.model_selection import train_test_split\n",
    "from matplotlib import rcParams\n",
    "X = df_all_dum[:train.shape[0]]\n",
    "y = train.total_price\n",
    "#把train data與test分開\n",
    "X, X_val, y, y_val = train_test_split(X, y, test_size = 0.1, random_state = 40)\n",
    "\n",
    "X_test = df_all_dum[ train.shape[0]: ]"
   ]
  },
  {
   "cell_type": "code",
   "execution_count": null,
   "metadata": {},
   "outputs": [],
   "source": [
    "from sklearn.linear_model import LassoCV\n",
    "from sklearn.model_selection import cross_val_score\n",
    "\n",
    "def rmse_cv(model):\n",
    "    rmse= np.sqrt(-cross_val_score(model, X, y, scoring = \"neg_mean_squared_error\", cv = 5))\n",
    "    return(rmse)"
   ]
  },
  {
   "cell_type": "code",
   "execution_count": null,
   "metadata": {},
   "outputs": [],
   "source": []
  },
  {
   "cell_type": "code",
   "execution_count": null,
   "metadata": {},
   "outputs": [],
   "source": []
  },
  {
   "cell_type": "code",
   "execution_count": null,
   "metadata": {},
   "outputs": [],
   "source": [
    "def error(yhat,y_pred):\n",
    "    error_sum = ((yhat - y_pred)/y_pred*100)\n",
    "    mask = (error_sum>10).sum()+(error_sum<-10).sum()\n",
    "    print(mask)\n",
    "    return error_sum"
   ]
  },
  {
   "cell_type": "code",
   "execution_count": null,
   "metadata": {},
   "outputs": [],
   "source": [
    "#y_answer_pred = y_pred_rf# * 0.5 + y_pred * 0.5\n",
    "#print(error(np.array(np.exp(y)),np.exp(y_answer_pred)))"
   ]
  },
  {
   "cell_type": "markdown",
   "metadata": {},
   "source": [
    "## XGBoost"
   ]
  },
  {
   "cell_type": "code",
   "execution_count": null,
   "metadata": {},
   "outputs": [],
   "source": [
    "import xgboost as xgb\n",
    "from sklearn import metrics\n",
    "from xgboost import XGBRegressor\n",
    "from sklearn.model_selection import KFold"
   ]
  },
  {
   "cell_type": "code",
   "execution_count": null,
   "metadata": {},
   "outputs": [],
   "source": [
    "\n"
   ]
  },
  {
   "cell_type": "code",
   "execution_count": null,
   "metadata": {},
   "outputs": [],
   "source": [
    "#https://www.kaggle.com/pablocastilla/predict-house-prices-with-xgboost-regression\n",
    "#model_XGB = XGBRegressor(colsample_bytree=0.4,\n",
    "#                 gamma=0,                 \n",
    "#                 learning_rate=0.07,\n",
    "#                 max_depth=3,\n",
    "#                 min_child_weight=1.5,\n",
    "#                 n_estimators=10000,                                                                    \n",
    "#                 reg_alpha=0.75,\n",
    "#                 reg_lambda=0.45,\n",
    "#                 subsample=0.6,\n",
    "#                 seed=42) \n",
    "\n",
    "#model_XGB = xgb.XGBRegressor(colsample_bytree=0.4603, gamma=0.0468, \n",
    "#                             learning_rate=0.05, max_depth=3, \n",
    "#                             min_child_weight=1.7817, n_estimators=2200,\n",
    "#                             reg_alpha=0.4640, reg_lambda=0.8571,\n",
    "#                             subsample=0.5213, silent=1)\n",
    "\n",
    "#model_XGB = XGBRegressor(base_score=0.5,colsample_bytree=0.7, gamma=0.0468, \n",
    "#                             learning_rate=0.01, max_depth=5, \n",
    "#                             min_child_weight=1.7817, n_estimators=4000,objective='reg:linear',\n",
    "#                             reg_alpha=0.4640, reg_lambda=0.8571,\n",
    "#                             subsample=0.5213, silent=1,\n",
    "#                             random_state =7, nthread = -1)\n",
    "\n",
    "model_XGB = XGBRegressor(base_score=0.5,colsample_bytree=0.7, gamma=0.0468, \n",
    "                             learning_rate=0.05, max_depth=5, \n",
    "                             min_child_weight=1.7817, n_estimators=4000,objective='reg:linear',\n",
    "                             reg_alpha=0.4640, reg_lambda=0.8571,\n",
    "                             subsample=0.5213, silent=1,\n",
    "                             random_state =7, nthread = -1)\n",
    "\n",
    "model_XGB.fit(X, y)\n",
    "y_pred = model_XGB.predict( X )\n",
    "print('RMSE:', np.sqrt(metrics.mean_squared_error(y, y_pred)))\n",
    "print('  R2:', metrics.r2_score(y, y_pred))\n",
    "\n",
    "val_preds = model_XGB.predict(X_val)\n",
    "print('RMSE:', np.sqrt(metrics.mean_squared_error( y_val, val_preds ) ) )\n",
    "print('  R2:', metrics.r2_score( y_val, val_preds ) )"
   ]
  },
  {
   "cell_type": "code",
   "execution_count": null,
   "metadata": {},
   "outputs": [],
   "source": []
  },
  {
   "cell_type": "code",
   "execution_count": null,
   "metadata": {},
   "outputs": [],
   "source": [
    "import pickle\n",
    "#save model\n",
    "pickle.dump(model_XGB, open(\"./savemodel/xgb_0514_median.dat\", \"wb\"))"
   ]
  },
  {
   "cell_type": "code",
   "execution_count": 207,
   "metadata": {},
   "outputs": [
    {
     "data": {
      "text/plain": [
       "array([ 5769380. , 75332820. ,  5271392.5, ...,  2669394.8,  5843542.5,\n",
       "        5842561.5], dtype=float32)"
      ]
     },
     "execution_count": 207,
     "metadata": {},
     "output_type": "execute_result"
    }
   ],
   "source": [
    "np.exp(y_pred)"
   ]
  },
  {
   "cell_type": "code",
   "execution_count": 208,
   "metadata": {},
   "outputs": [
    {
     "data": {
      "text/plain": [
       "array([ 5328714.65890591, 76276179.91749465,  4553334.27287215, ...,\n",
       "        2636755.25984292,  7001229.73332825,  6730861.37805399])"
      ]
     },
     "execution_count": 208,
     "metadata": {},
     "output_type": "execute_result"
    }
   ],
   "source": [
    "np.array(np.exp(y))"
   ]
  },
  {
   "cell_type": "code",
   "execution_count": 209,
   "metadata": {},
   "outputs": [],
   "source": [
    "pd.DataFrame({'total_price': np.exp(y_pred)}).to_csv('submission_y_xgb_0514_median_2.csv')"
   ]
  },
  {
   "cell_type": "code",
   "execution_count": 210,
   "metadata": {},
   "outputs": [],
   "source": [
    "pd.DataFrame({'total_price': np.array(np.exp(y))}).to_csv('submission_y_2.csv')"
   ]
  },
  {
   "cell_type": "code",
   "execution_count": null,
   "metadata": {},
   "outputs": [],
   "source": []
  },
  {
   "cell_type": "code",
   "execution_count": 211,
   "metadata": {},
   "outputs": [
    {
     "name": "stdout",
     "output_type": "stream",
     "text": [
      "15850\n",
      "[ -7.63800168   1.25226159 -13.621794   ...  -1.22272999  19.81139409\n",
      "  15.2039457 ]\n"
     ]
    }
   ],
   "source": [
    "print(error(np.array(np.exp(y)),np.exp(y_pred)))"
   ]
  },
  {
   "cell_type": "code",
   "execution_count": 212,
   "metadata": {},
   "outputs": [
    {
     "data": {
      "text/plain": [
       "(53822,)"
      ]
     },
     "execution_count": 212,
     "metadata": {},
     "output_type": "execute_result"
    }
   ],
   "source": [
    "y.shape"
   ]
  },
  {
   "cell_type": "code",
   "execution_count": 213,
   "metadata": {},
   "outputs": [
    {
     "name": "stdout",
     "output_type": "stream",
     "text": [
      "                   total_price\n",
      "building_id                   \n",
      "X5gsdTWGS3W7JJQB  1.051763e+07\n",
      "BTshNOJyKHnT2YIT  4.258238e+06\n",
      "dhdymr0lV8N5kZOT  1.106536e+07\n",
      "VEwyGGMcD56w5BOc  5.843766e+06\n",
      "wmUeMoJZfsqaSX9b  9.925853e+05\n"
     ]
    }
   ],
   "source": [
    "y_answer_XGB = model_XGB.predict( X_test )\n",
    "y_answer_XGB = np.exp(y_answer_XGB)\n",
    "print(pd.DataFrame({'total_price': y_answer_XGB}, index=test.building_id).head())\n",
    "pd.DataFrame({'total_price': y_answer_XGB}, index=test.building_id).to_csv('submission_xgb_0514_median.csv')"
   ]
  },
  {
   "cell_type": "code",
   "execution_count": 214,
   "metadata": {},
   "outputs": [
    {
     "name": "stdout",
     "output_type": "stream",
     "text": [
      "                   total_price\n",
      "building_id                   \n",
      "X5gsdTWGS3W7JJQB  1.051763e+07\n",
      "BTshNOJyKHnT2YIT  4.258238e+06\n",
      "dhdymr0lV8N5kZOT  1.106536e+07\n",
      "VEwyGGMcD56w5BOc  5.843766e+06\n",
      "wmUeMoJZfsqaSX9b  9.925853e+05\n"
     ]
    }
   ],
   "source": [
    "y_answer_XGB = model_XGB.predict( X_test )\n",
    "y_answer_XGB = np.exp(y_answer_XGB)\n",
    "print(pd.DataFrame({'total_price': y_answer_XGB}, index=test.building_id).head())"
   ]
  },
  {
   "cell_type": "code",
   "execution_count": 215,
   "metadata": {},
   "outputs": [],
   "source": [
    "pd.DataFrame({'total_price': y_answer_XGB}, index=test.building_id).to_csv('submission_xgb_0514_4000.csv')"
   ]
  },
  {
   "cell_type": "code",
   "execution_count": null,
   "metadata": {},
   "outputs": [],
   "source": []
  },
  {
   "cell_type": "code",
   "execution_count": 529,
   "metadata": {},
   "outputs": [],
   "source": [
    "#model_XGB = XGBRegressor(base_score=0.5,colsample_bytree=0.7, gamma=0.0468, \n",
    "#                             learning_rate=0.01, max_depth=3, \n",
    "#                             min_child_weight=1, n_estimators=10000,objective='reg:linear',\n",
    "#                             reg_alpha=0.4640, reg_lambda=0.8571,\n",
    "#                             subsample=0.5213, silent=1,\n",
    "#                             random_state =7, nthread = -1)\n",
    "\n",
    "#https://github.com/Cuongvn08/tensorflow_kaggle_house_price/blob/master/train.py\n",
    "#model_xgb = xgb.XGBRegressor(colsample_bytree=0.4603, gamma=0.0468, \n",
    "#                             learning_rate=0.05, max_depth=3, \n",
    "#                             min_child_weight=1.7817, n_estimators=2200,\n",
    "#                             reg_alpha=0.4640, reg_lambda=0.8571,\n",
    "#                             subsample=0.5213, silent=1)\n",
    "#import lightgbm as lgb\n",
    "#model_lgb = lgb.LGBMRegressor(objective='regression',num_leaves=5,\n",
    "#                              learning_rate=0.05, n_estimators=720,\n",
    "#                              max_bin = 55, bagging_fraction = 0.8,\n",
    "#                              bagging_freq = 5, feature_fraction = 0.2319,\n",
    "#                              feature_fraction_seed=9, bagging_seed=9,\n",
    "#                              min_data_in_leaf =6, min_sum_hessian_in_leaf = 11)\n",
    "\n",
    "#model_XGB = XGBRegressor(base_score=0.5,colsample_bytree=0.7, gamma=0.0468, \n",
    "#                             learning_rate=0.01, max_depth=6, \n",
    "#                             min_child_weight=5, n_estimators=4000,objective='reg:linear',\n",
    "#                             reg_alpha=0.4640, reg_lambda=0.8571,\n",
    "#                             subsample=0.5213, silent=1,\n",
    "#                             random_state =7, nthread = -1)\n",
    "\n",
    "#model_XGB = XGBRegressor(base_score=0.5,colsample_bytree=0.7, gamma=0.0468, \n",
    "#                             learning_rate=0.01, max_depth=7, \n",
    "#                             min_child_weight=4, n_estimators=5000,objective='reg:linear',\n",
    "#                             reg_alpha=0.4640, reg_lambda=0.8571,\n",
    "#                             subsample=0.5213, silent=1,\n",
    "#                             random_state =7, nthread = -1)\n",
    "#colsample_bytree=0.4603, gamma=0.0468, \n",
    "#                             learning_rate=0.1, max_depth=7, \n",
    "#                             min_child_weight=1.7817, n_estimators=2200,\n",
    "#                             reg_alpha=0.4640, reg_lambda=0.8571,\n",
    "#                             subsample=0.5213, silent=1,\n",
    "#                             random_state =7, nthread = -1\n",
    "\n",
    "\n",
    "#colsample_bylevel=1,colsample_bytree=1, gamma=0, \n",
    "#                             learning_rate=0.1, max_delta_step=0,max_depth=7, \n",
    "#                             min_child_weight=1,missing=None, n_estimators=2200,nthread=-1,objective='reg:linear',\n",
    "#                             reg_alpha=0, reg_lambda=1,scale_pos_weight=1,seed=1850,\n",
    "#                              silent=True,subsample=1,\n",
    "#                             random_state =7\n",
    "#model_XGB = XGBRegressor()\n",
    "#model_XGB.fit(X, y)\n",
    "#y_pred = model_XGB.predict( X )\n",
    "#print('RMSE:', np.sqrt(metrics.mean_squared_error(y, y_pred)))\n",
    "#print('  R2:', metrics.r2_score(y, y_pred))"
   ]
  },
  {
   "cell_type": "code",
   "execution_count": 530,
   "metadata": {},
   "outputs": [],
   "source": [
    "#val_preds = model_XGB.predict(X_val)\n",
    "\n",
    "#print('RMSE:', np.sqrt(metrics.mean_squared_error( y_val, val_preds ) ) )\n",
    "#print('  R2:', metrics.r2_score( y_val, val_preds ) )\n"
   ]
  },
  {
   "cell_type": "code",
   "execution_count": 531,
   "metadata": {},
   "outputs": [],
   "source": [
    "#y_answer_XGB = model_XGB.predict( X_test )\n",
    "#y_answer_XGB = np.exp(y_answer_XGB)\n",
    "#print(pd.DataFrame({'total_price': y_answer_XGB}, index=test.building_id).head())"
   ]
  },
  {
   "cell_type": "code",
   "execution_count": 532,
   "metadata": {},
   "outputs": [],
   "source": [
    "#pd.DataFrame({'total_price': y_answer_XGB}, index=test.building_id).to_csv('submission_xgb_0513_2200.csv')"
   ]
  },
  {
   "cell_type": "code",
   "execution_count": 533,
   "metadata": {},
   "outputs": [],
   "source": [
    "#import pickle\n",
    "#save model\n",
    "#pickle.dump(model_XGB, open(\"./savemodel/submission_xgb_0513_2200.dat\", \"wb\"))"
   ]
  },
  {
   "cell_type": "code",
   "execution_count": null,
   "metadata": {},
   "outputs": [],
   "source": []
  },
  {
   "cell_type": "code",
   "execution_count": 534,
   "metadata": {},
   "outputs": [
    {
     "name": "stderr",
     "output_type": "stream",
     "text": [
      "/opt/conda/lib/python3.6/site-packages/sklearn/linear_model/coordinate_descent.py:491: ConvergenceWarning: Objective did not converge. You might want to increase the number of iterations. Fitting data with very small alpha may cause precision problems.\n",
      "  ConvergenceWarning)\n",
      "/opt/conda/lib/python3.6/site-packages/sklearn/linear_model/coordinate_descent.py:491: ConvergenceWarning: Objective did not converge. You might want to increase the number of iterations. Fitting data with very small alpha may cause precision problems.\n",
      "  ConvergenceWarning)\n",
      "/opt/conda/lib/python3.6/site-packages/sklearn/linear_model/coordinate_descent.py:491: ConvergenceWarning: Objective did not converge. You might want to increase the number of iterations. Fitting data with very small alpha may cause precision problems.\n",
      "  ConvergenceWarning)\n",
      "/opt/conda/lib/python3.6/site-packages/sklearn/linear_model/coordinate_descent.py:491: ConvergenceWarning: Objective did not converge. You might want to increase the number of iterations. Fitting data with very small alpha may cause precision problems.\n",
      "  ConvergenceWarning)\n",
      "/opt/conda/lib/python3.6/site-packages/sklearn/linear_model/coordinate_descent.py:491: ConvergenceWarning: Objective did not converge. You might want to increase the number of iterations. Fitting data with very small alpha may cause precision problems.\n",
      "  ConvergenceWarning)\n",
      "/opt/conda/lib/python3.6/site-packages/sklearn/linear_model/coordinate_descent.py:491: ConvergenceWarning: Objective did not converge. You might want to increase the number of iterations. Fitting data with very small alpha may cause precision problems.\n",
      "  ConvergenceWarning)\n",
      "/opt/conda/lib/python3.6/site-packages/sklearn/linear_model/coordinate_descent.py:491: ConvergenceWarning: Objective did not converge. You might want to increase the number of iterations. Fitting data with very small alpha may cause precision problems.\n",
      "  ConvergenceWarning)\n",
      "/opt/conda/lib/python3.6/site-packages/sklearn/linear_model/coordinate_descent.py:491: ConvergenceWarning: Objective did not converge. You might want to increase the number of iterations. Fitting data with very small alpha may cause precision problems.\n",
      "  ConvergenceWarning)\n",
      "/opt/conda/lib/python3.6/site-packages/sklearn/linear_model/coordinate_descent.py:491: ConvergenceWarning: Objective did not converge. You might want to increase the number of iterations. Fitting data with very small alpha may cause precision problems.\n",
      "  ConvergenceWarning)\n",
      "/opt/conda/lib/python3.6/site-packages/sklearn/linear_model/coordinate_descent.py:491: ConvergenceWarning: Objective did not converge. You might want to increase the number of iterations. Fitting data with very small alpha may cause precision problems.\n",
      "  ConvergenceWarning)\n",
      "/opt/conda/lib/python3.6/site-packages/sklearn/linear_model/coordinate_descent.py:491: ConvergenceWarning: Objective did not converge. You might want to increase the number of iterations. Fitting data with very small alpha may cause precision problems.\n",
      "  ConvergenceWarning)\n",
      "/opt/conda/lib/python3.6/site-packages/sklearn/linear_model/coordinate_descent.py:491: ConvergenceWarning: Objective did not converge. You might want to increase the number of iterations. Fitting data with very small alpha may cause precision problems.\n",
      "  ConvergenceWarning)\n",
      "/opt/conda/lib/python3.6/site-packages/sklearn/linear_model/coordinate_descent.py:491: ConvergenceWarning: Objective did not converge. You might want to increase the number of iterations. Fitting data with very small alpha may cause precision problems.\n",
      "  ConvergenceWarning)\n",
      "/opt/conda/lib/python3.6/site-packages/sklearn/linear_model/coordinate_descent.py:491: ConvergenceWarning: Objective did not converge. You might want to increase the number of iterations. Fitting data with very small alpha may cause precision problems.\n",
      "  ConvergenceWarning)\n",
      "/opt/conda/lib/python3.6/site-packages/sklearn/linear_model/coordinate_descent.py:491: ConvergenceWarning: Objective did not converge. You might want to increase the number of iterations. Fitting data with very small alpha may cause precision problems.\n",
      "  ConvergenceWarning)\n",
      "/opt/conda/lib/python3.6/site-packages/sklearn/linear_model/coordinate_descent.py:491: ConvergenceWarning: Objective did not converge. You might want to increase the number of iterations. Fitting data with very small alpha may cause precision problems.\n",
      "  ConvergenceWarning)\n",
      "/opt/conda/lib/python3.6/site-packages/sklearn/linear_model/coordinate_descent.py:491: ConvergenceWarning: Objective did not converge. You might want to increase the number of iterations. Fitting data with very small alpha may cause precision problems.\n",
      "  ConvergenceWarning)\n",
      "/opt/conda/lib/python3.6/site-packages/sklearn/linear_model/coordinate_descent.py:491: ConvergenceWarning: Objective did not converge. You might want to increase the number of iterations. Fitting data with very small alpha may cause precision problems.\n",
      "  ConvergenceWarning)\n",
      "/opt/conda/lib/python3.6/site-packages/sklearn/linear_model/coordinate_descent.py:491: ConvergenceWarning: Objective did not converge. You might want to increase the number of iterations. Fitting data with very small alpha may cause precision problems.\n",
      "  ConvergenceWarning)\n",
      "/opt/conda/lib/python3.6/site-packages/sklearn/linear_model/coordinate_descent.py:491: ConvergenceWarning: Objective did not converge. You might want to increase the number of iterations. Fitting data with very small alpha may cause precision problems.\n",
      "  ConvergenceWarning)\n",
      "/opt/conda/lib/python3.6/site-packages/sklearn/linear_model/coordinate_descent.py:491: ConvergenceWarning: Objective did not converge. You might want to increase the number of iterations. Fitting data with very small alpha may cause precision problems.\n",
      "  ConvergenceWarning)\n",
      "/opt/conda/lib/python3.6/site-packages/sklearn/linear_model/coordinate_descent.py:491: ConvergenceWarning: Objective did not converge. You might want to increase the number of iterations. Fitting data with very small alpha may cause precision problems.\n",
      "  ConvergenceWarning)\n",
      "/opt/conda/lib/python3.6/site-packages/sklearn/linear_model/coordinate_descent.py:491: ConvergenceWarning: Objective did not converge. You might want to increase the number of iterations. Fitting data with very small alpha may cause precision problems.\n",
      "  ConvergenceWarning)\n"
     ]
    },
    {
     "name": "stdout",
     "output_type": "stream",
     "text": [
      "[0.34955499 0.35143578 0.34923181 0.3494124  0.34489918] 0.0005\n"
     ]
    },
    {
     "name": "stderr",
     "output_type": "stream",
     "text": [
      "/opt/conda/lib/python3.6/site-packages/sklearn/linear_model/coordinate_descent.py:491: ConvergenceWarning: Objective did not converge. You might want to increase the number of iterations. Fitting data with very small alpha may cause precision problems.\n",
      "  ConvergenceWarning)\n"
     ]
    }
   ],
   "source": [
    "from sklearn.linear_model import LassoCV\n",
    "model_Lasso = LassoCV( alphas = [  0.0005],normalize=True, max_iter=1e5).fit( X, y )\n",
    "print( rmse_cv( model_Lasso ), model_Lasso.alpha_ )"
   ]
  },
  {
   "cell_type": "code",
   "execution_count": 535,
   "metadata": {},
   "outputs": [
    {
     "name": "stdout",
     "output_type": "stream",
     "text": [
      "162 71\n"
     ]
    }
   ],
   "source": [
    "coef = pd.Series( model_Lasso.coef_, index = X.columns )\n",
    "print( sum(coef != 0), sum(coef == 0))"
   ]
  },
  {
   "cell_type": "code",
   "execution_count": 536,
   "metadata": {},
   "outputs": [
    {
     "data": {
      "text/plain": [
       "Text(0.5,1,'Coefficients in Model Lasso')"
      ]
     },
     "execution_count": 536,
     "metadata": {},
     "output_type": "execute_result"
    },
    {
     "data": {
      "image/png": "[encoded data removed]",
      "text/plain": [
       "<Figure size 576x720 with 1 Axes>"
      ]
     },
     "metadata": {
      "needs_background": "light"
     },
     "output_type": "display_data"
    }
   ],
   "source": [
    "important_coef = pd.concat( [coef.sort_values().head(10), coef.sort_values().tail(10)] )\n",
    "rcParams['figure.figsize'] = (8.0, 10.0)\n",
    "important_coef.plot(kind = 'barh')\n",
    "plt.title('Coefficients in Model Lasso')"
   ]
  },
  {
   "cell_type": "code",
   "execution_count": 537,
   "metadata": {},
   "outputs": [
    {
     "name": "stdout",
     "output_type": "stream",
     "text": [
      "RMSE: 0.3476632376063508\n",
      "  R2: 0.89937634258103\n"
     ]
    }
   ],
   "source": [
    "\n",
    "preds = model_Lasso.predict(X)\n",
    "print('RMSE:', np.sqrt(metrics.mean_squared_error(y, preds)))\n",
    "print('  R2:', metrics.r2_score( y, preds ) )"
   ]
  },
  {
   "cell_type": "code",
   "execution_count": 538,
   "metadata": {},
   "outputs": [
    {
     "name": "stdout",
     "output_type": "stream",
     "text": [
      "RMSE: 0.35204820634240597\n",
      "  R2: 0.8985208453599165\n"
     ]
    }
   ],
   "source": [
    "val_preds = model_Lasso.predict(X_val)\n",
    "print('RMSE:', np.sqrt(metrics.mean_squared_error( y_val, val_preds ) ) )\n",
    "print('  R2:', metrics.r2_score( y_val, val_preds ) )"
   ]
  },
  {
   "cell_type": "code",
   "execution_count": 539,
   "metadata": {},
   "outputs": [
    {
     "name": "stdout",
     "output_type": "stream",
     "text": [
      "                   total_price\n",
      "building_id                   \n",
      "X5gsdTWGS3W7JJQB  7.651226e+06\n",
      "BTshNOJyKHnT2YIT  3.471450e+06\n",
      "dhdymr0lV8N5kZOT  8.217489e+06\n",
      "VEwyGGMcD56w5BOc  6.293808e+06\n",
      "wmUeMoJZfsqaSX9b  1.208777e+06\n"
     ]
    }
   ],
   "source": [
    "y_answer_Lasso = model_Lasso.predict( X_test )\n",
    "y_answer_Lasso = np.exp(y_answer_Lasso)\n",
    "# print(pd.DataFrame(data=y_answer, columns=['SalePrice'], index=X_test.index).head())\n",
    "print(pd.DataFrame({'total_price': y_answer_Lasso}, index=test.building_id).head())"
   ]
  },
  {
   "cell_type": "code",
   "execution_count": 540,
   "metadata": {},
   "outputs": [],
   "source": [
    "pd.DataFrame({'total_price': y_answer_Lasso}, index=test.building_id).to_csv('submission_0514_Lasso.csv')"
   ]
  },
  {
   "cell_type": "code",
   "execution_count": null,
   "metadata": {},
   "outputs": [],
   "source": [
    "import pickle\n",
    "#save model\n",
    "pickle.dump(model_Lasso, open(\"./savemodel/submission_0514_Lasso.dat\", \"wb\"))"
   ]
  },
  {
   "cell_type": "code",
   "execution_count": null,
   "metadata": {},
   "outputs": [],
   "source": []
  },
  {
   "cell_type": "code",
   "execution_count": 543,
   "metadata": {},
   "outputs": [],
   "source": []
  },
  {
   "cell_type": "code",
   "execution_count": 544,
   "metadata": {},
   "outputs": [
    {
     "name": "stdout",
     "output_type": "stream",
     "text": [
      "33140\n",
      "[10.69121876 12.54445993 35.4999815  ...  4.25857896  5.20372053\n",
      " 63.35989015]\n"
     ]
    }
   ],
   "source": [
    "y_answer_pred = preds * 0.5 + y_pred * 0.5\n",
    "print(error(np.array(np.exp(y)),np.exp(y_answer_pred)))"
   ]
  },
  {
   "cell_type": "code",
   "execution_count": 545,
   "metadata": {},
   "outputs": [
    {
     "data": {
      "text/plain": [
       "(53315,)"
      ]
     },
     "execution_count": 545,
     "metadata": {},
     "output_type": "execute_result"
    }
   ],
   "source": [
    "y.shape"
   ]
  },
  {
   "cell_type": "code",
   "execution_count": 542,
   "metadata": {},
   "outputs": [
    {
     "name": "stdout",
     "output_type": "stream",
     "text": [
      "                   total_price\n",
      "building_id                   \n",
      "X5gsdTWGS3W7JJQB  8.831089e+06\n",
      "BTshNOJyKHnT2YIT  3.753854e+06\n",
      "dhdymr0lV8N5kZOT  8.702886e+06\n",
      "VEwyGGMcD56w5BOc  6.010912e+06\n",
      "wmUeMoJZfsqaSX9b  1.079262e+06\n",
      "RMSE: 0.35204820634240597\n",
      "  R2: 0.8985208453599165\n"
     ]
    }
   ],
   "source": [
    "# Lasso + XGB\n",
    "y_answer = y_answer_Lasso * 0.5 + y_answer_XGB * 0.5\n",
    "print(pd.DataFrame({'total_price': y_answer}, index=test.building_id).head())\n",
    "\n",
    "print('RMSE:', np.sqrt(metrics.mean_squared_error( y_val, val_preds ) ) )\n",
    "print('  R2:', metrics.r2_score( y_val, val_preds ) )\n",
    "pd.DataFrame({'total_price': y_answer}, index=test.building_id).to_csv('submission_0514_LX.csv')"
   ]
  },
  {
   "cell_type": "code",
   "execution_count": null,
   "metadata": {},
   "outputs": [],
   "source": [
    "\n"
   ]
  },
  {
   "cell_type": "code",
   "execution_count": 740,
   "metadata": {},
   "outputs": [
    {
     "data": {
      "text/plain": [
       "[<matplotlib.lines.Line2D at 0x7fe3431cb4a8>]"
      ]
     },
     "execution_count": 740,
     "metadata": {},
     "output_type": "execute_result"
    },
    {
     "data": {
      "image/png": "[encoded data removed]",
      "text/plain": [
       "<Figure size 432x288 with 1 Axes>"
      ]
     },
     "metadata": {
      "needs_background": "light"
     },
     "output_type": "display_data"
    }
   ],
   "source": [
    "from sklearn.ensemble import RandomForestRegressor\n",
    "model_rf = RandomForestRegressor(n_estimators = 12,max_depth = 3,n_jobs = -1)\n",
    "estimators = np.arange(10, 200, 10)\n",
    "scores = []\n",
    "for n in estimators:\n",
    "    model_rf.set_params(n_estimators=n)\n",
    "    model_rf.fit(X, y)\n",
    "    scores.append(model_rf.score(X, y))\n",
    "plt.title(\"Effect of n_estimators\")\n",
    "plt.xlabel(\"n_estimator\")\n",
    "plt.ylabel(\"score\")\n",
    "plt.plot(estimators, scores)"
   ]
  },
  {
   "cell_type": "code",
   "execution_count": 747,
   "metadata": {},
   "outputs": [
    {
     "name": "stdout",
     "output_type": "stream",
     "text": [
      "RandomForest Score : 0.673386407577646\n"
     ]
    }
   ],
   "source": [
    "model_rf.fit(X,y)\n",
    "y_pred_rf = model_rf.predict(X)\n",
    "score_rf = np.sqrt(mean_squared_error(y, y_pred_rf))\n",
    "print(\"RandomForest Score :\",score_rf)\n",
    "\n",
    "#y_pred_rf_test = model_rf.predict(test_new)\n",
    "#y_pred_rf_test = np.exp(y_pred_rf_test)"
   ]
  },
  {
   "cell_type": "code",
   "execution_count": 748,
   "metadata": {},
   "outputs": [
    {
     "data": {
      "text/plain": [
       "(53320,)"
      ]
     },
     "execution_count": 748,
     "metadata": {},
     "output_type": "execute_result"
    }
   ],
   "source": [
    "y_pred_rf.shape"
   ]
  },
  {
   "cell_type": "code",
   "execution_count": null,
   "metadata": {},
   "outputs": [],
   "source": [
    "#LassoCV"
   ]
  },
  {
   "cell_type": "code",
   "execution_count": null,
   "metadata": {},
   "outputs": [],
   "source": []
  },
  {
   "cell_type": "code",
   "execution_count": null,
   "metadata": {},
   "outputs": [],
   "source": [
    "\n",
    "kf = KFold(n_splits = 5, random_state = None, shuffle = True)\n",
    "pred_tmp = np.zeros((X_test.shape[0],1)).reshape(-1)\n",
    "# print(list(kf.split(X)))\n",
    "for train_index, val_index in kf.split(X):\n",
    "#     print('train_index:', train_index)\n",
    "#     print('val_index:', val_index)\n",
    "    X_train = pd.DataFrame(data = X.values[train_index], columns = X.columns, index = train_index)\n",
    "    X_val = pd.DataFrame(data = X.values[val_index], columns = X.columns, index = val_index)\n",
    "#     y_train = pd.DataFrame(data = y.values[train_index], columns = ['SalePrice_N'], index = train_index)\n",
    "    y_train = y.values[ train_index ]\n",
    "    y_val = pd.DataFrame(data = y.values[val_index], columns = ['SalePrice'], index = val_index)\n",
    "    model_XGB = XGBRegressor()\n",
    "#    model_XGB = XGBRegressor(colsample_bytree=0.4603, gamma=0.0468, \n",
    "#                             learning_rate=0.1, max_depth=5, \n",
    "#                             min_child_weight=1.7817, n_estimators=2200,\n",
    "#                             reg_alpha=0.4640, reg_lambda=0.8571,\n",
    "#                             subsample=0.5213, silent=1,\n",
    "#                             random_state =7, nthread = -1)\n",
    "    model_XGB.fit(X_train, y_train)\n",
    "    y_pred = model_XGB.predict(X_val)\n",
    "    y_ans = model_XGB.predict(X_test)\n",
    "#     print(y_ans.shape)\n",
    "    pred_tmp+=np.exp(y_ans)\n",
    "    print('RMSE:', np.sqrt(metrics.mean_squared_error(y_val, y_pred)))\n",
    "    print('  R2:', metrics.r2_score(y_val, y_pred))\n",
    "y_answer_XGB = pred_tmp/5"
   ]
  },
  {
   "cell_type": "code",
   "execution_count": null,
   "metadata": {},
   "outputs": [],
   "source": []
  },
  {
   "cell_type": "markdown",
   "metadata": {},
   "source": [
    "## Decision Tree"
   ]
  },
  {
   "cell_type": "markdown",
   "metadata": {},
   "source": []
  },
  {
   "cell_type": "code",
   "execution_count": null,
   "metadata": {},
   "outputs": [],
   "source": [
    "#https://www.itread01.com/content/1545151168.html"
   ]
  },
  {
   "cell_type": "code",
   "execution_count": null,
   "metadata": {},
   "outputs": [],
   "source": [
    "from sklearn.model_selection import GridSearchCV\n",
    "xgb1 = XGBRegressor()\n",
    "#parameters={'colsample_bytree':[0.4603], 'gamma':[0.0468], \n",
    "#                             'learning_rate':[0.1,0.05,0.01], 'max_depth':[6,7,8], \n",
    "#                             'min_child_weight':[4], 'n_estimators':[2200],\n",
    "#                             'reg_alpha':[0.4640], 'reg_lambda':[0.8571],\n",
    "#                             'subsample:':[0.5213], 'silent':[1],\n",
    "#                             'random_state' :[7], 'nthread' : [-1]}\n",
    "\n",
    "parameters = {'nthread':[4], #when use hyperthread, xgboost may become slower\n",
    "              'objective':['reg:linear'],\n",
    "              'learning_rate': [.01], #so called `eta` value\n",
    "              'max_depth': [7],\n",
    "              'min_child_weight': [4],\n",
    "              'silent': [1],\n",
    "              'subsample': [0.7],\n",
    "              'colsample_bytree': [0.7],\n",
    "              'n_estimators': [500]}\n",
    "\n",
    "#xgb_grid = GridSearchCV(xgb1,\n",
    "#                        parameters,\n",
    "#                        cv = 2,\n",
    "#                        n_jobs = 5,\n",
    "#                        verbose=True)\n",
    "\n",
    "#xgb_grid.fit(X,y)\n",
    "\n",
    "#print(xgb_grid.best_score_)\n",
    "#print(xgb_grid.best_params_)"
   ]
  },
  {
   "cell_type": "code",
   "execution_count": null,
   "metadata": {},
   "outputs": [],
   "source": [
    "#val_preds = xgb_grid.predict(X_val)\n",
    "\n",
    "#print('RMSE:', np.sqrt(metrics.mean_squared_error( y_val, val_preds ) ) )\n",
    "#print('  R2:', metrics.r2_score( y_val, val_preds ) )"
   ]
  },
  {
   "cell_type": "code",
   "execution_count": null,
   "metadata": {},
   "outputs": [],
   "source": [
    "#y_answer_XGB = xgb_grid.predict( X_test )\n",
    "#y_answer_XGB = np.exp(y_answer_XGB)\n",
    "#print(pd.DataFrame({'SalePrice': y_answer_XGB}, index=test.Id).head())"
   ]
  },
  {
   "cell_type": "code",
   "execution_count": null,
   "metadata": {},
   "outputs": [],
   "source": [
    "#pd.DataFrame({'SalePrice': y_answer_XGB}, index=test.Id).to_csv('submission_xgb.csv')"
   ]
  },
  {
   "cell_type": "code",
   "execution_count": null,
   "metadata": {},
   "outputs": [],
   "source": []
  },
  {
   "cell_type": "markdown",
   "metadata": {},
   "source": [
    "## SVR"
   ]
  },
  {
   "cell_type": "code",
   "execution_count": null,
   "metadata": {},
   "outputs": [],
   "source": [
    "# KFold Data Split\n",
    "\n",
    "from sklearn.svm import SVR\n",
    "from sklearn.model_selection import KFold\n",
    "kf = KFold(n_splits = 5, random_state = None, shuffle = False)\n",
    "pred_tmp = np.zeros((X_test.shape[0],1)).reshape(-1)\n",
    "for train_index, val_index in kf.split(X):\n",
    "    X_train = pd.DataFrame(data = X.values[train_index], columns = X.columns, index = train_index)\n",
    "    X_val = pd.DataFrame(data = X.values[val_index], columns = X.columns, index = val_index)\n",
    "#     y_train = pd.DataFrame(data = y.values[train_index], columns = ['SalePrice'], index = train_index)\n",
    "    y_train = y.values[ train_index ]\n",
    "    y_val = pd.DataFrame(data = y.values[val_index], columns = ['total_price'], index = val_index)\n",
    "    print(train_index)\n",
    "    model_SVR = SVR(kernel='rbf', gamma=0.002)\n",
    "    model_SVR.fit(X_train, y_train)\n",
    "    print('predict')\n",
    "    y_pred = model_SVR.predict(X_val)\n",
    "    y_ans = model_SVR.predict(X_test)\n",
    "    pred_tmp+=np.exp(y_ans)\n",
    "    print('RMSE:', np.sqrt(metrics.mean_squared_error(y_val, y_pred)))\n",
    "    print('  R2:', metrics.r2_score(y_val, y_pred))\n",
    "y_answer_SVR = pred_tmp/5"
   ]
  },
  {
   "cell_type": "code",
   "execution_count": null,
   "metadata": {},
   "outputs": [],
   "source": []
  },
  {
   "cell_type": "code",
   "execution_count": null,
   "metadata": {},
   "outputs": [],
   "source": [
    "model_SVR = SVR(kernel='rbf', gamma=0.002)\n",
    "model_SVR.fit(X, y)\n",
    "y_answer_SVR = model_SVR.predict( X_test )\n",
    "y_answer_SVR = np.exp(y_answer_SVR)\n",
    "# print(pd.DataFrame(data=y_answer, columns=['SalePrice'], index=X_test.index).head())\n",
    "print(pd.DataFrame({'total_price': y_answer_SVR}, index=test.building_id).head())"
   ]
  },
  {
   "cell_type": "code",
   "execution_count": null,
   "metadata": {},
   "outputs": [],
   "source": [
    "pd.DataFrame({'total_price': y_answer_SVR}, index=test.building_id).to_csv('submission_SVR.csv')"
   ]
  },
  {
   "cell_type": "code",
   "execution_count": null,
   "metadata": {},
   "outputs": [],
   "source": []
  },
  {
   "cell_type": "markdown",
   "metadata": {},
   "source": [
    "## LassoCV"
   ]
  },
  {
   "cell_type": "code",
   "execution_count": null,
   "metadata": {},
   "outputs": [],
   "source": [
    "from sklearn.linear_model import LassoCV\n",
    "model_Lasso = LassoCV( alphas = [ 1, 0.1, 0.01, 0.001, 0.0005, 0.0004, 0.0003, 0.0002 ],\n",
    "                       max_iter = 2000 ).fit( X, y )\n",
    "print( rmse_cv( model_Lasso ), model_Lasso.alpha_ )"
   ]
  },
  {
   "cell_type": "code",
   "execution_count": null,
   "metadata": {},
   "outputs": [],
   "source": [
    "coef = pd.Series( model_Lasso.coef_, index = X.columns )\n",
    "print( sum(coef != 0), sum(coef == 0))"
   ]
  },
  {
   "cell_type": "code",
   "execution_count": null,
   "metadata": {},
   "outputs": [],
   "source": [
    "important_coef = pd.concat( [coef.sort_values().head(10), coef.sort_values().tail(10)] )\n",
    "rcParams['figure.figsize'] = (8.0, 10.0)\n",
    "important_coef.plot(kind = 'barh')\n",
    "plt.title('Coefficients in Model Lasso')"
   ]
  },
  {
   "cell_type": "code",
   "execution_count": null,
   "metadata": {},
   "outputs": [],
   "source": [
    "\n",
    "preds = model_Lasso.predict(X)\n",
    "print('RMSE:', np.sqrt(metrics.mean_squared_error(y, preds)))\n",
    "print('  R2:', metrics.r2_score( y, preds ) )"
   ]
  },
  {
   "cell_type": "code",
   "execution_count": null,
   "metadata": {},
   "outputs": [],
   "source": [
    "val_preds = model_Lasso.predict(X_val)\n",
    "print('RMSE:', np.sqrt(metrics.mean_squared_error( y_val, val_preds ) ) )\n",
    "print('  R2:', metrics.r2_score( y_val, val_preds ) )"
   ]
  },
  {
   "cell_type": "code",
   "execution_count": null,
   "metadata": {},
   "outputs": [],
   "source": [
    "y_answer_Lasso = model_Lasso.predict( X_test )\n",
    "y_answer_Lasso = np.exp(y_answer_Lasso)\n",
    "# print(pd.DataFrame(data=y_answer, columns=['SalePrice'], index=X_test.index).head())\n",
    "print(pd.DataFrame({'total_price': y_answer_Lasso}, index=test.building_id).head())"
   ]
  },
  {
   "cell_type": "code",
   "execution_count": null,
   "metadata": {},
   "outputs": [],
   "source": [
    "pd.DataFrame({'total_price': y_answer_Lasso}, index=test.building_id).to_csv('submission_Lasso_drop.csv')"
   ]
  },
  {
   "cell_type": "code",
   "execution_count": 177,
   "metadata": {},
   "outputs": [],
   "source": []
  },
  {
   "cell_type": "code",
   "execution_count": 179,
   "metadata": {},
   "outputs": [
    {
     "name": "stdout",
     "output_type": "stream",
     "text": [
      "RMSE: 0.10138901729916881\n",
      "  R2: 0.934380883634592\n"
     ]
    }
   ],
   "source": [
    "y_pred = model_SVR.predict(X)\n",
    "print('RMSE:', np.sqrt(metrics.mean_squared_error(y, y_pred)))\n",
    "print('  R2:', metrics.r2_score(y, y_pred))"
   ]
  },
  {
   "cell_type": "code",
   "execution_count": 180,
   "metadata": {},
   "outputs": [
    {
     "name": "stdout",
     "output_type": "stream",
     "text": [
      "RMSE: 0.11178810224904052\n",
      "  R2: 0.9232328827938405\n"
     ]
    }
   ],
   "source": [
    "val_preds = model_SVR.predict(X_val)\n",
    "print('RMSE:', np.sqrt(metrics.mean_squared_error( y_val, val_preds ) ) )\n",
    "print('  R2:', metrics.r2_score( y_val, val_preds ) )"
   ]
  },
  {
   "cell_type": "code",
   "execution_count": 181,
   "metadata": {},
   "outputs": [
    {
     "name": "stdout",
     "output_type": "stream",
     "text": [
      "          SalePrice\n",
      "Id                 \n",
      "1461  119564.485424\n",
      "1462  156653.579860\n",
      "1463  171243.151646\n",
      "1464  190406.991972\n",
      "1465  193886.623344\n"
     ]
    }
   ],
   "source": [
    "model_SVR = SVR(kernel='rbf', gamma=0.002)\n",
    "model_SVR.fit(X, y)\n",
    "y_answer_SVR = model_SVR.predict( X_test )\n",
    "y_answer_SVR = np.exp(y_answer_SVR)\n",
    "# print(pd.DataFrame(data=y_answer, columns=['SalePrice'], index=X_test.index).head())\n",
    "print(pd.DataFrame({'SalePrice': y_answer_SVR}, index=test.Id).head())"
   ]
  },
  {
   "cell_type": "code",
   "execution_count": 182,
   "metadata": {},
   "outputs": [],
   "source": [
    "pd.DataFrame({'SalePrice': y_answer_SVR}, index=test.Id).to_csv('submission_SVR.csv')"
   ]
  },
  {
   "cell_type": "code",
   "execution_count": 185,
   "metadata": {},
   "outputs": [
    {
     "name": "stdout",
     "output_type": "stream",
     "text": [
      "RMSE: 0.6077254179680507\n",
      "  R2: -1.357563246168168\n"
     ]
    }
   ],
   "source": [
    "#RandomForestClassifier 效果不好\n",
    "clf = RandomForestClassifier()\n",
    "clf.fit(X, y.astype('int'))\n",
    "y_pred = clf.predict(X)\n",
    "print('RMSE:', np.sqrt(metrics.mean_squared_error(y, y_pred)))\n",
    "print('  R2:', metrics.r2_score(y, y_pred))"
   ]
  },
  {
   "cell_type": "code",
   "execution_count": 186,
   "metadata": {},
   "outputs": [
    {
     "name": "stdout",
     "output_type": "stream",
     "text": [
      "RMSE: 0.6026382665096865\n",
      "  R2: -1.2309892387712504\n"
     ]
    }
   ],
   "source": [
    "val_preds = clf.predict(X_val)\n",
    "print('RMSE:', np.sqrt(metrics.mean_squared_error( y_val, val_preds ) ) )\n",
    "print('  R2:', metrics.r2_score( y_val, val_preds ) )"
   ]
  },
  {
   "cell_type": "code",
   "execution_count": 187,
   "metadata": {},
   "outputs": [
    {
     "name": "stdout",
     "output_type": "stream",
     "text": [
      "          SalePrice\n",
      "Id                 \n",
      "1461   59874.141715\n",
      "1462   59874.141715\n",
      "1463  162754.791419\n",
      "1464  162754.791419\n",
      "1465  162754.791419\n"
     ]
    }
   ],
   "source": [
    "\n",
    "y_answer_rm = clf.predict( X_test )\n",
    "y_answer_rm = np.exp(y_answer_rm)\n",
    "# print(pd.DataFrame(data=y_answer, columns=['SalePrice'], index=X_test.index).head())\n",
    "print(pd.DataFrame({'SalePrice': y_answer_rm}, index=test.Id).head())"
   ]
  },
  {
   "cell_type": "markdown",
   "metadata": {},
   "source": [
    "## Blending"
   ]
  },
  {
   "cell_type": "code",
   "execution_count": 96,
   "metadata": {},
   "outputs": [
    {
     "name": "stdout",
     "output_type": "stream",
     "text": [
      "          SalePrice\n",
      "Id                 \n",
      "1461  116306.877254\n",
      "1462  156581.025459\n",
      "1463  176170.412685\n",
      "1464  191485.161847\n",
      "1465  195519.510106\n",
      "RMSE: 0.11178810224904052\n",
      "  R2: 0.9232328827938405\n"
     ]
    }
   ],
   "source": [
    "# Lasso + SVR\n",
    "y_answer = y_answer_Lasso * 0.75 + y_answer_SVR * 0.25\n",
    "print(pd.DataFrame({'SalePrice': y_answer}, index=test.Id).head())\n",
    "print('RMSE:', np.sqrt(metrics.mean_squared_error( y_val, val_preds ) ) )\n",
    "print('  R2:', metrics.r2_score( y_val, val_preds ) )\n",
    "pd.DataFrame({'SalePrice': y_answer}, index=test.Id).to_csv('submission_LS_Best.csv')"
   ]
  },
  {
   "cell_type": "code",
   "execution_count": 97,
   "metadata": {},
   "outputs": [
    {
     "name": "stdout",
     "output_type": "stream",
     "text": [
      "          SalePrice\n",
      "Id                 \n",
      "1461  116870.775429\n",
      "1462  158092.478150\n",
      "1463  177635.847430\n",
      "1464  190654.937292\n",
      "1465  196155.229270\n",
      "RMSE: 0.11178810224904052\n",
      "  R2: 0.9232328827938405\n"
     ]
    }
   ],
   "source": [
    "# Lasso + XGB\n",
    "y_answer = y_answer_Lasso * 0.75 + y_answer_XGB * 0.25\n",
    "print(pd.DataFrame({'SalePrice': y_answer}, index=test.Id).head())\n",
    "\n",
    "print('RMSE:', np.sqrt(metrics.mean_squared_error( y_val, val_preds ) ) )\n",
    "print('  R2:', metrics.r2_score( y_val, val_preds ) )\n",
    "pd.DataFrame({'SalePrice': y_answer}, index=test.Id).to_csv('submission_LX.csv')"
   ]
  },
  {
   "cell_type": "code",
   "execution_count": 98,
   "metadata": {},
   "outputs": [
    {
     "name": "stdout",
     "output_type": "stream",
     "text": [
      "          SalePrice\n",
      "Id                 \n",
      "1461  116978.523439\n",
      "1462  158034.920031\n",
      "1463  177380.137723\n",
      "1464  190645.017135\n",
      "1465  196064.483158\n",
      "RMSE: 0.11178810224904052\n"
     ]
    }
   ],
   "source": [
    "# Lasso + SVR + XGB\n",
    "y_answer = y_answer_Lasso * 0.72 + y_answer_SVR * 0.04 + y_answer_XGB * 0.24\n",
    "print(pd.DataFrame({'SalePrice': y_answer}, index=test.Id).head())\n",
    "print('RMSE:', np.sqrt(metrics.mean_squared_error( y_val, val_preds ) ) )\n",
    "#print('  R2:', metrics.r2_score( y_answer, val_preds ) )\n",
    "pd.DataFrame({'SalePrice': y_answer}, index=test.Id).to_csv('submission_LSX.csv')"
   ]
  },
  {
   "cell_type": "code",
   "execution_count": 99,
   "metadata": {},
   "outputs": [
    {
     "name": "stdout",
     "output_type": "stream",
     "text": [
      "          SalePrice\n",
      "Id                 \n",
      "1461  118868.523805\n",
      "1462  158636.603715\n",
      "1463  175386.958434\n",
      "1464  189779.212509\n",
      "1465  195459.976346\n"
     ]
    }
   ],
   "source": [
    "# Lasso + SVR + XGB -2\n",
    "y_answer = (y_answer_Lasso + y_answer_SVR + y_answer_XGB) /3\n",
    "print(pd.DataFrame({'SalePrice': y_answer}, index=test.Id).head())\n",
    "pd.DataFrame({'SalePrice': y_answer}, index=test.Id).to_csv('submission_LSX3.csv')"
   ]
  },
  {
   "cell_type": "code",
   "execution_count": 100,
   "metadata": {},
   "outputs": [
    {
     "name": "stdout",
     "output_type": "stream",
     "text": [
      "          SalePrice\n",
      "Id                 \n",
      "1461  121143.400315\n",
      "1462  160885.644271\n",
      "1463  175346.367369\n",
      "1464  188082.363217\n",
      "1465  195666.627628\n"
     ]
    }
   ],
   "source": [
    "# SVR + XGB\n",
    "y_answer = y_answer_SVR * 0.3 + y_answer_XGB * 0.7\n",
    "print(pd.DataFrame({'SalePrice': y_answer}, index=test.Id).head())\n",
    "\n",
    "pd.DataFrame({'SalePrice': y_answer}, index=test.Id).to_csv('submission_SX.csv')"
   ]
  },
  {
   "cell_type": "code",
   "execution_count": null,
   "metadata": {},
   "outputs": [],
   "source": []
  },
  {
   "cell_type": "code",
   "execution_count": null,
   "metadata": {},
   "outputs": [],
   "source": []
  },
  {
   "cell_type": "code",
   "execution_count": null,
   "metadata": {},
   "outputs": [],
   "source": []
  },
  {
   "cell_type": "code",
   "execution_count": null,
   "metadata": {},
   "outputs": [],
   "source": []
  },
  {
   "cell_type": "code",
   "execution_count": null,
   "metadata": {},
   "outputs": [],
   "source": []
  },
  {
   "cell_type": "code",
   "execution_count": null,
   "metadata": {},
   "outputs": [],
   "source": []
  },
  {
   "cell_type": "code",
   "execution_count": null,
   "metadata": {},
   "outputs": [],
   "source": []
  },
  {
   "cell_type": "code",
   "execution_count": null,
   "metadata": {},
   "outputs": [],
   "source": []
  },
  {
   "cell_type": "code",
   "execution_count": null,
   "metadata": {},
   "outputs": [],
   "source": []
  },
  {
   "cell_type": "code",
   "execution_count": null,
   "metadata": {},
   "outputs": [],
   "source": []
  },
  {
   "cell_type": "code",
   "execution_count": null,
   "metadata": {},
   "outputs": [],
   "source": []
  },
  {
   "cell_type": "code",
   "execution_count": null,
   "metadata": {},
   "outputs": [],
   "source": []
  },
  {
   "cell_type": "code",
   "execution_count": null,
   "metadata": {},
   "outputs": [],
   "source": []
  },
  {
   "cell_type": "code",
   "execution_count": null,
   "metadata": {},
   "outputs": [],
   "source": []
  },
  {
   "cell_type": "code",
   "execution_count": null,
   "metadata": {},
   "outputs": [],
   "source": []
  },
  {
   "cell_type": "code",
   "execution_count": null,
   "metadata": {},
   "outputs": [],
   "source": []
  },
  {
   "cell_type": "code",
   "execution_count": null,
   "metadata": {},
   "outputs": [],
   "source": []
  },
  {
   "cell_type": "code",
   "execution_count": null,
   "metadata": {},
   "outputs": [],
   "source": []
  },
  {
   "cell_type": "code",
   "execution_count": null,
   "metadata": {},
   "outputs": [],
   "source": []
  },
  {
   "cell_type": "code",
   "execution_count": null,
   "metadata": {},
   "outputs": [],
   "source": []
  },
  {
   "cell_type": "code",
   "execution_count": null,
   "metadata": {},
   "outputs": [],
   "source": []
  },
  {
   "cell_type": "code",
   "execution_count": null,
   "metadata": {},
   "outputs": [],
   "source": []
  },
  {
   "cell_type": "code",
   "execution_count": null,
   "metadata": {},
   "outputs": [],
   "source": []
  },
  {
   "cell_type": "code",
   "execution_count": null,
   "metadata": {},
   "outputs": [],
   "source": []
  },
  {
   "cell_type": "code",
   "execution_count": null,
   "metadata": {},
   "outputs": [],
   "source": []
  },
  {
   "cell_type": "code",
   "execution_count": null,
   "metadata": {},
   "outputs": [],
   "source": []
  },
  {
   "cell_type": "code",
   "execution_count": null,
   "metadata": {},
   "outputs": [],
   "source": []
  },
  {
   "cell_type": "code",
   "execution_count": null,
   "metadata": {},
   "outputs": [],
   "source": []
  },
  {
   "cell_type": "code",
   "execution_count": null,
   "metadata": {},
   "outputs": [],
   "source": []
  },
  {
   "cell_type": "code",
   "execution_count": null,
   "metadata": {},
   "outputs": [],
   "source": []
  },
  {
   "cell_type": "code",
   "execution_count": null,
   "metadata": {},
   "outputs": [],
   "source": []
  },
  {
   "cell_type": "code",
   "execution_count": null,
   "metadata": {},
   "outputs": [],
   "source": []
  },
  {
   "cell_type": "code",
   "execution_count": null,
   "metadata": {},
   "outputs": [],
   "source": []
  },
  {
   "cell_type": "code",
   "execution_count": null,
   "metadata": {},
   "outputs": [],
   "source": []
  },
  {
   "cell_type": "code",
   "execution_count": null,
   "metadata": {},
   "outputs": [],
   "source": []
  },
  {
   "cell_type": "code",
   "execution_count": null,
   "metadata": {},
   "outputs": [],
   "source": []
  },
  {
   "cell_type": "code",
   "execution_count": null,
   "metadata": {},
   "outputs": [],
   "source": []
  },
  {
   "cell_type": "code",
   "execution_count": null,
   "metadata": {},
   "outputs": [],
   "source": []
  }
 ],
 "metadata": {
  "kernelspec": {
   "display_name": "Python 3",
   "language": "python",
   "name": "python3"
  },
  "language_info": {
   "codemirror_mode": {
    "name": "ipython",
    "version": 3
   },
   "file_extension": ".py",
   "mimetype": "text/x-python",
   "name": "python",
   "nbconvert_exporter": "python",
   "pygments_lexer": "ipython3",
   "version": "3.6.6"
  }
 },
 "nbformat": 4,
 "nbformat_minor": 2
}
