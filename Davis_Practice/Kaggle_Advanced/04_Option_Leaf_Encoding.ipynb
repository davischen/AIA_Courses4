{
 "cells": [
  {
   "cell_type": "markdown",
   "metadata": {
    "colab_type": "text",
    "id": "eara96TZ4NXn"
   },
   "source": [
    "\n",
    "# Feature transformations with ensembles of trees\n",
    "\n",
    "### 此Notebook主要是基於，[Facebook發表的廣告點擊預測](http://quinonero.net/Publications/predicting-clicks-facebook.pdf) paper\n",
    "   - Logistic 使用Tree Based model的**特徵轉換**後的新特徵，表現會優於Tree Based Model。\n",
    "   - 此Notebook 使用**Holdout Scheme**，避免Overfitting\n",
    "\n",
    "#### 此筆記本是改版他人的開源\n",
    "#### 原作者: Tim Head <betatim@gmail.com>\n"
   ]
  },
  {
   "cell_type": "code",
   "execution_count": 1,
   "metadata": {
    "colab": {},
    "colab_type": "code",
    "id": "qAzaJFCM4NXp"
   },
   "outputs": [],
   "source": [
    "import numpy as np\n",
    "np.random.seed(10)\n",
    "\n",
    "import matplotlib.pyplot as plt\n",
    "%matplotlib notebook\n",
    "\n",
    "from sklearn.datasets import make_classification\n",
    "from sklearn.linear_model import LogisticRegression,SGDClassifier\n",
    "from sklearn.ensemble import RandomTreesEmbedding, RandomForestClassifier,GradientBoostingClassifier\n",
    "from sklearn.preprocessing import OneHotEncoder\n",
    "from sklearn.model_selection import train_test_split\n",
    "from sklearn.metrics import roc_curve\n",
    "from sklearn.pipeline import make_pipeline\n",
    "\n",
    "from xgboost.sklearn import XGBClassifier\n",
    "import xgboost as xgb"
   ]
  },
  {
   "cell_type": "code",
   "execution_count": 2,
   "metadata": {
    "colab": {},
    "colab_type": "code",
    "id": "AmXPt7yP4NXx"
   },
   "outputs": [],
   "source": [
    "X, y = make_classification(n_samples=80000,scale=None)\n",
    "X_train, X_test, y_train, y_test = train_test_split(X, y, test_size=0.5) \n",
    "# 這裡主要是切出測試集X_test, y_test\n",
    "\n",
    "X_train, X_train_lr, y_train, y_train_lr = train_test_split(X_train, y_train, test_size=0.5)\n",
    "\n",
    "# 為什麼切兩次？\n",
    "# Ans: HoldOut Scheme。 請記住準則概念，避免overfitting，請不要訓練原本數據後，還拿去預測自己的label。"
   ]
  },
  {
   "cell_type": "markdown",
   "metadata": {
    "colab_type": "text",
    "id": "HdQC2Lb34NX2"
   },
   "source": [
    "## 藉由調整幾棵樹，看看最後表現\n",
    "- 樹超過一定數量表現就會差不多"
   ]
  },
  {
   "cell_type": "code",
   "execution_count": 3,
   "metadata": {
    "colab": {},
    "colab_type": "code",
    "id": "8l96wYn84NX3"
   },
   "outputs": [],
   "source": [
    "n_estimator = 100 # 請手動調整看看"
   ]
  },
  {
   "cell_type": "markdown",
   "metadata": {
    "colab_type": "text",
    "id": "QYBfJ5H_4NX5"
   },
   "source": [
    "### Unsupervised transformation based on totally random trees\n",
    "`RandomTreesEmbedding`"
   ]
  },
  {
   "cell_type": "code",
   "execution_count": 4,
   "metadata": {
    "colab": {},
    "colab_type": "code",
    "id": "0ucHd5-G4NX7"
   },
   "outputs": [
    {
     "name": "stderr",
     "output_type": "stream",
     "text": [
      "/home/jovyan/.local/lib/python3.6/site-packages/sklearn/linear_model/logistic.py:432: FutureWarning: Default solver will be changed to 'lbfgs' in 0.22. Specify a solver to silence this warning.\n",
      "  FutureWarning)\n"
     ]
    }
   ],
   "source": [
    "rt = RandomTreesEmbedding(max_depth=3, n_estimators=n_estimator, random_state=1)\n",
    "rt_lm = LogisticRegression()\n",
    "\n",
    "pipeline = make_pipeline(rt, rt_lm)\n",
    "pipeline.fit(X_train, y_train)\n",
    "y_pred_rt = pipeline.predict_proba(X_test)[:, 1]\n",
    "fpr_rt_lm, tpr_rt_lm, _ = roc_curve(y_test, y_pred_rt)"
   ]
  },
  {
   "cell_type": "markdown",
   "metadata": {
    "colab_type": "text",
    "id": "FXSWwZ2_4NX_"
   },
   "source": [
    "## 隨機森林特徵轉換，使用Logistic"
   ]
  },
  {
   "cell_type": "code",
   "execution_count": 5,
   "metadata": {
    "colab": {},
    "colab_type": "code",
    "id": "LTZeRtA14NYA"
   },
   "outputs": [
    {
     "name": "stderr",
     "output_type": "stream",
     "text": [
      "/home/jovyan/.local/lib/python3.6/site-packages/sklearn/preprocessing/_encoders.py:363: FutureWarning: The handling of integer data will change in version 0.22. Currently, the categories are determined based on the range [0, max(values)], while in the future they will be determined based on the unique values.\n",
      "If you want the future behaviour and silence this warning, you can specify \"categories='auto'\".\n",
      "In case you used a LabelEncoder before this OneHotEncoder to convert the categories to integers, then you can now use the OneHotEncoder directly.\n",
      "  warnings.warn(msg, FutureWarning)\n",
      "/home/jovyan/.local/lib/python3.6/site-packages/sklearn/linear_model/logistic.py:432: FutureWarning: Default solver will be changed to 'lbfgs' in 0.22. Specify a solver to silence this warning.\n",
      "  FutureWarning)\n"
     ]
    }
   ],
   "source": [
    "rf = RandomForestClassifier(max_depth=3, n_estimators=n_estimator, random_state=1) # 隨機森林\n",
    "rf_enc = OneHotEncoder()\n",
    "rf_lm = LogisticRegression()\n",
    "\n",
    "rf.fit(X_train, y_train)\n",
    "rf_enc.fit(rf.apply(X_train)) # 把Tree based轉換後的特徵，進行One Hot，\n",
    "                              # Why One Hot ?\n",
    "                              # 請點擊開頭的連結paper，看到 Figure 1 底下文字， \n",
    "                              # The output of each individual tree is treated as a \"\"CATEGORICAL\"\" input feature \n",
    "                              # 這是Tree Based model 不用OneHot 有差嗎？\n",
    "                              # Reply: please try it.\n",
    "                              # PS 設定幾棵樹，假設N，他的特徵欄位就有N個，所以這是矩陣不用LabelEncode  \n",
    "\n",
    "                              \n",
    "\n",
    "rf_lm.fit(rf_enc.transform(rf.apply(X_train_lr)), y_train_lr)\n",
    "                             # Why X_train for GBDT But X_train_lr for Logistic ?\n",
    "                             # 避免 Overfitting，不要訓練自己後，還去預測自己的label。\n",
    "        \n",
    "y_pred_rf_lm = rf_lm.predict_proba(rf_enc.transform(rf.apply(X_test)))[:, 1]\n",
    "fpr_rf_lm, tpr_rf_lm, _ = roc_curve(y_test, y_pred_rf_lm)"
   ]
  },
  {
   "cell_type": "markdown",
   "metadata": {
    "colab_type": "text",
    "id": "y_VdlnfH4NYC"
   },
   "source": [
    "## GBM特徵轉換，使用Logistic\n",
    "\n"
   ]
  },
  {
   "cell_type": "code",
   "execution_count": 6,
   "metadata": {
    "colab": {},
    "colab_type": "code",
    "id": "UxGFWh2U4NYD"
   },
   "outputs": [
    {
     "name": "stderr",
     "output_type": "stream",
     "text": [
      "/home/jovyan/.local/lib/python3.6/site-packages/sklearn/preprocessing/_encoders.py:363: FutureWarning: The handling of integer data will change in version 0.22. Currently, the categories are determined based on the range [0, max(values)], while in the future they will be determined based on the unique values.\n",
      "If you want the future behaviour and silence this warning, you can specify \"categories='auto'\".\n",
      "In case you used a LabelEncoder before this OneHotEncoder to convert the categories to integers, then you can now use the OneHotEncoder directly.\n",
      "  warnings.warn(msg, FutureWarning)\n",
      "/home/jovyan/.local/lib/python3.6/site-packages/sklearn/linear_model/logistic.py:432: FutureWarning: Default solver will be changed to 'lbfgs' in 0.22. Specify a solver to silence this warning.\n",
      "  FutureWarning)\n"
     ]
    }
   ],
   "source": [
    "grd = GradientBoostingClassifier(n_estimators=n_estimator, random_state=1)\n",
    "grd_enc = OneHotEncoder()\n",
    "grd_lm = LogisticRegression()\n",
    "\n",
    "grd.fit(X_train, y_train)\n",
    "grd_enc.fit(grd.apply(X_train)[:, :, 0])\n",
    "grd_lm.fit(grd_enc.transform(grd.apply(X_train_lr)[:, :, 0]), y_train_lr)\n",
    "\n",
    "y_pred_grd_lm = grd_lm.predict_proba(\n",
    "    grd_enc.transform(grd.apply(X_test)[:, :, 0]))[:, 1]\n",
    "fpr_grd_lm, tpr_grd_lm, _ = roc_curve(y_test, y_pred_grd_lm)"
   ]
  },
  {
   "cell_type": "markdown",
   "metadata": {
    "colab_type": "text",
    "id": "l5CDRZK44NYG"
   },
   "source": [
    "## XGB 特徵轉換，使用Logistic"
   ]
  },
  {
   "cell_type": "code",
   "execution_count": 7,
   "metadata": {
    "colab": {},
    "colab_type": "code",
    "id": "nvMPXBy04NYG"
   },
   "outputs": [
    {
     "name": "stderr",
     "output_type": "stream",
     "text": [
      "/home/jovyan/.local/lib/python3.6/site-packages/sklearn/preprocessing/_encoders.py:363: FutureWarning: The handling of integer data will change in version 0.22. Currently, the categories are determined based on the range [0, max(values)], while in the future they will be determined based on the unique values.\n",
      "If you want the future behaviour and silence this warning, you can specify \"categories='auto'\".\n",
      "In case you used a LabelEncoder before this OneHotEncoder to convert the categories to integers, then you can now use the OneHotEncoder directly.\n",
      "  warnings.warn(msg, FutureWarning)\n",
      "/home/jovyan/.local/lib/python3.6/site-packages/sklearn/linear_model/logistic.py:432: FutureWarning: Default solver will be changed to 'lbfgs' in 0.22. Specify a solver to silence this warning.\n",
      "  FutureWarning)\n"
     ]
    }
   ],
   "source": [
    "xgb = XGBClassifier(\n",
    "    n_estimators=n_estimator,\n",
    "    learning_rate =0.3, max_depth=3, seed=1)\n",
    "\n",
    "xgb_enc = OneHotEncoder()\n",
    "xgb_lm = LogisticRegression()\n",
    "\n",
    "xgb.fit(X_train, y_train)\n",
    "xgb_enc.fit(xgb.apply(X_train))\n",
    "xgb_lm.fit(xgb_enc.transform(xgb.apply(X_train_lr)), y_train_lr)\n",
    "\n",
    "y_pred_xgb_lm = xgb_lm.predict_proba(\n",
    "    xgb_enc.transform(xgb.apply(X_test)))[:, 1]\n",
    "fpr_xgb_lm, tpr_xgb_lm, _ = roc_curve(y_test, y_pred_xgb_lm)"
   ]
  },
  {
   "cell_type": "markdown",
   "metadata": {
    "colab_type": "text",
    "id": "lEVkUqdm4NYI"
   },
   "source": [
    "## 隨機森林\n"
   ]
  },
  {
   "cell_type": "code",
   "execution_count": 8,
   "metadata": {
    "colab": {},
    "colab_type": "code",
    "id": "wX1mDzps4NYJ"
   },
   "outputs": [],
   "source": [
    "y_pred_rf = rf.predict_proba(X_test)[:, 1]\n",
    "fpr_rf, tpr_rf, _ = roc_curve(y_test, y_pred_rf)"
   ]
  },
  {
   "cell_type": "markdown",
   "metadata": {
    "colab_type": "text",
    "id": "ez1XoWN74NYM"
   },
   "source": [
    "## GBM"
   ]
  },
  {
   "cell_type": "code",
   "execution_count": 9,
   "metadata": {
    "colab": {},
    "colab_type": "code",
    "id": "vJiQN7DL4NYM"
   },
   "outputs": [],
   "source": [
    "y_pred_grd = grd.predict_proba(X_test)[:, 1]\n",
    "fpr_grd, tpr_grd, _ = roc_curve(y_test, y_pred_grd)"
   ]
  },
  {
   "cell_type": "markdown",
   "metadata": {
    "colab_type": "text",
    "id": "kZ859zr54NYP"
   },
   "source": [
    "## XGB"
   ]
  },
  {
   "cell_type": "code",
   "execution_count": 10,
   "metadata": {
    "colab": {},
    "colab_type": "code",
    "id": "gpF_lx2-4NYQ"
   },
   "outputs": [],
   "source": [
    "y_pred_xgb = xgb.predict_proba(X_test)[:, 1]\n",
    "fpr_xgb , tpr_xgb , _ = roc_curve(y_test, y_pred_xgb )"
   ]
  },
  {
   "cell_type": "markdown",
   "metadata": {
    "colab_type": "text",
    "id": "hVg1zJVU4NYS"
   },
   "source": [
    "## 預期結果\n",
    "#### 使用logistic 套用在 Tree based model 特徵轉換後新特徵，表現應該要勝過Tree based model\n",
    "1. GBT + Logistic  應該要贏過 GBT\n",
    "2. Randomforest + Logistic 應該要贏過 RandomForest\n",
    "3. Xgboost + Logistic 應該要贏過 Xgboost"
   ]
  },
  {
   "cell_type": "code",
   "execution_count": 11,
   "metadata": {
    "colab": {},
    "colab_type": "code",
    "id": "PypgEaOw4NYT",
    "outputId": "2490dfde-9a0a-435f-9f67-b698aaba20ed"
   },
   "outputs": [
    {
     "data": {
      "image/png": "[encoded data removed]",
      "text/plain": [
       "<Figure size 432x288 with 1 Axes>"
      ]
     },
     "metadata": {
      "needs_background": "light"
     },
     "output_type": "display_data"
    },
    {
     "data": {
      "image/png": "[encoded data removed]",
      "text/plain": [
       "<Figure size 432x288 with 1 Axes>"
      ]
     },
     "metadata": {
      "needs_background": "light"
     },
     "output_type": "display_data"
    }
   ],
   "source": [
    "plt.figure(1)\n",
    "plt.plot([0, 1], [0, 1], 'k--')\n",
    "plt.plot(fpr_rt_lm, tpr_rt_lm, label='Random Trees + Logistic')\n",
    "plt.plot(fpr_rf, tpr_rf, label='Random Forest')\n",
    "plt.plot(fpr_rf_lm, tpr_rf_lm, label='Random Forest + Logistic')\n",
    "plt.plot(fpr_grd, tpr_grd, label='GBT')\n",
    "plt.plot(fpr_grd_lm, tpr_grd_lm, label='GBT + Logistic')\n",
    "\n",
    "plt.plot(fpr_xgb, tpr_xgb, label='XGB')\n",
    "plt.plot(fpr_xgb_lm, tpr_xgb_lm, label='XGB + Logistic')\n",
    "\n",
    "plt.xlabel('False positive rate')\n",
    "plt.ylabel('True positive rate')\n",
    "plt.title('ROC curve')\n",
    "plt.legend(loc='best')\n",
    "plt.show()\n",
    "\n",
    "plt.figure(2)\n",
    "plt.xlim(0, 0.2)\n",
    "plt.ylim(0.8, 1)\n",
    "plt.plot([0, 1], [0, 1], 'k--')\n",
    "plt.plot(fpr_rt_lm, tpr_rt_lm, label='Random Trees + Logistic')\n",
    "plt.plot(fpr_rf, tpr_rf, label='Random Forest')\n",
    "plt.plot(fpr_rf_lm, tpr_rf_lm, label='Random Forest + Logistic')\n",
    "plt.plot(fpr_grd, tpr_grd, label='GBT')\n",
    "plt.plot(fpr_grd_lm, tpr_grd_lm, label='GBT + Logistic')\n",
    "\n",
    "plt.plot(fpr_xgb, tpr_xgb, label='XGB')\n",
    "plt.plot(fpr_xgb_lm, tpr_xgb_lm, label='XGB + Logistic')\n",
    "\n",
    "plt.xlabel('False positive rate')\n",
    "plt.ylabel('True positive rate')\n",
    "plt.title('ROC curve (zoomed in at top left)')\n",
    "plt.legend(loc='best')\n",
    "plt.show()"
   ]
  }
 ],
 "metadata": {
  "colab": {
   "name": "04_Option_Leaf_Encoding.ipynb",
   "provenance": [],
   "version": "0.3.2"
  },
  "kernelspec": {
   "display_name": "Python 3",
   "language": "python",
   "name": "python3"
  },
  "language_info": {
   "codemirror_mode": {
    "name": "ipython",
    "version": 3
   },
   "file_extension": ".py",
   "mimetype": "text/x-python",
   "name": "python",
   "nbconvert_exporter": "python",
   "pygments_lexer": "ipython3",
   "version": "3.6.6"
  }
 },
 "nbformat": 4,
 "nbformat_minor": 2
}
