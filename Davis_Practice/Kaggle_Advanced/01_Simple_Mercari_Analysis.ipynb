{
 "cells": [
  {
   "cell_type": "markdown",
   "metadata": {
    "colab_type": "text",
    "id": "-VPlLlT22p3w"
   },
   "source": [
    "# Simple Mercari Price EDA Toturial\n",
    "\n",
    "![](https://cdn-images-1.medium.com/max/1600/1*jX6Gwn1rt4da7e-yUj84IQ.png)\n",
    "\n",
    "#### 日本最大電商 Mercari 真實數據，從文字分析，推估建議售價給客戶，您將會了解真實Raw data 樣貌，以及循序漸進的處理方式。\n",
    "#### 這次Project則是手把手，帶學員走過一次。"
   ]
  },
  {
   "cell_type": "code",
   "execution_count": 1,
   "metadata": {
    "colab": {
     "autoexec": {
      "startup": false,
      "wait_interval": 0
     }
    },
    "colab_type": "code",
    "id": "CwPx9NP-2p3z"
   },
   "outputs": [],
   "source": [
    "import numpy as np\n",
    "import pandas as pd\n",
    "\n",
    "import string\n",
    "import re\n",
    "\n",
    "import matplotlib.pyplot as plt\n",
    "import seaborn as sns\n",
    "plt.style.use('fivethirtyeight') \n",
    "\n",
    "import gc\n",
    "gc.enable()\n",
    "\n",
    "import warnings\n",
    "warnings.filterwarnings('ignore')"
   ]
  },
  {
   "cell_type": "markdown",
   "metadata": {
    "colab_type": "text",
    "id": "J7wmuhye2p39"
   },
   "source": [
    "## 讀取檔案"
   ]
  },
  {
   "cell_type": "code",
   "execution_count": 2,
   "metadata": {
    "colab": {
     "autoexec": {
      "startup": false,
      "wait_interval": 0
     }
    },
    "colab_type": "code",
    "id": "5Wg5pDSr2p3_"
   },
   "outputs": [],
   "source": [
    "PATH = 'data/'\n",
    "test = pd.read_table(PATH + 'test.tsv',  engine='c')\n",
    "train = pd.read_table(PATH + 'train.tsv',  engine='c')"
   ]
  },
  {
   "cell_type": "code",
   "execution_count": 3,
   "metadata": {
    "colab": {
     "autoexec": {
      "startup": false,
      "wait_interval": 0
     }
    },
    "colab_type": "code",
    "id": "8ALW0PXg2p4F",
    "outputId": "c386512e-ffcd-40a5-bbd1-2c2d7e03b59b"
   },
   "outputs": [
    {
     "data": {
      "text/html": [
       "<div>\n",
       "<style scoped>\n",
       "    .dataframe tbody tr th:only-of-type {\n",
       "        vertical-align: middle;\n",
       "    }\n",
       "\n",
       "    .dataframe tbody tr th {\n",
       "        vertical-align: top;\n",
       "    }\n",
       "\n",
       "    .dataframe thead th {\n",
       "        text-align: right;\n",
       "    }\n",
       "</style>\n",
       "<table border=\"1\" class=\"dataframe\">\n",
       "  <thead>\n",
       "    <tr style=\"text-align: right;\">\n",
       "      <th></th>\n",
       "      <th>train_id</th>\n",
       "      <th>name</th>\n",
       "      <th>item_condition_id</th>\n",
       "      <th>category_name</th>\n",
       "      <th>brand_name</th>\n",
       "      <th>price</th>\n",
       "      <th>shipping</th>\n",
       "      <th>item_description</th>\n",
       "    </tr>\n",
       "  </thead>\n",
       "  <tbody>\n",
       "    <tr>\n",
       "      <th>0</th>\n",
       "      <td>0</td>\n",
       "      <td>MLB Cincinnati Reds T Shirt Size XL</td>\n",
       "      <td>3</td>\n",
       "      <td>Men/Tops/T-shirts</td>\n",
       "      <td>NaN</td>\n",
       "      <td>10.0</td>\n",
       "      <td>1</td>\n",
       "      <td>No description yet</td>\n",
       "    </tr>\n",
       "    <tr>\n",
       "      <th>1</th>\n",
       "      <td>1</td>\n",
       "      <td>Razer BlackWidow Chroma Keyboard</td>\n",
       "      <td>3</td>\n",
       "      <td>Electronics/Computers &amp; Tablets/Components &amp; P...</td>\n",
       "      <td>Razer</td>\n",
       "      <td>52.0</td>\n",
       "      <td>0</td>\n",
       "      <td>This keyboard is in great condition and works ...</td>\n",
       "    </tr>\n",
       "    <tr>\n",
       "      <th>2</th>\n",
       "      <td>2</td>\n",
       "      <td>AVA-VIV Blouse</td>\n",
       "      <td>1</td>\n",
       "      <td>Women/Tops &amp; Blouses/Blouse</td>\n",
       "      <td>Target</td>\n",
       "      <td>10.0</td>\n",
       "      <td>1</td>\n",
       "      <td>Adorable top with a hint of lace and a key hol...</td>\n",
       "    </tr>\n",
       "    <tr>\n",
       "      <th>3</th>\n",
       "      <td>3</td>\n",
       "      <td>Leather Horse Statues</td>\n",
       "      <td>1</td>\n",
       "      <td>Home/Home Décor/Home Décor Accents</td>\n",
       "      <td>NaN</td>\n",
       "      <td>35.0</td>\n",
       "      <td>1</td>\n",
       "      <td>New with tags. Leather horses. Retail for [rm]...</td>\n",
       "    </tr>\n",
       "    <tr>\n",
       "      <th>4</th>\n",
       "      <td>4</td>\n",
       "      <td>24K GOLD plated rose</td>\n",
       "      <td>1</td>\n",
       "      <td>Women/Jewelry/Necklaces</td>\n",
       "      <td>NaN</td>\n",
       "      <td>44.0</td>\n",
       "      <td>0</td>\n",
       "      <td>Complete with certificate of authenticity</td>\n",
       "    </tr>\n",
       "  </tbody>\n",
       "</table>\n",
       "</div>"
      ],
      "text/plain": [
       "   train_id                                 name  item_condition_id  \\\n",
       "0         0  MLB Cincinnati Reds T Shirt Size XL                  3   \n",
       "1         1     Razer BlackWidow Chroma Keyboard                  3   \n",
       "2         2                       AVA-VIV Blouse                  1   \n",
       "3         3                Leather Horse Statues                  1   \n",
       "4         4                 24K GOLD plated rose                  1   \n",
       "\n",
       "                                       category_name brand_name  price  \\\n",
       "0                                  Men/Tops/T-shirts        NaN   10.0   \n",
       "1  Electronics/Computers & Tablets/Components & P...      Razer   52.0   \n",
       "2                        Women/Tops & Blouses/Blouse     Target   10.0   \n",
       "3                 Home/Home Décor/Home Décor Accents        NaN   35.0   \n",
       "4                            Women/Jewelry/Necklaces        NaN   44.0   \n",
       "\n",
       "   shipping                                   item_description  \n",
       "0         1                                 No description yet  \n",
       "1         0  This keyboard is in great condition and works ...  \n",
       "2         1  Adorable top with a hint of lace and a key hol...  \n",
       "3         1  New with tags. Leather horses. Retail for [rm]...  \n",
       "4         0          Complete with certificate of authenticity  "
      ]
     },
     "execution_count": 3,
     "metadata": {},
     "output_type": "execute_result"
    }
   ],
   "source": [
    "train.head()"
   ]
  },
  {
   "cell_type": "markdown",
   "metadata": {
    "colab_type": "text",
    "id": "Yap5raVH2p4N"
   },
   "source": [
    "\n",
    "#### 屬性\n",
    "\n",
    "1. **name**, **brand_name**, **category_name**, **item_description** 四個文字特徵欄位\n",
    "2. brand_name 歸類成Categorical (nominal = non-ordinal)\n",
    "3. item_condition_id 也是 Categorical ( nominal range = [1,2,3,4,5])\n",
    "4. shipping 可以出貨櫃與否 \n",
    "\n",
    "善用 `value_counts`"
   ]
  },
  {
   "cell_type": "markdown",
   "metadata": {
    "colab_type": "text",
    "id": "cMZU69Eh2p4P"
   },
   "source": [
    "## 檢視檔案大小"
   ]
  },
  {
   "cell_type": "code",
   "execution_count": 4,
   "metadata": {
    "colab": {
     "autoexec": {
      "startup": false,
      "wait_interval": 0
     }
    },
    "colab_type": "code",
    "id": "z3mBbZGu2p4Q",
    "outputId": "575baae3-5793-42d6-e114-7f300835ae83"
   },
   "outputs": [
    {
     "name": "stdout",
     "output_type": "stream",
     "text": [
      "<class 'pandas.core.frame.DataFrame'>\n",
      "RangeIndex: 1482535 entries, 0 to 1482534\n",
      "Columns: 8 entries, train_id to item_description\n",
      "dtypes: float64(1), int64(3), object(4)\n",
      "memory usage: 90.5+ MB\n"
     ]
    }
   ],
   "source": [
    "train.info(verbose=False)"
   ]
  },
  {
   "cell_type": "code",
   "execution_count": 5,
   "metadata": {
    "colab": {
     "autoexec": {
      "startup": false,
      "wait_interval": 0
     }
    },
    "colab_type": "code",
    "id": "gnIohG5F2p4W",
    "outputId": "84e126d2-6c00-4ee3-d8a7-b45093e61a61"
   },
   "outputs": [
    {
     "name": "stdout",
     "output_type": "stream",
     "text": [
      "<class 'pandas.core.frame.DataFrame'>\n",
      "RangeIndex: 693359 entries, 0 to 693358\n",
      "Columns: 7 entries, test_id to item_description\n",
      "dtypes: int64(3), object(4)\n",
      "memory usage: 37.0+ MB\n"
     ]
    }
   ],
   "source": [
    "test.info(verbose=False)"
   ]
  },
  {
   "cell_type": "markdown",
   "metadata": {
    "colab_type": "text",
    "id": "wxUDh62F2p4b"
   },
   "source": [
    "- Note: 檔案不大，不進行資料型態轉換\n",
    "\n",
    "## 缺失數據檢視\n",
    "`isnull`"
   ]
  },
  {
   "cell_type": "code",
   "execution_count": 6,
   "metadata": {
    "colab": {
     "autoexec": {
      "startup": false,
      "wait_interval": 0
     }
    },
    "colab_type": "code",
    "id": "Ku8fbKiT2p4c",
    "outputId": "ae7e7563-67af-4ca9-ea83-284d145fffde"
   },
   "outputs": [
    {
     "data": {
      "text/plain": [
       "train_id                  0\n",
       "name                      0\n",
       "item_condition_id         0\n",
       "category_name          6327\n",
       "brand_name           632682\n",
       "price                     0\n",
       "shipping                  0\n",
       "item_description          4\n",
       "dtype: int64"
      ]
     },
     "execution_count": 6,
     "metadata": {},
     "output_type": "execute_result"
    }
   ],
   "source": [
    "train.isnull().sum()"
   ]
  },
  {
   "cell_type": "code",
   "execution_count": 7,
   "metadata": {
    "colab": {
     "autoexec": {
      "startup": false,
      "wait_interval": 0
     }
    },
    "colab_type": "code",
    "id": "GRECRGGv2p4g",
    "outputId": "df99e4c1-842d-4c35-e706-943062668f0d"
   },
   "outputs": [
    {
     "data": {
      "text/plain": [
       "test_id                   0\n",
       "name                      0\n",
       "item_condition_id         0\n",
       "category_name          3058\n",
       "brand_name           295525\n",
       "shipping                  0\n",
       "item_description          0\n",
       "dtype: int64"
      ]
     },
     "execution_count": 7,
     "metadata": {},
     "output_type": "execute_result"
    }
   ],
   "source": [
    "test.isnull().sum()"
   ]
  },
  {
   "cell_type": "markdown",
   "metadata": {
    "colab_type": "text",
    "id": "D_L2V8yy2p4k"
   },
   "source": [
    "## 缺失值，視覺化\n",
    "\n",
    "請安裝 `missingno` **才能**執行以下的Cell\n",
    "\n",
    "[Official Doc](https://github.com/ResidentMario/missingno)\n",
    "\n",
    "這裡使用 missingno 可以看出欄位**位置**的缺失，白色部分，用於檢視，train/test 缺失**分佈位置**。\n",
    "\n"
   ]
  },
  {
   "cell_type": "code",
   "execution_count": null,
   "metadata": {},
   "outputs": [],
   "source": [
    "# !pip install missingno"
   ]
  },
  {
   "cell_type": "code",
   "execution_count": 8,
   "metadata": {
    "colab": {
     "autoexec": {
      "startup": false,
      "wait_interval": 0
     }
    },
    "colab_type": "code",
    "id": "R-3OEwdU2p4l",
    "outputId": "e14e1595-87b1-44c1-831f-72d54319e3c5"
   },
   "outputs": [
    {
     "data": {
      "image/png": "[encoded data removed]",
      "text/plain": [
       "<Figure size 1440x576 with 2 Axes>"
      ]
     },
     "metadata": {
      "needs_background": "light"
     },
     "output_type": "display_data"
    }
   ],
   "source": [
    "import missingno as msno\n",
    "\n",
    "def missingno_matrix(df, figsize=(20,8)):\n",
    "    ''' Missing Value visualization by matrix plot\n",
    "\n",
    "        Parameters:\n",
    "        -----------\n",
    "        df: DataFrame\n",
    "\n",
    "        Return: matrix plot\n",
    "        -----------\n",
    "    '''\n",
    "\n",
    "    missingValueColumns = df.columns[df.isnull().any()].tolist()\n",
    "    msno.matrix(df[missingValueColumns],width_ratios=(10,1),\\\n",
    "            figsize=figsize,color=(0, 0, 0),fontsize=12, sparkline=True, labels=True)\n",
    "    plt.show()\n",
    "    \n",
    "missingno_matrix(train)"
   ]
  },
  {
   "cell_type": "code",
   "execution_count": 9,
   "metadata": {
    "colab": {
     "autoexec": {
      "startup": false,
      "wait_interval": 0
     }
    },
    "colab_type": "code",
    "id": "CHpIwjGx2p4q",
    "outputId": "1852f7aa-7842-4938-dd01-5dcfe4b18957"
   },
   "outputs": [
    {
     "data": {
      "image/png": "[encoded data removed]",
      "text/plain": [
       "<Figure size 720x288 with 2 Axes>"
      ]
     },
     "metadata": {
      "needs_background": "light"
     },
     "output_type": "display_data"
    }
   ],
   "source": [
    "missingno_matrix(test,figsize=(10,4))"
   ]
  },
  {
   "cell_type": "markdown",
   "metadata": {
    "colab_type": "text",
    "id": "8lHUp2Wu2p4w"
   },
   "source": [
    "#### important Note:\n",
    "1. 品牌brand_name 存在不少遺失數據\n",
    "2. category_name 有六千筆遺失數據\n",
    "3. train跟test缺失數據，可以感覺出 __大概__ 接近__2:1__\n"
   ]
  },
  {
   "cell_type": "markdown",
   "metadata": {
    "colab_type": "text",
    "id": "6U4ECdE82p4x"
   },
   "source": [
    "# 1. Uni-Variable Analysis\n",
    "\n",
    "## 1-1. Target Value Analysis (Price)\n",
    "1. 先對價錢作圖看它分布模式，經驗上，這種數據分佈都會是，常態分佈樣，不然就是long tail\n",
    "    - `sns.distplot()`\n"
   ]
  },
  {
   "cell_type": "code",
   "execution_count": 10,
   "metadata": {
    "colab": {
     "autoexec": {
      "startup": false,
      "wait_interval": 0
     }
    },
    "colab_type": "code",
    "id": "AwrI83Kk2p4y",
    "outputId": "32a35c79-6028-4570-80f0-08225880315e"
   },
   "outputs": [
    {
     "data": {
      "image/png": "[encoded data removed]",
      "text/plain": [
       "<Figure size 432x288 with 1 Axes>"
      ]
     },
     "metadata": {
      "needs_background": "light"
     },
     "output_type": "display_data"
    }
   ],
   "source": [
    "sns.distplot(train['price'], bins=100, kde=False)\n",
    "plt.title('Price Distribution')\n",
    "plt.xlabel('Price')\n",
    "plt.ylabel('Count')\n",
    "plt.show()"
   ]
  },
  {
   "cell_type": "markdown",
   "metadata": {
    "colab_type": "text",
    "id": "oqA4V7CS2p44"
   },
   "source": [
    "- Q: 很類似一個spike，原因？\n",
    "- A: 有少數的價錢分佈在250 ~ 2000，這些可以被視為，outlier(離群值，異常值)\n",
    "### 先排除這些離群數值，使用boolean mask，再重繪圖一次\n",
    "`train[train['price']<=500]['price']`"
   ]
  },
  {
   "cell_type": "code",
   "execution_count": 11,
   "metadata": {
    "colab": {
     "autoexec": {
      "startup": false,
      "wait_interval": 0
     }
    },
    "colab_type": "code",
    "id": "sBtoCF_T2p45",
    "outputId": "9114e94d-f4df-4ff3-97c6-32472c9f7c4c"
   },
   "outputs": [
    {
     "data": {
      "image/png": "[encoded data removed]",
      "text/plain": [
       "<Figure size 432x288 with 1 Axes>"
      ]
     },
     "metadata": {
      "needs_background": "light"
     },
     "output_type": "display_data"
    }
   ],
   "source": [
    "sns.distplot(train[train['price']<=500]['price'], bins=100, kde=False)\n",
    "plt.title('Price Distribution')\n",
    "plt.xlabel('Price')\n",
    "plt.ylabel('Count')\n",
    "plt.show()"
   ]
  },
  {
   "cell_type": "markdown",
   "metadata": {
    "colab_type": "text",
    "id": "L_pcMhoX2p49"
   },
   "source": [
    "### Important Note:\n",
    "- 明顯是一個skew分佈\n",
    "- **Trick** \n",
    "    1. 取「對數log」讓他「近似」常態分佈，非線性轉換。\n",
    "    2. 可以讓outlier 距離拉近，（如果是 standscaler MinMax，outlier 依舊保持一定距離）\n",
    "    \n",
    "`np.log1p(train['price'])`\n",
    "    - log1p = log(目標+1)\n",
    "    \n",
    "    - 對應轉換為 \n",
    "`np.expm1` = exp(目標)-1\n",
    "\n",
    "### 來看看轉換後是否會「逼近」常態分佈"
   ]
  },
  {
   "cell_type": "code",
   "execution_count": 12,
   "metadata": {
    "colab": {
     "autoexec": {
      "startup": false,
      "wait_interval": 0
     }
    },
    "colab_type": "code",
    "id": "YSnYoaPC2p4-",
    "outputId": "c3efdce8-7ca0-4919-fd53-6020b6ffea23"
   },
   "outputs": [
    {
     "data": {
      "image/png": "[encoded data removed]",
      "text/plain": [
       "<Figure size 432x288 with 1 Axes>"
      ]
     },
     "metadata": {
      "needs_background": "light"
     },
     "output_type": "display_data"
    }
   ],
   "source": [
    "# bins 使用100\n",
    "sns.distplot(np.log1p(train['price']), bins=100, kde=False)\n",
    "plt.show()"
   ]
  },
  {
   "cell_type": "markdown",
   "metadata": {
    "colab_type": "text",
    "id": "PfJy08r22p5D"
   },
   "source": [
    "- Bins如果改小(上圖)\n",
    "    - 近似的常態分佈出現，也就是outlier被拉近距離！\n",
    "    \n",
    "## Hint: \n",
    "   - Bins 數加大！\n"
   ]
  },
  {
   "cell_type": "code",
   "execution_count": 13,
   "metadata": {
    "colab": {
     "autoexec": {
      "startup": false,
      "wait_interval": 0
     }
    },
    "colab_type": "code",
    "id": "ID_NrlsR2p5F",
    "outputId": "f38755ec-a673-4917-f889-777951709599"
   },
   "outputs": [
    {
     "data": {
      "image/png": "[encoded data removed]",
      "text/plain": [
       "<Figure size 432x288 with 1 Axes>"
      ]
     },
     "metadata": {
      "needs_background": "light"
     },
     "output_type": "display_data"
    }
   ],
   "source": [
    "# bins 使用 200\n",
    "sns.distplot(np.log1p(train['price']), bins=200, kde=False)\n",
    "plt.show()"
   ]
  },
  {
   "cell_type": "markdown",
   "metadata": {
    "colab_type": "text",
    "id": "I_llosnM2p5L"
   },
   "source": [
    "### Important Note:\n",
    "\n",
    "\n",
    "- Bins如果改大，會更**看**得出數據**集中**程度\n",
    "    - 很明顯，數據集中在3~4 ( log doamin price )\n",
    "    - 就是中高價位物品為數不少在 3 ~ 4 ( log domain price )\n"
   ]
  },
  {
   "cell_type": "markdown",
   "metadata": {
    "colab_type": "text",
    "id": "Bh9irlYY2p5M"
   },
   "source": [
    "### Exercise:\n",
    "   繪出`StandardScaler, MinMaxScaler`轉換後的分佈。"
   ]
  },
  {
   "cell_type": "code",
   "execution_count": 14,
   "metadata": {
    "colab": {
     "autoexec": {
      "startup": false,
      "wait_interval": 0
     }
    },
    "colab_type": "code",
    "id": "9DFHOMk_2p5N",
    "outputId": "9810dd26-af56-435f-fdc8-4009a9754c9c"
   },
   "outputs": [
    {
     "data": {
      "image/png": "[encoded data removed]",
      "text/plain": [
       "<Figure size 432x288 with 1 Axes>"
      ]
     },
     "metadata": {
      "needs_background": "light"
     },
     "output_type": "display_data"
    }
   ],
   "source": [
    "from sklearn.preprocessing import StandardScaler, MinMaxScaler\n",
    "scaler = StandardScaler()\n",
    "s_price = scaler.fit_transform(train['price'].values.reshape(-1, 1))\n",
    "sns.distplot(s_price, bins=200, kde=False)\n",
    "plt.xlabel('StandardScaler')\n",
    "plt.ylabel('Count')\n",
    "plt.show()\n",
    "del s_price"
   ]
  },
  {
   "cell_type": "code",
   "execution_count": 15,
   "metadata": {
    "colab": {
     "autoexec": {
      "startup": false,
      "wait_interval": 0
     }
    },
    "colab_type": "code",
    "id": "-YVHTXZf2p5R",
    "outputId": "8ad8970c-6010-44c7-8177-3117577cf2f1"
   },
   "outputs": [
    {
     "data": {
      "image/png": "[encoded data removed]",
      "text/plain": [
       "<Figure size 432x288 with 1 Axes>"
      ]
     },
     "metadata": {
      "needs_background": "light"
     },
     "output_type": "display_data"
    }
   ],
   "source": [
    "minmax = MinMaxScaler()\n",
    "mm_price = minmax.fit_transform(train['price'].values.reshape(-1, 1))\n",
    "sns.distplot(mm_price, bins=200, kde=False)\n",
    "plt.xlabel('MinMax')\n",
    "plt.ylabel('Count')\n",
    "plt.show()\n",
    "del mm_price"
   ]
  },
  {
   "cell_type": "markdown",
   "metadata": {
    "colab_type": "text",
    "id": "Jy8A-rv42p5W"
   },
   "source": [
    "- 因為這是線性轉換，所以無法把outlier拉近"
   ]
  },
  {
   "cell_type": "markdown",
   "metadata": {
    "colab_type": "text",
    "id": "ZaHtFoRQ2p5W"
   },
   "source": [
    "### 總共幾種價錢?\n",
    "`nunique` # Numbers of Unique"
   ]
  },
  {
   "cell_type": "code",
   "execution_count": 16,
   "metadata": {
    "colab": {
     "autoexec": {
      "startup": false,
      "wait_interval": 0
     }
    },
    "colab_type": "code",
    "id": "999dtRFb2p5X",
    "outputId": "5466e4c6-2431-4490-ad3e-aa703003913e"
   },
   "outputs": [
    {
     "data": {
      "text/plain": [
       "828"
      ]
     },
     "execution_count": 16,
     "metadata": {},
     "output_type": "execute_result"
    }
   ],
   "source": [
    "train.price.nunique()"
   ]
  },
  {
   "cell_type": "markdown",
   "metadata": {
    "colab_type": "text",
    "id": "cha0xlv62p5b"
   },
   "source": [
    "- 才828個價錢！！！！"
   ]
  },
  {
   "cell_type": "markdown",
   "metadata": {
    "colab_type": "text",
    "id": "pYW8h8QW2p5c"
   },
   "source": [
    "### 最後來看看統計數據\n",
    "`describe()`"
   ]
  },
  {
   "cell_type": "code",
   "execution_count": 17,
   "metadata": {
    "colab": {
     "autoexec": {
      "startup": false,
      "wait_interval": 0
     }
    },
    "colab_type": "code",
    "id": "jL5IRURg2p5e",
    "outputId": "3f47e497-ae34-424d-8775-e2a61fa135ab"
   },
   "outputs": [
    {
     "data": {
      "text/plain": [
       "count    1.482535e+06\n",
       "mean     2.673752e+01\n",
       "std      3.858607e+01\n",
       "min      0.000000e+00\n",
       "25%      1.000000e+01\n",
       "50%      1.700000e+01\n",
       "75%      2.900000e+01\n",
       "max      2.009000e+03\n",
       "Name: price, dtype: float64"
      ]
     },
     "execution_count": 17,
     "metadata": {},
     "output_type": "execute_result"
    }
   ],
   "source": [
    "train.price.describe() # train.price等同 train['price']"
   ]
  },
  {
   "cell_type": "markdown",
   "metadata": {
    "colab_type": "text",
    "id": "qWrV28GH2p5i"
   },
   "source": [
    "\n",
    "### 最小值出現「**零**」元，\n",
    "\n",
    "### 看看零元是什麼東西"
   ]
  },
  {
   "cell_type": "code",
   "execution_count": 18,
   "metadata": {
    "colab": {
     "autoexec": {
      "startup": false,
      "wait_interval": 0
     }
    },
    "colab_type": "code",
    "id": "JStxuYLC2p5j",
    "outputId": "8d80449e-a186-44e2-bc49-49689efa662a"
   },
   "outputs": [
    {
     "data": {
      "text/html": [
       "<div>\n",
       "<style scoped>\n",
       "    .dataframe tbody tr th:only-of-type {\n",
       "        vertical-align: middle;\n",
       "    }\n",
       "\n",
       "    .dataframe tbody tr th {\n",
       "        vertical-align: top;\n",
       "    }\n",
       "\n",
       "    .dataframe thead th {\n",
       "        text-align: right;\n",
       "    }\n",
       "</style>\n",
       "<table border=\"1\" class=\"dataframe\">\n",
       "  <thead>\n",
       "    <tr style=\"text-align: right;\">\n",
       "      <th></th>\n",
       "      <th>train_id</th>\n",
       "      <th>name</th>\n",
       "      <th>item_condition_id</th>\n",
       "      <th>category_name</th>\n",
       "      <th>brand_name</th>\n",
       "      <th>price</th>\n",
       "      <th>shipping</th>\n",
       "      <th>item_description</th>\n",
       "    </tr>\n",
       "  </thead>\n",
       "  <tbody>\n",
       "    <tr>\n",
       "      <th>1325</th>\n",
       "      <td>1325</td>\n",
       "      <td>Alabama Crimson Tide Quality Lanyard</td>\n",
       "      <td>1</td>\n",
       "      <td>Sports &amp; Outdoors/Fan Shop/NCAA</td>\n",
       "      <td>NaN</td>\n",
       "      <td>0.0</td>\n",
       "      <td>1</td>\n",
       "      <td>TOP QUALITY THICK LANYARD Reversible sides wit...</td>\n",
       "    </tr>\n",
       "    <tr>\n",
       "      <th>2544</th>\n",
       "      <td>2544</td>\n",
       "      <td>Levi leggings</td>\n",
       "      <td>3</td>\n",
       "      <td>Women/Jeans/Slim, Skinny</td>\n",
       "      <td>Levi's®</td>\n",
       "      <td>0.0</td>\n",
       "      <td>0</td>\n",
       "      <td>Light wash. Hardly worn. Size 24 but fits like...</td>\n",
       "    </tr>\n",
       "    <tr>\n",
       "      <th>2712</th>\n",
       "      <td>2712</td>\n",
       "      <td>Simple Red Lace Lingerie Top</td>\n",
       "      <td>3</td>\n",
       "      <td>Women/Underwear/G-Strings &amp; Thongs</td>\n",
       "      <td>NaN</td>\n",
       "      <td>0.0</td>\n",
       "      <td>0</td>\n",
       "      <td>Very simple but cute, a little form fitting as...</td>\n",
       "    </tr>\n",
       "    <tr>\n",
       "      <th>3576</th>\n",
       "      <td>3576</td>\n",
       "      <td>Turquoise 15 Pc Makeup Brush Set</td>\n",
       "      <td>1</td>\n",
       "      <td>Beauty/Tools &amp; Accessories/Makeup Brushes &amp; Tools</td>\n",
       "      <td>NaN</td>\n",
       "      <td>0.0</td>\n",
       "      <td>1</td>\n",
       "      <td>1 left!</td>\n",
       "    </tr>\n",
       "    <tr>\n",
       "      <th>3761</th>\n",
       "      <td>3761</td>\n",
       "      <td>Girls size 7/8</td>\n",
       "      <td>3</td>\n",
       "      <td>Kids/Girls (4+)/Tops &amp; T-Shirts</td>\n",
       "      <td>NaN</td>\n",
       "      <td>0.0</td>\n",
       "      <td>1</td>\n",
       "      <td>5 pair gap jean excellent used condition 3 chi...</td>\n",
       "    </tr>\n",
       "    <tr>\n",
       "      <th>5237</th>\n",
       "      <td>5237</td>\n",
       "      <td>Nursing Bra</td>\n",
       "      <td>3</td>\n",
       "      <td>Women/Underwear/Bras</td>\n",
       "      <td>Motherhood Maternity</td>\n",
       "      <td>0.0</td>\n",
       "      <td>0</td>\n",
       "      <td>Used a few times but was not able to nurse</td>\n",
       "    </tr>\n",
       "    <tr>\n",
       "      <th>6175</th>\n",
       "      <td>6175</td>\n",
       "      <td>Multi Listing Bundled Package, Thanks</td>\n",
       "      <td>2</td>\n",
       "      <td>Electronics/Media/DVD</td>\n",
       "      <td>NaN</td>\n",
       "      <td>0.0</td>\n",
       "      <td>1</td>\n",
       "      <td>1)Large Collection of Full Length Strawberry S...</td>\n",
       "    </tr>\n",
       "    <tr>\n",
       "      <th>7116</th>\n",
       "      <td>7116</td>\n",
       "      <td>Nike Dri-Fit High Power Speed Tights</td>\n",
       "      <td>1</td>\n",
       "      <td>Women/Athletic Apparel/Pants, Tights, Leggings</td>\n",
       "      <td>Nike</td>\n",
       "      <td>0.0</td>\n",
       "      <td>1</td>\n",
       "      <td>Bought at Nike store in New York, Brand New, N...</td>\n",
       "    </tr>\n",
       "    <tr>\n",
       "      <th>7622</th>\n",
       "      <td>7622</td>\n",
       "      <td>Hands free earpiece</td>\n",
       "      <td>1</td>\n",
       "      <td>Electronics/Cell Phones &amp; Accessories/Headsets</td>\n",
       "      <td>NaN</td>\n",
       "      <td>0.0</td>\n",
       "      <td>0</td>\n",
       "      <td>Wireless Bluetooth hands free used with Samsun...</td>\n",
       "    </tr>\n",
       "    <tr>\n",
       "      <th>10812</th>\n",
       "      <td>10812</td>\n",
       "      <td>Vampire candy bowl</td>\n",
       "      <td>1</td>\n",
       "      <td>Home/Seasonal Décor/Halloween</td>\n",
       "      <td>NaN</td>\n",
       "      <td>0.0</td>\n",
       "      <td>0</td>\n",
       "      <td>New good condition for halloween</td>\n",
       "    </tr>\n",
       "    <tr>\n",
       "      <th>12738</th>\n",
       "      <td>12738</td>\n",
       "      <td>Beautiful Janie and Jack loafers sz 4</td>\n",
       "      <td>2</td>\n",
       "      <td>Kids/Boys 2T-5T/Shoes</td>\n",
       "      <td>Janie and Jack</td>\n",
       "      <td>0.0</td>\n",
       "      <td>0</td>\n",
       "      <td>Like New</td>\n",
       "    </tr>\n",
       "    <tr>\n",
       "      <th>17617</th>\n",
       "      <td>17617</td>\n",
       "      <td>Coca Cola Stuffed Bears</td>\n",
       "      <td>3</td>\n",
       "      <td>Kids/Toys/Stuffed Animals &amp; Plush</td>\n",
       "      <td>NaN</td>\n",
       "      <td>0.0</td>\n",
       "      <td>0</td>\n",
       "      <td>Coca Cola plush adorable bears to start your c...</td>\n",
       "    </tr>\n",
       "    <tr>\n",
       "      <th>17831</th>\n",
       "      <td>17831</td>\n",
       "      <td>Holographic sequin bra</td>\n",
       "      <td>3</td>\n",
       "      <td>Women/Underwear/Bras</td>\n",
       "      <td>NaN</td>\n",
       "      <td>0.0</td>\n",
       "      <td>0</td>\n",
       "      <td>Holographic Sequin bra 36B No brand</td>\n",
       "    </tr>\n",
       "    <tr>\n",
       "      <th>18324</th>\n",
       "      <td>18324</td>\n",
       "      <td>Pura 11 oz straw cup, swirl pink</td>\n",
       "      <td>1</td>\n",
       "      <td>NaN</td>\n",
       "      <td>NaN</td>\n",
       "      <td>0.0</td>\n",
       "      <td>1</td>\n",
       "      <td>100% plastic free straw bottle easily transiti...</td>\n",
       "    </tr>\n",
       "    <tr>\n",
       "      <th>19909</th>\n",
       "      <td>19909</td>\n",
       "      <td>Obey Floral Snapback Hat</td>\n",
       "      <td>2</td>\n",
       "      <td>Men/Men's Accessories/Hats</td>\n",
       "      <td>Obey</td>\n",
       "      <td>0.0</td>\n",
       "      <td>0</td>\n",
       "      <td>A friend sold me this hat although I don't wea...</td>\n",
       "    </tr>\n",
       "    <tr>\n",
       "      <th>20986</th>\n",
       "      <td>20986</td>\n",
       "      <td>Sale! Varied sizes - Rock N' Roll t</td>\n",
       "      <td>1</td>\n",
       "      <td>Women/Tops &amp; Blouses/T-Shirts</td>\n",
       "      <td>NaN</td>\n",
       "      <td>0.0</td>\n",
       "      <td>0</td>\n",
       "      <td>Really cute sleeveless tee! Perfect for that s...</td>\n",
       "    </tr>\n",
       "    <tr>\n",
       "      <th>22876</th>\n",
       "      <td>22876</td>\n",
       "      <td>Quay Australia Sunnies - Barely Worn</td>\n",
       "      <td>2</td>\n",
       "      <td>Women/Women's Accessories/Sunglasses</td>\n",
       "      <td>NaN</td>\n",
       "      <td>0.0</td>\n",
       "      <td>0</td>\n",
       "      <td>But directly from Quay Have worn 3 times Alway...</td>\n",
       "    </tr>\n",
       "    <tr>\n",
       "      <th>24288</th>\n",
       "      <td>24288</td>\n",
       "      <td>Fred Jackson Autographed Mini Helmet</td>\n",
       "      <td>2</td>\n",
       "      <td>Sports &amp; Outdoors/Fan Shop/NFL</td>\n",
       "      <td>NaN</td>\n",
       "      <td>0.0</td>\n",
       "      <td>1</td>\n",
       "      <td>Autographed by former Bills star running back ...</td>\n",
       "    </tr>\n",
       "    <tr>\n",
       "      <th>28091</th>\n",
       "      <td>28091</td>\n",
       "      <td>Jordan Cris Shoes Size 2</td>\n",
       "      <td>1</td>\n",
       "      <td>Kids/Boys 0-24 Mos/Shoes</td>\n",
       "      <td>Nike</td>\n",
       "      <td>0.0</td>\n",
       "      <td>1</td>\n",
       "      <td>Bought from another seller and too small</td>\n",
       "    </tr>\n",
       "    <tr>\n",
       "      <th>28701</th>\n",
       "      <td>28701</td>\n",
       "      <td>Lace Up Bodysuit * On Hold</td>\n",
       "      <td>2</td>\n",
       "      <td>NaN</td>\n",
       "      <td>Nordstrom</td>\n",
       "      <td>0.0</td>\n",
       "      <td>0</td>\n",
       "      <td>From nordstroms. Literally worn once but was t...</td>\n",
       "    </tr>\n",
       "  </tbody>\n",
       "</table>\n",
       "</div>"
      ],
      "text/plain": [
       "       train_id                                   name  item_condition_id  \\\n",
       "1325       1325   Alabama Crimson Tide Quality Lanyard                  1   \n",
       "2544       2544                          Levi leggings                  3   \n",
       "2712       2712           Simple Red Lace Lingerie Top                  3   \n",
       "3576       3576       Turquoise 15 Pc Makeup Brush Set                  1   \n",
       "3761       3761                         Girls size 7/8                  3   \n",
       "5237       5237                            Nursing Bra                  3   \n",
       "6175       6175  Multi Listing Bundled Package, Thanks                  2   \n",
       "7116       7116   Nike Dri-Fit High Power Speed Tights                  1   \n",
       "7622       7622                    Hands free earpiece                  1   \n",
       "10812     10812                     Vampire candy bowl                  1   \n",
       "12738     12738  Beautiful Janie and Jack loafers sz 4                  2   \n",
       "17617     17617                Coca Cola Stuffed Bears                  3   \n",
       "17831     17831                 Holographic sequin bra                  3   \n",
       "18324     18324       Pura 11 oz straw cup, swirl pink                  1   \n",
       "19909     19909               Obey Floral Snapback Hat                  2   \n",
       "20986     20986    Sale! Varied sizes - Rock N' Roll t                  1   \n",
       "22876     22876   Quay Australia Sunnies - Barely Worn                  2   \n",
       "24288     24288   Fred Jackson Autographed Mini Helmet                  2   \n",
       "28091     28091               Jordan Cris Shoes Size 2                  1   \n",
       "28701     28701             Lace Up Bodysuit * On Hold                  2   \n",
       "\n",
       "                                           category_name  \\\n",
       "1325                     Sports & Outdoors/Fan Shop/NCAA   \n",
       "2544                            Women/Jeans/Slim, Skinny   \n",
       "2712                  Women/Underwear/G-Strings & Thongs   \n",
       "3576   Beauty/Tools & Accessories/Makeup Brushes & Tools   \n",
       "3761                     Kids/Girls (4+)/Tops & T-Shirts   \n",
       "5237                                Women/Underwear/Bras   \n",
       "6175                               Electronics/Media/DVD   \n",
       "7116      Women/Athletic Apparel/Pants, Tights, Leggings   \n",
       "7622      Electronics/Cell Phones & Accessories/Headsets   \n",
       "10812                      Home/Seasonal Décor/Halloween   \n",
       "12738                              Kids/Boys 2T-5T/Shoes   \n",
       "17617                  Kids/Toys/Stuffed Animals & Plush   \n",
       "17831                               Women/Underwear/Bras   \n",
       "18324                                                NaN   \n",
       "19909                         Men/Men's Accessories/Hats   \n",
       "20986                      Women/Tops & Blouses/T-Shirts   \n",
       "22876               Women/Women's Accessories/Sunglasses   \n",
       "24288                     Sports & Outdoors/Fan Shop/NFL   \n",
       "28091                           Kids/Boys 0-24 Mos/Shoes   \n",
       "28701                                                NaN   \n",
       "\n",
       "                 brand_name  price  shipping  \\\n",
       "1325                    NaN    0.0         1   \n",
       "2544                Levi's®    0.0         0   \n",
       "2712                    NaN    0.0         0   \n",
       "3576                    NaN    0.0         1   \n",
       "3761                    NaN    0.0         1   \n",
       "5237   Motherhood Maternity    0.0         0   \n",
       "6175                    NaN    0.0         1   \n",
       "7116                   Nike    0.0         1   \n",
       "7622                    NaN    0.0         0   \n",
       "10812                   NaN    0.0         0   \n",
       "12738        Janie and Jack    0.0         0   \n",
       "17617                   NaN    0.0         0   \n",
       "17831                   NaN    0.0         0   \n",
       "18324                   NaN    0.0         1   \n",
       "19909                  Obey    0.0         0   \n",
       "20986                   NaN    0.0         0   \n",
       "22876                   NaN    0.0         0   \n",
       "24288                   NaN    0.0         1   \n",
       "28091                  Nike    0.0         1   \n",
       "28701             Nordstrom    0.0         0   \n",
       "\n",
       "                                        item_description  \n",
       "1325   TOP QUALITY THICK LANYARD Reversible sides wit...  \n",
       "2544   Light wash. Hardly worn. Size 24 but fits like...  \n",
       "2712   Very simple but cute, a little form fitting as...  \n",
       "3576                                             1 left!  \n",
       "3761   5 pair gap jean excellent used condition 3 chi...  \n",
       "5237          Used a few times but was not able to nurse  \n",
       "6175   1)Large Collection of Full Length Strawberry S...  \n",
       "7116   Bought at Nike store in New York, Brand New, N...  \n",
       "7622   Wireless Bluetooth hands free used with Samsun...  \n",
       "10812                   New good condition for halloween  \n",
       "12738                                           Like New  \n",
       "17617  Coca Cola plush adorable bears to start your c...  \n",
       "17831                Holographic Sequin bra 36B No brand  \n",
       "18324  100% plastic free straw bottle easily transiti...  \n",
       "19909  A friend sold me this hat although I don't wea...  \n",
       "20986  Really cute sleeveless tee! Perfect for that s...  \n",
       "22876  But directly from Quay Have worn 3 times Alway...  \n",
       "24288  Autographed by former Bills star running back ...  \n",
       "28091           Bought from another seller and too small  \n",
       "28701  From nordstroms. Literally worn once but was t...  "
      ]
     },
     "execution_count": 18,
     "metadata": {},
     "output_type": "execute_result"
    }
   ],
   "source": [
    "train[train['price']==0].head(20)"
   ]
  },
  {
   "cell_type": "markdown",
   "metadata": {
    "colab_type": "text",
    "id": "WxHb-e8K2p5p"
   },
   "source": [
    "###  Zero Price 有幾筆，所佔train比重多少"
   ]
  },
  {
   "cell_type": "code",
   "execution_count": 19,
   "metadata": {
    "colab": {
     "autoexec": {
      "startup": false,
      "wait_interval": 0
     }
    },
    "colab_type": "code",
    "id": "fRxfD4LI2p5q",
    "outputId": "84defa0c-2664-4cda-e95f-5c37343ad140"
   },
   "outputs": [
    {
     "name": "stdout",
     "output_type": "stream",
     "text": [
      "總共幾筆零元售價: 874， 所佔比例為 0.05895307699312327%\n"
     ]
    }
   ],
   "source": [
    "print('總共幾筆零元售價: {}， 所佔比例為 {}%'.format(train[train['price']==0].shape[0], train[train['price']==0].shape[0]/train.shape[0]*100))"
   ]
  },
  {
   "cell_type": "markdown",
   "metadata": {
    "colab_type": "text",
    "id": "aQKIzeWh2p5w"
   },
   "source": [
    "- 人類直觀來說，售價零元是不合理的數值\n",
    "- 親自去玩Mercari App，上面不容許售價為零\n",
    "\n",
    "### 所以，Zero Price 目前歸類為人為錯誤，無法修復，所佔比重很低，所以考慮刪除( 請看CV是否改善)"
   ]
  },
  {
   "cell_type": "markdown",
   "metadata": {
    "colab_type": "text",
    "id": "4-WR9S952p5x"
   },
   "source": []
  },
  {
   "cell_type": "markdown",
   "metadata": {
    "colab_type": "text",
    "id": "tbUftSZz2p5y"
   },
   "source": [
    "# 檢視數據分佈\n",
    "- 傳統上，會檢視訓練/測試數據的變異數，缺失值百分比，類別特徵裡面項目比例...etc.\n",
    "\n",
    "### Q: 文字數據怎麼檢視？\n",
    "### A: 同樣做法，簡單地查看train/ test 比例\n",
    "\n",
    "### 1. 首先，檔案大小比例"
   ]
  },
  {
   "cell_type": "code",
   "execution_count": 20,
   "metadata": {
    "colab": {
     "autoexec": {
      "startup": false,
      "wait_interval": 0
     }
    },
    "colab_type": "code",
    "id": "52YJjvjs2p5z",
    "outputId": "635456da-f807-4787-e467-b95276ae4f42"
   },
   "outputs": [
    {
     "data": {
      "text/plain": [
       "2.1381924803745247"
      ]
     },
     "execution_count": 20,
     "metadata": {},
     "output_type": "execute_result"
    }
   ],
   "source": [
    "train.shape[0]/test.shape[0]"
   ]
  },
  {
   "cell_type": "markdown",
   "metadata": {
    "colab_type": "text",
    "id": "BBqx3Jzd2p52"
   },
   "source": [
    "#### Note:\n",
    "1. 樣本比例約**2.14**\n",
    "2. 還記得缺失值比例也是約為 2 : 1 嗎？ 這數據起頭已經是好的！\n",
    "\n",
    "### 2. 檢視 brand_name 裡面品牌數 是否都是漂亮的2 : 1"
   ]
  },
  {
   "cell_type": "code",
   "execution_count": 21,
   "metadata": {
    "colab": {
     "autoexec": {
      "startup": false,
      "wait_interval": 0
     }
    },
    "colab_type": "code",
    "id": "_APM5Axx2p53",
    "outputId": "014c4e9d-200e-4e19-9707-187b404587c0"
   },
   "outputs": [
    {
     "data": {
      "text/html": [
       "<div>\n",
       "<style scoped>\n",
       "    .dataframe tbody tr th:only-of-type {\n",
       "        vertical-align: middle;\n",
       "    }\n",
       "\n",
       "    .dataframe tbody tr th {\n",
       "        vertical-align: top;\n",
       "    }\n",
       "\n",
       "    .dataframe thead th {\n",
       "        text-align: right;\n",
       "    }\n",
       "</style>\n",
       "<table border=\"1\" class=\"dataframe\">\n",
       "  <thead>\n",
       "    <tr style=\"text-align: right;\">\n",
       "      <th></th>\n",
       "      <th>brand_name</th>\n",
       "      <th>count</th>\n",
       "    </tr>\n",
       "  </thead>\n",
       "  <tbody>\n",
       "    <tr>\n",
       "      <th>3221</th>\n",
       "      <td>PINK</td>\n",
       "      <td>54088</td>\n",
       "    </tr>\n",
       "    <tr>\n",
       "      <th>3057</th>\n",
       "      <td>Nike</td>\n",
       "      <td>54043</td>\n",
       "    </tr>\n",
       "    <tr>\n",
       "      <th>4504</th>\n",
       "      <td>Victoria's Secret</td>\n",
       "      <td>48036</td>\n",
       "    </tr>\n",
       "    <tr>\n",
       "      <th>2604</th>\n",
       "      <td>LuLaRoe</td>\n",
       "      <td>31024</td>\n",
       "    </tr>\n",
       "    <tr>\n",
       "      <th>267</th>\n",
       "      <td>Apple</td>\n",
       "      <td>17322</td>\n",
       "    </tr>\n",
       "    <tr>\n",
       "      <th>1510</th>\n",
       "      <td>FOREVER 21</td>\n",
       "      <td>15186</td>\n",
       "    </tr>\n",
       "    <tr>\n",
       "      <th>3067</th>\n",
       "      <td>Nintendo</td>\n",
       "      <td>15007</td>\n",
       "    </tr>\n",
       "    <tr>\n",
       "      <th>2626</th>\n",
       "      <td>Lululemon</td>\n",
       "      <td>14558</td>\n",
       "    </tr>\n",
       "    <tr>\n",
       "      <th>2841</th>\n",
       "      <td>Michael Kors</td>\n",
       "      <td>13928</td>\n",
       "    </tr>\n",
       "    <tr>\n",
       "      <th>213</th>\n",
       "      <td>American Eagle</td>\n",
       "      <td>13254</td>\n",
       "    </tr>\n",
       "  </tbody>\n",
       "</table>\n",
       "</div>"
      ],
      "text/plain": [
       "             brand_name  count\n",
       "3221               PINK  54088\n",
       "3057               Nike  54043\n",
       "4504  Victoria's Secret  48036\n",
       "2604            LuLaRoe  31024\n",
       "267               Apple  17322\n",
       "1510         FOREVER 21  15186\n",
       "3067           Nintendo  15007\n",
       "2626          Lululemon  14558\n",
       "2841       Michael Kors  13928\n",
       "213      American Eagle  13254"
      ]
     },
     "execution_count": 21,
     "metadata": {},
     "output_type": "execute_result"
    }
   ],
   "source": [
    "# Train\n",
    "df1 = (train.set_index('brand_name').groupby(level=0)['item_condition_id'].agg({'count'})).reset_index()\n",
    "df1.sort_values(by=['count'],inplace=True, ascending=False)\n",
    "df1.head(10)\n"
   ]
  },
  {
   "cell_type": "code",
   "execution_count": 22,
   "metadata": {
    "colab": {
     "autoexec": {
      "startup": false,
      "wait_interval": 0
     }
    },
    "colab_type": "code",
    "id": "hfvsqRBD2p58",
    "outputId": "47385366-b448-4299-89ec-bd80a968b73f"
   },
   "outputs": [
    {
     "data": {
      "text/html": [
       "<div>\n",
       "<style scoped>\n",
       "    .dataframe tbody tr th:only-of-type {\n",
       "        vertical-align: middle;\n",
       "    }\n",
       "\n",
       "    .dataframe tbody tr th {\n",
       "        vertical-align: top;\n",
       "    }\n",
       "\n",
       "    .dataframe thead th {\n",
       "        text-align: right;\n",
       "    }\n",
       "</style>\n",
       "<table border=\"1\" class=\"dataframe\">\n",
       "  <thead>\n",
       "    <tr style=\"text-align: right;\">\n",
       "      <th></th>\n",
       "      <th>brand_name</th>\n",
       "      <th>count</th>\n",
       "    </tr>\n",
       "  </thead>\n",
       "  <tbody>\n",
       "    <tr>\n",
       "      <th>2471</th>\n",
       "      <td>Nike</td>\n",
       "      <td>25234</td>\n",
       "    </tr>\n",
       "    <tr>\n",
       "      <th>2604</th>\n",
       "      <td>PINK</td>\n",
       "      <td>25004</td>\n",
       "    </tr>\n",
       "    <tr>\n",
       "      <th>3653</th>\n",
       "      <td>Victoria's Secret</td>\n",
       "      <td>22472</td>\n",
       "    </tr>\n",
       "    <tr>\n",
       "      <th>2110</th>\n",
       "      <td>LuLaRoe</td>\n",
       "      <td>14574</td>\n",
       "    </tr>\n",
       "    <tr>\n",
       "      <th>225</th>\n",
       "      <td>Apple</td>\n",
       "      <td>8113</td>\n",
       "    </tr>\n",
       "    <tr>\n",
       "      <th>2483</th>\n",
       "      <td>Nintendo</td>\n",
       "      <td>7149</td>\n",
       "    </tr>\n",
       "    <tr>\n",
       "      <th>1217</th>\n",
       "      <td>FOREVER 21</td>\n",
       "      <td>7141</td>\n",
       "    </tr>\n",
       "    <tr>\n",
       "      <th>2123</th>\n",
       "      <td>Lululemon</td>\n",
       "      <td>6833</td>\n",
       "    </tr>\n",
       "    <tr>\n",
       "      <th>2295</th>\n",
       "      <td>Michael Kors</td>\n",
       "      <td>6407</td>\n",
       "    </tr>\n",
       "    <tr>\n",
       "      <th>183</th>\n",
       "      <td>American Eagle</td>\n",
       "      <td>6164</td>\n",
       "    </tr>\n",
       "  </tbody>\n",
       "</table>\n",
       "</div>"
      ],
      "text/plain": [
       "             brand_name  count\n",
       "2471               Nike  25234\n",
       "2604               PINK  25004\n",
       "3653  Victoria's Secret  22472\n",
       "2110            LuLaRoe  14574\n",
       "225               Apple   8113\n",
       "2483           Nintendo   7149\n",
       "1217         FOREVER 21   7141\n",
       "2123          Lululemon   6833\n",
       "2295       Michael Kors   6407\n",
       "183      American Eagle   6164"
      ]
     },
     "execution_count": 22,
     "metadata": {},
     "output_type": "execute_result"
    }
   ],
   "source": [
    "# test\n",
    "\n",
    "df2 = (test.set_index('brand_name').groupby(level=0)['item_condition_id'].agg({'count'})).reset_index()\n",
    "df2.sort_values(by=['count'],inplace=True, ascending=False)\n",
    "df2.head(10)"
   ]
  },
  {
   "cell_type": "markdown",
   "metadata": {
    "colab_type": "text",
    "id": "ZU-hE1wJ2p6A"
   },
   "source": [
    "#### Note:\n",
    "前十多的品牌也差不多是2:1，train/test數據可以說分佈很類似\n",
    "\n",
    "### 看看 item_description裡面 No description yet （形同沒描述）的比例"
   ]
  },
  {
   "cell_type": "code",
   "execution_count": 23,
   "metadata": {
    "colab": {
     "autoexec": {
      "startup": false,
      "wait_interval": 0
     }
    },
    "colab_type": "code",
    "id": "uP7o0mGj2p6B",
    "outputId": "7a8d4f5d-0972-4234-cd11-0cbe46653b21"
   },
   "outputs": [
    {
     "data": {
      "text/plain": [
       "2.142404487961977"
      ]
     },
     "execution_count": 23,
     "metadata": {},
     "output_type": "execute_result"
    }
   ],
   "source": [
    "train[train['item_description']=='No description yet'].shape[0]/test[test['item_description']=='No description yet'].shape[0]   "
   ]
  },
  {
   "cell_type": "markdown",
   "metadata": {
    "colab_type": "text",
    "id": "kCXOm5FJ2p6F"
   },
   "source": [
    "### Awesome..... 也是漂亮的 2 : 1   \n",
    "\n",
    "### 數據分佈類似有什麼好處？\n",
    "- 如果檔案不會太小，Local CV 會靠近 Public LB, that is.......\n",
    "\n",
    "# 你可以相信Public LB"
   ]
  },
  {
   "cell_type": "code",
   "execution_count": null,
   "metadata": {
    "colab": {
     "autoexec": {
      "startup": false,
      "wait_interval": 0
     }
    },
    "colab_type": "code",
    "id": "qw6rEqX62p6G"
   },
   "outputs": [],
   "source": []
  }
 ],
 "metadata": {
  "colab": {
   "default_view": {},
   "name": "01_Simple_Mercari_Analysis.ipynb",
   "provenance": [],
   "version": "0.3.2",
   "views": {}
  },
  "kernelspec": {
   "display_name": "Python 3",
   "language": "python",
   "name": "python3"
  },
  "language_info": {
   "codemirror_mode": {
    "name": "ipython",
    "version": 3
   },
   "file_extension": ".py",
   "mimetype": "text/x-python",
   "name": "python",
   "nbconvert_exporter": "python",
   "pygments_lexer": "ipython3",
   "version": "3.6.6"
  }
 },
 "nbformat": 4,
 "nbformat_minor": 2
}
