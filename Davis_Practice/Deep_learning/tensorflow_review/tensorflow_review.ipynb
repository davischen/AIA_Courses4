{
 "cells": [
  {
   "cell_type": "code",
   "execution_count": 1,
   "metadata": {},
   "outputs": [
    {
     "name": "stderr",
     "output_type": "stream",
     "text": [
      "/opt/conda/lib/python3.6/site-packages/h5py/__init__.py:36: FutureWarning: Conversion of the second argument of issubdtype from `float` to `np.floating` is deprecated. In future, it will be treated as `np.float64 == np.dtype(float).type`.\n",
      "  from ._conv import register_converters as _register_converters\n"
     ]
    }
   ],
   "source": [
    "import tensorflow as tf\n",
    "import numpy as np \n",
    "import matplotlib.pyplot as plt"
   ]
  },
  {
   "cell_type": "code",
   "execution_count": 2,
   "metadata": {},
   "outputs": [],
   "source": [
    "mnist = tf.keras.datasets.fashion_mnist"
   ]
  },
  {
   "cell_type": "code",
   "execution_count": 3,
   "metadata": {},
   "outputs": [],
   "source": [
    "(X_train, y_train), (X_test, y_test) = mnist.load_data()"
   ]
  },
  {
   "cell_type": "code",
   "execution_count": 4,
   "metadata": {},
   "outputs": [
    {
     "data": {
      "text/plain": [
       "(60000,)"
      ]
     },
     "execution_count": 4,
     "metadata": {},
     "output_type": "execute_result"
    }
   ],
   "source": [
    "y_train.shape"
   ]
  },
  {
   "cell_type": "code",
   "execution_count": 5,
   "metadata": {},
   "outputs": [
    {
     "data": {
      "text/plain": [
       "array([9, 0, 0, 3, 0, 2, 7, 2, 5, 5], dtype=uint8)"
      ]
     },
     "execution_count": 5,
     "metadata": {},
     "output_type": "execute_result"
    }
   ],
   "source": [
    "y_train[:10]"
   ]
  },
  {
   "cell_type": "code",
   "execution_count": 6,
   "metadata": {},
   "outputs": [
    {
     "data": {
      "image/png": "[encoded data removed]",
      "text/plain": [
       "<Figure size 1440x360 with 10 Axes>"
      ]
     },
     "metadata": {
      "needs_background": "light"
     },
     "output_type": "display_data"
    },
    {
     "name": "stdout",
     "output_type": "stream",
     "text": [
      "[9 0 0 3 0 2 7 2 5 5]\n"
     ]
    }
   ],
   "source": [
    "fig, axes = plt.subplots(2, 5, figsize=(20, 5))\n",
    "for i, ax in enumerate(axes.ravel()):\n",
    "    ax.imshow(X_train[i], cmap='gray')\n",
    "    \n",
    "plt.show()\n",
    "print(y_train[:10])"
   ]
  },
  {
   "cell_type": "code",
   "execution_count": 7,
   "metadata": {},
   "outputs": [
    {
     "data": {
      "text/plain": [
       "0"
      ]
     },
     "execution_count": 7,
     "metadata": {},
     "output_type": "execute_result"
    }
   ],
   "source": [
    "X_train.min()"
   ]
  },
  {
   "cell_type": "code",
   "execution_count": 10,
   "metadata": {},
   "outputs": [],
   "source": [
    "def img_preprocess(X):\n",
    "    X = X/255.\n",
    "    X = X.reshape(len(X), -1)\n",
    "    return X"
   ]
  },
  {
   "cell_type": "code",
   "execution_count": 14,
   "metadata": {},
   "outputs": [],
   "source": [
    "def onehot_enc(y):\n",
    "    onehot = np.zeros((len(y), 10))\n",
    "    onehot[np.arange(len(y)), y] = 1\n",
    "    return onehot"
   ]
  },
  {
   "cell_type": "code",
   "execution_count": 16,
   "metadata": {},
   "outputs": [],
   "source": [
    "X_train = img_preprocess(X_train)\n",
    "X_test = img_preprocess(X_test)\n",
    "\n",
    "y_train = onehot_enc(y_train)\n",
    "y_test = onehot_enc(y_test)"
   ]
  },
  {
   "cell_type": "code",
   "execution_count": 17,
   "metadata": {},
   "outputs": [
    {
     "data": {
      "text/plain": [
       "array([[0., 0., 0., 0., 0., 0., 0., 0., 0., 1.],\n",
       "       [0., 0., 1., 0., 0., 0., 0., 0., 0., 0.],\n",
       "       [0., 1., 0., 0., 0., 0., 0., 0., 0., 0.],\n",
       "       [0., 1., 0., 0., 0., 0., 0., 0., 0., 0.],\n",
       "       [0., 0., 0., 0., 0., 0., 1., 0., 0., 0.],\n",
       "       [0., 1., 0., 0., 0., 0., 0., 0., 0., 0.],\n",
       "       [0., 0., 0., 0., 1., 0., 0., 0., 0., 0.],\n",
       "       [0., 0., 0., 0., 0., 0., 1., 0., 0., 0.],\n",
       "       [0., 0., 0., 0., 0., 1., 0., 0., 0., 0.],\n",
       "       [0., 0., 0., 0., 0., 0., 0., 1., 0., 0.]])"
      ]
     },
     "execution_count": 17,
     "metadata": {},
     "output_type": "execute_result"
    }
   ],
   "source": [
    "y_test[:10]"
   ]
  },
  {
   "cell_type": "code",
   "execution_count": 51,
   "metadata": {},
   "outputs": [],
   "source": [
    "tf.reset_default_graph()\n",
    "\n",
    "inputs = tf.placeholder(dtype=tf.float32, shape=(None, 784), name='x')\n",
    "labels = tf.placeholder(dtype=tf.float32, shape=(None, 10), name='y')\n",
    "\n",
    "# with tf.variable_scope('hidden_layer'):\n",
    "w1 = tf.Variable(tf.truncated_normal([784, 128]), name='w1')\n",
    "b1 = tf.Variable(tf.zeros(128), name='b1')\n",
    "z1 = tf.matmul(inputs, w1) + b1\n",
    "a1 = tf.nn.relu(z1)\n",
    "#     a1 = tf.layers.dense(inputs=inputs, units=128, activation=tf.nn.relu, name='w1')\n",
    "\n",
    "# with tf.variable_scope('output_layer'):\n",
    "w2 = tf.Variable(tf.truncated_normal([128, 10]), name='w2')\n",
    "b2 = tf.Variable(tf.zeros(10), name='b2')\n",
    "z2 = tf.matmul(a1, w2) + b2\n",
    "#     z2 = tf.layers.dense(inputs=a1, units=10, name='w2')\n",
    "    \n",
    "loss = tf.reduce_mean(tf.nn.softmax_cross_entropy_with_logits_v2(labels=labels, logits=z2), name='loss')\n",
    "optimizer = tf.train.AdamOptimizer()\n",
    "train_step = optimizer.minimize(loss)\n",
    "\n",
    "predict_booling = tf.equal(tf.argmax(labels, axis=1), tf.argmax(z2, axis=1))\n",
    "accuracy = tf.reduce_mean(tf.cast(predict_booling, tf.float32))"
   ]
  },
  {
   "cell_type": "code",
   "execution_count": 52,
   "metadata": {},
   "outputs": [],
   "source": [
    "writer = tf.summary.FileWriter('Tensorboard/', graph=tf.get_default_graph())"
   ]
  },
  {
   "cell_type": "code",
   "execution_count": 33,
   "metadata": {},
   "outputs": [
    {
     "data": {
      "text/plain": [
       "<tf.Tensor 'loss:0' shape=() dtype=float32>"
      ]
     },
     "execution_count": 33,
     "metadata": {},
     "output_type": "execute_result"
    }
   ],
   "source": [
    "loss"
   ]
  },
  {
   "cell_type": "code",
   "execution_count": 40,
   "metadata": {},
   "outputs": [
    {
     "data": {
      "text/plain": [
       "[<tf.Variable 'hidden_layer/w1/kernel:0' shape=(784, 128) dtype=float32_ref>,\n",
       " <tf.Variable 'hidden_layer/w1/bias:0' shape=(128,) dtype=float32_ref>,\n",
       " <tf.Variable 'output_layer/w2/kernel:0' shape=(128, 10) dtype=float32_ref>,\n",
       " <tf.Variable 'output_layer/w2/bias:0' shape=(10,) dtype=float32_ref>,\n",
       " <tf.Variable 'beta1_power:0' shape=() dtype=float32_ref>,\n",
       " <tf.Variable 'beta2_power:0' shape=() dtype=float32_ref>,\n",
       " <tf.Variable 'hidden_layer/w1/kernel/Adam:0' shape=(784, 128) dtype=float32_ref>,\n",
       " <tf.Variable 'hidden_layer/w1/kernel/Adam_1:0' shape=(784, 128) dtype=float32_ref>,\n",
       " <tf.Variable 'hidden_layer/w1/bias/Adam:0' shape=(128,) dtype=float32_ref>,\n",
       " <tf.Variable 'hidden_layer/w1/bias/Adam_1:0' shape=(128,) dtype=float32_ref>,\n",
       " <tf.Variable 'output_layer/w2/kernel/Adam:0' shape=(128, 10) dtype=float32_ref>,\n",
       " <tf.Variable 'output_layer/w2/kernel/Adam_1:0' shape=(128, 10) dtype=float32_ref>,\n",
       " <tf.Variable 'output_layer/w2/bias/Adam:0' shape=(10,) dtype=float32_ref>,\n",
       " <tf.Variable 'output_layer/w2/bias/Adam_1:0' shape=(10,) dtype=float32_ref>]"
      ]
     },
     "execution_count": 40,
     "metadata": {},
     "output_type": "execute_result"
    }
   ],
   "source": [
    "tf.global_variables()"
   ]
  },
  {
   "cell_type": "code",
   "execution_count": 36,
   "metadata": {},
   "outputs": [],
   "source": [
    "from sklearn.utils import shuffle\n",
    "from tqdm import tqdm_notebook"
   ]
  },
  {
   "cell_type": "code",
   "execution_count": 42,
   "metadata": {},
   "outputs": [
    {
     "data": {
      "application/vnd.jupyter.widget-view+json": {
       "model_id": "f1d84ce3ebf74e6e9018d8c7c2ea0de6",
       "version_major": 2,
       "version_minor": 0
      },
      "text/plain": [
       "HBox(children=(IntProgress(value=0, max=10), HTML(value='')))"
      ]
     },
     "metadata": {},
     "output_type": "display_data"
    },
    {
     "name": "stdout",
     "output_type": "stream",
     "text": [
      "epoch 0, train_acc: 0.860, test_acc: 0.843\n",
      "epoch 1, train_acc: 0.883, test_acc: 0.862\n",
      "epoch 2, train_acc: 0.890, test_acc: 0.870\n",
      "epoch 3, train_acc: 0.887, test_acc: 0.865\n",
      "epoch 4, train_acc: 0.903, test_acc: 0.878\n",
      "epoch 5, train_acc: 0.903, test_acc: 0.876\n",
      "epoch 6, train_acc: 0.909, test_acc: 0.876\n",
      "epoch 7, train_acc: 0.907, test_acc: 0.877\n",
      "epoch 8, train_acc: 0.907, test_acc: 0.870\n",
      "epoch 9, train_acc: 0.917, test_acc: 0.882\n",
      "\n"
     ]
    }
   ],
   "source": [
    "sess = tf.Session()\n",
    "sess.run(tf.global_variables_initializer())\n",
    "\n",
    "epochs = 10\n",
    "batch_size = 32\n",
    "\n",
    "total_batch = len(X_train)//batch_size\n",
    "\n",
    "for epoch in tqdm_notebook(range(epochs)):\n",
    "    for i in range(total_batch):\n",
    "        X_batch = X_train[i*batch_size:(i+1)*batch_size]\n",
    "        y_batch = y_train[i*batch_size:(i+1)*batch_size]\n",
    "        sess.run(train_step, feed_dict={inputs:X_batch, labels:y_batch})\n",
    "        \n",
    "    X_train, y_train = shuffle(X_train, y_train)\n",
    "    \n",
    "    train_acc = sess.run(accuracy, feed_dict={inputs:X_train, labels:y_train})\n",
    "    test_acc = sess.run(accuracy, feed_dict={inputs:X_test, labels:y_test})\n",
    "    print('epoch {}, train_acc: {:.3f}, test_acc: {:.3f}'.format(epoch, train_acc, test_acc))"
   ]
  },
  {
   "cell_type": "code",
   "execution_count": 41,
   "metadata": {},
   "outputs": [],
   "source": [
    "sess.close()"
   ]
  },
  {
   "cell_type": "code",
   "execution_count": 45,
   "metadata": {},
   "outputs": [],
   "source": [
    "tf.reset_default_graph()\n",
    "\n",
    "model = tf.keras.Sequential([\n",
    "    tf.keras.layers.Dense(128, activation=tf.nn.relu, input_shape=(784,)),\n",
    "    tf.keras.layers.Dense(10, activation=tf.nn.softmax)\n",
    "])\n",
    "\n",
    "model.compile(optimizer='Adam', loss='categorical_crossentropy', metrics=['accuracy'])"
   ]
  },
  {
   "cell_type": "code",
   "execution_count": 46,
   "metadata": {},
   "outputs": [
    {
     "name": "stdout",
     "output_type": "stream",
     "text": [
      "Epoch 1/10\n",
      "60000/60000 [==============================] - 4s 62us/step - loss: 0.5004 - acc: 0.8238\n",
      "Epoch 2/10\n",
      "60000/60000 [==============================] - 4s 61us/step - loss: 0.3757 - acc: 0.8643\n",
      "Epoch 3/10\n",
      "60000/60000 [==============================] - 4s 60us/step - loss: 0.3392 - acc: 0.8767\n",
      "Epoch 4/10\n",
      "60000/60000 [==============================] - 4s 59us/step - loss: 0.3128 - acc: 0.8845\n",
      "Epoch 5/10\n",
      "60000/60000 [==============================] - 4s 60us/step - loss: 0.2937 - acc: 0.8910\n",
      "Epoch 6/10\n",
      "60000/60000 [==============================] - 4s 61us/step - loss: 0.2807 - acc: 0.8972\n",
      "Epoch 7/10\n",
      "60000/60000 [==============================] - 4s 60us/step - loss: 0.2688 - acc: 0.9005\n",
      "Epoch 8/10\n",
      "60000/60000 [==============================] - 4s 59us/step - loss: 0.2564 - acc: 0.9048\n",
      "Epoch 9/10\n",
      "60000/60000 [==============================] - 4s 59us/step - loss: 0.2486 - acc: 0.9070\n",
      "Epoch 10/10\n",
      "60000/60000 [==============================] - 4s 60us/step - loss: 0.2371 - acc: 0.9120\n"
     ]
    },
    {
     "data": {
      "text/plain": [
       "<tensorflow.python.keras.callbacks.History at 0x7fa96007e710>"
      ]
     },
     "execution_count": 46,
     "metadata": {},
     "output_type": "execute_result"
    }
   ],
   "source": [
    "model.fit(X_train, y_train, epochs=epochs, batch_size=batch_size)"
   ]
  },
  {
   "cell_type": "code",
   "execution_count": 47,
   "metadata": {},
   "outputs": [
    {
     "name": "stdout",
     "output_type": "stream",
     "text": [
      "10000/10000 [==============================] - 0s 24us/step\n"
     ]
    },
    {
     "data": {
      "text/plain": [
       "[0.3579446482658386, 0.8776]"
      ]
     },
     "execution_count": 47,
     "metadata": {},
     "output_type": "execute_result"
    }
   ],
   "source": [
    "model.evaluate(X_test, y_test)"
   ]
  },
  {
   "cell_type": "code",
   "execution_count": 48,
   "metadata": {},
   "outputs": [
    {
     "data": {
      "text/plain": [
       "[<tf.Variable 'dense/kernel:0' shape=(784, 128) dtype=float32>,\n",
       " <tf.Variable 'dense/bias:0' shape=(128,) dtype=float32>,\n",
       " <tf.Variable 'dense_1/kernel:0' shape=(128, 10) dtype=float32>,\n",
       " <tf.Variable 'dense_1/bias:0' shape=(10,) dtype=float32>,\n",
       " <tf.Variable 'Adam/iterations:0' shape=() dtype=int64>,\n",
       " <tf.Variable 'Adam/lr:0' shape=() dtype=float32>,\n",
       " <tf.Variable 'Adam/beta_1:0' shape=() dtype=float32>,\n",
       " <tf.Variable 'Adam/beta_2:0' shape=() dtype=float32>,\n",
       " <tf.Variable 'Adam/decay:0' shape=() dtype=float32>,\n",
       " <tf.Variable 'training/Adam/Variable:0' shape=(784, 128) dtype=float32>,\n",
       " <tf.Variable 'training/Adam/Variable_1:0' shape=(128,) dtype=float32>,\n",
       " <tf.Variable 'training/Adam/Variable_2:0' shape=(128, 10) dtype=float32>,\n",
       " <tf.Variable 'training/Adam/Variable_3:0' shape=(10,) dtype=float32>,\n",
       " <tf.Variable 'training/Adam/Variable_4:0' shape=(784, 128) dtype=float32>,\n",
       " <tf.Variable 'training/Adam/Variable_5:0' shape=(128,) dtype=float32>,\n",
       " <tf.Variable 'training/Adam/Variable_6:0' shape=(128, 10) dtype=float32>,\n",
       " <tf.Variable 'training/Adam/Variable_7:0' shape=(10,) dtype=float32>,\n",
       " <tf.Variable 'training/Adam/Variable_8:0' shape=(1,) dtype=float32>,\n",
       " <tf.Variable 'training/Adam/Variable_9:0' shape=(1,) dtype=float32>,\n",
       " <tf.Variable 'training/Adam/Variable_10:0' shape=(1,) dtype=float32>,\n",
       " <tf.Variable 'training/Adam/Variable_11:0' shape=(1,) dtype=float32>]"
      ]
     },
     "execution_count": 48,
     "metadata": {},
     "output_type": "execute_result"
    }
   ],
   "source": [
    "tf.global_variables()"
   ]
  },
  {
   "cell_type": "code",
   "execution_count": null,
   "metadata": {},
   "outputs": [],
   "source": []
  }
 ],
 "metadata": {
  "kernelspec": {
   "display_name": "Python 3",
   "language": "python",
   "name": "python3"
  },
  "language_info": {
   "codemirror_mode": {
    "name": "ipython",
    "version": 3
   },
   "file_extension": ".py",
   "mimetype": "text/x-python",
   "name": "python",
   "nbconvert_exporter": "python",
   "pygments_lexer": "ipython3",
   "version": "3.6.6"
  }
 },
 "nbformat": 4,
 "nbformat_minor": 2
}
