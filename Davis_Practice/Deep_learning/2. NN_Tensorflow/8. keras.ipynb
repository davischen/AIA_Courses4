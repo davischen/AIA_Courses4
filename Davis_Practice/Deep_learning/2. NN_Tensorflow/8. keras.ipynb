{
 "cells": [
  {
   "cell_type": "markdown",
   "metadata": {},
   "source": [
    "# tf.keras"
   ]
  },
  {
   "cell_type": "code",
   "execution_count": 17,
   "metadata": {},
   "outputs": [],
   "source": [
    "import numpy as np\n",
    "import tensorflow as tf\n",
    "import matplotlib.pyplot as plt\n",
    "from sklearn.model_selection import train_test_split"
   ]
  },
  {
   "cell_type": "code",
   "execution_count": 18,
   "metadata": {},
   "outputs": [],
   "source": [
    "batch_size = 32\n",
    "epochs = 40\n",
    "lr = 0.01\n",
    "train_ratio = 0.9"
   ]
  },
  {
   "cell_type": "code",
   "execution_count": 19,
   "metadata": {},
   "outputs": [],
   "source": [
    "from sklearn.datasets import load_digits\n",
    "\n",
    "digits = load_digits()\n",
    "x_, y_ = digits.data, digits.target\n",
    "\n",
    "# min-max normalization\n",
    "x_ = x_ / x_.max() \n",
    "\n",
    "# one hot encoding\n",
    "y_one_hot = np.zeros((len(y_), 10))  \n",
    "y_one_hot[np.arange(len(y_)), y_] = 1"
   ]
  },
  {
   "cell_type": "code",
   "execution_count": 20,
   "metadata": {},
   "outputs": [],
   "source": [
    "x_train, x_test, y_train, y_test = train_test_split(x_, \n",
    "                                                    y_one_hot, \n",
    "                                                    test_size=0.05, \n",
    "                                                    stratify=y_)"
   ]
  },
  {
   "cell_type": "code",
   "execution_count": 21,
   "metadata": {},
   "outputs": [],
   "source": [
    "from tensorflow.keras.layers import Dense"
   ]
  },
  {
   "cell_type": "code",
   "execution_count": 22,
   "metadata": {},
   "outputs": [
    {
     "name": "stdout",
     "output_type": "stream",
     "text": [
      "_________________________________________________________________\n",
      "Layer (type)                 Output Shape              Param #   \n",
      "=================================================================\n",
      "dense_2 (Dense)              (None, 64)                4160      \n",
      "_________________________________________________________________\n",
      "dense_3 (Dense)              (None, 10)                650       \n",
      "=================================================================\n",
      "Total params: 4,810\n",
      "Trainable params: 4,810\n",
      "Non-trainable params: 0\n",
      "_________________________________________________________________\n",
      "None\n"
     ]
    }
   ],
   "source": [
    "model = tf.keras.Sequential()\n",
    "model.add(Dense(64, activation='relu', input_shape=(64,)))\n",
    "model.add(Dense(10, activation='softmax')) \n",
    "\n",
    "print(model.summary())"
   ]
  },
  {
   "cell_type": "code",
   "execution_count": 23,
   "metadata": {},
   "outputs": [],
   "source": [
    "model.compile(loss='categorical_crossentropy',\n",
    "              optimizer=tf.keras.optimizers.Adam(),\n",
    "              metrics=['accuracy'])"
   ]
  },
  {
   "cell_type": "code",
   "execution_count": 24,
   "metadata": {},
   "outputs": [
    {
     "name": "stdout",
     "output_type": "stream",
     "text": [
      "Train on 1536 samples, validate on 171 samples\n",
      "Epoch 1/40\n",
      "1536/1536 [==============================] - 0s 278us/step - loss: 1.9966 - acc: 0.4193 - val_loss: 1.6241 - val_acc: 0.7193\n",
      "Epoch 2/40\n",
      "1536/1536 [==============================] - 0s 57us/step - loss: 1.3383 - acc: 0.7760 - val_loss: 1.0810 - val_acc: 0.8246\n",
      "Epoch 3/40\n",
      "1536/1536 [==============================] - 0s 55us/step - loss: 0.8997 - acc: 0.8685 - val_loss: 0.7438 - val_acc: 0.8830\n",
      "Epoch 4/40\n",
      "1536/1536 [==============================] - 0s 57us/step - loss: 0.6442 - acc: 0.9082 - val_loss: 0.5479 - val_acc: 0.9123\n",
      "Epoch 5/40\n",
      "1536/1536 [==============================] - 0s 58us/step - loss: 0.4935 - acc: 0.9219 - val_loss: 0.4284 - val_acc: 0.9123\n",
      "Epoch 6/40\n",
      "1536/1536 [==============================] - 0s 58us/step - loss: 0.3971 - acc: 0.9310 - val_loss: 0.3606 - val_acc: 0.9298\n",
      "Epoch 7/40\n",
      "1536/1536 [==============================] - 0s 56us/step - loss: 0.3322 - acc: 0.9421 - val_loss: 0.3036 - val_acc: 0.9415\n",
      "Epoch 8/40\n",
      "1536/1536 [==============================] - 0s 56us/step - loss: 0.2873 - acc: 0.9460 - val_loss: 0.2614 - val_acc: 0.9474\n",
      "Epoch 9/40\n",
      "1536/1536 [==============================] - 0s 56us/step - loss: 0.2530 - acc: 0.9479 - val_loss: 0.2332 - val_acc: 0.9532\n",
      "Epoch 10/40\n",
      "1536/1536 [==============================] - 0s 63us/step - loss: 0.2279 - acc: 0.9577 - val_loss: 0.2097 - val_acc: 0.9532\n",
      "Epoch 11/40\n",
      "1536/1536 [==============================] - 0s 58us/step - loss: 0.2068 - acc: 0.9570 - val_loss: 0.1862 - val_acc: 0.9591\n",
      "Epoch 12/40\n",
      "1536/1536 [==============================] - 0s 54us/step - loss: 0.1868 - acc: 0.9570 - val_loss: 0.1767 - val_acc: 0.9766\n",
      "Epoch 13/40\n",
      "1536/1536 [==============================] - 0s 56us/step - loss: 0.1737 - acc: 0.9661 - val_loss: 0.1659 - val_acc: 0.9766\n",
      "Epoch 14/40\n",
      "1536/1536 [==============================] - 0s 52us/step - loss: 0.1635 - acc: 0.9616 - val_loss: 0.1589 - val_acc: 0.9649\n",
      "Epoch 15/40\n",
      "1536/1536 [==============================] - 0s 58us/step - loss: 0.1512 - acc: 0.9727 - val_loss: 0.1430 - val_acc: 0.9825\n",
      "Epoch 16/40\n",
      "1536/1536 [==============================] - 0s 56us/step - loss: 0.1427 - acc: 0.9701 - val_loss: 0.1421 - val_acc: 0.9708\n",
      "Epoch 17/40\n",
      "1536/1536 [==============================] - 0s 56us/step - loss: 0.1346 - acc: 0.9746 - val_loss: 0.1296 - val_acc: 0.9883\n",
      "Epoch 18/40\n",
      "1536/1536 [==============================] - 0s 54us/step - loss: 0.1260 - acc: 0.9792 - val_loss: 0.1291 - val_acc: 0.9708\n",
      "Epoch 19/40\n",
      "1536/1536 [==============================] - 0s 56us/step - loss: 0.1208 - acc: 0.9772 - val_loss: 0.1229 - val_acc: 0.9708\n",
      "Epoch 20/40\n",
      "1536/1536 [==============================] - 0s 57us/step - loss: 0.1130 - acc: 0.9805 - val_loss: 0.1181 - val_acc: 0.9766\n",
      "Epoch 21/40\n",
      "1536/1536 [==============================] - 0s 58us/step - loss: 0.1074 - acc: 0.9824 - val_loss: 0.1232 - val_acc: 0.9708\n",
      "Epoch 22/40\n",
      "1536/1536 [==============================] - 0s 59us/step - loss: 0.1036 - acc: 0.9818 - val_loss: 0.1059 - val_acc: 0.9825\n",
      "Epoch 23/40\n",
      "1536/1536 [==============================] - 0s 54us/step - loss: 0.0983 - acc: 0.9844 - val_loss: 0.1006 - val_acc: 0.9883\n",
      "Epoch 24/40\n",
      "1536/1536 [==============================] - 0s 56us/step - loss: 0.0937 - acc: 0.9857 - val_loss: 0.1028 - val_acc: 0.9883\n",
      "Epoch 25/40\n",
      "1536/1536 [==============================] - 0s 53us/step - loss: 0.0896 - acc: 0.9844 - val_loss: 0.1042 - val_acc: 0.9883\n",
      "Epoch 26/40\n",
      "1536/1536 [==============================] - 0s 57us/step - loss: 0.0863 - acc: 0.9850 - val_loss: 0.1064 - val_acc: 0.9766\n",
      "Epoch 27/40\n",
      "1536/1536 [==============================] - 0s 55us/step - loss: 0.0832 - acc: 0.9870 - val_loss: 0.0952 - val_acc: 0.9883\n",
      "Epoch 28/40\n",
      "1536/1536 [==============================] - 0s 57us/step - loss: 0.0807 - acc: 0.9870 - val_loss: 0.0915 - val_acc: 0.9883\n",
      "Epoch 29/40\n",
      "1536/1536 [==============================] - 0s 57us/step - loss: 0.0772 - acc: 0.9883 - val_loss: 0.0974 - val_acc: 0.9708\n",
      "Epoch 30/40\n",
      "1536/1536 [==============================] - 0s 57us/step - loss: 0.0745 - acc: 0.9876 - val_loss: 0.0906 - val_acc: 0.9825\n",
      "Epoch 31/40\n",
      "1536/1536 [==============================] - 0s 56us/step - loss: 0.0717 - acc: 0.9876 - val_loss: 0.0865 - val_acc: 0.9883\n",
      "Epoch 32/40\n",
      "1536/1536 [==============================] - 0s 57us/step - loss: 0.0673 - acc: 0.9902 - val_loss: 0.0905 - val_acc: 0.9766\n",
      "Epoch 33/40\n",
      "1536/1536 [==============================] - 0s 57us/step - loss: 0.0666 - acc: 0.9889 - val_loss: 0.0864 - val_acc: 0.9883\n",
      "Epoch 34/40\n",
      "1536/1536 [==============================] - 0s 58us/step - loss: 0.0627 - acc: 0.9915 - val_loss: 0.0860 - val_acc: 0.9883\n",
      "Epoch 35/40\n",
      "1536/1536 [==============================] - 0s 58us/step - loss: 0.0614 - acc: 0.9909 - val_loss: 0.0800 - val_acc: 0.9883\n",
      "Epoch 36/40\n",
      "1536/1536 [==============================] - 0s 55us/step - loss: 0.0603 - acc: 0.9902 - val_loss: 0.0855 - val_acc: 0.9883\n",
      "Epoch 37/40\n",
      "1536/1536 [==============================] - 0s 56us/step - loss: 0.0570 - acc: 0.9915 - val_loss: 0.0753 - val_acc: 0.9883\n",
      "Epoch 38/40\n",
      "1536/1536 [==============================] - 0s 53us/step - loss: 0.0547 - acc: 0.9941 - val_loss: 0.0830 - val_acc: 0.9883\n",
      "Epoch 39/40\n",
      "1536/1536 [==============================] - 0s 57us/step - loss: 0.0529 - acc: 0.9909 - val_loss: 0.0757 - val_acc: 0.9883\n",
      "Epoch 40/40\n",
      "1536/1536 [==============================] - 0s 57us/step - loss: 0.0510 - acc: 0.9941 - val_loss: 0.0843 - val_acc: 0.9883\n"
     ]
    }
   ],
   "source": [
    "model_history = model.fit(x=x_train, y=y_train,\n",
    "                          batch_size=batch_size,\n",
    "                          epochs=epochs,\n",
    "                          validation_split=1 - train_ratio)"
   ]
  },
  {
   "cell_type": "code",
   "execution_count": 9,
   "metadata": {},
   "outputs": [],
   "source": [
    "train_loss = model_history.history['loss']\n",
    "train_acc = model_history.history['acc']\n",
    "valid_loss = model_history.history['val_loss']\n",
    "valid_acc = model_history.history['val_acc']"
   ]
  },
  {
   "cell_type": "code",
   "execution_count": 10,
   "metadata": {},
   "outputs": [
    {
     "data": {
      "image/png": "[encoded data removed]",
      "text/plain": [
       "<Figure size 432x288 with 1 Axes>"
      ]
     },
     "metadata": {
      "needs_background": "light"
     },
     "output_type": "display_data"
    },
    {
     "data": {
      "image/png": "[encoded data removed]",
      "text/plain": [
       "<Figure size 432x288 with 1 Axes>"
      ]
     },
     "metadata": {
      "needs_background": "light"
     },
     "output_type": "display_data"
    }
   ],
   "source": [
    "plt.plot(train_loss, 'b', label='train')\n",
    "plt.plot(valid_loss, 'r', label='valid')\n",
    "plt.legend()\n",
    "plt.title(\"Loss\")\n",
    "plt.show()\n",
    "\n",
    "plt.plot(train_acc, 'b', label='train')\n",
    "plt.plot(valid_acc, 'r', label='valid')\n",
    "plt.legend(loc=4)\n",
    "plt.title(\"Accuracy\")\n",
    "plt.show()"
   ]
  },
  {
   "cell_type": "code",
   "execution_count": 11,
   "metadata": {},
   "outputs": [],
   "source": [
    "from sklearn.metrics import accuracy_score"
   ]
  },
  {
   "cell_type": "code",
   "execution_count": 12,
   "metadata": {},
   "outputs": [],
   "source": [
    "y_predict = model.predict_classes(x_test)\n",
    "y_test_label = np.argmax(y_test, axis=1)"
   ]
  },
  {
   "cell_type": "code",
   "execution_count": 13,
   "metadata": {},
   "outputs": [
    {
     "name": "stdout",
     "output_type": "stream",
     "text": [
      "Accuracy in testing data: 0.9777777777777777\n"
     ]
    }
   ],
   "source": [
    "print('Accuracy in testing data:', accuracy_score(y_test_label, y_predict))"
   ]
  },
  {
   "cell_type": "code",
   "execution_count": 14,
   "metadata": {},
   "outputs": [
    {
     "data": {
      "text/plain": [
       "[<tf.Variable 'dense/kernel:0' shape=(64, 25) dtype=float32>,\n",
       " <tf.Variable 'dense/bias:0' shape=(25,) dtype=float32>,\n",
       " <tf.Variable 'dense_1/kernel:0' shape=(25, 10) dtype=float32>,\n",
       " <tf.Variable 'dense_1/bias:0' shape=(10,) dtype=float32>,\n",
       " <tf.Variable 'Adam/iterations:0' shape=() dtype=int64>,\n",
       " <tf.Variable 'Adam/lr:0' shape=() dtype=float32>,\n",
       " <tf.Variable 'Adam/beta_1:0' shape=() dtype=float32>,\n",
       " <tf.Variable 'Adam/beta_2:0' shape=() dtype=float32>,\n",
       " <tf.Variable 'Adam/decay:0' shape=() dtype=float32>,\n",
       " <tf.Variable 'training/Adam/Variable:0' shape=(64, 25) dtype=float32>,\n",
       " <tf.Variable 'training/Adam/Variable_1:0' shape=(25,) dtype=float32>,\n",
       " <tf.Variable 'training/Adam/Variable_2:0' shape=(25, 10) dtype=float32>,\n",
       " <tf.Variable 'training/Adam/Variable_3:0' shape=(10,) dtype=float32>,\n",
       " <tf.Variable 'training/Adam/Variable_4:0' shape=(64, 25) dtype=float32>,\n",
       " <tf.Variable 'training/Adam/Variable_5:0' shape=(25,) dtype=float32>,\n",
       " <tf.Variable 'training/Adam/Variable_6:0' shape=(25, 10) dtype=float32>,\n",
       " <tf.Variable 'training/Adam/Variable_7:0' shape=(10,) dtype=float32>,\n",
       " <tf.Variable 'training/Adam/Variable_8:0' shape=(1,) dtype=float32>,\n",
       " <tf.Variable 'training/Adam/Variable_9:0' shape=(1,) dtype=float32>,\n",
       " <tf.Variable 'training/Adam/Variable_10:0' shape=(1,) dtype=float32>,\n",
       " <tf.Variable 'training/Adam/Variable_11:0' shape=(1,) dtype=float32>]"
      ]
     },
     "execution_count": 14,
     "metadata": {},
     "output_type": "execute_result"
    }
   ],
   "source": [
    "tf.global_variables()"
   ]
  },
  {
   "cell_type": "code",
   "execution_count": 15,
   "metadata": {},
   "outputs": [],
   "source": [
    "# save model\n",
    "model.save('my_model.h5')\n",
    "\n",
    "# load model\n",
    "another_model = tf.keras.models.load_model('my_model.h5')"
   ]
  },
  {
   "cell_type": "code",
   "execution_count": 16,
   "metadata": {},
   "outputs": [
    {
     "name": "stdout",
     "output_type": "stream",
     "text": [
      "Accuracy in testing data: 0.9666666666666667\n"
     ]
    }
   ],
   "source": [
    "y_predict = another_model.predict_classes(x_test)\n",
    "y_test_label = np.argmax(y_test, axis=1)\n",
    "print('Accuracy in testing data:', accuracy_score(y_test_label, y_predict))"
   ]
  },
  {
   "cell_type": "markdown",
   "metadata": {},
   "source": [
    "# Practice\n",
    "Build a cat-dog-classifier with tf.keras"
   ]
  },
  {
   "cell_type": "code",
   "execution_count": 16,
   "metadata": {},
   "outputs": [
    {
     "ename": "AttributeError",
     "evalue": "'numpy.ndarray' object has no attribute 'id'",
     "output_type": "error",
     "traceback": [
      "\u001b[0;31m---------------------------------------------------------------------------\u001b[0m",
      "\u001b[0;31mAttributeError\u001b[0m                            Traceback (most recent call last)",
      "\u001b[0;32m<ipython-input-16-21159be72ddd>\u001b[0m in \u001b[0;36m<module>\u001b[0;34m\u001b[0m\n\u001b[1;32m      1\u001b[0m \u001b[0;34m\u001b[0m\u001b[0m\n\u001b[1;32m      2\u001b[0m \u001b[0;32mimport\u001b[0m \u001b[0mpandas\u001b[0m \u001b[0;32mas\u001b[0m \u001b[0mpd\u001b[0m\u001b[0;34m\u001b[0m\u001b[0m\n\u001b[0;32m----> 3\u001b[0;31m \u001b[0mpd\u001b[0m\u001b[0;34m.\u001b[0m\u001b[0mDataFrame\u001b[0m\u001b[0;34m(\u001b[0m\u001b[0;34m{\u001b[0m\u001b[0;34m'class'\u001b[0m\u001b[0;34m:\u001b[0m \u001b[0my_predict\u001b[0m\u001b[0;34m}\u001b[0m \u001b[0;34m,\u001b[0m\u001b[0mindex\u001b[0m \u001b[0;34m=\u001b[0m \u001b[0mx_test\u001b[0m\u001b[0;34m.\u001b[0m\u001b[0mid\u001b[0m\u001b[0;34m)\u001b[0m\u001b[0;34m.\u001b[0m\u001b[0mto_csv\u001b[0m\u001b[0;34m(\u001b[0m\u001b[0;34m'pokemon_submission.csv'\u001b[0m\u001b[0;34m)\u001b[0m\u001b[0;34m\u001b[0m\u001b[0m\n\u001b[0m",
      "\u001b[0;31mAttributeError\u001b[0m: 'numpy.ndarray' object has no attribute 'id'"
     ]
    }
   ],
   "source": [
    "\n",
    "import pandas as pd\n",
    "pd.DataFrame({'class': y_predict} ,index = x_test.id).to_csv('pokemon_submission.csv') "
   ]
  },
  {
   "cell_type": "code",
   "execution_count": null,
   "metadata": {},
   "outputs": [],
   "source": []
  }
 ],
 "metadata": {
  "kernelspec": {
   "display_name": "Python 3",
   "language": "python",
   "name": "python3"
  },
  "language_info": {
   "codemirror_mode": {
    "name": "ipython",
    "version": 3
   },
   "file_extension": ".py",
   "mimetype": "text/x-python",
   "name": "python",
   "nbconvert_exporter": "python",
   "pygments_lexer": "ipython3",
   "version": "3.6.6"
  }
 },
 "nbformat": 4,
 "nbformat_minor": 2
}
