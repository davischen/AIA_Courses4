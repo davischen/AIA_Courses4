{
 "cells": [
  {
   "cell_type": "code",
   "execution_count": 38,
   "metadata": {},
   "outputs": [],
   "source": [
    "import numpy as np\n",
    "# Define our target function\n",
    "def my_function(x):\n",
    "    # Write your code below!\n",
    "    \n",
    "    result = 0.05 * x**2 + 0.8 * x\n",
    "    \n",
    "    return result"
   ]
  },
  {
   "cell_type": "code",
   "execution_count": 28,
   "metadata": {},
   "outputs": [
    {
     "data": {
      "text/plain": [
       "0.8500000000000001"
      ]
     },
     "execution_count": 28,
     "metadata": {},
     "output_type": "execute_result"
    }
   ],
   "source": [
    "my_function(1.)"
   ]
  },
  {
   "cell_type": "code",
   "execution_count": 24,
   "metadata": {},
   "outputs": [],
   "source": [
    "# Define derivative\n",
    "def derivative(f, x):\n",
    "    # f in here stands for our function, and x is our input\n",
    "    # I usually set a variable called epsilon, it represents a small number\n",
    "    # Write your code below!\n",
    "    #https://hugogranstrom.com/math-codified-derivatives/\n",
    "    \n",
    "    h = epsilon\n",
    "    \n",
    "    y1=f(x+h)\n",
    "    \n",
    "    y2=f(x)\n",
    "    \n",
    "    result=(y1-y2)/x\n",
    "    \n",
    "    return result"
   ]
  },
  {
   "cell_type": "code",
   "execution_count": 25,
   "metadata": {},
   "outputs": [
    {
     "name": "stdout",
     "output_type": "stream",
     "text": [
      "The derivative of x at 5 is 0.0\n",
      "The derivative of x at 10 is 0.0\n",
      "The derivative of x at 5 is 2.600009999991215e-05\n",
      "The derivative of x at 10 is 1.800005000003324e-05\n",
      "The derivative of x at 5 is 0.27000000000000013\n",
      "The derivative of x at 10 is 0.18500000000000014\n"
     ]
    }
   ],
   "source": [
    "epsilon = 1e-50\n",
    "print('The derivative of x at 5 is',derivative(my_function, 5))\n",
    "print('The derivative of x at 10 is',derivative(my_function, 10))\n",
    "\n",
    "\n",
    "epsilon = 1e-4\n",
    "print('The derivative of x at 5 is',derivative(my_function, 5))\n",
    "print('The derivative of x at 10 is',derivative(my_function, 10))\n",
    "\n",
    "epsilon = 1\n",
    "print('The derivative of x at 5 is',derivative(my_function, 5))\n",
    "print('The derivative of x at 10 is',derivative(my_function, 10))"
   ]
  },
  {
   "cell_type": "markdown",
   "metadata": {},
   "source": [
    "# Define derivative\n",
    "def derivative(f, x):\n",
    "    # f in here stands for our function, and x is our input\n",
    "    # I usually set a variable called epsilon, it represents a small number\n",
    "    # Write your code below!\n",
    "    \n",
    "    \n",
    "    \n",
    "    return result"
   ]
  },
  {
   "cell_type": "code",
   "execution_count": 34,
   "metadata": {},
   "outputs": [],
   "source": [
    "def my_function2(X):\n",
    "    # xlist is the list of the variables we have\n",
    "    # and in this particular instance we have two variables \n",
    "    \n",
    "    return 2*X[0]**2+3*X[0]*X[1]+5*X[1]**2"
   ]
  },
  {
   "cell_type": "code",
   "execution_count": 35,
   "metadata": {},
   "outputs": [],
   "source": [
    "epsilon = 1e-6\n",
    "def partial_derivative(f, X, i):\n",
    "    # f is our function, and i is simply the index which we are \n",
    "    # excuting our partial derivative    \n",
    "    H = X.copy()\n",
    "    h = epsilon\n",
    "    H[i] = X[i] + h\n",
    "\n",
    "    return (f(H) - f(X)) / h    "
   ]
  },
  {
   "cell_type": "code",
   "execution_count": 39,
   "metadata": {},
   "outputs": [
    {
     "name": "stdout",
     "output_type": "stream",
     "text": [
      "The partial with respect to x at (2, 3) is 17.000002003442205\n",
      "The partial with respect to y at (2, 3) is 36.000004996594726\n"
     ]
    }
   ],
   "source": [
    "print('The partial with respect to x at (2, 3) is',partial_derivative(my_function2, np.array([2., 3.]), 0))\n",
    "print('The partial with respect to y at (2, 3) is',partial_derivative(my_function2, np.array([2., 3.]), 1))"
   ]
  },
  {
   "cell_type": "code",
   "execution_count": 40,
   "metadata": {},
   "outputs": [],
   "source": [
    "def gradient(f, X):\n",
    "    grad = []\n",
    "    for i in range(len(X)):\n",
    "        grad.append(partial_derivative(f, X, i))\n",
    "    return grad"
   ]
  },
  {
   "cell_type": "code",
   "execution_count": 41,
   "metadata": {},
   "outputs": [],
   "source": [
    "def MSE(true, pred):\n",
    "    MSE = 0\n",
    "    for i in range(len(true)):\n",
    "        MSE += (true[i]-pred[i])**2\n",
    "    return MSE/len(true)"
   ]
  },
  {
   "cell_type": "code",
   "execution_count": 42,
   "metadata": {},
   "outputs": [],
   "source": [
    "from sklearn import datasets\n",
    "iris = datasets.load_iris()\n",
    "X = iris.data\n",
    "Y = iris.target\n",
    "Y = Y.reshape(len(Y), 1)\n",
    "names = iris.target_names"
   ]
  },
  {
   "cell_type": "code",
   "execution_count": 43,
   "metadata": {},
   "outputs": [],
   "source": [
    "# Train valid test split\n",
    "\n",
    "X_train = np.vstack([X[0:40], X[50:90], X[100:140]])\n",
    "X_valid = np.vstack([X[40:45], X[90:95], X[140:145]])\n",
    "X_test = np.vstack([X[45:50], X[95:100], X[145:150]])\n",
    "\n",
    "Y_train = np.vstack([Y[0:40], Y[50:90], Y[100:140]])\n",
    "Y_valid = np.vstack([Y[40:45], Y[90:95], Y[140:145]])\n",
    "Y_test = np.vstack([Y[45:50], Y[95:100], Y[145:150]])"
   ]
  },
  {
   "cell_type": "code",
   "execution_count": 44,
   "metadata": {},
   "outputs": [],
   "source": [
    "def function(W, data=X_train, target=Y_train):\n",
    "    Z = np.matmul(data, W)\n",
    "    f = MSE(target, Z)/2\n",
    "    return f"
   ]
  },
  {
   "cell_type": "code",
   "execution_count": 45,
   "metadata": {},
   "outputs": [],
   "source": [
    "def function(W, data=X_train, target=Y_train):\n",
    "    Z = np.matmul(data, W)\n",
    "    f = MSE(target, Z)/2\n",
    "    return f"
   ]
  },
  {
   "cell_type": "code",
   "execution_count": 46,
   "metadata": {},
   "outputs": [],
   "source": [
    "def gradient_descent(X_train, Y_train, X_valid, Y_valid, W, alpha, num_iters):\n",
    "    m = len(Y_train)\n",
    "    train_loss = np.zeros((num_iters, 1))\n",
    "    valid_loss = np.zeros((num_iters, 1))\n",
    "    \n",
    "    for i in range(num_iters):\n",
    "        delta = gradient(function, W)\n",
    "        delta = np.array(delta)\n",
    "        W -= alpha*delta\n",
    "        \n",
    "        train_loss[i] = MSE(Y_train, np.matmul(X_train, W))\n",
    "        valid_loss[i] = MSE(Y_valid, np.matmul(X_valid, W))\n",
    "        \n",
    "        if i%10 == 0:\n",
    "            print('The training loss of the', i+1, 'epoch is', train_loss[i][0].round(4), \n",
    "                  ', and the validation loss of the', i+1, 'epoch is', valid_loss[i][0].round(4))\n",
    "    return W, train_loss, valid_loss"
   ]
  },
  {
   "cell_type": "code",
   "execution_count": 47,
   "metadata": {},
   "outputs": [
    {
     "name": "stdout",
     "output_type": "stream",
     "text": [
      "The training loss of the 1 epoch is 42.0511 , and the validation loss of the 1 epoch is 39.4121\n",
      "The training loss of the 11 epoch is 2.687 , and the validation loss of the 11 epoch is 2.43\n",
      "The training loss of the 21 epoch is 0.2469 , and the validation loss of the 21 epoch is 0.1861\n",
      "The training loss of the 31 epoch is 0.0761 , and the validation loss of the 31 epoch is 0.0402\n",
      "The training loss of the 41 epoch is 0.0591 , and the validation loss of the 41 epoch is 0.027\n",
      "The training loss of the 51 epoch is 0.0563 , and the validation loss of the 51 epoch is 0.0243\n",
      "The training loss of the 61 epoch is 0.0555 , and the validation loss of the 61 epoch is 0.0233\n",
      "The training loss of the 71 epoch is 0.0552 , and the validation loss of the 71 epoch is 0.0228\n",
      "The training loss of the 81 epoch is 0.0551 , and the validation loss of the 81 epoch is 0.0226\n",
      "The training loss of the 91 epoch is 0.0549 , and the validation loss of the 91 epoch is 0.0224\n"
     ]
    }
   ],
   "source": [
    "# Initializing \n",
    "np.random.seed(37)\n",
    "W = np.random.random((4,1))\n",
    "W, train_loss, valid_loss = gradient_descent(X_train, Y_train, X_valid, Y_valid, W, 0.03, 100)"
   ]
  },
  {
   "cell_type": "code",
   "execution_count": 48,
   "metadata": {},
   "outputs": [
    {
     "name": "stdout",
     "output_type": "stream",
     "text": [
      "The MSE score of our prediction is  0.0\n"
     ]
    }
   ],
   "source": [
    "predict = np.matmul(X_test, W).round()\n",
    "print('The MSE score of our prediction is ', MSE(Y_test, predict)[0])"
   ]
  },
  {
   "cell_type": "code",
   "execution_count": null,
   "metadata": {},
   "outputs": [],
   "source": []
  }
 ],
 "metadata": {
  "kernelspec": {
   "display_name": "Python 3",
   "language": "python",
   "name": "python3"
  },
  "language_info": {
   "codemirror_mode": {
    "name": "ipython",
    "version": 3
   },
   "file_extension": ".py",
   "mimetype": "text/x-python",
   "name": "python",
   "nbconvert_exporter": "python",
   "pygments_lexer": "ipython3",
   "version": "3.6.6"
  }
 },
 "nbformat": 4,
 "nbformat_minor": 2
}
