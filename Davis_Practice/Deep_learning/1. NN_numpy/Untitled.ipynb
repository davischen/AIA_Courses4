{
 "cells": [
  {
   "cell_type": "code",
   "execution_count": 1,
   "metadata": {},
   "outputs": [],
   "source": [
    "import numpy as np"
   ]
  },
  {
   "cell_type": "code",
   "execution_count": 12,
   "metadata": {},
   "outputs": [],
   "source": [
    "# define activation: sigmoid\n",
    "def sigmoid(X):\n",
    "    # You don't necessarily need to use a for loop here\n",
    "    # Python will broadcast for you\n",
    "    # for loop is only going to slow you down\n",
    "    # Write your code below!\n",
    "    \n",
    "    output = 1 / (1 + np.exp(-X))\n",
    "    \n",
    "    return output"
   ]
  },
  {
   "cell_type": "code",
   "execution_count": 13,
   "metadata": {},
   "outputs": [
    {
     "data": {
      "text/plain": [
       "0.6125396134409151"
      ]
     },
     "execution_count": 13,
     "metadata": {},
     "output_type": "execute_result"
    }
   ],
   "source": [
    "sigmoid(0.458)"
   ]
  },
  {
   "cell_type": "code",
   "execution_count": 14,
   "metadata": {},
   "outputs": [],
   "source": [
    "def sigmoid_gradient(X):\n",
    "    # You can use the sigmoid function we wrote above to finish this part\n",
    "    # Write your code below!\n",
    "    \n",
    "    output = sigmoid(X) * (1 - sigmoid(X))\n",
    "\n",
    "    return output"
   ]
  },
  {
   "cell_type": "code",
   "execution_count": 15,
   "metadata": {},
   "outputs": [
    {
     "data": {
      "text/plain": [
       "0.23733483540656938"
      ]
     },
     "execution_count": 15,
     "metadata": {},
     "output_type": "execute_result"
    }
   ],
   "source": [
    "sigmoid_gradient(0.458)"
   ]
  },
  {
   "cell_type": "code",
   "execution_count": 22,
   "metadata": {},
   "outputs": [],
   "source": [
    "# define activation: softmax\n",
    "def softmax(X): \n",
    "    # Something to keeep in mind is that \n",
    "    # np.sum can control the direction we are summing over\n",
    "    # which is why it is superior than the regular sum from python\n",
    "    # but when the shape of a matrix is (n, ) instead of (n,1)\n",
    "    # broadcasting can act in unexpected ways\n",
    "    # you can use keepdims (function within np.sum) to make sure the shape is right\n",
    "    # Write your code below!\n",
    "    \n",
    "    \n",
    "    e_x = np.exp(X - np.max(X))\n",
    "    output= e_x / e_x.sum()\n",
    "\n",
    "   \n",
    "    return output"
   ]
  },
  {
   "cell_type": "code",
   "execution_count": 24,
   "metadata": {},
   "outputs": [
    {
     "name": "stdout",
     "output_type": "stream",
     "text": [
      "[0.01587624 0.11731043 0.86681333]\n"
     ]
    }
   ],
   "source": [
    "scores = [1.0, 3.0, 5.0]\n",
    "print(softmax(scores))"
   ]
  },
  {
   "cell_type": "code",
   "execution_count": 62,
   "metadata": {},
   "outputs": [],
   "source": [
    "def cross_entropy(p, q):\n",
    "    # As you probably notice\n",
    "    # log(0) = negative infinity \n",
    "    # to avoid this we usually add a epsilon to our calculation\n",
    "    # and in sklearn they like to use 1e-15\n",
    "    # so thats what we'll be using here\n",
    "    # Write your codes below!\n",
    "    epsilon = 1e-15\n",
    "\n",
    "    predictions = np.clip(p, epsilon, 1. - epsilon)\n",
    "    N = predictions.shape[0]\n",
    "    output = - np.sum(q*np.log10(p+epsilon))\n",
    "    return output"
   ]
  },
  {
   "cell_type": "markdown",
   "metadata": {},
   "source": []
  },
  {
   "cell_type": "code",
   "execution_count": 65,
   "metadata": {},
   "outputs": [
    {
     "name": "stdout",
     "output_type": "stream",
     "text": [
      "0.15490195998574258\n",
      "-0.1549019599857432\n"
     ]
    }
   ],
   "source": [
    "predictions = np.array([0.7,0.2,0.1])\n",
    "targets = np.array([1,0,0])\n",
    "x = cross_entropy(predictions, targets)\n",
    "print(x)\n",
    "print(np.log10(0.7))"
   ]
  },
  {
   "cell_type": "code",
   "execution_count": 68,
   "metadata": {},
   "outputs": [],
   "source": [
    "def one_hot_encoding(array):\n",
    "    # If you are unsure how to approach this problem\n",
    "    # You can follow my way of one hotting \n",
    "    # Notice there is probably a more optimal solution here\n",
    "    # but I just thought this is a easy to follow method \n",
    "    # 1. Create a sorted array\n",
    "    # 2. Create a array of unique values' index\n",
    "    # 3. Create a identity matrix using the length of unique value array\n",
    "    # 4. Change the original array to their respective unique index\n",
    "    # 5. try result = eye[array] and watch the magic happen\n",
    "    # Write your codes below!\n",
    "    \n",
    "    x = np.array(array)\n",
    "    sortResult = np.sort(x)\n",
    "    sortResult2 = np.unique(sortResult)\n",
    "    \n",
    "    return result"
   ]
  },
  {
   "cell_type": "code",
   "execution_count": null,
   "metadata": {},
   "outputs": [],
   "source": []
  }
 ],
 "metadata": {
  "kernelspec": {
   "display_name": "Python 3",
   "language": "python",
   "name": "python3"
  },
  "language_info": {
   "codemirror_mode": {
    "name": "ipython",
    "version": 3
   },
   "file_extension": ".py",
   "mimetype": "text/x-python",
   "name": "python",
   "nbconvert_exporter": "python",
   "pygments_lexer": "ipython3",
   "version": "3.6.6"
  }
 },
 "nbformat": 4,
 "nbformat_minor": 2
}
