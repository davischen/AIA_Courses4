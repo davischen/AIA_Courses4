{
 "cells": [
  {
   "cell_type": "code",
   "execution_count": 270,
   "metadata": {},
   "outputs": [],
   "source": [
    "# import libraries\n",
    "import numpy as np\n",
    "import pandas as pd\n",
    "import matplotlib.pyplot as plt\n",
    "import seaborn as sns\n",
    "from scipy.stats import skew\n",
    "from sklearn.linear_model import LinearRegression, RidgeCV, LassoCV, ElasticNetCV\n",
    "from sklearn.model_selection import cross_val_score\n",
    "from sklearn.metrics import mean_squared_error\n",
    "\n",
    "from sklearn.ensemble import RandomForestClassifier\n",
    "%matplotlib inline\n",
    "\n",
    "#參考文章：https://www.kaggle.com/nishimoto/very-simple-linear-models-pls"
   ]
  },
  {
   "cell_type": "code",
   "execution_count": 271,
   "metadata": {},
   "outputs": [],
   "source": [
    "train = pd.read_csv(\"train.csv\")\n",
    "test = pd.read_csv(\"test.csv\")\n"
   ]
  },
  {
   "cell_type": "code",
   "execution_count": 272,
   "metadata": {},
   "outputs": [],
   "source": [
    "train = pd.read_csv('train_new.csv')\n",
    "test = pd.read_csv('test.csv')\n",
    "testID = test['id']\n",
    "\n",
    "#data = pd.concat([train.drop('SalePrice', axis=1), test], keys=['train', 'test'])\n",
    "#data.drop(['Id'], axis=1, inplace=True)\n",
    "#df_all = pd.concat([train.drop('SalePrice', axis=1), test], keys=['train', 'test'])\n",
    "#df_all.drop(['Id'], axis=1, inplace=True)"
   ]
  },
  {
   "cell_type": "code",
   "execution_count": null,
   "metadata": {},
   "outputs": [],
   "source": []
  },
  {
   "cell_type": "code",
   "execution_count": null,
   "metadata": {},
   "outputs": [],
   "source": []
  },
  {
   "cell_type": "markdown",
   "metadata": {},
   "source": [
    "## EDA (Drop Outlier)"
   ]
  },
  {
   "cell_type": "raw",
   "metadata": {},
   "source": []
  },
  {
   "cell_type": "markdown",
   "metadata": {},
   "source": [
    "## Drop Null Feature(s)"
   ]
  },
  {
   "cell_type": "code",
   "execution_count": 283,
   "metadata": {},
   "outputs": [],
   "source": [
    "#df_all = pd.concat( [ train.drop( [ 'Id', 'SalePrice' ], axis = 1 ),\n",
    "#                      test.drop( [ 'Id' ], axis = 1 ) ],\n",
    "#                      axis = 0, ignore_index = False )\n",
    "#train.drop_duplicates(keep='first', inplace=False) \n",
    "#test.drop_duplicates(keep='first', inplace=False) \n",
    "#train_data=train.drop('class', axis=1)\n",
    "df_all = pd.concat([train, test], keys=['train', 'test'], sort=True)"
   ]
  },
  {
   "cell_type": "code",
   "execution_count": 284,
   "metadata": {},
   "outputs": [],
   "source": [
    "df_all.drop(['Id'], axis=1, inplace=True)\n",
    "df_all.drop(['id'], axis=1, inplace=True)\n",
    "df_all.drop(['city'],axis=1,inplace=True)\n",
    "df_all.drop(['appearedHour'], axis=1, inplace=True)\n",
    "df_all.drop(['appearedMinute'], axis=1, inplace=True)"
   ]
  },
  {
   "cell_type": "code",
   "execution_count": 285,
   "metadata": {},
   "outputs": [
    {
     "name": "stdout",
     "output_type": "stream",
     "text": [
      "(8951, 180)\n",
      "class    1791\n",
      "dtype: int64\n"
     ]
    }
   ],
   "source": [
    "# check null status\n",
    "print( df_all.shape )\n",
    "df_na = df_all.select_dtypes( exclude = [ 'object' ] ).isnull().sum()\n",
    "print( df_na[ df_na > 100 ].sort_values(ascending=False) )"
   ]
  },
  {
   "cell_type": "code",
   "execution_count": 286,
   "metadata": {},
   "outputs": [],
   "source": [
    "#train = train.drop( labels = train[ train['class'].isna().any() ].index, axis = 0 )"
   ]
  },
  {
   "cell_type": "code",
   "execution_count": 287,
   "metadata": {},
   "outputs": [],
   "source": [
    "df_all['class'] = df_all['class'].apply(str)"
   ]
  },
  {
   "cell_type": "code",
   "execution_count": 288,
   "metadata": {},
   "outputs": [],
   "source": [
    "\n",
    "\n",
    "\n",
    "\n",
    "\n",
    "def FunctionalToInt(x):\n",
    "    if(x==False):\n",
    "        r = 0\n",
    "    else:\n",
    "        r = 1\n",
    "    return r\n",
    "\n",
    "df_all['closeToWater'] = df_all['closeToWater'].apply(FunctionalToInt)\n",
    "df_all['urban'] = df_all['urban'].apply(FunctionalToInt)\n",
    "df_all['suburban'] = df_all['suburban'].apply(FunctionalToInt)\n",
    "df_all['midurban'] = df_all['midurban'].apply(FunctionalToInt)\n",
    "df_all['rural'] = df_all['rural'].apply(FunctionalToInt)\n",
    "df_all['gymIn100m'] = df_all['gymIn100m'].apply(FunctionalToInt)\n",
    "df_all['gymIn250m'] = df_all['gymIn250m'].apply(FunctionalToInt)\n",
    "df_all['gymIn500m'] = df_all['gymIn500m'].apply(FunctionalToInt)\n",
    "df_all['gymIn1000m'] = df_all['gymIn1000m'].apply(FunctionalToInt)\n",
    "df_all['gymIn2500m'] = df_all['gymIn2500m'].apply(FunctionalToInt)\n",
    "df_all['gymIn5000m'] = df_all['gymIn5000m'].apply(FunctionalToInt)\n",
    "df_all['pokestopIn100m'] = df_all['pokestopIn100m'].apply(FunctionalToInt)\n",
    "df_all['pokestopIn250m'] = df_all['pokestopIn250m'].apply(FunctionalToInt)\n",
    "df_all['pokestopIn500m'] = df_all['pokestopIn500m'].apply(FunctionalToInt)\n",
    "df_all['pokestopIn1000m'] = df_all['pokestopIn1000m'].apply(FunctionalToInt)\n",
    "\n",
    "df_all['pokestopIn2500m'] = df_all['pokestopIn2500m'].apply(FunctionalToInt)\n",
    "df_all['pokestopIn5000m'] = df_all['pokestopIn5000m'].apply(FunctionalToInt)\n",
    "\n",
    "\n",
    "for num in range(1,152):\n",
    "    df_all['cooc_'+str(num)] = df_all['cooc_'+str(num)].apply(FunctionalToInt)\n",
    "\n",
    "\n",
    "\n",
    "def FunctionalToDay(x):\n",
    "    if(x=='morning'):\n",
    "        r = 0\n",
    "    elif(x=='afternoon'):\n",
    "        r = 1\n",
    "    elif(x=='evening'):\n",
    "        r = 2\n",
    "    elif(x=='night'):\n",
    "        r = 3\n",
    "    else:\n",
    "        r = 4\n",
    "    return r\n",
    "\n",
    "df_all['appearedTimeOfDay'] = df_all['appearedTimeOfDay'].apply(FunctionalToDay)\n",
    "\n",
    "\n",
    "def FunctionalToWeather(x):\n",
    "    if(x=='Clear'):\n",
    "        r = 0\n",
    "    elif(x=='PartlyCloudy'):\n",
    "        r = 1\n",
    "    elif(x=='Overcast'):\n",
    "        r = 2\n",
    "    elif(x=='MostlyCloudy'):\n",
    "        r = 3\n",
    "    elif(x=='PartlyCloudy'):\n",
    "        r = 4\n",
    "    elif(x=='BreezyandPartlyCloudy'):\n",
    "        r = 5\n",
    "    elif(x=='Dry'):\n",
    "        r = 6\n",
    "    elif(x=='LightRain'):\n",
    "        r = 7\n",
    "    elif(x=='Rain'):\n",
    "        r = 8\n",
    "    else:\n",
    "        r = 9\n",
    "    return r\n",
    "\n",
    "df_all['weather'] = df_all['weather'].apply(FunctionalToWeather)\n",
    "\n",
    "\n",
    "\n",
    "def FunctionalToDay(x):\n",
    "    if(x=='morning'):\n",
    "        r = 0\n",
    "    elif(x=='afternoon'):\n",
    "        r = 1\n",
    "    elif(x=='evening'):\n",
    "        r = 2\n",
    "    elif(x=='night'):\n",
    "        r = 3\n",
    "    else:\n",
    "        r = 4\n",
    "    return r\n",
    "\n",
    "df_all['weatherIcon'] = df_all['weather'].apply(FunctionalToWeather)\n",
    "\n",
    "\n",
    "def FunctionalToClss(x):\n",
    "    #print(x)\n",
    "    if(x=='0.0'):\n",
    "        r = '0'\n",
    "    elif(x=='1.0'):\n",
    "        r = '1'\n",
    "    elif(x=='2.0'):\n",
    "        r = '2'\n",
    "    elif(x=='3.0'):\n",
    "        r = '3'\n",
    "    elif(x=='4.0'):\n",
    "        r = '4'\n",
    "    elif(x=='5.0'):\n",
    "        r = '5'\n",
    "    elif(x=='6.0'):\n",
    "        r = '6'\n",
    "    else:\n",
    "        r = '7'\n",
    "    return r\n",
    "\n",
    "df_all['class'] = df_all['class'].apply(FunctionalToClss)\n",
    "\n",
    "def FunctionalToLocation(x):\n",
    "    if(x=='Asia'):\n",
    "        r = 0\n",
    "    elif(x=='America'):\n",
    "        r = 1\n",
    "    elif(x=='America/Argentina'):\n",
    "        r = 2\n",
    "    elif(x=='Europe'):\n",
    "        r = 3\n",
    "    elif(x=='Pacific'):\n",
    "        r = 4\n",
    "    elif(x=='Africa'):\n",
    "        r = 5\n",
    "    else:\n",
    "        r = 6\n",
    "    return r\n",
    "\n",
    "df_all['continent'] = df_all['continent'].apply(FunctionalToLocation)\n",
    "\n",
    "\n"
   ]
  },
  {
   "cell_type": "code",
   "execution_count": null,
   "metadata": {},
   "outputs": [],
   "source": []
  }
 ],
 "metadata": {
  "kernelspec": {
   "display_name": "Python 3",
   "language": "python",
   "name": "python3"
  },
  "language_info": {
   "codemirror_mode": {
    "name": "ipython",
    "version": 3
   },
   "file_extension": ".py",
   "mimetype": "text/x-python",
   "name": "python",
   "nbconvert_exporter": "python",
   "pygments_lexer": "ipython3",
   "version": "3.6.6"
  }
 },
 "nbformat": 4,
 "nbformat_minor": 2
}
