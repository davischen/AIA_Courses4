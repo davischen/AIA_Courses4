{
 "cells": [
  {
   "cell_type": "code",
   "execution_count": 1,
   "metadata": {},
   "outputs": [],
   "source": [
    "import os\n",
    "import cv2\n",
    "import pandas as pd\n",
    "from glob import glob\n",
    "\n",
    "from sklearn.utils import shuffle\n",
    "from sklearn.model_selection import train_test_split\n",
    "\n",
    "from time import time"
   ]
  },
  {
   "cell_type": "markdown",
   "metadata": {},
   "source": [
    "# 基本設定"
   ]
  },
  {
   "cell_type": "code",
   "execution_count": 6,
   "metadata": {},
   "outputs": [],
   "source": [
    "data_dir_path = './'"
   ]
  },
  {
   "cell_type": "markdown",
   "metadata": {},
   "source": [
    "# 建立 target labels 清單"
   ]
  },
  {
   "cell_type": "code",
   "execution_count": 7,
   "metadata": {},
   "outputs": [],
   "source": [
    "target_label_file_name = 'mapping.txt'\n",
    "\n",
    "target_label_file_path = '/'.join((data_dir_path, target_label_file_name))\n",
    "\n",
    "with open(target_label_file_path) as f:\n",
    "    all_lines = [line.split(', ') for line in f.read().splitlines()]\n",
    "\n",
    "target_labels = dict()\n",
    "for line in all_lines:\n",
    "    target_class, target_label = line\n",
    "    target_labels[target_class] = target_label"
   ]
  },
  {
   "cell_type": "code",
   "execution_count": 8,
   "metadata": {},
   "outputs": [
    {
     "data": {
      "text/plain": [
       "{'CALsuburb': '9',\n",
       " 'PARoffice': '7',\n",
       " 'bedroom': '12',\n",
       " 'coast': '10',\n",
       " 'forest': '4',\n",
       " 'highway': '14',\n",
       " 'industrial': '2',\n",
       " 'insidecity': '3',\n",
       " 'kitchen': '0',\n",
       " 'livingroom': '5',\n",
       " 'mountain': '8',\n",
       " 'opencountry': '6',\n",
       " 'store': '11',\n",
       " 'street': '1',\n",
       " 'tallbuilding': '13'}"
      ]
     },
     "execution_count": 8,
     "metadata": {},
     "output_type": "execute_result"
    }
   ],
   "source": [
    "target_labels"
   ]
  },
  {
   "cell_type": "markdown",
   "metadata": {},
   "source": [
    "# 建立資料清單"
   ]
  },
  {
   "cell_type": "code",
   "execution_count": 9,
   "metadata": {},
   "outputs": [],
   "source": [
    "# 指定存放 train 資料集的資料夾\n",
    "train_dir = '/'.join((data_dir_path, 'train'))\n",
    "img_path_list = []\n",
    "img_class_list = []\n",
    "for key in target_labels.keys():\n",
    "    for file_path in glob('{}/{}/*.jpg'.format(train_dir, key)):\n",
    "        img_class_list.append(target_labels[key])\n",
    "        img_path_list.append(file_path)\n",
    "\n",
    "data_list = pd.DataFrame({'class': img_class_list, 'path': img_path_list})"
   ]
  },
  {
   "cell_type": "code",
   "execution_count": 10,
   "metadata": {},
   "outputs": [
    {
     "data": {
      "text/html": [
       "<div>\n",
       "<style scoped>\n",
       "    .dataframe tbody tr th:only-of-type {\n",
       "        vertical-align: middle;\n",
       "    }\n",
       "\n",
       "    .dataframe tbody tr th {\n",
       "        vertical-align: top;\n",
       "    }\n",
       "\n",
       "    .dataframe thead th {\n",
       "        text-align: right;\n",
       "    }\n",
       "</style>\n",
       "<table border=\"1\" class=\"dataframe\">\n",
       "  <thead>\n",
       "    <tr style=\"text-align: right;\">\n",
       "      <th></th>\n",
       "      <th>class</th>\n",
       "      <th>path</th>\n",
       "    </tr>\n",
       "  </thead>\n",
       "  <tbody>\n",
       "    <tr>\n",
       "      <th>0</th>\n",
       "      <td>9</td>\n",
       "      <td>.//train/CALsuburb/image_0012.jpg</td>\n",
       "    </tr>\n",
       "    <tr>\n",
       "      <th>1</th>\n",
       "      <td>9</td>\n",
       "      <td>.//train/CALsuburb/image_0108.jpg</td>\n",
       "    </tr>\n",
       "    <tr>\n",
       "      <th>2</th>\n",
       "      <td>9</td>\n",
       "      <td>.//train/CALsuburb/image_0010.jpg</td>\n",
       "    </tr>\n",
       "    <tr>\n",
       "      <th>3</th>\n",
       "      <td>9</td>\n",
       "      <td>.//train/CALsuburb/image_0013.jpg</td>\n",
       "    </tr>\n",
       "    <tr>\n",
       "      <th>4</th>\n",
       "      <td>9</td>\n",
       "      <td>.//train/CALsuburb/image_0084.jpg</td>\n",
       "    </tr>\n",
       "    <tr>\n",
       "      <th>5</th>\n",
       "      <td>9</td>\n",
       "      <td>.//train/CALsuburb/image_0034.jpg</td>\n",
       "    </tr>\n",
       "    <tr>\n",
       "      <th>6</th>\n",
       "      <td>9</td>\n",
       "      <td>.//train/CALsuburb/image_0052.jpg</td>\n",
       "    </tr>\n",
       "    <tr>\n",
       "      <th>7</th>\n",
       "      <td>9</td>\n",
       "      <td>.//train/CALsuburb/image_0105.jpg</td>\n",
       "    </tr>\n",
       "    <tr>\n",
       "      <th>8</th>\n",
       "      <td>9</td>\n",
       "      <td>.//train/CALsuburb/image_0008.jpg</td>\n",
       "    </tr>\n",
       "    <tr>\n",
       "      <th>9</th>\n",
       "      <td>9</td>\n",
       "      <td>.//train/CALsuburb/image_0063.jpg</td>\n",
       "    </tr>\n",
       "  </tbody>\n",
       "</table>\n",
       "</div>"
      ],
      "text/plain": [
       "  class                               path\n",
       "0     9  .//train/CALsuburb/image_0012.jpg\n",
       "1     9  .//train/CALsuburb/image_0108.jpg\n",
       "2     9  .//train/CALsuburb/image_0010.jpg\n",
       "3     9  .//train/CALsuburb/image_0013.jpg\n",
       "4     9  .//train/CALsuburb/image_0084.jpg\n",
       "5     9  .//train/CALsuburb/image_0034.jpg\n",
       "6     9  .//train/CALsuburb/image_0052.jpg\n",
       "7     9  .//train/CALsuburb/image_0105.jpg\n",
       "8     9  .//train/CALsuburb/image_0008.jpg\n",
       "9     9  .//train/CALsuburb/image_0063.jpg"
      ]
     },
     "execution_count": 10,
     "metadata": {},
     "output_type": "execute_result"
    }
   ],
   "source": [
    "data_list.head(10)"
   ]
  },
  {
   "cell_type": "markdown",
   "metadata": {},
   "source": [
    "## Shuffle and split the list into training set and validation set"
   ]
  },
  {
   "cell_type": "code",
   "execution_count": 11,
   "metadata": {},
   "outputs": [
    {
     "data": {
      "text/html": [
       "<div>\n",
       "<style scoped>\n",
       "    .dataframe tbody tr th:only-of-type {\n",
       "        vertical-align: middle;\n",
       "    }\n",
       "\n",
       "    .dataframe tbody tr th {\n",
       "        vertical-align: top;\n",
       "    }\n",
       "\n",
       "    .dataframe thead th {\n",
       "        text-align: right;\n",
       "    }\n",
       "</style>\n",
       "<table border=\"1\" class=\"dataframe\">\n",
       "  <thead>\n",
       "    <tr style=\"text-align: right;\">\n",
       "      <th></th>\n",
       "      <th>class</th>\n",
       "      <th>path</th>\n",
       "    </tr>\n",
       "  </thead>\n",
       "  <tbody>\n",
       "    <tr>\n",
       "      <th>2673</th>\n",
       "      <td>1</td>\n",
       "      <td>.//train/street/image_0085.jpg</td>\n",
       "    </tr>\n",
       "    <tr>\n",
       "      <th>29</th>\n",
       "      <td>9</td>\n",
       "      <td>.//train/CALsuburb/image_0055.jpg</td>\n",
       "    </tr>\n",
       "    <tr>\n",
       "      <th>179</th>\n",
       "      <td>7</td>\n",
       "      <td>.//train/PARoffice/image_0059.jpg</td>\n",
       "    </tr>\n",
       "    <tr>\n",
       "      <th>2697</th>\n",
       "      <td>1</td>\n",
       "      <td>.//train/street/image_0033.jpg</td>\n",
       "    </tr>\n",
       "    <tr>\n",
       "      <th>858</th>\n",
       "      <td>4</td>\n",
       "      <td>.//train/forest/image_0054.jpg</td>\n",
       "    </tr>\n",
       "    <tr>\n",
       "      <th>746</th>\n",
       "      <td>4</td>\n",
       "      <td>.//train/forest/image_0186.jpg</td>\n",
       "    </tr>\n",
       "    <tr>\n",
       "      <th>1183</th>\n",
       "      <td>2</td>\n",
       "      <td>.//train/industrial/image_0100.jpg</td>\n",
       "    </tr>\n",
       "    <tr>\n",
       "      <th>2075</th>\n",
       "      <td>6</td>\n",
       "      <td>.//train/opencountry/image_0214.jpg</td>\n",
       "    </tr>\n",
       "    <tr>\n",
       "      <th>1989</th>\n",
       "      <td>8</td>\n",
       "      <td>.//train/mountain/image_0123.jpg</td>\n",
       "    </tr>\n",
       "    <tr>\n",
       "      <th>1495</th>\n",
       "      <td>0</td>\n",
       "      <td>.//train/kitchen/image_0043.jpg</td>\n",
       "    </tr>\n",
       "  </tbody>\n",
       "</table>\n",
       "</div>"
      ],
      "text/plain": [
       "     class                                 path\n",
       "2673     1       .//train/street/image_0085.jpg\n",
       "29       9    .//train/CALsuburb/image_0055.jpg\n",
       "179      7    .//train/PARoffice/image_0059.jpg\n",
       "2697     1       .//train/street/image_0033.jpg\n",
       "858      4       .//train/forest/image_0054.jpg\n",
       "746      4       .//train/forest/image_0186.jpg\n",
       "1183     2   .//train/industrial/image_0100.jpg\n",
       "2075     6  .//train/opencountry/image_0214.jpg\n",
       "1989     8     .//train/mountain/image_0123.jpg\n",
       "1495     0      .//train/kitchen/image_0043.jpg"
      ]
     },
     "execution_count": 11,
     "metadata": {},
     "output_type": "execute_result"
    }
   ],
   "source": [
    "# 將資料清單隨機打亂\n",
    "rand_seed = int(time())\n",
    "data_list = shuffle(data_list, random_state=rand_seed)\n",
    "data_list.head(10)"
   ]
  },
  {
   "cell_type": "code",
   "execution_count": 12,
   "metadata": {},
   "outputs": [],
   "source": [
    "X = pd.DataFrame(data_list['path'], columns=['path'])\n",
    "y = pd.DataFrame(data_list['class'], columns=['class'])\n",
    "X_train, X_valid, y_train, y_valid = train_test_split(X, y, test_size=0.25)"
   ]
  },
  {
   "cell_type": "markdown",
   "metadata": {},
   "source": [
    "經過 train_test_split 切割出來的 train 及 test 資料，samples 跟 labels 清單的 index 順序是一樣的，可以安心拿來訓練 model。"
   ]
  },
  {
   "cell_type": "code",
   "execution_count": 13,
   "metadata": {},
   "outputs": [
    {
     "name": "stdout",
     "output_type": "stream",
     "text": [
      "Some training samples:\n",
      "----------------------\n",
      "                                     path\n",
      "2044  .//train/opencountry/image_0092.jpg\n",
      "729        .//train/forest/image_0088.jpg\n",
      "2335        .//train/store/image_0158.jpg\n",
      "1080   .//train/industrial/image_0194.jpg\n",
      "1828     .//train/mountain/image_0128.jpg\n",
      "\n",
      "Some training labels:\n",
      "---------------------\n",
      "     class\n",
      "2044     6\n",
      "729      4\n",
      "2335    11\n",
      "1080     2\n",
      "1828     8\n",
      "\n",
      "Some validation samples:\n",
      "------------------------\n",
      "                                     path\n",
      "900       .//train/highway/image_0160.jpg\n",
      "1201   .//train/industrial/image_0021.jpg\n",
      "1829     .//train/mountain/image_0149.jpg\n",
      "2135  .//train/opencountry/image_0254.jpg\n",
      "2380        .//train/store/image_0124.jpg\n",
      "\n",
      "Some validation labels:\n",
      "-----------------------\n",
      "     class\n",
      "900     14\n",
      "1201     2\n",
      "1829     8\n",
      "2135     6\n",
      "2380    11\n"
     ]
    }
   ],
   "source": [
    "print('Some training samples:\\n----------------------')\n",
    "print(X_train.head())\n",
    "\n",
    "print('\\nSome training labels:\\n---------------------')\n",
    "print(y_train.head())\n",
    "\n",
    "print('\\nSome validation samples:\\n------------------------')\n",
    "print(X_valid.head())\n",
    "\n",
    "print('\\nSome validation labels:\\n-----------------------')\n",
    "print(y_valid.head())"
   ]
  },
  {
   "cell_type": "markdown",
   "metadata": {},
   "source": [
    "把 DataFrame 存為 .csv 檔"
   ]
  },
  {
   "cell_type": "code",
   "execution_count": 14,
   "metadata": {},
   "outputs": [],
   "source": [
    "# Save to csv\n",
    "X_train.to_csv('X_train.csv', index=False)\n",
    "y_train.to_csv('y_train.csv', index=False)\n",
    "X_valid.to_csv('X_valid.csv', index=False)\n",
    "y_valid.to_csv('y_valid.csv', index=False)"
   ]
  },
  {
   "cell_type": "markdown",
   "metadata": {},
   "source": [
    "建立用來儲存模型的資料夾"
   ]
  },
  {
   "cell_type": "code",
   "execution_count": 15,
   "metadata": {},
   "outputs": [],
   "source": [
    "path = 'saved_models'\n",
    "if not os.path.exists('saved_models'):\n",
    "    os.mkdir('saved_models')"
   ]
  },
  {
   "cell_type": "code",
   "execution_count": null,
   "metadata": {},
   "outputs": [],
   "source": []
  }
 ],
 "metadata": {
  "kernelspec": {
   "display_name": "Python 3",
   "language": "python",
   "name": "python3"
  },
  "language_info": {
   "codemirror_mode": {
    "name": "ipython",
    "version": 3
   },
   "file_extension": ".py",
   "mimetype": "text/x-python",
   "name": "python",
   "nbconvert_exporter": "python",
   "pygments_lexer": "ipython3",
   "version": "3.6.6"
  }
 },
 "nbformat": 4,
 "nbformat_minor": 2
}
