{
 "cells": [
  {
   "cell_type": "code",
   "execution_count": null,
   "metadata": {},
   "outputs": [],
   "source": [
    "import warnings\n",
    "warnings.filterwarnings('ignore')\n",
    "\n",
    "import tensorflow.keras as keras\n",
    "from tensorflow.keras.preprocessing.image import ImageDataGenerator\n",
    "from tensorflow.keras.models import Sequential, load_model\n",
    "from tensorflow.keras.layers import Dense, Dropout, Activation, Flatten\n",
    "from tensorflow.keras.layers import Conv2D, MaxPooling2D, BatchNormalization, GlobalAveragePooling2D\n",
    "from tensorflow.keras.callbacks import EarlyStopping, ModelCheckpoint\n",
    "from keras.callbacks import ReduceLROnPlateau\n",
    "\n",
    "import matplotlib.pyplot as plt\n",
    "import pandas as pd\n",
    "import numpy as np\n",
    "\n",
    "from utils import load_data, load_test_data\n",
    "from utils import num_classes, epochs, batch_size"
   ]
  },
  {
   "cell_type": "code",
   "execution_count": null,
   "metadata": {},
   "outputs": [],
   "source": [
    "X_train, y_train, X_valid, y_valid = load_data(test_size=0.2, img_size=224,Gray2RGB=True)"
   ]
  },
  {
   "cell_type": "code",
   "execution_count": null,
   "metadata": {},
   "outputs": [],
   "source": [
    "print(X_train.shape)\n",
    "print(y_train.shape)\n",
    "print(X_valid.shape)\n",
    "print(y_valid.shape)"
   ]
  },
  {
   "cell_type": "code",
   "execution_count": null,
   "metadata": {},
   "outputs": [],
   "source": []
  },
  {
   "cell_type": "code",
   "execution_count": null,
   "metadata": {},
   "outputs": [],
   "source": [
    "# a classic CNN model\n",
    "model_name = 'classic_CNN_GlobalAveragePooling2D'\n",
    "model = Sequential()\n",
    "\n",
    "model.add(Conv2D(32, (3, 3), padding='same', input_shape=X_train.shape[1:]))\n",
    "model.add(Activation(activation='relu'))\n",
    "model.add(BatchNormalization())\n",
    "model.add(MaxPooling2D((2, 2)))\n",
    "\n",
    "model.add(Conv2D(32, (3, 3),activation='relu', padding='same'))\n",
    "model.add(BatchNormalization())\n",
    "model.add(MaxPooling2D((2, 2)))\n",
    "#model.add(Dropout(0.5))\n",
    "\n",
    "model.add(Conv2D(64, (3, 3),  padding='same', activation='relu'))\n",
    "model.add(Activation(activation='relu'))\n",
    "model.add(BatchNormalization())\n",
    "model.add(MaxPooling2D((2, 2)))\n",
    "\n",
    "model.add(Conv2D(64, (3, 3),  padding='same', activation='relu'))\n",
    "model.add(BatchNormalization())\n",
    "model.add(MaxPooling2D((2, 2)))\n",
    "\n",
    "model.add(Conv2D(256, (3, 3),  padding='same', activation='relu'))\n",
    "model.add(BatchNormalization())\n",
    "model.add(MaxPooling2D((2, 2)))\n",
    "\n",
    "#model.add(Dropout(0.5))\n",
    "#model.add(Dropout(0.25))\n",
    "\n",
    "# model.add(Flatten())\n",
    "\n",
    "model.add(GlobalAveragePooling2D())\n",
    "\n",
    "model.add(Dense(512))\n",
    "model.add(BatchNormalization())\n",
    "model.add(Activation(activation='relu'))\n",
    "model.add(Dropout(0.5))\n",
    "\n",
    "model.add(Dense(num_classes))\n",
    "model.add(Activation(activation='softmax'))\n",
    "\n",
    "print(model.summary())"
   ]
  },
  {
   "cell_type": "code",
   "execution_count": 12,
   "metadata": {},
   "outputs": [
    {
     "name": "stdout",
     "output_type": "stream",
     "text": [
      "Epoch 1/400\n",
      "39/40 [============================>.] - ETA: 0s - loss: 1.4780 - acc: 0.3184\n",
      "Epoch 00001: val_acc improved from -inf to 0.33746, saving model to ./saved_models/CNN_051401.h5\n",
      "40/40 [==============================] - 11s 275ms/step - loss: 1.4748 - acc: 0.3191 - val_loss: 1.4868 - val_acc: 0.3375\n",
      "Epoch 2/400\n",
      "39/40 [============================>.] - ETA: 0s - loss: 1.4647 - acc: 0.3120\n",
      "Epoch 00002: val_acc did not improve from 0.33746\n",
      "40/40 [==============================] - 9s 228ms/step - loss: 1.4643 - acc: 0.3113 - val_loss: 1.4739 - val_acc: 0.3313\n",
      "Epoch 3/400\n",
      "39/40 [============================>.] - ETA: 0s - loss: 1.4725 - acc: 0.3309\n",
      "Epoch 00003: val_acc did not improve from 0.33746\n",
      "40/40 [==============================] - 9s 233ms/step - loss: 1.4709 - acc: 0.3320 - val_loss: 1.4688 - val_acc: 0.3375\n",
      "Epoch 4/400\n",
      "39/40 [============================>.] - ETA: 0s - loss: 1.4669 - acc: 0.3401\n",
      "Epoch 00004: val_acc did not improve from 0.33746\n",
      "40/40 [==============================] - 9s 223ms/step - loss: 1.4662 - acc: 0.3409 - val_loss: 1.4675 - val_acc: 0.3375\n",
      "Epoch 5/400\n",
      "39/40 [============================>.] - ETA: 0s - loss: 1.4673 - acc: 0.3261\n",
      "Epoch 00005: val_acc did not improve from 0.33746\n",
      "40/40 [==============================] - 9s 231ms/step - loss: 1.4669 - acc: 0.3250 - val_loss: 1.4681 - val_acc: 0.3375\n",
      "Epoch 6/400\n",
      "39/40 [============================>.] - ETA: 0s - loss: 1.4643 - acc: 0.3271\n",
      "Epoch 00006: val_acc improved from 0.33746 to 0.34056, saving model to ./saved_models/CNN_051401.h5\n",
      "40/40 [==============================] - 9s 226ms/step - loss: 1.4580 - acc: 0.3275 - val_loss: 1.4677 - val_acc: 0.3406\n",
      "Epoch 7/400\n",
      "39/40 [============================>.] - ETA: 0s - loss: 1.4405 - acc: 0.3364\n",
      "Epoch 00007: val_acc did not improve from 0.34056\n",
      "40/40 [==============================] - 9s 228ms/step - loss: 1.4453 - acc: 0.3358 - val_loss: 1.4647 - val_acc: 0.3282\n",
      "Epoch 8/400\n",
      "39/40 [============================>.] - ETA: 0s - loss: 1.4846 - acc: 0.3245\n",
      "Epoch 00008: val_acc did not improve from 0.34056\n",
      "40/40 [==============================] - 9s 227ms/step - loss: 1.4819 - acc: 0.3234 - val_loss: 1.4640 - val_acc: 0.3251\n",
      "Epoch 9/400\n",
      "39/40 [============================>.] - ETA: 0s - loss: 1.4624 - acc: 0.3399\n",
      "Epoch 00009: val_acc did not improve from 0.34056\n",
      "40/40 [==============================] - 9s 226ms/step - loss: 1.4580 - acc: 0.3415 - val_loss: 1.4645 - val_acc: 0.3251\n",
      "Epoch 10/400\n",
      "39/40 [============================>.] - ETA: 0s - loss: 1.4600 - acc: 0.3245\n",
      "Epoch 00010: val_acc did not improve from 0.34056\n",
      "40/40 [==============================] - 9s 228ms/step - loss: 1.4575 - acc: 0.3257 - val_loss: 1.4656 - val_acc: 0.3158\n",
      "Epoch 11/400\n",
      "39/40 [============================>.] - ETA: 0s - loss: 1.4477 - acc: 0.3324\n",
      "Epoch 00011: val_acc did not improve from 0.34056\n",
      "40/40 [==============================] - 9s 228ms/step - loss: 1.4475 - acc: 0.3326 - val_loss: 1.4650 - val_acc: 0.3251\n",
      "Epoch 12/400\n",
      "39/40 [============================>.] - ETA: 0s - loss: 1.4660 - acc: 0.3212\n",
      "Epoch 00012: val_acc did not improve from 0.34056\n",
      "40/40 [==============================] - 9s 228ms/step - loss: 1.4691 - acc: 0.3193 - val_loss: 1.4639 - val_acc: 0.3158\n",
      "Epoch 13/400\n",
      "39/40 [============================>.] - ETA: 0s - loss: 1.4345 - acc: 0.3542\n",
      "Epoch 00013: val_acc did not improve from 0.34056\n",
      "40/40 [==============================] - 9s 234ms/step - loss: 1.4371 - acc: 0.3508 - val_loss: 1.4656 - val_acc: 0.3189\n",
      "Epoch 14/400\n",
      "39/40 [============================>.] - ETA: 0s - loss: 1.4418 - acc: 0.3316\n",
      "Epoch 00014: val_acc did not improve from 0.34056\n",
      "40/40 [==============================] - 9s 221ms/step - loss: 1.4417 - acc: 0.3320 - val_loss: 1.4661 - val_acc: 0.3189\n",
      "Epoch 15/400\n",
      "39/40 [============================>.] - ETA: 0s - loss: 1.4603 - acc: 0.3373\n",
      "Epoch 00015: val_acc did not improve from 0.34056\n",
      "40/40 [==============================] - 9s 232ms/step - loss: 1.4577 - acc: 0.3406 - val_loss: 1.4641 - val_acc: 0.3220\n",
      "Epoch 16/400\n",
      "39/40 [============================>.] - ETA: 0s - loss: 1.4523 - acc: 0.3250\n",
      "Epoch 00016: val_acc did not improve from 0.34056\n",
      "40/40 [==============================] - 9s 223ms/step - loss: 1.4553 - acc: 0.3238 - val_loss: 1.4641 - val_acc: 0.3220\n",
      "Epoch 17/400\n",
      "39/40 [============================>.] - ETA: 0s - loss: 1.4564 - acc: 0.3290\n",
      "Epoch 00017: val_acc did not improve from 0.34056\n",
      "40/40 [==============================] - 9s 227ms/step - loss: 1.4534 - acc: 0.3286 - val_loss: 1.4648 - val_acc: 0.3065\n",
      "Epoch 18/400\n",
      "39/40 [============================>.] - ETA: 0s - loss: 1.4321 - acc: 0.3229\n",
      "Epoch 00018: val_acc did not improve from 0.34056\n",
      "40/40 [==============================] - 9s 232ms/step - loss: 1.4305 - acc: 0.3242 - val_loss: 1.4644 - val_acc: 0.3065\n",
      "Epoch 19/400\n",
      "39/40 [============================>.] - ETA: 0s - loss: 1.4562 - acc: 0.3127\n",
      "Epoch 00019: val_acc did not improve from 0.34056\n",
      "40/40 [==============================] - 9s 227ms/step - loss: 1.4575 - acc: 0.3135 - val_loss: 1.4658 - val_acc: 0.3189\n",
      "Epoch 20/400\n",
      "39/40 [============================>.] - ETA: 0s - loss: 1.4463 - acc: 0.3412\n",
      "Epoch 00020: val_acc did not improve from 0.34056\n",
      "40/40 [==============================] - 9s 228ms/step - loss: 1.4442 - acc: 0.3428 - val_loss: 1.4654 - val_acc: 0.3003\n",
      "Epoch 21/400\n",
      "39/40 [============================>.] - ETA: 0s - loss: 1.4499 - acc: 0.3263\n",
      "Epoch 00021: val_acc did not improve from 0.34056\n",
      "40/40 [==============================] - 9s 223ms/step - loss: 1.4505 - acc: 0.3252 - val_loss: 1.4648 - val_acc: 0.3034\n",
      "Epoch 22/400\n",
      "39/40 [============================>.] - ETA: 0s - loss: 1.4785 - acc: 0.3248\n",
      "Epoch 00022: val_acc did not improve from 0.34056\n",
      "40/40 [==============================] - 9s 227ms/step - loss: 1.4762 - acc: 0.3261 - val_loss: 1.4645 - val_acc: 0.3220\n",
      "Epoch 00022: early stopping\n"
     ]
    }
   ],
   "source": [
    "# Data generator with augmentation\n",
    "datagen = ImageDataGenerator(\n",
    "    rotation_range=20,\n",
    "    width_shift_range=0.2,\n",
    "    height_shift_range=0.2,\n",
    "    shear_range=0.2,\n",
    "    zoom_range=0.2,\n",
    "    horizontal_flip=True,\n",
    "    fill_mode='constant',\n",
    "    cval=0)\n",
    "\n",
    "optimizer = keras.optimizers.Adam(lr=10e-6)#\n",
    "\n",
    "model_path = './saved_models/CNN_051401.h5'.format(model_name)\n",
    "checkpoint = ModelCheckpoint(model_path, monitor='val_acc', save_best_only=True, verbose=1)\n",
    "earlystop = EarlyStopping(monitor='val_acc', patience=16, verbose=1)\n",
    "lr_reducer = ReduceLROnPlateau(monitor='val_loss',\n",
    "                                           factor=0.1,\n",
    "                                           patience=3,\n",
    "                                           min_lr=0.5e-6)\n",
    "\n",
    "model.compile(loss='categorical_crossentropy',\n",
    "              optimizer=optimizer, metrics=['accuracy'])\n",
    "# Fit the model on the batches generated by datagen.flow().\n",
    "batch_size = 32\n",
    "aug_ratio = 1\n",
    "epochs = 400\n",
    "steps_per_epoch = int(aug_ratio * X_train.shape[0] / batch_size)\n",
    "validation_steps = int(aug_ratio * X_valid.shape[0] / batch_size)\n",
    "model_history = model.fit_generator(datagen.flow(X_train, y_train, batch_size = batch_size),\n",
    "                                    epochs = epochs,\n",
    "                                    validation_data = (X_valid, y_valid),\n",
    "                                    callbacks = [checkpoint,earlystop],\n",
    "                                    steps_per_epoch=steps_per_epoch,\n",
    "                                    validation_steps=validation_steps)"
   ]
  },
  {
   "cell_type": "code",
   "execution_count": 6,
   "metadata": {},
   "outputs": [
    {
     "data": {
      "image/png": "[encoded data removed]",
      "text/plain": [
       "<Figure size 432x288 with 1 Axes>"
      ]
     },
     "metadata": {
      "needs_background": "light"
     },
     "output_type": "display_data"
    }
   ],
   "source": [
    "training_loss = model_history.history['loss']\n",
    "val_loss = model_history.history['val_loss']\n",
    "\n",
    "plt.plot(training_loss, 'b', label=\"training_loss\")\n",
    "plt.plot(val_loss, 'r', label=\"validation_loss\")\n",
    "plt.xlabel(\"Epochs\")\n",
    "plt.ylabel(\"Loss\")\n",
    "plt.title(\"Learning Curve\")\n",
    "plt.legend(loc='best')\n",
    "plt.show()"
   ]
  },
  {
   "cell_type": "code",
   "execution_count": 7,
   "metadata": {},
   "outputs": [
    {
     "data": {
      "image/png": "[encoded data removed]",
      "text/plain": [
       "<Figure size 432x288 with 1 Axes>"
      ]
     },
     "metadata": {
      "needs_background": "light"
     },
     "output_type": "display_data"
    }
   ],
   "source": [
    "training_acc = model_history.history['acc']\n",
    "val_acc = model_history.history['val_acc']\n",
    "\n",
    "plt.plot(training_acc, 'b', label=\"training_acc\")\n",
    "plt.plot(val_acc, 'r', label=\"validation_acc\")\n",
    "plt.xlabel(\"Epochs\")\n",
    "plt.ylabel(\"Acc\")\n",
    "plt.title(\"Learning Curve\")\n",
    "plt.legend(loc='best')\n",
    "plt.show()"
   ]
  },
  {
   "cell_type": "code",
   "execution_count": 8,
   "metadata": {},
   "outputs": [
    {
     "name": "stdout",
     "output_type": "stream",
     "text": [
      "(1290, 224, 224, 3)\n",
      "(1290, 15)\n",
      "(323, 224, 224, 3)\n",
      "(323, 15)\n"
     ]
    }
   ],
   "source": [
    "print(X_train.shape)\n",
    "print(y_train.shape)\n",
    "print(X_valid.shape)\n",
    "print(y_valid.shape)"
   ]
  },
  {
   "cell_type": "code",
   "execution_count": 9,
   "metadata": {},
   "outputs": [
    {
     "name": "stdout",
     "output_type": "stream",
     "text": [
      "(438, 360, 360, 3)\n"
     ]
    }
   ],
   "source": [
    "X_test, X_id = load_test_data(Gray2RGB=True, img_size=360)\n",
    "print(X_test.shape)"
   ]
  },
  {
   "cell_type": "code",
   "execution_count": 10,
   "metadata": {},
   "outputs": [
    {
     "name": "stdout",
     "output_type": "stream",
     "text": [
      "(323, 224, 224, 3)\n"
     ]
    }
   ],
   "source": [
    "print(X_valid.shape)"
   ]
  },
  {
   "cell_type": "code",
   "execution_count": 11,
   "metadata": {},
   "outputs": [
    {
     "ename": "ValueError",
     "evalue": "Error when checking input: expected conv2d_input to have shape (224, 224, 3) but got array with shape (360, 360, 3)",
     "output_type": "error",
     "traceback": [
      "\u001b[0;31m---------------------------------------------------------------------------\u001b[0m",
      "\u001b[0;31mValueError\u001b[0m                                Traceback (most recent call last)",
      "\u001b[0;32m<ipython-input-11-0902153bffd9>\u001b[0m in \u001b[0;36m<module>\u001b[0;34m()\u001b[0m\n\u001b[1;32m      6\u001b[0m \u001b[0;31m#print('Validation accuracy:', scores[1])\u001b[0m\u001b[0;34m\u001b[0m\u001b[0;34m\u001b[0m\u001b[0m\n\u001b[1;32m      7\u001b[0m \u001b[0;34m\u001b[0m\u001b[0m\n\u001b[0;32m----> 8\u001b[0;31m \u001b[0my_test_pred\u001b[0m \u001b[0;34m=\u001b[0m \u001b[0mmodel\u001b[0m\u001b[0;34m.\u001b[0m\u001b[0mpredict_classes\u001b[0m\u001b[0;34m(\u001b[0m\u001b[0mX_test\u001b[0m\u001b[0;34m)\u001b[0m\u001b[0;34m\u001b[0m\u001b[0m\n\u001b[0m\u001b[1;32m      9\u001b[0m \u001b[0my_test_pred_df\u001b[0m \u001b[0;34m=\u001b[0m \u001b[0mpd\u001b[0m\u001b[0;34m.\u001b[0m\u001b[0mDataFrame\u001b[0m\u001b[0;34m(\u001b[0m\u001b[0;34m{\u001b[0m\u001b[0;34m'id'\u001b[0m\u001b[0;34m:\u001b[0m \u001b[0mnp\u001b[0m\u001b[0;34m.\u001b[0m\u001b[0marray\u001b[0m\u001b[0;34m(\u001b[0m\u001b[0mX_id\u001b[0m\u001b[0;34m)\u001b[0m\u001b[0;34m,\u001b[0m \u001b[0;34m'class'\u001b[0m\u001b[0;34m:\u001b[0m\u001b[0my_test_pred\u001b[0m\u001b[0;34m}\u001b[0m\u001b[0;34m)\u001b[0m\u001b[0;34m.\u001b[0m\u001b[0msort_values\u001b[0m\u001b[0;34m(\u001b[0m\u001b[0mby\u001b[0m\u001b[0;34m=\u001b[0m\u001b[0;34m'id'\u001b[0m\u001b[0;34m)\u001b[0m\u001b[0;34m\u001b[0m\u001b[0m\n\u001b[1;32m     10\u001b[0m \u001b[0my_test_pred_df\u001b[0m\u001b[0;34m.\u001b[0m\u001b[0mto_csv\u001b[0m\u001b[0;34m(\u001b[0m\u001b[0;34m'CNN_051101.csv'\u001b[0m\u001b[0;34m.\u001b[0m\u001b[0mformat\u001b[0m\u001b[0;34m(\u001b[0m\u001b[0mmodel_name\u001b[0m\u001b[0;34m)\u001b[0m\u001b[0;34m,\u001b[0m \u001b[0mindex\u001b[0m\u001b[0;34m=\u001b[0m\u001b[0;32mFalse\u001b[0m\u001b[0;34m)\u001b[0m\u001b[0;34m\u001b[0m\u001b[0m\n",
      "\u001b[0;32m/opt/conda/lib/python3.6/site-packages/tensorflow/python/keras/engine/sequential.py\u001b[0m in \u001b[0;36mpredict_classes\u001b[0;34m(self, x, batch_size, verbose)\u001b[0m\n\u001b[1;32m    272\u001b[0m         \u001b[0mA\u001b[0m \u001b[0mnumpy\u001b[0m \u001b[0marray\u001b[0m \u001b[0mof\u001b[0m \u001b[0;32mclass\u001b[0m \u001b[0mpredictions\u001b[0m\u001b[0;34m.\u001b[0m\u001b[0;34m\u001b[0m\u001b[0m\n\u001b[1;32m    273\u001b[0m     \"\"\"\n\u001b[0;32m--> 274\u001b[0;31m     \u001b[0mproba\u001b[0m \u001b[0;34m=\u001b[0m \u001b[0mself\u001b[0m\u001b[0;34m.\u001b[0m\u001b[0mpredict\u001b[0m\u001b[0;34m(\u001b[0m\u001b[0mx\u001b[0m\u001b[0;34m,\u001b[0m \u001b[0mbatch_size\u001b[0m\u001b[0;34m=\u001b[0m\u001b[0mbatch_size\u001b[0m\u001b[0;34m,\u001b[0m \u001b[0mverbose\u001b[0m\u001b[0;34m=\u001b[0m\u001b[0mverbose\u001b[0m\u001b[0;34m)\u001b[0m\u001b[0;34m\u001b[0m\u001b[0m\n\u001b[0m\u001b[1;32m    275\u001b[0m     \u001b[0;32mif\u001b[0m \u001b[0mproba\u001b[0m\u001b[0;34m.\u001b[0m\u001b[0mshape\u001b[0m\u001b[0;34m[\u001b[0m\u001b[0;34m-\u001b[0m\u001b[0;36m1\u001b[0m\u001b[0;34m]\u001b[0m \u001b[0;34m>\u001b[0m \u001b[0;36m1\u001b[0m\u001b[0;34m:\u001b[0m\u001b[0;34m\u001b[0m\u001b[0m\n\u001b[1;32m    276\u001b[0m       \u001b[0;32mreturn\u001b[0m \u001b[0mproba\u001b[0m\u001b[0;34m.\u001b[0m\u001b[0margmax\u001b[0m\u001b[0;34m(\u001b[0m\u001b[0maxis\u001b[0m\u001b[0;34m=\u001b[0m\u001b[0;34m-\u001b[0m\u001b[0;36m1\u001b[0m\u001b[0;34m)\u001b[0m\u001b[0;34m\u001b[0m\u001b[0m\n",
      "\u001b[0;32m/opt/conda/lib/python3.6/site-packages/tensorflow/python/keras/engine/training.py\u001b[0m in \u001b[0;36mpredict\u001b[0;34m(self, x, batch_size, verbose, steps)\u001b[0m\n\u001b[1;32m   1484\u001b[0m     \u001b[0;31m# Validate and standardize user data.\u001b[0m\u001b[0;34m\u001b[0m\u001b[0;34m\u001b[0m\u001b[0m\n\u001b[1;32m   1485\u001b[0m     x, _, _ = self._standardize_user_data(\n\u001b[0;32m-> 1486\u001b[0;31m         x, check_steps=True, steps_name='steps', steps=steps)\n\u001b[0m\u001b[1;32m   1487\u001b[0m \u001b[0;34m\u001b[0m\u001b[0m\n\u001b[1;32m   1488\u001b[0m     \u001b[0;32mif\u001b[0m \u001b[0mcontext\u001b[0m\u001b[0;34m.\u001b[0m\u001b[0mexecuting_eagerly\u001b[0m\u001b[0;34m(\u001b[0m\u001b[0;34m)\u001b[0m\u001b[0;34m:\u001b[0m\u001b[0;34m\u001b[0m\u001b[0m\n",
      "\u001b[0;32m/opt/conda/lib/python3.6/site-packages/tensorflow/python/keras/engine/training.py\u001b[0m in \u001b[0;36m_standardize_user_data\u001b[0;34m(self, x, y, sample_weight, class_weight, batch_size, check_steps, steps_name, steps, validation_split)\u001b[0m\n\u001b[1;32m    876\u001b[0m         \u001b[0mfeed_input_shapes\u001b[0m\u001b[0;34m,\u001b[0m\u001b[0;34m\u001b[0m\u001b[0m\n\u001b[1;32m    877\u001b[0m         \u001b[0mcheck_batch_axis\u001b[0m\u001b[0;34m=\u001b[0m\u001b[0;32mFalse\u001b[0m\u001b[0;34m,\u001b[0m  \u001b[0;31m# Don't enforce the batch size.\u001b[0m\u001b[0;34m\u001b[0m\u001b[0m\n\u001b[0;32m--> 878\u001b[0;31m         exception_prefix='input')\n\u001b[0m\u001b[1;32m    879\u001b[0m \u001b[0;34m\u001b[0m\u001b[0m\n\u001b[1;32m    880\u001b[0m     \u001b[0;32mif\u001b[0m \u001b[0my\u001b[0m \u001b[0;32mis\u001b[0m \u001b[0;32mnot\u001b[0m \u001b[0;32mNone\u001b[0m\u001b[0;34m:\u001b[0m\u001b[0;34m\u001b[0m\u001b[0m\n",
      "\u001b[0;32m/opt/conda/lib/python3.6/site-packages/tensorflow/python/keras/engine/training_utils.py\u001b[0m in \u001b[0;36mstandardize_input_data\u001b[0;34m(data, names, shapes, check_batch_axis, exception_prefix)\u001b[0m\n\u001b[1;32m    189\u001b[0m                 \u001b[0;34m'Error when checking '\u001b[0m \u001b[0;34m+\u001b[0m \u001b[0mexception_prefix\u001b[0m \u001b[0;34m+\u001b[0m \u001b[0;34m': expected '\u001b[0m \u001b[0;34m+\u001b[0m\u001b[0;34m\u001b[0m\u001b[0m\n\u001b[1;32m    190\u001b[0m                 \u001b[0mnames\u001b[0m\u001b[0;34m[\u001b[0m\u001b[0mi\u001b[0m\u001b[0;34m]\u001b[0m \u001b[0;34m+\u001b[0m \u001b[0;34m' to have shape '\u001b[0m \u001b[0;34m+\u001b[0m \u001b[0mstr\u001b[0m\u001b[0;34m(\u001b[0m\u001b[0mshape\u001b[0m\u001b[0;34m)\u001b[0m \u001b[0;34m+\u001b[0m\u001b[0;34m\u001b[0m\u001b[0m\n\u001b[0;32m--> 191\u001b[0;31m                 ' but got array with shape ' + str(data_shape))\n\u001b[0m\u001b[1;32m    192\u001b[0m   \u001b[0;32mreturn\u001b[0m \u001b[0mdata\u001b[0m\u001b[0;34m\u001b[0m\u001b[0m\n\u001b[1;32m    193\u001b[0m \u001b[0;34m\u001b[0m\u001b[0m\n",
      "\u001b[0;31mValueError\u001b[0m: Error when checking input: expected conv2d_input to have shape (224, 224, 3) but got array with shape (360, 360, 3)"
     ]
    }
   ],
   "source": [
    "model_path = './saved_models/CNN_051401.h5'.format(model_name)\n",
    "model = load_model(model_path)\n",
    "\n",
    "#scores = model.evaluate(X_valid, y_valid, verbose=1)\n",
    "#print('Validation loss:', scores[0])\n",
    "#print('Validation accuracy:', scores[1])\n",
    "\n",
    "y_test_pred = model.predict_classes(X_test)\n",
    "y_test_pred_df = pd.DataFrame({'id': np.array(X_id), 'class':y_test_pred}).sort_values(by='id')\n",
    "y_test_pred_df.to_csv('CNN_051101.csv'.format(model_name), index=False)"
   ]
  },
  {
   "cell_type": "code",
   "execution_count": 14,
   "metadata": {},
   "outputs": [],
   "source": [
    "#X_train"
   ]
  },
  {
   "cell_type": "code",
   "execution_count": null,
   "metadata": {},
   "outputs": [],
   "source": [
    "#X_test"
   ]
  },
  {
   "cell_type": "code",
   "execution_count": null,
   "metadata": {},
   "outputs": [],
   "source": [
    "pp"
   ]
  },
  {
   "cell_type": "code",
   "execution_count": null,
   "metadata": {},
   "outputs": [],
   "source": []
  }
 ],
 "metadata": {
  "kernelspec": {
   "display_name": "Python 3",
   "language": "python",
   "name": "python3"
  },
  "language_info": {
   "codemirror_mode": {
    "name": "ipython",
    "version": 3
   },
   "file_extension": ".py",
   "mimetype": "text/x-python",
   "name": "python",
   "nbconvert_exporter": "python",
   "pygments_lexer": "ipython3",
   "version": "3.6.6"
  }
 },
 "nbformat": 4,
 "nbformat_minor": 2
}
