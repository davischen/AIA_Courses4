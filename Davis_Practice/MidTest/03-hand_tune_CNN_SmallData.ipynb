{
 "cells": [
  {
   "cell_type": "code",
   "execution_count": 1,
   "metadata": {},
   "outputs": [],
   "source": [
    "import warnings\n",
    "warnings.filterwarnings('ignore')\n",
    "\n",
    "import tensorflow.keras as keras\n",
    "from tensorflow.keras.preprocessing.image import ImageDataGenerator\n",
    "from tensorflow.keras.models import Sequential, load_model\n",
    "from tensorflow.keras.layers import Dense, Dropout, Activation, Flatten\n",
    "from tensorflow.keras.layers import Conv2D, MaxPooling2D, BatchNormalization, GlobalAveragePooling2D\n",
    "from tensorflow.keras.callbacks import EarlyStopping, ModelCheckpoint\n",
    "\n",
    "import matplotlib.pyplot as plt\n",
    "import pandas as pd\n",
    "import numpy as np\n",
    "\n",
    "from utils import load_data, load_test_data\n",
    "from utils import num_classes, epochs, batch_size"
   ]
  },
  {
   "cell_type": "code",
   "execution_count": 2,
   "metadata": {},
   "outputs": [],
   "source": [
    "X_train, y_train, X_valid, y_valid = load_data(test_size=0.2, img_size=360,Gray2RGB=True)"
   ]
  },
  {
   "cell_type": "code",
   "execution_count": 3,
   "metadata": {},
   "outputs": [
    {
     "name": "stdout",
     "output_type": "stream",
     "text": [
      "(3321, 360, 360, 3)\n",
      "(3321, 15)\n",
      "(831, 360, 360, 3)\n",
      "(831, 15)\n"
     ]
    }
   ],
   "source": [
    "print(X_train.shape)\n",
    "print(y_train.shape)\n",
    "print(X_valid.shape)\n",
    "print(y_valid.shape)"
   ]
  },
  {
   "cell_type": "code",
   "execution_count": null,
   "metadata": {},
   "outputs": [],
   "source": []
  },
  {
   "cell_type": "code",
   "execution_count": 4,
   "metadata": {},
   "outputs": [
    {
     "name": "stdout",
     "output_type": "stream",
     "text": [
      "_________________________________________________________________\n",
      "Layer (type)                 Output Shape              Param #   \n",
      "=================================================================\n",
      "conv2d (Conv2D)              (None, 360, 360, 32)      896       \n",
      "_________________________________________________________________\n",
      "batch_normalization (BatchNo (None, 360, 360, 32)      128       \n",
      "_________________________________________________________________\n",
      "activation (Activation)      (None, 360, 360, 32)      0         \n",
      "_________________________________________________________________\n",
      "max_pooling2d (MaxPooling2D) (None, 180, 180, 32)      0         \n",
      "_________________________________________________________________\n",
      "dropout (Dropout)            (None, 180, 180, 32)      0         \n",
      "_________________________________________________________________\n",
      "conv2d_1 (Conv2D)            (None, 180, 180, 64)      18496     \n",
      "_________________________________________________________________\n",
      "batch_normalization_1 (Batch (None, 180, 180, 64)      256       \n",
      "_________________________________________________________________\n",
      "activation_1 (Activation)    (None, 180, 180, 64)      0         \n",
      "_________________________________________________________________\n",
      "max_pooling2d_1 (MaxPooling2 (None, 90, 90, 64)        0         \n",
      "_________________________________________________________________\n",
      "dropout_1 (Dropout)          (None, 90, 90, 64)        0         \n",
      "_________________________________________________________________\n",
      "conv2d_2 (Conv2D)            (None, 90, 90, 128)       73856     \n",
      "_________________________________________________________________\n",
      "batch_normalization_2 (Batch (None, 90, 90, 128)       512       \n",
      "_________________________________________________________________\n",
      "activation_2 (Activation)    (None, 90, 90, 128)       0         \n",
      "_________________________________________________________________\n",
      "max_pooling2d_2 (MaxPooling2 (None, 45, 45, 128)       0         \n",
      "_________________________________________________________________\n",
      "dropout_2 (Dropout)          (None, 45, 45, 128)       0         \n",
      "_________________________________________________________________\n",
      "conv2d_3 (Conv2D)            (None, 45, 45, 256)       295168    \n",
      "_________________________________________________________________\n",
      "batch_normalization_3 (Batch (None, 45, 45, 256)       1024      \n",
      "_________________________________________________________________\n",
      "activation_3 (Activation)    (None, 45, 45, 256)       0         \n",
      "_________________________________________________________________\n",
      "max_pooling2d_3 (MaxPooling2 (None, 22, 22, 256)       0         \n",
      "_________________________________________________________________\n",
      "dropout_3 (Dropout)          (None, 22, 22, 256)       0         \n",
      "_________________________________________________________________\n",
      "conv2d_4 (Conv2D)            (None, 22, 22, 512)       1180160   \n",
      "_________________________________________________________________\n",
      "batch_normalization_4 (Batch (None, 22, 22, 512)       2048      \n",
      "_________________________________________________________________\n",
      "activation_4 (Activation)    (None, 22, 22, 512)       0         \n",
      "_________________________________________________________________\n",
      "max_pooling2d_4 (MaxPooling2 (None, 11, 11, 512)       0         \n",
      "_________________________________________________________________\n",
      "dropout_4 (Dropout)          (None, 11, 11, 512)       0         \n",
      "_________________________________________________________________\n",
      "conv2d_5 (Conv2D)            (None, 11, 11, 512)       2359808   \n",
      "_________________________________________________________________\n",
      "batch_normalization_5 (Batch (None, 11, 11, 512)       2048      \n",
      "_________________________________________________________________\n",
      "activation_5 (Activation)    (None, 11, 11, 512)       0         \n",
      "_________________________________________________________________\n",
      "max_pooling2d_5 (MaxPooling2 (None, 5, 5, 512)         0         \n",
      "_________________________________________________________________\n",
      "dropout_5 (Dropout)          (None, 5, 5, 512)         0         \n",
      "_________________________________________________________________\n",
      "global_average_pooling2d (Gl (None, 512)               0         \n",
      "_________________________________________________________________\n",
      "dense (Dense)                (None, 64)                32832     \n",
      "_________________________________________________________________\n",
      "batch_normalization_6 (Batch (None, 64)                256       \n",
      "_________________________________________________________________\n",
      "activation_6 (Activation)    (None, 64)                0         \n",
      "_________________________________________________________________\n",
      "dropout_6 (Dropout)          (None, 64)                0         \n",
      "_________________________________________________________________\n",
      "dense_1 (Dense)              (None, 15)                975       \n",
      "_________________________________________________________________\n",
      "batch_normalization_7 (Batch (None, 15)                60        \n",
      "_________________________________________________________________\n",
      "activation_7 (Activation)    (None, 15)                0         \n",
      "=================================================================\n",
      "Total params: 3,968,523\n",
      "Trainable params: 3,965,357\n",
      "Non-trainable params: 3,166\n",
      "_________________________________________________________________\n",
      "None\n"
     ]
    }
   ],
   "source": [
    "# a classic CNN model\n",
    "model_name = 'classic_CNN_GlobalAveragePooling2D'\n",
    "model = Sequential()\n",
    "\n",
    "model.add(Conv2D(32, (3, 3), padding='same', input_shape=X_train.shape[1:]))\n",
    "model.add(BatchNormalization())\n",
    "model.add(Activation(activation='relu'))\n",
    "model.add(MaxPooling2D((2, 2)))\n",
    "model.add(Dropout(0.25))\n",
    "\n",
    "\n",
    "model.add(Conv2D(64, (3, 3), padding='same'))\n",
    "model.add(BatchNormalization())\n",
    "model.add(Activation(activation='relu'))\n",
    "model.add(MaxPooling2D((2, 2)))\n",
    "model.add(Dropout(0.25))\n",
    "\n",
    "model.add(Conv2D(128, (3, 3), padding='same', activation='relu'))\n",
    "model.add(BatchNormalization())\n",
    "model.add(Activation(activation='relu'))\n",
    "model.add(MaxPooling2D((2, 2)))\n",
    "model.add(Dropout(0.25))\n",
    "\n",
    "model.add(Conv2D(256, (3, 3), padding='same', activation='relu'))\n",
    "model.add(BatchNormalization())\n",
    "model.add(Activation(activation='relu'))\n",
    "model.add(MaxPooling2D((2, 2)))\n",
    "model.add(Dropout(0.25))\n",
    "\n",
    "model.add(Conv2D(512, (3, 3), padding='same', activation='relu'))\n",
    "model.add(BatchNormalization())\n",
    "model.add(Activation(activation='relu'))\n",
    "model.add(MaxPooling2D((2, 2)))\n",
    "model.add(Dropout(0.25))\n",
    "\n",
    "model.add(Conv2D(512, (3, 3), padding='same', activation='relu'))\n",
    "model.add(BatchNormalization())\n",
    "model.add(Activation(activation='relu'))\n",
    "model.add(MaxPooling2D((2, 2)))\n",
    "model.add(Dropout(0.25))\n",
    "\n",
    "# model.add(Flatten())\n",
    "\n",
    "model.add(GlobalAveragePooling2D())\n",
    "\n",
    "model.add(Dense(64))\n",
    "model.add(BatchNormalization())\n",
    "model.add(Activation(activation='relu'))\n",
    "model.add(Dropout(0.5))\n",
    "\n",
    "model.add(Dense(num_classes))\n",
    "model.add(BatchNormalization())\n",
    "model.add(Activation(activation='softmax'))\n",
    "\n",
    "print(model.summary())"
   ]
  },
  {
   "cell_type": "code",
   "execution_count": 5,
   "metadata": {},
   "outputs": [
    {
     "name": "stdout",
     "output_type": "stream",
     "text": [
      "Epoch 1/400\n",
      "102/103 [============================>.] - ETA: 1s - loss: 2.7506 - acc: 0.1483\n",
      "Epoch 00001: val_loss improved from inf to 2.73832, saving model to ./saved_models/CNN_0510001.h5\n",
      "103/103 [==============================] - 145s 1s/step - loss: 2.7494 - acc: 0.1483 - val_loss: 2.7383 - val_acc: 0.2070\n",
      "Epoch 2/400\n",
      "102/103 [============================>.] - ETA: 1s - loss: 2.5001 - acc: 0.2191\n",
      "Epoch 00002: val_loss did not improve from 2.73832\n",
      "103/103 [==============================] - 137s 1s/step - loss: 2.4994 - acc: 0.2194 - val_loss: 6.8177 - val_acc: 0.1408\n",
      "Epoch 3/400\n",
      "102/103 [============================>.] - ETA: 1s - loss: 2.3642 - acc: 0.2293\n",
      "Epoch 00003: val_loss did not improve from 2.73832\n",
      "103/103 [==============================] - 136s 1s/step - loss: 2.3641 - acc: 0.2292 - val_loss: 12.6516 - val_acc: 0.2130\n",
      "Epoch 4/400\n",
      "102/103 [============================>.] - ETA: 1s - loss: 2.2712 - acc: 0.2347\n",
      "Epoch 00004: val_loss did not improve from 2.73832\n",
      "103/103 [==============================] - 137s 1s/step - loss: 2.2711 - acc: 0.2341 - val_loss: 12.1511 - val_acc: 0.2250\n",
      "Epoch 5/400\n",
      "102/103 [============================>.] - ETA: 1s - loss: 2.1853 - acc: 0.2319\n",
      "Epoch 00005: val_loss did not improve from 2.73832\n",
      "103/103 [==============================] - 139s 1s/step - loss: 2.1854 - acc: 0.2317 - val_loss: 12.4426 - val_acc: 0.2274\n",
      "Epoch 6/400\n",
      "102/103 [============================>.] - ETA: 1s - loss: 2.1030 - acc: 0.2368\n",
      "Epoch 00006: val_loss did not improve from 2.73832\n",
      "103/103 [==============================] - 145s 1s/step - loss: 2.1028 - acc: 0.2366 - val_loss: 12.2825 - val_acc: 0.2347\n",
      "Epoch 7/400\n",
      "102/103 [============================>.] - ETA: 1s - loss: 2.0508 - acc: 0.2333\n",
      "Epoch 00007: val_loss did not improve from 2.73832\n",
      "103/103 [==============================] - 131s 1s/step - loss: 2.0520 - acc: 0.2344 - val_loss: 12.8104 - val_acc: 0.2022\n",
      "Epoch 00007: early stopping\n"
     ]
    }
   ],
   "source": [
    "# Data generator with augmentation\n",
    "datagen = ImageDataGenerator(\n",
    "    rotation_range=20,\n",
    "    width_shift_range=0.2,\n",
    "    height_shift_range=0.2,\n",
    "    shear_range=0.2,\n",
    "    zoom_range=0.2,\n",
    "    horizontal_flip=True,\n",
    "    rescale=1./255,\n",
    "    fill_mode='constant',\n",
    "    cval=0)\n",
    "\n",
    "optimizer = keras.optimizers.Adam(lr=10e-4)\n",
    "\n",
    "model_path = './saved_models/CNN_0510001.h5'.format(model_name)\n",
    "checkpoint = ModelCheckpoint(model_path, monitor='val_acc', save_best_only=True, verbose=1)\n",
    "earlystop = EarlyStopping(monitor='val_acc', patience=6, verbose=1)\n",
    "\n",
    "model.compile(loss='categorical_crossentropy',\n",
    "              optimizer=optimizer, metrics=['accuracy'])\n",
    "#model.compile(optimizer='rmsprop',\n",
    "#              loss='binary_crossentropy',\n",
    "#              metrics=['accuracy'])\n",
    "# Fit the model on the batches generated by datagen.flow().\n",
    "batch_size = 64\n",
    "aug_ratio = 2\n",
    "epochs = 400\n",
    "steps_per_epoch = int(aug_ratio * X_train.shape[0] / batch_size)\n",
    "validation_steps = int(aug_ratio * X_valid.shape[0] / batch_size)\n",
    "model_history = model.fit_generator(datagen.flow(X_train, y_train, batch_size = batch_size),\n",
    "                                    epochs = epochs,\n",
    "                                    validation_data = (X_valid, y_valid),\n",
    "                                    callbacks = [checkpoint,earlystop],\n",
    "                                    steps_per_epoch=steps_per_epoch,\n",
    "                                    validation_steps=validation_steps)"
   ]
  },
  {
   "cell_type": "code",
   "execution_count": 6,
   "metadata": {},
   "outputs": [
    {
     "data": {
      "image/png": "[encoded data removed]",
      "text/plain": [
       "<Figure size 432x288 with 1 Axes>"
      ]
     },
     "metadata": {
      "needs_background": "light"
     },
     "output_type": "display_data"
    }
   ],
   "source": [
    "training_loss = model_history.history['loss']\n",
    "val_loss = model_history.history['val_loss']\n",
    "\n",
    "plt.plot(training_loss, 'b', label=\"training_loss\")\n",
    "plt.plot(val_loss, 'r', label=\"validation_loss\")\n",
    "plt.xlabel(\"Epochs\")\n",
    "plt.ylabel(\"Loss\")\n",
    "plt.title(\"Learning Curve\")\n",
    "plt.legend(loc='best')\n",
    "plt.show()"
   ]
  },
  {
   "cell_type": "code",
   "execution_count": 7,
   "metadata": {},
   "outputs": [
    {
     "data": {
      "image/png": "[encoded data removed]",
      "text/plain": [
       "<Figure size 432x288 with 1 Axes>"
      ]
     },
     "metadata": {
      "needs_background": "light"
     },
     "output_type": "display_data"
    }
   ],
   "source": [
    "training_acc = model_history.history['acc']\n",
    "val_acc = model_history.history['val_acc']\n",
    "\n",
    "plt.plot(training_acc, 'b', label=\"training_acc\")\n",
    "plt.plot(val_acc, 'r', label=\"validation_acc\")\n",
    "plt.xlabel(\"Epochs\")\n",
    "plt.ylabel(\"Acc\")\n",
    "plt.title(\"Learning Curve\")\n",
    "plt.legend(loc='best')\n",
    "plt.show()"
   ]
  },
  {
   "cell_type": "code",
   "execution_count": 8,
   "metadata": {},
   "outputs": [
    {
     "name": "stdout",
     "output_type": "stream",
     "text": [
      "(3321, 360, 360, 3)\n",
      "(3321, 15)\n",
      "(831, 360, 360, 3)\n",
      "(831, 15)\n"
     ]
    }
   ],
   "source": [
    "print(X_train.shape)\n",
    "print(y_train.shape)\n",
    "print(X_valid.shape)\n",
    "print(y_valid.shape)"
   ]
  },
  {
   "cell_type": "code",
   "execution_count": 9,
   "metadata": {},
   "outputs": [
    {
     "name": "stdout",
     "output_type": "stream",
     "text": [
      "(438, 360, 360, 3)\n"
     ]
    }
   ],
   "source": [
    "X_test, X_id = load_test_data(Gray2RGB=True, img_size=360)\n",
    "print(X_test.shape)"
   ]
  },
  {
   "cell_type": "code",
   "execution_count": 10,
   "metadata": {},
   "outputs": [
    {
     "name": "stdout",
     "output_type": "stream",
     "text": [
      "(831, 360, 360, 3)\n"
     ]
    }
   ],
   "source": [
    "print(X_valid.shape)"
   ]
  },
  {
   "cell_type": "code",
   "execution_count": 11,
   "metadata": {},
   "outputs": [],
   "source": [
    "model_path = './saved_models/CNN_0510001.h5'.format(model_name)\n",
    "model = load_model(model_path)\n",
    "\n",
    "#scores = model.evaluate(X_valid, y_valid, verbose=1)\n",
    "#print('Validation loss:', scores[0])\n",
    "#print('Validation accuracy:', scores[1])\n",
    "\n",
    "y_test_pred = model.predict_classes(X_test)\n",
    "y_test_pred_df = pd.DataFrame({'id': np.array(X_id), 'class':y_test_pred}).sort_values(by='id')\n",
    "y_test_pred_df.to_csv('CNN_0510001.csv'.format(model_name), index=False)"
   ]
  },
  {
   "cell_type": "code",
   "execution_count": null,
   "metadata": {},
   "outputs": [],
   "source": [
    "#X_train"
   ]
  },
  {
   "cell_type": "code",
   "execution_count": null,
   "metadata": {},
   "outputs": [],
   "source": [
    "#X_test"
   ]
  },
  {
   "cell_type": "code",
   "execution_count": null,
   "metadata": {},
   "outputs": [],
   "source": [
    "pp"
   ]
  },
  {
   "cell_type": "code",
   "execution_count": 9,
   "metadata": {},
   "outputs": [
    {
     "name": "stdout",
     "output_type": "stream",
     "text": [
      "_________________________________________________________________\n",
      "Layer (type)                 Output Shape              Param #   \n",
      "=================================================================\n",
      "conv2d_5 (Conv2D)            (None, 224, 224, 64)      640       \n",
      "_________________________________________________________________\n",
      "batch_normalization_7 (Batch (None, 224, 224, 64)      256       \n",
      "_________________________________________________________________\n",
      "activation_7 (Activation)    (None, 224, 224, 64)      0         \n",
      "_________________________________________________________________\n",
      "max_pooling2d_5 (MaxPooling2 (None, 112, 112, 64)      0         \n",
      "_________________________________________________________________\n",
      "conv2d_6 (Conv2D)            (None, 112, 112, 128)     73856     \n",
      "_________________________________________________________________\n",
      "batch_normalization_8 (Batch (None, 112, 112, 128)     512       \n",
      "_________________________________________________________________\n",
      "activation_8 (Activation)    (None, 112, 112, 128)     0         \n",
      "_________________________________________________________________\n",
      "max_pooling2d_6 (MaxPooling2 (None, 56, 56, 128)       0         \n",
      "_________________________________________________________________\n",
      "conv2d_7 (Conv2D)            (None, 56, 56, 256)       295168    \n",
      "_________________________________________________________________\n",
      "batch_normalization_9 (Batch (None, 56, 56, 256)       1024      \n",
      "_________________________________________________________________\n",
      "activation_9 (Activation)    (None, 56, 56, 256)       0         \n",
      "_________________________________________________________________\n",
      "max_pooling2d_7 (MaxPooling2 (None, 28, 28, 256)       0         \n",
      "_________________________________________________________________\n",
      "conv2d_8 (Conv2D)            (None, 28, 28, 512)       1180160   \n",
      "_________________________________________________________________\n",
      "batch_normalization_10 (Batc (None, 28, 28, 512)       2048      \n",
      "_________________________________________________________________\n",
      "activation_10 (Activation)   (None, 28, 28, 512)       0         \n",
      "_________________________________________________________________\n",
      "max_pooling2d_8 (MaxPooling2 (None, 14, 14, 512)       0         \n",
      "_________________________________________________________________\n",
      "conv2d_9 (Conv2D)            (None, 14, 14, 512)       2359808   \n",
      "_________________________________________________________________\n",
      "batch_normalization_11 (Batc (None, 14, 14, 512)       2048      \n",
      "_________________________________________________________________\n",
      "activation_11 (Activation)   (None, 14, 14, 512)       0         \n",
      "_________________________________________________________________\n",
      "max_pooling2d_9 (MaxPooling2 (None, 7, 7, 512)         0         \n",
      "_________________________________________________________________\n",
      "global_average_pooling2d (Gl (None, 512)               0         \n",
      "_________________________________________________________________\n",
      "dense_2 (Dense)              (None, 128)               65664     \n",
      "_________________________________________________________________\n",
      "batch_normalization_12 (Batc (None, 128)               512       \n",
      "_________________________________________________________________\n",
      "activation_12 (Activation)   (None, 128)               0         \n",
      "_________________________________________________________________\n",
      "dense_3 (Dense)              (None, 15)                1935      \n",
      "_________________________________________________________________\n",
      "batch_normalization_13 (Batc (None, 15)                60        \n",
      "_________________________________________________________________\n",
      "activation_13 (Activation)   (None, 15)                0         \n",
      "=================================================================\n",
      "Total params: 3,983,691\n",
      "Trainable params: 3,980,461\n",
      "Non-trainable params: 3,230\n",
      "_________________________________________________________________\n",
      "None\n"
     ]
    }
   ],
   "source": [
    "# a classic CNN model\n",
    "model_name = 'classic_CNN_GlobalAveragePooling2D'\n",
    "model = Sequential()\n",
    "\n",
    "model.add(Conv2D(64, (3, 3), padding='same', input_shape=X_train.shape[1:]))\n",
    "model.add(BatchNormalization())\n",
    "model.add(Activation(activation='relu'))\n",
    "model.add(MaxPooling2D((2, 2)))\n",
    "\n",
    "model.add(Conv2D(128, (3, 3), padding='same'))\n",
    "model.add(BatchNormalization())\n",
    "model.add(Activation(activation='relu'))\n",
    "model.add(MaxPooling2D((2, 2)))\n",
    "\n",
    "model.add(Conv2D(256, (3, 3), padding='same', activation='relu'))\n",
    "model.add(BatchNormalization())\n",
    "model.add(Activation(activation='relu'))\n",
    "model.add(MaxPooling2D((2, 2)))\n",
    "\n",
    "model.add(Conv2D(512, (3, 3), padding='same', activation='relu'))\n",
    "model.add(BatchNormalization())\n",
    "model.add(Activation(activation='relu'))\n",
    "model.add(MaxPooling2D((2, 2)))\n",
    "\n",
    "model.add(Conv2D(512, (3, 3), padding='same', activation='relu'))\n",
    "model.add(BatchNormalization())\n",
    "model.add(Activation(activation='relu'))\n",
    "model.add(MaxPooling2D((2, 2)))\n",
    "\n",
    "model.add(GlobalAveragePooling2D())\n",
    "\n",
    "model.add(Dense(128))\n",
    "model.add(BatchNormalization())\n",
    "model.add(Activation(activation='relu'))\n",
    "\n",
    "model.add(Dense(num_classes))\n",
    "model.add(BatchNormalization())\n",
    "model.add(Activation(activation='softmax'))\n",
    "\n",
    "print(model.summary())"
   ]
  },
  {
   "cell_type": "code",
   "execution_count": 10,
   "metadata": {},
   "outputs": [
    {
     "name": "stdout",
     "output_type": "stream",
     "text": [
      "Epoch 1/200\n",
      "166/167 [============================>.] - ETA: 0s - loss: 2.5018 - acc: 0.1956\n",
      "Epoch 00001: val_loss improved from inf to 3.03830, saving model to ./saved_models/classic_CNN_GlobalAveragePooling2D.h5\n",
      "167/167 [==============================] - 15s 89ms/step - loss: 2.5013 - acc: 0.1955 - val_loss: 3.0383 - val_acc: 0.0569\n",
      "Epoch 2/200\n",
      "166/167 [============================>.] - ETA: 0s - loss: 2.0136 - acc: 0.3723\n",
      "Epoch 00002: val_loss did not improve from 3.03830\n",
      "167/167 [==============================] - 11s 66ms/step - loss: 2.0137 - acc: 0.3712 - val_loss: 3.1039 - val_acc: 0.0569\n",
      "Epoch 3/200\n",
      "166/167 [============================>.] - ETA: 0s - loss: 1.8644 - acc: 0.4287\n",
      "Epoch 00003: val_loss improved from 3.03830 to 2.58687, saving model to ./saved_models/classic_CNN_GlobalAveragePooling2D.h5\n",
      "167/167 [==============================] - 11s 66ms/step - loss: 1.8619 - acc: 0.4307 - val_loss: 2.5869 - val_acc: 0.1639\n",
      "Epoch 4/200\n",
      "166/167 [============================>.] - ETA: 0s - loss: 1.7642 - acc: 0.4842\n",
      "Epoch 00004: val_loss improved from 2.58687 to 1.72442, saving model to ./saved_models/classic_CNN_GlobalAveragePooling2D.h5\n",
      "167/167 [==============================] - 11s 66ms/step - loss: 1.7637 - acc: 0.4843 - val_loss: 1.7244 - val_acc: 0.4749\n",
      "Epoch 5/200\n",
      "166/167 [============================>.] - ETA: 0s - loss: 1.6961 - acc: 0.4948\n",
      "Epoch 00005: val_loss improved from 1.72442 to 1.37576, saving model to ./saved_models/classic_CNN_GlobalAveragePooling2D.h5\n",
      "167/167 [==============================] - 11s 66ms/step - loss: 1.6953 - acc: 0.4944 - val_loss: 1.3758 - val_acc: 0.6154\n",
      "Epoch 6/200\n",
      "166/167 [============================>.] - ETA: 0s - loss: 1.6587 - acc: 0.5172\n",
      "Epoch 00006: val_loss did not improve from 1.37576\n",
      "167/167 [==============================] - 11s 65ms/step - loss: 1.6579 - acc: 0.5171 - val_loss: 1.4504 - val_acc: 0.5953\n",
      "Epoch 7/200\n",
      "166/167 [============================>.] - ETA: 0s - loss: 1.6068 - acc: 0.5405\n",
      "Epoch 00007: val_loss improved from 1.37576 to 1.32525, saving model to ./saved_models/classic_CNN_GlobalAveragePooling2D.h5\n",
      "167/167 [==============================] - 11s 66ms/step - loss: 1.6050 - acc: 0.5418 - val_loss: 1.3252 - val_acc: 0.6154\n",
      "Epoch 8/200\n",
      "166/167 [============================>.] - ETA: 0s - loss: 1.5729 - acc: 0.5569\n",
      "Epoch 00008: val_loss improved from 1.32525 to 1.27357, saving model to ./saved_models/classic_CNN_GlobalAveragePooling2D.h5\n",
      "167/167 [==============================] - 11s 66ms/step - loss: 1.5723 - acc: 0.5561 - val_loss: 1.2736 - val_acc: 0.6321\n",
      "Epoch 9/200\n",
      "166/167 [============================>.] - ETA: 0s - loss: 1.5262 - acc: 0.5670\n",
      "Epoch 00009: val_loss did not improve from 1.27357\n",
      "167/167 [==============================] - 11s 65ms/step - loss: 1.5258 - acc: 0.5670 - val_loss: 1.3154 - val_acc: 0.5652\n",
      "Epoch 10/200\n",
      "166/167 [============================>.] - ETA: 0s - loss: 1.5524 - acc: 0.5549\n",
      "Epoch 00010: val_loss improved from 1.27357 to 1.22550, saving model to ./saved_models/classic_CNN_GlobalAveragePooling2D.h5\n",
      "167/167 [==============================] - 11s 66ms/step - loss: 1.5510 - acc: 0.5560 - val_loss: 1.2255 - val_acc: 0.6689\n",
      "Epoch 11/200\n",
      "166/167 [============================>.] - ETA: 0s - loss: 1.5058 - acc: 0.5792\n",
      "Epoch 00011: val_loss improved from 1.22550 to 1.19682, saving model to ./saved_models/classic_CNN_GlobalAveragePooling2D.h5\n",
      "167/167 [==============================] - 11s 66ms/step - loss: 1.5056 - acc: 0.5791 - val_loss: 1.1968 - val_acc: 0.6589\n",
      "Epoch 12/200\n",
      "166/167 [============================>.] - ETA: 0s - loss: 1.4820 - acc: 0.5859\n",
      "Epoch 00012: val_loss did not improve from 1.19682\n",
      "167/167 [==============================] - 11s 65ms/step - loss: 1.4799 - acc: 0.5869 - val_loss: 1.3157 - val_acc: 0.6187\n",
      "Epoch 13/200\n",
      "166/167 [============================>.] - ETA: 0s - loss: 1.4761 - acc: 0.5941\n",
      "Epoch 00013: val_loss improved from 1.19682 to 1.15734, saving model to ./saved_models/classic_CNN_GlobalAveragePooling2D.h5\n",
      "167/167 [==============================] - 11s 67ms/step - loss: 1.4771 - acc: 0.5939 - val_loss: 1.1573 - val_acc: 0.6555\n",
      "Epoch 14/200\n",
      "166/167 [============================>.] - ETA: 0s - loss: 1.4350 - acc: 0.6167\n",
      "Epoch 00014: val_loss improved from 1.15734 to 1.12591, saving model to ./saved_models/classic_CNN_GlobalAveragePooling2D.h5\n",
      "167/167 [==============================] - 11s 66ms/step - loss: 1.4367 - acc: 0.6163 - val_loss: 1.1259 - val_acc: 0.6589\n",
      "Epoch 15/200\n",
      "166/167 [============================>.] - ETA: 0s - loss: 1.4183 - acc: 0.6212\n",
      "Epoch 00015: val_loss did not improve from 1.12591\n",
      "167/167 [==============================] - 11s 66ms/step - loss: 1.4173 - acc: 0.6224 - val_loss: 1.1754 - val_acc: 0.6522\n",
      "Epoch 16/200\n",
      "166/167 [============================>.] - ETA: 0s - loss: 1.4221 - acc: 0.6078\n",
      "Epoch 00016: val_loss improved from 1.12591 to 1.11197, saving model to ./saved_models/classic_CNN_GlobalAveragePooling2D.h5\n",
      "167/167 [==============================] - 11s 66ms/step - loss: 1.4218 - acc: 0.6083 - val_loss: 1.1120 - val_acc: 0.6689\n",
      "Epoch 17/200\n",
      "166/167 [============================>.] - ETA: 0s - loss: 1.3809 - acc: 0.6337\n",
      "Epoch 00017: val_loss did not improve from 1.11197\n",
      "167/167 [==============================] - 11s 65ms/step - loss: 1.3810 - acc: 0.6344 - val_loss: 1.2235 - val_acc: 0.6455\n",
      "Epoch 18/200\n",
      "166/167 [============================>.] - ETA: 0s - loss: 1.3728 - acc: 0.6396\n",
      "Epoch 00018: val_loss did not improve from 1.11197\n",
      "167/167 [==============================] - 11s 65ms/step - loss: 1.3724 - acc: 0.6399 - val_loss: 1.1935 - val_acc: 0.6856\n",
      "Epoch 19/200\n",
      "166/167 [============================>.] - ETA: 0s - loss: 1.3545 - acc: 0.6558\n",
      "Epoch 00019: val_loss did not improve from 1.11197\n",
      "167/167 [==============================] - 11s 65ms/step - loss: 1.3543 - acc: 0.6564 - val_loss: 1.2476 - val_acc: 0.6421\n",
      "Epoch 20/200\n",
      "166/167 [============================>.] - ETA: 0s - loss: 1.3745 - acc: 0.6308\n",
      "Epoch 00020: val_loss did not improve from 1.11197\n",
      "167/167 [==============================] - 11s 65ms/step - loss: 1.3747 - acc: 0.6311 - val_loss: 1.1672 - val_acc: 0.6555\n",
      "Epoch 21/200\n",
      "166/167 [============================>.] - ETA: 0s - loss: 1.3507 - acc: 0.6429\n",
      "Epoch 00021: val_loss did not improve from 1.11197\n",
      "167/167 [==============================] - 11s 65ms/step - loss: 1.3513 - acc: 0.6420 - val_loss: 1.1353 - val_acc: 0.6890\n",
      "Epoch 22/200\n",
      "166/167 [============================>.] - ETA: 0s - loss: 1.3269 - acc: 0.6555\n",
      "Epoch 00022: val_loss did not improve from 1.11197\n",
      "167/167 [==============================] - 11s 65ms/step - loss: 1.3271 - acc: 0.6549 - val_loss: 1.1668 - val_acc: 0.6823\n",
      "Epoch 23/200\n",
      "166/167 [============================>.] - ETA: 0s - loss: 1.3308 - acc: 0.6428\n",
      "Epoch 00023: val_loss improved from 1.11197 to 1.07532, saving model to ./saved_models/classic_CNN_GlobalAveragePooling2D.h5\n",
      "167/167 [==============================] - 11s 67ms/step - loss: 1.3308 - acc: 0.6427 - val_loss: 1.0753 - val_acc: 0.6823\n",
      "Epoch 24/200\n",
      "166/167 [============================>.] - ETA: 0s - loss: 1.3263 - acc: 0.6488\n",
      "Epoch 00024: val_loss improved from 1.07532 to 1.00399, saving model to ./saved_models/classic_CNN_GlobalAveragePooling2D.h5\n",
      "167/167 [==============================] - 11s 67ms/step - loss: 1.3276 - acc: 0.6486 - val_loss: 1.0040 - val_acc: 0.7391\n",
      "Epoch 25/200\n",
      "166/167 [============================>.] - ETA: 0s - loss: 1.3030 - acc: 0.6687\n",
      "Epoch 00025: val_loss did not improve from 1.00399\n",
      "167/167 [==============================] - 11s 66ms/step - loss: 1.3037 - acc: 0.6677 - val_loss: 1.0969 - val_acc: 0.7090\n",
      "Epoch 26/200\n",
      "166/167 [============================>.] - ETA: 0s - loss: 1.3307 - acc: 0.6507\n",
      "Epoch 00026: val_loss did not improve from 1.00399\n",
      "167/167 [==============================] - 11s 65ms/step - loss: 1.3308 - acc: 0.6502 - val_loss: 1.0548 - val_acc: 0.6923\n",
      "Epoch 27/200\n",
      "166/167 [============================>.] - ETA: 0s - loss: 1.3033 - acc: 0.6657\n",
      "Epoch 00027: val_loss did not improve from 1.00399\n",
      "167/167 [==============================] - 11s 65ms/step - loss: 1.3023 - acc: 0.6662 - val_loss: 1.1030 - val_acc: 0.6890\n",
      "Epoch 28/200\n",
      "166/167 [============================>.] - ETA: 0s - loss: 1.2827 - acc: 0.6813\n",
      "Epoch 00028: val_loss did not improve from 1.00399\n",
      "167/167 [==============================] - 11s 65ms/step - loss: 1.2824 - acc: 0.6817 - val_loss: 1.0579 - val_acc: 0.7191\n",
      "Epoch 29/200\n",
      "166/167 [============================>.] - ETA: 0s - loss: 1.2996 - acc: 0.6670\n",
      "Epoch 00029: val_loss improved from 1.00399 to 0.97071, saving model to ./saved_models/classic_CNN_GlobalAveragePooling2D.h5\n",
      "167/167 [==============================] - 11s 66ms/step - loss: 1.2989 - acc: 0.6667 - val_loss: 0.9707 - val_acc: 0.7291\n",
      "Epoch 30/200\n",
      "166/167 [============================>.] - ETA: 0s - loss: 1.2688 - acc: 0.6748\n",
      "Epoch 00030: val_loss did not improve from 0.97071\n",
      "167/167 [==============================] - 11s 65ms/step - loss: 1.2682 - acc: 0.6749 - val_loss: 1.0946 - val_acc: 0.6455\n",
      "Epoch 31/200\n",
      "166/167 [============================>.] - ETA: 0s - loss: 1.2653 - acc: 0.6873\n",
      "Epoch 00031: val_loss did not improve from 0.97071\n",
      "167/167 [==============================] - 11s 66ms/step - loss: 1.2652 - acc: 0.6880 - val_loss: 1.0891 - val_acc: 0.6789\n",
      "Epoch 32/200\n",
      "166/167 [============================>.] - ETA: 0s - loss: 1.2532 - acc: 0.6805\n",
      "Epoch 00032: val_loss did not improve from 0.97071\n",
      "167/167 [==============================] - 11s 66ms/step - loss: 1.2536 - acc: 0.6805 - val_loss: 1.0976 - val_acc: 0.6957\n",
      "Epoch 33/200\n",
      "166/167 [============================>.] - ETA: 0s - loss: 1.2523 - acc: 0.6729\n",
      "Epoch 00033: val_loss improved from 0.97071 to 0.96499, saving model to ./saved_models/classic_CNN_GlobalAveragePooling2D.h5\n",
      "167/167 [==============================] - 11s 67ms/step - loss: 1.2539 - acc: 0.6723 - val_loss: 0.9650 - val_acc: 0.7759\n",
      "Epoch 34/200\n",
      "166/167 [============================>.] - ETA: 0s - loss: 1.2475 - acc: 0.6843\n",
      "Epoch 00034: val_loss did not improve from 0.96499\n",
      "167/167 [==============================] - 11s 65ms/step - loss: 1.2491 - acc: 0.6825 - val_loss: 1.1319 - val_acc: 0.6555\n",
      "Epoch 35/200\n",
      "166/167 [============================>.] - ETA: 0s - loss: 1.2430 - acc: 0.6980\n",
      "Epoch 00035: val_loss did not improve from 0.96499\n",
      "167/167 [==============================] - 11s 66ms/step - loss: 1.2443 - acc: 0.6965 - val_loss: 1.0231 - val_acc: 0.7258\n",
      "Epoch 36/200\n",
      "166/167 [============================>.] - ETA: 0s - loss: 1.2418 - acc: 0.6840\n",
      "Epoch 00036: val_loss did not improve from 0.96499\n",
      "167/167 [==============================] - 11s 66ms/step - loss: 1.2406 - acc: 0.6848 - val_loss: 1.1334 - val_acc: 0.6756\n",
      "Epoch 37/200\n",
      "166/167 [============================>.] - ETA: 0s - loss: 1.2082 - acc: 0.7029\n",
      "Epoch 00037: val_loss did not improve from 0.96499\n",
      "167/167 [==============================] - 11s 66ms/step - loss: 1.2065 - acc: 0.7039 - val_loss: 1.0029 - val_acc: 0.7124\n",
      "Epoch 38/200\n",
      "166/167 [============================>.] - ETA: 0s - loss: 1.2169 - acc: 0.6887\n",
      "Epoch 00038: val_loss did not improve from 0.96499\n",
      "167/167 [==============================] - 11s 65ms/step - loss: 1.2164 - acc: 0.6887 - val_loss: 0.9936 - val_acc: 0.6789\n",
      "Epoch 39/200\n",
      "166/167 [============================>.] - ETA: 0s - loss: 1.2226 - acc: 0.6900\n",
      "Epoch 00039: val_loss did not improve from 0.96499\n",
      "167/167 [==============================] - 11s 65ms/step - loss: 1.2222 - acc: 0.6892 - val_loss: 0.9810 - val_acc: 0.7358\n",
      "Epoch 40/200\n",
      "166/167 [============================>.] - ETA: 0s - loss: 1.2218 - acc: 0.6899\n",
      "Epoch 00040: val_loss did not improve from 0.96499\n",
      "167/167 [==============================] - 11s 65ms/step - loss: 1.2213 - acc: 0.6902 - val_loss: 1.0324 - val_acc: 0.7157\n",
      "Epoch 41/200\n",
      "166/167 [============================>.] - ETA: 0s - loss: 1.2075 - acc: 0.7037\n",
      "Epoch 00041: val_loss did not improve from 0.96499\n",
      "167/167 [==============================] - 11s 66ms/step - loss: 1.2081 - acc: 0.7032 - val_loss: 0.9701 - val_acc: 0.7157\n",
      "Epoch 42/200\n",
      "166/167 [============================>.] - ETA: 0s - loss: 1.1897 - acc: 0.7084\n",
      "Epoch 00042: val_loss did not improve from 0.96499\n",
      "167/167 [==============================] - 11s 66ms/step - loss: 1.1899 - acc: 0.7090 - val_loss: 1.1819 - val_acc: 0.6656\n",
      "Epoch 43/200\n",
      "166/167 [============================>.] - ETA: 0s - loss: 1.1689 - acc: 0.7167\n",
      "Epoch 00043: val_loss did not improve from 0.96499\n",
      "167/167 [==============================] - 11s 65ms/step - loss: 1.1696 - acc: 0.7158 - val_loss: 1.0619 - val_acc: 0.7191\n",
      "Epoch 00043: early stopping\n"
     ]
    }
   ],
   "source": [
    "# Data generator with augmentation\n",
    "datagen = ImageDataGenerator(\n",
    "    rotation_range=10,\n",
    "    width_shift_range=0.2,\n",
    "    height_shift_range=0.2,\n",
    "    shear_range=0.2,\n",
    "    zoom_range=0.2,\n",
    "    horizontal_flip=True,\n",
    "    fill_mode='constant',\n",
    "    cval=0)\n",
    "\n",
    "optimizer = keras.optimizers.Adam(lr=10e-6)\n",
    "\n",
    "model_path = './saved_models/{}.h5'.format(model_name)\n",
    "checkpoint = ModelCheckpoint(model_path, monitor='val_loss', save_best_only=True, verbose=1)\n",
    "earlystop = EarlyStopping(monitor='val_loss', patience=10, verbose=1)\n",
    "\n",
    "model.compile(loss='categorical_crossentropy',\n",
    "              optimizer=optimizer, metrics=['accuracy'])\n",
    "# Fit the model on the batches generated by datagen.flow().\n",
    "batch_size = 16\n",
    "aug_ratio = 1\n",
    "epochs = 200\n",
    "steps_per_epoch = int(aug_ratio * X_train.shape[0] / batch_size)\n",
    "validation_steps = int(aug_ratio * X_valid.shape[0] / batch_size)\n",
    "model_history = model.fit_generator(datagen.flow(X_train, y_train, batch_size = batch_size),\n",
    "                                    epochs = epochs,\n",
    "                                    validation_data = (X_valid, y_valid),\n",
    "                                    callbacks = [checkpoint, earlystop],\n",
    "                                    steps_per_epoch=steps_per_epoch,\n",
    "                                    validation_steps=validation_steps)"
   ]
  },
  {
   "cell_type": "code",
   "execution_count": 11,
   "metadata": {},
   "outputs": [
    {
     "data": {
      "image/png": "[encoded data removed]",
      "text/plain": [
       "<Figure size 432x288 with 1 Axes>"
      ]
     },
     "metadata": {
      "needs_background": "light"
     },
     "output_type": "display_data"
    }
   ],
   "source": [
    "training_loss = model_history.history['loss']\n",
    "val_loss = model_history.history['val_loss']\n",
    "\n",
    "plt.plot(training_loss, label=\"training_loss\")\n",
    "plt.plot(val_loss, label=\"validation_loss\")\n",
    "plt.xlabel(\"Epochs\")\n",
    "plt.ylabel(\"Loss\")\n",
    "plt.title(\"Learning Curve\")\n",
    "plt.legend(loc='best')\n",
    "plt.show()"
   ]
  },
  {
   "cell_type": "code",
   "execution_count": 12,
   "metadata": {},
   "outputs": [
    {
     "data": {
      "image/png": "[encoded data removed]",
      "text/plain": [
       "<Figure size 432x288 with 1 Axes>"
      ]
     },
     "metadata": {
      "needs_background": "light"
     },
     "output_type": "display_data"
    }
   ],
   "source": [
    "training_acc = model_history.history['acc']\n",
    "val_acc = model_history.history['val_acc']\n",
    "\n",
    "plt.plot(training_acc, label=\"training_acc\")\n",
    "plt.plot(val_acc, label=\"validation_acc\")\n",
    "plt.xlabel(\"Epochs\")\n",
    "plt.ylabel(\"Acc\")\n",
    "plt.title(\"Learning Curve\")\n",
    "plt.legend(loc='best')\n",
    "plt.show()"
   ]
  },
  {
   "cell_type": "code",
   "execution_count": 13,
   "metadata": {},
   "outputs": [
    {
     "name": "stdout",
     "output_type": "stream",
     "text": [
      "299/299 [==============================] - 1s 2ms/step\n",
      "Validation loss: 0.9649896470200656\n",
      "Validation accuracy: 0.775919732242125\n"
     ]
    }
   ],
   "source": [
    "X_test, X_id = load_test_data()\n",
    "\n",
    "model_path = './saved_models/{}.h5'.format(model_name)\n",
    "model = load_model(model_path)\n",
    "\n",
    "scores = model.evaluate(X_valid, y_valid, verbose=1)\n",
    "print('Validation loss:', scores[0])\n",
    "print('Validation accuracy:', scores[1])\n",
    "\n",
    "y_test_pred = model.predict_classes(X_test)\n",
    "y_test_pred_df = pd.DataFrame({'id': np.array(X_id), 'class':y_test_pred}).sort_values(by='id')\n",
    "y_test_pred_df.to_csv('./submissions/{}.csv'.format(model_name), index=False)"
   ]
  },
  {
   "cell_type": "code",
   "execution_count": null,
   "metadata": {},
   "outputs": [],
   "source": []
  }
 ],
 "metadata": {
  "kernelspec": {
   "display_name": "Python 3",
   "language": "python",
   "name": "python3"
  },
  "language_info": {
   "codemirror_mode": {
    "name": "ipython",
    "version": 3
   },
   "file_extension": ".py",
   "mimetype": "text/x-python",
   "name": "python",
   "nbconvert_exporter": "python",
   "pygments_lexer": "ipython3",
   "version": "3.6.6"
  }
 },
 "nbformat": 4,
 "nbformat_minor": 2
}
