{
 "cells": [
  {
   "cell_type": "markdown",
   "metadata": {},
   "source": [
    "# text's feature engineering: turn unstructure to  structure"
   ]
  },
  {
   "cell_type": "code",
   "execution_count": 1,
   "metadata": {},
   "outputs": [
    {
     "data": {
      "text/plain": [
       "'/home/jovyan/Davis_Practice/NLP'"
      ]
     },
     "execution_count": 1,
     "metadata": {},
     "output_type": "execute_result"
    }
   ],
   "source": [
    "import re\n",
    "import pandas as pd\n",
    "import numpy as np\n",
    "import pickle\n",
    "import os\n",
    "\n",
    "## turn back to main directory\n",
    "os.chdir(\"../\")\n",
    "os.getcwd()"
   ]
  },
  {
   "cell_type": "code",
   "execution_count": 2,
   "metadata": {},
   "outputs": [],
   "source": [
    "df = pd.read_csv('data/1999_preprocessed.csv')"
   ]
  },
  {
   "cell_type": "code",
   "execution_count": 3,
   "metadata": {},
   "outputs": [],
   "source": [
    "## load 'article_cutted'\n",
    "with open(\"article_cutted\", \"rb\") as file:\n",
    "    sentences = pickle.load(file)"
   ]
  },
  {
   "cell_type": "markdown",
   "metadata": {},
   "source": [
    "## define y (push > boo)"
   ]
  },
  {
   "cell_type": "code",
   "execution_count": 4,
   "metadata": {},
   "outputs": [],
   "source": [
    "## drop data\n",
    "#diff_threshold = 20\n",
    "#df = df[abs(df['push']-df['boo']) > diff_threshold].copy()"
   ]
  },
  {
   "cell_type": "code",
   "execution_count": 5,
   "metadata": {},
   "outputs": [],
   "source": [
    "## define y\n",
    "#df['type'] = np.clip(df['push']-df['boo'], 0, 1)\n",
    "#df = df.reset_index(drop=True)"
   ]
  },
  {
   "cell_type": "code",
   "execution_count": 6,
   "metadata": {},
   "outputs": [
    {
     "data": {
      "text/plain": [
       "SAP-168(QCI)     3031\n",
       "BPM平台系統          1073\n",
       "SAP-2X8(QSMC)     749\n",
       "SAP Issue         739\n",
       "GOC               268\n",
       "CAMP              143\n",
       "SAP-GS             44\n",
       "Name: type, dtype: int64"
      ]
     },
     "execution_count": 6,
     "metadata": {},
     "output_type": "execute_result"
    }
   ],
   "source": [
    "df['type'].value_counts()"
   ]
  },
  {
   "cell_type": "markdown",
   "metadata": {},
   "source": [
    "## simple feature"
   ]
  },
  {
   "cell_type": "code",
   "execution_count": 7,
   "metadata": {},
   "outputs": [],
   "source": [
    "## word count\n",
    "## http://blog.csdn.net/gatieme/article/details/43235791 (中文正則表達式)\n",
    "df['word_count'] = df['content'].str.count('[a-zA-Z0-9]+') + df['content'].str.count('[\\u4e00-\\u9fff]')"
   ]
  },
  {
   "cell_type": "code",
   "execution_count": 8,
   "metadata": {},
   "outputs": [],
   "source": [
    "## punctuation count\n",
    "df['punctuation'] = df['content'].str.replace('[\\w\\s]', '')\n",
    "df['punctuation_count'] = df['punctuation'].str.len()"
   ]
  },
  {
   "cell_type": "code",
   "execution_count": 9,
   "metadata": {},
   "outputs": [],
   "source": [
    "## question mark count\n",
    "df['question_count'] = df['punctuation'].str.count('[?？]')"
   ]
  },
  {
   "cell_type": "code",
   "execution_count": 10,
   "metadata": {},
   "outputs": [],
   "source": [
    "## drop punctuation column\n",
    "df = df.drop(['punctuation'],axis=1)"
   ]
  },
  {
   "cell_type": "code",
   "execution_count": 11,
   "metadata": {},
   "outputs": [
    {
     "data": {
      "text/html": [
       "<div>\n",
       "<style scoped>\n",
       "    .dataframe tbody tr th:only-of-type {\n",
       "        vertical-align: middle;\n",
       "    }\n",
       "\n",
       "    .dataframe tbody tr th {\n",
       "        vertical-align: top;\n",
       "    }\n",
       "\n",
       "    .dataframe thead th {\n",
       "        text-align: right;\n",
       "    }\n",
       "</style>\n",
       "<table border=\"1\" class=\"dataframe\">\n",
       "  <thead>\n",
       "    <tr style=\"text-align: right;\">\n",
       "      <th></th>\n",
       "      <th>idx</th>\n",
       "      <th>word_count</th>\n",
       "      <th>punctuation_count</th>\n",
       "      <th>question_count</th>\n",
       "    </tr>\n",
       "  </thead>\n",
       "  <tbody>\n",
       "    <tr>\n",
       "      <th>0</th>\n",
       "      <td>0</td>\n",
       "      <td>25</td>\n",
       "      <td>1</td>\n",
       "      <td>0</td>\n",
       "    </tr>\n",
       "    <tr>\n",
       "      <th>1</th>\n",
       "      <td>1</td>\n",
       "      <td>25</td>\n",
       "      <td>1</td>\n",
       "      <td>0</td>\n",
       "    </tr>\n",
       "    <tr>\n",
       "      <th>2</th>\n",
       "      <td>2</td>\n",
       "      <td>22</td>\n",
       "      <td>2</td>\n",
       "      <td>0</td>\n",
       "    </tr>\n",
       "    <tr>\n",
       "      <th>3</th>\n",
       "      <td>3</td>\n",
       "      <td>22</td>\n",
       "      <td>2</td>\n",
       "      <td>0</td>\n",
       "    </tr>\n",
       "    <tr>\n",
       "      <th>4</th>\n",
       "      <td>4</td>\n",
       "      <td>25</td>\n",
       "      <td>4</td>\n",
       "      <td>0</td>\n",
       "    </tr>\n",
       "  </tbody>\n",
       "</table>\n",
       "</div>"
      ],
      "text/plain": [
       "   idx  word_count  punctuation_count  question_count\n",
       "0    0          25                  1               0\n",
       "1    1          25                  1               0\n",
       "2    2          22                  2               0\n",
       "3    3          22                  2               0\n",
       "4    4          25                  4               0"
      ]
     },
     "execution_count": 11,
     "metadata": {},
     "output_type": "execute_result"
    }
   ],
   "source": [
    "df.iloc[:5, -4:]"
   ]
  },
  {
   "cell_type": "code",
   "execution_count": 12,
   "metadata": {},
   "outputs": [
    {
     "data": {
      "text/html": [
       "<div>\n",
       "<style scoped>\n",
       "    .dataframe tbody tr th:only-of-type {\n",
       "        vertical-align: middle;\n",
       "    }\n",
       "\n",
       "    .dataframe tbody tr th {\n",
       "        vertical-align: top;\n",
       "    }\n",
       "\n",
       "    .dataframe thead th {\n",
       "        text-align: right;\n",
       "    }\n",
       "</style>\n",
       "<table border=\"1\" class=\"dataframe\">\n",
       "  <thead>\n",
       "    <tr style=\"text-align: right;\">\n",
       "      <th></th>\n",
       "      <th>idx</th>\n",
       "      <th>word_count</th>\n",
       "      <th>punctuation_count</th>\n",
       "      <th>question_count</th>\n",
       "    </tr>\n",
       "  </thead>\n",
       "  <tbody>\n",
       "    <tr>\n",
       "      <th>idx</th>\n",
       "      <td>1.000000</td>\n",
       "      <td>-0.099505</td>\n",
       "      <td>-0.101816</td>\n",
       "      <td>-0.045965</td>\n",
       "    </tr>\n",
       "    <tr>\n",
       "      <th>word_count</th>\n",
       "      <td>-0.099505</td>\n",
       "      <td>1.000000</td>\n",
       "      <td>0.656503</td>\n",
       "      <td>0.215064</td>\n",
       "    </tr>\n",
       "    <tr>\n",
       "      <th>punctuation_count</th>\n",
       "      <td>-0.101816</td>\n",
       "      <td>0.656503</td>\n",
       "      <td>1.000000</td>\n",
       "      <td>0.151011</td>\n",
       "    </tr>\n",
       "    <tr>\n",
       "      <th>question_count</th>\n",
       "      <td>-0.045965</td>\n",
       "      <td>0.215064</td>\n",
       "      <td>0.151011</td>\n",
       "      <td>1.000000</td>\n",
       "    </tr>\n",
       "  </tbody>\n",
       "</table>\n",
       "</div>"
      ],
      "text/plain": [
       "                        idx  word_count  punctuation_count  question_count\n",
       "idx                1.000000   -0.099505          -0.101816       -0.045965\n",
       "word_count        -0.099505    1.000000           0.656503        0.215064\n",
       "punctuation_count -0.101816    0.656503           1.000000        0.151011\n",
       "question_count    -0.045965    0.215064           0.151011        1.000000"
      ]
     },
     "execution_count": 12,
     "metadata": {},
     "output_type": "execute_result"
    }
   ],
   "source": [
    "## compute correlation\n",
    "df.iloc[:, -4:].corr()"
   ]
  },
  {
   "cell_type": "markdown",
   "metadata": {},
   "source": [
    "## bag of words"
   ]
  },
  {
   "cell_type": "code",
   "execution_count": 13,
   "metadata": {},
   "outputs": [],
   "source": [
    "from sklearn.feature_extraction.text import CountVectorizer"
   ]
  },
  {
   "cell_type": "code",
   "execution_count": 14,
   "metadata": {},
   "outputs": [],
   "source": [
    "## define transformer (轉換器)\n",
    "vectorizer = CountVectorizer()\n",
    "count = vectorizer.fit_transform([' '.join(x) for x in sentences])"
   ]
  },
  {
   "cell_type": "code",
   "execution_count": 15,
   "metadata": {},
   "outputs": [
    {
     "data": {
      "text/plain": [
       "<6047x6176 sparse matrix of type '<class 'numpy.int64'>'\n",
       "\twith 46025 stored elements in Compressed Sparse Row format>"
      ]
     },
     "execution_count": 15,
     "metadata": {},
     "output_type": "execute_result"
    }
   ],
   "source": [
    "count"
   ]
  },
  {
   "cell_type": "code",
   "execution_count": 16,
   "metadata": {},
   "outputs": [],
   "source": [
    "## save data as pickle format\n",
    "with open(\"article_count\", \"wb\") as file:\n",
    "    pickle.dump([vectorizer, count], file)"
   ]
  },
  {
   "cell_type": "markdown",
   "metadata": {},
   "source": [
    "### select top 10 frequency of words"
   ]
  },
  {
   "cell_type": "code",
   "execution_count": 17,
   "metadata": {},
   "outputs": [],
   "source": [
    "## create a dictionary: id as key ; word as values\n",
    "id2word = {v:k for k, v in vectorizer.vocabulary_.items()}"
   ]
  },
  {
   "cell_type": "code",
   "execution_count": 18,
   "metadata": {},
   "outputs": [],
   "source": [
    "## columnwise sum: words frequency\n",
    "sum_ = np.array(count.sum(axis=0))[0]"
   ]
  },
  {
   "cell_type": "code",
   "execution_count": 19,
   "metadata": {},
   "outputs": [
    {
     "data": {
      "text/plain": [
       "[4963, 2047, 2434, 5090, 3566, 5422, 3262, 3733, 3454, 5263]"
      ]
     },
     "execution_count": 19,
     "metadata": {},
     "output_type": "execute_result"
    }
   ],
   "source": [
    "## top 10 frequency's wordID\n",
    "most_sum_id = sum_.argsort()[::-1][:10].tolist()\n",
    "most_sum_id"
   ]
  },
  {
   "cell_type": "code",
   "execution_count": 20,
   "metadata": {},
   "outputs": [
    {
     "data": {
      "text/plain": [
       "['無法', 'sap', 'user', '登入', '協助', '處理', '使用', '問題', '分機', '系統']"
      ]
     },
     "execution_count": 20,
     "metadata": {},
     "output_type": "execute_result"
    }
   ],
   "source": [
    "## print top 10 frequency's words\n",
    "features = [id2word[i] for i in most_sum_id]\n",
    "features"
   ]
  },
  {
   "cell_type": "code",
   "execution_count": 21,
   "metadata": {},
   "outputs": [
    {
     "data": {
      "text/html": [
       "<div>\n",
       "<style scoped>\n",
       "    .dataframe tbody tr th:only-of-type {\n",
       "        vertical-align: middle;\n",
       "    }\n",
       "\n",
       "    .dataframe tbody tr th {\n",
       "        vertical-align: top;\n",
       "    }\n",
       "\n",
       "    .dataframe thead th {\n",
       "        text-align: right;\n",
       "    }\n",
       "</style>\n",
       "<table border=\"1\" class=\"dataframe\">\n",
       "  <thead>\n",
       "    <tr style=\"text-align: right;\">\n",
       "      <th></th>\n",
       "      <th>無法</th>\n",
       "      <th>sap</th>\n",
       "      <th>user</th>\n",
       "      <th>登入</th>\n",
       "      <th>協助</th>\n",
       "      <th>處理</th>\n",
       "      <th>使用</th>\n",
       "      <th>問題</th>\n",
       "      <th>分機</th>\n",
       "      <th>系統</th>\n",
       "    </tr>\n",
       "  </thead>\n",
       "  <tbody>\n",
       "    <tr>\n",
       "      <th>0</th>\n",
       "      <td>1</td>\n",
       "      <td>0</td>\n",
       "      <td>0</td>\n",
       "      <td>1</td>\n",
       "      <td>1</td>\n",
       "      <td>0</td>\n",
       "      <td>0</td>\n",
       "      <td>1</td>\n",
       "      <td>0</td>\n",
       "      <td>1</td>\n",
       "    </tr>\n",
       "    <tr>\n",
       "      <th>1</th>\n",
       "      <td>1</td>\n",
       "      <td>0</td>\n",
       "      <td>0</td>\n",
       "      <td>1</td>\n",
       "      <td>1</td>\n",
       "      <td>0</td>\n",
       "      <td>0</td>\n",
       "      <td>1</td>\n",
       "      <td>0</td>\n",
       "      <td>1</td>\n",
       "    </tr>\n",
       "    <tr>\n",
       "      <th>2</th>\n",
       "      <td>0</td>\n",
       "      <td>0</td>\n",
       "      <td>0</td>\n",
       "      <td>0</td>\n",
       "      <td>0</td>\n",
       "      <td>0</td>\n",
       "      <td>0</td>\n",
       "      <td>0</td>\n",
       "      <td>0</td>\n",
       "      <td>0</td>\n",
       "    </tr>\n",
       "    <tr>\n",
       "      <th>3</th>\n",
       "      <td>0</td>\n",
       "      <td>0</td>\n",
       "      <td>0</td>\n",
       "      <td>0</td>\n",
       "      <td>0</td>\n",
       "      <td>0</td>\n",
       "      <td>0</td>\n",
       "      <td>0</td>\n",
       "      <td>0</td>\n",
       "      <td>0</td>\n",
       "    </tr>\n",
       "    <tr>\n",
       "      <th>4</th>\n",
       "      <td>1</td>\n",
       "      <td>0</td>\n",
       "      <td>0</td>\n",
       "      <td>1</td>\n",
       "      <td>0</td>\n",
       "      <td>0</td>\n",
       "      <td>0</td>\n",
       "      <td>0</td>\n",
       "      <td>0</td>\n",
       "      <td>0</td>\n",
       "    </tr>\n",
       "  </tbody>\n",
       "</table>\n",
       "</div>"
      ],
      "text/plain": [
       "   無法  sap  user  登入  協助  處理  使用  問題  分機  系統\n",
       "0   1    0     0   1   1   0   0   1   0   1\n",
       "1   1    0     0   1   1   0   0   1   0   1\n",
       "2   0    0     0   0   0   0   0   0   0   0\n",
       "3   0    0     0   0   0   0   0   0   0   0\n",
       "4   1    0     0   1   0   0   0   0   0   0"
      ]
     },
     "execution_count": 21,
     "metadata": {},
     "output_type": "execute_result"
    }
   ],
   "source": [
    "## print the data\n",
    "data = pd.DataFrame(count[df.idx.values,:][:,most_sum_id].toarray(), columns=features)\n",
    "data[:5]"
   ]
  },
  {
   "cell_type": "code",
   "execution_count": 22,
   "metadata": {},
   "outputs": [
    {
     "data": {
      "text/plain": [
       "'無法透過 CAMP 上SIT 系統 icon 的連接登入. 可否協助看一下這問題'"
      ]
     },
     "execution_count": 22,
     "metadata": {},
     "output_type": "execute_result"
    }
   ],
   "source": [
    "df.iloc[0].content"
   ]
  },
  {
   "cell_type": "code",
   "execution_count": 23,
   "metadata": {},
   "outputs": [
    {
     "data": {
      "text/html": [
       "<div>\n",
       "<style scoped>\n",
       "    .dataframe tbody tr th:only-of-type {\n",
       "        vertical-align: middle;\n",
       "    }\n",
       "\n",
       "    .dataframe tbody tr th {\n",
       "        vertical-align: top;\n",
       "    }\n",
       "\n",
       "    .dataframe thead th {\n",
       "        text-align: right;\n",
       "    }\n",
       "</style>\n",
       "<table border=\"1\" class=\"dataframe\">\n",
       "  <thead>\n",
       "    <tr style=\"text-align: right;\">\n",
       "      <th></th>\n",
       "      <th>無法</th>\n",
       "      <th>sap</th>\n",
       "      <th>user</th>\n",
       "      <th>登入</th>\n",
       "      <th>協助</th>\n",
       "      <th>處理</th>\n",
       "      <th>使用</th>\n",
       "      <th>問題</th>\n",
       "      <th>分機</th>\n",
       "      <th>系統</th>\n",
       "    </tr>\n",
       "  </thead>\n",
       "  <tbody>\n",
       "    <tr>\n",
       "      <th>無法</th>\n",
       "      <td>1.000000</td>\n",
       "      <td>0.107298</td>\n",
       "      <td>-0.055462</td>\n",
       "      <td>0.350984</td>\n",
       "      <td>-0.000922</td>\n",
       "      <td>0.012020</td>\n",
       "      <td>0.161743</td>\n",
       "      <td>-0.097215</td>\n",
       "      <td>0.038422</td>\n",
       "      <td>0.070975</td>\n",
       "    </tr>\n",
       "    <tr>\n",
       "      <th>sap</th>\n",
       "      <td>0.107298</td>\n",
       "      <td>1.000000</td>\n",
       "      <td>-0.007743</td>\n",
       "      <td>0.175514</td>\n",
       "      <td>-0.001514</td>\n",
       "      <td>0.009000</td>\n",
       "      <td>0.038640</td>\n",
       "      <td>-0.031160</td>\n",
       "      <td>-0.002014</td>\n",
       "      <td>0.069977</td>\n",
       "    </tr>\n",
       "    <tr>\n",
       "      <th>user</th>\n",
       "      <td>-0.055462</td>\n",
       "      <td>-0.007743</td>\n",
       "      <td>1.000000</td>\n",
       "      <td>0.009306</td>\n",
       "      <td>0.302069</td>\n",
       "      <td>0.312052</td>\n",
       "      <td>0.073052</td>\n",
       "      <td>0.037747</td>\n",
       "      <td>0.078424</td>\n",
       "      <td>0.022229</td>\n",
       "    </tr>\n",
       "    <tr>\n",
       "      <th>登入</th>\n",
       "      <td>0.350984</td>\n",
       "      <td>0.175514</td>\n",
       "      <td>0.009306</td>\n",
       "      <td>1.000000</td>\n",
       "      <td>-0.009539</td>\n",
       "      <td>-0.010335</td>\n",
       "      <td>0.012937</td>\n",
       "      <td>-0.066555</td>\n",
       "      <td>0.004950</td>\n",
       "      <td>0.061949</td>\n",
       "    </tr>\n",
       "    <tr>\n",
       "      <th>協助</th>\n",
       "      <td>-0.000922</td>\n",
       "      <td>-0.001514</td>\n",
       "      <td>0.302069</td>\n",
       "      <td>-0.009539</td>\n",
       "      <td>1.000000</td>\n",
       "      <td>0.751280</td>\n",
       "      <td>0.130673</td>\n",
       "      <td>0.098966</td>\n",
       "      <td>-0.016344</td>\n",
       "      <td>0.106479</td>\n",
       "    </tr>\n",
       "    <tr>\n",
       "      <th>處理</th>\n",
       "      <td>0.012020</td>\n",
       "      <td>0.009000</td>\n",
       "      <td>0.312052</td>\n",
       "      <td>-0.010335</td>\n",
       "      <td>0.751280</td>\n",
       "      <td>1.000000</td>\n",
       "      <td>0.134291</td>\n",
       "      <td>0.084447</td>\n",
       "      <td>-0.010419</td>\n",
       "      <td>0.123097</td>\n",
       "    </tr>\n",
       "    <tr>\n",
       "      <th>使用</th>\n",
       "      <td>0.161743</td>\n",
       "      <td>0.038640</td>\n",
       "      <td>0.073052</td>\n",
       "      <td>0.012937</td>\n",
       "      <td>0.130673</td>\n",
       "      <td>0.134291</td>\n",
       "      <td>1.000000</td>\n",
       "      <td>-0.005337</td>\n",
       "      <td>0.014288</td>\n",
       "      <td>0.140883</td>\n",
       "    </tr>\n",
       "    <tr>\n",
       "      <th>問題</th>\n",
       "      <td>-0.097215</td>\n",
       "      <td>-0.031160</td>\n",
       "      <td>0.037747</td>\n",
       "      <td>-0.066555</td>\n",
       "      <td>0.098966</td>\n",
       "      <td>0.084447</td>\n",
       "      <td>-0.005337</td>\n",
       "      <td>1.000000</td>\n",
       "      <td>0.052613</td>\n",
       "      <td>0.029043</td>\n",
       "    </tr>\n",
       "    <tr>\n",
       "      <th>分機</th>\n",
       "      <td>0.038422</td>\n",
       "      <td>-0.002014</td>\n",
       "      <td>0.078424</td>\n",
       "      <td>0.004950</td>\n",
       "      <td>-0.016344</td>\n",
       "      <td>-0.010419</td>\n",
       "      <td>0.014288</td>\n",
       "      <td>0.052613</td>\n",
       "      <td>1.000000</td>\n",
       "      <td>-0.018860</td>\n",
       "    </tr>\n",
       "    <tr>\n",
       "      <th>系統</th>\n",
       "      <td>0.070975</td>\n",
       "      <td>0.069977</td>\n",
       "      <td>0.022229</td>\n",
       "      <td>0.061949</td>\n",
       "      <td>0.106479</td>\n",
       "      <td>0.123097</td>\n",
       "      <td>0.140883</td>\n",
       "      <td>0.029043</td>\n",
       "      <td>-0.018860</td>\n",
       "      <td>1.000000</td>\n",
       "    </tr>\n",
       "  </tbody>\n",
       "</table>\n",
       "</div>"
      ],
      "text/plain": [
       "            無法       sap      user        登入        協助        處理        使用  \\\n",
       "無法    1.000000  0.107298 -0.055462  0.350984 -0.000922  0.012020  0.161743   \n",
       "sap   0.107298  1.000000 -0.007743  0.175514 -0.001514  0.009000  0.038640   \n",
       "user -0.055462 -0.007743  1.000000  0.009306  0.302069  0.312052  0.073052   \n",
       "登入    0.350984  0.175514  0.009306  1.000000 -0.009539 -0.010335  0.012937   \n",
       "協助   -0.000922 -0.001514  0.302069 -0.009539  1.000000  0.751280  0.130673   \n",
       "處理    0.012020  0.009000  0.312052 -0.010335  0.751280  1.000000  0.134291   \n",
       "使用    0.161743  0.038640  0.073052  0.012937  0.130673  0.134291  1.000000   \n",
       "問題   -0.097215 -0.031160  0.037747 -0.066555  0.098966  0.084447 -0.005337   \n",
       "分機    0.038422 -0.002014  0.078424  0.004950 -0.016344 -0.010419  0.014288   \n",
       "系統    0.070975  0.069977  0.022229  0.061949  0.106479  0.123097  0.140883   \n",
       "\n",
       "            問題        分機        系統  \n",
       "無法   -0.097215  0.038422  0.070975  \n",
       "sap  -0.031160 -0.002014  0.069977  \n",
       "user  0.037747  0.078424  0.022229  \n",
       "登入   -0.066555  0.004950  0.061949  \n",
       "協助    0.098966 -0.016344  0.106479  \n",
       "處理    0.084447 -0.010419  0.123097  \n",
       "使用   -0.005337  0.014288  0.140883  \n",
       "問題    1.000000  0.052613  0.029043  \n",
       "分機    0.052613  1.000000 -0.018860  \n",
       "系統    0.029043 -0.018860  1.000000  "
      ]
     },
     "execution_count": 23,
     "metadata": {},
     "output_type": "execute_result"
    }
   ],
   "source": [
    "## compute correlation\n",
    "data = pd.concat([df.type, data], axis=1)\n",
    "data.corr()"
   ]
  },
  {
   "cell_type": "markdown",
   "metadata": {},
   "source": [
    "# TF-IDF"
   ]
  },
  {
   "cell_type": "code",
   "execution_count": 24,
   "metadata": {},
   "outputs": [],
   "source": [
    "from sklearn.feature_extraction.text import TfidfVectorizer"
   ]
  },
  {
   "cell_type": "code",
   "execution_count": 25,
   "metadata": {},
   "outputs": [],
   "source": [
    "## define transformer (轉換器)\n",
    "vectorizer = TfidfVectorizer(norm=None) ## do not do normalize\n",
    "tfidf = vectorizer.fit_transform([' '.join(x) for x in sentences])"
   ]
  },
  {
   "cell_type": "code",
   "execution_count": 26,
   "metadata": {},
   "outputs": [],
   "source": [
    "## save data as pickle format\n",
    "with open(\"article_tfidf\", \"wb\") as file:\n",
    "    pickle.dump([vectorizer, tfidf], file)"
   ]
  },
  {
   "cell_type": "markdown",
   "metadata": {},
   "source": [
    "### select top 10 average tf-idf of words"
   ]
  },
  {
   "cell_type": "code",
   "execution_count": 27,
   "metadata": {},
   "outputs": [],
   "source": [
    "## create a dictionary: id as key ; word as values\n",
    "id2word = {v:k for k, v in vectorizer.vocabulary_.items()}"
   ]
  },
  {
   "cell_type": "code",
   "execution_count": 28,
   "metadata": {},
   "outputs": [],
   "source": [
    "## columnwise average: words tf-idf\n",
    "avg = tfidf.sum(axis=0) / (tfidf!=0).sum(axis=0)\n",
    "\n",
    "## set df < 20 as 0\n",
    "avg[(tfidf!=0).sum(axis=0)<20] = 0"
   ]
  },
  {
   "cell_type": "code",
   "execution_count": 29,
   "metadata": {},
   "outputs": [],
   "source": [
    "avg = np.array(avg)[0]"
   ]
  },
  {
   "cell_type": "code",
   "execution_count": 30,
   "metadata": {},
   "outputs": [
    {
     "data": {
      "text/plain": [
       "[1964, 4527, 3193, 1246, 631, 4018, 6145, 4979, 2419, 858]"
      ]
     },
     "execution_count": 30,
     "metadata": {},
     "output_type": "execute_result"
    }
   ],
   "source": [
    "## top 10 tfidf's wordID\n",
    "most_avg_id = avg.argsort()[::-1][:10].tolist()\n",
    "most_avg_id"
   ]
  },
  {
   "cell_type": "code",
   "execution_count": 31,
   "metadata": {},
   "outputs": [
    {
     "data": {
      "text/plain": [
       "['request', '数量', '代理人', 'item', 'cs12', '專案', '驗收', '版本', 'upload', 'ec']"
      ]
     },
     "execution_count": 31,
     "metadata": {},
     "output_type": "execute_result"
    }
   ],
   "source": [
    "## print top 10 tf-idf's words\n",
    "features = [id2word[i] for i in most_avg_id]\n",
    "features"
   ]
  },
  {
   "cell_type": "code",
   "execution_count": 32,
   "metadata": {},
   "outputs": [
    {
     "data": {
      "text/html": [
       "<div>\n",
       "<style scoped>\n",
       "    .dataframe tbody tr th:only-of-type {\n",
       "        vertical-align: middle;\n",
       "    }\n",
       "\n",
       "    .dataframe tbody tr th {\n",
       "        vertical-align: top;\n",
       "    }\n",
       "\n",
       "    .dataframe thead th {\n",
       "        text-align: right;\n",
       "    }\n",
       "</style>\n",
       "<table border=\"1\" class=\"dataframe\">\n",
       "  <thead>\n",
       "    <tr style=\"text-align: right;\">\n",
       "      <th></th>\n",
       "      <th>request</th>\n",
       "      <th>数量</th>\n",
       "      <th>代理人</th>\n",
       "      <th>item</th>\n",
       "      <th>cs12</th>\n",
       "      <th>專案</th>\n",
       "      <th>驗收</th>\n",
       "      <th>版本</th>\n",
       "      <th>upload</th>\n",
       "      <th>ec</th>\n",
       "    </tr>\n",
       "  </thead>\n",
       "  <tbody>\n",
       "    <tr>\n",
       "      <th>0</th>\n",
       "      <td>0.0</td>\n",
       "      <td>0.0</td>\n",
       "      <td>0.0</td>\n",
       "      <td>0.0</td>\n",
       "      <td>0.0</td>\n",
       "      <td>0.0</td>\n",
       "      <td>0.0</td>\n",
       "      <td>0.0</td>\n",
       "      <td>0.0</td>\n",
       "      <td>0.0</td>\n",
       "    </tr>\n",
       "    <tr>\n",
       "      <th>1</th>\n",
       "      <td>0.0</td>\n",
       "      <td>0.0</td>\n",
       "      <td>0.0</td>\n",
       "      <td>0.0</td>\n",
       "      <td>0.0</td>\n",
       "      <td>0.0</td>\n",
       "      <td>0.0</td>\n",
       "      <td>0.0</td>\n",
       "      <td>0.0</td>\n",
       "      <td>0.0</td>\n",
       "    </tr>\n",
       "    <tr>\n",
       "      <th>2</th>\n",
       "      <td>0.0</td>\n",
       "      <td>0.0</td>\n",
       "      <td>0.0</td>\n",
       "      <td>0.0</td>\n",
       "      <td>0.0</td>\n",
       "      <td>0.0</td>\n",
       "      <td>0.0</td>\n",
       "      <td>0.0</td>\n",
       "      <td>0.0</td>\n",
       "      <td>0.0</td>\n",
       "    </tr>\n",
       "    <tr>\n",
       "      <th>3</th>\n",
       "      <td>0.0</td>\n",
       "      <td>0.0</td>\n",
       "      <td>0.0</td>\n",
       "      <td>0.0</td>\n",
       "      <td>0.0</td>\n",
       "      <td>0.0</td>\n",
       "      <td>0.0</td>\n",
       "      <td>0.0</td>\n",
       "      <td>0.0</td>\n",
       "      <td>0.0</td>\n",
       "    </tr>\n",
       "    <tr>\n",
       "      <th>4</th>\n",
       "      <td>0.0</td>\n",
       "      <td>0.0</td>\n",
       "      <td>0.0</td>\n",
       "      <td>0.0</td>\n",
       "      <td>0.0</td>\n",
       "      <td>0.0</td>\n",
       "      <td>0.0</td>\n",
       "      <td>0.0</td>\n",
       "      <td>0.0</td>\n",
       "      <td>0.0</td>\n",
       "    </tr>\n",
       "  </tbody>\n",
       "</table>\n",
       "</div>"
      ],
      "text/plain": [
       "   request   数量  代理人  item  cs12   專案   驗收   版本  upload   ec\n",
       "0      0.0  0.0  0.0   0.0   0.0  0.0  0.0  0.0     0.0  0.0\n",
       "1      0.0  0.0  0.0   0.0   0.0  0.0  0.0  0.0     0.0  0.0\n",
       "2      0.0  0.0  0.0   0.0   0.0  0.0  0.0  0.0     0.0  0.0\n",
       "3      0.0  0.0  0.0   0.0   0.0  0.0  0.0  0.0     0.0  0.0\n",
       "4      0.0  0.0  0.0   0.0   0.0  0.0  0.0  0.0     0.0  0.0"
      ]
     },
     "execution_count": 32,
     "metadata": {},
     "output_type": "execute_result"
    }
   ],
   "source": [
    "## print the data\n",
    "data = pd.DataFrame(tfidf[df.idx.values,:][:,most_avg_id].toarray(), columns=features)\n",
    "data[:5]"
   ]
  },
  {
   "cell_type": "code",
   "execution_count": 34,
   "metadata": {},
   "outputs": [
    {
     "data": {
      "text/html": [
       "<div>\n",
       "<style scoped>\n",
       "    .dataframe tbody tr th:only-of-type {\n",
       "        vertical-align: middle;\n",
       "    }\n",
       "\n",
       "    .dataframe tbody tr th {\n",
       "        vertical-align: top;\n",
       "    }\n",
       "\n",
       "    .dataframe thead th {\n",
       "        text-align: right;\n",
       "    }\n",
       "</style>\n",
       "<table border=\"1\" class=\"dataframe\">\n",
       "  <thead>\n",
       "    <tr style=\"text-align: right;\">\n",
       "      <th></th>\n",
       "      <th>request</th>\n",
       "      <th>数量</th>\n",
       "      <th>代理人</th>\n",
       "      <th>item</th>\n",
       "      <th>cs12</th>\n",
       "      <th>專案</th>\n",
       "      <th>驗收</th>\n",
       "      <th>版本</th>\n",
       "      <th>upload</th>\n",
       "      <th>ec</th>\n",
       "    </tr>\n",
       "  </thead>\n",
       "  <tbody>\n",
       "    <tr>\n",
       "      <th>request</th>\n",
       "      <td>1.000000</td>\n",
       "      <td>-0.002482</td>\n",
       "      <td>-0.002975</td>\n",
       "      <td>-0.003058</td>\n",
       "      <td>-0.001895</td>\n",
       "      <td>-0.002633</td>\n",
       "      <td>-0.002984</td>\n",
       "      <td>-0.002611</td>\n",
       "      <td>-0.002436</td>\n",
       "      <td>-0.004386</td>\n",
       "    </tr>\n",
       "    <tr>\n",
       "      <th>数量</th>\n",
       "      <td>-0.002482</td>\n",
       "      <td>1.000000</td>\n",
       "      <td>-0.002994</td>\n",
       "      <td>0.035937</td>\n",
       "      <td>0.014522</td>\n",
       "      <td>-0.002650</td>\n",
       "      <td>-0.003003</td>\n",
       "      <td>-0.002628</td>\n",
       "      <td>-0.002452</td>\n",
       "      <td>0.100154</td>\n",
       "    </tr>\n",
       "    <tr>\n",
       "      <th>代理人</th>\n",
       "      <td>-0.002975</td>\n",
       "      <td>-0.002994</td>\n",
       "      <td>1.000000</td>\n",
       "      <td>-0.003688</td>\n",
       "      <td>-0.002286</td>\n",
       "      <td>-0.003176</td>\n",
       "      <td>-0.003599</td>\n",
       "      <td>-0.003149</td>\n",
       "      <td>-0.002939</td>\n",
       "      <td>-0.005290</td>\n",
       "    </tr>\n",
       "    <tr>\n",
       "      <th>item</th>\n",
       "      <td>-0.003058</td>\n",
       "      <td>0.035937</td>\n",
       "      <td>-0.003688</td>\n",
       "      <td>1.000000</td>\n",
       "      <td>-0.002349</td>\n",
       "      <td>-0.003265</td>\n",
       "      <td>-0.003700</td>\n",
       "      <td>-0.003237</td>\n",
       "      <td>-0.003021</td>\n",
       "      <td>0.002516</td>\n",
       "    </tr>\n",
       "    <tr>\n",
       "      <th>cs12</th>\n",
       "      <td>-0.001895</td>\n",
       "      <td>0.014522</td>\n",
       "      <td>-0.002286</td>\n",
       "      <td>-0.002349</td>\n",
       "      <td>1.000000</td>\n",
       "      <td>-0.002023</td>\n",
       "      <td>-0.002293</td>\n",
       "      <td>-0.002006</td>\n",
       "      <td>-0.001872</td>\n",
       "      <td>0.043523</td>\n",
       "    </tr>\n",
       "    <tr>\n",
       "      <th>專案</th>\n",
       "      <td>-0.002633</td>\n",
       "      <td>-0.002650</td>\n",
       "      <td>-0.003176</td>\n",
       "      <td>-0.003265</td>\n",
       "      <td>-0.002023</td>\n",
       "      <td>1.000000</td>\n",
       "      <td>-0.003186</td>\n",
       "      <td>-0.002788</td>\n",
       "      <td>-0.002601</td>\n",
       "      <td>-0.004683</td>\n",
       "    </tr>\n",
       "    <tr>\n",
       "      <th>驗收</th>\n",
       "      <td>-0.002984</td>\n",
       "      <td>-0.003003</td>\n",
       "      <td>-0.003599</td>\n",
       "      <td>-0.003700</td>\n",
       "      <td>-0.002293</td>\n",
       "      <td>-0.003186</td>\n",
       "      <td>1.000000</td>\n",
       "      <td>-0.003159</td>\n",
       "      <td>-0.002948</td>\n",
       "      <td>-0.005307</td>\n",
       "    </tr>\n",
       "    <tr>\n",
       "      <th>版本</th>\n",
       "      <td>-0.002611</td>\n",
       "      <td>-0.002628</td>\n",
       "      <td>-0.003149</td>\n",
       "      <td>-0.003237</td>\n",
       "      <td>-0.002006</td>\n",
       "      <td>-0.002788</td>\n",
       "      <td>-0.003159</td>\n",
       "      <td>1.000000</td>\n",
       "      <td>-0.002579</td>\n",
       "      <td>-0.004643</td>\n",
       "    </tr>\n",
       "    <tr>\n",
       "      <th>upload</th>\n",
       "      <td>-0.002436</td>\n",
       "      <td>-0.002452</td>\n",
       "      <td>-0.002939</td>\n",
       "      <td>-0.003021</td>\n",
       "      <td>-0.001872</td>\n",
       "      <td>-0.002601</td>\n",
       "      <td>-0.002948</td>\n",
       "      <td>-0.002579</td>\n",
       "      <td>1.000000</td>\n",
       "      <td>-0.004333</td>\n",
       "    </tr>\n",
       "    <tr>\n",
       "      <th>ec</th>\n",
       "      <td>-0.004386</td>\n",
       "      <td>0.100154</td>\n",
       "      <td>-0.005290</td>\n",
       "      <td>0.002516</td>\n",
       "      <td>0.043523</td>\n",
       "      <td>-0.004683</td>\n",
       "      <td>-0.005307</td>\n",
       "      <td>-0.004643</td>\n",
       "      <td>-0.004333</td>\n",
       "      <td>1.000000</td>\n",
       "    </tr>\n",
       "  </tbody>\n",
       "</table>\n",
       "</div>"
      ],
      "text/plain": [
       "          request        数量       代理人      item      cs12        專案        驗收  \\\n",
       "request  1.000000 -0.002482 -0.002975 -0.003058 -0.001895 -0.002633 -0.002984   \n",
       "数量      -0.002482  1.000000 -0.002994  0.035937  0.014522 -0.002650 -0.003003   \n",
       "代理人     -0.002975 -0.002994  1.000000 -0.003688 -0.002286 -0.003176 -0.003599   \n",
       "item    -0.003058  0.035937 -0.003688  1.000000 -0.002349 -0.003265 -0.003700   \n",
       "cs12    -0.001895  0.014522 -0.002286 -0.002349  1.000000 -0.002023 -0.002293   \n",
       "專案      -0.002633 -0.002650 -0.003176 -0.003265 -0.002023  1.000000 -0.003186   \n",
       "驗收      -0.002984 -0.003003 -0.003599 -0.003700 -0.002293 -0.003186  1.000000   \n",
       "版本      -0.002611 -0.002628 -0.003149 -0.003237 -0.002006 -0.002788 -0.003159   \n",
       "upload  -0.002436 -0.002452 -0.002939 -0.003021 -0.001872 -0.002601 -0.002948   \n",
       "ec      -0.004386  0.100154 -0.005290  0.002516  0.043523 -0.004683 -0.005307   \n",
       "\n",
       "               版本    upload        ec  \n",
       "request -0.002611 -0.002436 -0.004386  \n",
       "数量      -0.002628 -0.002452  0.100154  \n",
       "代理人     -0.003149 -0.002939 -0.005290  \n",
       "item    -0.003237 -0.003021  0.002516  \n",
       "cs12    -0.002006 -0.001872  0.043523  \n",
       "專案      -0.002788 -0.002601 -0.004683  \n",
       "驗收      -0.003159 -0.002948 -0.005307  \n",
       "版本       1.000000 -0.002579 -0.004643  \n",
       "upload  -0.002579  1.000000 -0.004333  \n",
       "ec      -0.004643 -0.004333  1.000000  "
      ]
     },
     "execution_count": 34,
     "metadata": {},
     "output_type": "execute_result"
    }
   ],
   "source": [
    "## compute correlation\n",
    "data = pd.concat([df.type, data], axis=1)\n",
    "data.corr()"
   ]
  },
  {
   "cell_type": "code",
   "execution_count": null,
   "metadata": {},
   "outputs": [],
   "source": []
  }
 ],
 "metadata": {
  "kernelspec": {
   "display_name": "Python 3",
   "language": "python",
   "name": "python3"
  },
  "language_info": {
   "codemirror_mode": {
    "name": "ipython",
    "version": 3
   },
   "file_extension": ".py",
   "mimetype": "text/x-python",
   "name": "python",
   "nbconvert_exporter": "python",
   "pygments_lexer": "ipython3",
   "version": "3.6.6"
  }
 },
 "nbformat": 4,
 "nbformat_minor": 2
}
