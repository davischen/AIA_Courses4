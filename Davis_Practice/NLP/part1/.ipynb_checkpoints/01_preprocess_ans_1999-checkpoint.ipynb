{
 "cells": [
  {
   "cell_type": "markdown",
   "metadata": {},
   "source": [
    "# data preprocess and words cut"
   ]
  },
  {
   "cell_type": "code",
   "execution_count": 1,
   "metadata": {},
   "outputs": [],
   "source": [
    "import pandas as pd\n",
    "import re\n",
    "import os\n",
    "import jieba\n",
    "import jieba.posseg as pseg\n",
    "import pickle\n",
    "import numpy as np\n",
    "from tqdm import tqdm_notebook"
   ]
  },
  {
   "cell_type": "code",
   "execution_count": 2,
   "metadata": {},
   "outputs": [
    {
     "data": {
      "text/plain": [
       "'/home/jovyan/Davis_Practice/NLP'"
      ]
     },
     "execution_count": 2,
     "metadata": {},
     "output_type": "execute_result"
    }
   ],
   "source": [
    "## turn back to main directory\n",
    "os.chdir(\"../\")\n",
    "os.getcwd()"
   ]
  },
  {
   "cell_type": "markdown",
   "metadata": {},
   "source": [
    "## data overview"
   ]
  },
  {
   "cell_type": "code",
   "execution_count": 3,
   "metadata": {},
   "outputs": [],
   "source": [
    "article = pd.read_csv('data/1999_All.csv')"
   ]
  },
  {
   "cell_type": "code",
   "execution_count": 4,
   "metadata": {},
   "outputs": [
    {
     "data": {
      "text/html": [
       "<div>\n",
       "<style scoped>\n",
       "    .dataframe tbody tr th:only-of-type {\n",
       "        vertical-align: middle;\n",
       "    }\n",
       "\n",
       "    .dataframe tbody tr th {\n",
       "        vertical-align: top;\n",
       "    }\n",
       "\n",
       "    .dataframe thead th {\n",
       "        text-align: right;\n",
       "    }\n",
       "</style>\n",
       "<table border=\"1\" class=\"dataframe\">\n",
       "  <thead>\n",
       "    <tr style=\"text-align: right;\">\n",
       "      <th></th>\n",
       "      <th>APP單號</th>\n",
       "      <th>開單日期</th>\n",
       "      <th>申請者</th>\n",
       "      <th>Unnamed: 3</th>\n",
       "      <th>問題公司別</th>\n",
       "      <th>需求類型</th>\n",
       "      <th>項目代號</th>\n",
       "      <th>問題細類</th>\n",
       "      <th>問題編號</th>\n",
       "      <th>描述</th>\n",
       "      <th>優先度</th>\n",
       "      <th>處理者</th>\n",
       "      <th>Unnamed: 12</th>\n",
       "      <th>處理過程</th>\n",
       "      <th>狀態</th>\n",
       "    </tr>\n",
       "  </thead>\n",
       "  <tbody>\n",
       "    <tr>\n",
       "      <th>0</th>\n",
       "      <td>1800000321</td>\n",
       "      <td>20180213</td>\n",
       "      <td>10403005</td>\n",
       "      <td>徐清和</td>\n",
       "      <td>QCI</td>\n",
       "      <td>CAMP</td>\n",
       "      <td>CAMP</td>\n",
       "      <td>CAMP</td>\n",
       "      <td>CAMP</td>\n",
       "      <td>無法透過 CAMP 上SIT 系統 icon 的連接登入. 可否協助看一下這問題</td>\n",
       "      <td>一般</td>\n",
       "      <td>93021608</td>\n",
       "      <td>陳明仁</td>\n",
       "      <td>NaN</td>\n",
       "      <td>已轉單</td>\n",
       "    </tr>\n",
       "    <tr>\n",
       "      <th>1</th>\n",
       "      <td>1800000321</td>\n",
       "      <td>20180213</td>\n",
       "      <td>10403005</td>\n",
       "      <td>徐清和</td>\n",
       "      <td>QCI</td>\n",
       "      <td>CAMP</td>\n",
       "      <td>CAMP</td>\n",
       "      <td>CAMP</td>\n",
       "      <td>CAMP</td>\n",
       "      <td>無法透過 CAMP 上SIT 系統 icon 的連接登入. 可否協助看一下這問題</td>\n",
       "      <td>一般</td>\n",
       "      <td>10301002</td>\n",
       "      <td>蔡維倫</td>\n",
       "      <td>經確認後不是 MIS 開發的系統，初步判斷可能是網路設定問題，建議重新建立問題單或聯繫 Re...</td>\n",
       "      <td>已處理</td>\n",
       "    </tr>\n",
       "    <tr>\n",
       "      <th>2</th>\n",
       "      <td>1600001420</td>\n",
       "      <td>20160604</td>\n",
       "      <td>90061819</td>\n",
       "      <td>邱慧玲</td>\n",
       "      <td>QCI</td>\n",
       "      <td>CAMP</td>\n",
       "      <td>CAMP</td>\n",
       "      <td>CAMP</td>\n",
       "      <td>CAMP</td>\n",
       "      <td>收到CAMP 簽核表單，開頭CAF_QRDC，不清楚這是什麼簽核表單</td>\n",
       "      <td>一般</td>\n",
       "      <td>87042201</td>\n",
       "      <td>李垚坤</td>\n",
       "      <td>CAF_QRDC 是由 SDA 所開出的儀校異常處理單, 是在 CAMP 矯正措施系統上的單據.</td>\n",
       "      <td>已處理</td>\n",
       "    </tr>\n",
       "    <tr>\n",
       "      <th>3</th>\n",
       "      <td>1600001420</td>\n",
       "      <td>20160604</td>\n",
       "      <td>90061819</td>\n",
       "      <td>邱慧玲</td>\n",
       "      <td>QCI</td>\n",
       "      <td>CAMP</td>\n",
       "      <td>CAMP</td>\n",
       "      <td>CAMP</td>\n",
       "      <td>CAMP</td>\n",
       "      <td>收到CAMP 簽核表單，開頭CAF_QRDC，不清楚這是什麼簽核表單</td>\n",
       "      <td>一般</td>\n",
       "      <td>93031513</td>\n",
       "      <td>金秋香</td>\n",
       "      <td>NaN</td>\n",
       "      <td>已轉單</td>\n",
       "    </tr>\n",
       "    <tr>\n",
       "      <th>4</th>\n",
       "      <td>1500003557</td>\n",
       "      <td>20151228</td>\n",
       "      <td>96122401</td>\n",
       "      <td>劉威良</td>\n",
       "      <td>QCI</td>\n",
       "      <td>CAMP</td>\n",
       "      <td>CAMP</td>\n",
       "      <td>CAMP</td>\n",
       "      <td>CAMP</td>\n",
       "      <td>無法會員登入,顯示訊息:無效的帳號或使用者不存在。帳號:96122401</td>\n",
       "      <td>一般</td>\n",
       "      <td>93031513</td>\n",
       "      <td>金秋香</td>\n",
       "      <td>申請者告知帳密已正確</td>\n",
       "      <td>已處理</td>\n",
       "    </tr>\n",
       "  </tbody>\n",
       "</table>\n",
       "</div>"
      ],
      "text/plain": [
       "        APP單號      開單日期       申請者 Unnamed: 3 問題公司別  需求類型  項目代號  問題細類  問題編號  \\\n",
       "0  1800000321  20180213  10403005        徐清和   QCI  CAMP  CAMP  CAMP  CAMP   \n",
       "1  1800000321  20180213  10403005        徐清和   QCI  CAMP  CAMP  CAMP  CAMP   \n",
       "2  1600001420  20160604  90061819        邱慧玲   QCI  CAMP  CAMP  CAMP  CAMP   \n",
       "3  1600001420  20160604  90061819        邱慧玲   QCI  CAMP  CAMP  CAMP  CAMP   \n",
       "4  1500003557  20151228  96122401        劉威良   QCI  CAMP  CAMP  CAMP  CAMP   \n",
       "\n",
       "                                         描述 優先度       處理者 Unnamed: 12  \\\n",
       "0  無法透過 CAMP 上SIT 系統 icon 的連接登入. 可否協助看一下這問題  一般  93021608         陳明仁   \n",
       "1  無法透過 CAMP 上SIT 系統 icon 的連接登入. 可否協助看一下這問題  一般  10301002         蔡維倫   \n",
       "2        收到CAMP 簽核表單，開頭CAF_QRDC，不清楚這是什麼簽核表單  一般  87042201         李垚坤   \n",
       "3        收到CAMP 簽核表單，開頭CAF_QRDC，不清楚這是什麼簽核表單  一般  93031513         金秋香   \n",
       "4      無法會員登入,顯示訊息:無效的帳號或使用者不存在。帳號:96122401  一般  93031513         金秋香   \n",
       "\n",
       "                                                處理過程   狀態  \n",
       "0                                                NaN  已轉單  \n",
       "1  經確認後不是 MIS 開發的系統，初步判斷可能是網路設定問題，建議重新建立問題單或聯繫 Re...  已處理  \n",
       "2   CAF_QRDC 是由 SDA 所開出的儀校異常處理單, 是在 CAMP 矯正措施系統上的單據.  已處理  \n",
       "3                                                NaN  已轉單  \n",
       "4                                         申請者告知帳密已正確  已處理  "
      ]
     },
     "execution_count": 4,
     "metadata": {},
     "output_type": "execute_result"
    }
   ],
   "source": [
    "article.head()"
   ]
  },
  {
   "cell_type": "code",
   "execution_count": 5,
   "metadata": {},
   "outputs": [],
   "source": [
    "## filter rules\n",
    "article['content'] = article['content'].str.replace('https?:\\/\\/\\S*', '')\n",
    "article['content'] = article['content'].replace('', np.nan)"
   ]
  },
  {
   "cell_type": "code",
   "execution_count": 6,
   "metadata": {},
   "outputs": [],
   "source": [
    "## remove data\n",
    "article = article.dropna()\n",
    "article = article.reset_index(drop=True)\n",
    "article['idx'] = article.index"
   ]
  },
  {
   "cell_type": "code",
   "execution_count": 7,
   "metadata": {},
   "outputs": [],
   "source": [
    "article.to_csv('data/1999_preprocessed.csv', index=False)"
   ]
  },
  {
   "cell_type": "markdown",
   "metadata": {},
   "source": [
    "# jieba"
   ]
  },
  {
   "cell_type": "markdown",
   "metadata": {},
   "source": [
    "## cut word"
   ]
  },
  {
   "cell_type": "code",
   "execution_count": 8,
   "metadata": {},
   "outputs": [],
   "source": [
    "## set dictionary (can define yourself)\n",
    "jieba.set_dictionary('jieba/dict.txt.big')\n",
    "stop_words = open('jieba/stop_words.txt', encoding=\"utf-8\").read().splitlines()"
   ]
  },
  {
   "cell_type": "code",
   "execution_count": 9,
   "metadata": {},
   "outputs": [
    {
     "name": "stdout",
     "output_type": "stream",
     "text": [
      "['\\ufeff,', '?', '、', '。', '“']\n"
     ]
    }
   ],
   "source": [
    "print(stop_words[:5])"
   ]
  },
  {
   "cell_type": "code",
   "execution_count": 10,
   "metadata": {},
   "outputs": [],
   "source": [
    "data = pd.read_csv('data/1999_preprocessed.csv')\n",
    "data = data['content'].tolist()"
   ]
  },
  {
   "cell_type": "code",
   "execution_count": 11,
   "metadata": {},
   "outputs": [
    {
     "name": "stdout",
     "output_type": "stream",
     "text": [
      "['無法透過 CAMP 上SIT 系統 icon 的連接登入. 可否協助看一下這問題', '無法透過 CAMP 上SIT 系統 icon 的連接登入. 可否協助看一下這問題', '收到CAMP 簽核表單，開頭CAF_QRDC，不清楚這是什麼簽核表單', '收到CAMP 簽核表單，開頭CAF_QRDC，不清楚這是什麼簽核表單', '無法會員登入,顯示訊息:無效的帳號或使用者不存在。帳號:96122401']\n"
     ]
    }
   ],
   "source": [
    "print(data[:5])"
   ]
  },
  {
   "cell_type": "code",
   "execution_count": 12,
   "metadata": {},
   "outputs": [
    {
     "data": {
      "application/vnd.jupyter.widget-view+json": {
       "model_id": "9cb3a80249c446dcbcf2f9709e6716ab",
       "version_major": 2,
       "version_minor": 0
      },
      "text/plain": [
       "HBox(children=(IntProgress(value=0, max=6047), HTML(value='')))"
      ]
     },
     "metadata": {},
     "output_type": "display_data"
    },
    {
     "name": "stderr",
     "output_type": "stream",
     "text": [
      "Building prefix dict from /home/jovyan/Davis_Practice/NLP/jieba/dict.txt.big ...\n",
      "Loading model from cache /tmp/jieba.ud06767cd80ecea1cca9e552b3df3ea65.cache\n",
      "Loading model cost 1.200 seconds.\n",
      "Prefix dict has been built succesfully.\n"
     ]
    },
    {
     "name": "stdout",
     "output_type": "stream",
     "text": [
      "\n"
     ]
    }
   ],
   "source": [
    "sentences = []\n",
    "\n",
    "for i, text in enumerate(tqdm_notebook(data)):\n",
    "    line = []\n",
    "\n",
    "    for w in jieba.cut(text, cut_all=False):\n",
    "        \n",
    "        ## remove stopwords and digits\n",
    "        ## can define your own rules\n",
    "        if w not in stop_words and not bool(re.match('[0-9]+', w)):\n",
    "            line.append(w)\n",
    "\n",
    "    sentences.append(line)"
   ]
  },
  {
   "cell_type": "code",
   "execution_count": 13,
   "metadata": {},
   "outputs": [
    {
     "name": "stdout",
     "output_type": "stream",
     "text": [
      "[['無法', '透過', 'CAMP', 'SIT', '系統', 'icon', '連接', '登入', '可否', '協助', '一下', '問題'], ['無法', '透過', 'CAMP', 'SIT', '系統', 'icon', '連接', '登入', '可否', '協助', '一下', '問題'], ['收到', 'CAMP', '簽核', '表單', '開頭', 'CAF', 'QRDC', '清楚', '這是', '簽核', '表單'], ['收到', 'CAMP', '簽核', '表單', '開頭', 'CAF', 'QRDC', '清楚', '這是', '簽核', '表單'], ['無法', '會員', '登入', '顯示', '訊息', '無效', '帳號', '使用者', '存在', '帳號']]\n"
     ]
    }
   ],
   "source": [
    "print(sentences[0:5])"
   ]
  },
  {
   "cell_type": "code",
   "execution_count": 14,
   "metadata": {
    "scrolled": true
   },
   "outputs": [],
   "source": [
    "## save data as pickle format\n",
    "with open(\"article_cutted\", \"wb\") as file:\n",
    "    pickle.dump(sentences, file)"
   ]
  },
  {
   "cell_type": "markdown",
   "metadata": {},
   "source": [
    "## posseg (詞性)"
   ]
  },
  {
   "cell_type": "code",
   "execution_count": 15,
   "metadata": {},
   "outputs": [],
   "source": [
    "import jieba.posseg as pseg"
   ]
  },
  {
   "cell_type": "code",
   "execution_count": 16,
   "metadata": {
    "scrolled": true
   },
   "outputs": [
    {
     "name": "stdout",
     "output_type": "stream",
     "text": [
      "無法   x\n",
      "透過   x\n",
      "    x\n",
      "CAMP   eng\n",
      "    x\n",
      "上   ns\n",
      "SIT   eng\n",
      "    x\n",
      "系統   x\n",
      "    x\n",
      "icon   eng\n",
      "    x\n",
      "的   uj\n",
      "連接   x\n",
      "登入   v\n",
      ".   m\n",
      "    x\n",
      "可否   v\n",
      "協助   x\n",
      "看   v\n",
      "一下   m\n",
      "這   zg\n",
      "問題   x\n"
     ]
    }
   ],
   "source": [
    "for w, f in pseg.cut(data[0]):\n",
    "    print(w, ' ', f)"
   ]
  },
  {
   "cell_type": "code",
   "execution_count": null,
   "metadata": {},
   "outputs": [],
   "source": []
  },
  {
   "cell_type": "code",
   "execution_count": null,
   "metadata": {},
   "outputs": [],
   "source": []
  }
 ],
 "metadata": {
  "kernelspec": {
   "display_name": "Python 3",
   "language": "python",
   "name": "python3"
  },
  "language_info": {
   "codemirror_mode": {
    "name": "ipython",
    "version": 3
   },
   "file_extension": ".py",
   "mimetype": "text/x-python",
   "name": "python",
   "nbconvert_exporter": "python",
   "pygments_lexer": "ipython3",
   "version": "3.6.6"
  }
 },
 "nbformat": 4,
 "nbformat_minor": 2
}
