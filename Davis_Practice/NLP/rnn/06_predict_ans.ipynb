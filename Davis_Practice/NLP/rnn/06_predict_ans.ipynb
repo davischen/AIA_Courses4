{
 "cells": [
  {
   "cell_type": "markdown",
   "metadata": {},
   "source": [
    "# build model prediction and compare each features set"
   ]
  },
  {
   "cell_type": "code",
   "execution_count": null,
   "metadata": {},
   "outputs": [],
   "source": [
    "import pandas as pd\n",
    "import xgboost as xgb\n",
    "import pickle\n",
    "import numpy as np\n",
    "import os\n",
    "\n",
    "from gensim.models import Doc2Vec, doc2vec\n",
    "\n",
    "## turn back to main directory\n",
    "os.chdir(\"../\")\n",
    "os.getcwd()"
   ]
  },
  {
   "cell_type": "code",
   "execution_count": null,
   "metadata": {},
   "outputs": [],
   "source": [
    "## read preprocess article df\n",
    "df = pd.read_csv('data/article_preprocessed.csv')"
   ]
  },
  {
   "cell_type": "code",
   "execution_count": null,
   "metadata": {},
   "outputs": [],
   "source": [
    "## drop data\n",
    "diff_threshold = 20\n",
    "df = df[abs(df['push']-df['boo']) > diff_threshold].copy()"
   ]
  },
  {
   "cell_type": "code",
   "execution_count": null,
   "metadata": {},
   "outputs": [],
   "source": [
    "## define y\n",
    "df['type'] = np.clip(df['push']-df['boo'], 0, 1)\n",
    "df = df.reset_index(drop=True)"
   ]
  },
  {
   "cell_type": "code",
   "execution_count": null,
   "metadata": {},
   "outputs": [],
   "source": [
    "df['type'].value_counts()"
   ]
  },
  {
   "cell_type": "code",
   "execution_count": 6,
   "metadata": {},
   "outputs": [],
   "source": [
    "## create a numpy format data\n",
    "basic_data = np.zeros((df.shape[0], 258))"
   ]
  },
  {
   "cell_type": "code",
   "execution_count": 7,
   "metadata": {},
   "outputs": [],
   "source": [
    "basic_data[:, 0] = df['idx']\n",
    "basic_data[:, 1] = df['type']"
   ]
  },
  {
   "cell_type": "markdown",
   "metadata": {},
   "source": [
    "## bag of words"
   ]
  },
  {
   "cell_type": "code",
   "execution_count": 8,
   "metadata": {},
   "outputs": [],
   "source": [
    "## load bag of words result\n",
    "with open('article_count', 'rb') as file:\n",
    "    _, count = pickle.load(file)"
   ]
  },
  {
   "cell_type": "code",
   "execution_count": 9,
   "metadata": {},
   "outputs": [],
   "source": [
    "## select top 256 words (counts of document) \n",
    "most_count_id = np.array((count > 0).sum(axis=0))[0].argsort()[::-1][:256]"
   ]
  },
  {
   "cell_type": "code",
   "execution_count": 10,
   "metadata": {},
   "outputs": [],
   "source": [
    "## subset data\n",
    "count = count[:, most_count_id]"
   ]
  },
  {
   "cell_type": "code",
   "execution_count": 11,
   "metadata": {},
   "outputs": [],
   "source": [
    "count_data = basic_data.copy()"
   ]
  },
  {
   "cell_type": "code",
   "execution_count": 12,
   "metadata": {},
   "outputs": [],
   "source": [
    "## subset bag of words matrix\n",
    "count_data[:, 2:] = count[count_data[:, 0]].toarray()"
   ]
  },
  {
   "cell_type": "markdown",
   "metadata": {},
   "source": [
    "## TF-IDF"
   ]
  },
  {
   "cell_type": "code",
   "execution_count": 13,
   "metadata": {},
   "outputs": [],
   "source": [
    "## load tf-idf result\n",
    "with open('article_tfidf', 'rb') as file:\n",
    "    _, tfidf = pickle.load(file)"
   ]
  },
  {
   "cell_type": "code",
   "execution_count": 14,
   "metadata": {},
   "outputs": [],
   "source": [
    "## select top 256 words (counts of document) \n",
    "most_tfidf_id = np.array((tfidf > 0).sum(axis=0))[0].argsort()[::-1][:256]"
   ]
  },
  {
   "cell_type": "code",
   "execution_count": 15,
   "metadata": {},
   "outputs": [],
   "source": [
    "## subset data\n",
    "tfidf = tfidf[:, most_tfidf_id]"
   ]
  },
  {
   "cell_type": "code",
   "execution_count": 16,
   "metadata": {},
   "outputs": [],
   "source": [
    "tfidf_data = basic_data.copy()"
   ]
  },
  {
   "cell_type": "code",
   "execution_count": 17,
   "metadata": {},
   "outputs": [],
   "source": [
    "## subset tf-idf matrix\n",
    "tfidf_data[:, 2:] = tfidf[tfidf_data[:, 0]].toarray()"
   ]
  },
  {
   "cell_type": "markdown",
   "metadata": {},
   "source": [
    "## average word2vec"
   ]
  },
  {
   "cell_type": "code",
   "execution_count": 18,
   "metadata": {},
   "outputs": [],
   "source": [
    "## load average word2vec result\n",
    "with open('avg_article_vector', 'rb') as file:\n",
    "    avg_vector = pickle.load(file)"
   ]
  },
  {
   "cell_type": "code",
   "execution_count": 19,
   "metadata": {},
   "outputs": [],
   "source": [
    "avg_data = basic_data.copy()"
   ]
  },
  {
   "cell_type": "code",
   "execution_count": 20,
   "metadata": {},
   "outputs": [],
   "source": [
    "## select rows of average word2vec\n",
    "for i, row in df.iterrows():\n",
    "    avg_data[i, 2:] = avg_vector[row['idx']]"
   ]
  },
  {
   "cell_type": "markdown",
   "metadata": {},
   "source": [
    "## doc2vec"
   ]
  },
  {
   "cell_type": "code",
   "execution_count": 21,
   "metadata": {},
   "outputs": [],
   "source": [
    "## load doc2vec model (由 05_document_vector.ipynb 產生)\n",
    "model = Doc2Vec.load('word2vec_model/doc2vec')"
   ]
  },
  {
   "cell_type": "code",
   "execution_count": 22,
   "metadata": {},
   "outputs": [],
   "source": [
    "doc2vec_data = basic_data.copy()"
   ]
  },
  {
   "cell_type": "code",
   "execution_count": 23,
   "metadata": {
    "scrolled": true
   },
   "outputs": [],
   "source": [
    "## select idx of doc2vec\n",
    "for i, row in df.iterrows():\n",
    "    doc2vec_data[i, 2:] = model.docvecs[str(row['idx'])]"
   ]
  },
  {
   "cell_type": "markdown",
   "metadata": {},
   "source": [
    "# prediction model"
   ]
  },
  {
   "cell_type": "code",
   "execution_count": 24,
   "metadata": {},
   "outputs": [],
   "source": [
    "from sklearn.model_selection import train_test_split"
   ]
  },
  {
   "cell_type": "code",
   "execution_count": 25,
   "metadata": {},
   "outputs": [],
   "source": [
    "## split data to training and testing data\n",
    "train, test = train_test_split(df, test_size=0.2, stratify=df['type'])\n",
    "train_idx = np.array(train.index)\n",
    "test_idx = np.array(test.index)"
   ]
  },
  {
   "cell_type": "code",
   "execution_count": 26,
   "metadata": {},
   "outputs": [],
   "source": [
    "## define a dictionary to collect model result\n",
    "result = {}"
   ]
  },
  {
   "cell_type": "markdown",
   "metadata": {},
   "source": [
    "## train model use xgboost"
   ]
  },
  {
   "cell_type": "code",
   "execution_count": 27,
   "metadata": {
    "scrolled": true
   },
   "outputs": [
    {
     "name": "stdout",
     "output_type": "stream",
     "text": [
      "[0]\tvalidation_0-auc:0.546242\n",
      "[1]\tvalidation_0-auc:0.561359\n",
      "[2]\tvalidation_0-auc:0.561102\n",
      "[3]\tvalidation_0-auc:0.561053\n",
      "[4]\tvalidation_0-auc:0.56115\n",
      "[5]\tvalidation_0-auc:0.561187\n",
      "[6]\tvalidation_0-auc:0.560785\n",
      "[7]\tvalidation_0-auc:0.562859\n",
      "[8]\tvalidation_0-auc:0.567249\n",
      "[9]\tvalidation_0-auc:0.580196\n",
      "[10]\tvalidation_0-auc:0.58046\n",
      "[11]\tvalidation_0-auc:0.589906\n",
      "[12]\tvalidation_0-auc:0.592079\n",
      "[13]\tvalidation_0-auc:0.592171\n",
      "[14]\tvalidation_0-auc:0.613744\n",
      "[15]\tvalidation_0-auc:0.613754\n",
      "[16]\tvalidation_0-auc:0.61448\n",
      "[17]\tvalidation_0-auc:0.616562\n",
      "[18]\tvalidation_0-auc:0.617025\n",
      "[19]\tvalidation_0-auc:0.617031\n",
      "[20]\tvalidation_0-auc:0.614456\n",
      "[21]\tvalidation_0-auc:0.650402\n",
      "[22]\tvalidation_0-auc:0.662223\n",
      "[23]\tvalidation_0-auc:0.661834\n",
      "[24]\tvalidation_0-auc:0.661632\n",
      "[25]\tvalidation_0-auc:0.66423\n",
      "[26]\tvalidation_0-auc:0.664639\n",
      "[27]\tvalidation_0-auc:0.666412\n",
      "[28]\tvalidation_0-auc:0.665746\n",
      "[29]\tvalidation_0-auc:0.67559\n",
      "[30]\tvalidation_0-auc:0.677994\n",
      "[31]\tvalidation_0-auc:0.686512\n",
      "[32]\tvalidation_0-auc:0.690233\n",
      "[33]\tvalidation_0-auc:0.691604\n",
      "[34]\tvalidation_0-auc:0.691966\n",
      "[35]\tvalidation_0-auc:0.694491\n",
      "[36]\tvalidation_0-auc:0.694604\n",
      "[37]\tvalidation_0-auc:0.697296\n",
      "[38]\tvalidation_0-auc:0.703773\n",
      "[39]\tvalidation_0-auc:0.704406\n",
      "[40]\tvalidation_0-auc:0.707354\n",
      "[41]\tvalidation_0-auc:0.706357\n",
      "[42]\tvalidation_0-auc:0.713099\n",
      "[43]\tvalidation_0-auc:0.711903\n",
      "[44]\tvalidation_0-auc:0.71334\n",
      "[45]\tvalidation_0-auc:0.715423\n",
      "[46]\tvalidation_0-auc:0.716122\n",
      "[47]\tvalidation_0-auc:0.716045\n",
      "[48]\tvalidation_0-auc:0.717009\n",
      "[49]\tvalidation_0-auc:0.719173\n",
      "[50]\tvalidation_0-auc:0.7231\n",
      "[51]\tvalidation_0-auc:0.721923\n",
      "[52]\tvalidation_0-auc:0.721841\n",
      "[53]\tvalidation_0-auc:0.722043\n",
      "[54]\tvalidation_0-auc:0.722874\n",
      "[55]\tvalidation_0-auc:0.724085\n",
      "[56]\tvalidation_0-auc:0.725156\n",
      "[57]\tvalidation_0-auc:0.723525\n",
      "[58]\tvalidation_0-auc:0.725986\n",
      "[59]\tvalidation_0-auc:0.727613\n",
      "[60]\tvalidation_0-auc:0.725574\n",
      "[61]\tvalidation_0-auc:0.726413\n",
      "[62]\tvalidation_0-auc:0.727198\n",
      "[63]\tvalidation_0-auc:0.726981\n",
      "[64]\tvalidation_0-auc:0.725702\n",
      "[65]\tvalidation_0-auc:0.72567\n",
      "[66]\tvalidation_0-auc:0.726267\n",
      "[67]\tvalidation_0-auc:0.727548\n",
      "[68]\tvalidation_0-auc:0.726647\n",
      "[69]\tvalidation_0-auc:0.729257\n",
      "[70]\tvalidation_0-auc:0.727453\n",
      "[71]\tvalidation_0-auc:0.725705\n",
      "[72]\tvalidation_0-auc:0.726226\n",
      "[73]\tvalidation_0-auc:0.726917\n",
      "[74]\tvalidation_0-auc:0.729179\n",
      "[75]\tvalidation_0-auc:0.731702\n",
      "[76]\tvalidation_0-auc:0.733572\n",
      "[77]\tvalidation_0-auc:0.73671\n",
      "[78]\tvalidation_0-auc:0.736401\n",
      "[79]\tvalidation_0-auc:0.737018\n",
      "[80]\tvalidation_0-auc:0.737564\n",
      "[81]\tvalidation_0-auc:0.737672\n",
      "[82]\tvalidation_0-auc:0.738672\n",
      "[83]\tvalidation_0-auc:0.738398\n",
      "[84]\tvalidation_0-auc:0.738593\n",
      "[85]\tvalidation_0-auc:0.739228\n",
      "[86]\tvalidation_0-auc:0.739182\n",
      "[87]\tvalidation_0-auc:0.737466\n",
      "[88]\tvalidation_0-auc:0.737601\n",
      "[89]\tvalidation_0-auc:0.738142\n",
      "[90]\tvalidation_0-auc:0.740606\n",
      "[91]\tvalidation_0-auc:0.741078\n",
      "[92]\tvalidation_0-auc:0.741553\n",
      "[93]\tvalidation_0-auc:0.742651\n",
      "[94]\tvalidation_0-auc:0.742965\n",
      "[95]\tvalidation_0-auc:0.742738\n",
      "[96]\tvalidation_0-auc:0.742649\n",
      "[97]\tvalidation_0-auc:0.742461\n",
      "[98]\tvalidation_0-auc:0.742949\n",
      "[99]\tvalidation_0-auc:0.744325\n"
     ]
    }
   ],
   "source": [
    "## bag of words\n",
    "model = xgb.XGBClassifier()\n",
    "model.fit(count_data[train_idx, 2:], count_data[train_idx, 1], \n",
    "          eval_set=[(count_data[test_idx, 2:], count_data[test_idx, 1])], eval_metric='auc'\n",
    "         )\n",
    "\n",
    "## testing auc\n",
    "result['bag_of_words'] = model.evals_result()['validation_0']['auc'][-1]"
   ]
  },
  {
   "cell_type": "code",
   "execution_count": 28,
   "metadata": {
    "scrolled": true
   },
   "outputs": [
    {
     "name": "stdout",
     "output_type": "stream",
     "text": [
      "[0]\tvalidation_0-auc:0.546242\n",
      "[1]\tvalidation_0-auc:0.561359\n",
      "[2]\tvalidation_0-auc:0.561102\n",
      "[3]\tvalidation_0-auc:0.561053\n",
      "[4]\tvalidation_0-auc:0.56115\n",
      "[5]\tvalidation_0-auc:0.561187\n",
      "[6]\tvalidation_0-auc:0.560785\n",
      "[7]\tvalidation_0-auc:0.562859\n",
      "[8]\tvalidation_0-auc:0.567249\n",
      "[9]\tvalidation_0-auc:0.580196\n",
      "[10]\tvalidation_0-auc:0.58046\n",
      "[11]\tvalidation_0-auc:0.589906\n",
      "[12]\tvalidation_0-auc:0.592079\n",
      "[13]\tvalidation_0-auc:0.592171\n",
      "[14]\tvalidation_0-auc:0.613744\n",
      "[15]\tvalidation_0-auc:0.613754\n",
      "[16]\tvalidation_0-auc:0.61448\n",
      "[17]\tvalidation_0-auc:0.616562\n",
      "[18]\tvalidation_0-auc:0.617025\n",
      "[19]\tvalidation_0-auc:0.617031\n",
      "[20]\tvalidation_0-auc:0.614456\n",
      "[21]\tvalidation_0-auc:0.650402\n",
      "[22]\tvalidation_0-auc:0.662223\n",
      "[23]\tvalidation_0-auc:0.661834\n",
      "[24]\tvalidation_0-auc:0.661632\n",
      "[25]\tvalidation_0-auc:0.66423\n",
      "[26]\tvalidation_0-auc:0.664639\n",
      "[27]\tvalidation_0-auc:0.666412\n",
      "[28]\tvalidation_0-auc:0.665746\n",
      "[29]\tvalidation_0-auc:0.67559\n",
      "[30]\tvalidation_0-auc:0.677994\n",
      "[31]\tvalidation_0-auc:0.686512\n",
      "[32]\tvalidation_0-auc:0.690233\n",
      "[33]\tvalidation_0-auc:0.691604\n",
      "[34]\tvalidation_0-auc:0.691966\n",
      "[35]\tvalidation_0-auc:0.694491\n",
      "[36]\tvalidation_0-auc:0.694604\n",
      "[37]\tvalidation_0-auc:0.697296\n",
      "[38]\tvalidation_0-auc:0.703773\n",
      "[39]\tvalidation_0-auc:0.704406\n",
      "[40]\tvalidation_0-auc:0.707354\n",
      "[41]\tvalidation_0-auc:0.706357\n",
      "[42]\tvalidation_0-auc:0.713099\n",
      "[43]\tvalidation_0-auc:0.711903\n",
      "[44]\tvalidation_0-auc:0.71334\n",
      "[45]\tvalidation_0-auc:0.715423\n",
      "[46]\tvalidation_0-auc:0.716122\n",
      "[47]\tvalidation_0-auc:0.716045\n",
      "[48]\tvalidation_0-auc:0.717009\n",
      "[49]\tvalidation_0-auc:0.719173\n",
      "[50]\tvalidation_0-auc:0.7231\n",
      "[51]\tvalidation_0-auc:0.721923\n",
      "[52]\tvalidation_0-auc:0.721841\n",
      "[53]\tvalidation_0-auc:0.722043\n",
      "[54]\tvalidation_0-auc:0.722874\n",
      "[55]\tvalidation_0-auc:0.724085\n",
      "[56]\tvalidation_0-auc:0.725156\n",
      "[57]\tvalidation_0-auc:0.723525\n",
      "[58]\tvalidation_0-auc:0.725986\n",
      "[59]\tvalidation_0-auc:0.727613\n",
      "[60]\tvalidation_0-auc:0.725574\n",
      "[61]\tvalidation_0-auc:0.726413\n",
      "[62]\tvalidation_0-auc:0.727198\n",
      "[63]\tvalidation_0-auc:0.726981\n",
      "[64]\tvalidation_0-auc:0.725702\n",
      "[65]\tvalidation_0-auc:0.72567\n",
      "[66]\tvalidation_0-auc:0.726267\n",
      "[67]\tvalidation_0-auc:0.727548\n",
      "[68]\tvalidation_0-auc:0.726647\n",
      "[69]\tvalidation_0-auc:0.729257\n",
      "[70]\tvalidation_0-auc:0.727453\n",
      "[71]\tvalidation_0-auc:0.725705\n",
      "[72]\tvalidation_0-auc:0.726226\n",
      "[73]\tvalidation_0-auc:0.726917\n",
      "[74]\tvalidation_0-auc:0.729179\n",
      "[75]\tvalidation_0-auc:0.731702\n",
      "[76]\tvalidation_0-auc:0.733572\n",
      "[77]\tvalidation_0-auc:0.73671\n",
      "[78]\tvalidation_0-auc:0.736401\n",
      "[79]\tvalidation_0-auc:0.737018\n",
      "[80]\tvalidation_0-auc:0.737564\n",
      "[81]\tvalidation_0-auc:0.737672\n",
      "[82]\tvalidation_0-auc:0.738672\n",
      "[83]\tvalidation_0-auc:0.738398\n",
      "[84]\tvalidation_0-auc:0.738593\n",
      "[85]\tvalidation_0-auc:0.739228\n",
      "[86]\tvalidation_0-auc:0.739182\n",
      "[87]\tvalidation_0-auc:0.737466\n",
      "[88]\tvalidation_0-auc:0.737601\n",
      "[89]\tvalidation_0-auc:0.738142\n",
      "[90]\tvalidation_0-auc:0.740606\n",
      "[91]\tvalidation_0-auc:0.741078\n",
      "[92]\tvalidation_0-auc:0.741553\n",
      "[93]\tvalidation_0-auc:0.742651\n",
      "[94]\tvalidation_0-auc:0.742965\n",
      "[95]\tvalidation_0-auc:0.742738\n",
      "[96]\tvalidation_0-auc:0.742649\n",
      "[97]\tvalidation_0-auc:0.742461\n",
      "[98]\tvalidation_0-auc:0.742949\n",
      "[99]\tvalidation_0-auc:0.744325\n"
     ]
    }
   ],
   "source": [
    "## tf-idf\n",
    "model = xgb.XGBClassifier()\n",
    "model.fit(tfidf_data[train_idx, 2:], tfidf_data[train_idx, 1], \n",
    "          eval_set=[(tfidf_data[test_idx, 2:], tfidf_data[test_idx, 1])], eval_metric='auc'\n",
    "         )\n",
    "\n",
    "## testing auc\n",
    "result['tf-idf'] = model.evals_result()['validation_0']['auc'][-1]"
   ]
  },
  {
   "cell_type": "code",
   "execution_count": 29,
   "metadata": {
    "scrolled": true
   },
   "outputs": [
    {
     "name": "stdout",
     "output_type": "stream",
     "text": [
      "[0]\tvalidation_0-auc:0.706458\n",
      "[1]\tvalidation_0-auc:0.744211\n",
      "[2]\tvalidation_0-auc:0.768376\n",
      "[3]\tvalidation_0-auc:0.777087\n",
      "[4]\tvalidation_0-auc:0.77968\n",
      "[5]\tvalidation_0-auc:0.783213\n",
      "[6]\tvalidation_0-auc:0.78664\n",
      "[7]\tvalidation_0-auc:0.788344\n",
      "[8]\tvalidation_0-auc:0.784422\n",
      "[9]\tvalidation_0-auc:0.786199\n",
      "[10]\tvalidation_0-auc:0.785926\n",
      "[11]\tvalidation_0-auc:0.784418\n",
      "[12]\tvalidation_0-auc:0.787729\n",
      "[13]\tvalidation_0-auc:0.78545\n",
      "[14]\tvalidation_0-auc:0.785803\n",
      "[15]\tvalidation_0-auc:0.783185\n",
      "[16]\tvalidation_0-auc:0.782471\n",
      "[17]\tvalidation_0-auc:0.787612\n",
      "[18]\tvalidation_0-auc:0.786735\n",
      "[19]\tvalidation_0-auc:0.791102\n",
      "[20]\tvalidation_0-auc:0.794901\n",
      "[21]\tvalidation_0-auc:0.793568\n",
      "[22]\tvalidation_0-auc:0.792271\n",
      "[23]\tvalidation_0-auc:0.79489\n",
      "[24]\tvalidation_0-auc:0.796878\n",
      "[25]\tvalidation_0-auc:0.801739\n",
      "[26]\tvalidation_0-auc:0.803528\n",
      "[27]\tvalidation_0-auc:0.802816\n",
      "[28]\tvalidation_0-auc:0.805968\n",
      "[29]\tvalidation_0-auc:0.804448\n",
      "[30]\tvalidation_0-auc:0.807098\n",
      "[31]\tvalidation_0-auc:0.810668\n",
      "[32]\tvalidation_0-auc:0.810377\n",
      "[33]\tvalidation_0-auc:0.8124\n",
      "[34]\tvalidation_0-auc:0.812367\n",
      "[35]\tvalidation_0-auc:0.811203\n",
      "[36]\tvalidation_0-auc:0.812624\n",
      "[37]\tvalidation_0-auc:0.814532\n",
      "[38]\tvalidation_0-auc:0.813952\n",
      "[39]\tvalidation_0-auc:0.812797\n",
      "[40]\tvalidation_0-auc:0.813755\n",
      "[41]\tvalidation_0-auc:0.813688\n",
      "[42]\tvalidation_0-auc:0.81451\n",
      "[43]\tvalidation_0-auc:0.816194\n",
      "[44]\tvalidation_0-auc:0.816964\n",
      "[45]\tvalidation_0-auc:0.818788\n",
      "[46]\tvalidation_0-auc:0.819163\n",
      "[47]\tvalidation_0-auc:0.819615\n",
      "[48]\tvalidation_0-auc:0.8191\n",
      "[49]\tvalidation_0-auc:0.81964\n",
      "[50]\tvalidation_0-auc:0.820985\n",
      "[51]\tvalidation_0-auc:0.821442\n",
      "[52]\tvalidation_0-auc:0.822742\n",
      "[53]\tvalidation_0-auc:0.822259\n",
      "[54]\tvalidation_0-auc:0.822468\n",
      "[55]\tvalidation_0-auc:0.82314\n",
      "[56]\tvalidation_0-auc:0.822736\n",
      "[57]\tvalidation_0-auc:0.823243\n",
      "[58]\tvalidation_0-auc:0.823584\n",
      "[59]\tvalidation_0-auc:0.824192\n",
      "[60]\tvalidation_0-auc:0.825595\n",
      "[61]\tvalidation_0-auc:0.8263\n",
      "[62]\tvalidation_0-auc:0.825599\n",
      "[63]\tvalidation_0-auc:0.826\n",
      "[64]\tvalidation_0-auc:0.826022\n",
      "[65]\tvalidation_0-auc:0.826837\n",
      "[66]\tvalidation_0-auc:0.827962\n",
      "[67]\tvalidation_0-auc:0.827655\n",
      "[68]\tvalidation_0-auc:0.829047\n",
      "[69]\tvalidation_0-auc:0.829986\n",
      "[70]\tvalidation_0-auc:0.830637\n",
      "[71]\tvalidation_0-auc:0.831503\n",
      "[72]\tvalidation_0-auc:0.83175\n",
      "[73]\tvalidation_0-auc:0.832146\n",
      "[74]\tvalidation_0-auc:0.833273\n",
      "[75]\tvalidation_0-auc:0.833332\n",
      "[76]\tvalidation_0-auc:0.832453\n",
      "[77]\tvalidation_0-auc:0.832792\n",
      "[78]\tvalidation_0-auc:0.833061\n",
      "[79]\tvalidation_0-auc:0.833304\n",
      "[80]\tvalidation_0-auc:0.833974\n",
      "[81]\tvalidation_0-auc:0.833395\n",
      "[82]\tvalidation_0-auc:0.832555\n",
      "[83]\tvalidation_0-auc:0.833068\n",
      "[84]\tvalidation_0-auc:0.834029\n",
      "[85]\tvalidation_0-auc:0.835054\n",
      "[86]\tvalidation_0-auc:0.834861\n",
      "[87]\tvalidation_0-auc:0.835249\n",
      "[88]\tvalidation_0-auc:0.836232\n",
      "[89]\tvalidation_0-auc:0.836066\n",
      "[90]\tvalidation_0-auc:0.836204\n",
      "[91]\tvalidation_0-auc:0.83642\n",
      "[92]\tvalidation_0-auc:0.836714\n",
      "[93]\tvalidation_0-auc:0.836627\n",
      "[94]\tvalidation_0-auc:0.836496\n",
      "[95]\tvalidation_0-auc:0.837116\n",
      "[96]\tvalidation_0-auc:0.837452\n",
      "[97]\tvalidation_0-auc:0.837058\n",
      "[98]\tvalidation_0-auc:0.837688\n",
      "[99]\tvalidation_0-auc:0.837427\n"
     ]
    }
   ],
   "source": [
    "## average word2vec\n",
    "model = xgb.XGBClassifier()\n",
    "model.fit(avg_data[train_idx, 2:], avg_data[train_idx, 1], \n",
    "          eval_set=[(avg_data[test_idx, 2:], avg_data[test_idx, 1])], eval_metric='auc'\n",
    "         )\n",
    "\n",
    "## testing auc\n",
    "result['avg_word2vec'] = model.evals_result()['validation_0']['auc'][-1]"
   ]
  },
  {
   "cell_type": "code",
   "execution_count": 30,
   "metadata": {
    "scrolled": true
   },
   "outputs": [
    {
     "name": "stdout",
     "output_type": "stream",
     "text": [
      "[0]\tvalidation_0-auc:0.623607\n",
      "[1]\tvalidation_0-auc:0.62853\n",
      "[2]\tvalidation_0-auc:0.64362\n",
      "[3]\tvalidation_0-auc:0.647805\n",
      "[4]\tvalidation_0-auc:0.652269\n",
      "[5]\tvalidation_0-auc:0.668071\n",
      "[6]\tvalidation_0-auc:0.675563\n",
      "[7]\tvalidation_0-auc:0.679854\n",
      "[8]\tvalidation_0-auc:0.698514\n",
      "[9]\tvalidation_0-auc:0.706411\n",
      "[10]\tvalidation_0-auc:0.716169\n",
      "[11]\tvalidation_0-auc:0.721925\n",
      "[12]\tvalidation_0-auc:0.715822\n",
      "[13]\tvalidation_0-auc:0.724785\n",
      "[14]\tvalidation_0-auc:0.728572\n",
      "[15]\tvalidation_0-auc:0.731816\n",
      "[16]\tvalidation_0-auc:0.737322\n",
      "[17]\tvalidation_0-auc:0.739229\n",
      "[18]\tvalidation_0-auc:0.740947\n",
      "[19]\tvalidation_0-auc:0.73689\n",
      "[20]\tvalidation_0-auc:0.740999\n",
      "[21]\tvalidation_0-auc:0.746457\n",
      "[22]\tvalidation_0-auc:0.747509\n",
      "[23]\tvalidation_0-auc:0.743021\n",
      "[24]\tvalidation_0-auc:0.742211\n",
      "[25]\tvalidation_0-auc:0.744645\n",
      "[26]\tvalidation_0-auc:0.746374\n",
      "[27]\tvalidation_0-auc:0.743138\n",
      "[28]\tvalidation_0-auc:0.744549\n",
      "[29]\tvalidation_0-auc:0.747697\n",
      "[30]\tvalidation_0-auc:0.751583\n",
      "[31]\tvalidation_0-auc:0.754461\n",
      "[32]\tvalidation_0-auc:0.754845\n",
      "[33]\tvalidation_0-auc:0.758919\n",
      "[34]\tvalidation_0-auc:0.759585\n",
      "[35]\tvalidation_0-auc:0.76156\n",
      "[36]\tvalidation_0-auc:0.760189\n",
      "[37]\tvalidation_0-auc:0.761549\n",
      "[38]\tvalidation_0-auc:0.762281\n",
      "[39]\tvalidation_0-auc:0.761606\n",
      "[40]\tvalidation_0-auc:0.759676\n",
      "[41]\tvalidation_0-auc:0.761013\n",
      "[42]\tvalidation_0-auc:0.764092\n",
      "[43]\tvalidation_0-auc:0.767345\n",
      "[44]\tvalidation_0-auc:0.767128\n",
      "[45]\tvalidation_0-auc:0.768719\n",
      "[46]\tvalidation_0-auc:0.767839\n",
      "[47]\tvalidation_0-auc:0.769628\n",
      "[48]\tvalidation_0-auc:0.769547\n",
      "[49]\tvalidation_0-auc:0.772023\n",
      "[50]\tvalidation_0-auc:0.774178\n",
      "[51]\tvalidation_0-auc:0.776214\n",
      "[52]\tvalidation_0-auc:0.777393\n",
      "[53]\tvalidation_0-auc:0.777515\n",
      "[54]\tvalidation_0-auc:0.777728\n",
      "[55]\tvalidation_0-auc:0.780087\n",
      "[56]\tvalidation_0-auc:0.780523\n",
      "[57]\tvalidation_0-auc:0.778093\n",
      "[58]\tvalidation_0-auc:0.779242\n",
      "[59]\tvalidation_0-auc:0.780029\n",
      "[60]\tvalidation_0-auc:0.781173\n",
      "[61]\tvalidation_0-auc:0.781891\n",
      "[62]\tvalidation_0-auc:0.78256\n",
      "[63]\tvalidation_0-auc:0.782392\n",
      "[64]\tvalidation_0-auc:0.783508\n",
      "[65]\tvalidation_0-auc:0.785189\n",
      "[66]\tvalidation_0-auc:0.785984\n",
      "[67]\tvalidation_0-auc:0.786748\n",
      "[68]\tvalidation_0-auc:0.786594\n",
      "[69]\tvalidation_0-auc:0.78634\n",
      "[70]\tvalidation_0-auc:0.787687\n",
      "[71]\tvalidation_0-auc:0.788268\n",
      "[72]\tvalidation_0-auc:0.787926\n",
      "[73]\tvalidation_0-auc:0.789243\n",
      "[74]\tvalidation_0-auc:0.790121\n",
      "[75]\tvalidation_0-auc:0.791319\n",
      "[76]\tvalidation_0-auc:0.791237\n",
      "[77]\tvalidation_0-auc:0.791695\n",
      "[78]\tvalidation_0-auc:0.793935\n",
      "[79]\tvalidation_0-auc:0.794783\n",
      "[80]\tvalidation_0-auc:0.795696\n",
      "[81]\tvalidation_0-auc:0.795555\n",
      "[82]\tvalidation_0-auc:0.798065\n",
      "[83]\tvalidation_0-auc:0.799049\n",
      "[84]\tvalidation_0-auc:0.800756\n",
      "[85]\tvalidation_0-auc:0.80073\n",
      "[86]\tvalidation_0-auc:0.802618\n",
      "[87]\tvalidation_0-auc:0.80223\n",
      "[88]\tvalidation_0-auc:0.802062\n",
      "[89]\tvalidation_0-auc:0.801396\n",
      "[90]\tvalidation_0-auc:0.801453\n",
      "[91]\tvalidation_0-auc:0.801468\n",
      "[92]\tvalidation_0-auc:0.801813\n",
      "[93]\tvalidation_0-auc:0.801455\n",
      "[94]\tvalidation_0-auc:0.803012\n",
      "[95]\tvalidation_0-auc:0.804241\n",
      "[96]\tvalidation_0-auc:0.804168\n",
      "[97]\tvalidation_0-auc:0.804129\n",
      "[98]\tvalidation_0-auc:0.804898\n",
      "[99]\tvalidation_0-auc:0.805624\n"
     ]
    }
   ],
   "source": [
    "## doc2vec\n",
    "model = xgb.XGBClassifier()\n",
    "model.fit(doc2vec_data[train_idx, 2:], doc2vec_data[train_idx, 1],\n",
    "          eval_set=[(doc2vec_data[test_idx, 2:], doc2vec_data[test_idx, 1])], eval_metric='auc'\n",
    "         )\n",
    "\n",
    "## testing auc\n",
    "result['doc2vec'] = model.evals_result()['validation_0']['auc'][-1]"
   ]
  },
  {
   "cell_type": "markdown",
   "metadata": {},
   "source": [
    "## plot result"
   ]
  },
  {
   "cell_type": "code",
   "execution_count": 31,
   "metadata": {},
   "outputs": [],
   "source": [
    "import matplotlib.pyplot as plt"
   ]
  },
  {
   "cell_type": "code",
   "execution_count": 32,
   "metadata": {},
   "outputs": [
    {
     "data": {
      "image/png": "[encoded data removed]",
      "text/plain": [
       "<Figure size 432x288 with 1 Axes>"
      ]
     },
     "metadata": {
      "needs_background": "light"
     },
     "output_type": "display_data"
    }
   ],
   "source": [
    "plt.bar(np.arange(4), result.values())\n",
    "plt.xticks(np.arange(4), result.keys())\n",
    "plt.show()"
   ]
  },
  {
   "cell_type": "code",
   "execution_count": null,
   "metadata": {},
   "outputs": [],
   "source": []
  }
 ],
 "metadata": {
  "kernelspec": {
   "display_name": "Python 3",
   "language": "python",
   "name": "python3"
  },
  "language_info": {
   "codemirror_mode": {
    "name": "ipython",
    "version": 3
   },
   "file_extension": ".py",
   "mimetype": "text/x-python",
   "name": "python",
   "nbconvert_exporter": "python",
   "pygments_lexer": "ipython3",
   "version": "3.6.6"
  }
 },
 "nbformat": 4,
 "nbformat_minor": 2
}
