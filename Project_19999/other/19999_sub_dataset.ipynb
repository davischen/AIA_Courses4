{
 "cells": [
  {
   "cell_type": "code",
   "execution_count": 1,
   "metadata": {},
   "outputs": [
    {
     "name": "stderr",
     "output_type": "stream",
     "text": [
      "Using TensorFlow backend.\n"
     ]
    }
   ],
   "source": [
    "import warnings\n",
    "def ignore_warn(*args, **kwargs):\n",
    "    pass\n",
    "warnings.warn = ignore_warn\n",
    "warnings.filterwarnings(module='sklearn*', action='ignore', category=DeprecationWarning)\n",
    "\n",
    "import pandas as pd\n",
    "pd.set_option('max_colwidth', 100)\n",
    "import numpy as np\n",
    "import seaborn as sns\n",
    "import matplotlib.pyplot as plt\n",
    "from matplotlib import rcParams\n",
    "from scipy.stats import skew\n",
    "%matplotlib inline\n",
    "rcParams['figure.figsize'] = (12.0, 6.0)\n",
    "\n",
    "from datetime import datetime\n",
    "import random\n",
    "from sklearn import preprocessing\n",
    "from keras.utils import np_utils"
   ]
  },
  {
   "cell_type": "code",
   "execution_count": 2,
   "metadata": {},
   "outputs": [
    {
     "name": "stdout",
     "output_type": "stream",
     "text": [
      "df_all shape : (14243, 8)\n"
     ]
    }
   ],
   "source": [
    "df_all = pd.read_csv('data/19999_question_category_a_v16.csv')\n",
    "print(f\"df_all shape : {df_all.shape}\")"
   ]
  },
  {
   "cell_type": "code",
   "execution_count": 3,
   "metadata": {},
   "outputs": [
    {
     "data": {
      "text/html": [
       "<div>\n",
       "<style scoped>\n",
       "    .dataframe tbody tr th:only-of-type {\n",
       "        vertical-align: middle;\n",
       "    }\n",
       "\n",
       "    .dataframe tbody tr th {\n",
       "        vertical-align: top;\n",
       "    }\n",
       "\n",
       "    .dataframe thead th {\n",
       "        text-align: right;\n",
       "    }\n",
       "</style>\n",
       "<table border=\"1\" class=\"dataframe\">\n",
       "  <thead>\n",
       "    <tr style=\"text-align: right;\">\n",
       "      <th></th>\n",
       "      <th>description</th>\n",
       "      <th>category_a</th>\n",
       "      <th>category_b</th>\n",
       "      <th>category_c</th>\n",
       "      <th>category_d</th>\n",
       "      <th>category</th>\n",
       "      <th>description_clean</th>\n",
       "      <th>category_target</th>\n",
       "    </tr>\n",
       "  </thead>\n",
       "  <tbody>\n",
       "    <tr>\n",
       "      <th>0</th>\n",
       "      <td>無法會員登入,顯示訊息:無效的帳號或使用者不存在。帳號:96122401</td>\n",
       "      <td>CAMP</td>\n",
       "      <td>CAMP</td>\n",
       "      <td>CAMP</td>\n",
       "      <td>CAMP</td>\n",
       "      <td>資訊系統</td>\n",
       "      <td>無法會員登入顯示訊息無效的帳號或不存在帳號</td>\n",
       "      <td>4</td>\n",
       "    </tr>\n",
       "    <tr>\n",
       "      <th>1</th>\n",
       "      <td>因今天有事請假，要補登先前的加班，但開啟camp後，出勤表單顯示的內容看起來像測試的，沒有最近的時間也沒辦法使用，(已登出重登，但狀況還是一樣) 煩請協助確認是否資料異常?  因有事外出，請早...</td>\n",
       "      <td>CAMP</td>\n",
       "      <td>CAMP</td>\n",
       "      <td>CAMP</td>\n",
       "      <td>CAMP</td>\n",
       "      <td>資訊系統</td>\n",
       "      <td>因有事請假要補登先前的加班但開啟camp後出勤表單顯示的內容像測試的沒有的時間也沒辦法使用已登出重登但狀況 是否資料異常  因有事外出請早上10點過後</td>\n",
       "      <td>4</td>\n",
       "    </tr>\n",
       "    <tr>\n",
       "      <th>2</th>\n",
       "      <td>手機簽核BPM有問題,都顯示亂碼  #18227</td>\n",
       "      <td>CAMP</td>\n",
       "      <td>CAMP</td>\n",
       "      <td>CAMP</td>\n",
       "      <td>CAMP</td>\n",
       "      <td>資訊系統</td>\n",
       "      <td>簽核bpm有問題都顯示亂碼</td>\n",
       "      <td>4</td>\n",
       "    </tr>\n",
       "    <tr>\n",
       "      <th>3</th>\n",
       "      <td>無法在手機上面使用CAMP進行表單簽核動作。分機：17132</td>\n",
       "      <td>CAMP</td>\n",
       "      <td>CAMP</td>\n",
       "      <td>CAMP</td>\n",
       "      <td>CAMP</td>\n",
       "      <td>資訊系統</td>\n",
       "      <td>無法在上面使用camp進行表單簽核動作</td>\n",
       "      <td>4</td>\n",
       "    </tr>\n",
       "    <tr>\n",
       "      <th>4</th>\n",
       "      <td>無法打開報單資料</td>\n",
       "      <td>CAMP</td>\n",
       "      <td>CAMP</td>\n",
       "      <td>CAMP</td>\n",
       "      <td>CAMP</td>\n",
       "      <td>資訊系統</td>\n",
       "      <td>無法打開報單資料</td>\n",
       "      <td>4</td>\n",
       "    </tr>\n",
       "  </tbody>\n",
       "</table>\n",
       "</div>"
      ],
      "text/plain": [
       "                                                                                           description  \\\n",
       "0                                                                 無法會員登入,顯示訊息:無效的帳號或使用者不存在。帳號:96122401   \n",
       "1  因今天有事請假，要補登先前的加班，但開啟camp後，出勤表單顯示的內容看起來像測試的，沒有最近的時間也沒辦法使用，(已登出重登，但狀況還是一樣) 煩請協助確認是否資料異常?  因有事外出，請早...   \n",
       "2                                                                             手機簽核BPM有問題,都顯示亂碼  #18227   \n",
       "3                                                                       無法在手機上面使用CAMP進行表單簽核動作。分機：17132   \n",
       "4                                                                                             無法打開報單資料   \n",
       "\n",
       "  category_a category_b category_c category_d category  \\\n",
       "0       CAMP       CAMP       CAMP       CAMP     資訊系統   \n",
       "1       CAMP       CAMP       CAMP       CAMP     資訊系統   \n",
       "2       CAMP       CAMP       CAMP       CAMP     資訊系統   \n",
       "3       CAMP       CAMP       CAMP       CAMP     資訊系統   \n",
       "4       CAMP       CAMP       CAMP       CAMP     資訊系統   \n",
       "\n",
       "                                                             description_clean  \\\n",
       "0                                                        無法會員登入顯示訊息無效的帳號或不存在帳號   \n",
       "1  因有事請假要補登先前的加班但開啟camp後出勤表單顯示的內容像測試的沒有的時間也沒辦法使用已登出重登但狀況 是否資料異常  因有事外出請早上10點過後   \n",
       "2                                                                簽核bpm有問題都顯示亂碼   \n",
       "3                                                          無法在上面使用camp進行表單簽核動作   \n",
       "4                                                                     無法打開報單資料   \n",
       "\n",
       "   category_target  \n",
       "0                4  \n",
       "1                4  \n",
       "2                4  \n",
       "3                4  \n",
       "4                4  "
      ]
     },
     "execution_count": 3,
     "metadata": {},
     "output_type": "execute_result"
    }
   ],
   "source": [
    "df_all.head()"
   ]
  },
  {
   "cell_type": "code",
   "execution_count": 4,
   "metadata": {},
   "outputs": [],
   "source": [
    "df_all = df_all.drop(['category_target'], axis = 1)"
   ]
  },
  {
   "cell_type": "code",
   "execution_count": 5,
   "metadata": {},
   "outputs": [
    {
     "name": "stdout",
     "output_type": "stream",
     "text": [
      "(1735, 7)\n"
     ]
    },
    {
     "data": {
      "text/html": [
       "<div>\n",
       "<style scoped>\n",
       "    .dataframe tbody tr th:only-of-type {\n",
       "        vertical-align: middle;\n",
       "    }\n",
       "\n",
       "    .dataframe tbody tr th {\n",
       "        vertical-align: top;\n",
       "    }\n",
       "\n",
       "    .dataframe thead th {\n",
       "        text-align: right;\n",
       "    }\n",
       "</style>\n",
       "<table border=\"1\" class=\"dataframe\">\n",
       "  <thead>\n",
       "    <tr style=\"text-align: right;\">\n",
       "      <th></th>\n",
       "      <th>category</th>\n",
       "      <th>count</th>\n",
       "    </tr>\n",
       "  </thead>\n",
       "  <tbody>\n",
       "    <tr>\n",
       "      <th>0</th>\n",
       "      <td>SAP-168</td>\n",
       "      <td>800</td>\n",
       "    </tr>\n",
       "    <tr>\n",
       "      <th>1</th>\n",
       "      <td>SAP-2X8</td>\n",
       "      <td>341</td>\n",
       "    </tr>\n",
       "  </tbody>\n",
       "</table>\n",
       "</div>"
      ],
      "text/plain": [
       "  category  count\n",
       "0  SAP-168    800\n",
       "1  SAP-2X8    341"
      ]
     },
     "execution_count": 5,
     "metadata": {},
     "output_type": "execute_result"
    }
   ],
   "source": [
    "df_sap = df_all[df_all.category == 'SAP']\n",
    "def split_category(row):\n",
    "    if 'SAP-168' in row['category_a']:\n",
    "        return 'SAP-168'\n",
    "    else:\n",
    "        return 'SAP-2X8'\n",
    "\n",
    "df_sap['category'] = df_sap.apply(split_category, axis=1)\n",
    "# df_sap.groupby('category')['category']\\\n",
    "#              .agg({'count': 'count'})\\\n",
    "#              .sort_values(by='count', ascending=False)\\\n",
    "#              .reset_index()\n",
    "\n",
    "print(df_sap.shape)\n",
    "df_sample = df_sap[df_sap['category'] == 'SAP-168'].sample(n=800, random_state=1)\n",
    "df_other = df_sap[df_sap['category'] != 'SAP-168']\n",
    "frames = [df_other, df_sample]\n",
    "df_sap = pd.concat(frames)\n",
    "\n",
    "df_sap['category_target'] = df_sap.category.astype('category').cat.codes\n",
    "df_sap\n",
    "df_sap.to_csv('data/19999_question_category_b_sap_v4.csv', index=False)\n",
    "\n",
    "df_sap.groupby('category')['category']\\\n",
    "             .agg({'count': 'count'})\\\n",
    "             .sort_values(by='count', ascending=False)\\\n",
    "             .reset_index()"
   ]
  },
  {
   "cell_type": "code",
   "execution_count": 6,
   "metadata": {},
   "outputs": [],
   "source": [
    "# df_sap.groupby(['category','category_b'])['category']\\\n",
    "#              .agg({'count': 'count'})\\\n",
    "#              .sort_values(by='count', ascending=False)\\\n",
    "#              .reset_index()"
   ]
  },
  {
   "cell_type": "code",
   "execution_count": 7,
   "metadata": {},
   "outputs": [],
   "source": [
    "# df_sap = df_all[df_all.category == 'SAP']\n",
    "# df_sap"
   ]
  },
  {
   "cell_type": "code",
   "execution_count": 8,
   "metadata": {},
   "outputs": [
    {
     "data": {
      "text/html": [
       "<div>\n",
       "<style scoped>\n",
       "    .dataframe tbody tr th:only-of-type {\n",
       "        vertical-align: middle;\n",
       "    }\n",
       "\n",
       "    .dataframe tbody tr th {\n",
       "        vertical-align: top;\n",
       "    }\n",
       "\n",
       "    .dataframe thead th {\n",
       "        text-align: right;\n",
       "    }\n",
       "</style>\n",
       "<table border=\"1\" class=\"dataframe\">\n",
       "  <thead>\n",
       "    <tr style=\"text-align: right;\">\n",
       "      <th></th>\n",
       "      <th>category</th>\n",
       "      <th>count</th>\n",
       "    </tr>\n",
       "  </thead>\n",
       "  <tbody>\n",
       "    <tr>\n",
       "      <th>0</th>\n",
       "      <td>BPM平台系統</td>\n",
       "      <td>644</td>\n",
       "    </tr>\n",
       "    <tr>\n",
       "      <th>1</th>\n",
       "      <td>R&amp;D資訊系統</td>\n",
       "      <td>353</td>\n",
       "    </tr>\n",
       "    <tr>\n",
       "      <th>2</th>\n",
       "      <td>內部資訊系統</td>\n",
       "      <td>339</td>\n",
       "    </tr>\n",
       "  </tbody>\n",
       "</table>\n",
       "</div>"
      ],
      "text/plain": [
       "  category  count\n",
       "0  BPM平台系統    644\n",
       "1  R&D資訊系統    353\n",
       "2   內部資訊系統    339"
      ]
     },
     "execution_count": 8,
     "metadata": {},
     "output_type": "execute_result"
    }
   ],
   "source": [
    "df_is = df_all[df_all.category == '資訊系統']\n",
    "def split_category(row):\n",
    "    return row['category_a']\n",
    "#     if '人資資訊系統' in row['category_b']:\n",
    "#         return '人資資訊系統'\n",
    "#     if '人資類相關服務' in row['category_b']:\n",
    "#         return '人資資訊系統'\n",
    "#     else:\n",
    "#         return row['category_a']\n",
    "\n",
    "df_is['category'] = df_is.apply(split_category, axis=1)\n",
    "# df_sap.groupby('category')['category']\\\n",
    "#              .agg({'count': 'count'})\\\n",
    "#              .sort_values(by='count', ascending=False)\\\n",
    "#              .reset_index()\n",
    "\n",
    "# print(df_is.shape)\n",
    "# df_sample = df_is[df_is['category'] == 'BPM平台系統'].sample(n=400, random_state=1)\n",
    "# df_other = df_is[df_is['category'] != 'BPM平台系統']\n",
    "# frames = [df_other, df_sample]\n",
    "# df_is = pd.concat(frames)\n",
    "\n",
    "df_is = df_is[df_is['category'] != 'CAMP']\n",
    "df_is['category_target'] = df_is.category.astype('category').cat.codes\n",
    "df_is.to_csv('data/19999_question_category_b_is_v4.csv', index=False)\n",
    "\n",
    "df_is.groupby('category')['category']\\\n",
    "             .agg({'count': 'count'})\\\n",
    "             .sort_values(by='count', ascending=False)\\\n",
    "             .reset_index()"
   ]
  },
  {
   "cell_type": "code",
   "execution_count": 9,
   "metadata": {},
   "outputs": [
    {
     "data": {
      "text/html": [
       "<div>\n",
       "<style scoped>\n",
       "    .dataframe tbody tr th:only-of-type {\n",
       "        vertical-align: middle;\n",
       "    }\n",
       "\n",
       "    .dataframe tbody tr th {\n",
       "        vertical-align: top;\n",
       "    }\n",
       "\n",
       "    .dataframe thead th {\n",
       "        text-align: right;\n",
       "    }\n",
       "</style>\n",
       "<table border=\"1\" class=\"dataframe\">\n",
       "  <thead>\n",
       "    <tr style=\"text-align: right;\">\n",
       "      <th></th>\n",
       "      <th>category</th>\n",
       "      <th>count</th>\n",
       "    </tr>\n",
       "  </thead>\n",
       "  <tbody>\n",
       "    <tr>\n",
       "      <th>0</th>\n",
       "      <td>BPM平台系統</td>\n",
       "      <td>644</td>\n",
       "    </tr>\n",
       "    <tr>\n",
       "      <th>1</th>\n",
       "      <td>R&amp;D資訊系統</td>\n",
       "      <td>353</td>\n",
       "    </tr>\n",
       "    <tr>\n",
       "      <th>2</th>\n",
       "      <td>內部資訊系統</td>\n",
       "      <td>339</td>\n",
       "    </tr>\n",
       "  </tbody>\n",
       "</table>\n",
       "</div>"
      ],
      "text/plain": [
       "  category  count\n",
       "0  BPM平台系統    644\n",
       "1  R&D資訊系統    353\n",
       "2   內部資訊系統    339"
      ]
     },
     "execution_count": 9,
     "metadata": {},
     "output_type": "execute_result"
    }
   ],
   "source": [
    "df_is.groupby('category')['category']\\\n",
    "             .agg({'count': 'count'})\\\n",
    "             .sort_values(by='count', ascending=False)\\\n",
    "             .reset_index()"
   ]
  },
  {
   "cell_type": "code",
   "execution_count": 10,
   "metadata": {},
   "outputs": [
    {
     "ename": "NameError",
     "evalue": "name 'ppp' is not defined",
     "output_type": "error",
     "traceback": [
      "\u001b[0;31m---------------------------------------------------------------------------\u001b[0m",
      "\u001b[0;31mNameError\u001b[0m                                 Traceback (most recent call last)",
      "\u001b[0;32m<ipython-input-10-a2d17bb96faf>\u001b[0m in \u001b[0;36m<module>\u001b[0;34m()\u001b[0m\n\u001b[0;32m----> 1\u001b[0;31m \u001b[0mppp\u001b[0m\u001b[0;34m\u001b[0m\u001b[0m\n\u001b[0m",
      "\u001b[0;31mNameError\u001b[0m: name 'ppp' is not defined"
     ]
    }
   ],
   "source": [
    "ppp"
   ]
  },
  {
   "cell_type": "code",
   "execution_count": null,
   "metadata": {},
   "outputs": [],
   "source": [
    "df_internal = df_all[df_all.category_a == '內部資訊系統']\n",
    "df_internal['category_b_target'] = df_internal.category_b.astype('category').cat.codes\n",
    "df_internal.to_csv('data/19999_question_category_b_internal.csv', index=False)\n",
    "print(f\"df_all shape : {df_internal.shape}\")\n",
    "df_internal.head()"
   ]
  },
  {
   "cell_type": "code",
   "execution_count": null,
   "metadata": {},
   "outputs": [],
   "source": [
    "df_rd = df_all[df_all.category_a == 'R&D資訊系統']\n",
    "df_rd['category_b_target'] = df_rd.category_b.astype('category').cat.codes\n",
    "df_rd.to_csv('data/19999_question_category_b_rd.csv', index=False)\n",
    "print(f\"df_all shape : {df_rd.shape}\")\n",
    "df_rd.head()"
   ]
  },
  {
   "cell_type": "code",
   "execution_count": null,
   "metadata": {},
   "outputs": [],
   "source": [
    "df_sap168 = df_all[df_all.category_a == 'SAP-168(QCI)']\n",
    "df_sap168['category_b_target'] = df_sap168.category_b.astype('category').cat.codes\n",
    "df_sap168.to_csv('data/19999_question_category_b_sap168.csv', index=False)\n",
    "print(f\"df_all shape : {df_sap168.shape}\")\n",
    "df_sap168.head()"
   ]
  },
  {
   "cell_type": "code",
   "execution_count": null,
   "metadata": {},
   "outputs": [],
   "source": [
    "df_sap2x8 = df_all[df_all.category_a == 'SAP-2X8(QSMC)']\n",
    "df_sap2x8['category_b_target'] = df_sap2x8.category_b.astype('category').cat.codes\n",
    "df_sap2x8.to_csv('data/19999_question_category_b_sap2x8.csv', index=False)\n",
    "print(f\"df_all shape : {df_sap2x8.shape}\")\n",
    "df_sap2x8"
   ]
  },
  {
   "cell_type": "code",
   "execution_count": null,
   "metadata": {},
   "outputs": [],
   "source": []
  }
 ],
 "metadata": {
  "kernelspec": {
   "display_name": "Python 3",
   "language": "python",
   "name": "python3"
  },
  "language_info": {
   "codemirror_mode": {
    "name": "ipython",
    "version": 3
   },
   "file_extension": ".py",
   "mimetype": "text/x-python",
   "name": "python",
   "nbconvert_exporter": "python",
   "pygments_lexer": "ipython3",
   "version": "3.6.6"
  }
 },
 "nbformat": 4,
 "nbformat_minor": 2
}
