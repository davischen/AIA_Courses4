{
 "cells": [
  {
   "cell_type": "code",
   "execution_count": 2,
   "metadata": {},
   "outputs": [],
   "source": [
    "import warnings\n",
    "def ignore_warn(*args, **kwargs):\n",
    "    pass\n",
    "warnings.warn = ignore_warn\n",
    "warnings.filterwarnings(module='sklearn*', action='ignore', category=DeprecationWarning)"
   ]
  },
  {
   "cell_type": "code",
   "execution_count": 3,
   "metadata": {},
   "outputs": [],
   "source": [
    "import pandas as pd\n",
    "import numpy as np\n",
    "import seaborn as sns\n",
    "import matplotlib.pyplot as plt\n",
    "from matplotlib import rcParams\n",
    "from scipy.stats import skew\n",
    "%matplotlib inline\n",
    "rcParams['figure.figsize'] = (12.0, 6.0)"
   ]
  },
  {
   "cell_type": "code",
   "execution_count": 4,
   "metadata": {},
   "outputs": [],
   "source": [
    "from datetime import datetime\n",
    "import random\n",
    "from sklearn import preprocessing"
   ]
  },
  {
   "cell_type": "code",
   "execution_count": 33,
   "metadata": {},
   "outputs": [
    {
     "name": "stdout",
     "output_type": "stream",
     "text": [
      "train shape : (65534, 15)\n"
     ]
    }
   ],
   "source": [
    "df_all = pd.read_csv('1999_all.csv')\n",
    "print(f\"train shape : {df_all.shape}\")"
   ]
  },
  {
   "cell_type": "code",
   "execution_count": 34,
   "metadata": {},
   "outputs": [],
   "source": [
    "column_rename = {\n",
    "                 \"APP單號\": \"app_number\",\n",
    "                 \"開單日期\": \"date_time\",\n",
    "                 \"申請者\": \"employee_id\",\n",
    "                 \"Unnamed: 3\": \"employee_name\",\n",
    "                 \"問題公司別\": \"company_id\",\n",
    "                 \"需求類型\": \"category_a\",\n",
    "                 \"項目代號\": \"category_b\",\n",
    "                 \"問題細類\": \"category_c\",\n",
    "                 \"問題編號\": \"category_d\",\n",
    "                 \"描述\": \"description\",\n",
    "                 \"優先度\": \"priority\",\n",
    "                 \"處理者\": \"handle_employee_id\",\n",
    "                 \"Unnamed: 12\": \"handle_employee_name\",\n",
    "                 \"處理過程\": \"result\",\n",
    "                 \"狀態\": \"status\",\n",
    "                }\n",
    "\n",
    "df_all = df_all.rename(index=str, columns=column_rename)"
   ]
  },
  {
   "cell_type": "code",
   "execution_count": 35,
   "metadata": {},
   "outputs": [
    {
     "data": {
      "text/html": [
       "<div>\n",
       "<style scoped>\n",
       "    .dataframe tbody tr th:only-of-type {\n",
       "        vertical-align: middle;\n",
       "    }\n",
       "\n",
       "    .dataframe tbody tr th {\n",
       "        vertical-align: top;\n",
       "    }\n",
       "\n",
       "    .dataframe thead th {\n",
       "        text-align: right;\n",
       "    }\n",
       "</style>\n",
       "<table border=\"1\" class=\"dataframe\">\n",
       "  <thead>\n",
       "    <tr style=\"text-align: right;\">\n",
       "      <th></th>\n",
       "      <th>app_number</th>\n",
       "      <th>date_time</th>\n",
       "      <th>employee_id</th>\n",
       "      <th>employee_name</th>\n",
       "      <th>company_id</th>\n",
       "      <th>category_a</th>\n",
       "      <th>category_b</th>\n",
       "      <th>category_c</th>\n",
       "      <th>category_d</th>\n",
       "      <th>description</th>\n",
       "      <th>priority</th>\n",
       "      <th>handle_employee_id</th>\n",
       "      <th>handle_employee_name</th>\n",
       "      <th>result</th>\n",
       "      <th>status</th>\n",
       "    </tr>\n",
       "  </thead>\n",
       "  <tbody>\n",
       "    <tr>\n",
       "      <th>0</th>\n",
       "      <td>1800000321</td>\n",
       "      <td>20180213</td>\n",
       "      <td>10403005</td>\n",
       "      <td>徐清和</td>\n",
       "      <td>QCI</td>\n",
       "      <td>CAMP</td>\n",
       "      <td>CAMP</td>\n",
       "      <td>CAMP</td>\n",
       "      <td>CAMP</td>\n",
       "      <td>無法透過 CAMP 上SIT 系統 icon 的連接登入. 可否協助看一下這問題</td>\n",
       "      <td>一般</td>\n",
       "      <td>93021608</td>\n",
       "      <td>陳明仁</td>\n",
       "      <td>NaN</td>\n",
       "      <td>已轉單</td>\n",
       "    </tr>\n",
       "    <tr>\n",
       "      <th>1</th>\n",
       "      <td>1800000321</td>\n",
       "      <td>20180213</td>\n",
       "      <td>10403005</td>\n",
       "      <td>徐清和</td>\n",
       "      <td>QCI</td>\n",
       "      <td>CAMP</td>\n",
       "      <td>CAMP</td>\n",
       "      <td>CAMP</td>\n",
       "      <td>CAMP</td>\n",
       "      <td>無法透過 CAMP 上SIT 系統 icon 的連接登入. 可否協助看一下這問題</td>\n",
       "      <td>一般</td>\n",
       "      <td>10301002</td>\n",
       "      <td>蔡維倫</td>\n",
       "      <td>經確認後不是 MIS 開發的系統，初步判斷可能是網路設定問題，建議重新建立問題單或聯繫 Re...</td>\n",
       "      <td>已處理</td>\n",
       "    </tr>\n",
       "    <tr>\n",
       "      <th>2</th>\n",
       "      <td>1600001420</td>\n",
       "      <td>20160604</td>\n",
       "      <td>90061819</td>\n",
       "      <td>邱慧玲</td>\n",
       "      <td>QCI</td>\n",
       "      <td>CAMP</td>\n",
       "      <td>CAMP</td>\n",
       "      <td>CAMP</td>\n",
       "      <td>CAMP</td>\n",
       "      <td>收到CAMP 簽核表單，開頭CAF_QRDC，不清楚這是什麼簽核表單</td>\n",
       "      <td>一般</td>\n",
       "      <td>87042201</td>\n",
       "      <td>李垚坤</td>\n",
       "      <td>CAF_QRDC 是由 SDA 所開出的儀校異常處理單, 是在 CAMP 矯正措施系統上的單據.</td>\n",
       "      <td>已處理</td>\n",
       "    </tr>\n",
       "    <tr>\n",
       "      <th>3</th>\n",
       "      <td>1600001420</td>\n",
       "      <td>20160604</td>\n",
       "      <td>90061819</td>\n",
       "      <td>邱慧玲</td>\n",
       "      <td>QCI</td>\n",
       "      <td>CAMP</td>\n",
       "      <td>CAMP</td>\n",
       "      <td>CAMP</td>\n",
       "      <td>CAMP</td>\n",
       "      <td>收到CAMP 簽核表單，開頭CAF_QRDC，不清楚這是什麼簽核表單</td>\n",
       "      <td>一般</td>\n",
       "      <td>93031513</td>\n",
       "      <td>金秋香</td>\n",
       "      <td>NaN</td>\n",
       "      <td>已轉單</td>\n",
       "    </tr>\n",
       "    <tr>\n",
       "      <th>4</th>\n",
       "      <td>1500003557</td>\n",
       "      <td>20151228</td>\n",
       "      <td>96122401</td>\n",
       "      <td>劉威良</td>\n",
       "      <td>QCI</td>\n",
       "      <td>CAMP</td>\n",
       "      <td>CAMP</td>\n",
       "      <td>CAMP</td>\n",
       "      <td>CAMP</td>\n",
       "      <td>無法會員登入,顯示訊息:無效的帳號或使用者不存在。帳號:96122401</td>\n",
       "      <td>一般</td>\n",
       "      <td>93031513</td>\n",
       "      <td>金秋香</td>\n",
       "      <td>申請者告知帳密已正確</td>\n",
       "      <td>已處理</td>\n",
       "    </tr>\n",
       "  </tbody>\n",
       "</table>\n",
       "</div>"
      ],
      "text/plain": [
       "   app_number  date_time employee_id employee_name company_id category_a  \\\n",
       "0  1800000321   20180213    10403005           徐清和        QCI       CAMP   \n",
       "1  1800000321   20180213    10403005           徐清和        QCI       CAMP   \n",
       "2  1600001420   20160604    90061819           邱慧玲        QCI       CAMP   \n",
       "3  1600001420   20160604    90061819           邱慧玲        QCI       CAMP   \n",
       "4  1500003557   20151228    96122401           劉威良        QCI       CAMP   \n",
       "\n",
       "  category_b category_c category_d                               description  \\\n",
       "0       CAMP       CAMP       CAMP  無法透過 CAMP 上SIT 系統 icon 的連接登入. 可否協助看一下這問題   \n",
       "1       CAMP       CAMP       CAMP  無法透過 CAMP 上SIT 系統 icon 的連接登入. 可否協助看一下這問題   \n",
       "2       CAMP       CAMP       CAMP        收到CAMP 簽核表單，開頭CAF_QRDC，不清楚這是什麼簽核表單   \n",
       "3       CAMP       CAMP       CAMP        收到CAMP 簽核表單，開頭CAF_QRDC，不清楚這是什麼簽核表單   \n",
       "4       CAMP       CAMP       CAMP      無法會員登入,顯示訊息:無效的帳號或使用者不存在。帳號:96122401   \n",
       "\n",
       "  priority handle_employee_id handle_employee_name  \\\n",
       "0       一般           93021608                  陳明仁   \n",
       "1       一般           10301002                  蔡維倫   \n",
       "2       一般           87042201                  李垚坤   \n",
       "3       一般           93031513                  金秋香   \n",
       "4       一般           93031513                  金秋香   \n",
       "\n",
       "                                              result status  \n",
       "0                                                NaN    已轉單  \n",
       "1  經確認後不是 MIS 開發的系統，初步判斷可能是網路設定問題，建議重新建立問題單或聯繫 Re...    已處理  \n",
       "2   CAF_QRDC 是由 SDA 所開出的儀校異常處理單, 是在 CAMP 矯正措施系統上的單據.    已處理  \n",
       "3                                                NaN    已轉單  \n",
       "4                                         申請者告知帳密已正確    已處理  "
      ]
     },
     "execution_count": 35,
     "metadata": {},
     "output_type": "execute_result"
    }
   ],
   "source": [
    "df_all.head()"
   ]
  },
  {
   "cell_type": "code",
   "execution_count": 36,
   "metadata": {},
   "outputs": [
    {
     "name": "stdout",
     "output_type": "stream",
     "text": [
      "train shape : (65534, 15)\n"
     ]
    }
   ],
   "source": [
    "print(f\"train shape : {df_all.shape}\")"
   ]
  },
  {
   "cell_type": "code",
   "execution_count": 37,
   "metadata": {},
   "outputs": [],
   "source": [
    "df_all.to_csv('1999_question.csv', index=False)"
   ]
  },
  {
   "cell_type": "code",
   "execution_count": null,
   "metadata": {},
   "outputs": [],
   "source": []
  }
 ],
 "metadata": {
  "kernelspec": {
   "display_name": "Python 3",
   "language": "python",
   "name": "python3"
  },
  "language_info": {
   "codemirror_mode": {
    "name": "ipython",
    "version": 3
   },
   "file_extension": ".py",
   "mimetype": "text/x-python",
   "name": "python",
   "nbconvert_exporter": "python",
   "pygments_lexer": "ipython3",
   "version": "3.6.6"
  }
 },
 "nbformat": 4,
 "nbformat_minor": 2
}
