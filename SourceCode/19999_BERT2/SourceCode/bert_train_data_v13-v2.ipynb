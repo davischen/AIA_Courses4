{
 "cells": [
  {
   "cell_type": "markdown",
   "metadata": {},
   "source": [
    "#### source: https://github.com/google-research/bert/blob/master/README.md"
   ]
  },
  {
   "cell_type": "markdown",
   "metadata": {},
   "source": [
    "### BERT fine-tune 實作分成三部分\n",
    "### 1. 準備資料\n",
    "### 2. 修改run_classifier.py 中的processor\n",
    "### 3. 執行run_classifier.py 與設定參數"
   ]
  },
  {
   "cell_type": "markdown",
   "metadata": {},
   "source": [
    "# ---------------------------------------------------"
   ]
  },
  {
   "cell_type": "markdown",
   "metadata": {},
   "source": [
    "#### 1. 準備資料"
   ]
  },
  {
   "cell_type": "code",
   "execution_count": null,
   "metadata": {},
   "outputs": [],
   "source": [
    "from sklearn.model_selection import train_test_split\n",
    "import pandas as pd\n",
    "import numpy as np\n",
    "import pickle\n",
    "import uuid\n",
    "from pandas.core.frame import DataFrame"
   ]
  },
  {
   "cell_type": "code",
   "execution_count": null,
   "metadata": {},
   "outputs": [],
   "source": [
    "df = pd.read_csv('./data/19999_question_category_a_v13.csv')"
   ]
  },
  {
   "cell_type": "code",
   "execution_count": null,
   "metadata": {},
   "outputs": [],
   "source": [
    "# df=df[((df.category_a_target != 7) & (df.category_a_target != 1) \n",
    "#        & (df.category_a_target != 2) & (df.category_a_target != 3))]\n",
    "\n",
    "#df=df[((df.category_a_target != 7))]"
   ]
  },
  {
   "cell_type": "code",
   "execution_count": null,
   "metadata": {},
   "outputs": [],
   "source": [
    "df.head(2)"
   ]
  },
  {
   "cell_type": "code",
   "execution_count": null,
   "metadata": {},
   "outputs": [],
   "source": [
    "df.shape"
   ]
  },
  {
   "cell_type": "code",
   "execution_count": null,
   "metadata": {},
   "outputs": [],
   "source": [
    "df.groupby(['category','category_target']).size()"
   ]
  },
  {
   "cell_type": "code",
   "execution_count": null,
   "metadata": {},
   "outputs": [],
   "source": [
    "#drop category\n",
    "# df=df.loc[(df['category_target'] != 2) & (df['category_target'] != 7)]"
   ]
  },
  {
   "cell_type": "code",
   "execution_count": null,
   "metadata": {},
   "outputs": [],
   "source": [
    "df=df.drop(['category_a','category_b','category_c','category_d','description'], axis=1)\n",
    "df.head(5)"
   ]
  },
  {
   "cell_type": "code",
   "execution_count": null,
   "metadata": {},
   "outputs": [],
   "source": [
    "df.columns = ['category_a','description','category_a_target']"
   ]
  },
  {
   "cell_type": "code",
   "execution_count": null,
   "metadata": {},
   "outputs": [],
   "source": [
    "df.head(5)"
   ]
  },
  {
   "cell_type": "code",
   "execution_count": null,
   "metadata": {},
   "outputs": [],
   "source": [
    "#結果放到run_classifier.py get_labels 443行\n",
    "sorted(df.category_a_target.unique())"
   ]
  },
  {
   "cell_type": "code",
   "execution_count": null,
   "metadata": {},
   "outputs": [],
   "source": [
    "pd.unique(df[['category_a', 'category_a_target']].values.ravel('K'))"
   ]
  },
  {
   "cell_type": "code",
   "execution_count": null,
   "metadata": {},
   "outputs": [],
   "source": [
    "pd.concat([df['category_a'], df['category_a_target']]).unique()"
   ]
  },
  {
   "cell_type": "code",
   "execution_count": null,
   "metadata": {},
   "outputs": [],
   "source": [
    "category_df =df[['category_a', 'category_a_target']]\n",
    "category_df = category_df.drop_duplicates()\n",
    "category_df"
   ]
  },
  {
   "cell_type": "code",
   "execution_count": null,
   "metadata": {},
   "outputs": [],
   "source": [
    "df.shape"
   ]
  },
  {
   "cell_type": "code",
   "execution_count": null,
   "metadata": {},
   "outputs": [],
   "source": [
    "df.groupby(['category_a','category_a_target']).size()"
   ]
  },
  {
   "cell_type": "markdown",
   "metadata": {},
   "source": [
    "### 現在我們將資料轉換成 BERT 需要的資料形式。根據官方fine tune教學，需要給的資料有四個column，分別是:\n",
    "### (1) guid: Unique id for the example.\n",
    "\n",
    "### (2) text_a: text_a: string. The untokenized text of the first sequence. For single sequence tasks, only this sequence must be specified.\n",
    "### (3) text_b(Optional): string. The untokenized text of the second sequence. Only must be specified for sequence pair tasks.\n",
    "### (4) label(Optional): string. The label of the example. This should be specified for train and dev examples, but not for test examples."
   ]
  },
  {
   "cell_type": "code",
   "execution_count": null,
   "metadata": {},
   "outputs": [],
   "source": [
    "data_for_bert = []\n",
    "strat_list = []\n",
    "for i in range(len(df)):\n",
    "    data_for_bert.append((i, #guid\n",
    "                          df.iloc[i,:].description, #text_a\n",
    "                          None, #text_b\n",
    "                          df.iloc[i,:].category_a_target #label\n",
    "                         ))\n",
    "    strat_list.append((i,df.iloc[i,:].category_a_target))"
   ]
  },
  {
   "cell_type": "code",
   "execution_count": null,
   "metadata": {},
   "outputs": [],
   "source": [
    "len(data_for_bert)"
   ]
  },
  {
   "cell_type": "markdown",
   "metadata": {},
   "source": [
    "### 產生test.csv,下列兩項擇一"
   ]
  },
  {
   "cell_type": "code",
   "execution_count": null,
   "metadata": {},
   "outputs": [],
   "source": [
    "# #generate t_cest data from 19999_test_question_v1.csv\n",
    "# test_df = pd.read_csv('./data/19999_test_question_v2.csv')\n",
    "# test_df=test_df.drop(['category_a','category_a_b','description_clean'], axis=1)\n",
    "# test_df\n",
    "# test_df.columns = ['description','label']\n",
    "# test_df.to_csv('tmp/call_center_input/test.csv', index=False, header=True)"
   ]
  },
  {
   "cell_type": "code",
   "execution_count": null,
   "metadata": {},
   "outputs": [],
   "source": [
    "#random select to test.csv\n",
    "#import random\n",
    "#test_df = pd.DataFrame(random.sample(data_for_bert, 10))\n",
    "test_df = pd.DataFrame(data_for_bert)\n",
    "test_df=test_df.sample(frac=0.03) #frac是要返回的比例\n",
    "test_df.columns = ['id', 'description', 'text_b', 'label']\n",
    "test_df_2=test_df.drop(['id', 'text_b'], axis=1)\n",
    "#test_df\n",
    "test_df_2.to_csv('tmp/call_center_input/test.csv', index=False, header=True)"
   ]
  },
  {
   "cell_type": "markdown",
   "metadata": {},
   "source": [
    "### 產生test.tsv"
   ]
  },
  {
   "cell_type": "code",
   "execution_count": null,
   "metadata": {},
   "outputs": [],
   "source": [
    "#test.csv -> test.tsv\n",
    "import pandas as pd\n",
    "df_temp = pd.read_csv('tmp/call_center_input/test.csv') \n",
    "df_temp.to_csv('tmp/call_center_input/test.tsv', sep='\\t', index=False, header=True) #"
   ]
  },
  {
   "cell_type": "code",
   "execution_count": null,
   "metadata": {},
   "outputs": [],
   "source": [
    "#test_df.head(5)\n",
    "len(test_df)"
   ]
  },
  {
   "cell_type": "code",
   "execution_count": null,
   "metadata": {},
   "outputs": [],
   "source": [
    "len(data_for_bert)"
   ]
  },
  {
   "cell_type": "code",
   "execution_count": null,
   "metadata": {},
   "outputs": [],
   "source": [
    "for s in test_df.id:\n",
    "    data_for_bert=[k for k in data_for_bert if s not in k]"
   ]
  },
  {
   "cell_type": "code",
   "execution_count": null,
   "metadata": {},
   "outputs": [],
   "source": [
    "len(data_for_bert)"
   ]
  },
  {
   "cell_type": "code",
   "execution_count": null,
   "metadata": {},
   "outputs": [],
   "source": [
    "for s in test_df.id:\n",
    "    strat_list=[k for k in strat_list if s not in k]"
   ]
  },
  {
   "cell_type": "code",
   "execution_count": null,
   "metadata": {},
   "outputs": [],
   "source": [
    "len(strat_list)"
   ]
  },
  {
   "cell_type": "code",
   "execution_count": null,
   "metadata": {},
   "outputs": [],
   "source": [
    "strat_list_temp = []\n",
    "for s in strat_list:\n",
    "    strat_list_temp.append(s[1])\n",
    "strat_list=strat_list_temp"
   ]
  },
  {
   "cell_type": "markdown",
   "metadata": {},
   "source": [
    "### 產生Train.tsv"
   ]
  },
  {
   "cell_type": "code",
   "execution_count": null,
   "metadata": {},
   "outputs": [],
   "source": [
    "train_df = pd.DataFrame(data_for_bert)\n",
    "train_df.columns = ['id', 'description', 'text_b', 'label']\n",
    "train_df_2=train_df.drop(['id', 'text_b'], axis=1)\n",
    "#test_df\n",
    "train_df_2.to_csv('tmp/call_center_input/train.csv', index=False, header=True)"
   ]
  },
  {
   "cell_type": "code",
   "execution_count": null,
   "metadata": {},
   "outputs": [],
   "source": [
    "#test.csv -> test.tsv\n",
    "import pandas as pd\n",
    "df_temp = pd.read_csv('tmp/call_center_input/train.csv') \n",
    "df_temp.to_csv('tmp/call_center_input/train.tsv', sep='\\t', index=False, header=True) #"
   ]
  },
  {
   "cell_type": "markdown",
   "metadata": {},
   "source": [
    "### 產生pickle_file"
   ]
  },
  {
   "cell_type": "code",
   "execution_count": null,
   "metadata": {},
   "outputs": [],
   "source": [
    "train, dev = train_test_split(data_for_bert, test_size=0.2, stratify=strat_list)"
   ]
  },
  {
   "cell_type": "code",
   "execution_count": null,
   "metadata": {},
   "outputs": [],
   "source": [
    "print('length for fine-tune training data: ',len(train))\n",
    "print('length for fine-tune development data: ',len(dev))\n",
    "print('first instance:', data_for_bert[0])"
   ]
  },
  {
   "cell_type": "code",
   "execution_count": null,
   "metadata": {},
   "outputs": [],
   "source": [
    "with open('bert_train.p',mode = 'wb') as pickle_file:\n",
    "    pickle.dump(train, pickle_file)\n",
    "\n",
    "with open('bert_dev.p',mode = 'wb') as pickle_file:\n",
    "    pickle.dump(dev, pickle_file)\n"
   ]
  },
  {
   "cell_type": "markdown",
   "metadata": {},
   "source": [
    "#### 2. 於影片中說明如何修改 run_classifier.py 中的 processor"
   ]
  },
  {
   "cell_type": "markdown",
   "metadata": {},
   "source": [
    "#### 3. 執行run_classifier.py 並設定參數"
   ]
  },
  {
   "cell_type": "code",
   "execution_count": null,
   "metadata": {},
   "outputs": [],
   "source": [
    "!rm -r tmp/call_center_output/"
   ]
  },
  {
   "cell_type": "code",
   "execution_count": null,
   "metadata": {},
   "outputs": [],
   "source": [
    "#   --train_batch_size=32 \\ #16, 32\n",
    "#   --learning_rate=3e-5 \\  #5e-5, 3e-5, 2e-5\n",
    "#   --num_train_epochs=3.0 \\#3, 4"
   ]
  },
  {
   "cell_type": "code",
   "execution_count": null,
   "metadata": {},
   "outputs": [],
   "source": [
    "!python run_classifier.py \\\n",
    "  --task_name=call_center \\\n",
    "  --do_train=true \\\n",
    "  --do_eval=true \\\n",
    "  --data_dir=. \\\n",
    "  --vocab_file=chinese_L-12_H-768_A-12/vocab.txt \\\n",
    "  --bert_config_file=chinese_L-12_H-768_A-12/bert_config.json \\\n",
    "  --init_checkpoint= chinese_L-12_H-768_A-12/bert_model.ckpt \\\n",
    "  --max_seq_length=128 \\\n",
    "  --output_dir=tmp/call_center_output/ \\\n",
    "  --train_batch_size=32 \\\n",
    "  --learning_rate=3e-5 \\\n",
    "  --num_train_epochs=3.0 \\"
   ]
  },
  {
   "cell_type": "markdown",
   "metadata": {},
   "source": [
    "### predict test.tsv"
   ]
  },
  {
   "cell_type": "code",
   "execution_count": null,
   "metadata": {},
   "outputs": [],
   "source": [
    "!python run_classifier.py \\\n",
    "  --task_name=call_center \\\n",
    "  --do_predict=true \\\n",
    "  --data_dir=tmp/call_center_input \\\n",
    "  --vocab_file=chinese_L-12_H-768_A-12/vocab.txt \\\n",
    "  --bert_config_file=chinese_L-12_H-768_A-12/bert_config.json \\\n",
    "  --init_checkpoint=chinese_L-12_H-768_A-12/bert_model.ckpt \\\n",
    "  --max_seq_length=128 \\\n",
    "  --output_dir=tmp/call_center_output/"
   ]
  },
  {
   "cell_type": "markdown",
   "metadata": {},
   "source": [
    "### 預測準確率"
   ]
  },
  {
   "cell_type": "code",
   "execution_count": null,
   "metadata": {},
   "outputs": [],
   "source": [
    "#test_df\n",
    "#test_df2 = pd.read_csv('tmp/call_center_input/test.csv')\n",
    "test_label = test_df['label'].tolist()\n",
    "len(test_label)"
   ]
  },
  {
   "cell_type": "code",
   "execution_count": null,
   "metadata": {},
   "outputs": [],
   "source": [
    "test_predict_df = pd.read_csv('tmp/call_center_output/test_results.tsv',header=None,sep = '\\t')\n",
    "#test_predict_df"
   ]
  },
  {
   "cell_type": "code",
   "execution_count": null,
   "metadata": {},
   "outputs": [],
   "source": [
    "# a=np.argmax(test_predict_df.as_matrix(), axis=-1)  \n",
    "# a"
   ]
  },
  {
   "cell_type": "code",
   "execution_count": null,
   "metadata": {},
   "outputs": [],
   "source": [
    "test_predict_label =np.argmax(test_predict_df.as_matrix(), axis=-1)  \n",
    "#test_predict_label =a\n",
    "\n",
    "result = [1 if x==y else 0 for x,y in zip(test_label,test_predict_label)]\n",
    "\n",
    "\n",
    "sum(result)/len(result)"
   ]
  },
  {
   "cell_type": "code",
   "execution_count": null,
   "metadata": {},
   "outputs": [],
   "source": [
    "# category_df[category_df['category_a_target']==8].category_a.iloc[0]"
   ]
  },
  {
   "cell_type": "code",
   "execution_count": null,
   "metadata": {},
   "outputs": [],
   "source": [
    "#test_predict_label[0]\n",
    "predict_no = []\n",
    "for i in range(len(test_predict_label)):\n",
    "    if not (test_predict_label[i]==test_label[i]):\n",
    "        predict_no.append((i,\n",
    "                          #test_predict_label[i],\n",
    "                          category_df[category_df['category_a_target']==test_predict_label[i]].category_a.iloc[0],\n",
    "                          #test_label[i],\n",
    "                          category_df[category_df['category_a_target']==test_label[i]].category_a.iloc[0],\n",
    "                          test_df.iloc[i].description\n",
    "                         ))\n",
    "df_predict_no=DataFrame(predict_no)\n",
    "df_predict_no.columns = ['id','predit','label','description']\n",
    "df_predict_no"
   ]
  },
  {
   "cell_type": "code",
   "execution_count": null,
   "metadata": {},
   "outputs": [],
   "source": [
    "#t_df=df.loc[df['description']=='人在QCA出差 密碼過期無法收發Mail']\n",
    "\n",
    "# t_df=df.loc[df['description']=='ProE 在使用  很容易被踢出  不確定是否是License 問題  或多人在使用']\n",
    "# t_df"
   ]
  },
  {
   "cell_type": "code",
   "execution_count": null,
   "metadata": {},
   "outputs": [],
   "source": [
    "print(len(test_predict_label))\n",
    "print(len(test_label))"
   ]
  },
  {
   "cell_type": "code",
   "execution_count": null,
   "metadata": {},
   "outputs": [],
   "source": [
    "# print(test_predict_label)\n",
    "# print(test_label)"
   ]
  }
 ],
 "metadata": {
  "kernelspec": {
   "display_name": "Python 3",
   "language": "python",
   "name": "python3"
  },
  "language_info": {
   "codemirror_mode": {
    "name": "ipython",
    "version": 3
   },
   "file_extension": ".py",
   "mimetype": "text/x-python",
   "name": "python",
   "nbconvert_exporter": "python",
   "pygments_lexer": "ipython3",
   "version": "3.6.6"
  }
 },
 "nbformat": 4,
 "nbformat_minor": 2
}
