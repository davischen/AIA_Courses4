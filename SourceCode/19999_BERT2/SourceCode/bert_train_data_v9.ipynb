{
 "cells": [
  {
   "cell_type": "markdown",
   "metadata": {},
   "source": [
    "#### source: https://github.com/google-research/bert/blob/master/README.md"
   ]
  },
  {
   "cell_type": "markdown",
   "metadata": {},
   "source": [
    "### BERT fine-tune 實作分成三部分\n",
    "### 1. 準備資料\n",
    "### 2. 修改run_classifier.py 中的processor\n",
    "### 3. 執行run_classifier.py 與設定參數"
   ]
  },
  {
   "cell_type": "markdown",
   "metadata": {},
   "source": [
    "# ---------------------------------------------------"
   ]
  },
  {
   "cell_type": "markdown",
   "metadata": {},
   "source": [
    "#### 1. 準備資料"
   ]
  },
  {
   "cell_type": "code",
   "execution_count": 1,
   "metadata": {},
   "outputs": [],
   "source": [
    "from sklearn.model_selection import train_test_split\n",
    "import pandas as pd\n",
    "import numpy as np\n",
    "import pickle\n",
    "import uuid"
   ]
  },
  {
   "cell_type": "code",
   "execution_count": 2,
   "metadata": {},
   "outputs": [],
   "source": [
    "df = pd.read_csv('./data/19999_question_category_a_v9.csv')"
   ]
  },
  {
   "cell_type": "code",
   "execution_count": 3,
   "metadata": {},
   "outputs": [],
   "source": [
    "# df=df[((df.category_a_target != 7) & (df.category_a_target != 1) \n",
    "#        & (df.category_a_target != 2) & (df.category_a_target != 3))]\n",
    "\n",
    "#df=df[((df.category_a_target != 7))]"
   ]
  },
  {
   "cell_type": "code",
   "execution_count": 4,
   "metadata": {},
   "outputs": [
    {
     "data": {
      "text/html": [
       "<div>\n",
       "<style scoped>\n",
       "    .dataframe tbody tr th:only-of-type {\n",
       "        vertical-align: middle;\n",
       "    }\n",
       "\n",
       "    .dataframe tbody tr th {\n",
       "        vertical-align: top;\n",
       "    }\n",
       "\n",
       "    .dataframe thead th {\n",
       "        text-align: right;\n",
       "    }\n",
       "</style>\n",
       "<table border=\"1\" class=\"dataframe\">\n",
       "  <thead>\n",
       "    <tr style=\"text-align: right;\">\n",
       "      <th></th>\n",
       "      <th>description</th>\n",
       "      <th>category_a</th>\n",
       "      <th>category_b</th>\n",
       "      <th>category_c</th>\n",
       "      <th>category_d</th>\n",
       "      <th>category</th>\n",
       "      <th>description_clean</th>\n",
       "      <th>category_target</th>\n",
       "    </tr>\n",
       "  </thead>\n",
       "  <tbody>\n",
       "    <tr>\n",
       "      <th>0</th>\n",
       "      <td>無法會員登入,顯示訊息:無效的帳號或使用者不存在。帳號:96122401</td>\n",
       "      <td>CAMP</td>\n",
       "      <td>CAMP</td>\n",
       "      <td>CAMP</td>\n",
       "      <td>CAMP</td>\n",
       "      <td>資訊系統</td>\n",
       "      <td>無法會員登入 顯示訊息 無效的帳號或不存在 帳號</td>\n",
       "      <td>7</td>\n",
       "    </tr>\n",
       "    <tr>\n",
       "      <th>1</th>\n",
       "      <td>因今天有事請假，要補登先前的加班，但開啟camp後，出勤表單顯示的內容看起來像測試的，沒有最...</td>\n",
       "      <td>CAMP</td>\n",
       "      <td>CAMP</td>\n",
       "      <td>CAMP</td>\n",
       "      <td>CAMP</td>\n",
       "      <td>資訊系統</td>\n",
       "      <td>因有事請假 要補登先前的加班 但開啟camp後 出勤表單顯示的內容像測試的 沒有的時間也沒辦...</td>\n",
       "      <td>7</td>\n",
       "    </tr>\n",
       "  </tbody>\n",
       "</table>\n",
       "</div>"
      ],
      "text/plain": [
       "                                         description category_a category_b  \\\n",
       "0               無法會員登入,顯示訊息:無效的帳號或使用者不存在。帳號:96122401       CAMP       CAMP   \n",
       "1  因今天有事請假，要補登先前的加班，但開啟camp後，出勤表單顯示的內容看起來像測試的，沒有最...       CAMP       CAMP   \n",
       "\n",
       "  category_c category_d category  \\\n",
       "0       CAMP       CAMP     資訊系統   \n",
       "1       CAMP       CAMP     資訊系統   \n",
       "\n",
       "                                   description_clean  category_target  \n",
       "0                           無法會員登入 顯示訊息 無效的帳號或不存在 帳號                7  \n",
       "1  因有事請假 要補登先前的加班 但開啟camp後 出勤表單顯示的內容像測試的 沒有的時間也沒辦...                7  "
      ]
     },
     "execution_count": 4,
     "metadata": {},
     "output_type": "execute_result"
    }
   ],
   "source": [
    "df.head(2)"
   ]
  },
  {
   "cell_type": "code",
   "execution_count": 5,
   "metadata": {},
   "outputs": [],
   "source": [
    "# t_df=df.loc[df['description']=='無法登入雲端']\n",
    "# t_df\n",
    "\n",
    "# t_df=df.loc[df['description']=='網管 Outlook一直Lag,無法作業。']\n",
    "# t_df"
   ]
  },
  {
   "cell_type": "code",
   "execution_count": 6,
   "metadata": {},
   "outputs": [
    {
     "data": {
      "text/plain": [
       "(10163, 8)"
      ]
     },
     "execution_count": 6,
     "metadata": {},
     "output_type": "execute_result"
    }
   ],
   "source": [
    "df.shape"
   ]
  },
  {
   "cell_type": "code",
   "execution_count": 7,
   "metadata": {},
   "outputs": [
    {
     "data": {
      "text/plain": [
       "category    category_target\n",
       "Outlook與郵件  0                  1778\n",
       "SAP         1                  1445\n",
       "VPN連線       2                   311\n",
       "作業系統與印表機    3                  1750\n",
       "其他          4                   871\n",
       "商務用Skype    5                   362\n",
       "網路          6                  2008\n",
       "資訊系統        7                  1380\n",
       "電腦防毒        8                   258\n",
       "dtype: int64"
      ]
     },
     "execution_count": 7,
     "metadata": {},
     "output_type": "execute_result"
    }
   ],
   "source": [
    "df.groupby(['category','category_target']).size()"
   ]
  },
  {
   "cell_type": "code",
   "execution_count": 8,
   "metadata": {},
   "outputs": [],
   "source": [
    "# df[((df.category_a_target == 6))].head(5)"
   ]
  },
  {
   "cell_type": "code",
   "execution_count": 9,
   "metadata": {},
   "outputs": [
    {
     "data": {
      "text/html": [
       "<div>\n",
       "<style scoped>\n",
       "    .dataframe tbody tr th:only-of-type {\n",
       "        vertical-align: middle;\n",
       "    }\n",
       "\n",
       "    .dataframe tbody tr th {\n",
       "        vertical-align: top;\n",
       "    }\n",
       "\n",
       "    .dataframe thead th {\n",
       "        text-align: right;\n",
       "    }\n",
       "</style>\n",
       "<table border=\"1\" class=\"dataframe\">\n",
       "  <thead>\n",
       "    <tr style=\"text-align: right;\">\n",
       "      <th></th>\n",
       "      <th>category</th>\n",
       "      <th>description_clean</th>\n",
       "      <th>category_target</th>\n",
       "    </tr>\n",
       "  </thead>\n",
       "  <tbody>\n",
       "    <tr>\n",
       "      <th>0</th>\n",
       "      <td>資訊系統</td>\n",
       "      <td>無法會員登入 顯示訊息 無效的帳號或不存在 帳號</td>\n",
       "      <td>7</td>\n",
       "    </tr>\n",
       "    <tr>\n",
       "      <th>1</th>\n",
       "      <td>資訊系統</td>\n",
       "      <td>因有事請假 要補登先前的加班 但開啟camp後 出勤表單顯示的內容像測試的 沒有的時間也沒辦...</td>\n",
       "      <td>7</td>\n",
       "    </tr>\n",
       "    <tr>\n",
       "      <th>2</th>\n",
       "      <td>資訊系統</td>\n",
       "      <td>簽核BPM有問題 都顯示亂碼</td>\n",
       "      <td>7</td>\n",
       "    </tr>\n",
       "    <tr>\n",
       "      <th>3</th>\n",
       "      <td>資訊系統</td>\n",
       "      <td>無法在上面使用CAMP進行表單簽核動作</td>\n",
       "      <td>7</td>\n",
       "    </tr>\n",
       "    <tr>\n",
       "      <th>4</th>\n",
       "      <td>資訊系統</td>\n",
       "      <td>出差同仁無法登入camp  委請同事詢問</td>\n",
       "      <td>7</td>\n",
       "    </tr>\n",
       "  </tbody>\n",
       "</table>\n",
       "</div>"
      ],
      "text/plain": [
       "  category                                  description_clean  category_target\n",
       "0     資訊系統                           無法會員登入 顯示訊息 無效的帳號或不存在 帳號                7\n",
       "1     資訊系統  因有事請假 要補登先前的加班 但開啟camp後 出勤表單顯示的內容像測試的 沒有的時間也沒辦...                7\n",
       "2     資訊系統                                     簽核BPM有問題 都顯示亂碼                7\n",
       "3     資訊系統                                無法在上面使用CAMP進行表單簽核動作                7\n",
       "4     資訊系統                               出差同仁無法登入camp  委請同事詢問                7"
      ]
     },
     "execution_count": 9,
     "metadata": {},
     "output_type": "execute_result"
    }
   ],
   "source": [
    "df=df.drop(['category_a','category_b','category_c','category_d','description'], axis=1)\n",
    "df.head(5)"
   ]
  },
  {
   "cell_type": "code",
   "execution_count": 10,
   "metadata": {},
   "outputs": [],
   "source": [
    "df.columns = ['category_a','description','category_a_target']"
   ]
  },
  {
   "cell_type": "code",
   "execution_count": 11,
   "metadata": {},
   "outputs": [
    {
     "data": {
      "text/html": [
       "<div>\n",
       "<style scoped>\n",
       "    .dataframe tbody tr th:only-of-type {\n",
       "        vertical-align: middle;\n",
       "    }\n",
       "\n",
       "    .dataframe tbody tr th {\n",
       "        vertical-align: top;\n",
       "    }\n",
       "\n",
       "    .dataframe thead th {\n",
       "        text-align: right;\n",
       "    }\n",
       "</style>\n",
       "<table border=\"1\" class=\"dataframe\">\n",
       "  <thead>\n",
       "    <tr style=\"text-align: right;\">\n",
       "      <th></th>\n",
       "      <th>category_a</th>\n",
       "      <th>description</th>\n",
       "      <th>category_a_target</th>\n",
       "    </tr>\n",
       "  </thead>\n",
       "  <tbody>\n",
       "    <tr>\n",
       "      <th>0</th>\n",
       "      <td>資訊系統</td>\n",
       "      <td>無法會員登入 顯示訊息 無效的帳號或不存在 帳號</td>\n",
       "      <td>7</td>\n",
       "    </tr>\n",
       "    <tr>\n",
       "      <th>1</th>\n",
       "      <td>資訊系統</td>\n",
       "      <td>因有事請假 要補登先前的加班 但開啟camp後 出勤表單顯示的內容像測試的 沒有的時間也沒辦...</td>\n",
       "      <td>7</td>\n",
       "    </tr>\n",
       "    <tr>\n",
       "      <th>2</th>\n",
       "      <td>資訊系統</td>\n",
       "      <td>簽核BPM有問題 都顯示亂碼</td>\n",
       "      <td>7</td>\n",
       "    </tr>\n",
       "    <tr>\n",
       "      <th>3</th>\n",
       "      <td>資訊系統</td>\n",
       "      <td>無法在上面使用CAMP進行表單簽核動作</td>\n",
       "      <td>7</td>\n",
       "    </tr>\n",
       "    <tr>\n",
       "      <th>4</th>\n",
       "      <td>資訊系統</td>\n",
       "      <td>出差同仁無法登入camp  委請同事詢問</td>\n",
       "      <td>7</td>\n",
       "    </tr>\n",
       "  </tbody>\n",
       "</table>\n",
       "</div>"
      ],
      "text/plain": [
       "  category_a                                        description  \\\n",
       "0       資訊系統                           無法會員登入 顯示訊息 無效的帳號或不存在 帳號   \n",
       "1       資訊系統  因有事請假 要補登先前的加班 但開啟camp後 出勤表單顯示的內容像測試的 沒有的時間也沒辦...   \n",
       "2       資訊系統                                     簽核BPM有問題 都顯示亂碼   \n",
       "3       資訊系統                                無法在上面使用CAMP進行表單簽核動作   \n",
       "4       資訊系統                               出差同仁無法登入camp  委請同事詢問   \n",
       "\n",
       "   category_a_target  \n",
       "0                  7  \n",
       "1                  7  \n",
       "2                  7  \n",
       "3                  7  \n",
       "4                  7  "
      ]
     },
     "execution_count": 11,
     "metadata": {},
     "output_type": "execute_result"
    }
   ],
   "source": [
    "df.head(5)"
   ]
  },
  {
   "cell_type": "code",
   "execution_count": 12,
   "metadata": {},
   "outputs": [
    {
     "data": {
      "text/plain": [
       "[0, 1, 2, 3, 4, 5, 6, 7, 8]"
      ]
     },
     "execution_count": 12,
     "metadata": {},
     "output_type": "execute_result"
    }
   ],
   "source": [
    "sorted(df.category_a_target.unique())"
   ]
  },
  {
   "cell_type": "code",
   "execution_count": 13,
   "metadata": {},
   "outputs": [
    {
     "data": {
      "text/plain": [
       "array(['資訊系統', 'SAP', '電腦防毒', '作業系統與印表機', '網路', 'Outlook與郵件', 'VPN連線',\n",
       "       '其他', '商務用Skype', 7, 1, 8, 3, 6, 0, 2, 4, 5], dtype=object)"
      ]
     },
     "execution_count": 13,
     "metadata": {},
     "output_type": "execute_result"
    }
   ],
   "source": [
    "pd.unique(df[['category_a', 'category_a_target']].values.ravel('K'))"
   ]
  },
  {
   "cell_type": "code",
   "execution_count": 14,
   "metadata": {},
   "outputs": [
    {
     "data": {
      "text/plain": [
       "array(['資訊系統', 'SAP', '電腦防毒', '作業系統與印表機', '網路', 'Outlook與郵件', 'VPN連線',\n",
       "       '其他', '商務用Skype', 7, 1, 8, 3, 6, 0, 2, 4, 5], dtype=object)"
      ]
     },
     "execution_count": 14,
     "metadata": {},
     "output_type": "execute_result"
    }
   ],
   "source": [
    "pd.concat([df['category_a'], df['category_a_target']]).unique()"
   ]
  },
  {
   "cell_type": "code",
   "execution_count": 15,
   "metadata": {},
   "outputs": [
    {
     "data": {
      "text/html": [
       "<div>\n",
       "<style scoped>\n",
       "    .dataframe tbody tr th:only-of-type {\n",
       "        vertical-align: middle;\n",
       "    }\n",
       "\n",
       "    .dataframe tbody tr th {\n",
       "        vertical-align: top;\n",
       "    }\n",
       "\n",
       "    .dataframe thead th {\n",
       "        text-align: right;\n",
       "    }\n",
       "</style>\n",
       "<table border=\"1\" class=\"dataframe\">\n",
       "  <thead>\n",
       "    <tr style=\"text-align: right;\">\n",
       "      <th></th>\n",
       "      <th>category_a</th>\n",
       "      <th>category_a_target</th>\n",
       "    </tr>\n",
       "  </thead>\n",
       "  <tbody>\n",
       "    <tr>\n",
       "      <th>0</th>\n",
       "      <td>資訊系統</td>\n",
       "      <td>7</td>\n",
       "    </tr>\n",
       "    <tr>\n",
       "      <th>14</th>\n",
       "      <td>SAP</td>\n",
       "      <td>1</td>\n",
       "    </tr>\n",
       "    <tr>\n",
       "      <th>96</th>\n",
       "      <td>電腦防毒</td>\n",
       "      <td>8</td>\n",
       "    </tr>\n",
       "    <tr>\n",
       "      <th>97</th>\n",
       "      <td>作業系統與印表機</td>\n",
       "      <td>3</td>\n",
       "    </tr>\n",
       "    <tr>\n",
       "      <th>539</th>\n",
       "      <td>網路</td>\n",
       "      <td>6</td>\n",
       "    </tr>\n",
       "    <tr>\n",
       "      <th>598</th>\n",
       "      <td>Outlook與郵件</td>\n",
       "      <td>0</td>\n",
       "    </tr>\n",
       "    <tr>\n",
       "      <th>629</th>\n",
       "      <td>VPN連線</td>\n",
       "      <td>2</td>\n",
       "    </tr>\n",
       "    <tr>\n",
       "      <th>1230</th>\n",
       "      <td>其他</td>\n",
       "      <td>4</td>\n",
       "    </tr>\n",
       "    <tr>\n",
       "      <th>1642</th>\n",
       "      <td>商務用Skype</td>\n",
       "      <td>5</td>\n",
       "    </tr>\n",
       "  </tbody>\n",
       "</table>\n",
       "</div>"
      ],
      "text/plain": [
       "      category_a  category_a_target\n",
       "0           資訊系統                  7\n",
       "14           SAP                  1\n",
       "96          電腦防毒                  8\n",
       "97      作業系統與印表機                  3\n",
       "539           網路                  6\n",
       "598   Outlook與郵件                  0\n",
       "629        VPN連線                  2\n",
       "1230          其他                  4\n",
       "1642    商務用Skype                  5"
      ]
     },
     "execution_count": 15,
     "metadata": {},
     "output_type": "execute_result"
    }
   ],
   "source": [
    "category_df =df[['category_a', 'category_a_target']]\n",
    "category_df = category_df.drop_duplicates()\n",
    "category_df"
   ]
  },
  {
   "cell_type": "code",
   "execution_count": 16,
   "metadata": {},
   "outputs": [
    {
     "data": {
      "text/plain": [
       "(10163, 3)"
      ]
     },
     "execution_count": 16,
     "metadata": {},
     "output_type": "execute_result"
    }
   ],
   "source": [
    "df.shape"
   ]
  },
  {
   "cell_type": "code",
   "execution_count": 17,
   "metadata": {},
   "outputs": [
    {
     "data": {
      "text/plain": [
       "category_a  category_a_target\n",
       "Outlook與郵件  0                    1778\n",
       "SAP         1                    1445\n",
       "VPN連線       2                     311\n",
       "作業系統與印表機    3                    1750\n",
       "其他          4                     871\n",
       "商務用Skype    5                     362\n",
       "網路          6                    2008\n",
       "資訊系統        7                    1380\n",
       "電腦防毒        8                     258\n",
       "dtype: int64"
      ]
     },
     "execution_count": 17,
     "metadata": {},
     "output_type": "execute_result"
    }
   ],
   "source": [
    "df.groupby(['category_a','category_a_target']).size()"
   ]
  },
  {
   "cell_type": "markdown",
   "metadata": {},
   "source": [
    "### 現在我們將資料轉換成 BERT 需要的資料形式。根據官方fine tune教學，需要給的資料有四個column，分別是:\n",
    "### (1) guid: Unique id for the example.\n",
    "\n",
    "### (2) text_a: text_a: string. The untokenized text of the first sequence. For single sequence tasks, only this sequence must be specified.\n",
    "### (3) text_b(Optional): string. The untokenized text of the second sequence. Only must be specified for sequence pair tasks.\n",
    "### (4) label(Optional): string. The label of the example. This should be specified for train and dev examples, but not for test examples."
   ]
  },
  {
   "cell_type": "code",
   "execution_count": null,
   "metadata": {},
   "outputs": [],
   "source": [
    "data_for_bert = []\n",
    "strat_list = []\n",
    "for i in range(len(df)):\n",
    "    data_for_bert.append((i, #guid\n",
    "                          df.iloc[i,:].description, #text_a\n",
    "                          None, #text_b\n",
    "                          df.iloc[i,:].category_a_target #label\n",
    "                         ))\n",
    "    strat_list.append((i,df.iloc[i,:].category_a_target))"
   ]
  },
  {
   "cell_type": "code",
   "execution_count": null,
   "metadata": {},
   "outputs": [],
   "source": [
    "len(data_for_bert)"
   ]
  },
  {
   "cell_type": "markdown",
   "metadata": {},
   "source": [
    "### 產生test.csv,下列兩項擇一"
   ]
  },
  {
   "cell_type": "code",
   "execution_count": null,
   "metadata": {},
   "outputs": [],
   "source": [
    "#generate test data from 19999_test_question_v1.csv\n",
    "test_df = pd.read_csv('./data/19999_test_question_v1.csv')\n",
    "test_df=test_df.drop(['category_a','category_a_b','description_clean'], axis=1)\n",
    "test_df\n",
    "test_df.columns = ['description','label']\n",
    "test_df.to_csv('tmp/call_center_input/test.csv', index=False, header=True)"
   ]
  },
  {
   "cell_type": "code",
   "execution_count": null,
   "metadata": {},
   "outputs": [],
   "source": [
    "#random select to test.csv\n",
    "#import random\n",
    "#test_df = pd.DataFrame(random.sample(data_for_bert, 10))\n",
    "test_df = pd.DataFrame(data_for_bert)\n",
    "test_df=test_df.sample(frac=0.01) #frac是要返回的比例\n",
    "test_df.columns = ['id', 'description', 'text_b', 'label']\n",
    "test_df_2=test_df.drop(['id', 'text_b'], axis=1)\n",
    "#test_df\n",
    "test_df_2.to_csv('tmp/call_center_input/test.csv', index=False, header=True)"
   ]
  },
  {
   "cell_type": "markdown",
   "metadata": {},
   "source": [
    "### 產生test.tsv"
   ]
  },
  {
   "cell_type": "code",
   "execution_count": null,
   "metadata": {},
   "outputs": [],
   "source": [
    "#test.csv -> test.tsv\n",
    "import pandas as pd\n",
    "df_temp = pd.read_csv('tmp/call_center_input/test.csv') \n",
    "df_temp.to_csv('tmp/call_center_input/test.tsv', sep='\\t', index=False, header=True) #"
   ]
  },
  {
   "cell_type": "code",
   "execution_count": null,
   "metadata": {},
   "outputs": [],
   "source": [
    "#test_df.head(5)\n",
    "len(test_df)"
   ]
  },
  {
   "cell_type": "code",
   "execution_count": null,
   "metadata": {},
   "outputs": [],
   "source": [
    "len(data_for_bert)"
   ]
  },
  {
   "cell_type": "code",
   "execution_count": null,
   "metadata": {},
   "outputs": [],
   "source": [
    "for s in test_df.id:\n",
    "    data_for_bert=[k for k in data_for_bert if s not in k]"
   ]
  },
  {
   "cell_type": "code",
   "execution_count": null,
   "metadata": {},
   "outputs": [],
   "source": [
    "len(data_for_bert)"
   ]
  },
  {
   "cell_type": "code",
   "execution_count": null,
   "metadata": {},
   "outputs": [],
   "source": [
    "for s in test_df.id:\n",
    "    strat_list=[k for k in strat_list if s not in k]"
   ]
  },
  {
   "cell_type": "code",
   "execution_count": null,
   "metadata": {},
   "outputs": [],
   "source": [
    "len(strat_list)"
   ]
  },
  {
   "cell_type": "code",
   "execution_count": null,
   "metadata": {},
   "outputs": [],
   "source": [
    "strat_list_temp = []\n",
    "for s in strat_list:\n",
    "    strat_list_temp.append(s[1])\n",
    "strat_list=strat_list_temp"
   ]
  },
  {
   "cell_type": "markdown",
   "metadata": {},
   "source": [
    "### 產生pickle_file"
   ]
  },
  {
   "cell_type": "code",
   "execution_count": null,
   "metadata": {},
   "outputs": [],
   "source": [
    "train, dev = train_test_split(data_for_bert, test_size=0.2, stratify=strat_list)"
   ]
  },
  {
   "cell_type": "code",
   "execution_count": null,
   "metadata": {},
   "outputs": [],
   "source": [
    "print('length for fine-tune training data: ',len(train))\n",
    "print('length for fine-tune development data: ',len(dev))\n",
    "print('first instance:', data_for_bert[0])"
   ]
  },
  {
   "cell_type": "code",
   "execution_count": null,
   "metadata": {},
   "outputs": [],
   "source": [
    "with open('bert_train.p',mode = 'wb') as pickle_file:\n",
    "    pickle.dump(train, pickle_file)\n",
    "\n",
    "with open('bert_dev.p',mode = 'wb') as pickle_file:\n",
    "    pickle.dump(dev, pickle_file)\n"
   ]
  },
  {
   "cell_type": "markdown",
   "metadata": {},
   "source": [
    "#### 2. 於影片中說明如何修改 run_classifier.py 中的 processor"
   ]
  },
  {
   "cell_type": "markdown",
   "metadata": {},
   "source": [
    "#### 3. 執行run_classifier.py 並設定參數"
   ]
  },
  {
   "cell_type": "code",
   "execution_count": null,
   "metadata": {},
   "outputs": [],
   "source": [
    "# import os\n",
    "# os.environ[\"TF_CPP_MIN_LOG_LEVEL\"]=\"3\" \n",
    "#'1' # 這是默認的顯示等級，顯示所有信息\n",
    "#'2' # 只顯示 warning 和 Error\n",
    "#'3' # 只顯示 Error"
   ]
  },
  {
   "cell_type": "code",
   "execution_count": null,
   "metadata": {},
   "outputs": [],
   "source": [
    "!python run_classifier.py \\\n",
    "  --task_name=call_center \\\n",
    "  --do_train=true \\\n",
    "  --do_eval=true \\\n",
    "  --data_dir=. \\\n",
    "  --vocab_file=chinese_L-12_H-768_A-12/vocab.txt \\\n",
    "  --bert_config_file=chinese_L-12_H-768_A-12/bert_config.json \\\n",
    "  --init_checkpoint= chinese_L-12_H-768_A-12/bert_model.ckpt \\\n",
    "  --max_seq_length=128 \\\n",
    "  --output_dir=tmp/call_center_output/ \\\n",
    "  --train_batch_size=32 \\\n",
    "  --learning_rate=2e-5 \\\n",
    "  --num_train_epochs=3.0 \\"
   ]
  },
  {
   "cell_type": "markdown",
   "metadata": {},
   "source": [
    "### predict test.tsv"
   ]
  },
  {
   "cell_type": "code",
   "execution_count": null,
   "metadata": {},
   "outputs": [],
   "source": [
    "!python run_classifier.py \\\n",
    "  --task_name=call_center \\\n",
    "  --do_predict=true \\\n",
    "  --data_dir=tmp/call_center_input \\\n",
    "  --vocab_file=chinese_L-12_H-768_A-12/vocab.txt \\\n",
    "  --bert_config_file=chinese_L-12_H-768_A-12/bert_config.json \\\n",
    "  --init_checkpoint=chinese_L-12_H-768_A-12/bert_model.ckpt \\\n",
    "  --max_seq_length=128 \\\n",
    "  --output_dir=tmp/call_center_output/"
   ]
  },
  {
   "cell_type": "markdown",
   "metadata": {},
   "source": [
    "### 預測準確率"
   ]
  },
  {
   "cell_type": "code",
   "execution_count": null,
   "metadata": {},
   "outputs": [],
   "source": [
    "#test_df\n",
    "#test_df2 = pd.read_csv('tmp/call_center_input/test.csv')\n",
    "test_label = test_df['label'].tolist()\n",
    "len(test_label)"
   ]
  },
  {
   "cell_type": "code",
   "execution_count": null,
   "metadata": {},
   "outputs": [],
   "source": [
    "test_predict_df = pd.read_csv('tmp/call_center_output/test_results.tsv',header=None,sep = '\\t')\n",
    "#test_predict_df"
   ]
  },
  {
   "cell_type": "code",
   "execution_count": null,
   "metadata": {},
   "outputs": [],
   "source": [
    "# a=np.argmax(test_predict_df.as_matrix(), axis=-1)  \n",
    "# a"
   ]
  },
  {
   "cell_type": "code",
   "execution_count": null,
   "metadata": {},
   "outputs": [],
   "source": [
    "# #[5, 0, 4, 6]\n",
    "# for n, i in enumerate(a):\n",
    "#     if i == 0:\n",
    "#         a[n] = 5\n",
    "#     if i == 1:\n",
    "#         a[n] = 0\n",
    "#     if i == 2:\n",
    "#         a[n] = 4  \n",
    "#     if i == 3:\n",
    "#         a[n] = 6\n",
    "# a"
   ]
  },
  {
   "cell_type": "code",
   "execution_count": null,
   "metadata": {},
   "outputs": [],
   "source": [
    "test_predict_label =np.argmax(test_predict_df.as_matrix(), axis=-1)  \n",
    "#test_predict_label =a\n",
    "\n",
    "result = [1 if x==y else 0 for x,y in zip(test_label,test_predict_label)]\n",
    "\n",
    "\n",
    "sum(result)/len(result)"
   ]
  },
  {
   "cell_type": "code",
   "execution_count": null,
   "metadata": {},
   "outputs": [],
   "source": [
    "# category_df[category_df['category_a_target']==8].category_a.iloc[0]"
   ]
  },
  {
   "cell_type": "code",
   "execution_count": null,
   "metadata": {},
   "outputs": [],
   "source": [
    "#test_predict_label[0]\n",
    "predict_no = []\n",
    "for i in range(len(test_predict_label)):\n",
    "    if not (test_predict_label[i]==test_label[i]):\n",
    "        predict_no.append((i,\n",
    "                          #test_predict_label[i],\n",
    "                          category_df[category_df['category_a_target']==test_predict_label[i]].category_a.iloc[0],\n",
    "                          #test_label[i],\n",
    "                          category_df[category_df['category_a_target']==test_label[i]].category_a.iloc[0],\n",
    "                          test_df.iloc[i].description\n",
    "                         ))\n",
    "predict_no"
   ]
  },
  {
   "cell_type": "code",
   "execution_count": null,
   "metadata": {},
   "outputs": [],
   "source": [
    "#t_df=df.loc[df['description']=='人在QCA出差 密碼過期無法收發Mail']\n",
    "\n",
    "t_df=df.loc[df['description']=='ProE 在使用  很容易被踢出  不確定是否是License 問題  或多人在使用']\n",
    "t_df"
   ]
  },
  {
   "cell_type": "code",
   "execution_count": null,
   "metadata": {},
   "outputs": [],
   "source": [
    "print(len(test_predict_label))\n",
    "print(len(test_label))"
   ]
  },
  {
   "cell_type": "code",
   "execution_count": null,
   "metadata": {},
   "outputs": [],
   "source": [
    "# print(test_predict_label)\n",
    "# print(test_label)"
   ]
  }
 ],
 "metadata": {
  "kernelspec": {
   "display_name": "Python 3",
   "language": "python",
   "name": "python3"
  },
  "language_info": {
   "codemirror_mode": {
    "name": "ipython",
    "version": 3
   },
   "file_extension": ".py",
   "mimetype": "text/x-python",
   "name": "python",
   "nbconvert_exporter": "python",
   "pygments_lexer": "ipython3",
   "version": "3.6.6"
  }
 },
 "nbformat": 4,
 "nbformat_minor": 2
}
