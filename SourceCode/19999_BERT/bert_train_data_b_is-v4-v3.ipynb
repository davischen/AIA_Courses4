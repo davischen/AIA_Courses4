{
 "cells": [
  {
   "cell_type": "markdown",
   "metadata": {},
   "source": [
    "#### source: https://github.com/google-research/bert/blob/master/README.md"
   ]
  },
  {
   "cell_type": "markdown",
   "metadata": {},
   "source": [
    "### BERT fine-tune 實作分成三部分\n",
    "### 1. 準備資料\n",
    "### 2. 修改run_classifier.py 中的processor\n",
    "### 3. 執行run_classifier.py 與設定參數"
   ]
  },
  {
   "cell_type": "markdown",
   "metadata": {},
   "source": [
    "# ---------------------------------------------------"
   ]
  },
  {
   "cell_type": "markdown",
   "metadata": {},
   "source": [
    "#### 1. 準備資料"
   ]
  },
  {
   "cell_type": "code",
   "execution_count": 1,
   "metadata": {},
   "outputs": [],
   "source": [
    "from sklearn.model_selection import train_test_split\n",
    "import pandas as pd\n",
    "import numpy as np\n",
    "import pickle\n",
    "import uuid\n",
    "from pandas.core.frame import DataFrame"
   ]
  },
  {
   "cell_type": "code",
   "execution_count": 2,
   "metadata": {},
   "outputs": [],
   "source": [
    "df = pd.read_csv('./data/19999_question_category_b_is_v4.csv')"
   ]
  },
  {
   "cell_type": "code",
   "execution_count": 3,
   "metadata": {},
   "outputs": [],
   "source": [
    "# df=df[((df.category_a_target != 7) & (df.category_a_target != 1) \n",
    "#        & (df.category_a_target != 2) & (df.category_a_target != 3))]\n",
    "\n",
    "#df=df[((df.category_a_target != 7))]"
   ]
  },
  {
   "cell_type": "code",
   "execution_count": 4,
   "metadata": {},
   "outputs": [
    {
     "data": {
      "text/html": [
       "<div>\n",
       "<style scoped>\n",
       "    .dataframe tbody tr th:only-of-type {\n",
       "        vertical-align: middle;\n",
       "    }\n",
       "\n",
       "    .dataframe tbody tr th {\n",
       "        vertical-align: top;\n",
       "    }\n",
       "\n",
       "    .dataframe thead th {\n",
       "        text-align: right;\n",
       "    }\n",
       "</style>\n",
       "<table border=\"1\" class=\"dataframe\">\n",
       "  <thead>\n",
       "    <tr style=\"text-align: right;\">\n",
       "      <th></th>\n",
       "      <th>description</th>\n",
       "      <th>category_a</th>\n",
       "      <th>category_b</th>\n",
       "      <th>category_c</th>\n",
       "      <th>category_d</th>\n",
       "      <th>category</th>\n",
       "      <th>description_clean</th>\n",
       "      <th>category_target</th>\n",
       "    </tr>\n",
       "  </thead>\n",
       "  <tbody>\n",
       "    <tr>\n",
       "      <th>0</th>\n",
       "      <td>下面issue 無法open…完成後會跳到另外一個issue   但原本issue 未Ope...</td>\n",
       "      <td>R&amp;D資訊系統</td>\n",
       "      <td>測試相關服務</td>\n",
       "      <td>【QITS】研發議題追蹤系統</td>\n",
       "      <td>相關操作詢問</td>\n",
       "      <td>R&amp;D資訊系統</td>\n",
       "      <td>下麵 無法open…完成後會跳到一個   但原本 未open完成      再幫忙看一下  ...</td>\n",
       "      <td>1</td>\n",
       "    </tr>\n",
       "    <tr>\n",
       "      <th>1</th>\n",
       "      <td>1. Issue Status秀出來的文字裡面,出現斷行符號,但實際上看不到斷行效果  2....</td>\n",
       "      <td>R&amp;D資訊系統</td>\n",
       "      <td>測試相關服務</td>\n",
       "      <td>【QITS】研發議題追蹤系統</td>\n",
       "      <td>相關操作詢問</td>\n",
       "      <td>R&amp;D資訊系統</td>\n",
       "      <td>1.  status秀出來的文字裡面出現斷行符號但實際上看不到斷行效果  2.  assig...</td>\n",
       "      <td>1</td>\n",
       "    </tr>\n",
       "  </tbody>\n",
       "</table>\n",
       "</div>"
      ],
      "text/plain": [
       "                                         description category_a category_b  \\\n",
       "0  下面issue 無法open…完成後會跳到另外一個issue   但原本issue 未Ope...    R&D資訊系統     測試相關服務   \n",
       "1  1. Issue Status秀出來的文字裡面,出現斷行符號,但實際上看不到斷行效果  2....    R&D資訊系統     測試相關服務   \n",
       "\n",
       "       category_c category_d category  \\\n",
       "0  【QITS】研發議題追蹤系統     相關操作詢問  R&D資訊系統   \n",
       "1  【QITS】研發議題追蹤系統     相關操作詢問  R&D資訊系統   \n",
       "\n",
       "                                   description_clean  category_target  \n",
       "0  下麵 無法open…完成後會跳到一個   但原本 未open完成      再幫忙看一下  ...                1  \n",
       "1  1.  status秀出來的文字裡面出現斷行符號但實際上看不到斷行效果  2.  assig...                1  "
      ]
     },
     "execution_count": 4,
     "metadata": {},
     "output_type": "execute_result"
    }
   ],
   "source": [
    "df.head(2)"
   ]
  },
  {
   "cell_type": "code",
   "execution_count": 5,
   "metadata": {},
   "outputs": [
    {
     "data": {
      "text/plain": [
       "(1336, 8)"
      ]
     },
     "execution_count": 5,
     "metadata": {},
     "output_type": "execute_result"
    }
   ],
   "source": [
    "df.shape"
   ]
  },
  {
   "cell_type": "code",
   "execution_count": 6,
   "metadata": {},
   "outputs": [
    {
     "data": {
      "text/plain": [
       "category  category_target\n",
       "BPM平台系統   0                  644\n",
       "R&D資訊系統   1                  353\n",
       "內部資訊系統    2                  339\n",
       "dtype: int64"
      ]
     },
     "execution_count": 6,
     "metadata": {},
     "output_type": "execute_result"
    }
   ],
   "source": [
    "df.groupby(['category','category_target']).size()"
   ]
  },
  {
   "cell_type": "code",
   "execution_count": 7,
   "metadata": {},
   "outputs": [],
   "source": [
    "#drop category\n",
    "# df=df.loc[(df['category_target'] != 2) & (df['category_target'] != 7)]"
   ]
  },
  {
   "cell_type": "code",
   "execution_count": 8,
   "metadata": {},
   "outputs": [
    {
     "data": {
      "text/html": [
       "<div>\n",
       "<style scoped>\n",
       "    .dataframe tbody tr th:only-of-type {\n",
       "        vertical-align: middle;\n",
       "    }\n",
       "\n",
       "    .dataframe tbody tr th {\n",
       "        vertical-align: top;\n",
       "    }\n",
       "\n",
       "    .dataframe thead th {\n",
       "        text-align: right;\n",
       "    }\n",
       "</style>\n",
       "<table border=\"1\" class=\"dataframe\">\n",
       "  <thead>\n",
       "    <tr style=\"text-align: right;\">\n",
       "      <th></th>\n",
       "      <th>category</th>\n",
       "      <th>description_clean</th>\n",
       "      <th>category_target</th>\n",
       "    </tr>\n",
       "  </thead>\n",
       "  <tbody>\n",
       "    <tr>\n",
       "      <th>0</th>\n",
       "      <td>R&amp;D資訊系統</td>\n",
       "      <td>下麵 無法open…完成後會跳到一個   但原本 未open完成      再幫忙看一下  ...</td>\n",
       "      <td>1</td>\n",
       "    </tr>\n",
       "    <tr>\n",
       "      <th>1</th>\n",
       "      <td>R&amp;D資訊系統</td>\n",
       "      <td>1.  status秀出來的文字裡面出現斷行符號但實際上看不到斷行效果  2.  assig...</td>\n",
       "      <td>1</td>\n",
       "    </tr>\n",
       "    <tr>\n",
       "      <th>2</th>\n",
       "      <td>R&amp;D資訊系統</td>\n",
       "      <td>的測試人員反應qits系統原本nb7的使用權限被刪除如附件一  原本已被刪除的權限現在又跑出...</td>\n",
       "      <td>1</td>\n",
       "    </tr>\n",
       "    <tr>\n",
       "      <th>3</th>\n",
       "      <td>R&amp;D資訊系統</td>\n",
       "      <td>新增 bu3 bios   人員</td>\n",
       "      <td>1</td>\n",
       "    </tr>\n",
       "    <tr>\n",
       "      <th>4</th>\n",
       "      <td>R&amp;D資訊系統</td>\n",
       "      <td>please help create new platformcpset “amd rich...</td>\n",
       "      <td>1</td>\n",
       "    </tr>\n",
       "  </tbody>\n",
       "</table>\n",
       "</div>"
      ],
      "text/plain": [
       "  category                                  description_clean  category_target\n",
       "0  R&D資訊系統  下麵 無法open…完成後會跳到一個   但原本 未open完成      再幫忙看一下  ...                1\n",
       "1  R&D資訊系統  1.  status秀出來的文字裡面出現斷行符號但實際上看不到斷行效果  2.  assig...                1\n",
       "2  R&D資訊系統  的測試人員反應qits系統原本nb7的使用權限被刪除如附件一  原本已被刪除的權限現在又跑出...                1\n",
       "3  R&D資訊系統                                   新增 bu3 bios   人員                1\n",
       "4  R&D資訊系統  please help create new platformcpset “amd rich...                1"
      ]
     },
     "execution_count": 8,
     "metadata": {},
     "output_type": "execute_result"
    }
   ],
   "source": [
    "df=df.drop(['category_a','category_b','category_c','category_d','description'], axis=1)\n",
    "df.head(5)"
   ]
  },
  {
   "cell_type": "code",
   "execution_count": 9,
   "metadata": {},
   "outputs": [],
   "source": [
    "df.columns = ['category_a','description','category_a_target']"
   ]
  },
  {
   "cell_type": "code",
   "execution_count": 10,
   "metadata": {},
   "outputs": [
    {
     "data": {
      "text/html": [
       "<div>\n",
       "<style scoped>\n",
       "    .dataframe tbody tr th:only-of-type {\n",
       "        vertical-align: middle;\n",
       "    }\n",
       "\n",
       "    .dataframe tbody tr th {\n",
       "        vertical-align: top;\n",
       "    }\n",
       "\n",
       "    .dataframe thead th {\n",
       "        text-align: right;\n",
       "    }\n",
       "</style>\n",
       "<table border=\"1\" class=\"dataframe\">\n",
       "  <thead>\n",
       "    <tr style=\"text-align: right;\">\n",
       "      <th></th>\n",
       "      <th>category_a</th>\n",
       "      <th>description</th>\n",
       "      <th>category_a_target</th>\n",
       "    </tr>\n",
       "  </thead>\n",
       "  <tbody>\n",
       "    <tr>\n",
       "      <th>0</th>\n",
       "      <td>R&amp;D資訊系統</td>\n",
       "      <td>下麵 無法open…完成後會跳到一個   但原本 未open完成      再幫忙看一下  ...</td>\n",
       "      <td>1</td>\n",
       "    </tr>\n",
       "    <tr>\n",
       "      <th>1</th>\n",
       "      <td>R&amp;D資訊系統</td>\n",
       "      <td>1.  status秀出來的文字裡面出現斷行符號但實際上看不到斷行效果  2.  assig...</td>\n",
       "      <td>1</td>\n",
       "    </tr>\n",
       "    <tr>\n",
       "      <th>2</th>\n",
       "      <td>R&amp;D資訊系統</td>\n",
       "      <td>的測試人員反應qits系統原本nb7的使用權限被刪除如附件一  原本已被刪除的權限現在又跑出...</td>\n",
       "      <td>1</td>\n",
       "    </tr>\n",
       "    <tr>\n",
       "      <th>3</th>\n",
       "      <td>R&amp;D資訊系統</td>\n",
       "      <td>新增 bu3 bios   人員</td>\n",
       "      <td>1</td>\n",
       "    </tr>\n",
       "    <tr>\n",
       "      <th>4</th>\n",
       "      <td>R&amp;D資訊系統</td>\n",
       "      <td>please help create new platformcpset “amd rich...</td>\n",
       "      <td>1</td>\n",
       "    </tr>\n",
       "  </tbody>\n",
       "</table>\n",
       "</div>"
      ],
      "text/plain": [
       "  category_a                                        description  \\\n",
       "0    R&D資訊系統  下麵 無法open…完成後會跳到一個   但原本 未open完成      再幫忙看一下  ...   \n",
       "1    R&D資訊系統  1.  status秀出來的文字裡面出現斷行符號但實際上看不到斷行效果  2.  assig...   \n",
       "2    R&D資訊系統  的測試人員反應qits系統原本nb7的使用權限被刪除如附件一  原本已被刪除的權限現在又跑出...   \n",
       "3    R&D資訊系統                                   新增 bu3 bios   人員   \n",
       "4    R&D資訊系統  please help create new platformcpset “amd rich...   \n",
       "\n",
       "   category_a_target  \n",
       "0                  1  \n",
       "1                  1  \n",
       "2                  1  \n",
       "3                  1  \n",
       "4                  1  "
      ]
     },
     "execution_count": 10,
     "metadata": {},
     "output_type": "execute_result"
    }
   ],
   "source": [
    "df.head(5)"
   ]
  },
  {
   "cell_type": "code",
   "execution_count": 11,
   "metadata": {},
   "outputs": [
    {
     "data": {
      "text/plain": [
       "[0, 1, 2]"
      ]
     },
     "execution_count": 11,
     "metadata": {},
     "output_type": "execute_result"
    }
   ],
   "source": [
    "#結果放到run_classifier.py get_labels 443行\n",
    "sorted(df.category_a_target.unique())"
   ]
  },
  {
   "cell_type": "code",
   "execution_count": 12,
   "metadata": {},
   "outputs": [
    {
     "data": {
      "text/plain": [
       "array(['R&D資訊系統', 'BPM平台系統', '內部資訊系統', 1, 0, 2], dtype=object)"
      ]
     },
     "execution_count": 12,
     "metadata": {},
     "output_type": "execute_result"
    }
   ],
   "source": [
    "pd.unique(df[['category_a', 'category_a_target']].values.ravel('K'))"
   ]
  },
  {
   "cell_type": "code",
   "execution_count": 13,
   "metadata": {},
   "outputs": [
    {
     "data": {
      "text/plain": [
       "array(['R&D資訊系統', 'BPM平台系統', '內部資訊系統', 1, 0, 2], dtype=object)"
      ]
     },
     "execution_count": 13,
     "metadata": {},
     "output_type": "execute_result"
    }
   ],
   "source": [
    "pd.concat([df['category_a'], df['category_a_target']]).unique()"
   ]
  },
  {
   "cell_type": "code",
   "execution_count": 14,
   "metadata": {},
   "outputs": [
    {
     "data": {
      "text/html": [
       "<div>\n",
       "<style scoped>\n",
       "    .dataframe tbody tr th:only-of-type {\n",
       "        vertical-align: middle;\n",
       "    }\n",
       "\n",
       "    .dataframe tbody tr th {\n",
       "        vertical-align: top;\n",
       "    }\n",
       "\n",
       "    .dataframe thead th {\n",
       "        text-align: right;\n",
       "    }\n",
       "</style>\n",
       "<table border=\"1\" class=\"dataframe\">\n",
       "  <thead>\n",
       "    <tr style=\"text-align: right;\">\n",
       "      <th></th>\n",
       "      <th>category_a</th>\n",
       "      <th>category_a_target</th>\n",
       "    </tr>\n",
       "  </thead>\n",
       "  <tbody>\n",
       "    <tr>\n",
       "      <th>0</th>\n",
       "      <td>R&amp;D資訊系統</td>\n",
       "      <td>1</td>\n",
       "    </tr>\n",
       "    <tr>\n",
       "      <th>8</th>\n",
       "      <td>BPM平台系統</td>\n",
       "      <td>0</td>\n",
       "    </tr>\n",
       "    <tr>\n",
       "      <th>267</th>\n",
       "      <td>內部資訊系統</td>\n",
       "      <td>2</td>\n",
       "    </tr>\n",
       "  </tbody>\n",
       "</table>\n",
       "</div>"
      ],
      "text/plain": [
       "    category_a  category_a_target\n",
       "0      R&D資訊系統                  1\n",
       "8      BPM平台系統                  0\n",
       "267     內部資訊系統                  2"
      ]
     },
     "execution_count": 14,
     "metadata": {},
     "output_type": "execute_result"
    }
   ],
   "source": [
    "category_df =df[['category_a', 'category_a_target']]\n",
    "category_df = category_df.drop_duplicates()\n",
    "category_df"
   ]
  },
  {
   "cell_type": "code",
   "execution_count": 15,
   "metadata": {},
   "outputs": [
    {
     "data": {
      "text/plain": [
       "(1336, 3)"
      ]
     },
     "execution_count": 15,
     "metadata": {},
     "output_type": "execute_result"
    }
   ],
   "source": [
    "df.shape"
   ]
  },
  {
   "cell_type": "code",
   "execution_count": 16,
   "metadata": {},
   "outputs": [
    {
     "data": {
      "text/plain": [
       "category_a  category_a_target\n",
       "BPM平台系統     0                    644\n",
       "R&D資訊系統     1                    353\n",
       "內部資訊系統      2                    339\n",
       "dtype: int64"
      ]
     },
     "execution_count": 16,
     "metadata": {},
     "output_type": "execute_result"
    }
   ],
   "source": [
    "df.groupby(['category_a','category_a_target']).size()"
   ]
  },
  {
   "cell_type": "markdown",
   "metadata": {},
   "source": [
    "### 現在我們將資料轉換成 BERT 需要的資料形式。根據官方fine tune教學，需要給的資料有四個column，分別是:\n",
    "### (1) guid: Unique id for the example.\n",
    "\n",
    "### (2) text_a: text_a: string. The untokenized text of the first sequence. For single sequence tasks, only this sequence must be specified.\n",
    "### (3) text_b(Optional): string. The untokenized text of the second sequence. Only must be specified for sequence pair tasks.\n",
    "### (4) label(Optional): string. The label of the example. This should be specified for train and dev examples, but not for test examples."
   ]
  },
  {
   "cell_type": "code",
   "execution_count": 17,
   "metadata": {},
   "outputs": [],
   "source": [
    "data_for_bert = []\n",
    "strat_list = []\n",
    "for i in range(len(df)):\n",
    "    data_for_bert.append((i, #guid\n",
    "                          df.iloc[i,:].description, #text_a\n",
    "                          None, #text_b\n",
    "                          df.iloc[i,:].category_a_target #label\n",
    "                         ))\n",
    "    strat_list.append((i,df.iloc[i,:].category_a_target))"
   ]
  },
  {
   "cell_type": "code",
   "execution_count": 18,
   "metadata": {},
   "outputs": [
    {
     "data": {
      "text/plain": [
       "1336"
      ]
     },
     "execution_count": 18,
     "metadata": {},
     "output_type": "execute_result"
    }
   ],
   "source": [
    "len(data_for_bert)"
   ]
  },
  {
   "cell_type": "markdown",
   "metadata": {},
   "source": [
    "### 產生test.csv,下列兩項擇一"
   ]
  },
  {
   "cell_type": "code",
   "execution_count": 19,
   "metadata": {},
   "outputs": [],
   "source": [
    "# #generate t_cest data from 19999_test_question_v1.csv\n",
    "# test_df = pd.read_csv('./data/19999_test_question_v2.csv')\n",
    "# test_df=test_df.drop(['category_a','category_a_b','description_clean'], axis=1)\n",
    "# test_df\n",
    "# test_df.columns = ['description','label']\n",
    "# test_df.to_csv('tmp/call_center_input/test.csv', index=False, header=True)"
   ]
  },
  {
   "cell_type": "code",
   "execution_count": 20,
   "metadata": {},
   "outputs": [],
   "source": [
    "#random select to test.csv\n",
    "#import random\n",
    "#test_df = pd.DataFrame(random.sample(data_for_bert, 10))\n",
    "test_df = pd.DataFrame(data_for_bert)\n",
    "test_df=test_df.sample(frac=0.03) #frac是要返回的比例\n",
    "test_df.columns = ['id', 'description', 'text_b', 'label']\n",
    "test_df_2=test_df.drop(['id', 'text_b'], axis=1)\n",
    "#test_df\n",
    "test_df_2.to_csv('tmp/call_center_input/test.csv', index=False, header=True)"
   ]
  },
  {
   "cell_type": "markdown",
   "metadata": {},
   "source": [
    "### 產生test.tsv"
   ]
  },
  {
   "cell_type": "code",
   "execution_count": 21,
   "metadata": {},
   "outputs": [],
   "source": [
    "#test.csv -> test.tsv\n",
    "import pandas as pd\n",
    "df_temp = pd.read_csv('tmp/call_center_input/test.csv') \n",
    "df_temp.to_csv('tmp/call_center_input/test.tsv', sep='\\t', index=False, header=True) #"
   ]
  },
  {
   "cell_type": "code",
   "execution_count": 22,
   "metadata": {},
   "outputs": [
    {
     "data": {
      "text/plain": [
       "40"
      ]
     },
     "execution_count": 22,
     "metadata": {},
     "output_type": "execute_result"
    }
   ],
   "source": [
    "#test_df.head(5)\n",
    "len(test_df)"
   ]
  },
  {
   "cell_type": "code",
   "execution_count": 23,
   "metadata": {},
   "outputs": [
    {
     "data": {
      "text/plain": [
       "1336"
      ]
     },
     "execution_count": 23,
     "metadata": {},
     "output_type": "execute_result"
    }
   ],
   "source": [
    "len(data_for_bert)"
   ]
  },
  {
   "cell_type": "code",
   "execution_count": 24,
   "metadata": {},
   "outputs": [],
   "source": [
    "for s in test_df.id:\n",
    "    data_for_bert=[k for k in data_for_bert if s not in k]"
   ]
  },
  {
   "cell_type": "code",
   "execution_count": 25,
   "metadata": {},
   "outputs": [
    {
     "data": {
      "text/plain": [
       "1296"
      ]
     },
     "execution_count": 25,
     "metadata": {},
     "output_type": "execute_result"
    }
   ],
   "source": [
    "len(data_for_bert)"
   ]
  },
  {
   "cell_type": "code",
   "execution_count": 26,
   "metadata": {},
   "outputs": [],
   "source": [
    "for s in test_df.id:\n",
    "    strat_list=[k for k in strat_list if s not in k]"
   ]
  },
  {
   "cell_type": "code",
   "execution_count": 27,
   "metadata": {},
   "outputs": [
    {
     "data": {
      "text/plain": [
       "1296"
      ]
     },
     "execution_count": 27,
     "metadata": {},
     "output_type": "execute_result"
    }
   ],
   "source": [
    "len(strat_list)"
   ]
  },
  {
   "cell_type": "code",
   "execution_count": 28,
   "metadata": {},
   "outputs": [],
   "source": [
    "strat_list_temp = []\n",
    "for s in strat_list:\n",
    "    strat_list_temp.append(s[1])\n",
    "strat_list=strat_list_temp"
   ]
  },
  {
   "cell_type": "markdown",
   "metadata": {},
   "source": [
    "### 產生Train.tsv"
   ]
  },
  {
   "cell_type": "code",
   "execution_count": 29,
   "metadata": {},
   "outputs": [],
   "source": [
    "train_df = pd.DataFrame(data_for_bert)\n",
    "train_df.columns = ['id', 'description', 'text_b', 'label']\n",
    "train_df_2=train_df.drop(['id', 'text_b'], axis=1)\n",
    "#test_df\n",
    "train_df_2.to_csv('tmp/call_center_input/train.csv', index=False, header=True)"
   ]
  },
  {
   "cell_type": "code",
   "execution_count": 30,
   "metadata": {},
   "outputs": [],
   "source": [
    "#test.csv -> test.tsv\n",
    "import pandas as pd\n",
    "df_temp = pd.read_csv('tmp/call_center_input/train.csv') \n",
    "df_temp.to_csv('tmp/call_center_input/train.tsv', sep='\\t', index=False, header=True) #"
   ]
  },
  {
   "cell_type": "markdown",
   "metadata": {},
   "source": [
    "### 產生pickle_file"
   ]
  },
  {
   "cell_type": "code",
   "execution_count": 31,
   "metadata": {},
   "outputs": [],
   "source": [
    "train, dev = train_test_split(data_for_bert, test_size=0.2, stratify=strat_list)"
   ]
  },
  {
   "cell_type": "code",
   "execution_count": 32,
   "metadata": {},
   "outputs": [
    {
     "name": "stdout",
     "output_type": "stream",
     "text": [
      "length for fine-tune training data:  1036\n",
      "length for fine-tune development data:  260\n",
      "first instance: (0, '下麵 無法open…完成後會跳到一個   但原本 未open完成      再幫忙看一下  了      t31 the screen is lag wle the system is recording by metro ui and arcosoft 2.gh camera firmware draft open the screen is lag wle the system is recording by metro ui and arcosoft 6.2..225 logo rv8 rc1 win8.164 kr1a /11/21 下午  s', None, 1)\n"
     ]
    }
   ],
   "source": [
    "print('length for fine-tune training data: ',len(train))\n",
    "print('length for fine-tune development data: ',len(dev))\n",
    "print('first instance:', data_for_bert[0])"
   ]
  },
  {
   "cell_type": "code",
   "execution_count": 33,
   "metadata": {},
   "outputs": [],
   "source": [
    "with open('bert_train.p',mode = 'wb') as pickle_file:\n",
    "    pickle.dump(train, pickle_file)\n",
    "\n",
    "with open('bert_dev.p',mode = 'wb') as pickle_file:\n",
    "    pickle.dump(dev, pickle_file)\n"
   ]
  },
  {
   "cell_type": "markdown",
   "metadata": {},
   "source": [
    "#### 2. 於影片中說明如何修改 run_classifier.py 中的 processor"
   ]
  },
  {
   "cell_type": "markdown",
   "metadata": {},
   "source": [
    "#### 3. 執行run_classifier.py 並設定參數"
   ]
  },
  {
   "cell_type": "code",
   "execution_count": 34,
   "metadata": {},
   "outputs": [],
   "source": [
    "!rm -r tmp/call_center_output/"
   ]
  },
  {
   "cell_type": "code",
   "execution_count": 35,
   "metadata": {},
   "outputs": [],
   "source": [
    "#   --train_batch_size=32 \\ #16, 32\n",
    "#   --learning_rate=3e-5 \\  #5e-5, 3e-5, 2e-5\n",
    "#   --num_train_epochs=3.0 \\#3, 4"
   ]
  },
  {
   "cell_type": "code",
   "execution_count": 36,
   "metadata": {},
   "outputs": [
    {
     "name": "stdout",
     "output_type": "stream",
     "text": [
      "/opt/conda/lib/python3.6/site-packages/h5py/__init__.py:36: FutureWarning: Conversion of the second argument of issubdtype from `float` to `np.floating` is deprecated. In future, it will be treated as `np.float64 == np.dtype(float).type`.\n",
      "  from ._conv import register_converters as _register_converters\n",
      "WARNING:tensorflow:Estimator's model_fn (<function model_fn_builder.<locals>.model_fn at 0x7f6fcf0bdd08>) includes params argument, but params are not passed to Estimator.\n",
      "INFO:tensorflow:Using config: {'_model_dir': 'tmp/call_center_output/', '_tf_random_seed': None, '_save_summary_steps': 100, '_save_checkpoints_steps': 1000, '_save_checkpoints_secs': None, '_session_config': None, '_keep_checkpoint_max': 5, '_keep_checkpoint_every_n_hours': 10000, '_log_step_count_steps': None, '_train_distribute': None, '_device_fn': None, '_service': None, '_cluster_spec': <tensorflow.python.training.server_lib.ClusterSpec object at 0x7f6fcf079438>, '_task_type': 'worker', '_task_id': 0, '_global_id_in_cluster': 0, '_master': '', '_evaluation_master': '', '_is_chief': True, '_num_ps_replicas': 0, '_num_worker_replicas': 1, '_tpu_config': TPUConfig(iterations_per_loop=1000, num_shards=8, num_cores_per_replica=None, per_host_input_for_training=3, tpu_job_name=None, initial_infeed_sleep_secs=None), '_cluster': None}\n",
      "INFO:tensorflow:_TPUContext: eval_on_tpu True\n",
      "WARNING:tensorflow:eval_on_tpu ignored because use_tpu is False.\n",
      "INFO:tensorflow:Writing example 0 of 1036\n",
      "INFO:tensorflow:label:0\n",
      "INFO:tensorflow:label:1\n",
      "INFO:tensorflow:example.label:1\n",
      "INFO:tensorflow:*** Example ***\n",
      "INFO:tensorflow:guid: 836\n",
      "INFO:tensorflow:tokens: [CLS] 1 . 之 前 原 掛 在 我 身 上 的 de ##vice 部 門 是 在 nb ##1 且 應 該 已 經 刪 除 1 . 原 nb ##1 下 的 所 有 設 備 資 料 從 資 料 庫 清 除 之 前 組 織 變 動 有 送 單 我 也 過 以 為 ok 2 . 剛 有 人 要 跟 我 借 東 西 才 發 現 以 下 問 題 卻 在 mi ##s ##2 發 現 我 有 掛 資 產 且 我 一 看 資 料 似 乎 是 從 nb ##1 de ##vice 移 過 來 的 3 . 希 望 可 以 把 有 掛 我 的 名 字 且 在 mi ##s ##2 [SEP]\n",
      "INFO:tensorflow:input_ids: 101 122 119 722 1184 1333 2965 1762 2769 6716 677 4638 8363 10666 6956 7271 3221 1762 9254 8148 684 2746 6283 2347 5195 1165 7370 122 119 1333 9254 8148 678 4638 2792 3300 6257 991 6536 3160 2537 6536 3160 2430 3926 7370 722 1184 5175 5251 6365 1240 3300 6843 1606 2769 738 6882 809 4158 8270 123 119 1190 3300 782 6206 6656 2769 955 3346 6205 2798 4634 4412 809 678 1558 7539 1320 1762 10551 8118 8144 4634 4412 2769 3300 2965 6536 4496 684 2769 671 4692 6536 3160 849 725 3221 2537 9254 8148 8363 10666 4919 6882 889 4638 124 119 2361 3307 1377 809 2828 3300 2965 2769 4638 1399 2099 684 1762 10551 8118 8144 102\n",
      "INFO:tensorflow:input_mask: 1 1 1 1 1 1 1 1 1 1 1 1 1 1 1 1 1 1 1 1 1 1 1 1 1 1 1 1 1 1 1 1 1 1 1 1 1 1 1 1 1 1 1 1 1 1 1 1 1 1 1 1 1 1 1 1 1 1 1 1 1 1 1 1 1 1 1 1 1 1 1 1 1 1 1 1 1 1 1 1 1 1 1 1 1 1 1 1 1 1 1 1 1 1 1 1 1 1 1 1 1 1 1 1 1 1 1 1 1 1 1 1 1 1 1 1 1 1 1 1 1 1 1 1 1 1 1 1\n",
      "INFO:tensorflow:segment_ids: 0 0 0 0 0 0 0 0 0 0 0 0 0 0 0 0 0 0 0 0 0 0 0 0 0 0 0 0 0 0 0 0 0 0 0 0 0 0 0 0 0 0 0 0 0 0 0 0 0 0 0 0 0 0 0 0 0 0 0 0 0 0 0 0 0 0 0 0 0 0 0 0 0 0 0 0 0 0 0 0 0 0 0 0 0 0 0 0 0 0 0 0 0 0 0 0 0 0 0 0 0 0 0 0 0 0 0 0 0 0 0 0 0 0 0 0 0 0 0 0 0 0 0 0 0 0 0 0\n",
      "INFO:tensorflow:label: 1 (id = 1)\n",
      "INFO:tensorflow:label:0\n",
      "INFO:tensorflow:label:1\n",
      "INFO:tensorflow:example.label:1\n",
      "INFO:tensorflow:*** Example ***\n",
      "INFO:tensorflow:guid: 501\n",
      "INFO:tensorflow:tokens: [CLS] tc ##bs ##i / ph ##ys ##ical view ##er li ##sen ##ce 沒 辦 法 打 開 [SEP]\n",
      "INFO:tensorflow:input_ids: 101 12858 9071 8169 120 9465 9449 9430 8876 8196 9341 10387 8328 3760 6794 3791 2802 7274 102 0 0 0 0 0 0 0 0 0 0 0 0 0 0 0 0 0 0 0 0 0 0 0 0 0 0 0 0 0 0 0 0 0 0 0 0 0 0 0 0 0 0 0 0 0 0 0 0 0 0 0 0 0 0 0 0 0 0 0 0 0 0 0 0 0 0 0 0 0 0 0 0 0 0 0 0 0 0 0 0 0 0 0 0 0 0 0 0 0 0 0 0 0 0 0 0 0 0 0 0 0 0 0 0 0 0 0 0 0\n",
      "INFO:tensorflow:input_mask: 1 1 1 1 1 1 1 1 1 1 1 1 1 1 1 1 1 1 1 0 0 0 0 0 0 0 0 0 0 0 0 0 0 0 0 0 0 0 0 0 0 0 0 0 0 0 0 0 0 0 0 0 0 0 0 0 0 0 0 0 0 0 0 0 0 0 0 0 0 0 0 0 0 0 0 0 0 0 0 0 0 0 0 0 0 0 0 0 0 0 0 0 0 0 0 0 0 0 0 0 0 0 0 0 0 0 0 0 0 0 0 0 0 0 0 0 0 0 0 0 0 0 0 0 0 0 0 0\n",
      "INFO:tensorflow:segment_ids: 0 0 0 0 0 0 0 0 0 0 0 0 0 0 0 0 0 0 0 0 0 0 0 0 0 0 0 0 0 0 0 0 0 0 0 0 0 0 0 0 0 0 0 0 0 0 0 0 0 0 0 0 0 0 0 0 0 0 0 0 0 0 0 0 0 0 0 0 0 0 0 0 0 0 0 0 0 0 0 0 0 0 0 0 0 0 0 0 0 0 0 0 0 0 0 0 0 0 0 0 0 0 0 0 0 0 0 0 0 0 0 0 0 0 0 0 0 0 0 0 0 0 0 0 0 0 0 0\n",
      "INFO:tensorflow:label: 1 (id = 1)\n",
      "INFO:tensorflow:label:0\n",
      "INFO:tensorflow:label:1\n",
      "INFO:tensorflow:example.label:2\n",
      "Traceback (most recent call last):\n",
      "  File \"run_classifier.py\", line 1075, in <module>\n",
      "    tf.app.run()\n",
      "  File \"/opt/conda/lib/python3.6/site-packages/tensorflow/python/platform/app.py\", line 125, in run\n",
      "    _sys.exit(main(argv))\n",
      "  File \"run_classifier.py\", line 964, in main\n",
      "    train_examples, label_list, FLAGS.max_seq_length, tokenizer, train_file)\n",
      "  File \"run_classifier.py\", line 582, in file_based_convert_examples_to_features\n",
      "    max_seq_length, tokenizer)\n",
      "  File \"run_classifier.py\", line 551, in convert_single_example\n",
      "    label_id = label_map[example.label]\n",
      "KeyError: 2\n"
     ]
    }
   ],
   "source": [
    "!python run_classifier.py \\\n",
    "  --task_name=call_center \\\n",
    "  --do_train=true \\\n",
    "  --do_eval=true \\\n",
    "  --data_dir=. \\\n",
    "  --vocab_file=chinese_L-12_H-768_A-12/vocab.txt \\\n",
    "  --bert_config_file=chinese_L-12_H-768_A-12/bert_config.json \\\n",
    "  --init_checkpoint= chinese_L-12_H-768_A-12/bert_model.ckpt \\\n",
    "  --max_seq_length=128 \\\n",
    "  --output_dir=tmp/call_center_output/ \\\n",
    "  --train_batch_size=32 \\\n",
    "  --learning_rate=5e-5 \\\n",
    "  --num_train_epochs=3.0 \\"
   ]
  },
  {
   "cell_type": "markdown",
   "metadata": {},
   "source": [
    "### predict test.tsv"
   ]
  },
  {
   "cell_type": "code",
   "execution_count": 37,
   "metadata": {},
   "outputs": [
    {
     "name": "stdout",
     "output_type": "stream",
     "text": [
      "/opt/conda/lib/python3.6/site-packages/h5py/__init__.py:36: FutureWarning: Conversion of the second argument of issubdtype from `float` to `np.floating` is deprecated. In future, it will be treated as `np.float64 == np.dtype(float).type`.\n",
      "  from ._conv import register_converters as _register_converters\n",
      "WARNING:tensorflow:Estimator's model_fn (<function model_fn_builder.<locals>.model_fn at 0x7f7d00776ea0>) includes params argument, but params are not passed to Estimator.\n",
      "INFO:tensorflow:Using config: {'_model_dir': 'tmp/call_center_output/', '_tf_random_seed': None, '_save_summary_steps': 100, '_save_checkpoints_steps': 1000, '_save_checkpoints_secs': None, '_session_config': None, '_keep_checkpoint_max': 5, '_keep_checkpoint_every_n_hours': 10000, '_log_step_count_steps': None, '_train_distribute': None, '_device_fn': None, '_service': None, '_cluster_spec': <tensorflow.python.training.server_lib.ClusterSpec object at 0x7f7d004d9550>, '_task_type': 'worker', '_task_id': 0, '_global_id_in_cluster': 0, '_master': '', '_evaluation_master': '', '_is_chief': True, '_num_ps_replicas': 0, '_num_worker_replicas': 1, '_tpu_config': TPUConfig(iterations_per_loop=1000, num_shards=8, num_cores_per_replica=None, per_host_input_for_training=3, tpu_job_name=None, initial_infeed_sleep_secs=None), '_cluster': None}\n",
      "INFO:tensorflow:_TPUContext: eval_on_tpu True\n",
      "WARNING:tensorflow:eval_on_tpu ignored because use_tpu is False.\n",
      "INFO:tensorflow:['description', 'label']\n",
      "INFO:tensorflow:['project id  bly     vga  n16s  c3micron4gb vram inv10.18.15.  nv v10.18.13.5   這份case 完成度超過55% 後  打的pass 儲存都會show data error     重新開了一個 檔名的 多一個空格 也是依樣 超過56% 儲存就show data error', '1']\n",
      "INFO:tensorflow:['有請cq幫忙開立mro單購買治具遇到以下問題已發mail給 還幫忙    因以前開客人指定項目的單子只需填寫指定項目編碼系統就會帶出相應信息填寫過治具料號而這次填寫而在sap申請的料號填寫卻是錯誤的幫忙看下是系統問題有問題', '0']\n",
      "INFO:tensorflow:['系統的 member assignment內nb2的部份現在無法區分    全部合併且人員打散我現在幫設定會有問題.需要更新成現在nb2的組織現狀', '1']\n",
      "INFO:tensorflow:['mro 單子卡住沒有', '0']\n",
      "INFO:tensorflow:['上午到為止creo 2.0都沒有lincese可以使用請問是否有辦法已經嚴重影響到工作了', '1']\n",
      "INFO:tensorflow:['使用過程中發生問題', '0']\n",
      "INFO:tensorflow:['我的店鬧無發連網    我是測有線網路', '2']\n",
      "INFO:tensorflow:['調部門導致現部門無法簽核.', '0']\n",
      "INFO:tensorflow:['旅費申報單', '0']\n",
      "INFO:tensorflow:['送出申請單時有error跳出 顯示網域帳號密碼錯誤', '0']\n",
      "INFO:tensorflow:['app41 無法看到簽核單', '0']\n",
      "INFO:tensorflow:['反映安裝rms這套軟體時遇到錯誤訊息 無法順利安裝.  此軟體於qrdc file server上面下載的.  該系統軟體於問題單的分類  bu7', '1']\n",
      "INFO:tensorflow:['無法順利簽核表單  表單編號app96', '0']\n",
      "INFO:tensorflow:['無法驗證發行者且檔案無法播放', '2']\n",
      "INFO:tensorflow:['please help create new platformcpset “amd richland”', '1']\n",
      "INFO:tensorflow:[\"當要進入預約會議室頁面時發生下麵訊息      ''/gams'' 應用程式中發生伺服器錯誤      並未將物件參考設定為物件的執行個體   描述 在執行目前 web 要求的過程中發生未的例外情形請檢閱堆疊追蹤以取得錯誤的詳細資訊在程式碼中產生的位置     例外詳細資訊 system.nullreferenceexception 並未將物件參考設定為物件的執行個體    原始程式錯誤       行 598     arrsign  arraylistsessionarrsign  行 599     行 600     ifarrsignts.ddlconferenceroom.selectedindex.tostring  y  行 601       行 602      ts.lblsignnotice.visible  true       原始程式檔 c\\\\inetpub\\\\wwwroot\\\\gams\\\\program\\\\gams_cr\\\\gams_cr_selectonefreetime.aspx.cs    行 600     堆疊追蹤       nullreferenceexception 並未將物件參考設定為物件的執行個體     gams_cr.program.gams_cr.gams_cr_selectonefreetime.lblchecksign in c\\\\inetpub\\\\wwwroot\\\\gams\\\\program\\\\gams_cr\\\\gams_cr_selectonefreetime.aspx.cs600     gams_cr.program.gams_cr.gams_cr_selectonefreetime.ddlconferenceroom_selectedindexchangedobject sender eventargs e in c\\\\inetpub\\\\wwwroot\\\\gams\\\\program\\\\gams_cr\\\\gams_cr_selectonefreetime.aspx.cs587     system.web.ui.webcontrols.listcontrol.onselectedindexchangedeventargs e 107     system.web.ui.webcontrols.dropdownlist.raisepostdatachangedevent 134     system.web.ui.webcontrols.dropdownlist.system.web.ui.ipostbackdatahandler.raisepostdatachangedevent 10     system.web.ui.page.raisechangedevents 165     system.web.ui.page.processrequestmainboolean includestagesbeforeasyncpoint boolean includestagesafterasyncpoint              版本資訊 microsoft .net framework 版本2.0..6 asp.net 版本2.0.\", '2']\n",
      "INFO:tensorflow:['bpm mro驗收單有問題想諮詢一下', '0']\n",
      "INFO:tensorflow:['簽核同意但系統上仍顯示簽核中', '2']\n",
      "INFO:tensorflow:['上傳device excel file到qdsm的訊息', '1']\n",
      "INFO:tensorflow:['點select', '0']\n",
      "INFO:tensorflow:['點選2bto be提供的連結會要求驗證輸入網域密碼仍顯示無權限', '2']\n",
      "INFO:tensorflow:['此表申請流程目前簽核者為vivian wu 吳淑鬱但vivian目前休假中此申請為急迫任務希望能將下一位簽核者改為 sally lee 李春香 幫忙', '0']\n",
      "INFO:tensorflow:['ie 顯示停止作業無法撥放', '2']\n",
      "INFO:tensorflow:['/06/26沒有下班時間無法申報加班', '2']\n",
      "INFO:tensorflow:['電腦外帶証申請單 人無法帶入', '0']\n",
      "INFO:tensorflow:['sda ebooking 系統在report下的設備使用清單資料出現異常 esd設備在5月的使用時數高達小時 已超過一個月的總小時數 報表的異常', '1']\n",
      "INFO:tensorflow:['qdsm目前是否可以開放給端使用 若要使用是否需要mis設定    目前在authority maintenance頁面無法將member設為admin', '1']\n",
      "INFO:tensorflow:['bpm 無法列印放行單', '0']\n",
      "INFO:tensorflow:['請問一整天都...客戶等著我的線路', '1']\n",
      "INFO:tensorflow:['放行單流程卡關問題', '0']\n",
      "INFO:tensorflow:['qits 無法顯示員工姓名及員工部門 也無法正常使用', '1']\n",
      "INFO:tensorflow:['發給test pm通知設定qsit.qits的連結錯誤  qsit錯誤連結   qsit正確連結應為   qits錯誤連結   qits正確連結應為', '1']\n",
      "INFO:tensorflow:['無法傳上考績', '2']\n",
      "INFO:tensorflow:['新bpm 系統上線已配合重新設定代理人但代理人無法簽核請假申請單', '2']\n",
      "INFO:tensorflow:['因目前部門遇到組織變動導致部門代碼都有變更想請問是否能幫忙將之前所開的mro單部門代碼', '0']\n",
      "INFO:tensorflow:['我的proe借不到license 錯誤視窗  96license server macne is down or not responding  這是serve有問題嗎  有原因 我已經有先連進去quanta sslvpn  我能否能問題', '1']\n",
      "INFO:tensorflow:['footprint 申請單被退回填寫後要送出時訊息', '0']\n",
      "INFO:tensorflow:['plm系統上誤刪ecn單是否還能恢復ecn單號r7', '1']\n",
      "INFO:tensorflow:['詢問 簽核過程想加人與刪除人 該做', '0']\n",
      "INFO:tensorflow:['已經抽單但系統上還看到單子停留在尚未', '0']\n",
      "INFO:tensorflow:Writing example 0 of 40\n",
      "INFO:tensorflow:label:0\n",
      "INFO:tensorflow:label:1\n",
      "INFO:tensorflow:example.label:0\n",
      "INFO:tensorflow:*** Example ***\n",
      "INFO:tensorflow:guid: test-1\n",
      "INFO:tensorflow:tokens: [CLS] project id bl ##y vga n1 ##6 ##s c3 ##mic ##ron ##4 ##gb vr ##am in ##v ##10 . 18 . 15 . n ##v v1 ##0 . 18 . 13 . 5 這 份 case 完 成 度 超 過 55 % 後 打 的 pass 儲 存 都 會 show data error 重 新 開 了 一 個 檔 名 的 多 一 個 空 格 也 是 依 樣 超 過 56 % 儲 存 就 show data error [SEP]\n",
      "INFO:tensorflow:input_ids: 101 9284 8231 10353 8179 13140 11356 8158 8118 11829 11341 8991 8159 9673 8260 8608 8217 8225 8311 119 8123 119 8115 119 156 8225 9074 8129 119 8123 119 8124 119 126 6857 819 10474 2130 2768 2428 6631 6882 8222 110 2527 2802 4638 9703 1033 2100 6963 3298 8658 9000 10812 7028 3173 7274 749 671 943 3593 1399 4638 1914 671 943 4958 3419 738 3221 898 3564 6631 6882 8259 110 1033 2100 2218 8658 9000 10812 102 0 0 0 0 0 0 0 0 0 0 0 0 0 0 0 0 0 0 0 0 0 0 0 0 0 0 0 0 0 0 0 0 0 0 0 0 0 0 0 0 0 0 0 0\n",
      "INFO:tensorflow:input_mask: 1 1 1 1 1 1 1 1 1 1 1 1 1 1 1 1 1 1 1 1 1 1 1 1 1 1 1 1 1 1 1 1 1 1 1 1 1 1 1 1 1 1 1 1 1 1 1 1 1 1 1 1 1 1 1 1 1 1 1 1 1 1 1 1 1 1 1 1 1 1 1 1 1 1 1 1 1 1 1 1 1 1 1 1 0 0 0 0 0 0 0 0 0 0 0 0 0 0 0 0 0 0 0 0 0 0 0 0 0 0 0 0 0 0 0 0 0 0 0 0 0 0 0 0 0 0 0 0\n",
      "INFO:tensorflow:segment_ids: 0 0 0 0 0 0 0 0 0 0 0 0 0 0 0 0 0 0 0 0 0 0 0 0 0 0 0 0 0 0 0 0 0 0 0 0 0 0 0 0 0 0 0 0 0 0 0 0 0 0 0 0 0 0 0 0 0 0 0 0 0 0 0 0 0 0 0 0 0 0 0 0 0 0 0 0 0 0 0 0 0 0 0 0 0 0 0 0 0 0 0 0 0 0 0 0 0 0 0 0 0 0 0 0 0 0 0 0 0 0 0 0 0 0 0 0 0 0 0 0 0 0 0 0 0 0 0 0\n",
      "INFO:tensorflow:label: 0 (id = 0)\n",
      "INFO:tensorflow:label:0\n",
      "INFO:tensorflow:label:1\n",
      "INFO:tensorflow:example.label:0\n",
      "INFO:tensorflow:*** Example ***\n",
      "INFO:tensorflow:guid: test-2\n",
      "INFO:tensorflow:tokens: [CLS] 有 請 c ##q 幫 忙 開 立 mr ##o 單 購 買 治 具 遇 到 以 下 問 題 已 發 mail 給 還 幫 忙 因 以 前 開 客 人 指 定 項 目 的 單 子 只 需 填 寫 指 定 項 目 編 碼 系 統 就 會 帶 出 相 應 信 息 填 寫 過 治 具 料 號 而 這 次 填 寫 而 在 sap 申 請 的 料 號 填 寫 卻 是 錯 誤 的 幫 忙 看 下 是 系 統 問 題 有 問 題 [SEP]\n",
      "INFO:tensorflow:input_ids: 101 3300 6313 145 8326 2396 2564 7274 4989 8912 8167 1606 6554 6525 3780 1072 6878 1168 809 678 1558 7539 2347 4634 8313 5183 6917 2396 2564 1728 809 1184 7274 2145 782 2900 2137 7517 4680 4638 1606 2094 1372 7444 1856 2183 2900 2137 7517 4680 5226 4826 5143 5186 2218 3298 2380 1139 4685 2746 928 2622 1856 2183 6882 3780 1072 3160 5998 5445 6857 3613 1856 2183 5445 1762 11708 4509 6313 4638 3160 5998 1856 2183 1320 3221 7097 6299 4638 2396 2564 4692 678 3221 5143 5186 1558 7539 3300 1558 7539 102 0 0 0 0 0 0 0 0 0 0 0 0 0 0 0 0 0 0 0 0 0 0 0 0 0 0\n",
      "INFO:tensorflow:input_mask: 1 1 1 1 1 1 1 1 1 1 1 1 1 1 1 1 1 1 1 1 1 1 1 1 1 1 1 1 1 1 1 1 1 1 1 1 1 1 1 1 1 1 1 1 1 1 1 1 1 1 1 1 1 1 1 1 1 1 1 1 1 1 1 1 1 1 1 1 1 1 1 1 1 1 1 1 1 1 1 1 1 1 1 1 1 1 1 1 1 1 1 1 1 1 1 1 1 1 1 1 1 1 0 0 0 0 0 0 0 0 0 0 0 0 0 0 0 0 0 0 0 0 0 0 0 0 0 0\n",
      "INFO:tensorflow:segment_ids: 0 0 0 0 0 0 0 0 0 0 0 0 0 0 0 0 0 0 0 0 0 0 0 0 0 0 0 0 0 0 0 0 0 0 0 0 0 0 0 0 0 0 0 0 0 0 0 0 0 0 0 0 0 0 0 0 0 0 0 0 0 0 0 0 0 0 0 0 0 0 0 0 0 0 0 0 0 0 0 0 0 0 0 0 0 0 0 0 0 0 0 0 0 0 0 0 0 0 0 0 0 0 0 0 0 0 0 0 0 0 0 0 0 0 0 0 0 0 0 0 0 0 0 0 0 0 0 0\n",
      "INFO:tensorflow:label: 0 (id = 0)\n",
      "INFO:tensorflow:label:0\n",
      "INFO:tensorflow:label:1\n",
      "INFO:tensorflow:example.label:0\n",
      "INFO:tensorflow:*** Example ***\n",
      "INFO:tensorflow:guid: test-3\n",
      "INFO:tensorflow:tokens: [CLS] 系 統 的 member as ##si ##gn ##ment 內 nb ##2 的 部 份 現 在 無 法 區 分 全 部 合 併 且 人 員 打 散 我 現 在 幫 設 定 會 有 問 題 . 需 要 更 新 成 現 在 nb ##2 的 組 織 現 狀 [SEP]\n",
      "INFO:tensorflow:input_ids: 101 5143 5186 4638 11120 8975 9182 12135 8631 1058 9254 8144 4638 6956 819 4412 1762 4192 3791 1281 1146 1059 6956 1394 882 684 782 1519 2802 3141 2769 4412 1762 2396 6257 2137 3298 3300 1558 7539 119 7444 6206 3291 3173 2768 4412 1762 9254 8144 4638 5175 5251 4412 4311 102 0 0 0 0 0 0 0 0 0 0 0 0 0 0 0 0 0 0 0 0 0 0 0 0 0 0 0 0 0 0 0 0 0 0 0 0 0 0 0 0 0 0 0 0 0 0 0 0 0 0 0 0 0 0 0 0 0 0 0 0 0 0 0 0 0 0 0 0 0 0 0 0\n",
      "INFO:tensorflow:input_mask: 1 1 1 1 1 1 1 1 1 1 1 1 1 1 1 1 1 1 1 1 1 1 1 1 1 1 1 1 1 1 1 1 1 1 1 1 1 1 1 1 1 1 1 1 1 1 1 1 1 1 1 1 1 1 1 1 0 0 0 0 0 0 0 0 0 0 0 0 0 0 0 0 0 0 0 0 0 0 0 0 0 0 0 0 0 0 0 0 0 0 0 0 0 0 0 0 0 0 0 0 0 0 0 0 0 0 0 0 0 0 0 0 0 0 0 0 0 0 0 0 0 0 0 0 0 0 0 0\n",
      "INFO:tensorflow:segment_ids: 0 0 0 0 0 0 0 0 0 0 0 0 0 0 0 0 0 0 0 0 0 0 0 0 0 0 0 0 0 0 0 0 0 0 0 0 0 0 0 0 0 0 0 0 0 0 0 0 0 0 0 0 0 0 0 0 0 0 0 0 0 0 0 0 0 0 0 0 0 0 0 0 0 0 0 0 0 0 0 0 0 0 0 0 0 0 0 0 0 0 0 0 0 0 0 0 0 0 0 0 0 0 0 0 0 0 0 0 0 0 0 0 0 0 0 0 0 0 0 0 0 0 0 0 0 0 0 0\n",
      "INFO:tensorflow:label: 0 (id = 0)\n",
      "INFO:tensorflow:label:0\n",
      "INFO:tensorflow:label:1\n",
      "INFO:tensorflow:example.label:0\n",
      "INFO:tensorflow:*** Example ***\n",
      "INFO:tensorflow:guid: test-4\n",
      "INFO:tensorflow:tokens: [CLS] mr ##o 單 子 卡 住 沒 有 [SEP]\n",
      "INFO:tensorflow:input_ids: 101 8912 8167 1606 2094 1305 857 3760 3300 102 0 0 0 0 0 0 0 0 0 0 0 0 0 0 0 0 0 0 0 0 0 0 0 0 0 0 0 0 0 0 0 0 0 0 0 0 0 0 0 0 0 0 0 0 0 0 0 0 0 0 0 0 0 0 0 0 0 0 0 0 0 0 0 0 0 0 0 0 0 0 0 0 0 0 0 0 0 0 0 0 0 0 0 0 0 0 0 0 0 0 0 0 0 0 0 0 0 0 0 0 0 0 0 0 0 0 0 0 0 0 0 0 0 0 0 0 0 0\n",
      "INFO:tensorflow:input_mask: 1 1 1 1 1 1 1 1 1 1 0 0 0 0 0 0 0 0 0 0 0 0 0 0 0 0 0 0 0 0 0 0 0 0 0 0 0 0 0 0 0 0 0 0 0 0 0 0 0 0 0 0 0 0 0 0 0 0 0 0 0 0 0 0 0 0 0 0 0 0 0 0 0 0 0 0 0 0 0 0 0 0 0 0 0 0 0 0 0 0 0 0 0 0 0 0 0 0 0 0 0 0 0 0 0 0 0 0 0 0 0 0 0 0 0 0 0 0 0 0 0 0 0 0 0 0 0 0\n",
      "INFO:tensorflow:segment_ids: 0 0 0 0 0 0 0 0 0 0 0 0 0 0 0 0 0 0 0 0 0 0 0 0 0 0 0 0 0 0 0 0 0 0 0 0 0 0 0 0 0 0 0 0 0 0 0 0 0 0 0 0 0 0 0 0 0 0 0 0 0 0 0 0 0 0 0 0 0 0 0 0 0 0 0 0 0 0 0 0 0 0 0 0 0 0 0 0 0 0 0 0 0 0 0 0 0 0 0 0 0 0 0 0 0 0 0 0 0 0 0 0 0 0 0 0 0 0 0 0 0 0 0 0 0 0 0 0\n",
      "INFO:tensorflow:label: 0 (id = 0)\n",
      "INFO:tensorflow:label:0\n",
      "INFO:tensorflow:label:1\n",
      "INFO:tensorflow:example.label:0\n",
      "INFO:tensorflow:*** Example ***\n",
      "INFO:tensorflow:guid: test-5\n",
      "INFO:tensorflow:tokens: [CLS] 上 午 到 為 止 cr ##eo 2 . 0 都 沒 有 lin ##ces ##e 可 以 使 用 請 問 是 否 有 辦 法 已 經 嚴 重 影 響 到 工 作 了 [SEP]\n",
      "INFO:tensorflow:input_ids: 101 677 1286 1168 4158 3632 10951 10232 123 119 121 6963 3760 3300 9733 11463 8154 1377 809 886 4500 6313 1558 3221 1415 3300 6794 3791 2347 5195 1713 7028 2512 7513 1168 2339 868 749 102 0 0 0 0 0 0 0 0 0 0 0 0 0 0 0 0 0 0 0 0 0 0 0 0 0 0 0 0 0 0 0 0 0 0 0 0 0 0 0 0 0 0 0 0 0 0 0 0 0 0 0 0 0 0 0 0 0 0 0 0 0 0 0 0 0 0 0 0 0 0 0 0 0 0 0 0 0 0 0 0 0 0 0 0 0 0 0 0 0\n",
      "INFO:tensorflow:input_mask: 1 1 1 1 1 1 1 1 1 1 1 1 1 1 1 1 1 1 1 1 1 1 1 1 1 1 1 1 1 1 1 1 1 1 1 1 1 1 1 0 0 0 0 0 0 0 0 0 0 0 0 0 0 0 0 0 0 0 0 0 0 0 0 0 0 0 0 0 0 0 0 0 0 0 0 0 0 0 0 0 0 0 0 0 0 0 0 0 0 0 0 0 0 0 0 0 0 0 0 0 0 0 0 0 0 0 0 0 0 0 0 0 0 0 0 0 0 0 0 0 0 0 0 0 0 0 0 0\n",
      "INFO:tensorflow:segment_ids: 0 0 0 0 0 0 0 0 0 0 0 0 0 0 0 0 0 0 0 0 0 0 0 0 0 0 0 0 0 0 0 0 0 0 0 0 0 0 0 0 0 0 0 0 0 0 0 0 0 0 0 0 0 0 0 0 0 0 0 0 0 0 0 0 0 0 0 0 0 0 0 0 0 0 0 0 0 0 0 0 0 0 0 0 0 0 0 0 0 0 0 0 0 0 0 0 0 0 0 0 0 0 0 0 0 0 0 0 0 0 0 0 0 0 0 0 0 0 0 0 0 0 0 0 0 0 0 0\n",
      "INFO:tensorflow:label: 0 (id = 0)\n",
      "INFO:tensorflow:label:0\n",
      "INFO:tensorflow:label:1\n",
      "INFO:tensorflow:example.label:0\n",
      "INFO:tensorflow:label:0\n",
      "INFO:tensorflow:label:1\n",
      "INFO:tensorflow:example.label:0\n",
      "INFO:tensorflow:label:0\n",
      "INFO:tensorflow:label:1\n",
      "INFO:tensorflow:example.label:0\n",
      "INFO:tensorflow:label:0\n",
      "INFO:tensorflow:label:1\n",
      "INFO:tensorflow:example.label:0\n",
      "INFO:tensorflow:label:0\n",
      "INFO:tensorflow:label:1\n",
      "INFO:tensorflow:example.label:0\n",
      "INFO:tensorflow:label:0\n",
      "INFO:tensorflow:label:1\n",
      "INFO:tensorflow:example.label:0\n",
      "INFO:tensorflow:label:0\n",
      "INFO:tensorflow:label:1\n",
      "INFO:tensorflow:example.label:0\n",
      "INFO:tensorflow:label:0\n",
      "INFO:tensorflow:label:1\n",
      "INFO:tensorflow:example.label:0\n",
      "INFO:tensorflow:label:0\n",
      "INFO:tensorflow:label:1\n",
      "INFO:tensorflow:example.label:0\n",
      "INFO:tensorflow:label:0\n",
      "INFO:tensorflow:label:1\n",
      "INFO:tensorflow:example.label:0\n",
      "INFO:tensorflow:label:0\n",
      "INFO:tensorflow:label:1\n",
      "INFO:tensorflow:example.label:0\n",
      "INFO:tensorflow:label:0\n",
      "INFO:tensorflow:label:1\n",
      "INFO:tensorflow:example.label:0\n",
      "INFO:tensorflow:label:0\n",
      "INFO:tensorflow:label:1\n",
      "INFO:tensorflow:example.label:0\n",
      "INFO:tensorflow:label:0\n",
      "INFO:tensorflow:label:1\n",
      "INFO:tensorflow:example.label:0\n",
      "INFO:tensorflow:label:0\n",
      "INFO:tensorflow:label:1\n",
      "INFO:tensorflow:example.label:0\n",
      "INFO:tensorflow:label:0\n",
      "INFO:tensorflow:label:1\n",
      "INFO:tensorflow:example.label:0\n",
      "INFO:tensorflow:label:0\n",
      "INFO:tensorflow:label:1\n",
      "INFO:tensorflow:example.label:0\n",
      "INFO:tensorflow:label:0\n",
      "INFO:tensorflow:label:1\n",
      "INFO:tensorflow:example.label:0\n",
      "INFO:tensorflow:label:0\n",
      "INFO:tensorflow:label:1\n",
      "INFO:tensorflow:example.label:0\n",
      "INFO:tensorflow:label:0\n",
      "INFO:tensorflow:label:1\n",
      "INFO:tensorflow:example.label:0\n",
      "INFO:tensorflow:label:0\n",
      "INFO:tensorflow:label:1\n",
      "INFO:tensorflow:example.label:0\n",
      "INFO:tensorflow:label:0\n",
      "INFO:tensorflow:label:1\n",
      "INFO:tensorflow:example.label:0\n",
      "INFO:tensorflow:label:0\n",
      "INFO:tensorflow:label:1\n",
      "INFO:tensorflow:example.label:0\n",
      "INFO:tensorflow:label:0\n",
      "INFO:tensorflow:label:1\n",
      "INFO:tensorflow:example.label:0\n",
      "INFO:tensorflow:label:0\n",
      "INFO:tensorflow:label:1\n",
      "INFO:tensorflow:example.label:0\n",
      "INFO:tensorflow:label:0\n",
      "INFO:tensorflow:label:1\n",
      "INFO:tensorflow:example.label:0\n",
      "INFO:tensorflow:label:0\n",
      "INFO:tensorflow:label:1\n",
      "INFO:tensorflow:example.label:0\n",
      "INFO:tensorflow:label:0\n",
      "INFO:tensorflow:label:1\n",
      "INFO:tensorflow:example.label:0\n",
      "INFO:tensorflow:label:0\n",
      "INFO:tensorflow:label:1\n",
      "INFO:tensorflow:example.label:0\n",
      "INFO:tensorflow:label:0\n",
      "INFO:tensorflow:label:1\n",
      "INFO:tensorflow:example.label:0\n",
      "INFO:tensorflow:label:0\n",
      "INFO:tensorflow:label:1\n",
      "INFO:tensorflow:example.label:0\n",
      "INFO:tensorflow:label:0\n",
      "INFO:tensorflow:label:1\n",
      "INFO:tensorflow:example.label:0\n",
      "INFO:tensorflow:label:0\n",
      "INFO:tensorflow:label:1\n",
      "INFO:tensorflow:example.label:0\n",
      "INFO:tensorflow:label:0\n",
      "INFO:tensorflow:label:1\n",
      "INFO:tensorflow:example.label:0\n",
      "INFO:tensorflow:label:0\n",
      "INFO:tensorflow:label:1\n",
      "INFO:tensorflow:example.label:0\n",
      "INFO:tensorflow:***** Running prediction*****\n",
      "INFO:tensorflow:  Num examples = 40 (40 actual, 0 padding)\n",
      "INFO:tensorflow:  Batch size = 8\n",
      "INFO:tensorflow:***** Predict results *****\n",
      "INFO:tensorflow:Could not find trained model in model_dir: tmp/call_center_output/, running initialization to predict.\n",
      "INFO:tensorflow:Calling model_fn.\n",
      "INFO:tensorflow:Running infer on CPU\n",
      "INFO:tensorflow:*** Features ***\n",
      "INFO:tensorflow:  name = input_ids, shape = (?, 128)\n",
      "INFO:tensorflow:  name = input_mask, shape = (?, 128)\n",
      "INFO:tensorflow:  name = is_real_example, shape = (?,)\n",
      "INFO:tensorflow:  name = label_ids, shape = (?,)\n",
      "INFO:tensorflow:  name = segment_ids, shape = (?, 128)\n",
      "INFO:tensorflow:**** Trainable Variables ****\n",
      "INFO:tensorflow:  name = bert/embeddings/word_embeddings:0, shape = (21128, 768), *INIT_FROM_CKPT*\n",
      "INFO:tensorflow:  name = bert/embeddings/token_type_embeddings:0, shape = (2, 768), *INIT_FROM_CKPT*\n",
      "INFO:tensorflow:  name = bert/embeddings/position_embeddings:0, shape = (512, 768), *INIT_FROM_CKPT*\n",
      "INFO:tensorflow:  name = bert/embeddings/LayerNorm/beta:0, shape = (768,), *INIT_FROM_CKPT*\n",
      "INFO:tensorflow:  name = bert/embeddings/LayerNorm/gamma:0, shape = (768,), *INIT_FROM_CKPT*\n",
      "INFO:tensorflow:  name = bert/encoder/layer_0/attention/self/query/kernel:0, shape = (768, 768), *INIT_FROM_CKPT*\n",
      "INFO:tensorflow:  name = bert/encoder/layer_0/attention/self/query/bias:0, shape = (768,), *INIT_FROM_CKPT*\n",
      "INFO:tensorflow:  name = bert/encoder/layer_0/attention/self/key/kernel:0, shape = (768, 768), *INIT_FROM_CKPT*\n",
      "INFO:tensorflow:  name = bert/encoder/layer_0/attention/self/key/bias:0, shape = (768,), *INIT_FROM_CKPT*\n",
      "INFO:tensorflow:  name = bert/encoder/layer_0/attention/self/value/kernel:0, shape = (768, 768), *INIT_FROM_CKPT*\n",
      "INFO:tensorflow:  name = bert/encoder/layer_0/attention/self/value/bias:0, shape = (768,), *INIT_FROM_CKPT*\n",
      "INFO:tensorflow:  name = bert/encoder/layer_0/attention/output/dense/kernel:0, shape = (768, 768), *INIT_FROM_CKPT*\n",
      "INFO:tensorflow:  name = bert/encoder/layer_0/attention/output/dense/bias:0, shape = (768,), *INIT_FROM_CKPT*\n",
      "INFO:tensorflow:  name = bert/encoder/layer_0/attention/output/LayerNorm/beta:0, shape = (768,), *INIT_FROM_CKPT*\n",
      "INFO:tensorflow:  name = bert/encoder/layer_0/attention/output/LayerNorm/gamma:0, shape = (768,), *INIT_FROM_CKPT*\n",
      "INFO:tensorflow:  name = bert/encoder/layer_0/intermediate/dense/kernel:0, shape = (768, 3072), *INIT_FROM_CKPT*\n",
      "INFO:tensorflow:  name = bert/encoder/layer_0/intermediate/dense/bias:0, shape = (3072,), *INIT_FROM_CKPT*\n",
      "INFO:tensorflow:  name = bert/encoder/layer_0/output/dense/kernel:0, shape = (3072, 768), *INIT_FROM_CKPT*\n",
      "INFO:tensorflow:  name = bert/encoder/layer_0/output/dense/bias:0, shape = (768,), *INIT_FROM_CKPT*\n",
      "INFO:tensorflow:  name = bert/encoder/layer_0/output/LayerNorm/beta:0, shape = (768,), *INIT_FROM_CKPT*\n",
      "INFO:tensorflow:  name = bert/encoder/layer_0/output/LayerNorm/gamma:0, shape = (768,), *INIT_FROM_CKPT*\n",
      "INFO:tensorflow:  name = bert/encoder/layer_1/attention/self/query/kernel:0, shape = (768, 768), *INIT_FROM_CKPT*\n",
      "INFO:tensorflow:  name = bert/encoder/layer_1/attention/self/query/bias:0, shape = (768,), *INIT_FROM_CKPT*\n",
      "INFO:tensorflow:  name = bert/encoder/layer_1/attention/self/key/kernel:0, shape = (768, 768), *INIT_FROM_CKPT*\n",
      "INFO:tensorflow:  name = bert/encoder/layer_1/attention/self/key/bias:0, shape = (768,), *INIT_FROM_CKPT*\n",
      "INFO:tensorflow:  name = bert/encoder/layer_1/attention/self/value/kernel:0, shape = (768, 768), *INIT_FROM_CKPT*\n",
      "INFO:tensorflow:  name = bert/encoder/layer_1/attention/self/value/bias:0, shape = (768,), *INIT_FROM_CKPT*\n",
      "INFO:tensorflow:  name = bert/encoder/layer_1/attention/output/dense/kernel:0, shape = (768, 768), *INIT_FROM_CKPT*\n",
      "INFO:tensorflow:  name = bert/encoder/layer_1/attention/output/dense/bias:0, shape = (768,), *INIT_FROM_CKPT*\n",
      "INFO:tensorflow:  name = bert/encoder/layer_1/attention/output/LayerNorm/beta:0, shape = (768,), *INIT_FROM_CKPT*\n",
      "INFO:tensorflow:  name = bert/encoder/layer_1/attention/output/LayerNorm/gamma:0, shape = (768,), *INIT_FROM_CKPT*\n",
      "INFO:tensorflow:  name = bert/encoder/layer_1/intermediate/dense/kernel:0, shape = (768, 3072), *INIT_FROM_CKPT*\n",
      "INFO:tensorflow:  name = bert/encoder/layer_1/intermediate/dense/bias:0, shape = (3072,), *INIT_FROM_CKPT*\n",
      "INFO:tensorflow:  name = bert/encoder/layer_1/output/dense/kernel:0, shape = (3072, 768), *INIT_FROM_CKPT*\n",
      "INFO:tensorflow:  name = bert/encoder/layer_1/output/dense/bias:0, shape = (768,), *INIT_FROM_CKPT*\n",
      "INFO:tensorflow:  name = bert/encoder/layer_1/output/LayerNorm/beta:0, shape = (768,), *INIT_FROM_CKPT*\n",
      "INFO:tensorflow:  name = bert/encoder/layer_1/output/LayerNorm/gamma:0, shape = (768,), *INIT_FROM_CKPT*\n",
      "INFO:tensorflow:  name = bert/encoder/layer_2/attention/self/query/kernel:0, shape = (768, 768), *INIT_FROM_CKPT*\n",
      "INFO:tensorflow:  name = bert/encoder/layer_2/attention/self/query/bias:0, shape = (768,), *INIT_FROM_CKPT*\n",
      "INFO:tensorflow:  name = bert/encoder/layer_2/attention/self/key/kernel:0, shape = (768, 768), *INIT_FROM_CKPT*\n",
      "INFO:tensorflow:  name = bert/encoder/layer_2/attention/self/key/bias:0, shape = (768,), *INIT_FROM_CKPT*\n",
      "INFO:tensorflow:  name = bert/encoder/layer_2/attention/self/value/kernel:0, shape = (768, 768), *INIT_FROM_CKPT*\n",
      "INFO:tensorflow:  name = bert/encoder/layer_2/attention/self/value/bias:0, shape = (768,), *INIT_FROM_CKPT*\n",
      "INFO:tensorflow:  name = bert/encoder/layer_2/attention/output/dense/kernel:0, shape = (768, 768), *INIT_FROM_CKPT*\n",
      "INFO:tensorflow:  name = bert/encoder/layer_2/attention/output/dense/bias:0, shape = (768,), *INIT_FROM_CKPT*\n",
      "INFO:tensorflow:  name = bert/encoder/layer_2/attention/output/LayerNorm/beta:0, shape = (768,), *INIT_FROM_CKPT*\n",
      "INFO:tensorflow:  name = bert/encoder/layer_2/attention/output/LayerNorm/gamma:0, shape = (768,), *INIT_FROM_CKPT*\n",
      "INFO:tensorflow:  name = bert/encoder/layer_2/intermediate/dense/kernel:0, shape = (768, 3072), *INIT_FROM_CKPT*\n",
      "INFO:tensorflow:  name = bert/encoder/layer_2/intermediate/dense/bias:0, shape = (3072,), *INIT_FROM_CKPT*\n",
      "INFO:tensorflow:  name = bert/encoder/layer_2/output/dense/kernel:0, shape = (3072, 768), *INIT_FROM_CKPT*\n",
      "INFO:tensorflow:  name = bert/encoder/layer_2/output/dense/bias:0, shape = (768,), *INIT_FROM_CKPT*\n",
      "INFO:tensorflow:  name = bert/encoder/layer_2/output/LayerNorm/beta:0, shape = (768,), *INIT_FROM_CKPT*\n",
      "INFO:tensorflow:  name = bert/encoder/layer_2/output/LayerNorm/gamma:0, shape = (768,), *INIT_FROM_CKPT*\n",
      "INFO:tensorflow:  name = bert/encoder/layer_3/attention/self/query/kernel:0, shape = (768, 768), *INIT_FROM_CKPT*\n",
      "INFO:tensorflow:  name = bert/encoder/layer_3/attention/self/query/bias:0, shape = (768,), *INIT_FROM_CKPT*\n",
      "INFO:tensorflow:  name = bert/encoder/layer_3/attention/self/key/kernel:0, shape = (768, 768), *INIT_FROM_CKPT*\n",
      "INFO:tensorflow:  name = bert/encoder/layer_3/attention/self/key/bias:0, shape = (768,), *INIT_FROM_CKPT*\n",
      "INFO:tensorflow:  name = bert/encoder/layer_3/attention/self/value/kernel:0, shape = (768, 768), *INIT_FROM_CKPT*\n",
      "INFO:tensorflow:  name = bert/encoder/layer_3/attention/self/value/bias:0, shape = (768,), *INIT_FROM_CKPT*\n",
      "INFO:tensorflow:  name = bert/encoder/layer_3/attention/output/dense/kernel:0, shape = (768, 768), *INIT_FROM_CKPT*\n",
      "INFO:tensorflow:  name = bert/encoder/layer_3/attention/output/dense/bias:0, shape = (768,), *INIT_FROM_CKPT*\n",
      "INFO:tensorflow:  name = bert/encoder/layer_3/attention/output/LayerNorm/beta:0, shape = (768,), *INIT_FROM_CKPT*\n",
      "INFO:tensorflow:  name = bert/encoder/layer_3/attention/output/LayerNorm/gamma:0, shape = (768,), *INIT_FROM_CKPT*\n",
      "INFO:tensorflow:  name = bert/encoder/layer_3/intermediate/dense/kernel:0, shape = (768, 3072), *INIT_FROM_CKPT*\n",
      "INFO:tensorflow:  name = bert/encoder/layer_3/intermediate/dense/bias:0, shape = (3072,), *INIT_FROM_CKPT*\n",
      "INFO:tensorflow:  name = bert/encoder/layer_3/output/dense/kernel:0, shape = (3072, 768), *INIT_FROM_CKPT*\n",
      "INFO:tensorflow:  name = bert/encoder/layer_3/output/dense/bias:0, shape = (768,), *INIT_FROM_CKPT*\n",
      "INFO:tensorflow:  name = bert/encoder/layer_3/output/LayerNorm/beta:0, shape = (768,), *INIT_FROM_CKPT*\n",
      "INFO:tensorflow:  name = bert/encoder/layer_3/output/LayerNorm/gamma:0, shape = (768,), *INIT_FROM_CKPT*\n",
      "INFO:tensorflow:  name = bert/encoder/layer_4/attention/self/query/kernel:0, shape = (768, 768), *INIT_FROM_CKPT*\n",
      "INFO:tensorflow:  name = bert/encoder/layer_4/attention/self/query/bias:0, shape = (768,), *INIT_FROM_CKPT*\n",
      "INFO:tensorflow:  name = bert/encoder/layer_4/attention/self/key/kernel:0, shape = (768, 768), *INIT_FROM_CKPT*\n",
      "INFO:tensorflow:  name = bert/encoder/layer_4/attention/self/key/bias:0, shape = (768,), *INIT_FROM_CKPT*\n",
      "INFO:tensorflow:  name = bert/encoder/layer_4/attention/self/value/kernel:0, shape = (768, 768), *INIT_FROM_CKPT*\n",
      "INFO:tensorflow:  name = bert/encoder/layer_4/attention/self/value/bias:0, shape = (768,), *INIT_FROM_CKPT*\n",
      "INFO:tensorflow:  name = bert/encoder/layer_4/attention/output/dense/kernel:0, shape = (768, 768), *INIT_FROM_CKPT*\n",
      "INFO:tensorflow:  name = bert/encoder/layer_4/attention/output/dense/bias:0, shape = (768,), *INIT_FROM_CKPT*\n",
      "INFO:tensorflow:  name = bert/encoder/layer_4/attention/output/LayerNorm/beta:0, shape = (768,), *INIT_FROM_CKPT*\n",
      "INFO:tensorflow:  name = bert/encoder/layer_4/attention/output/LayerNorm/gamma:0, shape = (768,), *INIT_FROM_CKPT*\n",
      "INFO:tensorflow:  name = bert/encoder/layer_4/intermediate/dense/kernel:0, shape = (768, 3072), *INIT_FROM_CKPT*\n",
      "INFO:tensorflow:  name = bert/encoder/layer_4/intermediate/dense/bias:0, shape = (3072,), *INIT_FROM_CKPT*\n",
      "INFO:tensorflow:  name = bert/encoder/layer_4/output/dense/kernel:0, shape = (3072, 768), *INIT_FROM_CKPT*\n",
      "INFO:tensorflow:  name = bert/encoder/layer_4/output/dense/bias:0, shape = (768,), *INIT_FROM_CKPT*\n",
      "INFO:tensorflow:  name = bert/encoder/layer_4/output/LayerNorm/beta:0, shape = (768,), *INIT_FROM_CKPT*\n",
      "INFO:tensorflow:  name = bert/encoder/layer_4/output/LayerNorm/gamma:0, shape = (768,), *INIT_FROM_CKPT*\n",
      "INFO:tensorflow:  name = bert/encoder/layer_5/attention/self/query/kernel:0, shape = (768, 768), *INIT_FROM_CKPT*\n",
      "INFO:tensorflow:  name = bert/encoder/layer_5/attention/self/query/bias:0, shape = (768,), *INIT_FROM_CKPT*\n",
      "INFO:tensorflow:  name = bert/encoder/layer_5/attention/self/key/kernel:0, shape = (768, 768), *INIT_FROM_CKPT*\n",
      "INFO:tensorflow:  name = bert/encoder/layer_5/attention/self/key/bias:0, shape = (768,), *INIT_FROM_CKPT*\n",
      "INFO:tensorflow:  name = bert/encoder/layer_5/attention/self/value/kernel:0, shape = (768, 768), *INIT_FROM_CKPT*\n",
      "INFO:tensorflow:  name = bert/encoder/layer_5/attention/self/value/bias:0, shape = (768,), *INIT_FROM_CKPT*\n",
      "INFO:tensorflow:  name = bert/encoder/layer_5/attention/output/dense/kernel:0, shape = (768, 768), *INIT_FROM_CKPT*\n",
      "INFO:tensorflow:  name = bert/encoder/layer_5/attention/output/dense/bias:0, shape = (768,), *INIT_FROM_CKPT*\n",
      "INFO:tensorflow:  name = bert/encoder/layer_5/attention/output/LayerNorm/beta:0, shape = (768,), *INIT_FROM_CKPT*\n",
      "INFO:tensorflow:  name = bert/encoder/layer_5/attention/output/LayerNorm/gamma:0, shape = (768,), *INIT_FROM_CKPT*\n",
      "INFO:tensorflow:  name = bert/encoder/layer_5/intermediate/dense/kernel:0, shape = (768, 3072), *INIT_FROM_CKPT*\n",
      "INFO:tensorflow:  name = bert/encoder/layer_5/intermediate/dense/bias:0, shape = (3072,), *INIT_FROM_CKPT*\n",
      "INFO:tensorflow:  name = bert/encoder/layer_5/output/dense/kernel:0, shape = (3072, 768), *INIT_FROM_CKPT*\n",
      "INFO:tensorflow:  name = bert/encoder/layer_5/output/dense/bias:0, shape = (768,), *INIT_FROM_CKPT*\n",
      "INFO:tensorflow:  name = bert/encoder/layer_5/output/LayerNorm/beta:0, shape = (768,), *INIT_FROM_CKPT*\n",
      "INFO:tensorflow:  name = bert/encoder/layer_5/output/LayerNorm/gamma:0, shape = (768,), *INIT_FROM_CKPT*\n",
      "INFO:tensorflow:  name = bert/encoder/layer_6/attention/self/query/kernel:0, shape = (768, 768), *INIT_FROM_CKPT*\n",
      "INFO:tensorflow:  name = bert/encoder/layer_6/attention/self/query/bias:0, shape = (768,), *INIT_FROM_CKPT*\n",
      "INFO:tensorflow:  name = bert/encoder/layer_6/attention/self/key/kernel:0, shape = (768, 768), *INIT_FROM_CKPT*\n",
      "INFO:tensorflow:  name = bert/encoder/layer_6/attention/self/key/bias:0, shape = (768,), *INIT_FROM_CKPT*\n",
      "INFO:tensorflow:  name = bert/encoder/layer_6/attention/self/value/kernel:0, shape = (768, 768), *INIT_FROM_CKPT*\n",
      "INFO:tensorflow:  name = bert/encoder/layer_6/attention/self/value/bias:0, shape = (768,), *INIT_FROM_CKPT*\n",
      "INFO:tensorflow:  name = bert/encoder/layer_6/attention/output/dense/kernel:0, shape = (768, 768), *INIT_FROM_CKPT*\n",
      "INFO:tensorflow:  name = bert/encoder/layer_6/attention/output/dense/bias:0, shape = (768,), *INIT_FROM_CKPT*\n",
      "INFO:tensorflow:  name = bert/encoder/layer_6/attention/output/LayerNorm/beta:0, shape = (768,), *INIT_FROM_CKPT*\n",
      "INFO:tensorflow:  name = bert/encoder/layer_6/attention/output/LayerNorm/gamma:0, shape = (768,), *INIT_FROM_CKPT*\n",
      "INFO:tensorflow:  name = bert/encoder/layer_6/intermediate/dense/kernel:0, shape = (768, 3072), *INIT_FROM_CKPT*\n",
      "INFO:tensorflow:  name = bert/encoder/layer_6/intermediate/dense/bias:0, shape = (3072,), *INIT_FROM_CKPT*\n",
      "INFO:tensorflow:  name = bert/encoder/layer_6/output/dense/kernel:0, shape = (3072, 768), *INIT_FROM_CKPT*\n",
      "INFO:tensorflow:  name = bert/encoder/layer_6/output/dense/bias:0, shape = (768,), *INIT_FROM_CKPT*\n",
      "INFO:tensorflow:  name = bert/encoder/layer_6/output/LayerNorm/beta:0, shape = (768,), *INIT_FROM_CKPT*\n",
      "INFO:tensorflow:  name = bert/encoder/layer_6/output/LayerNorm/gamma:0, shape = (768,), *INIT_FROM_CKPT*\n",
      "INFO:tensorflow:  name = bert/encoder/layer_7/attention/self/query/kernel:0, shape = (768, 768), *INIT_FROM_CKPT*\n",
      "INFO:tensorflow:  name = bert/encoder/layer_7/attention/self/query/bias:0, shape = (768,), *INIT_FROM_CKPT*\n",
      "INFO:tensorflow:  name = bert/encoder/layer_7/attention/self/key/kernel:0, shape = (768, 768), *INIT_FROM_CKPT*\n",
      "INFO:tensorflow:  name = bert/encoder/layer_7/attention/self/key/bias:0, shape = (768,), *INIT_FROM_CKPT*\n",
      "INFO:tensorflow:  name = bert/encoder/layer_7/attention/self/value/kernel:0, shape = (768, 768), *INIT_FROM_CKPT*\n",
      "INFO:tensorflow:  name = bert/encoder/layer_7/attention/self/value/bias:0, shape = (768,), *INIT_FROM_CKPT*\n",
      "INFO:tensorflow:  name = bert/encoder/layer_7/attention/output/dense/kernel:0, shape = (768, 768), *INIT_FROM_CKPT*\n",
      "INFO:tensorflow:  name = bert/encoder/layer_7/attention/output/dense/bias:0, shape = (768,), *INIT_FROM_CKPT*\n",
      "INFO:tensorflow:  name = bert/encoder/layer_7/attention/output/LayerNorm/beta:0, shape = (768,), *INIT_FROM_CKPT*\n",
      "INFO:tensorflow:  name = bert/encoder/layer_7/attention/output/LayerNorm/gamma:0, shape = (768,), *INIT_FROM_CKPT*\n",
      "INFO:tensorflow:  name = bert/encoder/layer_7/intermediate/dense/kernel:0, shape = (768, 3072), *INIT_FROM_CKPT*\n",
      "INFO:tensorflow:  name = bert/encoder/layer_7/intermediate/dense/bias:0, shape = (3072,), *INIT_FROM_CKPT*\n",
      "INFO:tensorflow:  name = bert/encoder/layer_7/output/dense/kernel:0, shape = (3072, 768), *INIT_FROM_CKPT*\n",
      "INFO:tensorflow:  name = bert/encoder/layer_7/output/dense/bias:0, shape = (768,), *INIT_FROM_CKPT*\n",
      "INFO:tensorflow:  name = bert/encoder/layer_7/output/LayerNorm/beta:0, shape = (768,), *INIT_FROM_CKPT*\n",
      "INFO:tensorflow:  name = bert/encoder/layer_7/output/LayerNorm/gamma:0, shape = (768,), *INIT_FROM_CKPT*\n",
      "INFO:tensorflow:  name = bert/encoder/layer_8/attention/self/query/kernel:0, shape = (768, 768), *INIT_FROM_CKPT*\n",
      "INFO:tensorflow:  name = bert/encoder/layer_8/attention/self/query/bias:0, shape = (768,), *INIT_FROM_CKPT*\n",
      "INFO:tensorflow:  name = bert/encoder/layer_8/attention/self/key/kernel:0, shape = (768, 768), *INIT_FROM_CKPT*\n",
      "INFO:tensorflow:  name = bert/encoder/layer_8/attention/self/key/bias:0, shape = (768,), *INIT_FROM_CKPT*\n",
      "INFO:tensorflow:  name = bert/encoder/layer_8/attention/self/value/kernel:0, shape = (768, 768), *INIT_FROM_CKPT*\n",
      "INFO:tensorflow:  name = bert/encoder/layer_8/attention/self/value/bias:0, shape = (768,), *INIT_FROM_CKPT*\n",
      "INFO:tensorflow:  name = bert/encoder/layer_8/attention/output/dense/kernel:0, shape = (768, 768), *INIT_FROM_CKPT*\n",
      "INFO:tensorflow:  name = bert/encoder/layer_8/attention/output/dense/bias:0, shape = (768,), *INIT_FROM_CKPT*\n",
      "INFO:tensorflow:  name = bert/encoder/layer_8/attention/output/LayerNorm/beta:0, shape = (768,), *INIT_FROM_CKPT*\n",
      "INFO:tensorflow:  name = bert/encoder/layer_8/attention/output/LayerNorm/gamma:0, shape = (768,), *INIT_FROM_CKPT*\n",
      "INFO:tensorflow:  name = bert/encoder/layer_8/intermediate/dense/kernel:0, shape = (768, 3072), *INIT_FROM_CKPT*\n",
      "INFO:tensorflow:  name = bert/encoder/layer_8/intermediate/dense/bias:0, shape = (3072,), *INIT_FROM_CKPT*\n",
      "INFO:tensorflow:  name = bert/encoder/layer_8/output/dense/kernel:0, shape = (3072, 768), *INIT_FROM_CKPT*\n",
      "INFO:tensorflow:  name = bert/encoder/layer_8/output/dense/bias:0, shape = (768,), *INIT_FROM_CKPT*\n",
      "INFO:tensorflow:  name = bert/encoder/layer_8/output/LayerNorm/beta:0, shape = (768,), *INIT_FROM_CKPT*\n",
      "INFO:tensorflow:  name = bert/encoder/layer_8/output/LayerNorm/gamma:0, shape = (768,), *INIT_FROM_CKPT*\n",
      "INFO:tensorflow:  name = bert/encoder/layer_9/attention/self/query/kernel:0, shape = (768, 768), *INIT_FROM_CKPT*\n",
      "INFO:tensorflow:  name = bert/encoder/layer_9/attention/self/query/bias:0, shape = (768,), *INIT_FROM_CKPT*\n",
      "INFO:tensorflow:  name = bert/encoder/layer_9/attention/self/key/kernel:0, shape = (768, 768), *INIT_FROM_CKPT*\n",
      "INFO:tensorflow:  name = bert/encoder/layer_9/attention/self/key/bias:0, shape = (768,), *INIT_FROM_CKPT*\n",
      "INFO:tensorflow:  name = bert/encoder/layer_9/attention/self/value/kernel:0, shape = (768, 768), *INIT_FROM_CKPT*\n",
      "INFO:tensorflow:  name = bert/encoder/layer_9/attention/self/value/bias:0, shape = (768,), *INIT_FROM_CKPT*\n",
      "INFO:tensorflow:  name = bert/encoder/layer_9/attention/output/dense/kernel:0, shape = (768, 768), *INIT_FROM_CKPT*\n",
      "INFO:tensorflow:  name = bert/encoder/layer_9/attention/output/dense/bias:0, shape = (768,), *INIT_FROM_CKPT*\n",
      "INFO:tensorflow:  name = bert/encoder/layer_9/attention/output/LayerNorm/beta:0, shape = (768,), *INIT_FROM_CKPT*\n",
      "INFO:tensorflow:  name = bert/encoder/layer_9/attention/output/LayerNorm/gamma:0, shape = (768,), *INIT_FROM_CKPT*\n",
      "INFO:tensorflow:  name = bert/encoder/layer_9/intermediate/dense/kernel:0, shape = (768, 3072), *INIT_FROM_CKPT*\n",
      "INFO:tensorflow:  name = bert/encoder/layer_9/intermediate/dense/bias:0, shape = (3072,), *INIT_FROM_CKPT*\n",
      "INFO:tensorflow:  name = bert/encoder/layer_9/output/dense/kernel:0, shape = (3072, 768), *INIT_FROM_CKPT*\n",
      "INFO:tensorflow:  name = bert/encoder/layer_9/output/dense/bias:0, shape = (768,), *INIT_FROM_CKPT*\n",
      "INFO:tensorflow:  name = bert/encoder/layer_9/output/LayerNorm/beta:0, shape = (768,), *INIT_FROM_CKPT*\n",
      "INFO:tensorflow:  name = bert/encoder/layer_9/output/LayerNorm/gamma:0, shape = (768,), *INIT_FROM_CKPT*\n",
      "INFO:tensorflow:  name = bert/encoder/layer_10/attention/self/query/kernel:0, shape = (768, 768), *INIT_FROM_CKPT*\n",
      "INFO:tensorflow:  name = bert/encoder/layer_10/attention/self/query/bias:0, shape = (768,), *INIT_FROM_CKPT*\n",
      "INFO:tensorflow:  name = bert/encoder/layer_10/attention/self/key/kernel:0, shape = (768, 768), *INIT_FROM_CKPT*\n",
      "INFO:tensorflow:  name = bert/encoder/layer_10/attention/self/key/bias:0, shape = (768,), *INIT_FROM_CKPT*\n",
      "INFO:tensorflow:  name = bert/encoder/layer_10/attention/self/value/kernel:0, shape = (768, 768), *INIT_FROM_CKPT*\n",
      "INFO:tensorflow:  name = bert/encoder/layer_10/attention/self/value/bias:0, shape = (768,), *INIT_FROM_CKPT*\n",
      "INFO:tensorflow:  name = bert/encoder/layer_10/attention/output/dense/kernel:0, shape = (768, 768), *INIT_FROM_CKPT*\n",
      "INFO:tensorflow:  name = bert/encoder/layer_10/attention/output/dense/bias:0, shape = (768,), *INIT_FROM_CKPT*\n",
      "INFO:tensorflow:  name = bert/encoder/layer_10/attention/output/LayerNorm/beta:0, shape = (768,), *INIT_FROM_CKPT*\n",
      "INFO:tensorflow:  name = bert/encoder/layer_10/attention/output/LayerNorm/gamma:0, shape = (768,), *INIT_FROM_CKPT*\n",
      "INFO:tensorflow:  name = bert/encoder/layer_10/intermediate/dense/kernel:0, shape = (768, 3072), *INIT_FROM_CKPT*\n",
      "INFO:tensorflow:  name = bert/encoder/layer_10/intermediate/dense/bias:0, shape = (3072,), *INIT_FROM_CKPT*\n",
      "INFO:tensorflow:  name = bert/encoder/layer_10/output/dense/kernel:0, shape = (3072, 768), *INIT_FROM_CKPT*\n",
      "INFO:tensorflow:  name = bert/encoder/layer_10/output/dense/bias:0, shape = (768,), *INIT_FROM_CKPT*\n",
      "INFO:tensorflow:  name = bert/encoder/layer_10/output/LayerNorm/beta:0, shape = (768,), *INIT_FROM_CKPT*\n",
      "INFO:tensorflow:  name = bert/encoder/layer_10/output/LayerNorm/gamma:0, shape = (768,), *INIT_FROM_CKPT*\n",
      "INFO:tensorflow:  name = bert/encoder/layer_11/attention/self/query/kernel:0, shape = (768, 768), *INIT_FROM_CKPT*\n",
      "INFO:tensorflow:  name = bert/encoder/layer_11/attention/self/query/bias:0, shape = (768,), *INIT_FROM_CKPT*\n",
      "INFO:tensorflow:  name = bert/encoder/layer_11/attention/self/key/kernel:0, shape = (768, 768), *INIT_FROM_CKPT*\n",
      "INFO:tensorflow:  name = bert/encoder/layer_11/attention/self/key/bias:0, shape = (768,), *INIT_FROM_CKPT*\n",
      "INFO:tensorflow:  name = bert/encoder/layer_11/attention/self/value/kernel:0, shape = (768, 768), *INIT_FROM_CKPT*\n",
      "INFO:tensorflow:  name = bert/encoder/layer_11/attention/self/value/bias:0, shape = (768,), *INIT_FROM_CKPT*\n",
      "INFO:tensorflow:  name = bert/encoder/layer_11/attention/output/dense/kernel:0, shape = (768, 768), *INIT_FROM_CKPT*\n",
      "INFO:tensorflow:  name = bert/encoder/layer_11/attention/output/dense/bias:0, shape = (768,), *INIT_FROM_CKPT*\n",
      "INFO:tensorflow:  name = bert/encoder/layer_11/attention/output/LayerNorm/beta:0, shape = (768,), *INIT_FROM_CKPT*\n",
      "INFO:tensorflow:  name = bert/encoder/layer_11/attention/output/LayerNorm/gamma:0, shape = (768,), *INIT_FROM_CKPT*\n",
      "INFO:tensorflow:  name = bert/encoder/layer_11/intermediate/dense/kernel:0, shape = (768, 3072), *INIT_FROM_CKPT*\n",
      "INFO:tensorflow:  name = bert/encoder/layer_11/intermediate/dense/bias:0, shape = (3072,), *INIT_FROM_CKPT*\n",
      "INFO:tensorflow:  name = bert/encoder/layer_11/output/dense/kernel:0, shape = (3072, 768), *INIT_FROM_CKPT*\n",
      "INFO:tensorflow:  name = bert/encoder/layer_11/output/dense/bias:0, shape = (768,), *INIT_FROM_CKPT*\n",
      "INFO:tensorflow:  name = bert/encoder/layer_11/output/LayerNorm/beta:0, shape = (768,), *INIT_FROM_CKPT*\n",
      "INFO:tensorflow:  name = bert/encoder/layer_11/output/LayerNorm/gamma:0, shape = (768,), *INIT_FROM_CKPT*\n",
      "INFO:tensorflow:  name = bert/pooler/dense/kernel:0, shape = (768, 768), *INIT_FROM_CKPT*\n",
      "INFO:tensorflow:  name = bert/pooler/dense/bias:0, shape = (768,), *INIT_FROM_CKPT*\n",
      "INFO:tensorflow:  name = output_weights:0, shape = (2, 768)\n",
      "INFO:tensorflow:  name = output_bias:0, shape = (2,)\n",
      "INFO:tensorflow:Done calling model_fn.\n",
      "INFO:tensorflow:Graph was finalized.\n",
      "2019-06-22 08:31:19.753481: I tensorflow/core/platform/cpu_feature_guard.cc:141] Your CPU supports instructions that this TensorFlow binary was not compiled to use: SSE4.1 SSE4.2 AVX AVX2 FMA\n",
      "2019-06-22 08:31:20.053225: I tensorflow/core/common_runtime/gpu/gpu_device.cc:1405] Found device 0 with properties: \n",
      "name: GeForce GTX 1080 Ti major: 6 minor: 1 memoryClockRate(GHz): 1.582\n",
      "pciBusID: 0000:0c:00.0\n",
      "totalMemory: 10.92GiB freeMemory: 10.76GiB\n",
      "2019-06-22 08:31:20.053278: I tensorflow/core/common_runtime/gpu/gpu_device.cc:1484] Adding visible gpu devices: 0\n",
      "2019-06-22 08:31:20.342646: I tensorflow/core/common_runtime/gpu/gpu_device.cc:965] Device interconnect StreamExecutor with strength 1 edge matrix:\n",
      "2019-06-22 08:31:20.342703: I tensorflow/core/common_runtime/gpu/gpu_device.cc:971]      0 \n",
      "2019-06-22 08:31:20.342720: I tensorflow/core/common_runtime/gpu/gpu_device.cc:984] 0:   N \n",
      "2019-06-22 08:31:20.342997: I tensorflow/core/common_runtime/gpu/gpu_device.cc:1097] Created TensorFlow device (/job:localhost/replica:0/task:0/device:GPU:0 with 10405 MB memory) -> physical GPU (device: 0, name: GeForce GTX 1080 Ti, pci bus id: 0000:0c:00.0, compute capability: 6.1)\n",
      "INFO:tensorflow:Running local_init_op.\n",
      "INFO:tensorflow:Done running local_init_op.\n"
     ]
    }
   ],
   "source": [
    "!python run_classifier.py \\\n",
    "  --task_name=call_center \\\n",
    "  --do_predict=true \\\n",
    "  --data_dir=tmp/call_center_input \\\n",
    "  --vocab_file=chinese_L-12_H-768_A-12/vocab.txt \\\n",
    "  --bert_config_file=chinese_L-12_H-768_A-12/bert_config.json \\\n",
    "  --init_checkpoint=chinese_L-12_H-768_A-12/bert_model.ckpt \\\n",
    "  --max_seq_length=128 \\\n",
    "  --output_dir=tmp/call_center_output/"
   ]
  },
  {
   "cell_type": "markdown",
   "metadata": {},
   "source": [
    "### 預測準確率"
   ]
  },
  {
   "cell_type": "code",
   "execution_count": 38,
   "metadata": {},
   "outputs": [
    {
     "data": {
      "text/plain": [
       "40"
      ]
     },
     "execution_count": 38,
     "metadata": {},
     "output_type": "execute_result"
    }
   ],
   "source": [
    "#test_df\n",
    "#test_df2 = pd.read_csv('tmp/call_center_input/test.csv')\n",
    "test_label = test_df['label'].tolist()\n",
    "len(test_label)"
   ]
  },
  {
   "cell_type": "code",
   "execution_count": 39,
   "metadata": {},
   "outputs": [],
   "source": [
    "test_predict_df = pd.read_csv('tmp/call_center_output/test_results.tsv',header=None,sep = '\\t')\n",
    "#test_predict_df"
   ]
  },
  {
   "cell_type": "code",
   "execution_count": 40,
   "metadata": {},
   "outputs": [],
   "source": [
    "# a=np.argmax(test_predict_df.as_matrix(), axis=-1)  \n",
    "# a"
   ]
  },
  {
   "cell_type": "code",
   "execution_count": 41,
   "metadata": {},
   "outputs": [
    {
     "name": "stderr",
     "output_type": "stream",
     "text": [
      "/opt/conda/lib/python3.6/site-packages/ipykernel_launcher.py:1: FutureWarning: Method .as_matrix will be removed in a future version. Use .values instead.\n",
      "  \"\"\"Entry point for launching an IPython kernel.\n"
     ]
    },
    {
     "data": {
      "text/plain": [
       "0.475"
      ]
     },
     "execution_count": 41,
     "metadata": {},
     "output_type": "execute_result"
    }
   ],
   "source": [
    "test_predict_label =np.argmax(test_predict_df.as_matrix(), axis=-1)  \n",
    "#test_predict_label =a\n",
    "\n",
    "result = [1 if x==y else 0 for x,y in zip(test_label,test_predict_label)]\n",
    "\n",
    "\n",
    "sum(result)/len(result)"
   ]
  },
  {
   "cell_type": "code",
   "execution_count": 42,
   "metadata": {},
   "outputs": [],
   "source": [
    "# category_df[category_df['category_a_target']==8].category_a.iloc[0]"
   ]
  },
  {
   "cell_type": "code",
   "execution_count": 43,
   "metadata": {},
   "outputs": [
    {
     "data": {
      "text/html": [
       "<div>\n",
       "<style scoped>\n",
       "    .dataframe tbody tr th:only-of-type {\n",
       "        vertical-align: middle;\n",
       "    }\n",
       "\n",
       "    .dataframe tbody tr th {\n",
       "        vertical-align: top;\n",
       "    }\n",
       "\n",
       "    .dataframe thead th {\n",
       "        text-align: right;\n",
       "    }\n",
       "</style>\n",
       "<table border=\"1\" class=\"dataframe\">\n",
       "  <thead>\n",
       "    <tr style=\"text-align: right;\">\n",
       "      <th></th>\n",
       "      <th>id</th>\n",
       "      <th>predit</th>\n",
       "      <th>label</th>\n",
       "      <th>description</th>\n",
       "    </tr>\n",
       "  </thead>\n",
       "  <tbody>\n",
       "    <tr>\n",
       "      <th>0</th>\n",
       "      <td>3</td>\n",
       "      <td>R&amp;D資訊系統</td>\n",
       "      <td>BPM平台系統</td>\n",
       "      <td>mro 單子卡住沒有</td>\n",
       "    </tr>\n",
       "    <tr>\n",
       "      <th>1</th>\n",
       "      <td>6</td>\n",
       "      <td>BPM平台系統</td>\n",
       "      <td>內部資訊系統</td>\n",
       "      <td>我的店鬧無發連網    我是測有線網路</td>\n",
       "    </tr>\n",
       "    <tr>\n",
       "      <th>2</th>\n",
       "      <td>7</td>\n",
       "      <td>R&amp;D資訊系統</td>\n",
       "      <td>BPM平台系統</td>\n",
       "      <td>調部門導致現部門無法簽核.</td>\n",
       "    </tr>\n",
       "    <tr>\n",
       "      <th>3</th>\n",
       "      <td>8</td>\n",
       "      <td>R&amp;D資訊系統</td>\n",
       "      <td>BPM平台系統</td>\n",
       "      <td>旅費申報單</td>\n",
       "    </tr>\n",
       "    <tr>\n",
       "      <th>4</th>\n",
       "      <td>9</td>\n",
       "      <td>R&amp;D資訊系統</td>\n",
       "      <td>BPM平台系統</td>\n",
       "      <td>送出申請單時有error跳出 顯示網域帳號密碼錯誤</td>\n",
       "    </tr>\n",
       "    <tr>\n",
       "      <th>5</th>\n",
       "      <td>10</td>\n",
       "      <td>R&amp;D資訊系統</td>\n",
       "      <td>BPM平台系統</td>\n",
       "      <td>app41 無法看到簽核單</td>\n",
       "    </tr>\n",
       "    <tr>\n",
       "      <th>6</th>\n",
       "      <td>12</td>\n",
       "      <td>R&amp;D資訊系統</td>\n",
       "      <td>BPM平台系統</td>\n",
       "      <td>無法順利簽核表單  表單編號app96</td>\n",
       "    </tr>\n",
       "    <tr>\n",
       "      <th>7</th>\n",
       "      <td>13</td>\n",
       "      <td>R&amp;D資訊系統</td>\n",
       "      <td>內部資訊系統</td>\n",
       "      <td>無法驗證發行者且檔案無法播放</td>\n",
       "    </tr>\n",
       "    <tr>\n",
       "      <th>8</th>\n",
       "      <td>15</td>\n",
       "      <td>R&amp;D資訊系統</td>\n",
       "      <td>內部資訊系統</td>\n",
       "      <td>當要進入預約會議室頁面時發生下麵訊息      ''/gams'' 應用程式中發生伺服器錯誤...</td>\n",
       "    </tr>\n",
       "    <tr>\n",
       "      <th>9</th>\n",
       "      <td>17</td>\n",
       "      <td>R&amp;D資訊系統</td>\n",
       "      <td>內部資訊系統</td>\n",
       "      <td>簽核同意但系統上仍顯示簽核中</td>\n",
       "    </tr>\n",
       "    <tr>\n",
       "      <th>10</th>\n",
       "      <td>19</td>\n",
       "      <td>R&amp;D資訊系統</td>\n",
       "      <td>BPM平台系統</td>\n",
       "      <td>點select</td>\n",
       "    </tr>\n",
       "    <tr>\n",
       "      <th>11</th>\n",
       "      <td>20</td>\n",
       "      <td>R&amp;D資訊系統</td>\n",
       "      <td>內部資訊系統</td>\n",
       "      <td>點選2bto be提供的連結會要求驗證輸入網域密碼仍顯示無權限</td>\n",
       "    </tr>\n",
       "    <tr>\n",
       "      <th>12</th>\n",
       "      <td>21</td>\n",
       "      <td>R&amp;D資訊系統</td>\n",
       "      <td>BPM平台系統</td>\n",
       "      <td>此表申請流程目前簽核者為vivian wu 吳淑鬱但vivian目前休假中此申請為急迫任務希...</td>\n",
       "    </tr>\n",
       "    <tr>\n",
       "      <th>13</th>\n",
       "      <td>22</td>\n",
       "      <td>R&amp;D資訊系統</td>\n",
       "      <td>內部資訊系統</td>\n",
       "      <td>ie 顯示停止作業無法撥放</td>\n",
       "    </tr>\n",
       "    <tr>\n",
       "      <th>14</th>\n",
       "      <td>23</td>\n",
       "      <td>BPM平台系統</td>\n",
       "      <td>內部資訊系統</td>\n",
       "      <td>/06/26沒有下班時間無法申報加班</td>\n",
       "    </tr>\n",
       "    <tr>\n",
       "      <th>15</th>\n",
       "      <td>24</td>\n",
       "      <td>R&amp;D資訊系統</td>\n",
       "      <td>BPM平台系統</td>\n",
       "      <td>電腦外帶証申請單 人無法帶入</td>\n",
       "    </tr>\n",
       "    <tr>\n",
       "      <th>16</th>\n",
       "      <td>32</td>\n",
       "      <td>R&amp;D資訊系統</td>\n",
       "      <td>內部資訊系統</td>\n",
       "      <td>無法傳上考績</td>\n",
       "    </tr>\n",
       "    <tr>\n",
       "      <th>17</th>\n",
       "      <td>33</td>\n",
       "      <td>R&amp;D資訊系統</td>\n",
       "      <td>內部資訊系統</td>\n",
       "      <td>新bpm 系統上線已配合重新設定代理人但代理人無法簽核請假申請單</td>\n",
       "    </tr>\n",
       "    <tr>\n",
       "      <th>18</th>\n",
       "      <td>34</td>\n",
       "      <td>R&amp;D資訊系統</td>\n",
       "      <td>BPM平台系統</td>\n",
       "      <td>因目前部門遇到組織變動導致部門代碼都有變更想請問是否能幫忙將之前所開的mro單部門代碼</td>\n",
       "    </tr>\n",
       "    <tr>\n",
       "      <th>19</th>\n",
       "      <td>38</td>\n",
       "      <td>R&amp;D資訊系統</td>\n",
       "      <td>BPM平台系統</td>\n",
       "      <td>詢問 簽核過程想加人與刪除人 該做</td>\n",
       "    </tr>\n",
       "    <tr>\n",
       "      <th>20</th>\n",
       "      <td>39</td>\n",
       "      <td>R&amp;D資訊系統</td>\n",
       "      <td>BPM平台系統</td>\n",
       "      <td>已經抽單但系統上還看到單子停留在尚未</td>\n",
       "    </tr>\n",
       "  </tbody>\n",
       "</table>\n",
       "</div>"
      ],
      "text/plain": [
       "    id   predit    label                                        description\n",
       "0    3  R&D資訊系統  BPM平台系統                                         mro 單子卡住沒有\n",
       "1    6  BPM平台系統   內部資訊系統                                我的店鬧無發連網    我是測有線網路\n",
       "2    7  R&D資訊系統  BPM平台系統                                      調部門導致現部門無法簽核.\n",
       "3    8  R&D資訊系統  BPM平台系統                                              旅費申報單\n",
       "4    9  R&D資訊系統  BPM平台系統                          送出申請單時有error跳出 顯示網域帳號密碼錯誤\n",
       "5   10  R&D資訊系統  BPM平台系統                                      app41 無法看到簽核單\n",
       "6   12  R&D資訊系統  BPM平台系統                                無法順利簽核表單  表單編號app96\n",
       "7   13  R&D資訊系統   內部資訊系統                                     無法驗證發行者且檔案無法播放\n",
       "8   15  R&D資訊系統   內部資訊系統  當要進入預約會議室頁面時發生下麵訊息      ''/gams'' 應用程式中發生伺服器錯誤...\n",
       "9   17  R&D資訊系統   內部資訊系統                                     簽核同意但系統上仍顯示簽核中\n",
       "10  19  R&D資訊系統  BPM平台系統                                            點select\n",
       "11  20  R&D資訊系統   內部資訊系統                    點選2bto be提供的連結會要求驗證輸入網域密碼仍顯示無權限\n",
       "12  21  R&D資訊系統  BPM平台系統  此表申請流程目前簽核者為vivian wu 吳淑鬱但vivian目前休假中此申請為急迫任務希...\n",
       "13  22  R&D資訊系統   內部資訊系統                                      ie 顯示停止作業無法撥放\n",
       "14  23  BPM平台系統   內部資訊系統                                 /06/26沒有下班時間無法申報加班\n",
       "15  24  R&D資訊系統  BPM平台系統                                     電腦外帶証申請單 人無法帶入\n",
       "16  32  R&D資訊系統   內部資訊系統                                             無法傳上考績\n",
       "17  33  R&D資訊系統   內部資訊系統                   新bpm 系統上線已配合重新設定代理人但代理人無法簽核請假申請單\n",
       "18  34  R&D資訊系統  BPM平台系統        因目前部門遇到組織變動導致部門代碼都有變更想請問是否能幫忙將之前所開的mro單部門代碼\n",
       "19  38  R&D資訊系統  BPM平台系統                                  詢問 簽核過程想加人與刪除人 該做\n",
       "20  39  R&D資訊系統  BPM平台系統                                 已經抽單但系統上還看到單子停留在尚未"
      ]
     },
     "execution_count": 43,
     "metadata": {},
     "output_type": "execute_result"
    }
   ],
   "source": [
    "#test_predict_label[0]\n",
    "predict_no = []\n",
    "for i in range(len(test_predict_label)):\n",
    "    if not (test_predict_label[i]==test_label[i]):\n",
    "        predict_no.append((i,\n",
    "                          #test_predict_label[i],\n",
    "                          category_df[category_df['category_a_target']==test_predict_label[i]].category_a.iloc[0],\n",
    "                          #test_label[i],\n",
    "                          category_df[category_df['category_a_target']==test_label[i]].category_a.iloc[0],\n",
    "                          test_df.iloc[i].description\n",
    "                         ))\n",
    "df_predict_no=DataFrame(predict_no)\n",
    "df_predict_no.columns = ['id','predit','label','description']\n",
    "df_predict_no"
   ]
  },
  {
   "cell_type": "code",
   "execution_count": 44,
   "metadata": {},
   "outputs": [],
   "source": [
    "#t_df=df.loc[df['description']=='人在QCA出差 密碼過期無法收發Mail']\n",
    "\n",
    "# t_df=df.loc[df['description']=='ProE 在使用  很容易被踢出  不確定是否是License 問題  或多人在使用']\n",
    "# t_df"
   ]
  },
  {
   "cell_type": "code",
   "execution_count": 45,
   "metadata": {},
   "outputs": [
    {
     "name": "stdout",
     "output_type": "stream",
     "text": [
      "40\n",
      "40\n"
     ]
    }
   ],
   "source": [
    "print(len(test_predict_label))\n",
    "print(len(test_label))"
   ]
  },
  {
   "cell_type": "code",
   "execution_count": 46,
   "metadata": {},
   "outputs": [],
   "source": [
    "# print(test_predict_label)\n",
    "# print(test_label)"
   ]
  }
 ],
 "metadata": {
  "kernelspec": {
   "display_name": "Python 3",
   "language": "python",
   "name": "python3"
  },
  "language_info": {
   "codemirror_mode": {
    "name": "ipython",
    "version": 3
   },
   "file_extension": ".py",
   "mimetype": "text/x-python",
   "name": "python",
   "nbconvert_exporter": "python",
   "pygments_lexer": "ipython3",
   "version": "3.6.6"
  }
 },
 "nbformat": 4,
 "nbformat_minor": 2
}
